{
  "nbformat": 4,
  "nbformat_minor": 0,
  "metadata": {
    "colab": {
      "name": "Copie de RS_assessement.ipynb",
      "provenance": [],
      "collapsed_sections": [
        "egnuyQarMKIM",
        "_zF15QlNy6ZP",
        "aU-4kugIMUa9",
        "wsMkABesDgjz",
        "AIvf5HRHxZ8Z",
        "7667V1d1Ilht",
        "RiY4ehVSIoJx",
        "oIM4w1vnAudj",
        "uFV2jEy7OlaX",
        "CalzaNVYOpTm",
        "vZjtlpgKOUoF"
      ],
      "toc_visible": true,
      "mount_file_id": "1DYTuQ-INqhjWwUVD0-_jRxhjLhktuocq",
      "authorship_tag": "ABX9TyMaItIQtuxpHfISIxCZf1/B",
      "include_colab_link": true
    },
    "kernelspec": {
      "name": "python3",
      "display_name": "Python 3"
    }
  },
  "cells": [
    {
      "cell_type": "markdown",
      "metadata": {
        "id": "view-in-github",
        "colab_type": "text"
      },
      "source": [
        "<a href=\"https://colab.research.google.com/github/phsimon/LSTM_Last.fm/blob/main/RS/RS_assessement.ipynb\" target=\"_parent\"><img src=\"https://colab.research.google.com/assets/colab-badge.svg\" alt=\"Open In Colab\"/></a>"
      ]
    },
    {
      "cell_type": "markdown",
      "metadata": {
        "id": "egnuyQarMKIM"
      },
      "source": [
        "# Retrieve data from repository"
      ]
    },
    {
      "cell_type": "code",
      "metadata": {
        "id": "bSZEWU7FMB02"
      },
      "source": [
        "import pandas as pd\n",
        "my_path=\"/content/drive/MyDrive/ColabNotebooks/publication/publi_github/\""
      ],
      "execution_count": 27,
      "outputs": []
    },
    {
      "cell_type": "code",
      "metadata": {
        "colab": {
          "base_uri": "https://localhost:8080/"
        },
        "id": "-08sL48qN65Q",
        "outputId": "bd7d1b7a-181a-42a7-e94e-a44fd458053a"
      },
      "source": [
        "# install lenskit\n",
        "%pip install lenskit"
      ],
      "execution_count": 28,
      "outputs": [
        {
          "output_type": "stream",
          "text": [
            "Requirement already satisfied: lenskit in /usr/local/lib/python3.7/dist-packages (0.12.3)\n",
            "Requirement already satisfied: scipy>=1.2 in /usr/local/lib/python3.7/dist-packages (from lenskit) (1.4.1)\n",
            "Requirement already satisfied: pyarrow>=0.15 in /usr/local/lib/python3.7/dist-packages (from lenskit) (3.0.0)\n",
            "Requirement already satisfied: numpy>=1.16 in /usr/local/lib/python3.7/dist-packages (from lenskit) (1.19.5)\n",
            "Requirement already satisfied: csr<0.3,>=0.2 in /usr/local/lib/python3.7/dist-packages (from lenskit) (0.2.0)\n",
            "Requirement already satisfied: numba<0.53,>=0.51 in /usr/local/lib/python3.7/dist-packages (from lenskit) (0.51.2)\n",
            "Requirement already satisfied: pandas>=0.24 in /usr/local/lib/python3.7/dist-packages (from lenskit) (1.1.5)\n",
            "Requirement already satisfied: cffi>=1.12.2 in /usr/local/lib/python3.7/dist-packages (from lenskit) (1.14.5)\n",
            "Requirement already satisfied: binpickle>=0.3.2 in /usr/local/lib/python3.7/dist-packages (from lenskit) (0.3.3)\n",
            "Requirement already satisfied: setuptools in /usr/local/lib/python3.7/dist-packages (from numba<0.53,>=0.51->lenskit) (56.0.0)\n",
            "Requirement already satisfied: llvmlite<0.35,>=0.34.0.dev0 in /usr/local/lib/python3.7/dist-packages (from numba<0.53,>=0.51->lenskit) (0.34.0)\n",
            "Requirement already satisfied: pytz>=2017.2 in /usr/local/lib/python3.7/dist-packages (from pandas>=0.24->lenskit) (2018.9)\n",
            "Requirement already satisfied: python-dateutil>=2.7.3 in /usr/local/lib/python3.7/dist-packages (from pandas>=0.24->lenskit) (2.8.1)\n",
            "Requirement already satisfied: pycparser in /usr/local/lib/python3.7/dist-packages (from cffi>=1.12.2->lenskit) (2.20)\n",
            "Requirement already satisfied: msgpack>=1.0 in /usr/local/lib/python3.7/dist-packages (from binpickle>=0.3.2->lenskit) (1.0.2)\n",
            "Requirement already satisfied: pickle5; python_version < \"3.8\" in /usr/local/lib/python3.7/dist-packages (from binpickle>=0.3.2->lenskit) (0.0.11)\n",
            "Requirement already satisfied: six>=1.5 in /usr/local/lib/python3.7/dist-packages (from python-dateutil>=2.7.3->pandas>=0.24->lenskit) (1.15.0)\n"
          ],
          "name": "stdout"
        }
      ]
    },
    {
      "cell_type": "code",
      "metadata": {
        "id": "3qaV-n-gLuwE"
      },
      "source": [
        "def convert_df_2_dict(my_dataframe):\n",
        "  '''\n",
        "  '''\n",
        "  my_dico=my_dataframe.to_dict('split')\n",
        "  return dict(my_dico['data'])"
      ],
      "execution_count": 29,
      "outputs": []
    },
    {
      "cell_type": "code",
      "metadata": {
        "id": "AKPe4QAzL73s"
      },
      "source": [
        "import json\n",
        "\n",
        "with open(my_path+'target_ten_parameter.json') as file:\n",
        "  parameter_data = json.load(file)\n",
        "one_hot_space_size=parameter_data['one_hot_size']  \n",
        "data_train_out_valid= pd.read_csv(my_path+\"target_ten_data_train_out_valid\",index_col=0)\n",
        "data_train_out_valid_topn=pd.read_csv(my_path+\"target_ten_data_train_out_valid_topn\",index_col=0)\n",
        "data_train_out_valid_topn_without_doublon=pd.read_csv(my_path+\"target_ten_data_train_out_valid_topn_without_doublon\",index_col=0)\n",
        "data_valid=pd.read_csv(my_path+\"target_ten_data_valid\",index_col=0)\n",
        "data_valid_topn=pd.read_csv(my_path+\"target_ten_data_valid_topn\",index_col=0)\n",
        "data_valid_topn_without_doublon=pd.read_csv(my_path+\"target_ten_data_valid_topn_without_doublon\",index_col=0)\n",
        "data_train=pd.read_csv(my_path+\"target_ten_data_train\",index_col=0)\n",
        "data_test=pd.read_csv(my_path+\"target_ten_data_test\",index_col=0)\n",
        "data_test_topn=pd.read_csv(my_path+\"target_ten_data_test_topn\",index_col=0)\n",
        "data_test_topn_without_doublon=pd.read_csv(my_path+\"target_ten_data_test_topn_without_doublon\",index_col=0)\n",
        "# reconstituer les dictionnaire\n",
        "song_2_int=pd.read_csv(my_path+\"target_ten_song_2_int\")\n",
        "song_2_int=convert_df_2_dict(song_2_int)\n",
        "int_2_song=pd.read_csv(my_path+\"target_ten_int_2_song\")\n",
        "int_2_song=convert_df_2_dict(int_2_song)\n",
        "song_topn_2_int=pd.read_csv(my_path+\"target_ten_song_topn_2_int\")\n",
        "song_topn_2_int=convert_df_2_dict(song_topn_2_int)\n",
        "int_2_song_topn=pd.read_csv(my_path+\"target_ten_int_2_song_topn\")\n",
        "int_2_song_topn=convert_df_2_dict(int_2_song_topn)"
      ],
      "execution_count": 30,
      "outputs": []
    },
    {
      "cell_type": "code",
      "metadata": {
        "colab": {
          "base_uri": "https://localhost:8080/",
          "height": 0
        },
        "id": "6SDjcrdjfPfE",
        "outputId": "f45d60bd-329a-44a8-8f73-924fe6971be7"
      },
      "source": [
        "data_train_out_valid_topn_without_doublon.head()"
      ],
      "execution_count": 31,
      "outputs": [
        {
          "output_type": "execute_result",
          "data": {
            "text/html": [
              "<div>\n",
              "<style scoped>\n",
              "    .dataframe tbody tr th:only-of-type {\n",
              "        vertical-align: middle;\n",
              "    }\n",
              "\n",
              "    .dataframe tbody tr th {\n",
              "        vertical-align: top;\n",
              "    }\n",
              "\n",
              "    .dataframe thead th {\n",
              "        text-align: right;\n",
              "    }\n",
              "</style>\n",
              "<table border=\"1\" class=\"dataframe\">\n",
              "  <thead>\n",
              "    <tr style=\"text-align: right;\">\n",
              "      <th></th>\n",
              "      <th>0</th>\n",
              "      <th>1</th>\n",
              "      <th>2</th>\n",
              "      <th>3</th>\n",
              "      <th>4</th>\n",
              "      <th>5</th>\n",
              "      <th>6</th>\n",
              "      <th>7</th>\n",
              "      <th>8</th>\n",
              "      <th>9</th>\n",
              "      <th>10</th>\n",
              "      <th>11</th>\n",
              "      <th>12</th>\n",
              "      <th>13</th>\n",
              "      <th>14</th>\n",
              "      <th>15</th>\n",
              "      <th>16</th>\n",
              "      <th>17</th>\n",
              "      <th>18</th>\n",
              "      <th>19</th>\n",
              "    </tr>\n",
              "  </thead>\n",
              "  <tbody>\n",
              "    <tr>\n",
              "      <th>26</th>\n",
              "      <td>603</td>\n",
              "      <td>2</td>\n",
              "      <td>265</td>\n",
              "      <td>6</td>\n",
              "      <td>998</td>\n",
              "      <td>13</td>\n",
              "      <td>74</td>\n",
              "      <td>99</td>\n",
              "      <td>958</td>\n",
              "      <td>1565</td>\n",
              "      <td>165</td>\n",
              "      <td>148</td>\n",
              "      <td>312</td>\n",
              "      <td>552</td>\n",
              "      <td>826</td>\n",
              "      <td>183</td>\n",
              "      <td>16446</td>\n",
              "      <td>689</td>\n",
              "      <td>2148</td>\n",
              "      <td>80</td>\n",
              "    </tr>\n",
              "    <tr>\n",
              "      <th>53</th>\n",
              "      <td>30401</td>\n",
              "      <td>511</td>\n",
              "      <td>6</td>\n",
              "      <td>888</td>\n",
              "      <td>4936</td>\n",
              "      <td>265</td>\n",
              "      <td>19227</td>\n",
              "      <td>25702</td>\n",
              "      <td>1047</td>\n",
              "      <td>245</td>\n",
              "      <td>5389</td>\n",
              "      <td>2482</td>\n",
              "      <td>1507</td>\n",
              "      <td>1329</td>\n",
              "      <td>1205</td>\n",
              "      <td>1212</td>\n",
              "      <td>1194</td>\n",
              "      <td>1503</td>\n",
              "      <td>6217</td>\n",
              "      <td>3050</td>\n",
              "    </tr>\n",
              "    <tr>\n",
              "      <th>169</th>\n",
              "      <td>1348</td>\n",
              "      <td>3350</td>\n",
              "      <td>826</td>\n",
              "      <td>808</td>\n",
              "      <td>814</td>\n",
              "      <td>4504</td>\n",
              "      <td>2704</td>\n",
              "      <td>1944</td>\n",
              "      <td>1480</td>\n",
              "      <td>1465</td>\n",
              "      <td>242</td>\n",
              "      <td>6333</td>\n",
              "      <td>1002</td>\n",
              "      <td>707</td>\n",
              "      <td>10122</td>\n",
              "      <td>3373</td>\n",
              "      <td>1937</td>\n",
              "      <td>1454</td>\n",
              "      <td>1862</td>\n",
              "      <td>51604</td>\n",
              "    </tr>\n",
              "    <tr>\n",
              "      <th>309</th>\n",
              "      <td>988</td>\n",
              "      <td>5208</td>\n",
              "      <td>707</td>\n",
              "      <td>5020</td>\n",
              "      <td>1565</td>\n",
              "      <td>1440</td>\n",
              "      <td>953</td>\n",
              "      <td>4777</td>\n",
              "      <td>970</td>\n",
              "      <td>22522</td>\n",
              "      <td>967</td>\n",
              "      <td>1010</td>\n",
              "      <td>1027</td>\n",
              "      <td>5158</td>\n",
              "      <td>1476</td>\n",
              "      <td>799</td>\n",
              "      <td>22569</td>\n",
              "      <td>688</td>\n",
              "      <td>3621</td>\n",
              "      <td>1941</td>\n",
              "    </tr>\n",
              "    <tr>\n",
              "      <th>569</th>\n",
              "      <td>3398</td>\n",
              "      <td>6587</td>\n",
              "      <td>30455</td>\n",
              "      <td>24620</td>\n",
              "      <td>2345</td>\n",
              "      <td>1347</td>\n",
              "      <td>2060</td>\n",
              "      <td>2969</td>\n",
              "      <td>4057</td>\n",
              "      <td>2724</td>\n",
              "      <td>2982</td>\n",
              "      <td>3316</td>\n",
              "      <td>28</td>\n",
              "      <td>19963</td>\n",
              "      <td>2385</td>\n",
              "      <td>3710</td>\n",
              "      <td>13878</td>\n",
              "      <td>16267</td>\n",
              "      <td>30657</td>\n",
              "      <td>14737</td>\n",
              "    </tr>\n",
              "  </tbody>\n",
              "</table>\n",
              "</div>"
            ],
            "text/plain": [
              "         0     1      2      3     4  ...    15     16     17     18     19\n",
              "26     603     2    265      6   998  ...   183  16446    689   2148     80\n",
              "53   30401   511      6    888  4936  ...  1212   1194   1503   6217   3050\n",
              "169   1348  3350    826    808   814  ...  3373   1937   1454   1862  51604\n",
              "309    988  5208    707   5020  1565  ...   799  22569    688   3621   1941\n",
              "569   3398  6587  30455  24620  2345  ...  3710  13878  16267  30657  14737\n",
              "\n",
              "[5 rows x 20 columns]"
            ]
          },
          "metadata": {
            "tags": []
          },
          "execution_count": 31
        }
      ]
    },
    {
      "cell_type": "markdown",
      "metadata": {
        "id": "_zF15QlNy6ZP"
      },
      "source": [
        "# Constantes"
      ]
    },
    {
      "cell_type": "code",
      "metadata": {
        "id": "eZ21fjmbzCXV"
      },
      "source": [
        "num_prediction=10"
      ],
      "execution_count": 32,
      "outputs": []
    },
    {
      "cell_type": "markdown",
      "metadata": {
        "id": "aU-4kugIMUa9"
      },
      "source": [
        "# Format data"
      ]
    },
    {
      "cell_type": "markdown",
      "metadata": {
        "id": "yILxohBhGJ8v"
      },
      "source": [
        "**Train / Test.**<br>\n",
        "The train set will consist of the data_train_out_valid_xxx set and the data_test_xxx set in part. In fact, for data_test_xxx, only the first ten will be retained for each sequence.<br>\n",
        "**Why?**<br> the objective is to be able to take measurements with classic recommendation algorithms (RS) and to compare with those obtained with LSTMs. To do this, the RS should ideally operate on the same data. However, for LSTMs, the learning is done on the “train_out_valid” set and there is a “valid” set used to control the learning. It is considered that the latter (“valid”) is not used for learning and therefore it is excluded from the dataset of classical algorithms (at least those which do not require a set of validation). The test set that is used to generate evaluation metrics is \"data_test_xxx\". For LSTMs, we proceed as follows: each history comprising exactly 20 items (note that we filter beforehand to retain only such user having a history of length 20) we take the 10 oldest as input (index from 0 to 9) and we seeks to predict the other 10 (index from 10 to 19). For the classic algos which take a \"user\" as input, this user must be known by the system to have a recommendation (there is no fit_partial service as standard for new users), then we integrate into the data_train the oldest 10 item history (the one which is used as an input for the LSTM). In practice, either u_test an unser of the test set and item_u_test_i the item i of its history, we integrate all the pairs (user, item_u_test_i) for i from 0 to 9.\n",
        "For the evaluation, we will ask for 10 recommendations for the users of the test set, and we will compare to the 10 items from india 10 to 19 (as for the LSTM).\n",
        "   \n"
      ]
    },
    {
      "cell_type": "code",
      "metadata": {
        "colab": {
          "base_uri": "https://localhost:8080/"
        },
        "id": "nDkV1QAKRS8z",
        "outputId": "736cd981-c25e-4024-ea40-f08a72bc6ec1"
      },
      "source": [
        "len(data_test_topn_without_doublon)"
      ],
      "execution_count": 33,
      "outputs": [
        {
          "output_type": "execute_result",
          "data": {
            "text/plain": [
              "126559"
            ]
          },
          "metadata": {
            "tags": []
          },
          "execution_count": 33
        }
      ]
    },
    {
      "cell_type": "code",
      "metadata": {
        "id": "1QIPAUXWMICr"
      },
      "source": [
        "# data_train_out_valid_topn_without_doublon\n",
        "tab_logs=[]\n",
        "i=1\n",
        "for j in range(len(data_train_out_valid_topn_without_doublon)):\n",
        "  #print(data_train_out_valid_topn_without_doublon.iloc[j])\n",
        "  count=0\n",
        "  for item in data_train_out_valid_topn_without_doublon.iloc[j]:\n",
        "    #tab_logs.append([i,item,((count%10)//5)*4 +1])\n",
        "    tab_logs.append([i,item,(count%10)+1])\n",
        "    count+=1\n",
        "  i+=1\n",
        "\n"
      ],
      "execution_count": 34,
      "outputs": []
    },
    {
      "cell_type": "code",
      "metadata": {
        "colab": {
          "base_uri": "https://localhost:8080/"
        },
        "id": "f-vE_phyOpmC",
        "outputId": "cc365f2f-14cd-4d87-e3e7-b1ee0123e6ad"
      },
      "source": [
        "# doit valoir len(data_train_xxx*20)\n",
        "len(tab_logs)"
      ],
      "execution_count": 35,
      "outputs": [
        {
          "output_type": "execute_result",
          "data": {
            "text/plain": [
              "113520"
            ]
          },
          "metadata": {
            "tags": []
          },
          "execution_count": 35
        }
      ]
    },
    {
      "cell_type": "code",
      "metadata": {
        "id": "zbPzcwgkmEeh"
      },
      "source": [
        "# sampling boolean\n",
        "SAMPLING=False"
      ],
      "execution_count": 36,
      "outputs": []
    },
    {
      "cell_type": "code",
      "metadata": {
        "id": "ArBfaxyJlHTm"
      },
      "source": [
        "# test set\n",
        "import numpy as np\n",
        "THRESHOLD=19\n",
        "test_set=[user for user in data_test_topn_without_doublon.index if np.count_nonzero(data_test_topn_without_doublon.loc[user])> THRESHOLD]\n",
        "#test_set=[user for user in test_set if np.count_nonzero(data_test_topn_without_doublon.loc[user])> THRESHOLD]"
      ],
      "execution_count": 37,
      "outputs": []
    },
    {
      "cell_type": "code",
      "metadata": {
        "colab": {
          "base_uri": "https://localhost:8080/"
        },
        "id": "5LwVtwqnXRT5",
        "outputId": "05d26f7b-4c04-4175-df17-3bd7db1203b1"
      },
      "source": [
        "len(test_set)"
      ],
      "execution_count": 38,
      "outputs": [
        {
          "output_type": "execute_result",
          "data": {
            "text/plain": [
              "1504"
            ]
          },
          "metadata": {
            "tags": []
          },
          "execution_count": 38
        }
      ]
    },
    {
      "cell_type": "code",
      "metadata": {
        "id": "jfz9GZFSSh71"
      },
      "source": [
        "train_set_list=[x for y in data_train_out_valid_topn_without_doublon.index for x in data_train_out_valid_topn_without_doublon.loc[y]]\n",
        "test_set_list=[x for y in test_set for x in data_test_topn_without_doublon.loc[y][:10]]\n"
      ],
      "execution_count": 39,
      "outputs": []
    },
    {
      "cell_type": "code",
      "metadata": {
        "colab": {
          "base_uri": "https://localhost:8080/"
        },
        "id": "dFJma_XOTaLw",
        "outputId": "644a5080-9816-4f6f-b8cf-1a1d5c256bf2"
      },
      "source": [
        "len(set(test_set_list))"
      ],
      "execution_count": 40,
      "outputs": [
        {
          "output_type": "execute_result",
          "data": {
            "text/plain": [
              "4671"
            ]
          },
          "metadata": {
            "tags": []
          },
          "execution_count": 40
        }
      ]
    },
    {
      "cell_type": "code",
      "metadata": {
        "id": "UpYz58ViPo9L"
      },
      "source": [
        "\n",
        "# sampling ensemble de test\n",
        "import numpy as np\n",
        "THRESHOLD=19\n",
        "sample_test_0=[user for user in data_test_topn_without_doublon.index if (user%10==0)]\n",
        "sample_test_0=[user for user in sample_test_0 if np.count_nonzero(data_test_topn_without_doublon.loc[user])> THRESHOLD]"
      ],
      "execution_count": 41,
      "outputs": []
    },
    {
      "cell_type": "code",
      "metadata": {
        "id": "cUmpKl4oGHv7"
      },
      "source": [
        "if SAMPLING: \n",
        "  # adding part of test set to train set\n",
        "  i=tab_logs[-1][0]+1  #on incrémente de 1 le dernier user de tab_logs \n",
        "  sample_test_0_reindexed={}\n",
        "  for user in sample_test_0:\n",
        "    count=0\n",
        "    for item in data_test_topn_without_doublon.loc[user][:10]:\n",
        "      #tab_logs.append([i,item,((count%10)//5)*4 +1])    \n",
        "      tab_logs.append([i,item,(count%10)+1])\n",
        "      count+=1\n",
        "    sample_test_0_reindexed[i]=list(data_test_topn_without_doublon.loc[user][10:])\n",
        "    i+=1\n",
        "  sample_test_0_user_list=list(sample_test_0_reindexed.keys())"
      ],
      "execution_count": 42,
      "outputs": []
    },
    {
      "cell_type": "code",
      "metadata": {
        "id": "DhF0Ni2-loy9"
      },
      "source": [
        "if not SAMPLING:\n",
        "  # without sampling\n",
        "  count_user=0\n",
        "  i=tab_logs[-1][0]+1  #on incrémente de 1 le dernier user de tab_logs \n",
        "  test_reindexed={}\n",
        "  for user in test_set:\n",
        "    count=0\n",
        "    count_user+=1\n",
        "    for item in data_test_topn_without_doublon.loc[user][:10]:\n",
        "      #tab_logs.append([i,item,((count%10)//5)*4 +1])    \n",
        "      tab_logs.append([i,item,(count%10)+1])\n",
        "      count+=1\n",
        "    test_reindexed[i]=list(data_test_topn_without_doublon.loc[user][10:])\n",
        "    i+=1\n",
        "\n",
        "  test_user_list=list(test_reindexed.keys())"
      ],
      "execution_count": 43,
      "outputs": []
    },
    {
      "cell_type": "code",
      "metadata": {
        "colab": {
          "base_uri": "https://localhost:8080/"
        },
        "id": "WVz07Aktl4ik",
        "outputId": "ee12d88a-33d0-4855-bc3c-ebfd6d4946f7"
      },
      "source": [
        "len(tab_logs)"
      ],
      "execution_count": 44,
      "outputs": [
        {
          "output_type": "execute_result",
          "data": {
            "text/plain": [
              "128560"
            ]
          },
          "metadata": {
            "tags": []
          },
          "execution_count": 44
        }
      ]
    },
    {
      "cell_type": "code",
      "metadata": {
        "colab": {
          "base_uri": "https://localhost:8080/"
        },
        "id": "1Dv0dLAlBgsr",
        "outputId": "d0fa5a8a-2d83-4f9d-e4d2-97ba848d2c5c"
      },
      "source": [
        "tab_logs=np.array(tab_logs)\n",
        "tab_logs.shape"
      ],
      "execution_count": 45,
      "outputs": [
        {
          "output_type": "execute_result",
          "data": {
            "text/plain": [
              "(128560, 3)"
            ]
          },
          "metadata": {
            "tags": []
          },
          "execution_count": 45
        }
      ]
    },
    {
      "cell_type": "code",
      "metadata": {
        "colab": {
          "base_uri": "https://localhost:8080/"
        },
        "id": "nlLSj36qns3c",
        "outputId": "98721148-5dc3-4186-bdd8-892b8b8497a6"
      },
      "source": [
        "liste_item=np.unique(tab_logs[:,1])\n",
        "len(liste_item)"
      ],
      "execution_count": 46,
      "outputs": [
        {
          "output_type": "execute_result",
          "data": {
            "text/plain": [
              "11025"
            ]
          },
          "metadata": {
            "tags": []
          },
          "execution_count": 46
        }
      ]
    },
    {
      "cell_type": "code",
      "metadata": {
        "colab": {
          "base_uri": "https://localhost:8080/"
        },
        "id": "45fBpB9sLl2h",
        "outputId": "a84067a6-b4d1-478b-ea47-e904a766eb44"
      },
      "source": [
        "# doit valoir len(data_train_xxx*20)+ len(data_test_xxx*10)\n",
        "print(len(tab_logs))\n",
        "print(len(data_train_out_valid_topn_without_doublon)*20+(len(test_reindexed)*10))"
      ],
      "execution_count": 47,
      "outputs": [
        {
          "output_type": "stream",
          "text": [
            "128560\n",
            "128560\n"
          ],
          "name": "stdout"
        }
      ]
    },
    {
      "cell_type": "code",
      "metadata": {
        "id": "Ia-G1ZMOWUBq"
      },
      "source": [
        "ratings=pd.DataFrame(tab_logs,columns=['user','item','rating'])"
      ],
      "execution_count": 48,
      "outputs": []
    },
    {
      "cell_type": "code",
      "metadata": {
        "id": "QuFYiAjOW02E",
        "colab": {
          "base_uri": "https://localhost:8080/",
          "height": 0
        },
        "outputId": "6c57becd-5295-44d2-8a98-84899d16674f"
      },
      "source": [
        "ratings.tail()"
      ],
      "execution_count": 49,
      "outputs": [
        {
          "output_type": "execute_result",
          "data": {
            "text/html": [
              "<div>\n",
              "<style scoped>\n",
              "    .dataframe tbody tr th:only-of-type {\n",
              "        vertical-align: middle;\n",
              "    }\n",
              "\n",
              "    .dataframe tbody tr th {\n",
              "        vertical-align: top;\n",
              "    }\n",
              "\n",
              "    .dataframe thead th {\n",
              "        text-align: right;\n",
              "    }\n",
              "</style>\n",
              "<table border=\"1\" class=\"dataframe\">\n",
              "  <thead>\n",
              "    <tr style=\"text-align: right;\">\n",
              "      <th></th>\n",
              "      <th>user</th>\n",
              "      <th>item</th>\n",
              "      <th>rating</th>\n",
              "    </tr>\n",
              "  </thead>\n",
              "  <tbody>\n",
              "    <tr>\n",
              "      <th>128555</th>\n",
              "      <td>7180</td>\n",
              "      <td>1999</td>\n",
              "      <td>6</td>\n",
              "    </tr>\n",
              "    <tr>\n",
              "      <th>128556</th>\n",
              "      <td>7180</td>\n",
              "      <td>988</td>\n",
              "      <td>7</td>\n",
              "    </tr>\n",
              "    <tr>\n",
              "      <th>128557</th>\n",
              "      <td>7180</td>\n",
              "      <td>723</td>\n",
              "      <td>8</td>\n",
              "    </tr>\n",
              "    <tr>\n",
              "      <th>128558</th>\n",
              "      <td>7180</td>\n",
              "      <td>1470</td>\n",
              "      <td>9</td>\n",
              "    </tr>\n",
              "    <tr>\n",
              "      <th>128559</th>\n",
              "      <td>7180</td>\n",
              "      <td>2558</td>\n",
              "      <td>10</td>\n",
              "    </tr>\n",
              "  </tbody>\n",
              "</table>\n",
              "</div>"
            ],
            "text/plain": [
              "        user  item  rating\n",
              "128555  7180  1999       6\n",
              "128556  7180   988       7\n",
              "128557  7180   723       8\n",
              "128558  7180  1470       9\n",
              "128559  7180  2558      10"
            ]
          },
          "metadata": {
            "tags": []
          },
          "execution_count": 49
        }
      ]
    },
    {
      "cell_type": "code",
      "metadata": {
        "colab": {
          "base_uri": "https://localhost:8080/"
        },
        "id": "w2JumS4RbxP3",
        "outputId": "22a4fdc7-4182-4f7e-bd6c-94a8ca3ec8e3"
      },
      "source": [
        "len(np.unique(ratings['user']))"
      ],
      "execution_count": 50,
      "outputs": [
        {
          "output_type": "execute_result",
          "data": {
            "text/plain": [
              "7180"
            ]
          },
          "metadata": {
            "tags": []
          },
          "execution_count": 50
        }
      ]
    },
    {
      "cell_type": "code",
      "metadata": {
        "id": "ElBifscvrJTv"
      },
      "source": [
        "average_measure={}\n",
        "average_measure['PREC'],average_measure['MAP'], average_measure['MRR'],average_measure['NDCG'] =[],[],[],[]"
      ],
      "execution_count": 51,
      "outputs": []
    },
    {
      "cell_type": "markdown",
      "metadata": {
        "id": "wsMkABesDgjz"
      },
      "source": [
        "# Random recsys"
      ]
    },
    {
      "cell_type": "code",
      "metadata": {
        "id": "yt7VTi3-DvF9"
      },
      "source": [
        "dico_reco={}\n",
        "for user in test_reindexed:\n",
        "  reco=[]\n",
        "  # selection du dernier item vu\n",
        "  reco=list(np.random.choice(liste_item, size=num_prediction*4, replace=True))\n",
        "  reco=[x for x in reco if x not in test_reindexed[user]]\n",
        "  dico_reco[user]=reco[:num_prediction]"
      ],
      "execution_count": null,
      "outputs": []
    },
    {
      "cell_type": "markdown",
      "metadata": {
        "id": "AIvf5HRHxZ8Z"
      },
      "source": [
        "# Next One (Markov Chain - or conditionnal proba)"
      ]
    },
    {
      "cell_type": "markdown",
      "metadata": {
        "id": "D4_JjLQskLkI"
      },
      "source": [
        "Two approaches:\n",
        "- look for the item just after the last seen (get_next_item_list)\n",
        "- search for all items seen after the last seen (get_next_items_list)\n",
        "\n",
        "it seems that the two methods lead to identical results for precision."
      ]
    },
    {
      "cell_type": "markdown",
      "metadata": {
        "id": "Qlawsr8ixv2i"
      },
      "source": [
        "Getting recommendation for users from the test dataset"
      ]
    },
    {
      "cell_type": "code",
      "metadata": {
        "id": "0h_LrSQKxuHA"
      },
      "source": [
        "from collections import Counter\n",
        "\n",
        "def get_occurrence_item(item, dataset):\n",
        "  '''\n",
        "    :param item : int item identifiant\n",
        "    :dataset : dataframe each line content the list of item a user has viewed\n",
        "    :return dataset_filtered: list with only the line which content the item\n",
        "  '''\n",
        "  tab_occu_item=[]\n",
        "  for j in range(len(dataset)):\n",
        "    ma_liste=list(dataset.iloc[j])\n",
        "    if item in ma_liste and ma_liste[-1]!=item:\n",
        "      tab_occu_item.append(ma_liste)\n",
        "  return tab_occu_item    \n",
        "\n",
        "\n",
        "def get_next_item_list(item, dataset, size_list):\n",
        "  '''\n",
        "    :param item : int item identifiant\n",
        "    :dataset : dataframe each line content the list of item a user has viewed\n",
        "    :size_list : nombre d'items souhaités\n",
        "    :return list_item: list of user identifiant sortered by popularity\n",
        "  '''\n",
        "  #obtention des enregistrements contenant \"item\" (pas en dernière position)\n",
        "  tab_occ=[]\n",
        "  tab_occ_item=get_occurrence_item(item,dataset)\n",
        "  #enregistrement des co-occurrences\n",
        "  for i in range(len(tab_occ_item)):\n",
        "    history=tab_occ_item[i]\n",
        "    # identification de la position de \"item\"\n",
        "    index_item=history.index(item)\n",
        "    #enregistrement de l'item suivant, toujours possible car item n'est pas en dernière position\n",
        "    tab_occ.append(history[index_item+1])\n",
        "  result=Counter(tab_occ)\n",
        "  result=sorted(result.items(),key=lambda t: t[1],reverse=True)\n",
        "  result1=[x[0] for x in result[:size_list]]\n",
        "  return result1,result  \n",
        "\n",
        "def get_back_item_list(item, dataset, size_list):\n",
        "  '''\n",
        "    :param item : int item identifiant\n",
        "    :dataset : dataframe each line content the list of item a user has viewed\n",
        "    :size_list : nombre d'items souhaités\n",
        "    :return list_item: list of user identifiant sortered by popularity\n",
        "  '''\n",
        "  #obtention des enregistrements contenant \"item\" (pas en dernière position)\n",
        "  tab_occ=[]\n",
        "  tab_occ_item=get_occurrence_item(item,dataset)\n",
        "  #enregistrement des co-occurrences\n",
        "  for i in range(len(tab_occ_item)):\n",
        "    history=tab_occ_item[i]\n",
        "    # identification de la position de \"item\"\n",
        "    index_item=history.index(item)\n",
        "    #enregistrement de l'item précédent, toujours possible car item n'est pas en dernière première position\n",
        "    tab_occ.append(history[index_item-1])\n",
        "  result=Counter(tab_occ)\n",
        "  result=sorted(result.items(),key=lambda t: t[1],reverse=True)\n",
        "  result1=[x[0] for x in result[:size_list]]\n",
        "  return result1,result \n",
        "\n",
        "\n",
        "def get_next_items_list(item, dataset, size_list):\n",
        "  '''\n",
        "    :param item : int item identifiant\n",
        "    :dataset : dataframe each line content the list of item a user has viewed\n",
        "    :size_list : nombre d'items souhaités\n",
        "    :return list_item: list of user identifiant sortered by popularity\n",
        "  '''\n",
        "  #obtention des enregistrements contenant \"item\" (pas en dernière position)\n",
        "  tab_occ=[]\n",
        "  tab_occ_item=get_occurrence_item(item,dataset)\n",
        "  #enregistrement des co-occurrences\n",
        "  for i in range(len(tab_occ_item)):\n",
        "    history=tab_occ_item[i]\n",
        "    # identification de la position de \"item\"\n",
        "    index_item=history.index(item)\n",
        "    #enregistrement de l'item suivant, toujours possible car item n'est pas en dernière position\n",
        "    for content in history[index_item+1:]:\n",
        "      tab_occ.append(content)\n",
        "  result=Counter(tab_occ)\n",
        "  result=sorted(result.items(),key=lambda t: t[1],reverse=True)\n",
        "  result1=[x[0] for x in result[:size_list]]\n",
        "  return result1, result\n",
        "\n",
        "\n",
        "def get_back_items_list(item, dataset, size_list):\n",
        "  '''\n",
        "    :param item : int item identifiant\n",
        "    :dataset : dataframe each line content the list of item a user has viewed\n",
        "    :size_list : nombre d'items souhaités\n",
        "    :return list_item: list of user identifiant sortered by popularity\n",
        "  '''\n",
        "  #obtention des enregistrements contenant \"item\" (pas en dernière position)\n",
        "  tab_occ=[]\n",
        "  tab_occ_item=get_occurrence_item(item,dataset)\n",
        "  #enregistrement des co-occurrences\n",
        "  for i in range(len(tab_occ_item)):\n",
        "    history=tab_occ_item[i]\n",
        "    # identification de la position de \"item\"\n",
        "    index_item=history.index(item)\n",
        "    #enregistrement de l'item précédent, toujours possible car item n'est pas en première position\n",
        "    for content in history[:index_item]:\n",
        "      tab_occ.append(content)\n",
        "  result=Counter(tab_occ)\n",
        "  result=sorted(result.items(),key=lambda t: t[1],reverse=True)\n",
        "  result1=[x[0] for x in result[:size_list]]\n",
        "  return result1,result\n",
        "\n"
      ],
      "execution_count": 52,
      "outputs": []
    },
    {
      "cell_type": "code",
      "metadata": {
        "id": "CwVxfo-MJuZJ"
      },
      "source": [
        "# test unitaire\n",
        "ma_tab=get_occurrence_item(2,data_train_out_valid_topn_without_doublon)\n",
        "result=get_back_items_list(2,data_train_out_valid_topn_without_doublon,5)[0]"
      ],
      "execution_count": null,
      "outputs": []
    },
    {
      "cell_type": "code",
      "metadata": {
        "colab": {
          "base_uri": "https://localhost:8080/"
        },
        "id": "AFiRUBwXXG5C",
        "outputId": "02002087-e593-4f64-90d0-9015ed7c318c"
      },
      "source": [
        "# test unitaire\n",
        "print(result)"
      ],
      "execution_count": null,
      "outputs": [
        {
          "output_type": "stream",
          "text": [
            "[148, 13, 603, 99, 77]\n"
          ],
          "name": "stdout"
        }
      ]
    },
    {
      "cell_type": "code",
      "metadata": {
        "id": "dmx3ip-Rx04-"
      },
      "source": [
        "dico_reco={}\n",
        "for user in test_reindexed:\n",
        "  # selection du dernier item vu\n",
        "  last_item=test_reindexed[user][-1]\n",
        "  candidats=get_next_item_list(last_item,data_train_out_valid_topn_without_doublon,num_prediction+ THRESHOLD + 1)\n",
        "  result=[x for x in candidats if x not in test_reindexed[user]]\n",
        "  dico_reco[user]=get_next_item_list(last_item,data_train_out_valid_topn_without_doublon,num_prediction)[0]"
      ],
      "execution_count": null,
      "outputs": []
    },
    {
      "cell_type": "markdown",
      "metadata": {
        "id": "7667V1d1Ilht"
      },
      "source": [
        "# ALS"
      ]
    },
    {
      "cell_type": "code",
      "metadata": {
        "id": "exPQhRqFTOOz"
      },
      "source": [
        "from lenskit.algorithms.als import ImplicitMF\n",
        "ALS_Implicit=ImplicitMF(features=100,iterations=30,reg=0.1,weight=1,method='cg')"
      ],
      "execution_count": null,
      "outputs": []
    },
    {
      "cell_type": "code",
      "metadata": {
        "colab": {
          "base_uri": "https://localhost:8080/"
        },
        "id": "S6SdSuJhk2pU",
        "outputId": "204532e9-4f20-4a15-8322-20ed566b13ba"
      },
      "source": [
        "ratings[['user','item']]"
      ],
      "execution_count": null,
      "outputs": [
        {
          "output_type": "execute_result",
          "data": {
            "text/html": [
              "<div>\n",
              "<style scoped>\n",
              "    .dataframe tbody tr th:only-of-type {\n",
              "        vertical-align: middle;\n",
              "    }\n",
              "\n",
              "    .dataframe tbody tr th {\n",
              "        vertical-align: top;\n",
              "    }\n",
              "\n",
              "    .dataframe thead th {\n",
              "        text-align: right;\n",
              "    }\n",
              "</style>\n",
              "<table border=\"1\" class=\"dataframe\">\n",
              "  <thead>\n",
              "    <tr style=\"text-align: right;\">\n",
              "      <th></th>\n",
              "      <th>user</th>\n",
              "      <th>item</th>\n",
              "    </tr>\n",
              "  </thead>\n",
              "  <tbody>\n",
              "    <tr>\n",
              "      <th>0</th>\n",
              "      <td>1</td>\n",
              "      <td>603</td>\n",
              "    </tr>\n",
              "    <tr>\n",
              "      <th>1</th>\n",
              "      <td>1</td>\n",
              "      <td>2</td>\n",
              "    </tr>\n",
              "    <tr>\n",
              "      <th>2</th>\n",
              "      <td>1</td>\n",
              "      <td>265</td>\n",
              "    </tr>\n",
              "    <tr>\n",
              "      <th>3</th>\n",
              "      <td>1</td>\n",
              "      <td>6</td>\n",
              "    </tr>\n",
              "    <tr>\n",
              "      <th>4</th>\n",
              "      <td>1</td>\n",
              "      <td>998</td>\n",
              "    </tr>\n",
              "    <tr>\n",
              "      <th>...</th>\n",
              "      <td>...</td>\n",
              "      <td>...</td>\n",
              "    </tr>\n",
              "    <tr>\n",
              "      <th>128555</th>\n",
              "      <td>7180</td>\n",
              "      <td>1999</td>\n",
              "    </tr>\n",
              "    <tr>\n",
              "      <th>128556</th>\n",
              "      <td>7180</td>\n",
              "      <td>988</td>\n",
              "    </tr>\n",
              "    <tr>\n",
              "      <th>128557</th>\n",
              "      <td>7180</td>\n",
              "      <td>723</td>\n",
              "    </tr>\n",
              "    <tr>\n",
              "      <th>128558</th>\n",
              "      <td>7180</td>\n",
              "      <td>1470</td>\n",
              "    </tr>\n",
              "    <tr>\n",
              "      <th>128559</th>\n",
              "      <td>7180</td>\n",
              "      <td>2558</td>\n",
              "    </tr>\n",
              "  </tbody>\n",
              "</table>\n",
              "<p>128560 rows × 2 columns</p>\n",
              "</div>"
            ],
            "text/plain": [
              "        user  item\n",
              "0          1   603\n",
              "1          1     2\n",
              "2          1   265\n",
              "3          1     6\n",
              "4          1   998\n",
              "...      ...   ...\n",
              "128555  7180  1999\n",
              "128556  7180   988\n",
              "128557  7180   723\n",
              "128558  7180  1470\n",
              "128559  7180  2558\n",
              "\n",
              "[128560 rows x 2 columns]"
            ]
          },
          "metadata": {
            "tags": []
          },
          "execution_count": 98
        }
      ]
    },
    {
      "cell_type": "code",
      "metadata": {
        "colab": {
          "base_uri": "https://localhost:8080/"
        },
        "id": "wLv3DN6MhzHO",
        "outputId": "cc43365d-4f4c-4e0b-b91b-1b3f51bb560e"
      },
      "source": [
        "ALS_Implicit.fit(ratings[['user','item']])"
      ],
      "execution_count": null,
      "outputs": [
        {
          "output_type": "execute_result",
          "data": {
            "text/plain": [
              "<lenskit.algorithms.als.ImplicitMF at 0x7fa8685ee390>"
            ]
          },
          "metadata": {
            "tags": []
          },
          "execution_count": 99
        }
      ]
    },
    {
      "cell_type": "code",
      "metadata": {
        "colab": {
          "base_uri": "https://localhost:8080/"
        },
        "id": "jwabllnSnGOe",
        "outputId": "59b7d96b-0a83-4c75-937c-5ec1da764c2e"
      },
      "source": [
        "ALS_Implicit.fit(ratings)"
      ],
      "execution_count": null,
      "outputs": [
        {
          "output_type": "execute_result",
          "data": {
            "text/plain": [
              "<lenskit.algorithms.als.ImplicitMF at 0x7fa8685ee390>"
            ]
          },
          "metadata": {
            "tags": []
          },
          "execution_count": 100
        }
      ]
    },
    {
      "cell_type": "code",
      "metadata": {
        "id": "zWR8qWpFh5rK"
      },
      "source": [
        "prediction=ALS_Implicit.predict_for_user(test_user_list[0],np.unique(ratings[\"item\"]))"
      ],
      "execution_count": null,
      "outputs": []
    },
    {
      "cell_type": "code",
      "metadata": {
        "id": "ifrXrtSMYR6T"
      },
      "source": [
        ""
      ],
      "execution_count": null,
      "outputs": []
    },
    {
      "cell_type": "code",
      "metadata": {
        "colab": {
          "base_uri": "https://localhost:8080/"
        },
        "id": "9np-BMNpd76D",
        "outputId": "584979e7-fd82-4b25-dbad-b55cec4fc2ff"
      },
      "source": [
        "prediction.head()"
      ],
      "execution_count": null,
      "outputs": [
        {
          "output_type": "execute_result",
          "data": {
            "text/plain": [
              "1    0.198171\n",
              "2    0.835042\n",
              "4    0.060346\n",
              "5    0.013920\n",
              "6    0.041243\n",
              "dtype: float64"
            ]
          },
          "metadata": {
            "tags": []
          },
          "execution_count": 102
        }
      ]
    },
    {
      "cell_type": "code",
      "metadata": {
        "colab": {
          "base_uri": "https://localhost:8080/"
        },
        "id": "rFa3xl-DWuGP",
        "outputId": "7cb3593c-4463-4b9f-a074-4366dc3119fe"
      },
      "source": [
        "import matplotlib.pyplot as plt\n",
        "plt.hist(prediction)"
      ],
      "execution_count": null,
      "outputs": [
        {
          "output_type": "execute_result",
          "data": {
            "text/plain": [
              "(array([2.000e+01, 1.269e+03, 9.575e+03, 1.130e+02, 2.900e+01, 6.000e+00,\n",
              "        3.000e+00, 4.000e+00, 2.000e+00, 4.000e+00]),\n",
              " array([-0.24980462, -0.13239564, -0.01498667,  0.1024223 ,  0.21983128,\n",
              "         0.33724025,  0.45464922,  0.5720582 ,  0.68946717,  0.80687614,\n",
              "         0.92428512]),\n",
              " <a list of 10 Patch objects>)"
            ]
          },
          "metadata": {
            "tags": []
          },
          "execution_count": 103
        },
        {
          "output_type": "display_data",
          "data": {
            "image/png": "[encoded data removed]",
            "text/plain": [
              "<Figure size 432x288 with 1 Axes>"
            ]
          },
          "metadata": {
            "tags": [],
            "needs_background": "light"
          }
        }
      ]
    },
    {
      "cell_type": "code",
      "metadata": {
        "colab": {
          "base_uri": "https://localhost:8080/"
        },
        "id": "0tzyreDtW9mE",
        "outputId": "f81c590b-7478-412f-fcae-b8a2879d0712"
      },
      "source": [
        "plt.plot(prediction)"
      ],
      "execution_count": null,
      "outputs": [
        {
          "output_type": "execute_result",
          "data": {
            "text/plain": [
              "[<matplotlib.lines.Line2D at 0x7fa85d192390>]"
            ]
          },
          "metadata": {
            "tags": []
          },
          "execution_count": 104
        },
        {
          "output_type": "display_data",
          "data": {
            "image/png": "[encoded data removed]",
            "text/plain": [
              "<Figure size 432x288 with 1 Axes>"
            ]
          },
          "metadata": {
            "tags": [],
            "needs_background": "light"
          }
        }
      ]
    },
    {
      "cell_type": "code",
      "metadata": {
        "colab": {
          "base_uri": "https://localhost:8080/"
        },
        "id": "4I5kXAdjX-MC",
        "outputId": "b3725bfb-5491-4b8e-cc4c-b71ddf2c91c8"
      },
      "source": [
        "prediction_test=prediction.sort_values(ascending=False)[:10]\n",
        "print(prediction_test)"
      ],
      "execution_count": null,
      "outputs": [
        {
          "output_type": "stream",
          "text": [
            "74     0.924285\n",
            "39     0.905347\n",
            "265    0.842553\n",
            "2      0.835042\n",
            "76     0.774081\n",
            "166    0.728880\n",
            "244    0.677231\n",
            "92     0.649961\n",
            "601    0.637282\n",
            "99     0.635415\n",
            "dtype: float64\n"
          ],
          "name": "stdout"
        }
      ]
    },
    {
      "cell_type": "code",
      "metadata": {
        "id": "pXaAw2a2Y4Nd"
      },
      "source": [
        "dico_reco={}\n",
        "for user in test_reindexed:\n",
        "  history_user=ratings[ratings['user']==user]\n",
        "  #print(history_user)\n",
        "  # obtention des predictions\n",
        "  prediction_user=ALS_Implicit.predict_for_user(user,np.unique(ratings[\"item\"]))\n",
        "  \n",
        "  prediction_user=prediction_user.sort_values(ascending=False)\n",
        "  #print(prediction_user)\n",
        "  \n",
        "  #candidats=[x for x in prediction_user.index[:num_prediction+THRESHOLD+1] if x not in list(ratings[ratings[\"user\"]==x]['item'])] \n",
        "  candidats=[x for x in prediction_user.index[:num_prediction+THRESHOLD+1] ] \n",
        "  reco=[x for x in candidats if x not in list(ratings[ratings[\"user\"]==user]['item'])]\n",
        "  dico_reco[user]=reco[:num_prediction]\n",
        "\n"
      ],
      "execution_count": null,
      "outputs": []
    },
    {
      "cell_type": "markdown",
      "metadata": {
        "id": "RiY4ehVSIoJx"
      },
      "source": [
        "# Most popular"
      ]
    },
    {
      "cell_type": "code",
      "metadata": {
        "id": "ZUFXuCwXTfbI"
      },
      "source": [
        "from lenskit.algorithms.basic import Popular"
      ],
      "execution_count": null,
      "outputs": []
    },
    {
      "cell_type": "code",
      "metadata": {
        "colab": {
          "base_uri": "https://localhost:8080/"
        },
        "id": "qYnZxBlNXEH_",
        "outputId": "4793fb39-5b6a-4d79-b06c-14ecc76ee529"
      },
      "source": [
        "popular = Popular()\n",
        "popular.fit(ratings)"
      ],
      "execution_count": null,
      "outputs": [
        {
          "output_type": "execute_result",
          "data": {
            "text/plain": [
              "<lenskit.algorithms.basic.Popular at 0x7fa85b48bc90>"
            ]
          },
          "metadata": {
            "tags": []
          },
          "execution_count": 115
        }
      ]
    },
    {
      "cell_type": "code",
      "metadata": {
        "colab": {
          "base_uri": "https://localhost:8080/",
          "height": 363
        },
        "id": "A4gIVNjqTvQi",
        "outputId": "889b131c-f1e2-4782-f0a3-09e1234eeaeb"
      },
      "source": [
        "popular.recommend(user=5677,n=10)"
      ],
      "execution_count": null,
      "outputs": [
        {
          "output_type": "execute_result",
          "data": {
            "text/html": [
              "<div>\n",
              "<style scoped>\n",
              "    .dataframe tbody tr th:only-of-type {\n",
              "        vertical-align: middle;\n",
              "    }\n",
              "\n",
              "    .dataframe tbody tr th {\n",
              "        vertical-align: top;\n",
              "    }\n",
              "\n",
              "    .dataframe thead th {\n",
              "        text-align: right;\n",
              "    }\n",
              "</style>\n",
              "<table border=\"1\" class=\"dataframe\">\n",
              "  <thead>\n",
              "    <tr style=\"text-align: right;\">\n",
              "      <th></th>\n",
              "      <th>item</th>\n",
              "      <th>score</th>\n",
              "    </tr>\n",
              "  </thead>\n",
              "  <tbody>\n",
              "    <tr>\n",
              "      <th>0</th>\n",
              "      <td>28</td>\n",
              "      <td>912.0</td>\n",
              "    </tr>\n",
              "    <tr>\n",
              "      <th>1</th>\n",
              "      <td>13</td>\n",
              "      <td>683.0</td>\n",
              "    </tr>\n",
              "    <tr>\n",
              "      <th>2</th>\n",
              "      <td>349</td>\n",
              "      <td>582.0</td>\n",
              "    </tr>\n",
              "    <tr>\n",
              "      <th>3</th>\n",
              "      <td>80</td>\n",
              "      <td>517.0</td>\n",
              "    </tr>\n",
              "    <tr>\n",
              "      <th>4</th>\n",
              "      <td>840</td>\n",
              "      <td>510.0</td>\n",
              "    </tr>\n",
              "    <tr>\n",
              "      <th>5</th>\n",
              "      <td>1348</td>\n",
              "      <td>474.0</td>\n",
              "    </tr>\n",
              "    <tr>\n",
              "      <th>6</th>\n",
              "      <td>1438</td>\n",
              "      <td>472.0</td>\n",
              "    </tr>\n",
              "    <tr>\n",
              "      <th>7</th>\n",
              "      <td>1289</td>\n",
              "      <td>445.0</td>\n",
              "    </tr>\n",
              "    <tr>\n",
              "      <th>8</th>\n",
              "      <td>826</td>\n",
              "      <td>437.0</td>\n",
              "    </tr>\n",
              "    <tr>\n",
              "      <th>9</th>\n",
              "      <td>77</td>\n",
              "      <td>428.0</td>\n",
              "    </tr>\n",
              "  </tbody>\n",
              "</table>\n",
              "</div>"
            ],
            "text/plain": [
              "   item  score\n",
              "0    28  912.0\n",
              "1    13  683.0\n",
              "2   349  582.0\n",
              "3    80  517.0\n",
              "4   840  510.0\n",
              "5  1348  474.0\n",
              "6  1438  472.0\n",
              "7  1289  445.0\n",
              "8   826  437.0\n",
              "9    77  428.0"
            ]
          },
          "metadata": {
            "tags": []
          },
          "execution_count": 116
        }
      ]
    },
    {
      "cell_type": "code",
      "metadata": {
        "id": "8eQ5scFeHj22"
      },
      "source": [
        "dico_reco={}\n",
        "for user in test_reindexed:\n",
        "  history_user=ratings[ratings['user']==user]\n",
        "  #print(history_user)\n",
        "  # obtention des predictions\n",
        "  prediction_user=popular.recommend(user=user,n=num_prediction)\n",
        "  dico_reco[user]=list(prediction_user['item'])"
      ],
      "execution_count": null,
      "outputs": []
    },
    {
      "cell_type": "code",
      "metadata": {
        "colab": {
          "base_uri": "https://localhost:8080/",
          "height": 363
        },
        "id": "QfmHvJAyLboo",
        "outputId": "9f3eb2e7-3148-48f9-e34e-e70065c1f7de"
      },
      "source": [
        "prediction_user"
      ],
      "execution_count": null,
      "outputs": [
        {
          "output_type": "execute_result",
          "data": {
            "text/html": [
              "<div>\n",
              "<style scoped>\n",
              "    .dataframe tbody tr th:only-of-type {\n",
              "        vertical-align: middle;\n",
              "    }\n",
              "\n",
              "    .dataframe tbody tr th {\n",
              "        vertical-align: top;\n",
              "    }\n",
              "\n",
              "    .dataframe thead th {\n",
              "        text-align: right;\n",
              "    }\n",
              "</style>\n",
              "<table border=\"1\" class=\"dataframe\">\n",
              "  <thead>\n",
              "    <tr style=\"text-align: right;\">\n",
              "      <th></th>\n",
              "      <th>item</th>\n",
              "      <th>score</th>\n",
              "    </tr>\n",
              "  </thead>\n",
              "  <tbody>\n",
              "    <tr>\n",
              "      <th>0</th>\n",
              "      <td>13</td>\n",
              "      <td>683.0</td>\n",
              "    </tr>\n",
              "    <tr>\n",
              "      <th>1</th>\n",
              "      <td>349</td>\n",
              "      <td>582.0</td>\n",
              "    </tr>\n",
              "    <tr>\n",
              "      <th>2</th>\n",
              "      <td>80</td>\n",
              "      <td>517.0</td>\n",
              "    </tr>\n",
              "    <tr>\n",
              "      <th>3</th>\n",
              "      <td>840</td>\n",
              "      <td>510.0</td>\n",
              "    </tr>\n",
              "    <tr>\n",
              "      <th>4</th>\n",
              "      <td>1348</td>\n",
              "      <td>474.0</td>\n",
              "    </tr>\n",
              "    <tr>\n",
              "      <th>5</th>\n",
              "      <td>1438</td>\n",
              "      <td>472.0</td>\n",
              "    </tr>\n",
              "    <tr>\n",
              "      <th>6</th>\n",
              "      <td>1289</td>\n",
              "      <td>445.0</td>\n",
              "    </tr>\n",
              "    <tr>\n",
              "      <th>7</th>\n",
              "      <td>826</td>\n",
              "      <td>437.0</td>\n",
              "    </tr>\n",
              "    <tr>\n",
              "      <th>8</th>\n",
              "      <td>77</td>\n",
              "      <td>428.0</td>\n",
              "    </tr>\n",
              "    <tr>\n",
              "      <th>9</th>\n",
              "      <td>603</td>\n",
              "      <td>423.0</td>\n",
              "    </tr>\n",
              "  </tbody>\n",
              "</table>\n",
              "</div>"
            ],
            "text/plain": [
              "   item  score\n",
              "0    13  683.0\n",
              "1   349  582.0\n",
              "2    80  517.0\n",
              "3   840  510.0\n",
              "4  1348  474.0\n",
              "5  1438  472.0\n",
              "6  1289  445.0\n",
              "7   826  437.0\n",
              "8    77  428.0\n",
              "9   603  423.0"
            ]
          },
          "metadata": {
            "tags": []
          },
          "execution_count": 118
        }
      ]
    },
    {
      "cell_type": "markdown",
      "metadata": {
        "id": "oIM4w1vnAudj"
      },
      "source": [
        "# KNN"
      ]
    },
    {
      "cell_type": "markdown",
      "metadata": {
        "id": "uFV2jEy7OlaX"
      },
      "source": [
        "# User KNN"
      ]
    },
    {
      "cell_type": "code",
      "metadata": {
        "id": "dO-B9x9hAw6I"
      },
      "source": [
        "from lenskit.algorithms.user_knn import UserUser\n",
        "knn_user=UserUser(50,3)"
      ],
      "execution_count": null,
      "outputs": []
    },
    {
      "cell_type": "code",
      "metadata": {
        "colab": {
          "base_uri": "https://localhost:8080/"
        },
        "id": "aemMhrEjKqQK",
        "outputId": "a0f20f59-c51d-4473-b231-adec259935ff"
      },
      "source": [
        "knn_user.fit(ratings)"
      ],
      "execution_count": null,
      "outputs": [
        {
          "output_type": "execute_result",
          "data": {
            "text/plain": [
              "<lenskit.algorithms.user_knn.UserUser at 0x7fa85ec5a590>"
            ]
          },
          "metadata": {
            "tags": []
          },
          "execution_count": 57
        }
      ]
    },
    {
      "cell_type": "code",
      "metadata": {
        "id": "ObdQncizKwIl"
      },
      "source": [
        "knn_test=knn_user.predict_for_user(test_user_list[0],np.unique(ratings[\"item\"]))"
      ],
      "execution_count": null,
      "outputs": []
    },
    {
      "cell_type": "code",
      "metadata": {
        "id": "ndSpS2E1LIQs",
        "colab": {
          "base_uri": "https://localhost:8080/"
        },
        "outputId": "dacf7687-1cb6-4d52-9116-42c3f8de995a"
      },
      "source": [
        "knn_test.sort_values(ascending=False)[:30]"
      ],
      "execution_count": null,
      "outputs": [
        {
          "output_type": "execute_result",
          "data": {
            "text/plain": [
              "item\n",
              "1314     9.800191\n",
              "9820     9.773585\n",
              "5404     9.618644\n",
              "4128     9.570370\n",
              "6508     9.500000\n",
              "2000     9.381818\n",
              "724      9.224138\n",
              "1796     9.173913\n",
              "408      9.082803\n",
              "8575     9.074074\n",
              "3599     9.063830\n",
              "2677     9.010091\n",
              "691      8.979592\n",
              "2        8.978223\n",
              "6875     8.892857\n",
              "4424     8.846154\n",
              "1131     8.845361\n",
              "1411     8.819549\n",
              "6533     8.797468\n",
              "244      8.728472\n",
              "153      8.704918\n",
              "1905     8.671642\n",
              "502      8.666667\n",
              "54008    8.666667\n",
              "14185    8.655293\n",
              "205      8.608392\n",
              "3070     8.583333\n",
              "3271     8.571429\n",
              "1634     8.565014\n",
              "3138     8.529412\n",
              "Name: prediction, dtype: float64"
            ]
          },
          "metadata": {
            "tags": []
          },
          "execution_count": 59
        }
      ]
    },
    {
      "cell_type": "code",
      "metadata": {
        "id": "xyIUWV_YPr6B"
      },
      "source": [
        "dico_reco={}\n",
        "for user in test_reindexed:\n",
        "  history_user=ratings[ratings['user']==user]\n",
        "  #print(history_user)\n",
        "  # obtention des predictions\n",
        "  prediction_user=knn_user.predict_for_user(user,np.unique(ratings[\"item\"]))\n",
        "  \n",
        "  prediction_user=prediction_user.sort_values(ascending=False)\n",
        "  #print(prediction_user)\n",
        "  \n",
        "  #candidats=[x for x in prediction_user.index[:num_prediction+THRESHOLD+1] if x not in list(ratings[ratings[\"user\"]==x]['item'])] \n",
        "  candidats=[x for x in prediction_user.index[:num_prediction+THRESHOLD+1] ] \n",
        "  reco=[x for x in candidats if x not in list(ratings[ratings[\"user\"]==user]['item'])]\n",
        "  dico_reco[user]=reco[:num_prediction]\n",
        "\n"
      ],
      "execution_count": null,
      "outputs": []
    },
    {
      "cell_type": "markdown",
      "metadata": {
        "id": "CalzaNVYOpTm"
      },
      "source": [
        "# Item KNN"
      ]
    },
    {
      "cell_type": "code",
      "metadata": {
        "id": "f430Fkh3OTpg"
      },
      "source": [
        "from lenskit.algorithms.item_knn import ItemItem\n",
        "knn_item=ItemItem(100,5)"
      ],
      "execution_count": null,
      "outputs": []
    },
    {
      "cell_type": "code",
      "metadata": {
        "colab": {
          "base_uri": "https://localhost:8080/"
        },
        "id": "DNB-Yvb_O4jI",
        "outputId": "17996ed4-917e-44bd-d6fe-964cefe96d0d"
      },
      "source": [
        "knn_item.fit(ratings)"
      ],
      "execution_count": null,
      "outputs": [
        {
          "output_type": "execute_result",
          "data": {
            "text/plain": [
              "<lenskit.algorithms.item_knn.ItemItem at 0x7fa85b48cb10>"
            ]
          },
          "metadata": {
            "tags": []
          },
          "execution_count": 127
        }
      ]
    },
    {
      "cell_type": "code",
      "metadata": {
        "id": "fkUGTswQO_tV"
      },
      "source": [
        "knn_test_item=knn_item.predict_for_user(test_user_list[0],np.unique(ratings[\"item\"]))"
      ],
      "execution_count": null,
      "outputs": []
    },
    {
      "cell_type": "code",
      "metadata": {
        "id": "rW2hjNYxYRu8"
      },
      "source": [
        "pd_tab_logs=pd.DataFrame(tab_logs,columns=['user','item','rating'])"
      ],
      "execution_count": null,
      "outputs": []
    },
    {
      "cell_type": "code",
      "metadata": {
        "id": "hcpsZdHQRL5e",
        "colab": {
          "base_uri": "https://localhost:8080/"
        },
        "outputId": "a3487601-6603-4259-f67e-4dc1b2b6bf67"
      },
      "source": [
        "knn_test_item.sort_values(ascending=False)[:20]"
      ],
      "execution_count": null,
      "outputs": [
        {
          "output_type": "execute_result",
          "data": {
            "text/plain": [
              "item\n",
              "1171    8.651447\n",
              "1083    8.400740\n",
              "1341    8.380016\n",
              "40      8.344744\n",
              "244     8.248846\n",
              "89      8.245336\n",
              "60      8.212507\n",
              "955     7.924527\n",
              "1550    7.856857\n",
              "4070    7.720704\n",
              "331     7.702140\n",
              "44      7.669370\n",
              "7540    7.647260\n",
              "1474    7.644131\n",
              "102     7.615618\n",
              "2330    7.607264\n",
              "84      7.489322\n",
              "346     7.447219\n",
              "34      7.396397\n",
              "977     7.354375\n",
              "dtype: float64"
            ]
          },
          "metadata": {
            "tags": []
          },
          "execution_count": 130
        }
      ]
    },
    {
      "cell_type": "code",
      "metadata": {
        "id": "Gi-z_ZIFRBvU",
        "colab": {
          "base_uri": "https://localhost:8080/"
        },
        "outputId": "a883f27f-90d4-4aab-a7c3-1c398dc14fbd"
      },
      "source": [
        "plt.hist(knn_test_item)"
      ],
      "execution_count": null,
      "outputs": [
        {
          "output_type": "execute_result",
          "data": {
            "text/plain": [
              "(array([ 5., 10., 20., 18., 27., 28., 22., 14., 13.,  7.]),\n",
              " array([1.74228074, 2.43319734, 3.12411395, 3.81503056, 4.50594717,\n",
              "        5.19686378, 5.88778039, 6.57869699, 7.2696136 , 7.96053021,\n",
              "        8.65144682]),\n",
              " <a list of 10 Patch objects>)"
            ]
          },
          "metadata": {
            "tags": []
          },
          "execution_count": 131
        },
        {
          "output_type": "display_data",
          "data": {
            "image/png": "[encoded data removed]",
            "text/plain": [
              "<Figure size 432x288 with 1 Axes>"
            ]
          },
          "metadata": {
            "tags": [],
            "needs_background": "light"
          }
        }
      ]
    },
    {
      "cell_type": "code",
      "metadata": {
        "id": "POvMH1uxQMh_",
        "colab": {
          "base_uri": "https://localhost:8080/"
        },
        "outputId": "6c084dc1-a376-41b4-c839-3c435d9f859e"
      },
      "source": [
        "plt.plot(knn_test_item)"
      ],
      "execution_count": null,
      "outputs": [
        {
          "output_type": "execute_result",
          "data": {
            "text/plain": [
              "[<matplotlib.lines.Line2D at 0x7fa85b343310>]"
            ]
          },
          "metadata": {
            "tags": []
          },
          "execution_count": 132
        },
        {
          "output_type": "display_data",
          "data": {
            "image/png": "[encoded data removed]",
            "text/plain": [
              "<Figure size 432x288 with 1 Axes>"
            ]
          },
          "metadata": {
            "tags": [],
            "needs_background": "light"
          }
        }
      ]
    },
    {
      "cell_type": "code",
      "metadata": {
        "id": "HF-uU0E4R-kz"
      },
      "source": [
        "dico_reco={}\n",
        "for user in test_reindexed:\n",
        "  history_user=ratings[ratings['user']==user]\n",
        "  #print(history_user)\n",
        "  # obtention des predictions\n",
        "  prediction_user=knn_item.predict_for_user(user,np.unique(ratings[\"item\"]))\n",
        "  \n",
        "  prediction_user=prediction_user.sort_values(ascending=False)\n",
        "  #print(prediction_user)\n",
        "  \n",
        "  #candidats=[x for x in prediction_user.index[:num_prediction+THRESHOLD+1] if x not in list(ratings[ratings[\"user\"]==x]['item'])] \n",
        "  candidats=[x for x in prediction_user.index[:num_prediction+THRESHOLD+1] ] \n",
        "  reco=[x for x in candidats if x not in list(ratings[ratings[\"user\"]==user]['item'])]\n",
        "  dico_reco[user]=reco[:10]\n"
      ],
      "execution_count": null,
      "outputs": []
    },
    {
      "cell_type": "markdown",
      "metadata": {
        "id": "vZjtlpgKOUoF"
      },
      "source": [
        "# Calcul des KPIs, precision, NDCG"
      ]
    },
    {
      "cell_type": "code",
      "metadata": {
        "colab": {
          "base_uri": "https://localhost:8080/"
        },
        "id": "qjtPBEUWQAxZ",
        "outputId": "273f5ff6-f1a7-416d-fb5f-ecf140c76ca2"
      },
      "source": [
        "# calcul max_DCG\n",
        "import math\n",
        "def log2(x):\n",
        " return(math.log(x,2))\n",
        "max_DCG=0.\n",
        "for i in range(1,num_prediction+1):\n",
        "    max_DCG+=(2**(num_prediction+1-i)-1)/log2(i+1)\n",
        "print(\"max_DCG\",max_DCG)    "
      ],
      "execution_count": null,
      "outputs": [
        {
          "output_type": "stream",
          "text": [
            "max_DCG 1571.4155855572703\n"
          ],
          "name": "stdout"
        }
      ]
    },
    {
      "cell_type": "code",
      "metadata": {
        "id": "heGZP40oYisJ"
      },
      "source": [
        "if SAMPLING:\n",
        "  test_set=sample_test_0_reindexed\n",
        "else:\n",
        "  test_set=test_reindexed  "
      ],
      "execution_count": null,
      "outputs": []
    },
    {
      "cell_type": "code",
      "metadata": {
        "colab": {
          "base_uri": "https://localhost:8080/"
        },
        "id": "GZIMtn7Iv9t8",
        "outputId": "ef3e592a-ffd8-4f3f-c637-252d3a818ce7"
      },
      "source": [
        "# calcul de la précision, sur ensemble de test\n",
        "tab_AP=[]\n",
        "precision_at_k=0.\n",
        "MRR=0.\n",
        "DCG=0.\n",
        "count=0  \n",
        "count_MRR=0 \n",
        "count_DCG=0\n",
        "average_DCG=0\n",
        "new_max_sequence_label=10\n",
        "label_set=set({})\n",
        "reco_set=set({})\n",
        "for user in test_set:\n",
        "  # initialisation des variables\n",
        "  tab_P=[]\n",
        "  label=test_set[user][-num_prediction:]  # on prend les max_sequence_label derniers...ceux d'avant ont été entré pour demander une prédiction\n",
        "  label_set.update(set(label))\n",
        "  reco_set.update(set(dico_reco[user]))\n",
        "  # on peut travailler avec les listes car pas de doublon\n",
        "  retrieved_song=[x for x in dico_reco[user] if x in label]\n",
        "  #precision@(num_prediction) \n",
        "  for song_index in retrieved_song:\n",
        "    precision_at_k+=min(label.count(song_index),dico_reco[user].count(song_index))\n",
        "  count+=1\n",
        "  \n",
        "  #AP@k\n",
        "  # d'après https://medium.com/swlh/rank-aware-recsys-evaluation-metrics-5191bba16832\n",
        "  P=0\n",
        "  for rank in range(1,min(num_prediction,len(label))+1):\n",
        "      # calcul P@rank\n",
        "      if len(dico_reco[user])>= rank:\n",
        "        if dico_reco[user][rank-1] in label:\n",
        "            P+=1.0\n",
        "            AP_inter=P/rank\n",
        "            tab_P.append(AP_inter)\n",
        "        else:\n",
        "            continue\n",
        "      else:\n",
        "        break      \n",
        "\n",
        "  if len(retrieved_song)!=0:\n",
        "      AP=sum(tab_P)/len(retrieved_song)\n",
        "  else:\n",
        "      AP=0\n",
        "  tab_AP.append(AP)  \n",
        "  \n",
        "  #MRR\n",
        "  # see https://medium.com/swlh/rank-aware-recsys-evaluation-metrics-5191bba16832\n",
        "  for song in dico_reco[user]:\n",
        "    if song in label:\n",
        "      MRR+=1.0/(dico_reco[user].index(song)+1)\n",
        "      count_MRR+=1\n",
        "      break\n",
        "    else:\n",
        "      continue  \n",
        "  \n",
        "  #NDCG  \n",
        "  DCG=0\n",
        "  for song in dico_reco[user]:\n",
        "    if song in label:\n",
        "      DCG+=(2**(num_prediction-label.index(song))-1)/log2(dico_reco[user].index(song)+2)\n",
        "    else:\n",
        "      continue\n",
        "  DCG/=max_DCG\n",
        "  average_DCG+=DCG    \n",
        "  \n",
        "print(count)\n",
        "print(\"precision\",precision_at_k)\n",
        " \n",
        "precision_at_k=float(precision_at_k)/float(count*num_prediction)\n",
        "MRR=float(MRR)/float(count)\n",
        "MAP=sum(tab_AP)/len(tab_AP)\n",
        "average_DCG=float(average_DCG)/float(count)\n",
        "\n",
        "print(\"precision at {} sur ensemble de train complet égale à {}\".format(num_prediction,precision_at_k))\n",
        "print(\"nommbre de user sur lequel la precision peut être calculé : {}\".format(count))\n",
        "print(\"MRR sur ensemble de train complet égale à {}\".format(MRR))\n",
        "print(\"nombre de user sur lesquel MRR peut être calculé : {}\".format(count_MRR))\n",
        "print(\"MAP sur ensemble de train complet égale à {}\".format(MAP))\n",
        "print(\"nommbre de user sur lequel MAP peut être calculé : {}\".format(len(tab_AP)))\n",
        "print(\"NDCG sur ensemble de train complet égale à {}\".format(average_DCG))\n",
        "print(\"nommbre d'item pour lequel DCG peut être calculé : {}\".format(count))\n",
        "#print(\"couverture_ coverage: {}\".format(len(reco_set)/len(label_set)))\n",
        "print(\"couverture_ coverage: {}\".format(len(reco_set)/len(liste_item)))\n",
        "\n",
        "\n",
        "print(\"nombre de user pris en compte : {}\".format(count))"
      ],
      "execution_count": null,
      "outputs": [
        {
          "output_type": "stream",
          "text": [
            "1504\n",
            "precision 382.0\n",
            "precision at 10 sur ensemble de train complet égale à 0.025398936170212764\n",
            "nommbre de user sur lequel la precision peut être calculé : 1504\n",
            "MRR sur ensemble de train complet égale à 0.0866638698919284\n",
            "nombre de user sur lesquel MRR peut être calculé : 307\n",
            "MAP sur ensemble de train complet égale à 0.08466061402397837\n",
            "nommbre de user sur lequel MAP peut être calculé : 1504\n",
            "NDCG sur ensemble de train complet égale à 0.01893867678536191\n",
            "nommbre d'item pour lequel DCG peut être calculé : 1504\n",
            "couverture_ coverage: 0.2620408163265306\n",
            "nombre de user pris en compte : 1504\n"
          ],
          "name": "stdout"
        }
      ]
    },
    {
      "cell_type": "code",
      "metadata": {
        "id": "PQK4z7enon9r"
      },
      "source": [
        "\n",
        "average_measure['PREC'].append(precision_at_k)\n",
        "average_measure['MAP'].append(MAP)\n",
        "average_measure['MRR'].append(MRR)\n",
        "average_measure['NDCG'].append(average_DCG)"
      ],
      "execution_count": null,
      "outputs": []
    },
    {
      "cell_type": "code",
      "metadata": {
        "colab": {
          "base_uri": "https://localhost:8080/"
        },
        "id": "xjp-7e0xqks3",
        "outputId": "2354d12a-ed18-42d3-dd1d-ab6cb27a6d0d"
      },
      "source": [
        "average_measure"
      ],
      "execution_count": null,
      "outputs": [
        {
          "output_type": "execute_result",
          "data": {
            "text/plain": [
              "{'MAP': [0.13252679802713027,\n",
              "  0.09660722640858943,\n",
              "  0.0,\n",
              "  0.2185706416382549,\n",
              "  0.13252679802713027,\n",
              "  0.09660722640858943,\n",
              "  0.08466061402397837],\n",
              " 'MRR': [0.1373311381290102,\n",
              "  0.10081871622762578,\n",
              "  0.0,\n",
              "  0.24301808932792945,\n",
              "  0.1373311381290102,\n",
              "  0.10081871622762578,\n",
              "  0.0866638698919284],\n",
              " 'NDCG': [0.02900684048388581,\n",
              "  0.023118883093342032,\n",
              "  0.0,\n",
              "  0.07012368517876799,\n",
              "  0.02900684048388581,\n",
              "  0.023118883093342032,\n",
              "  0.01893867678536191],\n",
              " 'PREC': [0.037101063829787236,\n",
              "  0.03357712765957447,\n",
              "  0.0,\n",
              "  0.0988031914893617,\n",
              "  0.037101063829787236,\n",
              "  0.03357712765957447,\n",
              "  0.025398936170212764]}"
            ]
          },
          "metadata": {
            "tags": []
          },
          "execution_count": 149
        }
      ]
    },
    {
      "cell_type": "markdown",
      "metadata": {
        "id": "198wAUKrYQP6"
      },
      "source": [
        "#init var"
      ]
    },
    {
      "cell_type": "code",
      "metadata": {
        "id": "bIP-nuG9YTF3"
      },
      "source": [
        "tab_result=[]"
      ],
      "execution_count": 68,
      "outputs": []
    },
    {
      "cell_type": "markdown",
      "metadata": {
        "id": "Ml3sOlUf4buO"
      },
      "source": [
        "# Commutativity stats"
      ]
    },
    {
      "cell_type": "code",
      "metadata": {
        "id": "jqMYv4jxN04I"
      },
      "source": [
        "nb_item=len(np.unique(ratings['item']))"
      ],
      "execution_count": 125,
      "outputs": []
    },
    {
      "cell_type": "code",
      "metadata": {
        "colab": {
          "base_uri": "https://localhost:8080/"
        },
        "id": "2HTDQ95pQ43M",
        "outputId": "49423f4c-e2a6-4dce-b82d-91c595850efa"
      },
      "source": [
        "# pairs numbers\n",
        "nb_item*(nb_item-1)/2"
      ],
      "execution_count": 126,
      "outputs": [
        {
          "output_type": "execute_result",
          "data": {
            "text/plain": [
              "60769800.0"
            ]
          },
          "metadata": {
            "tags": []
          },
          "execution_count": 126
        }
      ]
    },
    {
      "cell_type": "code",
      "metadata": {
        "id": "IRAmg3n2RwVM"
      },
      "source": [
        "# should take 383 pairs and examine if they commute (échantillon pour avoir une marge de 5% d'erreur)\n",
        "# choose within the logs to pickup more frequently popular item"
      ],
      "execution_count": 127,
      "outputs": []
    },
    {
      "cell_type": "code",
      "metadata": {
        "id": "UYeUOuYlXzOO"
      },
      "source": [
        "sampling_size=400\n",
        "count=0\n",
        "tab_paire=[]\n",
        "seq_sampled=data_train_out_valid_topn_without_doublon.sample(sampling_size)\n",
        "#for index in range(seq_sampled.shape[0]):\n",
        "for index in range(data_train_out_valid_topn_without_doublon.shape[0]):\n",
        "  # select pair of item from a seq\n",
        "  count_iter=0\n",
        "  while count_iter < 2:\n",
        "    paire=np.random.choice(list(data_train_out_valid_topn_without_doublon.iloc[index]),size=2)\n",
        "    #paire=np.random.choice(list(seq_sampled.iloc[index]),size=2)\n",
        "    count_iter+=1\n",
        "    if len(np.unique(paire))==2:   # check the item are not the same\n",
        "      if set(paire) not in tab_paire:  # check the pair is not already in our set\n",
        "        tab_paire.append(set(paire))\n",
        "        count+=1\n",
        "      else:\n",
        "        continue  \n",
        "    else:\n",
        "      continue    "
      ],
      "execution_count": 128,
      "outputs": []
    },
    {
      "cell_type": "code",
      "metadata": {
        "id": "WQP6Pct4e7f2"
      },
      "source": [
        "# for each pair look how many in one order and how many in the opposite order\n",
        "dico_commut={}\n",
        "for paire in tab_paire:\n",
        "  liste_seq=[]\n",
        "  paire_1=tuple(paire)\n",
        "  dico_commut[paire_1]={}\n",
        "  dico_commut[paire_1]['left']=0\n",
        "  dico_commut[paire_1]['right']=0\n",
        "  # number of occurrence of paire_1\n",
        "  liste_seq=get_occurrence_item(paire_1[0], data_train_out_valid_topn_without_doublon)\n",
        "  for seq in liste_seq:\n",
        "    if paire_1[1] in seq:\n",
        "      index_pivot=seq.index(paire_1[0])\n",
        "      if seq.index(paire_1[1])>index_pivot:\n",
        "        dico_commut[paire_1]['left']+=1\n",
        "      else:\n",
        "        dico_commut[paire_1]['right']+=1\n",
        "\n"
      ],
      "execution_count": 129,
      "outputs": []
    },
    {
      "cell_type": "code",
      "metadata": {
        "id": "gaEtPCvtIQT6"
      },
      "source": [
        "dico_commut.values()"
      ],
      "execution_count": null,
      "outputs": []
    },
    {
      "cell_type": "code",
      "metadata": {
        "colab": {
          "base_uri": "https://localhost:8080/"
        },
        "id": "-7excgrkpztq",
        "outputId": "c5fdb17d-f709-485e-af39-ca09fe455e09"
      },
      "source": [
        "len(dico_commut)"
      ],
      "execution_count": 131,
      "outputs": [
        {
          "output_type": "execute_result",
          "data": {
            "text/plain": [
              "10541"
            ]
          },
          "metadata": {
            "tags": []
          },
          "execution_count": 131
        }
      ]
    },
    {
      "cell_type": "code",
      "metadata": {
        "id": "7zYBH9QatIJG"
      },
      "source": [
        "dico_commut_relative={}\n",
        "for paire in dico_commut:\n",
        "  dico_commut_relative[paire]=dico_commut[paire]['right']-dico_commut[paire]['left'] "
      ],
      "execution_count": 132,
      "outputs": []
    },
    {
      "cell_type": "code",
      "metadata": {
        "id": "XryHupcXWqtc"
      },
      "source": [
        "dico_commut_relative_filtered={}\n",
        "count_sup_1,count_single_pair=0,0\n",
        "for paire in dico_commut:\n",
        "  if dico_commut[paire]['right']+dico_commut[paire]['left'] > 1: # pair exist more than one time\n",
        "      count_sup_1+=1\n",
        "      dico_commut_relative_filtered[paire]=dico_commut[paire]['right']-dico_commut[paire]['left'] \n",
        "  else:\n",
        "      count_single_pair+=1    "
      ],
      "execution_count": 133,
      "outputs": []
    },
    {
      "cell_type": "code",
      "metadata": {
        "colab": {
          "base_uri": "https://localhost:8080/"
        },
        "id": "jePd27J5XcL8",
        "outputId": "9bb8df14-05f2-4401-ec34-1cfc83c85091"
      },
      "source": [
        "print(\"singleton\",count_single_pair,\"non singleton\",count_sup_1)\n",
        "#dico_commut_relative_filtered"
      ],
      "execution_count": 134,
      "outputs": [
        {
          "output_type": "stream",
          "text": [
            "singleton 4846 non singleton 5695\n"
          ],
          "name": "stdout"
        }
      ]
    },
    {
      "cell_type": "code",
      "metadata": {
        "colab": {
          "base_uri": "https://localhost:8080/"
        },
        "id": "-QeYZx5wvfGc",
        "outputId": "1587a209-7ca8-4803-afd1-51e88e683dfc"
      },
      "source": [
        "distrib=list(dico_commut_relative.values())\n",
        "print(np.average(distrib))\n",
        "print(np.std(distrib))\n",
        "f=lambda x: np.abs(x)\n",
        "print(np.sum(f(distrib)))"
      ],
      "execution_count": 135,
      "outputs": [
        {
          "output_type": "stream",
          "text": [
            "-0.1945735698700313\n",
            "2.3842510818985976\n",
            "16753\n"
          ],
          "name": "stdout"
        }
      ]
    },
    {
      "cell_type": "code",
      "metadata": {
        "colab": {
          "base_uri": "https://localhost:8080/",
          "height": 430
        },
        "id": "p5X13meAtrSY",
        "outputId": "eb52b75d-68d2-4532-b344-8f23d7c0f649"
      },
      "source": [
        "import matplotlib.pyplot as plt\n",
        "plt.hist(dico_commut_relative.values(),bins=range(-15,+15,1))"
      ],
      "execution_count": 136,
      "outputs": [
        {
          "output_type": "execute_result",
          "data": {
            "text/plain": [
              "(array([3.000e+00, 2.000e+00, 6.000e+00, 1.100e+01, 1.700e+01, 1.400e+01,\n",
              "        2.200e+01, 3.100e+01, 4.600e+01, 8.300e+01, 1.250e+02, 2.000e+02,\n",
              "        3.960e+02, 8.230e+02, 3.069e+03, 1.490e+03, 2.790e+03, 7.260e+02,\n",
              "        3.160e+02, 1.310e+02, 8.400e+01, 4.700e+01, 3.200e+01, 1.900e+01,\n",
              "        1.300e+01, 1.100e+01, 2.000e+00, 5.000e+00, 7.000e+00]),\n",
              " array([-15, -14, -13, -12, -11, -10,  -9,  -8,  -7,  -6,  -5,  -4,  -3,\n",
              "         -2,  -1,   0,   1,   2,   3,   4,   5,   6,   7,   8,   9,  10,\n",
              "         11,  12,  13,  14]),\n",
              " <a list of 29 Patch objects>)"
            ]
          },
          "metadata": {
            "tags": []
          },
          "execution_count": 136
        },
        {
          "output_type": "display_data",
          "data": {
            "image/png": "[encoded data removed]",
            "text/plain": [
              "<Figure size 432x288 with 1 Axes>"
            ]
          },
          "metadata": {
            "tags": [],
            "needs_background": "light"
          }
        }
      ]
    },
    {
      "cell_type": "code",
      "metadata": {
        "colab": {
          "base_uri": "https://localhost:8080/",
          "height": 412
        },
        "id": "L22IAP5PbTtw",
        "outputId": "5e054af6-7b92-4c28-d3bf-fa8c67720156"
      },
      "source": [
        "plt.hist(dico_commut_relative_filtered.values(),bins=range(-15,+15,1))"
      ],
      "execution_count": 137,
      "outputs": [
        {
          "output_type": "execute_result",
          "data": {
            "text/plain": [
              "(array([   3.,    2.,    6.,   11.,   17.,   14.,   22.,   31.,   46.,\n",
              "          83.,  125.,  200.,  396.,  823.,  650., 1267.,  586.,  726.,\n",
              "         316.,  131.,   84.,   47.,   32.,   19.,   13.,   11.,    2.,\n",
              "           5.,    7.]),\n",
              " array([-15, -14, -13, -12, -11, -10,  -9,  -8,  -7,  -6,  -5,  -4,  -3,\n",
              "         -2,  -1,   0,   1,   2,   3,   4,   5,   6,   7,   8,   9,  10,\n",
              "         11,  12,  13,  14]),\n",
              " <a list of 29 Patch objects>)"
            ]
          },
          "metadata": {
            "tags": []
          },
          "execution_count": 137
        },
        {
          "output_type": "display_data",
          "data": {
            "image/png": "[encoded data removed]",
            "text/plain": [
              "<Figure size 432x288 with 1 Axes>"
            ]
          },
          "metadata": {
            "tags": [],
            "needs_background": "light"
          }
        }
      ]
    },
    {
      "cell_type": "code",
      "metadata": {
        "colab": {
          "base_uri": "https://localhost:8080/"
        },
        "id": "Y_TYbJIibKGG",
        "outputId": "b0bcd395-4180-47cc-c680-2507c73c1b1f"
      },
      "source": [
        "distrib=list(dico_commut_relative_filtered.values())\n",
        "print(np.average(distrib))\n",
        "print(np.std(distrib))\n",
        "f=lambda x: np.abs(x)\n",
        "print(np.sum(f(distrib)))"
      ],
      "execution_count": 138,
      "outputs": [
        {
          "output_type": "stream",
          "text": [
            "-0.32238805970149254\n",
            "3.110662947399558\n",
            "12130\n"
          ],
          "name": "stdout"
        }
      ]
    },
    {
      "cell_type": "code",
      "metadata": {
        "id": "2Nx-nnnDX5Zw"
      },
      "source": [
        "tab_result.append([np.average(distrib),np.std(distrib)])"
      ],
      "execution_count": 139,
      "outputs": []
    },
    {
      "cell_type": "code",
      "metadata": {
        "colab": {
          "base_uri": "https://localhost:8080/"
        },
        "id": "K2Q1MoHpZS_x",
        "outputId": "d4286e28-7483-481a-ee68-6f6ff5c93294"
      },
      "source": [
        "tab_result"
      ],
      "execution_count": 140,
      "outputs": [
        {
          "output_type": "execute_result",
          "data": {
            "text/plain": [
              "[[-0.2523364485981308, 2.957940234159307],\n",
              " [-0.023148148148148147, 3.14678279215695],\n",
              " [-0.5343137254901961, 3.3757786348889045],\n",
              " [-0.3500717360114778, 3.157545203867812],\n",
              " [-0.32238805970149254, 3.110662947399558]]"
            ]
          },
          "metadata": {
            "tags": []
          },
          "execution_count": 140
        }
      ]
    }
  ]
}