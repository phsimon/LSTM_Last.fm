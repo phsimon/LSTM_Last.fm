{
  "nbformat": 4,
  "nbformat_minor": 0,
  "metadata": {
    "colab": {
      "name": "Copie de RS_assessement.ipynb",
      "provenance": [],
      "collapsed_sections": [
        "egnuyQarMKIM",
        "_zF15QlNy6ZP",
        "wsMkABesDgjz",
        "7667V1d1Ilht",
        "RiY4ehVSIoJx",
        "oIM4w1vnAudj",
        "uFV2jEy7OlaX",
        "CalzaNVYOpTm",
        "vZjtlpgKOUoF"
      ],
      "toc_visible": true,
      "mount_file_id": "1DYTuQ-INqhjWwUVD0-_jRxhjLhktuocq",
      "authorship_tag": "ABX9TyO7eXVuaX3xJiw3b77ymNC9"
    },
    "kernelspec": {
      "name": "python3",
      "display_name": "Python 3"
    }
  },
  "cells": [
    {
      "cell_type": "markdown",
      "metadata": {
        "id": "egnuyQarMKIM"
      },
      "source": [
        "# Retrieve data from repository"
      ]
    },
    {
      "cell_type": "code",
      "metadata": {
        "id": "bSZEWU7FMB02"
      },
      "source": [
        "import pandas as pd\n",
        "my_path=\"/content/drive/MyDrive/ColabNotebooks/publication/publi_github/\""
      ],
      "execution_count": 1,
      "outputs": []
    },
    {
      "cell_type": "code",
      "metadata": {
        "colab": {
          "base_uri": "https://localhost:8080/"
        },
        "id": "-08sL48qN65Q",
        "outputId": "bc3b103e-9ec6-4600-d814-35102b3febe6"
      },
      "source": [
        "# install lenskit\n",
        "%pip install lenskit"
      ],
      "execution_count": 2,
      "outputs": [
        {
          "output_type": "stream",
          "text": [
            "Collecting lenskit\n",
            "\u001b[?25l  Downloading https://files.pythonhosted.org/packages/a5/35/2d052536f880cc5504713d5af69562acea8afa8e1734fd5ef174b950887b/lenskit-0.12.3-py3-none-any.whl (82kB)\n",
            "\r\u001b[K     |████                            | 10kB 15.0MB/s eta 0:00:01\r\u001b[K     |████████                        | 20kB 15.7MB/s eta 0:00:01\r\u001b[K     |████████████                    | 30kB 9.8MB/s eta 0:00:01\r\u001b[K     |████████████████                | 40kB 8.0MB/s eta 0:00:01\r\u001b[K     |████████████████████            | 51kB 4.5MB/s eta 0:00:01\r\u001b[K     |████████████████████████        | 61kB 4.8MB/s eta 0:00:01\r\u001b[K     |███████████████████████████▉    | 71kB 5.2MB/s eta 0:00:01\r\u001b[K     |███████████████████████████████▉| 81kB 5.5MB/s eta 0:00:01\r\u001b[K     |████████████████████████████████| 92kB 3.6MB/s \n",
            "\u001b[?25hRequirement already satisfied: numpy>=1.16 in /usr/local/lib/python3.7/dist-packages (from lenskit) (1.19.5)\n",
            "Requirement already satisfied: numba<0.53,>=0.51 in /usr/local/lib/python3.7/dist-packages (from lenskit) (0.51.2)\n",
            "Requirement already satisfied: pyarrow>=0.15 in /usr/local/lib/python3.7/dist-packages (from lenskit) (3.0.0)\n",
            "Collecting binpickle>=0.3.2\n",
            "  Downloading https://files.pythonhosted.org/packages/4d/e3/7aa8964f808f4e25ef0ff46b4fca7861079aacbbb572743557d6d686c3c6/binpickle-0.3.3-py3-none-any.whl\n",
            "Requirement already satisfied: scipy>=1.2 in /usr/local/lib/python3.7/dist-packages (from lenskit) (1.4.1)\n",
            "Collecting csr<0.3,>=0.2\n",
            "  Downloading https://files.pythonhosted.org/packages/7b/cf/6f3e70794536754544b2fdbe04166e307e3876094b220354b98b1077508b/csr-0.2.0-py3-none-any.whl\n",
            "Requirement already satisfied: cffi>=1.12.2 in /usr/local/lib/python3.7/dist-packages (from lenskit) (1.14.5)\n",
            "Requirement already satisfied: pandas>=0.24 in /usr/local/lib/python3.7/dist-packages (from lenskit) (1.1.5)\n",
            "Requirement already satisfied: llvmlite<0.35,>=0.34.0.dev0 in /usr/local/lib/python3.7/dist-packages (from numba<0.53,>=0.51->lenskit) (0.34.0)\n",
            "Requirement already satisfied: setuptools in /usr/local/lib/python3.7/dist-packages (from numba<0.53,>=0.51->lenskit) (54.2.0)\n",
            "Collecting pickle5; python_version < \"3.8\"\n",
            "\u001b[?25l  Downloading https://files.pythonhosted.org/packages/f7/4c/5c4dd0462c8d3a6bc4af500a6af240763c2ebd1efdc736fc2c946d44b70a/pickle5-0.0.11.tar.gz (132kB)\n",
            "\u001b[K     |████████████████████████████████| 133kB 24.4MB/s \n",
            "\u001b[?25hRequirement already satisfied: msgpack>=1.0 in /usr/local/lib/python3.7/dist-packages (from binpickle>=0.3.2->lenskit) (1.0.2)\n",
            "Requirement already satisfied: pycparser in /usr/local/lib/python3.7/dist-packages (from cffi>=1.12.2->lenskit) (2.20)\n",
            "Requirement already satisfied: python-dateutil>=2.7.3 in /usr/local/lib/python3.7/dist-packages (from pandas>=0.24->lenskit) (2.8.1)\n",
            "Requirement already satisfied: pytz>=2017.2 in /usr/local/lib/python3.7/dist-packages (from pandas>=0.24->lenskit) (2018.9)\n",
            "Requirement already satisfied: six>=1.5 in /usr/local/lib/python3.7/dist-packages (from python-dateutil>=2.7.3->pandas>=0.24->lenskit) (1.15.0)\n",
            "Building wheels for collected packages: pickle5\n",
            "  Building wheel for pickle5 (setup.py) ... \u001b[?25l\u001b[?25hdone\n",
            "  Created wheel for pickle5: filename=pickle5-0.0.11-cp37-cp37m-linux_x86_64.whl size=219261 sha256=701e8d5a11ae0c44fa6c28074c04ea673306eed342c398aff39d318b2251ff9a\n",
            "  Stored in directory: /root/.cache/pip/wheels/a6/90/95/f889ca4aa8b0e0c7f21c8470b6f5d6032f0390a3a141a9a3bd\n",
            "Successfully built pickle5\n",
            "Installing collected packages: pickle5, binpickle, csr, lenskit\n",
            "Successfully installed binpickle-0.3.3 csr-0.2.0 lenskit-0.12.3 pickle5-0.0.11\n"
          ],
          "name": "stdout"
        }
      ]
    },
    {
      "cell_type": "code",
      "metadata": {
        "id": "3qaV-n-gLuwE"
      },
      "source": [
        "def convert_df_2_dict(my_dataframe):\n",
        "  '''\n",
        "  '''\n",
        "  my_dico=my_dataframe.to_dict('split')\n",
        "  return dict(my_dico['data'])"
      ],
      "execution_count": 3,
      "outputs": []
    },
    {
      "cell_type": "code",
      "metadata": {
        "id": "AKPe4QAzL73s"
      },
      "source": [
        "import json\n",
        "\n",
        "with open(my_path+'target_ten_parameter.json') as file:\n",
        "  parameter_data = json.load(file)\n",
        "one_hot_space_size=parameter_data['one_hot_size']  \n",
        "data_train_out_valid= pd.read_csv(my_path+\"target_ten_data_train_out_valid\",index_col=0)\n",
        "data_train_out_valid_topn=pd.read_csv(my_path+\"target_ten_data_train_out_valid_topn\",index_col=0)\n",
        "data_train_out_valid_topn_without_doublon=pd.read_csv(my_path+\"target_ten_data_train_out_valid_topn_without_doublon\",index_col=0)\n",
        "data_valid=pd.read_csv(my_path+\"target_ten_data_valid\",index_col=0)\n",
        "data_valid_topn=pd.read_csv(my_path+\"target_ten_data_valid_topn\",index_col=0)\n",
        "data_valid_topn_without_doublon=pd.read_csv(my_path+\"target_ten_data_valid_topn_without_doublon\",index_col=0)\n",
        "data_train=pd.read_csv(my_path+\"target_ten_data_train\",index_col=0)\n",
        "data_test=pd.read_csv(my_path+\"target_ten_data_test\",index_col=0)\n",
        "data_test_topn=pd.read_csv(my_path+\"target_ten_data_test_topn\",index_col=0)\n",
        "data_test_topn_without_doublon=pd.read_csv(my_path+\"target_ten_data_test_topn_without_doublon\",index_col=0)\n",
        "# reconstituer les dictionnaire\n",
        "song_2_int=pd.read_csv(my_path+\"target_ten_song_2_int\")\n",
        "song_2_int=convert_df_2_dict(song_2_int)\n",
        "int_2_song=pd.read_csv(my_path+\"target_ten_int_2_song\")\n",
        "int_2_song=convert_df_2_dict(int_2_song)\n",
        "song_topn_2_int=pd.read_csv(my_path+\"target_ten_song_topn_2_int\")\n",
        "song_topn_2_int=convert_df_2_dict(song_topn_2_int)\n",
        "int_2_song_topn=pd.read_csv(my_path+\"target_ten_int_2_song_topn\")\n",
        "int_2_song_topn=convert_df_2_dict(int_2_song_topn)"
      ],
      "execution_count": 5,
      "outputs": []
    },
    {
      "cell_type": "code",
      "metadata": {
        "colab": {
          "base_uri": "https://localhost:8080/",
          "height": 206
        },
        "id": "6SDjcrdjfPfE",
        "outputId": "52e877db-08dc-4734-c4ef-7d654f5d9c59"
      },
      "source": [
        "data_train_out_valid_topn_without_doublon.head()"
      ],
      "execution_count": 6,
      "outputs": [
        {
          "output_type": "execute_result",
          "data": {
            "text/html": [
              "<div>\n",
              "<style scoped>\n",
              "    .dataframe tbody tr th:only-of-type {\n",
              "        vertical-align: middle;\n",
              "    }\n",
              "\n",
              "    .dataframe tbody tr th {\n",
              "        vertical-align: top;\n",
              "    }\n",
              "\n",
              "    .dataframe thead th {\n",
              "        text-align: right;\n",
              "    }\n",
              "</style>\n",
              "<table border=\"1\" class=\"dataframe\">\n",
              "  <thead>\n",
              "    <tr style=\"text-align: right;\">\n",
              "      <th></th>\n",
              "      <th>0</th>\n",
              "      <th>1</th>\n",
              "      <th>2</th>\n",
              "      <th>3</th>\n",
              "      <th>4</th>\n",
              "      <th>5</th>\n",
              "      <th>6</th>\n",
              "      <th>7</th>\n",
              "      <th>8</th>\n",
              "      <th>9</th>\n",
              "      <th>10</th>\n",
              "      <th>11</th>\n",
              "      <th>12</th>\n",
              "      <th>13</th>\n",
              "      <th>14</th>\n",
              "      <th>15</th>\n",
              "      <th>16</th>\n",
              "      <th>17</th>\n",
              "      <th>18</th>\n",
              "      <th>19</th>\n",
              "    </tr>\n",
              "  </thead>\n",
              "  <tbody>\n",
              "    <tr>\n",
              "      <th>26</th>\n",
              "      <td>603</td>\n",
              "      <td>2</td>\n",
              "      <td>265</td>\n",
              "      <td>6</td>\n",
              "      <td>998</td>\n",
              "      <td>13</td>\n",
              "      <td>74</td>\n",
              "      <td>99</td>\n",
              "      <td>958</td>\n",
              "      <td>1565</td>\n",
              "      <td>165</td>\n",
              "      <td>148</td>\n",
              "      <td>312</td>\n",
              "      <td>552</td>\n",
              "      <td>826</td>\n",
              "      <td>183</td>\n",
              "      <td>16446</td>\n",
              "      <td>689</td>\n",
              "      <td>2148</td>\n",
              "      <td>80</td>\n",
              "    </tr>\n",
              "    <tr>\n",
              "      <th>53</th>\n",
              "      <td>30401</td>\n",
              "      <td>511</td>\n",
              "      <td>6</td>\n",
              "      <td>888</td>\n",
              "      <td>4936</td>\n",
              "      <td>265</td>\n",
              "      <td>19227</td>\n",
              "      <td>25702</td>\n",
              "      <td>1047</td>\n",
              "      <td>245</td>\n",
              "      <td>5389</td>\n",
              "      <td>2482</td>\n",
              "      <td>1507</td>\n",
              "      <td>1329</td>\n",
              "      <td>1205</td>\n",
              "      <td>1212</td>\n",
              "      <td>1194</td>\n",
              "      <td>1503</td>\n",
              "      <td>6217</td>\n",
              "      <td>3050</td>\n",
              "    </tr>\n",
              "    <tr>\n",
              "      <th>169</th>\n",
              "      <td>1348</td>\n",
              "      <td>3350</td>\n",
              "      <td>826</td>\n",
              "      <td>808</td>\n",
              "      <td>814</td>\n",
              "      <td>4504</td>\n",
              "      <td>2704</td>\n",
              "      <td>1944</td>\n",
              "      <td>1480</td>\n",
              "      <td>1465</td>\n",
              "      <td>242</td>\n",
              "      <td>6333</td>\n",
              "      <td>1002</td>\n",
              "      <td>707</td>\n",
              "      <td>10122</td>\n",
              "      <td>3373</td>\n",
              "      <td>1937</td>\n",
              "      <td>1454</td>\n",
              "      <td>1862</td>\n",
              "      <td>51604</td>\n",
              "    </tr>\n",
              "    <tr>\n",
              "      <th>309</th>\n",
              "      <td>988</td>\n",
              "      <td>5208</td>\n",
              "      <td>707</td>\n",
              "      <td>5020</td>\n",
              "      <td>1565</td>\n",
              "      <td>1440</td>\n",
              "      <td>953</td>\n",
              "      <td>4777</td>\n",
              "      <td>970</td>\n",
              "      <td>22522</td>\n",
              "      <td>967</td>\n",
              "      <td>1010</td>\n",
              "      <td>1027</td>\n",
              "      <td>5158</td>\n",
              "      <td>1476</td>\n",
              "      <td>799</td>\n",
              "      <td>22569</td>\n",
              "      <td>688</td>\n",
              "      <td>3621</td>\n",
              "      <td>1941</td>\n",
              "    </tr>\n",
              "    <tr>\n",
              "      <th>569</th>\n",
              "      <td>3398</td>\n",
              "      <td>6587</td>\n",
              "      <td>30455</td>\n",
              "      <td>24620</td>\n",
              "      <td>2345</td>\n",
              "      <td>1347</td>\n",
              "      <td>2060</td>\n",
              "      <td>2969</td>\n",
              "      <td>4057</td>\n",
              "      <td>2724</td>\n",
              "      <td>2982</td>\n",
              "      <td>3316</td>\n",
              "      <td>28</td>\n",
              "      <td>19963</td>\n",
              "      <td>2385</td>\n",
              "      <td>3710</td>\n",
              "      <td>13878</td>\n",
              "      <td>16267</td>\n",
              "      <td>30657</td>\n",
              "      <td>14737</td>\n",
              "    </tr>\n",
              "  </tbody>\n",
              "</table>\n",
              "</div>"
            ],
            "text/plain": [
              "         0     1      2      3     4  ...    15     16     17     18     19\n",
              "26     603     2    265      6   998  ...   183  16446    689   2148     80\n",
              "53   30401   511      6    888  4936  ...  1212   1194   1503   6217   3050\n",
              "169   1348  3350    826    808   814  ...  3373   1937   1454   1862  51604\n",
              "309    988  5208    707   5020  1565  ...   799  22569    688   3621   1941\n",
              "569   3398  6587  30455  24620  2345  ...  3710  13878  16267  30657  14737\n",
              "\n",
              "[5 rows x 20 columns]"
            ]
          },
          "metadata": {
            "tags": []
          },
          "execution_count": 6
        }
      ]
    },
    {
      "cell_type": "markdown",
      "metadata": {
        "id": "_zF15QlNy6ZP"
      },
      "source": [
        "# Constantes"
      ]
    },
    {
      "cell_type": "code",
      "metadata": {
        "id": "eZ21fjmbzCXV"
      },
      "source": [
        "num_prediction=10"
      ],
      "execution_count": 7,
      "outputs": []
    },
    {
      "cell_type": "markdown",
      "metadata": {
        "id": "aU-4kugIMUa9"
      },
      "source": [
        "# Format data"
      ]
    },
    {
      "cell_type": "markdown",
      "metadata": {
        "id": "yILxohBhGJ8v"
      },
      "source": [
        "**Train / Test.**<br>\n",
        "The train set will consist of the data_train_out_valid_xxx set and the data_test_xxx set in part. In fact, for data_test_xxx, only the first ten will be retained for each sequence.<br>\n",
        "**Why?**<br> the objective is to be able to take measurements with classic recommendation algorithms (RS) and to compare with those obtained with LSTMs. To do this, the RS should ideally operate on the same data. However, for LSTMs, the learning is done on the “train_out_valid” set and there is a “valid” set used to control the learning. It is considered that the latter (“valid”) is not used for learning and therefore it is excluded from the dataset of classical algorithms (at least those which do not require a set of validation). The test set that is used to generate evaluation metrics is \"data_test_xxx\". For LSTMs, we proceed as follows: each history comprising exactly 20 items (note that we filter beforehand to retain only such user having a history of length 20) we take the 10 oldest as input (index from 0 to 9) and we seeks to predict the other 10 (index from 10 to 19). For the classic algos which take a \"user\" as input, this user must be known by the system to have a recommendation (there is no fit_partial service as standard for new users), then we integrate into the data_train the oldest 10 item history (the one which is used as an input for the LSTM). In practice, either u_test an unser of the test set and item_u_test_i the item i of its history, we integrate all the pairs (user, item_u_test_i) for i from 0 to 9.\n",
        "For the evaluation, we will ask for 10 recommendations for the users of the test set, and we will compare to the 10 items from india 10 to 19 (as for the LSTM).\n",
        "   \n"
      ]
    },
    {
      "cell_type": "code",
      "metadata": {
        "colab": {
          "base_uri": "https://localhost:8080/"
        },
        "id": "nDkV1QAKRS8z",
        "outputId": "348f9dab-4b47-4bbc-ec29-662d7b3258c9"
      },
      "source": [
        "len(data_train_out_valid_topn_without_doublon)"
      ],
      "execution_count": 8,
      "outputs": [
        {
          "output_type": "execute_result",
          "data": {
            "text/plain": [
              "5676"
            ]
          },
          "metadata": {
            "tags": []
          },
          "execution_count": 8
        }
      ]
    },
    {
      "cell_type": "code",
      "metadata": {
        "id": "1QIPAUXWMICr"
      },
      "source": [
        "# data_train_out_valid_topn_without_doublon\n",
        "tab_logs=[]\n",
        "i=1\n",
        "for j in range(len(data_train_out_valid_topn_without_doublon)):\n",
        "  #print(data_train_out_valid_topn_without_doublon.iloc[j])\n",
        "  count=0\n",
        "  for item in data_train_out_valid_topn_without_doublon.iloc[j]:\n",
        "    #tab_logs.append([i,item,((count%10)//5)*4 +1])\n",
        "    tab_logs.append([i,item,(count%10)+1])\n",
        "    count+=1\n",
        "  i+=1\n",
        "\n"
      ],
      "execution_count": 9,
      "outputs": []
    },
    {
      "cell_type": "code",
      "metadata": {
        "colab": {
          "base_uri": "https://localhost:8080/"
        },
        "id": "f-vE_phyOpmC",
        "outputId": "281b33c8-10e4-40dd-9b8f-81a686be1670"
      },
      "source": [
        "# doit valoir len(data_train_xxx*20)\n",
        "len(tab_logs)"
      ],
      "execution_count": 10,
      "outputs": [
        {
          "output_type": "execute_result",
          "data": {
            "text/plain": [
              "113520"
            ]
          },
          "metadata": {
            "tags": []
          },
          "execution_count": 10
        }
      ]
    },
    {
      "cell_type": "code",
      "metadata": {
        "id": "zbPzcwgkmEeh"
      },
      "source": [
        "# sampling boolean\n",
        "SAMPLING=False"
      ],
      "execution_count": 11,
      "outputs": []
    },
    {
      "cell_type": "code",
      "metadata": {
        "id": "ArBfaxyJlHTm"
      },
      "source": [
        "# test set\n",
        "import numpy as np\n",
        "THRESHOLD=19\n",
        "test_set=[user for user in data_test_topn_without_doublon.index]\n",
        "test_set=[user for user in test_set if np.count_nonzero(data_test_topn_without_doublon.loc[user])> THRESHOLD]"
      ],
      "execution_count": 12,
      "outputs": []
    },
    {
      "cell_type": "code",
      "metadata": {
        "id": "UpYz58ViPo9L"
      },
      "source": [
        "\n",
        "# sampling ensemble de test\n",
        "import numpy as np\n",
        "THRESHOLD=19\n",
        "sample_test_0=[user for user in data_test_topn_without_doublon.index if (user%10==0)]\n",
        "sample_test_0=[user for user in sample_test_0 if np.count_nonzero(data_test_topn_without_doublon.loc[user])> THRESHOLD]"
      ],
      "execution_count": null,
      "outputs": []
    },
    {
      "cell_type": "code",
      "metadata": {
        "id": "cUmpKl4oGHv7"
      },
      "source": [
        "if SAMPLING: \n",
        "  # adding part of test set to train set\n",
        "  i=tab_logs[-1][0]+1  #on incrémente de 1 le dernier user de tab_logs \n",
        "  sample_test_0_reindexed={}\n",
        "  for user in sample_test_0:\n",
        "    count=0\n",
        "    for item in data_test_topn_without_doublon.loc[user][:10]:\n",
        "      #tab_logs.append([i,item,((count%10)//5)*4 +1])    \n",
        "      tab_logs.append([i,item,(count%10)+1])\n",
        "      count+=1\n",
        "    sample_test_0_reindexed[i]=list(data_test_topn_without_doublon.loc[user][10:])\n",
        "    i+=1\n",
        "  sample_test_0_user_list=list(sample_test_0_reindexed.keys())"
      ],
      "execution_count": 13,
      "outputs": []
    },
    {
      "cell_type": "code",
      "metadata": {
        "id": "DhF0Ni2-loy9"
      },
      "source": [
        "if not SAMPLING:\n",
        "  # without sampling\n",
        "  i=tab_logs[-1][0]+1  #on incrémente de 1 le dernier user de tab_logs \n",
        "  test_reindexed={}\n",
        "  for user in test_set:\n",
        "    count=0\n",
        "    for item in data_test_topn_without_doublon.loc[user][:10]:\n",
        "      #tab_logs.append([i,item,((count%10)//5)*4 +1])    \n",
        "      tab_logs.append([i,item,(count%10)+1])\n",
        "      count+=1\n",
        "    test_reindexed[i]=list(data_test_topn_without_doublon.loc[user][10:])\n",
        "    i+=1\n",
        "\n",
        "  test_user_list=list(test_reindexed.keys())"
      ],
      "execution_count": 14,
      "outputs": []
    },
    {
      "cell_type": "code",
      "metadata": {
        "colab": {
          "base_uri": "https://localhost:8080/"
        },
        "id": "WVz07Aktl4ik",
        "outputId": "2531b829-18d1-41ca-ec62-09063d1fba39"
      },
      "source": [
        "len(tab_logs)"
      ],
      "execution_count": 15,
      "outputs": [
        {
          "output_type": "execute_result",
          "data": {
            "text/plain": [
              "128560"
            ]
          },
          "metadata": {
            "tags": []
          },
          "execution_count": 15
        }
      ]
    },
    {
      "cell_type": "code",
      "metadata": {
        "colab": {
          "base_uri": "https://localhost:8080/"
        },
        "id": "1Dv0dLAlBgsr",
        "outputId": "5ccd002c-82af-4eb6-905f-29c5ab98f376"
      },
      "source": [
        "tab_logs=np.array(tab_logs)\n",
        "tab_logs.shape"
      ],
      "execution_count": 16,
      "outputs": [
        {
          "output_type": "execute_result",
          "data": {
            "text/plain": [
              "(128560, 3)"
            ]
          },
          "metadata": {
            "tags": []
          },
          "execution_count": 16
        }
      ]
    },
    {
      "cell_type": "code",
      "metadata": {
        "colab": {
          "base_uri": "https://localhost:8080/"
        },
        "id": "nlLSj36qns3c",
        "outputId": "cfc357c9-52bf-4dc7-84fa-7b1ee6d28784"
      },
      "source": [
        "liste_item=np.unique(tab_logs[:,1])\n",
        "len(liste_item)"
      ],
      "execution_count": 17,
      "outputs": [
        {
          "output_type": "execute_result",
          "data": {
            "text/plain": [
              "11025"
            ]
          },
          "metadata": {
            "tags": []
          },
          "execution_count": 17
        }
      ]
    },
    {
      "cell_type": "code",
      "metadata": {
        "colab": {
          "base_uri": "https://localhost:8080/"
        },
        "id": "45fBpB9sLl2h",
        "outputId": "1cfda618-2c85-4aec-d535-059558e268a5"
      },
      "source": [
        "# doit valoir len(data_train_xxx*20)+ len(data_test_xxx*10)\n",
        "print(len(tab_logs))\n",
        "print(len(data_train_out_valid_topn_without_doublon)*20+(len(test_reindexed)*10))"
      ],
      "execution_count": 18,
      "outputs": [
        {
          "output_type": "stream",
          "text": [
            "128560\n",
            "128560\n"
          ],
          "name": "stdout"
        }
      ]
    },
    {
      "cell_type": "code",
      "metadata": {
        "id": "Ia-G1ZMOWUBq"
      },
      "source": [
        "ratings=pd.DataFrame(tab_logs,columns=['user','item','rating'])"
      ],
      "execution_count": 19,
      "outputs": []
    },
    {
      "cell_type": "code",
      "metadata": {
        "id": "QuFYiAjOW02E",
        "colab": {
          "base_uri": "https://localhost:8080/",
          "height": 206
        },
        "outputId": "017c7b2a-f5b0-4bcd-d207-f968663bcee4"
      },
      "source": [
        "ratings.tail()"
      ],
      "execution_count": 20,
      "outputs": [
        {
          "output_type": "execute_result",
          "data": {
            "text/html": [
              "<div>\n",
              "<style scoped>\n",
              "    .dataframe tbody tr th:only-of-type {\n",
              "        vertical-align: middle;\n",
              "    }\n",
              "\n",
              "    .dataframe tbody tr th {\n",
              "        vertical-align: top;\n",
              "    }\n",
              "\n",
              "    .dataframe thead th {\n",
              "        text-align: right;\n",
              "    }\n",
              "</style>\n",
              "<table border=\"1\" class=\"dataframe\">\n",
              "  <thead>\n",
              "    <tr style=\"text-align: right;\">\n",
              "      <th></th>\n",
              "      <th>user</th>\n",
              "      <th>item</th>\n",
              "      <th>rating</th>\n",
              "    </tr>\n",
              "  </thead>\n",
              "  <tbody>\n",
              "    <tr>\n",
              "      <th>128555</th>\n",
              "      <td>7180</td>\n",
              "      <td>1999</td>\n",
              "      <td>6</td>\n",
              "    </tr>\n",
              "    <tr>\n",
              "      <th>128556</th>\n",
              "      <td>7180</td>\n",
              "      <td>988</td>\n",
              "      <td>7</td>\n",
              "    </tr>\n",
              "    <tr>\n",
              "      <th>128557</th>\n",
              "      <td>7180</td>\n",
              "      <td>723</td>\n",
              "      <td>8</td>\n",
              "    </tr>\n",
              "    <tr>\n",
              "      <th>128558</th>\n",
              "      <td>7180</td>\n",
              "      <td>1470</td>\n",
              "      <td>9</td>\n",
              "    </tr>\n",
              "    <tr>\n",
              "      <th>128559</th>\n",
              "      <td>7180</td>\n",
              "      <td>2558</td>\n",
              "      <td>10</td>\n",
              "    </tr>\n",
              "  </tbody>\n",
              "</table>\n",
              "</div>"
            ],
            "text/plain": [
              "        user  item  rating\n",
              "128555  7180  1999       6\n",
              "128556  7180   988       7\n",
              "128557  7180   723       8\n",
              "128558  7180  1470       9\n",
              "128559  7180  2558      10"
            ]
          },
          "metadata": {
            "tags": []
          },
          "execution_count": 20
        }
      ]
    },
    {
      "cell_type": "code",
      "metadata": {
        "colab": {
          "base_uri": "https://localhost:8080/"
        },
        "id": "w2JumS4RbxP3",
        "outputId": "94c3823e-ec9a-4f20-b9da-ac4cc6786c86"
      },
      "source": [
        "len(np.unique(ratings['user']))"
      ],
      "execution_count": 21,
      "outputs": [
        {
          "output_type": "execute_result",
          "data": {
            "text/plain": [
              "7180"
            ]
          },
          "metadata": {
            "tags": []
          },
          "execution_count": 21
        }
      ]
    },
    {
      "cell_type": "code",
      "metadata": {
        "id": "ElBifscvrJTv"
      },
      "source": [
        "average_measure={}\n",
        "average_measure['PREC'],average_measure['MAP'], average_measure['MRR'],average_measure['NDCG'] =[],[],[],[]"
      ],
      "execution_count": 22,
      "outputs": []
    },
    {
      "cell_type": "markdown",
      "metadata": {
        "id": "wsMkABesDgjz"
      },
      "source": [
        "# Random recsys"
      ]
    },
    {
      "cell_type": "code",
      "metadata": {
        "id": "yt7VTi3-DvF9"
      },
      "source": [
        "dico_reco={}\n",
        "for user in test_reindexed:\n",
        "  reco=[]\n",
        "  # selection du dernier item vu\n",
        "  reco=list(np.random.choice(liste_item, size=num_prediction*4, replace=True))\n",
        "  reco=[x for x in reco if x not in test_reindexed[user]]\n",
        "  dico_reco[user]=reco[:num_prediction]"
      ],
      "execution_count": 88,
      "outputs": []
    },
    {
      "cell_type": "markdown",
      "metadata": {
        "id": "AIvf5HRHxZ8Z"
      },
      "source": [
        "# Next One (Markov Chain - or conditionnal proba)"
      ]
    },
    {
      "cell_type": "markdown",
      "metadata": {
        "id": "D4_JjLQskLkI"
      },
      "source": [
        "Two approaches:\n",
        "- look for the item just after the last seen (get_next_item_list)\n",
        "- search for all items seen after the last seen (get_next_items_list)\n",
        "\n",
        "it seems that the two methods leading to identical results for precision."
      ]
    },
    {
      "cell_type": "markdown",
      "metadata": {
        "id": "Qlawsr8ixv2i"
      },
      "source": [
        "Getting recommendation for users from the test dataset"
      ]
    },
    {
      "cell_type": "code",
      "metadata": {
        "id": "0h_LrSQKxuHA"
      },
      "source": [
        "from collections import Counter\n",
        "\n",
        "def get_occurrence_item(item, dataset):\n",
        "  '''\n",
        "    :param item : int item identifiant\n",
        "    :dataset : dataframe each line content the list of item a user has viewed\n",
        "    :return dataset_filtered: list with only the line which content the item\n",
        "  '''\n",
        "  tab_occu_item=[]\n",
        "  for j in range(len(dataset)):\n",
        "    ma_liste=list(dataset.iloc[j])\n",
        "    if item in ma_liste and ma_liste[-1]!=item:\n",
        "      tab_occu_item.append(ma_liste)\n",
        "  return tab_occu_item    \n",
        "\n",
        "\n",
        "def get_next_item_list(item, dataset, size_list):\n",
        "  '''\n",
        "    :param item : int item identifiant\n",
        "    :dataset : dataframe each line content the list of item a user has viewed\n",
        "    :size_list : nombre d'items souhaités\n",
        "    :return list_item: list of user identifiant sortered by popularity\n",
        "  '''\n",
        "  #obtention des enregistrements contenant \"item\" (pas en dernière position)\n",
        "  tab_occ=[]\n",
        "  tab_occ_item=get_occurrence_item(item,dataset)\n",
        "  #enregistrement des co-occurrences\n",
        "  for i in range(len(tab_occ_item)):\n",
        "    history=tab_occ_item[i]\n",
        "    # identification de la position de \"item\"\n",
        "    index_item=history.index(item)\n",
        "    #enregistrement de l'item suivant, toujours possible car item n'est pas en dernière position\n",
        "    tab_occ.append(history[index_item+1])\n",
        "  result=Counter(tab_occ)\n",
        "  result=sorted(result.items(),key=lambda t: t[1],reverse=True)\n",
        "  result1=[x[0] for x in result[:size_list]]\n",
        "  return result1,result  \n",
        "\n",
        "def get_back_item_list(item, dataset, size_list):\n",
        "  '''\n",
        "    :param item : int item identifiant\n",
        "    :dataset : dataframe each line content the list of item a user has viewed\n",
        "    :size_list : nombre d'items souhaités\n",
        "    :return list_item: list of user identifiant sortered by popularity\n",
        "  '''\n",
        "  #obtention des enregistrements contenant \"item\" (pas en dernière position)\n",
        "  tab_occ=[]\n",
        "  tab_occ_item=get_occurrence_item(item,dataset)\n",
        "  #enregistrement des co-occurrences\n",
        "  for i in range(len(tab_occ_item)):\n",
        "    history=tab_occ_item[i]\n",
        "    # identification de la position de \"item\"\n",
        "    index_item=history.index(item)\n",
        "    #enregistrement de l'item précédent, toujours possible car item n'est pas en dernière première position\n",
        "    tab_occ.append(history[index_item-1])\n",
        "  result=Counter(tab_occ)\n",
        "  result=sorted(result.items(),key=lambda t: t[1],reverse=True)\n",
        "  result1=[x[0] for x in result[:size_list]]\n",
        "  return result1,result \n",
        "\n",
        "\n",
        "def get_next_items_list(item, dataset, size_list):\n",
        "  '''\n",
        "    :param item : int item identifiant\n",
        "    :dataset : dataframe each line content the list of item a user has viewed\n",
        "    :size_list : nombre d'items souhaités\n",
        "    :return list_item: list of user identifiant sortered by popularity\n",
        "  '''\n",
        "  #obtention des enregistrements contenant \"item\" (pas en dernière position)\n",
        "  tab_occ=[]\n",
        "  tab_occ_item=get_occurrence_item(item,dataset)\n",
        "  #enregistrement des co-occurrences\n",
        "  for i in range(len(tab_occ_item)):\n",
        "    history=tab_occ_item[i]\n",
        "    # identification de la position de \"item\"\n",
        "    index_item=history.index(item)\n",
        "    #enregistrement de l'item suivant, toujours possible car item n'est pas en dernière position\n",
        "    for content in history[index_item+1:]:\n",
        "      tab_occ.append(content)\n",
        "  result=Counter(tab_occ)\n",
        "  result=sorted(result.items(),key=lambda t: t[1],reverse=True)\n",
        "  result1=[x[0] for x in result[:size_list]]\n",
        "  return result1, result\n",
        "\n",
        "\n",
        "def get_back_items_list(item, dataset, size_list):\n",
        "  '''\n",
        "    :param item : int item identifiant\n",
        "    :dataset : dataframe each line content the list of item a user has viewed\n",
        "    :size_list : nombre d'items souhaités\n",
        "    :return list_item: list of user identifiant sortered by popularity\n",
        "  '''\n",
        "  #obtention des enregistrements contenant \"item\" (pas en dernière position)\n",
        "  tab_occ=[]\n",
        "  tab_occ_item=get_occurrence_item(item,dataset)\n",
        "  #enregistrement des co-occurrences\n",
        "  for i in range(len(tab_occ_item)):\n",
        "    history=tab_occ_item[i]\n",
        "    # identification de la position de \"item\"\n",
        "    index_item=history.index(item)\n",
        "    #enregistrement de l'item précédent, toujours possible car item n'est pas en première position\n",
        "    for content in history[:index_item]:\n",
        "      tab_occ.append(content)\n",
        "  result=Counter(tab_occ)\n",
        "  result=sorted(result.items(),key=lambda t: t[1],reverse=True)\n",
        "  result1=[x[0] for x in result[:size_list]]\n",
        "  return result1,result\n",
        "\n"
      ],
      "execution_count": 141,
      "outputs": []
    },
    {
      "cell_type": "code",
      "metadata": {
        "id": "CwVxfo-MJuZJ"
      },
      "source": [
        "# test unitaire\n",
        "ma_tab=get_occurrence_item(2,data_train_out_valid_topn_without_doublon)\n",
        "result=get_back_items_list(2,data_train_out_valid_topn_without_doublon,5)[0]"
      ],
      "execution_count": 142,
      "outputs": []
    },
    {
      "cell_type": "code",
      "metadata": {
        "colab": {
          "base_uri": "https://localhost:8080/"
        },
        "id": "AFiRUBwXXG5C",
        "outputId": "02002087-e593-4f64-90d0-9015ed7c318c"
      },
      "source": [
        "# test unitaire\n",
        "print(result)"
      ],
      "execution_count": 143,
      "outputs": [
        {
          "output_type": "stream",
          "text": [
            "[148, 13, 603, 99, 77]\n"
          ],
          "name": "stdout"
        }
      ]
    },
    {
      "cell_type": "code",
      "metadata": {
        "id": "dmx3ip-Rx04-"
      },
      "source": [
        "dico_reco={}\n",
        "for user in test_reindexed:\n",
        "  # selection du dernier item vu\n",
        "  last_item=test_reindexed[user][-1]\n",
        "  candidats=get_next_item_list(last_item,data_train_out_valid_topn_without_doublon,num_prediction+ THRESHOLD + 1)\n",
        "  result=[x for x in candidats if x not in test_reindexed[user]]\n",
        "  dico_reco[user]=get_next_item_list(last_item,data_train_out_valid_topn_without_doublon,num_prediction)[0]"
      ],
      "execution_count": 144,
      "outputs": []
    },
    {
      "cell_type": "markdown",
      "metadata": {
        "id": "7667V1d1Ilht"
      },
      "source": [
        "# ALS"
      ]
    },
    {
      "cell_type": "code",
      "metadata": {
        "id": "exPQhRqFTOOz"
      },
      "source": [
        "from lenskit.algorithms.als import ImplicitMF\n",
        "ALS_Implicit=ImplicitMF(features=100,iterations=30,reg=0.1,weight=1,method='cg')"
      ],
      "execution_count": 97,
      "outputs": []
    },
    {
      "cell_type": "code",
      "metadata": {
        "colab": {
          "base_uri": "https://localhost:8080/",
          "height": 0
        },
        "id": "S6SdSuJhk2pU",
        "outputId": "204532e9-4f20-4a15-8322-20ed566b13ba"
      },
      "source": [
        "ratings[['user','item']]"
      ],
      "execution_count": 98,
      "outputs": [
        {
          "output_type": "execute_result",
          "data": {
            "text/html": [
              "<div>\n",
              "<style scoped>\n",
              "    .dataframe tbody tr th:only-of-type {\n",
              "        vertical-align: middle;\n",
              "    }\n",
              "\n",
              "    .dataframe tbody tr th {\n",
              "        vertical-align: top;\n",
              "    }\n",
              "\n",
              "    .dataframe thead th {\n",
              "        text-align: right;\n",
              "    }\n",
              "</style>\n",
              "<table border=\"1\" class=\"dataframe\">\n",
              "  <thead>\n",
              "    <tr style=\"text-align: right;\">\n",
              "      <th></th>\n",
              "      <th>user</th>\n",
              "      <th>item</th>\n",
              "    </tr>\n",
              "  </thead>\n",
              "  <tbody>\n",
              "    <tr>\n",
              "      <th>0</th>\n",
              "      <td>1</td>\n",
              "      <td>603</td>\n",
              "    </tr>\n",
              "    <tr>\n",
              "      <th>1</th>\n",
              "      <td>1</td>\n",
              "      <td>2</td>\n",
              "    </tr>\n",
              "    <tr>\n",
              "      <th>2</th>\n",
              "      <td>1</td>\n",
              "      <td>265</td>\n",
              "    </tr>\n",
              "    <tr>\n",
              "      <th>3</th>\n",
              "      <td>1</td>\n",
              "      <td>6</td>\n",
              "    </tr>\n",
              "    <tr>\n",
              "      <th>4</th>\n",
              "      <td>1</td>\n",
              "      <td>998</td>\n",
              "    </tr>\n",
              "    <tr>\n",
              "      <th>...</th>\n",
              "      <td>...</td>\n",
              "      <td>...</td>\n",
              "    </tr>\n",
              "    <tr>\n",
              "      <th>128555</th>\n",
              "      <td>7180</td>\n",
              "      <td>1999</td>\n",
              "    </tr>\n",
              "    <tr>\n",
              "      <th>128556</th>\n",
              "      <td>7180</td>\n",
              "      <td>988</td>\n",
              "    </tr>\n",
              "    <tr>\n",
              "      <th>128557</th>\n",
              "      <td>7180</td>\n",
              "      <td>723</td>\n",
              "    </tr>\n",
              "    <tr>\n",
              "      <th>128558</th>\n",
              "      <td>7180</td>\n",
              "      <td>1470</td>\n",
              "    </tr>\n",
              "    <tr>\n",
              "      <th>128559</th>\n",
              "      <td>7180</td>\n",
              "      <td>2558</td>\n",
              "    </tr>\n",
              "  </tbody>\n",
              "</table>\n",
              "<p>128560 rows × 2 columns</p>\n",
              "</div>"
            ],
            "text/plain": [
              "        user  item\n",
              "0          1   603\n",
              "1          1     2\n",
              "2          1   265\n",
              "3          1     6\n",
              "4          1   998\n",
              "...      ...   ...\n",
              "128555  7180  1999\n",
              "128556  7180   988\n",
              "128557  7180   723\n",
              "128558  7180  1470\n",
              "128559  7180  2558\n",
              "\n",
              "[128560 rows x 2 columns]"
            ]
          },
          "metadata": {
            "tags": []
          },
          "execution_count": 98
        }
      ]
    },
    {
      "cell_type": "code",
      "metadata": {
        "colab": {
          "base_uri": "https://localhost:8080/"
        },
        "id": "wLv3DN6MhzHO",
        "outputId": "cc43365d-4f4c-4e0b-b91b-1b3f51bb560e"
      },
      "source": [
        "ALS_Implicit.fit(ratings[['user','item']])"
      ],
      "execution_count": 99,
      "outputs": [
        {
          "output_type": "execute_result",
          "data": {
            "text/plain": [
              "<lenskit.algorithms.als.ImplicitMF at 0x7fa8685ee390>"
            ]
          },
          "metadata": {
            "tags": []
          },
          "execution_count": 99
        }
      ]
    },
    {
      "cell_type": "code",
      "metadata": {
        "colab": {
          "base_uri": "https://localhost:8080/"
        },
        "id": "jwabllnSnGOe",
        "outputId": "59b7d96b-0a83-4c75-937c-5ec1da764c2e"
      },
      "source": [
        "ALS_Implicit.fit(ratings)"
      ],
      "execution_count": 100,
      "outputs": [
        {
          "output_type": "execute_result",
          "data": {
            "text/plain": [
              "<lenskit.algorithms.als.ImplicitMF at 0x7fa8685ee390>"
            ]
          },
          "metadata": {
            "tags": []
          },
          "execution_count": 100
        }
      ]
    },
    {
      "cell_type": "code",
      "metadata": {
        "id": "zWR8qWpFh5rK"
      },
      "source": [
        "prediction=ALS_Implicit.predict_for_user(test_user_list[0],np.unique(ratings[\"item\"]))"
      ],
      "execution_count": 101,
      "outputs": []
    },
    {
      "cell_type": "code",
      "metadata": {
        "id": "ifrXrtSMYR6T"
      },
      "source": [
        ""
      ],
      "execution_count": 101,
      "outputs": []
    },
    {
      "cell_type": "code",
      "metadata": {
        "colab": {
          "base_uri": "https://localhost:8080/"
        },
        "id": "9np-BMNpd76D",
        "outputId": "584979e7-fd82-4b25-dbad-b55cec4fc2ff"
      },
      "source": [
        "prediction.head()"
      ],
      "execution_count": 102,
      "outputs": [
        {
          "output_type": "execute_result",
          "data": {
            "text/plain": [
              "1    0.198171\n",
              "2    0.835042\n",
              "4    0.060346\n",
              "5    0.013920\n",
              "6    0.041243\n",
              "dtype: float64"
            ]
          },
          "metadata": {
            "tags": []
          },
          "execution_count": 102
        }
      ]
    },
    {
      "cell_type": "code",
      "metadata": {
        "colab": {
          "base_uri": "https://localhost:8080/",
          "height": 0
        },
        "id": "rFa3xl-DWuGP",
        "outputId": "7cb3593c-4463-4b9f-a074-4366dc3119fe"
      },
      "source": [
        "import matplotlib.pyplot as plt\n",
        "plt.hist(prediction)"
      ],
      "execution_count": 103,
      "outputs": [
        {
          "output_type": "execute_result",
          "data": {
            "text/plain": [
              "(array([2.000e+01, 1.269e+03, 9.575e+03, 1.130e+02, 2.900e+01, 6.000e+00,\n",
              "        3.000e+00, 4.000e+00, 2.000e+00, 4.000e+00]),\n",
              " array([-0.24980462, -0.13239564, -0.01498667,  0.1024223 ,  0.21983128,\n",
              "         0.33724025,  0.45464922,  0.5720582 ,  0.68946717,  0.80687614,\n",
              "         0.92428512]),\n",
              " <a list of 10 Patch objects>)"
            ]
          },
          "metadata": {
            "tags": []
          },
          "execution_count": 103
        },
        {
          "output_type": "display_data",
          "data": {
            "image/png": "[encoded data removed]",
            "text/plain": [
              "<Figure size 432x288 with 1 Axes>"
            ]
          },
          "metadata": {
            "tags": [],
            "needs_background": "light"
          }
        }
      ]
    },
    {
      "cell_type": "code",
      "metadata": {
        "colab": {
          "base_uri": "https://localhost:8080/",
          "height": 0
        },
        "id": "0tzyreDtW9mE",
        "outputId": "f81c590b-7478-412f-fcae-b8a2879d0712"
      },
      "source": [
        "plt.plot(prediction)"
      ],
      "execution_count": 104,
      "outputs": [
        {
          "output_type": "execute_result",
          "data": {
            "text/plain": [
              "[<matplotlib.lines.Line2D at 0x7fa85d192390>]"
            ]
          },
          "metadata": {
            "tags": []
          },
          "execution_count": 104
        },
        {
          "output_type": "display_data",
          "data": {
            "image/png": "[encoded data removed]",
            "text/plain": [
              "<Figure size 432x288 with 1 Axes>"
            ]
          },
          "metadata": {
            "tags": [],
            "needs_background": "light"
          }
        }
      ]
    },
    {
      "cell_type": "code",
      "metadata": {
        "colab": {
          "base_uri": "https://localhost:8080/"
        },
        "id": "4I5kXAdjX-MC",
        "outputId": "b3725bfb-5491-4b8e-cc4c-b71ddf2c91c8"
      },
      "source": [
        "prediction_test=prediction.sort_values(ascending=False)[:10]\n",
        "print(prediction_test)"
      ],
      "execution_count": 105,
      "outputs": [
        {
          "output_type": "stream",
          "text": [
            "74     0.924285\n",
            "39     0.905347\n",
            "265    0.842553\n",
            "2      0.835042\n",
            "76     0.774081\n",
            "166    0.728880\n",
            "244    0.677231\n",
            "92     0.649961\n",
            "601    0.637282\n",
            "99     0.635415\n",
            "dtype: float64\n"
          ],
          "name": "stdout"
        }
      ]
    },
    {
      "cell_type": "code",
      "metadata": {
        "id": "pXaAw2a2Y4Nd"
      },
      "source": [
        "dico_reco={}\n",
        "for user in test_reindexed:\n",
        "  history_user=ratings[ratings['user']==user]\n",
        "  #print(history_user)\n",
        "  # obtention des predictions\n",
        "  prediction_user=ALS_Implicit.predict_for_user(user,np.unique(ratings[\"item\"]))\n",
        "  \n",
        "  prediction_user=prediction_user.sort_values(ascending=False)\n",
        "  #print(prediction_user)\n",
        "  \n",
        "  #candidats=[x for x in prediction_user.index[:num_prediction+THRESHOLD+1] if x not in list(ratings[ratings[\"user\"]==x]['item'])] \n",
        "  candidats=[x for x in prediction_user.index[:num_prediction+THRESHOLD+1] ] \n",
        "  reco=[x for x in candidats if x not in list(ratings[ratings[\"user\"]==user]['item'])]\n",
        "  dico_reco[user]=reco[:num_prediction]\n",
        "\n"
      ],
      "execution_count": 106,
      "outputs": []
    },
    {
      "cell_type": "markdown",
      "metadata": {
        "id": "RiY4ehVSIoJx"
      },
      "source": [
        "# Most popular"
      ]
    },
    {
      "cell_type": "code",
      "metadata": {
        "id": "ZUFXuCwXTfbI"
      },
      "source": [
        "from lenskit.algorithms.basic import Popular"
      ],
      "execution_count": 114,
      "outputs": []
    },
    {
      "cell_type": "code",
      "metadata": {
        "colab": {
          "base_uri": "https://localhost:8080/"
        },
        "id": "qYnZxBlNXEH_",
        "outputId": "4793fb39-5b6a-4d79-b06c-14ecc76ee529"
      },
      "source": [
        "popular = Popular()\n",
        "popular.fit(ratings)"
      ],
      "execution_count": 115,
      "outputs": [
        {
          "output_type": "execute_result",
          "data": {
            "text/plain": [
              "<lenskit.algorithms.basic.Popular at 0x7fa85b48bc90>"
            ]
          },
          "metadata": {
            "tags": []
          },
          "execution_count": 115
        }
      ]
    },
    {
      "cell_type": "code",
      "metadata": {
        "colab": {
          "base_uri": "https://localhost:8080/",
          "height": 363
        },
        "id": "A4gIVNjqTvQi",
        "outputId": "889b131c-f1e2-4782-f0a3-09e1234eeaeb"
      },
      "source": [
        "popular.recommend(user=5677,n=10)"
      ],
      "execution_count": 116,
      "outputs": [
        {
          "output_type": "execute_result",
          "data": {
            "text/html": [
              "<div>\n",
              "<style scoped>\n",
              "    .dataframe tbody tr th:only-of-type {\n",
              "        vertical-align: middle;\n",
              "    }\n",
              "\n",
              "    .dataframe tbody tr th {\n",
              "        vertical-align: top;\n",
              "    }\n",
              "\n",
              "    .dataframe thead th {\n",
              "        text-align: right;\n",
              "    }\n",
              "</style>\n",
              "<table border=\"1\" class=\"dataframe\">\n",
              "  <thead>\n",
              "    <tr style=\"text-align: right;\">\n",
              "      <th></th>\n",
              "      <th>item</th>\n",
              "      <th>score</th>\n",
              "    </tr>\n",
              "  </thead>\n",
              "  <tbody>\n",
              "    <tr>\n",
              "      <th>0</th>\n",
              "      <td>28</td>\n",
              "      <td>912.0</td>\n",
              "    </tr>\n",
              "    <tr>\n",
              "      <th>1</th>\n",
              "      <td>13</td>\n",
              "      <td>683.0</td>\n",
              "    </tr>\n",
              "    <tr>\n",
              "      <th>2</th>\n",
              "      <td>349</td>\n",
              "      <td>582.0</td>\n",
              "    </tr>\n",
              "    <tr>\n",
              "      <th>3</th>\n",
              "      <td>80</td>\n",
              "      <td>517.0</td>\n",
              "    </tr>\n",
              "    <tr>\n",
              "      <th>4</th>\n",
              "      <td>840</td>\n",
              "      <td>510.0</td>\n",
              "    </tr>\n",
              "    <tr>\n",
              "      <th>5</th>\n",
              "      <td>1348</td>\n",
              "      <td>474.0</td>\n",
              "    </tr>\n",
              "    <tr>\n",
              "      <th>6</th>\n",
              "      <td>1438</td>\n",
              "      <td>472.0</td>\n",
              "    </tr>\n",
              "    <tr>\n",
              "      <th>7</th>\n",
              "      <td>1289</td>\n",
              "      <td>445.0</td>\n",
              "    </tr>\n",
              "    <tr>\n",
              "      <th>8</th>\n",
              "      <td>826</td>\n",
              "      <td>437.0</td>\n",
              "    </tr>\n",
              "    <tr>\n",
              "      <th>9</th>\n",
              "      <td>77</td>\n",
              "      <td>428.0</td>\n",
              "    </tr>\n",
              "  </tbody>\n",
              "</table>\n",
              "</div>"
            ],
            "text/plain": [
              "   item  score\n",
              "0    28  912.0\n",
              "1    13  683.0\n",
              "2   349  582.0\n",
              "3    80  517.0\n",
              "4   840  510.0\n",
              "5  1348  474.0\n",
              "6  1438  472.0\n",
              "7  1289  445.0\n",
              "8   826  437.0\n",
              "9    77  428.0"
            ]
          },
          "metadata": {
            "tags": []
          },
          "execution_count": 116
        }
      ]
    },
    {
      "cell_type": "code",
      "metadata": {
        "id": "8eQ5scFeHj22"
      },
      "source": [
        "dico_reco={}\n",
        "for user in test_reindexed:\n",
        "  history_user=ratings[ratings['user']==user]\n",
        "  #print(history_user)\n",
        "  # obtention des predictions\n",
        "  prediction_user=popular.recommend(user=user,n=num_prediction)\n",
        "  dico_reco[user]=list(prediction_user['item'])"
      ],
      "execution_count": 117,
      "outputs": []
    },
    {
      "cell_type": "code",
      "metadata": {
        "colab": {
          "base_uri": "https://localhost:8080/",
          "height": 363
        },
        "id": "QfmHvJAyLboo",
        "outputId": "9f3eb2e7-3148-48f9-e34e-e70065c1f7de"
      },
      "source": [
        "prediction_user"
      ],
      "execution_count": 118,
      "outputs": [
        {
          "output_type": "execute_result",
          "data": {
            "text/html": [
              "<div>\n",
              "<style scoped>\n",
              "    .dataframe tbody tr th:only-of-type {\n",
              "        vertical-align: middle;\n",
              "    }\n",
              "\n",
              "    .dataframe tbody tr th {\n",
              "        vertical-align: top;\n",
              "    }\n",
              "\n",
              "    .dataframe thead th {\n",
              "        text-align: right;\n",
              "    }\n",
              "</style>\n",
              "<table border=\"1\" class=\"dataframe\">\n",
              "  <thead>\n",
              "    <tr style=\"text-align: right;\">\n",
              "      <th></th>\n",
              "      <th>item</th>\n",
              "      <th>score</th>\n",
              "    </tr>\n",
              "  </thead>\n",
              "  <tbody>\n",
              "    <tr>\n",
              "      <th>0</th>\n",
              "      <td>13</td>\n",
              "      <td>683.0</td>\n",
              "    </tr>\n",
              "    <tr>\n",
              "      <th>1</th>\n",
              "      <td>349</td>\n",
              "      <td>582.0</td>\n",
              "    </tr>\n",
              "    <tr>\n",
              "      <th>2</th>\n",
              "      <td>80</td>\n",
              "      <td>517.0</td>\n",
              "    </tr>\n",
              "    <tr>\n",
              "      <th>3</th>\n",
              "      <td>840</td>\n",
              "      <td>510.0</td>\n",
              "    </tr>\n",
              "    <tr>\n",
              "      <th>4</th>\n",
              "      <td>1348</td>\n",
              "      <td>474.0</td>\n",
              "    </tr>\n",
              "    <tr>\n",
              "      <th>5</th>\n",
              "      <td>1438</td>\n",
              "      <td>472.0</td>\n",
              "    </tr>\n",
              "    <tr>\n",
              "      <th>6</th>\n",
              "      <td>1289</td>\n",
              "      <td>445.0</td>\n",
              "    </tr>\n",
              "    <tr>\n",
              "      <th>7</th>\n",
              "      <td>826</td>\n",
              "      <td>437.0</td>\n",
              "    </tr>\n",
              "    <tr>\n",
              "      <th>8</th>\n",
              "      <td>77</td>\n",
              "      <td>428.0</td>\n",
              "    </tr>\n",
              "    <tr>\n",
              "      <th>9</th>\n",
              "      <td>603</td>\n",
              "      <td>423.0</td>\n",
              "    </tr>\n",
              "  </tbody>\n",
              "</table>\n",
              "</div>"
            ],
            "text/plain": [
              "   item  score\n",
              "0    13  683.0\n",
              "1   349  582.0\n",
              "2    80  517.0\n",
              "3   840  510.0\n",
              "4  1348  474.0\n",
              "5  1438  472.0\n",
              "6  1289  445.0\n",
              "7   826  437.0\n",
              "8    77  428.0\n",
              "9   603  423.0"
            ]
          },
          "metadata": {
            "tags": []
          },
          "execution_count": 118
        }
      ]
    },
    {
      "cell_type": "markdown",
      "metadata": {
        "id": "oIM4w1vnAudj"
      },
      "source": [
        "# KNN"
      ]
    },
    {
      "cell_type": "markdown",
      "metadata": {
        "id": "uFV2jEy7OlaX"
      },
      "source": [
        "# User KNN"
      ]
    },
    {
      "cell_type": "code",
      "metadata": {
        "id": "dO-B9x9hAw6I"
      },
      "source": [
        "from lenskit.algorithms.user_knn import UserUser\n",
        "knn_user=UserUser(50,3)"
      ],
      "execution_count": 56,
      "outputs": []
    },
    {
      "cell_type": "code",
      "metadata": {
        "colab": {
          "base_uri": "https://localhost:8080/"
        },
        "id": "aemMhrEjKqQK",
        "outputId": "a0f20f59-c51d-4473-b231-adec259935ff"
      },
      "source": [
        "knn_user.fit(ratings)"
      ],
      "execution_count": 57,
      "outputs": [
        {
          "output_type": "execute_result",
          "data": {
            "text/plain": [
              "<lenskit.algorithms.user_knn.UserUser at 0x7fa85ec5a590>"
            ]
          },
          "metadata": {
            "tags": []
          },
          "execution_count": 57
        }
      ]
    },
    {
      "cell_type": "code",
      "metadata": {
        "id": "ObdQncizKwIl"
      },
      "source": [
        "knn_test=knn_user.predict_for_user(test_user_list[0],np.unique(ratings[\"item\"]))"
      ],
      "execution_count": 58,
      "outputs": []
    },
    {
      "cell_type": "code",
      "metadata": {
        "id": "ndSpS2E1LIQs",
        "colab": {
          "base_uri": "https://localhost:8080/"
        },
        "outputId": "dacf7687-1cb6-4d52-9116-42c3f8de995a"
      },
      "source": [
        "knn_test.sort_values(ascending=False)[:30]"
      ],
      "execution_count": 59,
      "outputs": [
        {
          "output_type": "execute_result",
          "data": {
            "text/plain": [
              "item\n",
              "1314     9.800191\n",
              "9820     9.773585\n",
              "5404     9.618644\n",
              "4128     9.570370\n",
              "6508     9.500000\n",
              "2000     9.381818\n",
              "724      9.224138\n",
              "1796     9.173913\n",
              "408      9.082803\n",
              "8575     9.074074\n",
              "3599     9.063830\n",
              "2677     9.010091\n",
              "691      8.979592\n",
              "2        8.978223\n",
              "6875     8.892857\n",
              "4424     8.846154\n",
              "1131     8.845361\n",
              "1411     8.819549\n",
              "6533     8.797468\n",
              "244      8.728472\n",
              "153      8.704918\n",
              "1905     8.671642\n",
              "502      8.666667\n",
              "54008    8.666667\n",
              "14185    8.655293\n",
              "205      8.608392\n",
              "3070     8.583333\n",
              "3271     8.571429\n",
              "1634     8.565014\n",
              "3138     8.529412\n",
              "Name: prediction, dtype: float64"
            ]
          },
          "metadata": {
            "tags": []
          },
          "execution_count": 59
        }
      ]
    },
    {
      "cell_type": "code",
      "metadata": {
        "id": "xyIUWV_YPr6B"
      },
      "source": [
        "dico_reco={}\n",
        "for user in test_reindexed:\n",
        "  history_user=ratings[ratings['user']==user]\n",
        "  #print(history_user)\n",
        "  # obtention des predictions\n",
        "  prediction_user=knn_user.predict_for_user(user,np.unique(ratings[\"item\"]))\n",
        "  \n",
        "  prediction_user=prediction_user.sort_values(ascending=False)\n",
        "  #print(prediction_user)\n",
        "  \n",
        "  #candidats=[x for x in prediction_user.index[:num_prediction+THRESHOLD+1] if x not in list(ratings[ratings[\"user\"]==x]['item'])] \n",
        "  candidats=[x for x in prediction_user.index[:num_prediction+THRESHOLD+1] ] \n",
        "  reco=[x for x in candidats if x not in list(ratings[ratings[\"user\"]==user]['item'])]\n",
        "  dico_reco[user]=reco[:num_prediction]\n",
        "\n"
      ],
      "execution_count": 60,
      "outputs": []
    },
    {
      "cell_type": "markdown",
      "metadata": {
        "id": "CalzaNVYOpTm"
      },
      "source": [
        "# Item KNN"
      ]
    },
    {
      "cell_type": "code",
      "metadata": {
        "id": "f430Fkh3OTpg"
      },
      "source": [
        "from lenskit.algorithms.item_knn import ItemItem\n",
        "knn_item=ItemItem(100,5)"
      ],
      "execution_count": 126,
      "outputs": []
    },
    {
      "cell_type": "code",
      "metadata": {
        "colab": {
          "base_uri": "https://localhost:8080/"
        },
        "id": "DNB-Yvb_O4jI",
        "outputId": "17996ed4-917e-44bd-d6fe-964cefe96d0d"
      },
      "source": [
        "knn_item.fit(ratings)"
      ],
      "execution_count": 127,
      "outputs": [
        {
          "output_type": "execute_result",
          "data": {
            "text/plain": [
              "<lenskit.algorithms.item_knn.ItemItem at 0x7fa85b48cb10>"
            ]
          },
          "metadata": {
            "tags": []
          },
          "execution_count": 127
        }
      ]
    },
    {
      "cell_type": "code",
      "metadata": {
        "id": "fkUGTswQO_tV"
      },
      "source": [
        "knn_test_item=knn_item.predict_for_user(test_user_list[0],np.unique(ratings[\"item\"]))"
      ],
      "execution_count": 128,
      "outputs": []
    },
    {
      "cell_type": "code",
      "metadata": {
        "id": "rW2hjNYxYRu8"
      },
      "source": [
        "pd_tab_logs=pd.DataFrame(tab_logs,columns=['user','item','rating'])"
      ],
      "execution_count": 129,
      "outputs": []
    },
    {
      "cell_type": "code",
      "metadata": {
        "id": "hcpsZdHQRL5e",
        "colab": {
          "base_uri": "https://localhost:8080/"
        },
        "outputId": "a3487601-6603-4259-f67e-4dc1b2b6bf67"
      },
      "source": [
        "knn_test_item.sort_values(ascending=False)[:20]"
      ],
      "execution_count": 130,
      "outputs": [
        {
          "output_type": "execute_result",
          "data": {
            "text/plain": [
              "item\n",
              "1171    8.651447\n",
              "1083    8.400740\n",
              "1341    8.380016\n",
              "40      8.344744\n",
              "244     8.248846\n",
              "89      8.245336\n",
              "60      8.212507\n",
              "955     7.924527\n",
              "1550    7.856857\n",
              "4070    7.720704\n",
              "331     7.702140\n",
              "44      7.669370\n",
              "7540    7.647260\n",
              "1474    7.644131\n",
              "102     7.615618\n",
              "2330    7.607264\n",
              "84      7.489322\n",
              "346     7.447219\n",
              "34      7.396397\n",
              "977     7.354375\n",
              "dtype: float64"
            ]
          },
          "metadata": {
            "tags": []
          },
          "execution_count": 130
        }
      ]
    },
    {
      "cell_type": "code",
      "metadata": {
        "id": "Gi-z_ZIFRBvU",
        "colab": {
          "base_uri": "https://localhost:8080/",
          "height": 0
        },
        "outputId": "a883f27f-90d4-4aab-a7c3-1c398dc14fbd"
      },
      "source": [
        "plt.hist(knn_test_item)"
      ],
      "execution_count": 131,
      "outputs": [
        {
          "output_type": "execute_result",
          "data": {
            "text/plain": [
              "(array([ 5., 10., 20., 18., 27., 28., 22., 14., 13.,  7.]),\n",
              " array([1.74228074, 2.43319734, 3.12411395, 3.81503056, 4.50594717,\n",
              "        5.19686378, 5.88778039, 6.57869699, 7.2696136 , 7.96053021,\n",
              "        8.65144682]),\n",
              " <a list of 10 Patch objects>)"
            ]
          },
          "metadata": {
            "tags": []
          },
          "execution_count": 131
        },
        {
          "output_type": "display_data",
          "data": {
            "image/png": "[encoded data removed]",
            "text/plain": [
              "<Figure size 432x288 with 1 Axes>"
            ]
          },
          "metadata": {
            "tags": [],
            "needs_background": "light"
          }
        }
      ]
    },
    {
      "cell_type": "code",
      "metadata": {
        "id": "POvMH1uxQMh_",
        "colab": {
          "base_uri": "https://localhost:8080/",
          "height": 0
        },
        "outputId": "6c084dc1-a376-41b4-c839-3c435d9f859e"
      },
      "source": [
        "plt.plot(knn_test_item)"
      ],
      "execution_count": 132,
      "outputs": [
        {
          "output_type": "execute_result",
          "data": {
            "text/plain": [
              "[<matplotlib.lines.Line2D at 0x7fa85b343310>]"
            ]
          },
          "metadata": {
            "tags": []
          },
          "execution_count": 132
        },
        {
          "output_type": "display_data",
          "data": {
            "image/png": "[encoded data removed]",
            "text/plain": [
              "<Figure size 432x288 with 1 Axes>"
            ]
          },
          "metadata": {
            "tags": [],
            "needs_background": "light"
          }
        }
      ]
    },
    {
      "cell_type": "code",
      "metadata": {
        "id": "HF-uU0E4R-kz"
      },
      "source": [
        "dico_reco={}\n",
        "for user in test_reindexed:\n",
        "  history_user=ratings[ratings['user']==user]\n",
        "  #print(history_user)\n",
        "  # obtention des predictions\n",
        "  prediction_user=knn_item.predict_for_user(user,np.unique(ratings[\"item\"]))\n",
        "  \n",
        "  prediction_user=prediction_user.sort_values(ascending=False)\n",
        "  #print(prediction_user)\n",
        "  \n",
        "  #candidats=[x for x in prediction_user.index[:num_prediction+THRESHOLD+1] if x not in list(ratings[ratings[\"user\"]==x]['item'])] \n",
        "  candidats=[x for x in prediction_user.index[:num_prediction+THRESHOLD+1] ] \n",
        "  reco=[x for x in candidats if x not in list(ratings[ratings[\"user\"]==user]['item'])]\n",
        "  dico_reco[user]=reco[:10]\n"
      ],
      "execution_count": 133,
      "outputs": []
    },
    {
      "cell_type": "markdown",
      "metadata": {
        "id": "vZjtlpgKOUoF"
      },
      "source": [
        "# Calcul des KPIs, precision, NDCG"
      ]
    },
    {
      "cell_type": "code",
      "metadata": {
        "colab": {
          "base_uri": "https://localhost:8080/"
        },
        "id": "qjtPBEUWQAxZ",
        "outputId": "273f5ff6-f1a7-416d-fb5f-ecf140c76ca2"
      },
      "source": [
        "# calcul max_DCG\n",
        "import math\n",
        "def log2(x):\n",
        " return(math.log(x,2))\n",
        "max_DCG=0.\n",
        "for i in range(1,num_prediction+1):\n",
        "    max_DCG+=(2**(num_prediction+1-i)-1)/log2(i+1)\n",
        "print(\"max_DCG\",max_DCG)    "
      ],
      "execution_count": 145,
      "outputs": [
        {
          "output_type": "stream",
          "text": [
            "max_DCG 1571.4155855572703\n"
          ],
          "name": "stdout"
        }
      ]
    },
    {
      "cell_type": "code",
      "metadata": {
        "id": "heGZP40oYisJ"
      },
      "source": [
        "if SAMPLING:\n",
        "  test_set=sample_test_0_reindexed\n",
        "else:\n",
        "  test_set=test_reindexed  "
      ],
      "execution_count": 146,
      "outputs": []
    },
    {
      "cell_type": "code",
      "metadata": {
        "colab": {
          "base_uri": "https://localhost:8080/"
        },
        "id": "GZIMtn7Iv9t8",
        "outputId": "ef3e592a-ffd8-4f3f-c637-252d3a818ce7"
      },
      "source": [
        "# calcul de la précision, sur ensemble de test\n",
        "tab_AP=[]\n",
        "precision_at_k=0.\n",
        "MRR=0.\n",
        "DCG=0.\n",
        "count=0  \n",
        "count_MRR=0 \n",
        "count_DCG=0\n",
        "average_DCG=0\n",
        "new_max_sequence_label=10\n",
        "label_set=set({})\n",
        "reco_set=set({})\n",
        "for user in test_set:\n",
        "  # initialisation des variables\n",
        "  tab_P=[]\n",
        "  label=test_set[user][-num_prediction:]  # on prend les max_sequence_label derniers...ceux d'avant ont été entré pour demander une prédiction\n",
        "  label_set.update(set(label))\n",
        "  reco_set.update(set(dico_reco[user]))\n",
        "  # on peut travailler avec les listes car pas de doublon\n",
        "  retrieved_song=[x for x in dico_reco[user] if x in label]\n",
        "  #precision@(num_prediction) \n",
        "  for song_index in retrieved_song:\n",
        "    precision_at_k+=min(label.count(song_index),dico_reco[user].count(song_index))\n",
        "  count+=1\n",
        "  \n",
        "  #AP@k\n",
        "  # d'après https://medium.com/swlh/rank-aware-recsys-evaluation-metrics-5191bba16832\n",
        "  P=0\n",
        "  for rank in range(1,min(num_prediction,len(label))+1):\n",
        "      # calcul P@rank\n",
        "      if len(dico_reco[user])>= rank:\n",
        "        if dico_reco[user][rank-1] in label:\n",
        "            P+=1.0\n",
        "            AP_inter=P/rank\n",
        "            tab_P.append(AP_inter)\n",
        "        else:\n",
        "            continue\n",
        "      else:\n",
        "        break      \n",
        "\n",
        "  if len(retrieved_song)!=0:\n",
        "      AP=sum(tab_P)/len(retrieved_song)\n",
        "  else:\n",
        "      AP=0\n",
        "  tab_AP.append(AP)  \n",
        "  \n",
        "  #MRR\n",
        "  # see https://medium.com/swlh/rank-aware-recsys-evaluation-metrics-5191bba16832\n",
        "  for song in dico_reco[user]:\n",
        "    if song in label:\n",
        "      MRR+=1.0/(dico_reco[user].index(song)+1)\n",
        "      count_MRR+=1\n",
        "      break\n",
        "    else:\n",
        "      continue  \n",
        "  \n",
        "  #NDCG  \n",
        "  DCG=0\n",
        "  for song in dico_reco[user]:\n",
        "    if song in label:\n",
        "      DCG+=(2**(num_prediction-label.index(song))-1)/log2(dico_reco[user].index(song)+2)\n",
        "    else:\n",
        "      continue\n",
        "  DCG/=max_DCG\n",
        "  average_DCG+=DCG    \n",
        "  \n",
        "print(count)\n",
        "print(\"precision\",precision_at_k)\n",
        " \n",
        "precision_at_k=float(precision_at_k)/float(count*num_prediction)\n",
        "MRR=float(MRR)/float(count)\n",
        "MAP=sum(tab_AP)/len(tab_AP)\n",
        "average_DCG=float(average_DCG)/float(count)\n",
        "\n",
        "print(\"precision at {} sur ensemble de train complet égale à {}\".format(num_prediction,precision_at_k))\n",
        "print(\"nommbre de user sur lequel la precision peut être calculé : {}\".format(count))\n",
        "print(\"MRR sur ensemble de train complet égale à {}\".format(MRR))\n",
        "print(\"nombre de user sur lesquel MRR peut être calculé : {}\".format(count_MRR))\n",
        "print(\"MAP sur ensemble de train complet égale à {}\".format(MAP))\n",
        "print(\"nommbre de user sur lequel MAP peut être calculé : {}\".format(len(tab_AP)))\n",
        "print(\"NDCG sur ensemble de train complet égale à {}\".format(average_DCG))\n",
        "print(\"nommbre d'item pour lequel DCG peut être calculé : {}\".format(count))\n",
        "#print(\"couverture_ coverage: {}\".format(len(reco_set)/len(label_set)))\n",
        "print(\"couverture_ coverage: {}\".format(len(reco_set)/len(liste_item)))\n",
        "\n",
        "\n",
        "print(\"nombre de user pris en compte : {}\".format(count))"
      ],
      "execution_count": 147,
      "outputs": [
        {
          "output_type": "stream",
          "text": [
            "1504\n",
            "precision 382.0\n",
            "precision at 10 sur ensemble de train complet égale à 0.025398936170212764\n",
            "nommbre de user sur lequel la precision peut être calculé : 1504\n",
            "MRR sur ensemble de train complet égale à 0.0866638698919284\n",
            "nombre de user sur lesquel MRR peut être calculé : 307\n",
            "MAP sur ensemble de train complet égale à 0.08466061402397837\n",
            "nommbre de user sur lequel MAP peut être calculé : 1504\n",
            "NDCG sur ensemble de train complet égale à 0.01893867678536191\n",
            "nommbre d'item pour lequel DCG peut être calculé : 1504\n",
            "couverture_ coverage: 0.2620408163265306\n",
            "nombre de user pris en compte : 1504\n"
          ],
          "name": "stdout"
        }
      ]
    },
    {
      "cell_type": "code",
      "metadata": {
        "id": "PQK4z7enon9r"
      },
      "source": [
        "\n",
        "average_measure['PREC'].append(precision_at_k)\n",
        "average_measure['MAP'].append(MAP)\n",
        "average_measure['MRR'].append(MRR)\n",
        "average_measure['NDCG'].append(average_DCG)"
      ],
      "execution_count": 148,
      "outputs": []
    },
    {
      "cell_type": "code",
      "metadata": {
        "colab": {
          "base_uri": "https://localhost:8080/"
        },
        "id": "xjp-7e0xqks3",
        "outputId": "2354d12a-ed18-42d3-dd1d-ab6cb27a6d0d"
      },
      "source": [
        "average_measure"
      ],
      "execution_count": 149,
      "outputs": [
        {
          "output_type": "execute_result",
          "data": {
            "text/plain": [
              "{'MAP': [0.13252679802713027,\n",
              "  0.09660722640858943,\n",
              "  0.0,\n",
              "  0.2185706416382549,\n",
              "  0.13252679802713027,\n",
              "  0.09660722640858943,\n",
              "  0.08466061402397837],\n",
              " 'MRR': [0.1373311381290102,\n",
              "  0.10081871622762578,\n",
              "  0.0,\n",
              "  0.24301808932792945,\n",
              "  0.1373311381290102,\n",
              "  0.10081871622762578,\n",
              "  0.0866638698919284],\n",
              " 'NDCG': [0.02900684048388581,\n",
              "  0.023118883093342032,\n",
              "  0.0,\n",
              "  0.07012368517876799,\n",
              "  0.02900684048388581,\n",
              "  0.023118883093342032,\n",
              "  0.01893867678536191],\n",
              " 'PREC': [0.037101063829787236,\n",
              "  0.03357712765957447,\n",
              "  0.0,\n",
              "  0.0988031914893617,\n",
              "  0.037101063829787236,\n",
              "  0.03357712765957447,\n",
              "  0.025398936170212764]}"
            ]
          },
          "metadata": {
            "tags": []
          },
          "execution_count": 149
        }
      ]
    },
    {
      "cell_type": "code",
      "metadata": {
        "id": "Ld_9_BPYXwEp",
        "colab": {
          "base_uri": "https://localhost:8080/"
        },
        "outputId": "4a01b94a-5dbb-423f-87cb-65307ae96625"
      },
      "source": [
        "dico_reco"
      ],
      "execution_count": 150,
      "outputs": [
        {
          "output_type": "execute_result",
          "data": {
            "text/plain": [
              "{5677: [77, 146, 38, 103, 266, 396, 89, 5074, 4123, 22308],\n",
              " 5678: [1476, 4010, 1289, 2000, 1466, 1571, 1992, 2825, 5194, 991],\n",
              " 5679: [736, 1002, 3335, 1429],\n",
              " 5680: [],\n",
              " 5681: [1256, 143, 5553, 2847, 2774, 2353, 2552, 7, 5588, 16788],\n",
              " 5682: [],\n",
              " 5683: [1049, 4974, 2764, 2834, 2825, 176, 3323, 333, 1901, 17257],\n",
              " 5684: [349, 7896, 26560, 3343, 1444, 1711, 817, 76, 1406, 32],\n",
              " 5685: [6502, 651, 9136, 2724, 23828, 5703, 4036, 4138, 3101, 22320],\n",
              " 5686: [],\n",
              " 5687: [668, 21507, 1538, 1598, 798, 1298, 4091, 77, 1434, 1476],\n",
              " 5688: [78, 32, 620, 327, 1127, 4437, 630, 859, 176, 579],\n",
              " 5689: [],\n",
              " 5690: [],\n",
              " 5691: [3144, 40, 1127, 31184, 2052, 15851, 13, 6670, 620, 22524],\n",
              " 5692: [16],\n",
              " 5693: [13, 333, 1099, 1095, 840, 579, 326, 1395, 23, 349],\n",
              " 5694: [11682, 2774, 620, 1289, 1023, 266, 989, 146, 3205, 3041],\n",
              " 5695: [1483, 28, 1348, 2727, 1178, 1470, 2608, 3029, 4546, 4239],\n",
              " 5696: [3824, 2455, 10113],\n",
              " 5697: [1, 691, 3738, 998, 603, 978, 6, 1827, 324, 317],\n",
              " 5698: [613, 1565, 982, 14531, 717, 349, 1348, 955, 991, 2050],\n",
              " 5699: [1470, 1023, 2629, 989, 4026, 2128, 717, 1638, 3587, 8192],\n",
              " 5700: [83, 1300, 6529, 81, 5237, 6766, 778, 5540, 1323, 148],\n",
              " 5701: [],\n",
              " 5702: [14726, 1994],\n",
              " 5703: [2150, 2582, 3385],\n",
              " 5704: [1444, 324, 4078, 3088, 1923, 982, 2402, 4149, 4105, 460],\n",
              " 5705: [6804, 97, 3886, 6, 1406, 553, 74, 603, 5052, 77],\n",
              " 5706: [17087, 11780, 15508, 1128, 501, 2718, 1240, 817, 4006, 10057],\n",
              " 5707: [80, 28, 1020, 3640, 501, 721, 3612, 1406, 1046, 990],\n",
              " 5708: [1750, 3669, 1095, 1178, 4138, 2050, 960, 27004, 4766, 11994],\n",
              " 5709: [1035, 1417, 994, 80, 1127, 311, 1160, 60, 1394, 4558],\n",
              " 5710: [218, 57, 817, 13, 78, 1445, 764, 77, 1374, 2148],\n",
              " 5711: [1095, 579, 333, 326, 73, 78, 1099, 176, 312, 1402],\n",
              " 5712: [27351],\n",
              " 5713: [78, 3638, 40, 1127, 8970, 54, 50, 886, 146, 57],\n",
              " 5714: [3261, 973, 1148, 689, 2681, 4640, 1612, 28, 851, 1849],\n",
              " 5715: [15057, 3432, 2112, 1273],\n",
              " 5716: [1478, 1638, 991, 989, 4013, 973, 4759, 5505, 6192, 80],\n",
              " 5717: [326, 213, 3227, 7, 1844, 222, 333, 2233, 9413, 205],\n",
              " 5718: [13832, 1581, 19308],\n",
              " 5719: [33601, 2529, 331],\n",
              " 5720: [3456, 10208, 78, 1046, 646, 579, 12, 28, 1042, 2410],\n",
              " 5721: [78, 855, 326, 55, 579, 886, 1099, 1289, 826, 758],\n",
              " 5722: [3997, 1591, 246, 1672, 1178, 12161, 679, 1179, 1437, 4093],\n",
              " 5723: [57, 64372, 19682],\n",
              " 5724: [1407, 2163, 1758, 461, 8376, 30314, 6340, 13012, 8974, 4777],\n",
              " 5725: [1003, 466, 770, 446, 346, 106, 4343, 2774, 245, 1348],\n",
              " 5726: [860, 17964, 1289, 19678, 1153, 10125, 25685, 13167, 18001, 2535],\n",
              " 5727: [233, 727, 1406, 1021, 1855, 2052, 1565, 349, 826, 5052],\n",
              " 5728: [251, 1117, 146, 268, 333, 228, 16755, 1289, 9789, 296],\n",
              " 5729: [2221, 1020, 371, 579, 1000, 988, 1278, 4712, 18073, 78],\n",
              " 5730: [7547],\n",
              " 5731: [14713, 6631, 4700, 15504, 16875, 14878, 22047, 817, 15588, 1178],\n",
              " 5732: [1435, 1638, 840, 773, 1043, 1698, 611, 418, 2447, 4124],\n",
              " 5733: [349, 77, 28, 266, 2, 1394, 672, 240, 817, 3727],\n",
              " 5734: [1435, 1638, 840, 773, 1043, 1698, 611, 418, 2447, 4124],\n",
              " 5735: [1183],\n",
              " 5736: [960, 1944, 49235, 3346, 1023, 16267, 1485, 936, 920, 1021],\n",
              " 5737: [],\n",
              " 5738: [9172, 8992],\n",
              " 5739: [32, 601, 1, 10191, 141, 265, 798, 60, 715, 2538],\n",
              " 5740: [146, 233, 996, 23161, 799, 13, 324, 32, 717, 251],\n",
              " 5741: [715, 2353, 1844, 1035, 33322, 28, 78, 32, 55, 579],\n",
              " 5742: [982, 13953, 5780, 1438, 1563, 2691, 16005],\n",
              " 5743: [989, 3251, 146, 602, 615, 22465, 144, 938, 32755, 1905],\n",
              " 5744: [4726, 2455, 1607, 35],\n",
              " 5745: [1435, 1638, 840, 773, 1043, 1698, 611, 418, 2447, 4124],\n",
              " 5746: [13, 1289, 1618, 1850, 1406, 700, 1944, 604, 1021, 938],\n",
              " 5747: [77, 146, 38, 103, 266, 396, 89, 5074, 4123, 22308],\n",
              " 5748: [2662, 5981, 5158, 78, 611, 865, 4013, 97, 44, 317],\n",
              " 5749: [1140, 1406, 599, 75, 16, 2606, 2159, 776, 2456, 799],\n",
              " 5750: [15284, 15070, 4662, 808, 23057, 15504, 20199, 1148, 2704, 604],\n",
              " 5751: [16562, 920, 1994, 3969, 6696, 856, 1905, 346, 1849, 85],\n",
              " 5752: [5196, 7154, 1406, 7608, 44, 68, 99, 13, 989, 269],\n",
              " 5753: [1021, 17972, 960, 22580, 5319],\n",
              " 5754: [3050, 977, 349, 219, 1525, 1003, 4193, 29, 967, 1],\n",
              " 5755: [312, 840, 1410, 1348, 233, 1240, 1450, 1289, 1976, 13],\n",
              " 5756: [],\n",
              " 5757: [826, 4193, 1565, 1188, 324, 978, 1685, 9, 611, 101],\n",
              " 5758: [395, 3824, 1568, 1083, 5148, 349, 233, 855, 988, 1395],\n",
              " 5759: [233, 640, 706, 950, 2451, 989, 834, 716, 912, 1457],\n",
              " 5760: [603, 80, 612, 1826, 814, 706, 717, 604, 645, 601],\n",
              " 5761: [5829, 4184, 315, 2229, 6192, 998, 1620, 1028, 9672, 951],\n",
              " 5762: [218, 57, 817, 13, 78, 1445, 764, 77, 1374, 2148],\n",
              " 5763: [76, 13, 1438, 1, 798, 240, 603, 99, 32, 579],\n",
              " 5764: [814, 395, 813, 912, 77, 938, 3377, 1826, 707, 23154],\n",
              " 5765: [1581, 5829, 8674, 3798, 265, 1083, 28, 511, 32, 60],\n",
              " 5766: [15707, 349, 1582, 3121, 770, 747, 745, 1429, 69573, 28236],\n",
              " 5767: [1, 691, 3738, 998, 603, 978, 6, 1827, 324, 317],\n",
              " 5768: [218, 57, 817, 13, 78, 1445, 764, 77, 1374, 2148],\n",
              " 5769: [249, 87696, 1244, 3216, 351, 2428, 1198, 2613, 3461, 1230],\n",
              " 5770: [5162, 1638, 1478, 6867, 1099, 2557, 580, 15441, 826, 4919],\n",
              " 5771: [3385, 729, 8730, 6696, 601, 3077, 826, 998, 2141, 731],\n",
              " 5772: [28956, 6630, 4586],\n",
              " 5773: [603, 1289, 146, 32, 996, 689, 38, 721, 1967, 980],\n",
              " 5774: [5074, 1023, 4168, 4129, 14983, 19195, 4104, 2619, 20199, 251],\n",
              " 5775: [76, 324, 798, 1353, 1127, 28, 74, 240, 322, 960],\n",
              " 5776: [41160, 1581, 4457, 768],\n",
              " 5777: [148, 1450, 371, 365, 12148, 44202, 323, 639, 2596, 3182],\n",
              " 5778: [4122, 1043, 349, 840, 1424, 18, 4575, 5121, 5587, 41094],\n",
              " 5779: [13, 333, 1099, 1095, 840, 579, 326, 1395, 23, 349],\n",
              " 5780: [13, 333, 1099, 1095, 840, 579, 326, 1395, 23, 349],\n",
              " 5781: [],\n",
              " 5782: [2647, 240, 22286],\n",
              " 5783: [1081, 639, 10191, 103, 2, 968, 266, 10921, 219, 233],\n",
              " 5784: [89, 603, 146, 1539, 717, 1, 1353, 34, 19429, 1083],\n",
              " 5785: [20010, 1046, 57, 44, 906, 1081, 817, 1410, 1450, 192],\n",
              " 5786: [2541, 1466, 1203, 7667, 707, 22462, 4705, 5550, 5074, 1116],\n",
              " 5787: [1069, 3078, 16630, 1300],\n",
              " 5788: [13971, 15970],\n",
              " 5789: [12404, 1289, 695, 233, 1095, 1478, 4231, 840, 1410, 19307],\n",
              " 5790: [395, 920, 13, 1944, 612, 707, 1581, 10917, 41452, 648],\n",
              " 5791: [10188, 588, 1849, 3160, 764, 245, 251, 11187, 3772, 1323],\n",
              " 5792: [10188, 588, 1849, 3160, 764, 245, 251, 11187, 3772, 1323],\n",
              " 5793: [],\n",
              " 5794: [1864, 2774, 989, 5923, 16761, 3798, 16965, 764, 682, 1188],\n",
              " 5795: [2543, 10191, 1021, 1814, 2128, 3049, 12351, 9977, 23174, 4610],\n",
              " 5796: [4238, 1183, 1402, 814, 321, 2702, 5563, 19411, 579, 80],\n",
              " 5797: [],\n",
              " 5798: [],\n",
              " 5799: [4238, 1183, 1402, 814, 321, 2702, 5563, 19411, 579, 80],\n",
              " 5800: [32, 982, 603, 312, 1348, 717, 28, 814, 322, 689],\n",
              " 5801: [326, 213, 3227, 7, 1844, 222, 333, 2233, 9413, 205],\n",
              " 5802: [2552, 1398, 3225, 205, 3280, 5556, 55, 5555, 3410, 5659],\n",
              " 5803: [78, 52, 1095, 758, 327, 1417, 1402, 3093, 3223, 3227],\n",
              " 5804: [1434, 2926, 10735, 2054, 28, 1407, 18804, 2140, 14996],\n",
              " 5805: [],\n",
              " 5806: [800, 989, 1417, 80, 991, 1289, 32, 1844, 240, 639],\n",
              " 5807: [1923, 688, 4076, 148, 4575, 2114, 3522, 2364, 1042, 1445],\n",
              " 5808: [28, 14866],\n",
              " 5809: [78, 855, 326, 55, 579, 886, 1099, 1289, 826, 758],\n",
              " 5810: [4443, 13761, 905, 171, 24207, 76, 10191],\n",
              " 5811: [1527, 970, 1438, 2353, 920, 4241, 1450, 4714, 1289, 77],\n",
              " 5812: [77, 146, 38, 103, 266, 396, 89, 5074, 4123, 22308],\n",
              " 5813: [6964, 3569],\n",
              " 5814: [32, 1021, 798, 1417, 814, 916, 97, 80, 13, 920],\n",
              " 5815: [1474, 398, 1036, 23791, 745, 2112, 501, 830, 2647, 3540],\n",
              " 5816: [1023, 349, 1747, 717, 840, 1438, 1462, 2811, 1535, 1450],\n",
              " 5817: [1547, 41819, 1304, 4078, 4153, 3206, 5505, 27667, 4026, 1476],\n",
              " 5818: [52624, 12798],\n",
              " 5819: [1196, 4703, 5956, 805, 14258, 44, 4034, 23310, 5707, 10858],\n",
              " 5820: [349, 602, 62712, 11843, 3308, 745, 3101, 840, 57802, 764],\n",
              " 5821: [1713, 5019, 2466, 917, 36778, 2940, 183, 1163, 5237, 1814],\n",
              " 5822: [],\n",
              " 5823: [3988, 10125, 9810, 9879, 1438, 2247, 840, 4777, 18220, 5565],\n",
              " 5824: [219, 3560, 1988, 715, 970, 78, 800, 50, 3610, 6095],\n",
              " 5825: [808, 19400, 2652, 322],\n",
              " 5826: [1992, 1629, 349, 1161, 3852, 751, 13860, 1638, 702, 982],\n",
              " 5827: [],\n",
              " 5828: [1188, 1923, 8957, 2065, 4151, 10019, 1214, 4865, 6029, 855],\n",
              " 5829: [2052, 2112, 628, 855, 371, 800, 1417, 1994, 2770, 906],\n",
              " 5830: [4026, 22508, 1541, 266, 18316, 1485],\n",
              " 5831: [21977, 1540, 8982, 4178, 923, 1570, 4002, 28, 15987, 705],\n",
              " 5832: [32, 1021, 798, 1417, 814, 916, 97, 80, 13, 920],\n",
              " 5833: [1639],\n",
              " 5834: [1160],\n",
              " 5835: [18526, 10016, 1478, 5479, 2556, 2810, 5369, 269, 6, 268],\n",
              " 5836: [1844, 1988, 758, 326, 3222, 333, 80, 770, 1099, 54],\n",
              " 5837: [673, 1450, 4124, 4149, 1612, 4010, 1834, 1696, 30845, 23791],\n",
              " 5838: [163, 2982, 814, 1081, 503, 1390, 251, 30609, 1814, 1579],\n",
              " 5839: [1021, 349, 1188, 736, 826, 817, 2158, 1438, 840, 966],\n",
              " 5840: [2724, 20100, 14084, 3456, 646, 11568, 700, 1479, 28, 4239],\n",
              " 5841: [],\n",
              " 5842: [1289, 2449, 2, 2749, 2811, 1638, 2774, 1479, 2127, 817],\n",
              " 5843: [1477, 2207, 2050, 1028, 968, 398, 23442, 27042, 1043, 707],\n",
              " 5844: [1292, 331, 8281, 745, 1205, 78],\n",
              " 5845: [4796, 23042, 4795, 3582, 1099],\n",
              " 5846: [16046, 13, 57, 1848, 333, 712, 78, 855, 521, 326],\n",
              " 5847: [349, 3049, 1448, 266, 1476, 324, 716, 1834, 39, 1438],\n",
              " 5848: [1476, 176, 715, 89, 333, 251, 603, 2, 855, 3681],\n",
              " 5849: [3093, 1887, 1898, 758, 2264, 2552, 78, 1844, 3225, 623],\n",
              " 5850: [3610, 333, 620, 2128, 1353, 99, 840, 15206, 17447, 989],\n",
              " 5851: [1548, 268, 2140, 14821, 1312, 1527, 17964, 1474, 1503, 4111],\n",
              " 5852: [99, 7540, 1003, 266, 269, 324, 1410, 35, 764, 1143],\n",
              " 5853: [3353, 80, 747, 19618, 75, 61, 2453, 1451, 1248],\n",
              " 5854: [266, 10921, 1140, 6866, 1046, 852, 71, 1410, 5868, 291],\n",
              " 5855: [1003, 99, 85, 39, 4556, 148, 219, 266, 251, 146],\n",
              " 5856: [349, 602, 62712, 11843, 3308, 745, 3101, 840, 57802, 764],\n",
              " 5857: [251, 148, 1192, 2, 144, 1117, 798, 85, 38, 8938],\n",
              " 5858: [74, 1035, 4556, 1289, 19429, 7632, 1537, 2, 85, 1869],\n",
              " 5859: [],\n",
              " 5860: [603, 1, 103, 1123, 2125, 2, 601, 349, 1865, 268],\n",
              " 5861: [1003, 99, 85, 39, 4556, 148, 219, 266, 251, 146],\n",
              " 5862: [148, 689, 97, 998, 676, 32, 717, 973, 204, 1131],\n",
              " 5863: [32, 1421, 676, 989, 960, 312, 2148, 1406, 721, 996],\n",
              " 5864: [103, 22857, 549, 4124, 312, 688, 7537, 1446, 1455, 974],\n",
              " 5865: [1459, 29060, 689, 970, 672, 985, 3919, 1448, 1798, 35],\n",
              " 5866: [1552, 1438, 1451, 12684, 1541, 1158, 78, 1121, 1192, 23576],\n",
              " 5867: [984, 3198, 55, 1005, 50691, 3736],\n",
              " 5868: [984, 3198, 55, 1005, 50691, 3736],\n",
              " 5869: [8383, 976, 6623, 30022, 1378, 691, 6854, 2361, 938, 2100],\n",
              " 5870: [2510, 3581, 5558, 21400],\n",
              " 5871: [23177, 2634, 15116],\n",
              " 5872: [28, 73090, 6459, 1289, 1747, 6793, 1617, 1652, 3014, 1503],\n",
              " 5873: [349, 9172, 721, 712, 916, 989, 13, 3269, 1415, 640],\n",
              " 5874: [991, 233, 322, 13410, 21935, 5441, 604, 800, 620, 3904],\n",
              " 5875: [2373, 1905, 99, 8938, 1170, 346, 411, 3374, 3456, 26792],\n",
              " 5876: [11643],\n",
              " 5877: [1850, 1578, 689, 8537, 1127, 66552, 9466, 346, 974, 24413],\n",
              " 5878: [749, 4480, 15580, 729, 4026, 1565, 10911, 3101, 4024, 14448],\n",
              " 5879: [251, 324, 938, 301, 4457, 984, 80, 4221, 460, 192],\n",
              " 5880: [3563, 106, 1478, 311, 28, 96, 78, 4595, 80, 2011],\n",
              " 5881: [2, 676, 75, 251, 1191, 840, 717, 3014, 34, 265],\n",
              " 5882: [77, 80, 826, 1438, 1814, 64923, 57, 148, 731, 1834],\n",
              " 5883: [28, 998, 826, 887, 317, 44466, 57798, 820, 12098, 521],\n",
              " 5884: [265, 251, 322, 1406, 764, 1438, 183, 28, 146, 639],\n",
              " 5885: [689, 349, 312, 989, 1448, 799, 80, 85, 1476, 840],\n",
              " 5886: [418, 10125, 17, 31250, 5170, 1080, 322, 24071, 268, 1392],\n",
              " 5887: [800, 989, 1417, 80, 991, 1289, 32, 1844, 240, 639],\n",
              " 5888: [5221, 1151, 1121, 11130, 776, 1198, 675, 3408, 244, 798],\n",
              " 5889: [2726, 608, 1049, 227, 2465, 77, 3741, 280, 1473, 346],\n",
              " 5890: [799, 773, 22047, 2699, 1232, 2524, 1641],\n",
              " 5891: [1859, 3007, 1042, 140, 2128, 1348, 2364, 755, 2624, 277],\n",
              " 5892: [17087, 11780, 15508, 1128, 501, 2718, 1240, 817, 4006, 10057],\n",
              " 5893: [55, 1569, 1699, 10043, 2556, 603, 18, 1864, 4146, 1994],\n",
              " 5894: [4006, 2373, 395, 2100, 1477, 16526, 580, 2056, 1527, 14836],\n",
              " 5895: [814, 395, 813, 912, 77, 938, 3377, 1826, 707, 23154],\n",
              " 5896: [1450, 1441, 349, 620, 1023, 603, 32, 1440, 148, 245],\n",
              " 5897: [1581, 5829, 8674, 3798, 265, 1083, 28, 511, 32, 60],\n",
              " 5898: [10180, 20224, 2772, 1712, 44018, 4172, 15580, 4228, 4014, 15782],\n",
              " 5899: [1711, 3456, 826, 1406, 695, 13410, 1617, 349, 324, 1539],\n",
              " 5900: [],\n",
              " 5901: [15856, 4700, 6031, 30764, 2180, 15595, 8183, 5916, 41821, 1479],\n",
              " 5902: [1380, 1814, 1491, 1026, 723, 602, 716, 219, 1025, 549],\n",
              " 5903: [6242, 2936, 834, 717, 2916, 5916, 15682, 716, 1938, 14713],\n",
              " 5904: [13, 603, 28, 639, 982, 1421, 826, 1480, 349, 991],\n",
              " 5905: [15737, 33904, 2516, 1638, 14284, 11987, 4146, 166, 5621],\n",
              " 5906: [1844, 579, 4556, 991, 269, 1445, 2361, 511, 1046, 2450],\n",
              " 5907: [15651, 13744],\n",
              " 5908: [11086, 11871, 1000],\n",
              " 5909: [2789, 337, 1957, 3575, 1476, 312, 1003, 977, 979, 24510],\n",
              " 5910: [1438, 28, 989, 77, 349, 1476, 268, 83, 10191, 1437],\n",
              " 5911: [13, 966, 826, 603, 639, 1240, 2330, 32, 349, 7294],\n",
              " 5912: [961, 1444, 982, 920, 3099, 54, 1188, 695, 15970, 11907],\n",
              " 5913: [1438, 6662, 1446, 251, 6185, 8505, 1021, 93184, 1579, 549],\n",
              " 5914: [1021, 349, 1188, 736, 826, 817, 2158, 1438, 840, 966],\n",
              " 5915: [1348, 549, 1406, 1571, 979, 1289, 1411, 501, 40, 349],\n",
              " 5916: [1024, 799, 989, 324, 855, 951, 1540, 604, 9531, 1127],\n",
              " 5917: [620, 1289, 8685, 1240, 22083, 1444, 349, 5926, 8977, 6533],\n",
              " 5918: [1850, 1348, 1390, 716, 2624, 31643, 3074, 398, 80, 618],\n",
              " 5919: [1438, 1441, 1188, 1023, 1640, 1442, 10124, 2439, 8384, 1783],\n",
              " 5920: [798, 759, 1081, 840, 1716, 1536, 2764, 2456, 1581, 1470],\n",
              " 5921: [736, 1002, 3335, 1429],\n",
              " 5922: [4069, 1406, 970, 5208, 3384, 17086, 979, 106, 418, 3198],\n",
              " 5923: [76, 1140, 988, 2207, 346, 580, 166, 7100, 1380, 826],\n",
              " 5924: [2516, 977, 15328, 2466, 5404, 100, 2114, 12221, 3693, 13],\n",
              " 5925: [13, 603, 28, 639, 982, 1421, 826, 1480, 349, 991],\n",
              " 5926: [688, 37735],\n",
              " 5927: [],\n",
              " 5928: [2789, 337, 1957, 3575, 1476, 312, 1003, 977, 979, 24510],\n",
              " 5929: [826, 16466, 798, 994, 970, 1046, 855, 2144, 324, 4977],\n",
              " 5930: [1819, 16570, 1937, 4700, 20243, 2656, 6031, 640, 20206, 1814],\n",
              " 5931: [57534, 1348, 13758, 4026, 747, 817, 721, 50778, 2017, 11850],\n",
              " 5932: [2180, 4700, 2924, 602, 4011, 28, 14777, 628, 4002, 851],\n",
              " 5933: [1905, 10812, 18057, 11, 18720, 23950, 183, 17928, 2904, 501],\n",
              " 5934: [10933, 11055],\n",
              " 5935: [1440, 3242, 4777, 1398, 148],\n",
              " 5936: [1099, 510, 218, 1618, 501, 1117, 201, 228, 1095, 326],\n",
              " 5937: [11568, 1470, 1474, 4824, 620, 32, 686, 1469, 23115, 3872],\n",
              " 5938: [],\n",
              " 5939: [333, 119, 227, 3227, 684, 1020, 1196, 2013, 970, 717],\n",
              " 5940: [3227, 17861],\n",
              " 5941: [4952, 3146, 3721, 17814, 28722, 21218],\n",
              " 5942: [1095, 579, 333, 326, 73, 78, 1099, 176, 312, 1402],\n",
              " 5943: [205, 3461, 3093, 1395, 222, 78, 2173, 55, 2904, 17263],\n",
              " 5944: [333, 1417, 78, 1618, 3461, 222, 758, 510, 717, 77],\n",
              " 5945: [1182, 1618, 372, 57, 51, 141, 251, 12, 106, 333],\n",
              " 5946: [3093, 28, 1618, 2052, 78, 938, 640, 2353, 2926, 1035],\n",
              " 5947: [1844, 3893, 222, 1020, 372, 1887, 1256, 1099, 2264, 1485],\n",
              " 5948: [3093, 3229, 327, 78, 25750, 58, 1402, 1395, 447, 205],\n",
              " 5949: [16788],\n",
              " 5950: [78, 855, 326, 55, 579, 886, 1099, 1289, 826, 758],\n",
              " 5951: [1844, 3893, 222, 1020, 372, 1887, 1256, 1099, 2264, 1485],\n",
              " 5952: [228, 715, 1003, 1289, 1394, 1869, 979, 240, 2353, 620],\n",
              " 5953: [89, 5074, 22062, 5255, 860],\n",
              " 5954: [3183, 4198, 2414, 4575, 1429, 80, 4476, 1941, 5780, 319],\n",
              " 5955: [1348, 824, 1463, 2774, 1250, 2747, 511, 22062, 1556, 1198],\n",
              " 5956: [3199, 2221, 1485, 19435, 22077, 38527, 30429, 23097, 1105, 16269],\n",
              " 5957: [],\n",
              " 5958: [694, 1023, 2, 39730, 1148, 6708, 693, 727],\n",
              " 5959: [2451, 20190, 22125, 2774, 1303, 603, 2195, 2988, 2789, 20170],\n",
              " 5960: [2723],\n",
              " 5961: [8915, 57725, 2455],\n",
              " 5962: [2912, 2065],\n",
              " 5963: [],\n",
              " 5964: [506, 1539, 1438, 58405, 1775, 6192, 1021, 4133, 1227, 8624],\n",
              " 5965: [1196, 1446, 51291, 4085, 146, 1406, 15023, 31019],\n",
              " 5966: [42072],\n",
              " 5967: [89, 42, 1240, 1069, 1457, 39986, 4095, 1541, 4911, 5159],\n",
              " 5968: [4597],\n",
              " 5969: [4006, 2373, 395, 2100, 1477, 16526, 580, 2056, 1527, 14836],\n",
              " 5970: [],\n",
              " 5971: [14900, 4614, 1794, 4679, 1410, 23832, 2103, 63, 798, 664],\n",
              " 5972: [7647, 8339],\n",
              " 5973: [76, 13, 1438, 1, 798, 240, 603, 99, 32, 579],\n",
              " 5974: [15595, 973, 42144, 5951, 3250],\n",
              " 5975: [2915, 20040],\n",
              " 5976: [8373, 2912],\n",
              " 5977: [2680, 14891, 2908, 15627, 4430, 1387, 2060, 1937, 996, 4931],\n",
              " 5978: [28, 1407, 4153, 1638, 1527, 767, 5045, 1937, 2114, 960],\n",
              " 5979: [2772, 6247, 15682, 2680, 1867, 6958, 5802, 4597, 22761, 6950],\n",
              " 5980: [5916],\n",
              " 5981: [349, 13, 1348, 1021, 1448, 265, 991, 767, 1406, 1002],\n",
              " 5982: [349, 602, 62712, 11843, 3308, 745, 3101, 840, 57802, 764],\n",
              " 5983: [324, 49, 3604, 14483, 817, 80, 1275, 1000, 2607, 3560],\n",
              " 5984: [63, 689, 80, 333, 28, 77, 986, 1278, 1095, 1452],\n",
              " 5985: [57, 579, 78, 2173, 9387, 5563, 201, 327, 51, 1402],\n",
              " 5986: [],\n",
              " 5987: [4024, 2723, 11998, 491, 2173, 89, 7311, 1424, 312, 2680],\n",
              " 5988: [106, 689, 906, 716, 1783, 417, 3121, 1240, 77, 991],\n",
              " 5989: [22222, 989, 1421, 14589],\n",
              " 5990: [1581, 628, 3655, 11230, 3710, 17279, 5122, 3773, 4104, 630],\n",
              " 5991: [265, 148, 1491, 2847, 1289, 3050, 83, 3575, 4249, 218],\n",
              " 5992: [],\n",
              " 5993: [40, 251, 89, 6, 78, 1000, 97, 220, 579, 2373],\n",
              " 5994: [32, 601, 1, 10191, 141, 265, 798, 60, 715, 2538],\n",
              " 5995: [14586, 5146, 1887, 5131, 3012, 282, 691, 963, 370, 25873],\n",
              " 5996: [4193, 4013, 12632, 1638, 2143, 10187, 13832, 1886, 4832, 76],\n",
              " 5997: [1289, 989, 764, 9478, 1021, 5202, 6918, 4008, 2, 215],\n",
              " 5998: [1576, 612, 682, 28],\n",
              " 5999: [3209, 1117, 1069, 4755, 4974, 630, 466, 25457, 632, 1192],\n",
              " 6000: [29916, 99, 233, 2127, 14192, 240, 2982],\n",
              " 6001: [19398, 34285, 5593, 704, 2144, 6029, 1420],\n",
              " 6002: [],\n",
              " 6003: [8921, 3166, 820, 1486, 3846, 16094, 3974, 6192, 2468, 14247],\n",
              " 6004: [1638, 57949, 1565, 4977, 773, 31574, 3898, 3713, 370, 2854],\n",
              " 6005: [57, 579, 78, 2173, 9387, 5563, 201, 327, 51, 1402],\n",
              " 6006: [3148, 28460, 5697, 11314, 1020, 18606, 20079, 3153, 5558, 19283],\n",
              " 6007: [4873, 5008, 1049, 17743, 22881],\n",
              " 6008: [12, 9898, 265, 35804, 1029, 4922, 23, 51, 3229, 10137],\n",
              " 6009: [845, 51, 855, 23960, 6791],\n",
              " 6010: [],\n",
              " 6011: [1445, 988, 826, 840, 1476, 44, 5740, 1712, 3403, 4076],\n",
              " 6012: [3289, 2634, 2221, 39393, 346, 93086, 1179, 10059],\n",
              " 6013: [1993, 1476, 76391, 1364, 2127, 3878, 4076, 15090, 327, 4008],\n",
              " 6014: [549, 840, 1448, 603, 1240, 1536, 1577, 1122, 715, 4229],\n",
              " 6015: [12444, 23797, 2414, 1083, 17534, 80, 57979, 755, 20826, 855],\n",
              " 6016: [79, 615, 39, 3790, 1083, 8899, 8580, 1215, 9498, 1451],\n",
              " 6017: [64006, 18303, 40022, 106, 830, 1, 68, 87, 11850, 623],\n",
              " 6018: [4004, 1747, 1711, 30429, 1444, 3874, 4462, 1446, 2847, 297],\n",
              " 6019: [27120, 29053, 10281, 74, 141, 960, 1310],\n",
              " 6020: [1450, 1441, 349, 620, 1023, 603, 32, 1440, 148, 245],\n",
              " 6021: [1289, 1483, 872, 3734, 233, 1135, 855, 247, 1136, 1347],\n",
              " 6022: [8651, 16, 201, 18680, 3048, 1446, 44018, 38, 5656],\n",
              " 6023: [1591, 16, 1434, 5676, 3817, 3308, 5608, 11314, 4030, 28],\n",
              " 6024: [89, 219, 8938, 74, 349, 245, 411, 1015, 103, 1648],\n",
              " 6025: [349, 28, 32876, 1550, 1442, 888, 4391, 1450, 4068, 18803],\n",
              " 6026: [78, 758, 1844, 333, 228, 23, 57, 326, 80, 1099],\n",
              " 6027: [1347, 1392, 966, 6805, 4137, 6053, 6068, 894, 668, 579],\n",
              " 6028: [778, 673, 766, 37832, 579, 1661],\n",
              " 6029: [251, 1438, 2, 13, 639, 501, 176, 1556, 1548, 998],\n",
              " 6030: [10850, 3969, 5506, 2158, 8693, 549, 3179, 2596, 3008, 11300],\n",
              " 6031: [840, 1289, 620, 13, 1608, 312, 826, 938, 1002, 1483],\n",
              " 6032: [213, 3171, 795, 31769, 10239, 5561, 504, 10198, 10057, 49],\n",
              " 6033: [2100, 28, 305, 22898, 15986, 979, 42032, 2364, 467, 3453],\n",
              " 6034: [28660, 1004, 2543, 3339, 2616, 1604, 55, 679, 4556, 42],\n",
              " 6035: [3741, 3233, 758, 2552, 4777, 3106],\n",
              " 6036: [5439, 510, 1117, 99, 11901, 7133, 855, 5527, 952, 2],\n",
              " 6037: [],\n",
              " 6038: [10251],\n",
              " 6039: [1466],\n",
              " 6040: [58, 13, 1083, 5194, 1543, 998, 603, 3062, 333, 1612],\n",
              " 6041: [1289, 1438, 1002, 817, 1476, 1466, 1348, 1716, 1528, 3560],\n",
              " 6042: [16613],\n",
              " 6043: [30663, 22159, 4564, 13860, 4678],\n",
              " 6044: [826, 1081, 349, 1466, 13, 717, 1607, 798, 1476, 324],\n",
              " 6045: [603, 80, 612, 1826, 814, 706, 717, 604, 645, 601],\n",
              " 6046: [13, 32, 1348, 707, 2052, 2158, 11152, 1944, 601, 855],\n",
              " 6047: [],\n",
              " 6048: [1815, 54, 2144, 16516, 16825, 930, 4067, 5926, 5934, 24257],\n",
              " 6049: [36634, 20205, 7572],\n",
              " 6050: [1289, 2449, 2, 2749, 2811, 1638, 2774, 1479, 2127, 817],\n",
              " 6051: [],\n",
              " 6052: [16086, 2618, 4886],\n",
              " 6053: [32, 954, 623, 1023, 707, 312, 1444, 938, 960, 1571],\n",
              " 6054: [104, 717, 79, 16327, 973, 4104, 14862, 3040, 6302, 20274],\n",
              " 6055: [104, 717, 79, 16327, 973, 4104, 14862, 3040, 6302, 20274],\n",
              " 6056: [34779],\n",
              " 6057: [23609],\n",
              " 6058: [17427],\n",
              " 6059: [2458, 2114, 3604, 3997, 80, 1994, 13747, 766, 11045, 1999],\n",
              " 6060: [16930, 2591],\n",
              " 6061: [26982, 2661, 9208, 19283, 1117, 4974, 35894, 2777, 3893, 1967],\n",
              " 6062: [9546, 600, 1417, 1887, 3673, 205, 15362, 758, 5219, 1898],\n",
              " 6063: [1599, 4595, 1480, 6594, 197, 23276, 78, 998, 1394, 2764],\n",
              " 6064: [],\n",
              " 6065: [228, 4616, 11571, 1000, 4580, 842, 9991, 2004, 6491, 12557],\n",
              " 6066: [2733, 715, 49563, 2233, 919, 1555, 16904, 4067],\n",
              " 6067: [3877, 5505, 989, 14744],\n",
              " 6068: [695, 1850, 80, 32, 767, 979, 998, 988, 799, 905],\n",
              " 6069: [22047, 2660, 4675, 2975, 22868, 1867, 22848, 2983],\n",
              " 6070: [2194],\n",
              " 6071: [9341, 1140, 676, 19387, 977, 294, 689, 4152, 1160, 8859],\n",
              " 6072: [],\n",
              " 6073: [1385, 2148, 973, 1438, 8575, 10417, 715, 4151, 2058, 13801],\n",
              " 6074: [1002, 10897, 958, 5314, 12179, 13998, 628, 1476, 3458, 349],\n",
              " 6075: [36, 5124, 1941, 768, 14623, 13217, 14840, 5981, 1864],\n",
              " 6076: [1533, 2144, 2675, 817, 9282, 1003, 613, 2915, 48734, 715],\n",
              " 6077: [1638, 1992, 973, 28, 894, 5466, 1565, 4013, 3456],\n",
              " 6078: [2524, 2132, 3129, 5993, 973, 1921, 1420, 2011, 9854, 749],\n",
              " 6079: [78, 707, 13, 758, 327, 989, 715, 80, 55, 4424],\n",
              " 6080: [228, 4616, 11571, 1000, 4580, 842, 9991, 2004, 6491, 12557],\n",
              " 6081: [620, 312, 689, 1446, 1448, 1435, 1535, 10125, 960, 6875],\n",
              " 6082: [28, 4083, 4568, 460, 10434, 2114, 5121, 27245, 1671, 717],\n",
              " 6083: [916, 966, 242, 989, 4715, 2050, 840, 4248, 7238, 9496],\n",
              " 6084: [349, 13, 989, 973, 28, 1289, 826, 970, 2124, 814],\n",
              " 6085: [1485, 148, 4100, 3379, 756, 1581, 19308, 1945, 14949, 767],\n",
              " 6086: [783],\n",
              " 6087: [2447, 1477, 4176, 15047, 2542, 717, 4041, 1864, 7047, 840],\n",
              " 6088: [639, 1348, 808, 6109, 612, 57425, 602, 1826, 57496, 717],\n",
              " 6089: [3261, 973, 1148, 689, 2681, 4640, 1612, 28, 851, 1849],\n",
              " 6090: [2724, 1081, 4546, 715, 4244, 17087, 2207, 4064, 1406, 3182],\n",
              " 6091: [1535],\n",
              " 6092: [1435, 1638, 840, 773, 1043, 1698, 611, 418, 2447, 4124],\n",
              " 6093: [4457, 14135, 5054, 30670, 802, 938, 4169, 4026, 2100, 5927],\n",
              " 6094: [481, 89, 38144, 3930, 2764, 3052, 181, 11055, 53851, 1202],\n",
              " 6095: [1476, 28, 1556, 11741, 872, 34335, 8813, 19049, 12914, 14737],\n",
              " 6096: [148, 1135, 826, 99, 552, 80, 13, 1, 905, 982],\n",
              " 6097: [3184, 97, 967, 146, 148, 1002, 603, 76, 462, 13],\n",
              " 6098: [986, 14823, 1921, 32, 996, 842, 24257, 872, 998, 4350],\n",
              " 6099: [],\n",
              " 6100: [3741, 3233, 758, 2552, 4777, 3106],\n",
              " 6101: [758],\n",
              " 6102: [15299, 66, 55, 28, 842, 855, 2353, 1887, 579, 57],\n",
              " 6103: [39, 5150, 220, 14876, 1100, 22404, 44, 4740, 1872, 96],\n",
              " 6104: [2437, 49669],\n",
              " 6105: [1227],\n",
              " 6106: [2050, 1120, 103],\n",
              " 6107: [],\n",
              " 6108: [2384, 76, 9667, 3199, 3332],\n",
              " 6109: [277, 842, 1438, 228, 602, 579, 183, 1160, 620, 1905],\n",
              " 6110: [2610, 159, 3862, 3524, 2971, 21778, 608, 1158],\n",
              " 6111: [1476, 176, 715, 89, 333, 251, 603, 2, 855, 3681],\n",
              " 6112: [2726, 630, 23484, 2668, 4729, 249, 319, 2606, 2353, 1160],\n",
              " 6113: [48384, 3235, 1439, 176, 15651, 709, 1905, 4474, 2407, 8737],\n",
              " 6114: [],\n",
              " 6115: [316, 2628, 961, 15260, 3629, 1417, 872, 1618, 2726, 2621],\n",
              " 6116: [25, 336, 11871, 38, 266, 1010],\n",
              " 6117: [990, 966, 977, 103, 1010, 3911, 2345, 601],\n",
              " 6118: [870, 9466, 5118, 1140, 146, 676, 349, 842, 2122, 1323],\n",
              " 6119: [2353, 1058, 6557],\n",
              " 6120: [],\n",
              " 6121: [847, 277, 76, 5160, 10897, 1798, 1442, 5505, 4067, 1450],\n",
              " 6122: [13, 603, 28, 639, 982, 1421, 826, 1480, 349, 991],\n",
              " 6123: [13, 32, 1348, 707, 2052, 2158, 11152, 1944, 601, 855],\n",
              " 6124: [103, 1081, 1099, 1886, 2487, 38559, 5124, 970, 994, 767],\n",
              " 6125: [11199, 1289, 817, 1348, 2272, 1438, 297, 3563, 689, 80],\n",
              " 6126: [695, 1850, 80, 32, 767, 979, 998, 988, 799, 905],\n",
              " 6127: [688, 676, 233, 826, 1447, 2558, 349, 982, 960, 977],\n",
              " 6128: [],\n",
              " 6129: [349, 77, 28, 266, 2, 1394, 672, 240, 817, 3727],\n",
              " 6130: [1611, 751, 3049, 521, 1417, 4034, 1407, 3859, 5871, 1442],\n",
              " 6131: [317, 57769, 868, 1681, 38763, 1083, 27795, 770, 1640, 1758],\n",
              " 6132: [334, 2908],\n",
              " 6133: [205, 55, 333, 1887, 2259, 579, 54279, 501, 2764, 18068],\n",
              " 6134: [977, 707, 321, 10016, 826, 960, 97],\n",
              " 6135: [5981],\n",
              " 6136: [10187, 21391, 57332, 6905, 10168],\n",
              " 6137: [2380, 960, 16516, 2229, 4025, 19971, 22034, 2681, 916, 58894],\n",
              " 6138: [10662, 10187, 988, 30402, 4856, 28, 4682, 74, 1485, 18714],\n",
              " 6139: [349, 13, 989, 973, 28, 1289, 826, 970, 2124, 814],\n",
              " 6140: [16966, 741, 1713, 80, 842, 1629, 998, 3111, 745, 1383],\n",
              " 6141: [1099, 510, 218, 1618, 501, 1117, 201, 228, 1095, 326],\n",
              " 6142: [12139, 611, 11364, 1323, 1046, 973, 549, 968, 640, 1148],\n",
              " 6143: [23475, 2159, 3833, 1582, 23446, 4015, 10767, 4069, 14457, 6308],\n",
              " 6144: [233, 727, 1406, 1021, 1855, 2052, 1565, 349, 826, 5052],\n",
              " 6145: [1240, 97, 2982, 12035, 938, 10089, 1455, 759, 736, 89],\n",
              " 6146: [1524, 612],\n",
              " 6147: [1438, 74, 1579, 7032, 1192, 13722],\n",
              " 6148: [],\n",
              " 6149: [4179, 233, 1077, 639, 1855, 973, 77, 977, 4078, 920],\n",
              " 6150: [14820, 2361, 4035, 695, 10635, 721, 10207, 85, 5954, 395],\n",
              " 6151: [1470, 2811, 1834, 4086, 64839, 7896, 27030, 10230, 6807, 1442],\n",
              " 6152: [1864, 1023, 3345, 24101, 1381, 326, 9474, 1603, 84, 1862],\n",
              " 6153: [64693, 80, 13, 55, 317, 1417, 1442, 1467, 917, 148],\n",
              " 6154: [1080, 1304, 3136, 5226, 1127, 408, 268, 1046, 4142, 23800],\n",
              " 6155: [23328, 4015, 12221, 877, 6, 1053, 4698, 501, 8925, 3075],\n",
              " 6156: [3128, 2144, 2001, 3443, 2173, 872, 233, 5642, 639, 759],\n",
              " 6157: [11020, 5883, 1941, 12351, 1879, 628, 22311, 283, 6182, 260],\n",
              " 6158: [1021, 1128, 2704, 14713, 896, 1148, 1289, 1872, 3065, 14876],\n",
              " 6159: [5909, 5074, 765, 24720, 609, 5786, 3965, 1957, 24252, 26979],\n",
              " 6160: [349, 602, 62712, 11843, 3308, 745, 3101, 840, 57802, 764],\n",
              " 6161: [1149, 2543, 6376, 11730, 6317, 1, 96, 6408, 10893, 56467],\n",
              " 6162: [],\n",
              " 6163: [4069, 333, 311, 1392, 298, 1905, 3823, 3696, 758, 1485],\n",
              " 6164: [15299, 66, 55, 28, 842, 855, 2353, 1887, 579, 57],\n",
              " 6165: [1046, 11947, 1565, 2351, 2056, 2229, 2363, 1434, 1149, 58910],\n",
              " 6166: [1256, 43206, 10497, 1634],\n",
              " 6167: [7608, 27309, 989, 8224, 349],\n",
              " 6168: [349, 602, 62712, 11843, 3308, 745, 3101, 840, 57802, 764],\n",
              " 6169: [3074, 637, 724, 11166],\n",
              " 6170: [63, 689, 80, 333, 28, 77, 986, 1278, 1095, 1452],\n",
              " 6171: [2631],\n",
              " 6172: [28, 3456, 19052, 1923, 9341, 3748, 1304, 1402, 727, 183],\n",
              " 6173: [76, 99, 103, 1348, 2, 183, 603, 266, 798, 1002],\n",
              " 6174: [39, 77, 986, 601, 148, 220, 798, 240, 97, 855],\n",
              " 6175: [13167, 4076, 2380, 58896, 906],\n",
              " 6176: [80, 13, 77, 240, 265, 39, 994, 689, 266, 1],\n",
              " 6177: [938, 40, 240, 2001, 80, 1634, 628, 3748, 349, 3726],\n",
              " 6178: [12331, 549, 311, 6208, 9172, 1462, 8567, 2100, 1441, 146],\n",
              " 6179: [799, 987, 970, 2148, 97, 960, 2345, 1410, 14953, 77],\n",
              " 6180: [333, 55, 183, 1095, 3461, 1478, 1049, 205, 2003, 2334],\n",
              " 6181: [333, 119, 227, 3227, 684, 1020, 1196, 2013, 970, 717],\n",
              " 6182: [5555, 11042, 271, 27778, 28238, 1887, 143],\n",
              " 6183: [798, 759, 1081, 840, 1716, 1536, 2764, 2456, 1581, 1470],\n",
              " 6184: [251, 1438, 2, 13, 639, 501, 176, 1556, 1548, 998],\n",
              " 6185: [8737, 11708, 62236, 2677, 1809, 396, 36, 3726, 2144, 5694],\n",
              " 6186: [2825, 5554, 4611, 4391, 10562, 886, 3281, 893, 1957, 10230],\n",
              " 6187: [3281, 327, 634, 1967, 227],\n",
              " 6188: [],\n",
              " 6189: [346, 7, 205, 5553, 2267, 2552, 5439, 5555, 19528, 1099],\n",
              " 6190: [5600, 222, 5563, 3581, 3420, 3280, 5555, 1988, 3396, 1402],\n",
              " 6191: [],\n",
              " 6192: [5602, 1417, 10603, 5439, 32164, 579, 28762],\n",
              " 6193: [1046],\n",
              " 6194: [5467, 2134, 2400, 1049, 1148, 4897, 1898, 3517, 2368, 16073],\n",
              " 6195: [],\n",
              " 6196: [228, 4616, 11571, 1000, 4580, 842, 9991, 2004, 6491, 12557],\n",
              " 6197: [11571, 2446, 3180],\n",
              " 6198: [12385, 9693, 5389, 4975, 293, 204, 4391, 16094, 18687, 16862],\n",
              " 6199: [24, 894, 30, 11264, 3723, 1140, 817, 4152, 1001, 708],\n",
              " 6200: [1946, 176, 2524, 78, 1638, 3247, 1897, 1083, 1099, 4756],\n",
              " 6201: [5565, 17912],\n",
              " 6202: [3517],\n",
              " 6203: [1049, 4974, 2764, 2834, 2825, 176, 3323, 333, 1901, 17257],\n",
              " 6204: [3331, 5074, 800],\n",
              " 6205: [80, 13, 899, 28, 2148, 689, 77, 986, 1441, 717],\n",
              " 6206: [139, 9315, 2221, 12094, 73095, 549, 11682, 1410, 1476],\n",
              " 6207: [18526, 989, 11188, 74, 4587, 44, 233, 1618, 19327, 1304],\n",
              " 6208: [8473, 1452, 6217, 977, 798],\n",
              " 6209: [4700, 22827, 15837, 71, 85],\n",
              " 6210: [2866, 986, 28, 773, 758, 326, 2542, 316, 1449, 1438],\n",
              " 6211: [1021, 17972, 960, 22580, 5319],\n",
              " 6212: [233, 640, 706, 950, 2451, 989, 834, 716, 912, 1457],\n",
              " 6213: [25039],\n",
              " 6214: [8695, 834, 15839, 599, 25053, 730, 2370, 2619, 4056, 15587],\n",
              " 6215: [15472, 1937, 42631, 28, 4, 4006, 15627, 715, 1694, 643],\n",
              " 6216: [768, 57725, 11725, 2066, 1099, 16004, 19429, 3251, 15496, 17348],\n",
              " 6217: [80, 166, 57, 1844, 1565, 618, 1687, 6333, 695, 412],\n",
              " 6218: [1165, 4182],\n",
              " 6219: [333, 15861, 17116, 1967, 2173, 795],\n",
              " 6220: [1045, 24233, 713, 1077, 5993, 11946, 5148],\n",
              " 6221: [6946, 274, 5045, 1166, 1161, 476, 755, 176, 33458],\n",
              " 6222: [1814, 1438, 4488, 2439, 2872, 3182, 1831, 3061, 1937, 727],\n",
              " 6223: [],\n",
              " 6224: [4087, 8558, 17, 1030, 5034],\n",
              " 6225: [989, 251, 85, 89, 13, 1406, 39, 2, 840, 3434],\n",
              " 6226: [2908, 1944],\n",
              " 6227: [989, 1565, 953, 85, 6621, 1448, 1100, 794, 4064, 6627],\n",
              " 6228: [6138, 1901],\n",
              " 6229: [1527, 970, 1438, 2353, 920, 4241, 1450, 4714, 1289, 77],\n",
              " 6230: [3182, 6543, 71, 696, 3604, 9495, 9764, 756],\n",
              " 6231: [1023, 1474, 13, 19494, 1227, 96, 317, 1003, 3101, 251],\n",
              " 6232: [13949, 6793, 16093, 751, 57949, 2503, 6685, 44338, 349, 1602],\n",
              " 6233: [1476, 1873, 938, 460, 1598, 2724, 4069, 2050, 10649, 1087],\n",
              " 6234: [799, 148, 349, 679, 960, 826, 2148, 370, 324, 1069],\n",
              " 6235: [148, 1135, 826, 99, 552, 80, 13, 1, 905, 982],\n",
              " 6236: [16966, 741, 1713, 80, 842, 1629, 998, 3111, 745, 1383],\n",
              " 6237: [1182, 1618, 372, 57, 51, 141, 251, 12, 106, 333],\n",
              " 6238: [333, 3461, 1417, 326, 1402, 233, 1035, 1020, 1028, 758],\n",
              " 6239: [55, 1010, 606, 22473, 14883, 371, 986, 756, 1859, 1099],\n",
              " 6240: [689, 349, 312, 989, 1448, 799, 80, 85, 1476, 840],\n",
              " 6241: [579, 198, 245, 1179, 57, 773, 2353, 54, 842, 764],\n",
              " 6242: [180, 222, 57, 326, 333, 1965, 579, 327, 3284, 55],\n",
              " 6243: [242, 3333],\n",
              " 6244: [1095, 78, 466, 1398, 1099, 1402, 727, 623, 5555, 3093],\n",
              " 6245: [312, 1000, 2016, 1415, 265, 2058, 1244, 1471, 1923, 717],\n",
              " 6246: [1049, 4974, 2764, 2834, 2825, 176, 3323, 333, 1901, 17257],\n",
              " 6247: [1440, 3242, 4777, 1398, 148],\n",
              " 6248: [57, 579, 78, 2173, 9387, 5563, 201, 327, 51, 1402],\n",
              " 6249: [916, 510, 758, 1189, 1042, 1844, 717, 251, 36726, 1452],\n",
              " 6250: [183, 2542, 1081, 1192, 888, 11707, 9860, 3661],\n",
              " 6251: [76, 3681, 5554, 6883],\n",
              " 6252: [40, 1237, 5249, 2541, 144, 349, 978, 6734, 1051, 20135],\n",
              " 6253: [],\n",
              " 6254: [13, 11411],\n",
              " 6255: [13, 333, 1099, 1095, 840, 579, 326, 1395, 23, 349],\n",
              " 6256: [11901, 3101, 2749, 3819, 826, 205, 991, 4182, 23999, 4068],\n",
              " 6257: [3710, 1095, 28, 317, 2478, 80, 176, 1001, 840, 218],\n",
              " 6258: [4238, 1183, 1402, 814, 321, 2702, 5563, 19411, 579, 80],\n",
              " 6259: [1905, 7083, 1529, 955, 1289, 282, 99, 2774, 4011, 1035],\n",
              " 6260: [333, 3461, 1417, 326, 1402, 233, 1035, 1020, 1028, 758],\n",
              " 6261: [349, 602, 62712, 11843, 3308, 745, 3101, 840, 57802, 764],\n",
              " 6262: [201, 376, 2141, 5564, 103, 5255, 49, 716, 3153, 3379],\n",
              " 6263: [2662, 14371, 679, 11850, 3325, 2750, 2010, 613, 104, 2669],\n",
              " 6264: [2866, 986, 28, 773, 758, 326, 2542, 316, 1449, 1438],\n",
              " 6265: [4238, 1183, 1402, 814, 321, 2702, 5563, 19411, 579, 80],\n",
              " 6266: [558, 922, 5052, 6804, 2558, 169, 979, 2770, 639, 3655],\n",
              " 6267: [579, 9967],\n",
              " 6268: [1161, 4696, 80, 1081, 979, 1797, 1435, 998, 1994, 8950],\n",
              " 6269: [16046, 13, 57, 1848, 333, 712, 78, 855, 521, 326],\n",
              " 6270: [1859, 3333],\n",
              " 6271: [277, 842, 1438, 228, 602, 579, 183, 1160, 620, 1905],\n",
              " 6272: [826, 770, 349, 3124, 906, 938, 1814, 2825, 317, 3346],\n",
              " 6273: [9341, 1140, 676, 19387, 977, 294, 689, 4152, 1160, 8859],\n",
              " 6274: [15589, 813, 4421, 14836, 34777, 640, 913, 6153, 16695, 23057],\n",
              " 6275: [233, 727, 1406, 1021, 1855, 2052, 1565, 349, 826, 5052],\n",
              " 6276: [798, 759, 1081, 840, 1716, 1536, 2764, 2456, 1581, 1470],\n",
              " 6277: [2, 28, 799, 6217, 1406, 99, 1640, 13, 312, 146],\n",
              " 6278: [13, 333, 1099, 1095, 840, 579, 326, 1395, 23, 349],\n",
              " 6279: [78, 707, 13, 758, 327, 989, 715, 80, 55, 4424],\n",
              " 6280: [1438, 28, 989, 77, 349, 1476, 268, 83, 10191, 1437],\n",
              " 6281: [13, 603, 28, 639, 982, 1421, 826, 1480, 349, 991],\n",
              " 6282: [11682, 2128, 1612, 613, 349, 324, 2385, 1021, 146, 14586],\n",
              " 6283: [1289, 986, 977, 603, 240, 920, 1275, 840, 2453, 13],\n",
              " 6284: [28571, 1002, 18714, 10190, 418, 28, 411, 28246, 85, 287],\n",
              " 6285: [80, 13, 77, 240, 265, 39, 994, 689, 266, 1],\n",
              " 6286: [13, 269, 75, 990, 240, 2, 148, 182, 1127, 1140],\n",
              " 6287: [265, 251, 322, 1406, 764, 1438, 183, 28, 146, 639],\n",
              " 6288: [13, 333, 1099, 1095, 840, 579, 326, 1395, 23, 349],\n",
              " 6289: [2447, 1477, 4176, 15047, 2542, 717, 4041, 1864, 7047, 840],\n",
              " 6290: [13639, 10533],\n",
              " 6291: [1417, 8737, 3081, 6883, 398, 1638, 501, 12610, 13139, 10517],\n",
              " 6292: [4076, 1240, 1004, 240, 2706, 4611, 6425, 1188, 3309, 7331],\n",
              " 6293: [1289, 2449, 2, 2749, 2811, 1638, 2774, 1479, 2127, 817],\n",
              " 6294: [1946, 176, 2524, 78, 1638, 3247, 1897, 1083, 1099, 4756],\n",
              " 6295: [826, 855, 240, 311, 1445, 1417, 4138, 717, 511, 814],\n",
              " 6296: [76, 251, 1348, 826, 11682, 1240, 349, 511, 1024, 1021],\n",
              " 6297: [2847, 41, 5433, 1819, 74, 906, 4123, 3696, 8041, 4445],\n",
              " 6298: [1003, 77, 954, 35, 268, 689, 611, 461, 1323, 1715],\n",
              " 6299: [27324, 2506, 197, 3184, 13686, 371, 219, 795],\n",
              " 6300: [251, 1438, 2, 13, 639, 501, 176, 1556, 1548, 998],\n",
              " 6301: [3587, 808, 3692, 19055, 14267, 418, 1834, 6537, 4299, 2050],\n",
              " 6302: [1406, 13, 148, 1081, 966, 840, 240, 265, 55, 938],\n",
              " 6303: [269, 466, 6902, 25895, 1992, 768, 1442, 1565, 1042, 3079],\n",
              " 6304: [3456, 14777, 5721, 640, 4019, 731, 57534, 2702, 2144, 2869],\n",
              " 6305: [100, 1183, 15541, 1579],\n",
              " 6306: [3206, 1402, 4246, 1543, 3876, 2045, 1018, 3205, 1, 1410],\n",
              " 6307: [814, 13, 628, 721, 1378, 5700, 413, 4255, 1606, 716],\n",
              " 6308: [4069, 333, 311, 1392, 298, 1905, 3823, 3696, 758, 1485],\n",
              " 6309: [814, 4068, 1020, 466, 3456, 333, 855, 1618, 5095, 840],\n",
              " 6310: [13, 4068, 12081, 3087, 325, 5150],\n",
              " 6311: [603, 1083, 346, 993, 3734, 22516, 13, 952, 719, 265],\n",
              " 6312: [727, 3075, 17071, 77],\n",
              " 6313: [1891, 2461, 11707, 897],\n",
              " 6314: [1406, 3101, 395, 2671, 6590, 14049, 994, 2402, 2883, 3604],\n",
              " 6315: [219, 1551, 7218, 11850, 4011, 916, 2671, 1429, 8041, 549],\n",
              " 6316: [1182, 1618, 372, 57, 51, 141, 251, 12, 106, 333],\n",
              " 6317: [5156, 1309, 14406, 27772],\n",
              " 6318: [395, 51507, 1387, 4033, 622, 982, 3029, 8319, 2, 612],\n",
              " 6319: [349, 312, 998, 717, 106, 960, 826, 1192, 920, 97],\n",
              " 6320: [],\n",
              " 6321: [13, 32, 1348, 707, 2052, 2158, 11152, 1944, 601, 855],\n",
              " 6322: [],\n",
              " 6323: [817, 1618, 1374, 1417, 3456, 1095, 201, 715, 579, 1028],\n",
              " 6324: [21537, 3148, 16744, 18057],\n",
              " 6325: [1003, 1348, 1176, 19410, 716, 1976, 859, 3199, 2559, 1456],\n",
              " 6326: [32, 601, 1, 10191, 141, 265, 798, 60, 715, 2538],\n",
              " 6327: [148, 1179, 2148, 1478, 991, 2669, 296, 2052],\n",
              " 6328: [778, 4851, 323, 13857, 11567, 1536, 3081, 1083],\n",
              " 6329: [3261, 973, 1148, 689, 2681, 4640, 1612, 28, 851, 1849],\n",
              " 6330: [15713, 2368, 11890, 11707, 721, 8737, 28, 11843, 842],\n",
              " 6331: [1450, 4111, 4988, 840, 1112, 2330, 676, 1417, 1227, 30],\n",
              " 6332: [32, 2148, 938, 1565, 251, 370, 2768, 1004, 80, 1491],\n",
              " 6333: [3166, 1640, 80, 15805, 1437, 23797, 32, 28, 820, 991],\n",
              " 6334: [40, 2518, 78, 466, 2173, 1271, 75, 6, 1486, 1167],\n",
              " 6335: [988, 74, 1140, 1473, 4546, 1581, 202, 8951, 985, 103],\n",
              " 6336: [12092, 1198, 1422, 266, 1001, 1576],\n",
              " 6337: [799, 148, 349, 679, 960, 826, 2148, 370, 324, 1069],\n",
              " 6338: [76, 324, 798, 1353, 1127, 28, 74, 240, 322, 960],\n",
              " 6339: [13, 603, 28, 639, 982, 1421, 826, 1480, 349, 991],\n",
              " 6340: [2789, 337, 1957, 3575, 1476, 312, 1003, 977, 979, 24510],\n",
              " 6341: [1503, 994, 977, 43193, 717, 691, 1328, 6, 967, 998],\n",
              " 6342: [276, 5118, 1487, 23526, 613, 707, 9977, 5527, 1476, 639],\n",
              " 6343: [1080, 1159, 715, 1417, 80, 682, 18278, 639, 651],\n",
              " 6344: [1819, 2060, 20237, 2680, 2155, 2918, 20165, 2679, 19928, 7314],\n",
              " 6345: [76, 324, 798, 1353, 1127, 28, 74, 240, 322, 960],\n",
              " 6346: [991, 166, 6356, 144, 349, 23302, 74, 601, 7154, 8686],\n",
              " 6347: [50463, 4070, 93, 2886, 1043, 8951, 18183],\n",
              " 6348: [1348, 17838, 30835, 1105, 17, 602, 22594, 23971, 3327, 3493],\n",
              " 6349: [251, 324, 938, 301, 4457, 984, 80, 4221, 460, 192],\n",
              " 6350: [13, 1289, 1618, 1850, 1406, 700, 1944, 604, 1021, 938],\n",
              " 6351: [1003, 99, 85, 39, 4556, 148, 219, 266, 251, 146],\n",
              " 6352: [182, 1814, 6508, 717, 14726, 15328],\n",
              " 6353: [77, 80, 1021, 2144, 397, 5045, 26564, 12939, 34774, 3928],\n",
              " 6354: [1581, 5829, 8674, 3798, 265, 1083, 28, 511, 32, 60],\n",
              " 6355: [826, 4015, 976, 989, 1190, 11584, 1479, 6686, 940, 233],\n",
              " 6356: [],\n",
              " 6357: [826, 4015, 976, 989, 1190, 11584, 1479, 6686, 940, 233],\n",
              " 6358: [5801, 1672, 6766, 552, 24345],\n",
              " 6359: [840, 1289, 620, 13, 1608, 312, 826, 938, 1002, 1483],\n",
              " 6360: [840],\n",
              " 6361: [11730, 13353, 127, 5157, 251, 176, 840, 10751, 78, 10187],\n",
              " 6362: [511, 251, 99, 13, 601, 994, 327, 4067, 1438, 982],\n",
              " 6363: [16267, 1406, 912, 4123, 1992, 6218, 1923, 1196, 1652, 4231],\n",
              " 6364: [800, 228, 579, 5724, 715, 176, 1394, 148, 603, 78],\n",
              " 6365: [1435, 4008, 24136, 58910, 7237, 1470],\n",
              " 6366: [4793, 1099, 13980, 19971],\n",
              " 6367: [1442, 18859, 1],\n",
              " 6368: [1442, 18859, 1],\n",
              " 6369: [265, 251, 322, 1406, 764, 1438, 183, 28, 146, 639],\n",
              " 6370: [989, 251, 85, 89, 13, 1406, 39, 2, 840, 3434],\n",
              " 6371: [1450, 1441, 349, 620, 1023, 603, 32, 1440, 148, 245],\n",
              " 6372: [219, 1406, 1002, 1407, 6629, 817, 324, 251, 688, 3124],\n",
              " 6373: [43168, 5951, 1379, 1862, 77, 13842, 4201, 4700, 64879, 1189],\n",
              " 6374: [1448, 26350, 3575, 4249, 10416, 5230, 5224, 1480, 16768, 898],\n",
              " 6375: [89, 219, 8938, 74, 349, 245, 411, 1015, 103, 1648],\n",
              " 6376: [5870, 4001, 1527, 5614, 817, 16, 585, 1478, 6887, 2851],\n",
              " 6377: [6804, 97, 3886, 6, 1406, 553, 74, 603, 5052, 77],\n",
              " 6378: [4750, 479, 618],\n",
              " 6379: [1004, 799, 3637, 955, 4172],\n",
              " 6380: [4221, 1923, 1018, 5032, 979, 14591, 2140, 987, 2449, 2112],\n",
              " 6381: [],\n",
              " 6382: [251, 148, 1192, 2, 144, 1117, 798, 85, 38, 8938],\n",
              " 6383: [218, 57, 817, 13, 78, 1445, 764, 77, 1374, 2148],\n",
              " 6384: [6881, 2330, 1181, 5320, 16517, 29, 1465, 11871, 27, 2452],\n",
              " 6385: [232, 1445, 758, 16685, 312, 988, 38840, 244, 630, 269],\n",
              " 6386: [872, 1476, 349, 8938, 549, 38, 266, 970, 5202, 689],\n",
              " 6387: [32, 1000, 324, 826, 103, 990, 973, 28, 3319, 2],\n",
              " 6388: [2, 312, 13, 689, 1438, 148, 219, 798, 220, 840],\n",
              " 6389: [1, 266, 85, 268, 1140, 74, 601, 265, 245, 689],\n",
              " 6390: [265, 251, 322, 1406, 764, 1438, 183, 28, 146, 639],\n",
              " 6391: [398, 28, 2209, 166, 5203, 501, 759, 1015, 74, 75],\n",
              " 6392: [17814, 3815, 21653, 4457, 8813, 6791, 8899, 21074],\n",
              " 6393: [552, 1099, 852, 22508, 40, 516, 9977, 1581, 466, 10105],\n",
              " 6394: [349, 978, 979, 1454, 990, 6892, 1479, 1448, 32, 2052],\n",
              " 6395: [266, 244, 324, 1435, 108, 1205, 959, 4712, 3148, 331],\n",
              " 6396: [501, 612, 166, 106, 511, 1468, 161, 20950, 1046, 462],\n",
              " 6397: [149, 265, 501, 1406, 1080, 691, 3124, 324, 148, 10543],\n",
              " 6398: [14573, 736, 654, 4922],\n",
              " 6399: [2869, 639, 2180, 859, 10936, 39485, 4063, 97, 1547, 4774],\n",
              " 6400: [2503, 4564, 32964, 2457, 4437, 16108],\n",
              " 6401: [1487, 28, 215, 346],\n",
              " 6402: [349, 1850, 998, 1289, 1923, 5142, 311, 77, 707, 639],\n",
              " 6403: [4026, 346, 998, 146, 173, 80, 7896, 4915, 5405, 696],\n",
              " 6404: [89, 603, 146, 1539, 717, 1, 1353, 34, 19429, 1083],\n",
              " 6405: [13, 552, 1002, 960, 1450, 11682, 2, 707, 146, 1],\n",
              " 6406: [2672, 2991, 22688, 5634, 3629, 29037, 3615, 26067, 891, 6408],\n",
              " 6407: [19965, 808, 16415, 1790, 23168, 4248, 639, 15088, 1687, 370],\n",
              " 6408: [2455, 40, 333, 265, 1023, 87, 8548, 233, 985, 1578],\n",
              " 6409: [349, 602, 62712, 11843, 3308, 745, 3101, 840, 57802, 764],\n",
              " 6410: [585, 1196, 8226, 103, 24131, 5909, 10232, 4116, 1618, 27861],\n",
              " 6411: [6742, 1077, 1849, 1672, 667],\n",
              " 6412: [76, 1140, 988, 2207, 346, 580, 166, 7100, 1380, 826],\n",
              " 6413: [1021, 17972, 960, 22580, 5319],\n",
              " 6414: [1049, 4974, 2764, 2834, 2825, 176, 3323, 333, 1901, 17257],\n",
              " 6415: [76, 349, 80, 1348, 1783, 959, 1657, 10191, 8544, 1788],\n",
              " 6416: [55, 2353, 78, 510, 311, 28, 3681, 219, 4, 77],\n",
              " 6417: [938, 2013],\n",
              " 6418: [5162, 1638, 1478, 6867, 1099, 2557, 580, 15441, 826, 4919],\n",
              " 6419: [103, 1859, 2152, 755, 855, 11133, 1411, 3081, 3353, 2],\n",
              " 6420: [6],\n",
              " 6421: [4319, 20166, 2364, 1099, 31429, 1033, 6627, 242, 2558, 1849],\n",
              " 6422: [99, 148, 244, 1003, 77, 251, 2765, 1087, 872, 1015],\n",
              " 6423: [80, 13, 77, 240, 265, 39, 994, 689, 266, 1],\n",
              " 6424: [219, 349, 689, 960, 13, 717, 4750, 324, 1, 103],\n",
              " 6425: [],\n",
              " 6426: [1140, 11682, 1176, 1205, 312, 3108, 1194, 24253, 80, 2221],\n",
              " 6427: [67, 1198, 3937, 5544, 370, 19335, 4060, 371, 1083, 2561],\n",
              " 6428: [76, 1140, 988, 2207, 346, 580, 166, 7100, 1380, 826],\n",
              " 6429: [5162, 1638, 1478, 6867, 1099, 2557, 580, 15441, 826, 4919],\n",
              " 6430: [67, 1198, 3937, 5544, 370, 19335, 4060, 371, 1083, 2561],\n",
              " 6431: [620, 1442, 398, 1194, 1474, 978, 1080, 4988, 2535, 6627],\n",
              " 6432: [13726, 3232, 970, 5802, 1618, 2073, 601, 14619, 758, 3798],\n",
              " 6433: [3396, 22876, 24660, 2264, 2885, 1844, 11042, 19588, 5492, 28749],\n",
              " 6434: [10230, 694, 9568, 4013, 1394, 3737, 840, 228, 4726, 604],\n",
              " 6435: [3396, 22876, 24660, 2264, 2885, 1844, 11042, 19588, 5492, 28749],\n",
              " 6436: [5468, 5492, 18738],\n",
              " 6437: [],\n",
              " 6438: [15591, 20237, 15483, 2619, 14862, 19414, 7218, 2427],\n",
              " 6439: [4810],\n",
              " 6440: [6242, 5769, 20205, 22100, 5721, 2772, 3322, 42473, 15814, 998],\n",
              " 6441: [14873],\n",
              " 6442: [],\n",
              " 6443: [773, 4472],\n",
              " 6444: [11471, 724, 15687, 15362, 2124, 16167],\n",
              " 6445: [2180, 4700, 2924, 602, 4011, 28, 14777, 628, 4002, 851],\n",
              " 6446: [2680, 14891, 2908, 15627, 4430, 1387, 2060, 1937, 996, 4931],\n",
              " 6447: [15675, 2924, 6275, 6058, 1872, 4469, 15591, 14862, 5934, 4431],\n",
              " 6448: [14570, 2451, 327, 2618, 38262, 249, 854, 4432, 15845, 15591],\n",
              " 6449: [14570, 2451, 327, 2618, 38262, 249, 854, 4432, 15845, 15591],\n",
              " 6450: [1937, 14930, 6958, 2704, 727, 812, 14878, 706, 2911, 1867],\n",
              " 6451: [4430, 1128, 32177, 4057, 694, 2930, 15362, 13949, 301, 1528],\n",
              " 6452: [15472, 1937, 42631, 28, 4, 4006, 15627, 715, 1694, 643],\n",
              " 6453: [2451, 6247, 1128, 1814, 4431, 16519, 4056, 49446, 4137, 4627],\n",
              " 6454: [6058, 5926, 1814],\n",
              " 6455: [747, 34348, 349, 938, 5934, 2618, 16469, 2915, 645, 1466],\n",
              " 6456: [1872, 4183],\n",
              " 6457: [6031, 15552, 6247, 15843, 2451, 14891, 4061, 33487, 15627, 2681],\n",
              " 6458: [6058, 5926, 1814],\n",
              " 6459: [2155, 42032, 2427, 15317, 39752, 2924, 15814, 16262, 27005, 813],\n",
              " 6460: [1819, 15681, 899, 15812, 14891, 4083, 15674, 27016, 4146, 15816],\n",
              " 6461: [1041, 5157],\n",
              " 6462: [982, 973, 24207, 2647, 717, 19007, 974, 1483, 3796, 183],\n",
              " 6463: [1, 266, 85, 268, 1140, 74, 601, 265, 245, 689],\n",
              " 6464: [148, 2749, 917, 691, 3637, 1021, 1486, 968, 906, 46146],\n",
              " 6465: [2791, 17, 23761, 85, 580, 1258, 504, 1087, 144, 89],\n",
              " 6466: [1189, 1556, 769, 2163, 639, 989, 1923, 16829, 1999, 1],\n",
              " 6467: [3014, 166, 30, 188, 3200, 4349, 28424, 4123, 3676, 274],\n",
              " 6468: [5977, 645, 21941],\n",
              " 6469: [],\n",
              " 6470: [13, 1439],\n",
              " 6471: [1021, 1128, 2704, 14713, 896, 1148, 1289, 1872, 3065, 14876],\n",
              " 6472: [13, 15845, 639, 2144, 5018, 6357, 645, 23526, 15669, 1599],\n",
              " 6473: [604, 808, 1815, 896, 349],\n",
              " 6474: [2451, 602],\n",
              " 6475: [2451, 6247, 1128, 1814, 4431, 16519, 4056, 49446, 4137, 4627],\n",
              " 6476: [21945, 930],\n",
              " 6477: [15580, 4700, 6242, 6302, 716, 4081, 3655, 724, 2618, 27005],\n",
              " 6478: [2180, 4700, 2924, 602, 4011, 28, 14777, 628, 4002, 851],\n",
              " 6479: [4851],\n",
              " 6480: [3853, 3101, 1639, 2453, 676, 7525, 2456, 181, 796, 1802],\n",
              " 6481: [9144, 4069, 212, 24106, 3385, 49204, 842, 1428, 764, 28902],\n",
              " 6482: [7896],\n",
              " 6483: [814, 13, 628, 721, 1378, 5700, 413, 4255, 1606, 716],\n",
              " 6484: [205, 5056, 418, 296, 15352],\n",
              " 6485: [78, 707, 13, 758, 327, 989, 715, 80, 55, 4424],\n",
              " 6486: [2, 265, 240, 35, 244, 85, 71, 1, 346, 2847],\n",
              " 6487: [1440, 4188, 4483],\n",
              " 6488: [418, 10125, 17, 31250, 5170, 1080, 322, 24071, 268, 1392],\n",
              " 6489: [14037, 1428, 3877, 1042, 6520, 4116, 15307, 4034, 1629],\n",
              " 6490: [2, 148, 76, 265, 1, 39, 77, 1289, 1440, 35],\n",
              " 6491: [549, 1198, 986],\n",
              " 6492: [6804, 97, 3886, 6, 1406, 553, 74, 603, 5052, 77],\n",
              " 6493: [24, 894, 30, 11264, 3723, 1140, 817, 4152, 1001, 708],\n",
              " 6494: [219, 1551, 7218, 11850, 4011, 916, 2671, 1429, 8041, 549],\n",
              " 6495: [1457, 1083, 349, 4457, 23537, 4726, 7729, 1572, 4750, 10143],\n",
              " 6496: [1639, 712, 2747, 3570, 1629, 4659, 2437, 36, 5576, 56],\n",
              " 6497: [1003, 466, 770, 446, 346, 106, 4343, 2774, 245, 1348],\n",
              " 6498: [5586, 3074, 4738, 5816, 798, 11149, 23469, 28, 5174, 23927],\n",
              " 6499: [5324, 16, 808, 367, 4537, 37692, 10801],\n",
              " 6500: [5065, 978],\n",
              " 6501: [32, 1421, 676, 989, 960, 312, 2148, 1406, 721, 996],\n",
              " 6502: [251, 1438, 2, 13, 639, 501, 176, 1556, 1548, 998],\n",
              " 6503: [5676, 2752, 1183, 1640, 4575, 3332, 44, 1438, 1473, 1204],\n",
              " 6504: [12026, 4616],\n",
              " 6505: [21166, 766],\n",
              " 6506: [1612, 16786, 3874, 798, 1000, 1934, 3205, 13878, 3398, 620],\n",
              " 6507: [106, 580, 581, 1198, 312],\n",
              " 6508: [1478, 78, 1579, 4350, 18559, 509, 3485],\n",
              " 6509: [15284, 4017, 240, 4488, 80, 1441, 1081, 860, 2962, 10258],\n",
              " 6510: [2729, 2207, 4069, 1581, 1711, 146, 1536, 693, 958, 1844],\n",
              " 6511: [76, 99, 103, 1348, 2, 183, 603, 266, 798, 1002],\n",
              " 6512: [265, 251, 322, 1406, 764, 1438, 183, 28, 146, 639],\n",
              " 6513: [1565, 603, 1289, 1445, 689, 15926, 970, 1042, 17534, 826],\n",
              " 6514: [8950, 242, 219, 73097, 715, 13842, 73101, 1095, 1420, 1607],\n",
              " 6515: [989, 13, 2052, 579, 3261, 240, 3124, 798, 747, 1850],\n",
              " 6516: [3669, 2527, 371, 906, 14768, 89, 1178, 16547, 6268, 976],\n",
              " 6517: [6875, 1572, 748, 5830, 1556, 3449, 1457, 11697, 10, 4923],\n",
              " 6518: [989, 1348, 826, 83, 1195, 245, 25985, 1834, 549, 686],\n",
              " 6519: [689, 349, 312, 989, 1448, 799, 80, 85, 1476, 840],\n",
              " 6520: [796, 1286, 160, 326, 1289, 1649, 988, 323, 166, 219],\n",
              " 6521: [1023, 349, 1747, 717, 840, 1438, 1462, 2811, 1535, 1450],\n",
              " 6522: [620, 312, 689, 1446, 1448, 1435, 1535, 10125, 960, 6875],\n",
              " 6523: [5816, 1378, 2432, 2143, 78, 834, 628, 13764, 1380, 1024],\n",
              " 6524: [960, 840, 1479, 4026, 13, 78, 19843, 12600, 955, 106],\n",
              " 6525: [8950, 242, 219, 73097, 715, 13842, 73101, 1095, 1420, 1607],\n",
              " 6526: [1640],\n",
              " 6527: [11901, 3101, 2749, 3819, 826, 205, 991, 4182, 23999, 4068],\n",
              " 6528: [840, 989, 1081, 938, 85, 1466, 13, 1348, 1042, 994],\n",
              " 6529: [1437, 4013, 2749, 717, 3458, 2729, 1379, 879, 694, 1298],\n",
              " 6530: [3206, 1402, 4246, 1543, 3876, 2045, 1018, 3205, 1, 1410],\n",
              " 6531: [64693, 80, 13, 55, 317, 1417, 1442, 1467, 917, 148],\n",
              " 6532: [8192, 3771, 11682, 970, 1711, 1476, 2541, 6638, 349, 1470],\n",
              " 6533: [4193, 4013, 12632, 1638, 2143, 10187, 13832, 1886, 4832, 76],\n",
              " 6534: [5592, 23302, 1042, 4483, 483, 1439, 21949, 4078, 85, 9005],\n",
              " 6535: [74, 1608, 652, 3997, 4096, 4556, 1480, 14318, 960, 1468],\n",
              " 6536: [76, 349, 80, 1348, 1783, 959, 1657, 10191, 8544, 1788],\n",
              " 6537: [1527, 989, 80, 1407, 4137, 4165, 652, 1476, 1004, 167],\n",
              " 6538: [323, 219, 603, 916, 979, 349, 1480, 22030, 24628, 938],\n",
              " 6539: [3299, 16464, 7736, 1988, 3222, 16734, 840, 579, 228, 3487],\n",
              " 6540: [689, 1140, 333, 4037, 978, 1081, 967],\n",
              " 6541: [13, 32, 1348, 707, 2052, 2158, 11152, 1944, 601, 855],\n",
              " 6542: [27335, 854, 3776, 1858, 4011, 5045, 1713, 4105],\n",
              " 6543: [1022, 3291, 4246, 4025, 4006],\n",
              " 6544: [2528, 5541, 4123, 759, 1438, 49, 4310, 2721, 840, 19200],\n",
              " 6545: [758, 1095, 326, 333, 1618, 327, 1887, 55, 176, 2144],\n",
              " 6546: [349, 13, 989, 973, 28, 1289, 826, 970, 2124, 814],\n",
              " 6547: [906, 872, 1441, 736, 1476, 1535, 1465, 585, 731, 3062],\n",
              " 6548: [689, 1540, 769, 920, 349, 1457, 6629, 6946, 1638, 4750],\n",
              " 6549: [28, 2655, 5020, 4030, 787, 826, 741, 1866, 1859, 686],\n",
              " 6550: [7729, 1556, 689, 1574, 6946, 1572, 4457, 106, 1083, 23537],\n",
              " 6551: [1441, 3291, 16573],\n",
              " 6552: [349, 13, 1348, 1021, 1448, 265, 991, 767, 1406, 1002],\n",
              " 6553: [1406, 13, 148, 1081, 966, 840, 240, 265, 55, 938],\n",
              " 6554: [1444, 324, 4078, 3088, 1923, 982, 2402, 4149, 4105, 460],\n",
              " 6555: [1024, 799, 989, 324, 855, 951, 1540, 604, 9531, 1127],\n",
              " 6556: [793, 1486],\n",
              " 6557: [676, 4505, 2380, 1800, 1619, 2124, 6217, 1196, 997, 5721],\n",
              " 6558: [989],\n",
              " 6559: [1448, 2385, 1438, 549, 1479, 4469, 6496, 18576, 4056, 9306],\n",
              " 6560: [2449, 15541, 14631, 20826, 1638, 14655, 766, 17534, 3851, 2271],\n",
              " 6561: [745, 3830, 4546, 1473, 1042, 826],\n",
              " 6562: [2, 28, 799, 6217, 1406, 99, 1640, 13, 312, 146],\n",
              " 6563: [1021, 349, 1188, 736, 826, 817, 2158, 1438, 840, 966],\n",
              " 6564: [1478],\n",
              " 6565: [1887],\n",
              " 6566: [1248, 1578, 4324],\n",
              " 6567: [1020],\n",
              " 6568: [1850, 2618, 642, 5951, 9288, 759, 1466, 15627, 1867, 4024],\n",
              " 6569: [1542, 875, 2060, 22867, 1557, 612, 80, 1612, 2916, 106],\n",
              " 6570: [2173, 180],\n",
              " 6571: [78, 855, 326, 55, 579, 886, 1099, 1289, 826, 758],\n",
              " 6572: [1464, 10760, 24249, 19843, 2811, 3028, 1547, 954, 1462, 1579],\n",
              " 6573: [12113, 6766],\n",
              " 6574: [4701, 3049, 219, 283, 60, 3114, 4287, 39, 5174, 11149],\n",
              " 6575: [16046, 13, 57, 1848, 333, 712, 78, 855, 521, 326],\n",
              " 6576: [28, 333, 616],\n",
              " 6577: [745, 15805, 5203, 2065, 1196, 44358, 2485, 23757, 1016, 8655],\n",
              " 6578: [3088, 938, 770, 717, 1021, 4006, 2165, 1850, 2100, 721],\n",
              " 6579: [180, 222, 57, 326, 333, 1965, 579, 327, 3284, 55],\n",
              " 6580: [865, 16933, 2774, 1480, 1000, 4546, 6543, 28, 1867, 1446],\n",
              " 6581: [2667, 19302, 34, 4430, 1466],\n",
              " 6582: [416, 271],\n",
              " 6583: [20190],\n",
              " 6584: [],\n",
              " 6585: [989, 3251, 146, 602, 615, 22465, 144, 938, 32755, 1905],\n",
              " 6586: [],\n",
              " 6587: [6135, 11585, 11639, 6575, 4010, 204, 7708, 4238, 764],\n",
              " 6588: [1476, 28, 1556, 11741, 872, 34335, 8813, 19049, 12914, 14737],\n",
              " 6589: [349, 602, 62712, 11843, 3308, 745, 3101, 840, 57802, 764],\n",
              " 6590: [2180, 4700, 2924, 602, 4011, 28, 14777, 628, 4002, 851],\n",
              " 6591: [808, 2924, 4149, 28, 1346, 2124, 6696, 1043, 639, 1866],\n",
              " 6592: [707, 1406, 4081, 1747, 8034, 5989, 4026, 817, 651, 4011],\n",
              " 6593: [840, 1289, 620, 13, 1608, 312, 826, 938, 1002, 1483],\n",
              " 6594: [6177, 22326, 28],\n",
              " 6595: [603, 219, 1483, 2, 15205, 89, 1178, 613, 989, 1004],\n",
              " 6596: [5829, 4184, 315, 2229, 6192, 998, 1620, 1028, 9672, 951],\n",
              " 6597: [1000, 1127, 3629, 443, 228, 1155, 2810, 28, 1438, 24406],\n",
              " 6598: [549, 248, 9278, 9466, 32, 4437, 2513, 19435, 5182],\n",
              " 6599: [1572, 1210],\n",
              " 6600: [277, 842, 1438, 228, 602, 579, 183, 1160, 620, 1905],\n",
              " 6601: [1941],\n",
              " 6602: [15116, 9715, 715, 2510, 1618, 560],\n",
              " 6603: [1024, 799, 989, 324, 855, 951, 1540, 604, 9531, 1127],\n",
              " 6604: [689, 349, 312, 989, 1448, 799, 80, 85, 1476, 840],\n",
              " 6605: [371, 326, 24430, 312, 25440, 953, 1144, 248, 28119, 1049],\n",
              " 6606: [713, 101, 2, 28, 1198, 1527, 2362, 76, 2520],\n",
              " 6607: [2144, 1824],\n",
              " 6608: [324, 49, 3604, 14483, 817, 80, 1275, 1000, 2607, 3560],\n",
              " 6609: [4700, 2073],\n",
              " 6610: [2353],\n",
              " 6611: [53, 7, 3168, 10627, 4750, 761],\n",
              " 6612: [],\n",
              " 6613: [1033, 2124, 8676, 14478, 48089, 1022, 4219, 2939, 1077, 233],\n",
              " 6614: [870, 9466, 5118, 1140, 146, 676, 349, 842, 2122, 1323],\n",
              " 6615: [721, 1130, 411, 183, 16423, 218, 1, 3336, 3639, 1218],\n",
              " 6616: [89, 220, 1329, 326, 777, 312, 218, 57, 461, 146],\n",
              " 6617: [1003, 466, 770, 446, 346, 106, 4343, 2774, 245, 1348],\n",
              " 6618: [99, 7540, 1003, 266, 269, 324, 1410, 35, 764, 1143],\n",
              " 6619: [1448, 220, 78, 233, 14986, 76, 859, 9466, 960, 166],\n",
              " 6620: [4111, 640, 1, 11054, 25979, 1545, 4718, 5521, 8951, 764],\n",
              " 6621: [920, 331, 2416, 2178, 2510, 13804, 2353, 959, 39662, 149],\n",
              " 6622: [1941, 1028, 3380, 1405, 466, 960, 1196, 1473, 1042, 894],\n",
              " 6623: [1602, 1469, 8762, 1007, 14845, 297],\n",
              " 6624: [840, 78, 333, 2, 240, 1527, 955, 1438, 14699, 1190],\n",
              " 6625: [1447, 960, 1491, 2453, 99, 1032, 712, 22068, 2869, 756],\n",
              " 6626: [97, 1491, 316, 16760, 2871, 15416, 1055, 100, 1000, 1007],\n",
              " 6627: [74, 1999, 960, 20053, 1555, 4067, 247, 166, 90016, 391],\n",
              " 6628: [312, 689, 982, 717, 349, 826, 2052, 240, 855, 1348],\n",
              " 6629: [3461, 1053, 1190, 3575, 144, 17543, 99, 4248, 420, 29],\n",
              " 6630: [407, 3846],\n",
              " 6631: [826, 4015, 976, 989, 1190, 11584, 1479, 6686, 940, 233],\n",
              " 6632: [14939, 998, 1792, 3079, 736],\n",
              " 6633: [2774],\n",
              " 6634: [16562, 920, 1994, 3969, 6696, 856, 1905, 346, 1849, 85],\n",
              " 6635: [99, 148, 244, 1003, 77, 251, 2765, 1087, 872, 1015],\n",
              " 6636: [854, 5530, 1630, 1789, 228, 1438, 2345, 1581, 4019, 2169],\n",
              " 6637: [28, 73090, 6459, 1289, 1747, 6793, 1617, 1652, 3014, 1503],\n",
              " 6638: [99, 4743, 6313, 1547, 1235, 973, 22404, 764],\n",
              " 6639: [40060, 24098, 2421, 28, 349, 8544, 63519, 996, 4041],\n",
              " 6640: [349, 602, 62712, 11843, 3308, 745, 3101, 840, 57802, 764],\n",
              " 6641: [],\n",
              " 6642: [173, 4030, 7792, 8198, 906, 2810, 1289],\n",
              " 6643: [1470, 146, 1188, 80105, 7447, 1205, 1406, 28, 39, 1466],\n",
              " 6644: [34],\n",
              " 6645: [860, 1424, 19480, 840, 755, 5073, 3798, 1188, 20397, 970],\n",
              " 6646: [44, 1003, 4017, 266, 12853, 44163],\n",
              " 6647: [412, 92, 1167],\n",
              " 6648: [1248, 1578, 4324],\n",
              " 6649: [1476, 11970, 747, 73106, 620, 32, 6626, 4240, 4137, 721],\n",
              " 6650: [312, 799, 905, 1859, 978, 983, 148, 192, 1599, 600],\n",
              " 6651: [4024],\n",
              " 6652: [312, 77, 920, 960, 349, 798, 603, 13, 1348, 32],\n",
              " 6653: [2735, 2818, 6196, 602, 1083, 4086, 840, 14200, 2053, 2749],\n",
              " 6654: [620, 1289, 148, 1003, 333, 1182, 715, 1474, 201, 49],\n",
              " 6655: [96, 4037, 9977, 3710],\n",
              " 6656: [74, 1602, 346, 176, 1285],\n",
              " 6657: [1600, 1921, 3696, 773, 5367, 23999, 988],\n",
              " 6658: [1994, 22451, 936, 323],\n",
              " 6659: [16562, 920, 1994, 3969, 6696, 856, 1905, 346, 1849, 85],\n",
              " 6660: [4105, 906, 10207, 28, 2162, 2668, 1815, 1478, 2113, 756],\n",
              " 6661: [521, 32402, 1691, 2468, 4971, 242, 49204, 1095, 4152, 1429],\n",
              " 6662: [5831, 18],\n",
              " 6663: [4177, 970, 1691],\n",
              " 6664: [22562, 2653, 219, 28, 220, 1638, 855],\n",
              " 6665: [5439, 510, 1117, 99, 11901, 7133, 855, 5527, 952, 2],\n",
              " 6666: [57895, 57769, 1845, 16108, 745, 521, 695, 2449, 57979, 951],\n",
              " 6667: [1081, 639, 10191, 103, 2, 968, 266, 10921, 219, 233],\n",
              " 6668: [],\n",
              " 6669: [],\n",
              " 6670: [22562, 2653, 219, 28, 220, 1638, 855],\n",
              " 6671: [820, 4145, 5780, 7896, 938],\n",
              " 6672: [707, 3264, 973, 974, 39, 1002, 4774, 424, 1850, 3267],\n",
              " 6673: [13, 32, 1348, 707, 2052, 2158, 11152, 1944, 601, 855],\n",
              " 6674: [745, 15805, 5203, 2065, 1196, 44358, 2485, 23757, 1016, 8655],\n",
              " 6675: [15299, 66, 55, 28, 842, 855, 2353, 1887, 579, 57],\n",
              " 6676: [312, 855, 1000, 13, 826, 63, 6, 370, 979, 2373],\n",
              " ...}"
            ]
          },
          "metadata": {
            "tags": []
          },
          "execution_count": 150
        }
      ]
    },
    {
      "cell_type": "code",
      "metadata": {
        "id": "EcWcdhoPfe-5",
        "colab": {
          "base_uri": "https://localhost:8080/"
        },
        "outputId": "2ca47e31-0559-41d1-958e-6aa6594a5e8d"
      },
      "source": [
        "import numpy as np\n",
        "maliste=list(np.random.choice(range(1,10),20))\n",
        "maliste"
      ],
      "execution_count": 151,
      "outputs": [
        {
          "output_type": "execute_result",
          "data": {
            "text/plain": [
              "[7, 8, 8, 8, 8, 5, 5, 7, 4, 6, 7, 9, 8, 2, 1, 8, 9, 5, 7, 4]"
            ]
          },
          "metadata": {
            "tags": []
          },
          "execution_count": 151
        }
      ]
    },
    {
      "cell_type": "markdown",
      "metadata": {
        "id": "Ml3sOlUf4buO"
      },
      "source": [
        "# Commutatitivity stats"
      ]
    },
    {
      "cell_type": "code",
      "metadata": {
        "id": "jqMYv4jxN04I"
      },
      "source": [
        "nb_item=len(np.unique(ratings['item']))"
      ],
      "execution_count": 152,
      "outputs": []
    },
    {
      "cell_type": "code",
      "metadata": {
        "colab": {
          "base_uri": "https://localhost:8080/"
        },
        "id": "2HTDQ95pQ43M",
        "outputId": "2324e47e-0d6e-4a60-f608-6075188e30bc"
      },
      "source": [
        "# pairs numbers\n",
        "nb_item*(nb_item-1)/2"
      ],
      "execution_count": 153,
      "outputs": [
        {
          "output_type": "execute_result",
          "data": {
            "text/plain": [
              "60769800.0"
            ]
          },
          "metadata": {
            "tags": []
          },
          "execution_count": 153
        }
      ]
    },
    {
      "cell_type": "code",
      "metadata": {
        "id": "IRAmg3n2RwVM"
      },
      "source": [
        "# should take 383 pairs and examine if they commute (échantillon pour avoir une marge de 5% d'erreur)\n",
        "# choose within the logs to pickup more frequently popular item"
      ],
      "execution_count": 154,
      "outputs": []
    },
    {
      "cell_type": "code",
      "metadata": {
        "id": "UYeUOuYlXzOO"
      },
      "source": [
        "sampling_size=400\n",
        "count=0\n",
        "tab_paire=[]\n",
        "seq_sampled=data_train_out_valid_topn_without_doublon.sample(sampling_size)\n",
        "for index in range(seq_sampled.shape[0]):\n",
        "  # select pair of item from a seq\n",
        "  paire=np.random.choice(list(seq_sampled.iloc[index]),size=2)\n",
        "  if len(np.unique(paire))==2:   # check the item are not the same\n",
        "    if set(paire) not in tab_paire:  # check the pair is not already in our set\n",
        "      tab_paire.append(set(paire))\n",
        "      count+=1\n",
        "    else:\n",
        "      continue  \n",
        "  else:\n",
        "    continue    "
      ],
      "execution_count": 155,
      "outputs": []
    },
    {
      "cell_type": "code",
      "metadata": {
        "id": "WQP6Pct4e7f2"
      },
      "source": [
        "# for each pair look how many in one order and how many in the opposite order\n",
        "dico_commut={}\n",
        "for paire in tab_paire:\n",
        "  liste_seq=[]\n",
        "  paire_1=tuple(paire)\n",
        "  dico_commut[paire_1]={}\n",
        "  dico_commut[paire_1]['left']=0\n",
        "  dico_commut[paire_1]['right']=0\n",
        "  # number of occurrence of paire_1\n",
        "  liste_seq=get_occurrence_item(paire_1[0], data_train_out_valid_topn_without_doublon)\n",
        "  for seq in liste_seq:\n",
        "    if paire_1[1] in seq:\n",
        "      index_pivot=seq.index(paire_1[0])\n",
        "      if seq.index(paire_1[1])>index_pivot:\n",
        "        dico_commut[paire_1]['left']+=1\n",
        "      else:\n",
        "        dico_commut[paire_1]['right']+=1\n",
        "\n"
      ],
      "execution_count": 156,
      "outputs": []
    },
    {
      "cell_type": "code",
      "metadata": {
        "colab": {
          "base_uri": "https://localhost:8080/"
        },
        "id": "gaEtPCvtIQT6",
        "outputId": "b61f8bbe-87fd-4ae0-d39e-010f76ead781"
      },
      "source": [
        "dico_commut.values()"
      ],
      "execution_count": 157,
      "outputs": [
        {
          "output_type": "execute_result",
          "data": {
            "text/plain": [
              "dict_values([{'left': 2, 'right': 2}, {'left': 1, 'right': 0}, {'left': 0, 'right': 1}, {'left': 0, 'right': 1}, {'left': 22, 'right': 19}, {'left': 7, 'right': 7}, {'left': 1, 'right': 1}, {'left': 1, 'right': 0}, {'left': 1, 'right': 0}, {'left': 1, 'right': 0}, {'left': 0, 'right': 5}, {'left': 1, 'right': 1}, {'left': 29, 'right': 27}, {'left': 2, 'right': 0}, {'left': 4, 'right': 1}, {'left': 1, 'right': 0}, {'left': 2, 'right': 0}, {'left': 2, 'right': 0}, {'left': 0, 'right': 2}, {'left': 3, 'right': 0}, {'left': 1, 'right': 1}, {'left': 2, 'right': 1}, {'left': 0, 'right': 2}, {'left': 0, 'right': 1}, {'left': 2, 'right': 1}, {'left': 0, 'right': 2}, {'left': 1, 'right': 0}, {'left': 1, 'right': 0}, {'left': 0, 'right': 1}, {'left': 1, 'right': 0}, {'left': 1, 'right': 0}, {'left': 3, 'right': 0}, {'left': 1, 'right': 0}, {'left': 1, 'right': 0}, {'left': 9, 'right': 3}, {'left': 31, 'right': 20}, {'left': 0, 'right': 1}, {'left': 3, 'right': 5}, {'left': 5, 'right': 5}, {'left': 0, 'right': 1}, {'left': 0, 'right': 1}, {'left': 6, 'right': 8}, {'left': 3, 'right': 6}, {'left': 2, 'right': 2}, {'left': 3, 'right': 1}, {'left': 2, 'right': 0}, {'left': 1, 'right': 1}, {'left': 1, 'right': 1}, {'left': 0, 'right': 1}, {'left': 3, 'right': 3}, {'left': 2, 'right': 1}, {'left': 0, 'right': 1}, {'left': 1, 'right': 0}, {'left': 1, 'right': 0}, {'left': 0, 'right': 1}, {'left': 1, 'right': 2}, {'left': 1, 'right': 4}, {'left': 1, 'right': 0}, {'left': 3, 'right': 1}, {'left': 1, 'right': 0}, {'left': 5, 'right': 5}, {'left': 1, 'right': 1}, {'left': 0, 'right': 1}, {'left': 1, 'right': 1}, {'left': 0, 'right': 5}, {'left': 1, 'right': 0}, {'left': 1, 'right': 0}, {'left': 9, 'right': 1}, {'left': 6, 'right': 0}, {'left': 1, 'right': 0}, {'left': 0, 'right': 0}, {'left': 9, 'right': 2}, {'left': 8, 'right': 6}, {'left': 11, 'right': 19}, {'left': 2, 'right': 2}, {'left': 1, 'right': 0}, {'left': 1, 'right': 0}, {'left': 10, 'right': 8}, {'left': 1, 'right': 0}, {'left': 1, 'right': 0}, {'left': 5, 'right': 5}, {'left': 10, 'right': 9}, {'left': 0, 'right': 1}, {'left': 2, 'right': 2}, {'left': 1, 'right': 0}, {'left': 1, 'right': 0}, {'left': 0, 'right': 1}, {'left': 0, 'right': 1}, {'left': 1, 'right': 1}, {'left': 3, 'right': 1}, {'left': 1, 'right': 0}, {'left': 1, 'right': 0}, {'left': 17, 'right': 12}, {'left': 0, 'right': 2}, {'left': 1, 'right': 0}, {'left': 0, 'right': 1}, {'left': 1, 'right': 0}, {'left': 0, 'right': 1}, {'left': 1, 'right': 0}, {'left': 1, 'right': 0}, {'left': 1, 'right': 0}, {'left': 1, 'right': 1}, {'left': 0, 'right': 1}, {'left': 5, 'right': 0}, {'left': 0, 'right': 1}, {'left': 1, 'right': 2}, {'left': 1, 'right': 0}, {'left': 0, 'right': 0}, {'left': 1, 'right': 0}, {'left': 3, 'right': 1}, {'left': 4, 'right': 0}, {'left': 0, 'right': 1}, {'left': 4, 'right': 0}, {'left': 0, 'right': 0}, {'left': 1, 'right': 0}, {'left': 1, 'right': 2}, {'left': 1, 'right': 0}, {'left': 18, 'right': 14}, {'left': 18, 'right': 19}, {'left': 3, 'right': 1}, {'left': 1, 'right': 2}, {'left': 1, 'right': 0}, {'left': 1, 'right': 2}, {'left': 3, 'right': 2}, {'left': 1, 'right': 2}, {'left': 3, 'right': 3}, {'left': 1, 'right': 0}, {'left': 0, 'right': 1}, {'left': 1, 'right': 4}, {'left': 5, 'right': 1}, {'left': 2, 'right': 2}, {'left': 10, 'right': 6}, {'left': 2, 'right': 2}, {'left': 9, 'right': 7}, {'left': 0, 'right': 1}, {'left': 0, 'right': 1}, {'left': 2, 'right': 19}, {'left': 1, 'right': 3}, {'left': 2, 'right': 2}, {'left': 3, 'right': 1}, {'left': 1, 'right': 0}, {'left': 1, 'right': 0}, {'left': 2, 'right': 3}, {'left': 1, 'right': 0}, {'left': 1, 'right': 0}, {'left': 8, 'right': 7}, {'left': 0, 'right': 2}, {'left': 2, 'right': 2}, {'left': 1, 'right': 1}, {'left': 1, 'right': 0}, {'left': 13, 'right': 14}, {'left': 0, 'right': 1}, {'left': 1, 'right': 0}, {'left': 0, 'right': 1}, {'left': 2, 'right': 0}, {'left': 1, 'right': 0}, {'left': 1, 'right': 0}, {'left': 3, 'right': 3}, {'left': 1, 'right': 1}, {'left': 0, 'right': 1}, {'left': 1, 'right': 1}, {'left': 0, 'right': 2}, {'left': 1, 'right': 1}, {'left': 1, 'right': 1}, {'left': 0, 'right': 1}, {'left': 0, 'right': 1}, {'left': 0, 'right': 1}, {'left': 2, 'right': 3}, {'left': 0, 'right': 1}, {'left': 2, 'right': 0}, {'left': 7, 'right': 13}, {'left': 2, 'right': 10}, {'left': 5, 'right': 6}, {'left': 0, 'right': 2}, {'left': 0, 'right': 1}, {'left': 1, 'right': 0}, {'left': 1, 'right': 1}, {'left': 0, 'right': 1}, {'left': 0, 'right': 1}, {'left': 0, 'right': 1}, {'left': 1, 'right': 0}, {'left': 9, 'right': 6}, {'left': 2, 'right': 7}, {'left': 0, 'right': 0}, {'left': 2, 'right': 0}, {'left': 1, 'right': 0}, {'left': 1, 'right': 2}, {'left': 0, 'right': 1}, {'left': 0, 'right': 1}, {'left': 0, 'right': 1}, {'left': 16, 'right': 6}, {'left': 1, 'right': 0}, {'left': 1, 'right': 0}, {'left': 1, 'right': 3}, {'left': 6, 'right': 4}, {'left': 3, 'right': 3}, {'left': 1, 'right': 0}, {'left': 3, 'right': 0}, {'left': 1, 'right': 0}, {'left': 3, 'right': 1}, {'left': 2, 'right': 0}, {'left': 1, 'right': 0}, {'left': 1, 'right': 0}, {'left': 1, 'right': 1}, {'left': 4, 'right': 0}, {'left': 2, 'right': 3}, {'left': 0, 'right': 1}, {'left': 18, 'right': 24}, {'left': 1, 'right': 1}, {'left': 1, 'right': 3}, {'left': 1, 'right': 0}, {'left': 0, 'right': 1}, {'left': 8, 'right': 8}, {'left': 1, 'right': 0}, {'left': 3, 'right': 4}, {'left': 9, 'right': 9}, {'left': 8, 'right': 2}, {'left': 3, 'right': 1}, {'left': 7, 'right': 0}, {'left': 0, 'right': 1}, {'left': 19, 'right': 12}, {'left': 0, 'right': 2}, {'left': 1, 'right': 0}, {'left': 0, 'right': 1}, {'left': 1, 'right': 0}, {'left': 0, 'right': 1}, {'left': 1, 'right': 0}, {'left': 1, 'right': 1}, {'left': 0, 'right': 1}, {'left': 1, 'right': 1}, {'left': 0, 'right': 1}, {'left': 12, 'right': 7}, {'left': 8, 'right': 2}, {'left': 3, 'right': 3}, {'left': 1, 'right': 0}, {'left': 1, 'right': 1}, {'left': 2, 'right': 0}, {'left': 4, 'right': 9}, {'left': 4, 'right': 5}, {'left': 2, 'right': 3}, {'left': 0, 'right': 1}, {'left': 2, 'right': 1}, {'left': 0, 'right': 1}, {'left': 1, 'right': 1}, {'left': 4, 'right': 3}, {'left': 0, 'right': 1}, {'left': 2, 'right': 4}, {'left': 1, 'right': 0}, {'left': 2, 'right': 1}, {'left': 1, 'right': 3}, {'left': 2, 'right': 0}, {'left': 0, 'right': 1}, {'left': 1, 'right': 0}, {'left': 2, 'right': 1}, {'left': 5, 'right': 4}, {'left': 6, 'right': 5}, {'left': 0, 'right': 1}, {'left': 1, 'right': 0}, {'left': 17, 'right': 7}, {'left': 1, 'right': 1}, {'left': 12, 'right': 12}, {'left': 7, 'right': 7}, {'left': 4, 'right': 3}, {'left': 0, 'right': 1}, {'left': 2, 'right': 7}, {'left': 4, 'right': 4}, {'left': 3, 'right': 6}, {'left': 1, 'right': 0}, {'left': 6, 'right': 0}, {'left': 1, 'right': 0}, {'left': 10, 'right': 6}, {'left': 8, 'right': 11}, {'left': 1, 'right': 0}, {'left': 1, 'right': 0}, {'left': 0, 'right': 0}, {'left': 2, 'right': 1}, {'left': 1, 'right': 0}, {'left': 1, 'right': 0}, {'left': 2, 'right': 1}, {'left': 3, 'right': 7}, {'left': 1, 'right': 0}, {'left': 0, 'right': 1}, {'left': 1, 'right': 0}, {'left': 1, 'right': 0}, {'left': 3, 'right': 2}, {'left': 1, 'right': 1}, {'left': 0, 'right': 5}, {'left': 0, 'right': 2}, {'left': 0, 'right': 1}, {'left': 0, 'right': 3}, {'left': 10, 'right': 8}, {'left': 2, 'right': 1}, {'left': 2, 'right': 4}, {'left': 1, 'right': 1}, {'left': 0, 'right': 3}, {'left': 1, 'right': 1}, {'left': 5, 'right': 3}, {'left': 1, 'right': 0}, {'left': 4, 'right': 17}, {'left': 0, 'right': 1}, {'left': 0, 'right': 1}, {'left': 18, 'right': 42}, {'left': 7, 'right': 6}, {'left': 1, 'right': 0}, {'left': 10, 'right': 4}, {'left': 8, 'right': 1}, {'left': 0, 'right': 1}, {'left': 0, 'right': 1}, {'left': 8, 'right': 8}, {'left': 1, 'right': 0}, {'left': 2, 'right': 0}, {'left': 2, 'right': 0}, {'left': 2, 'right': 0}, {'left': 0, 'right': 1}, {'left': 1, 'right': 1}, {'left': 1, 'right': 0}, {'left': 2, 'right': 3}, {'left': 1, 'right': 0}, {'left': 0, 'right': 1}, {'left': 0, 'right': 1}, {'left': 1, 'right': 0}, {'left': 15, 'right': 9}, {'left': 2, 'right': 2}, {'left': 1, 'right': 0}, {'left': 1, 'right': 0}, {'left': 1, 'right': 0}, {'left': 0, 'right': 1}, {'left': 0, 'right': 1}, {'left': 5, 'right': 3}, {'left': 0, 'right': 1}, {'left': 0, 'right': 1}, {'left': 1, 'right': 1}, {'left': 4, 'right': 3}, {'left': 9, 'right': 7}, {'left': 0, 'right': 1}, {'left': 1, 'right': 0}, {'left': 0, 'right': 1}, {'left': 1, 'right': 1}, {'left': 7, 'right': 0}, {'left': 7, 'right': 4}, {'left': 13, 'right': 8}, {'left': 4, 'right': 3}, {'left': 1, 'right': 1}, {'left': 11, 'right': 1}, {'left': 2, 'right': 0}, {'left': 12, 'right': 4}, {'left': 3, 'right': 1}, {'left': 0, 'right': 1}, {'left': 0, 'right': 2}, {'left': 1, 'right': 0}, {'left': 5, 'right': 2}, {'left': 8, 'right': 2}, {'left': 0, 'right': 1}, {'left': 6, 'right': 5}, {'left': 13, 'right': 6}, {'left': 11, 'right': 1}, {'left': 1, 'right': 0}, {'left': 15, 'right': 9}, {'left': 2, 'right': 0}, {'left': 1, 'right': 0}, {'left': 1, 'right': 0}, {'left': 5, 'right': 0}, {'left': 4, 'right': 0}, {'left': 0, 'right': 3}, {'left': 19, 'right': 19}, {'left': 2, 'right': 1}, {'left': 1, 'right': 1}, {'left': 1, 'right': 0}, {'left': 1, 'right': 0}, {'left': 2, 'right': 0}, {'left': 1, 'right': 0}, {'left': 1, 'right': 0}, {'left': 10, 'right': 10}, {'left': 2, 'right': 0}, {'left': 0, 'right': 1}, {'left': 0, 'right': 3}, {'left': 1, 'right': 0}, {'left': 1, 'right': 1}, {'left': 0, 'right': 1}, {'left': 0, 'right': 1}, {'left': 1, 'right': 1}, {'left': 8, 'right': 7}])"
            ]
          },
          "metadata": {
            "tags": []
          },
          "execution_count": 157
        }
      ]
    },
    {
      "cell_type": "code",
      "metadata": {
        "id": "7zYBH9QatIJG"
      },
      "source": [
        "dico_commut_relative={}\n",
        "for paire in dico_commut:\n",
        "  dico_commut_relative[paire]=dico_commut[paire]['right']-dico_commut[paire]['left'] "
      ],
      "execution_count": 158,
      "outputs": []
    },
    {
      "cell_type": "code",
      "metadata": {
        "id": "XryHupcXWqtc"
      },
      "source": [
        "dico_commut_relative_filtered={}\n",
        "count_sup_1,count_single_pair=0,0\n",
        "for paire in dico_commut:\n",
        "  if dico_commut[paire]['right']+dico_commut[paire]['left'] > 1: # pair exist more than one time\n",
        "      count_sup_1+=1\n",
        "      dico_commut_relative_filtered[paire]=dico_commut[paire]['right']-dico_commut[paire]['left'] \n",
        "  else:\n",
        "      count_single_pair+=1    "
      ],
      "execution_count": 159,
      "outputs": []
    },
    {
      "cell_type": "code",
      "metadata": {
        "colab": {
          "base_uri": "https://localhost:8080/"
        },
        "id": "jePd27J5XcL8",
        "outputId": "383ae1b3-3896-4ce5-f5c6-a1c6397b0e0b"
      },
      "source": [
        "print(\"singleton\",count_single_pair,\"non singleton\",count_sup_1)\n",
        "#dico_commut_relative_filtered"
      ],
      "execution_count": 160,
      "outputs": [
        {
          "output_type": "stream",
          "text": [
            "singleton 165 non singleton 217\n"
          ],
          "name": "stdout"
        }
      ]
    },
    {
      "cell_type": "code",
      "metadata": {
        "colab": {
          "base_uri": "https://localhost:8080/"
        },
        "id": "-QeYZx5wvfGc",
        "outputId": "643bf9c2-ef0f-4ba4-d0a3-3c9c1ae15bc0"
      },
      "source": [
        "distrib=list(dico_commut_relative.values())\n",
        "print(np.sum(distrib))\n",
        "print(np.std(distrib))\n",
        "f=lambda x: np.abs(x)\n",
        "print(np.sum(f(distrib)))"
      ],
      "execution_count": 161,
      "outputs": [
        {
          "output_type": "stream",
          "text": [
            "-163\n",
            "2.990144213711664\n",
            "693\n"
          ],
          "name": "stdout"
        }
      ]
    },
    {
      "cell_type": "code",
      "metadata": {
        "colab": {
          "base_uri": "https://localhost:8080/"
        },
        "id": "NiibPuFuWTcG",
        "outputId": "e5b49e82-089b-4f70-e3bb-dc3456d298bb"
      },
      "source": [
        "dico_commut"
      ],
      "execution_count": 162,
      "outputs": [
        {
          "output_type": "execute_result",
          "data": {
            "text/plain": [
              "{(1, 1014): {'left': 1, 'right': 0},\n",
              " (1, 4343): {'left': 4, 'right': 3},\n",
              " (1, 30455): {'left': 1, 'right': 0},\n",
              " (2, 3431): {'left': 1, 'right': 0},\n",
              " (10, 8567): {'left': 1, 'right': 0},\n",
              " (13, 975): {'left': 2, 'right': 1},\n",
              " (17, 245): {'left': 1, 'right': 3},\n",
              " (28, 1941): {'left': 4, 'right': 5},\n",
              " (28, 2150): {'left': 2, 'right': 0},\n",
              " (29, 19429): {'left': 2, 'right': 2},\n",
              " (40, 28): {'left': 13, 'right': 14},\n",
              " (40, 977): {'left': 1, 'right': 2},\n",
              " (44, 1564): {'left': 1, 'right': 0},\n",
              " (49, 886): {'left': 9, 'right': 7},\n",
              " (53, 1095): {'left': 2, 'right': 4},\n",
              " (56, 297): {'left': 2, 'right': 1},\n",
              " (57, 1081): {'left': 2, 'right': 0},\n",
              " (74, 2006): {'left': 1, 'right': 1},\n",
              " (74, 2372): {'left': 3, 'right': 0},\n",
              " (75, 173): {'left': 2, 'right': 2},\n",
              " (77, 989): {'left': 29, 'right': 27},\n",
              " (77, 9487): {'left': 0, 'right': 2},\n",
              " (80, 148): {'left': 22, 'right': 19},\n",
              " (80, 958): {'left': 9, 'right': 9},\n",
              " (80, 1417): {'left': 18, 'right': 24},\n",
              " (83, 2541): {'left': 0, 'right': 2},\n",
              " (88, 842): {'left': 0, 'right': 1},\n",
              " (89, 395): {'left': 3, 'right': 3},\n",
              " (96, 1438): {'left': 5, 'right': 5},\n",
              " (96, 30598): {'left': 1, 'right': 0},\n",
              " (99, 1003): {'left': 11, 'right': 19},\n",
              " (100, 13): {'left': 1, 'right': 3},\n",
              " (139, 20135): {'left': 0, 'right': 1},\n",
              " (144, 25): {'left': 0, 'right': 1},\n",
              " (146, 99): {'left': 19, 'right': 19},\n",
              " (148, 36): {'left': 8, 'right': 1},\n",
              " (148, 990): {'left': 11, 'right': 1},\n",
              " (176, 2): {'left': 10, 'right': 4},\n",
              " (192, 3251): {'left': 1, 'right': 0},\n",
              " (208, 991): {'left': 0, 'right': 3},\n",
              " (218, 13): {'left': 12, 'right': 4},\n",
              " (218, 3101): {'left': 2, 'right': 1},\n",
              " (219, 443): {'left': 3, 'right': 1},\n",
              " (222, 5262): {'left': 1, 'right': 0},\n",
              " (228, 11205): {'left': 0, 'right': 1},\n",
              " (233, 769): {'left': 11, 'right': 1},\n",
              " (240, 1143): {'left': 4, 'right': 3},\n",
              " (240, 2524): {'left': 0, 'right': 3},\n",
              " (242, 102): {'left': 1, 'right': 0},\n",
              " (242, 1042): {'left': 5, 'right': 3},\n",
              " (244, 39): {'left': 10, 'right': 10},\n",
              " (251, 1447): {'left': 2, 'right': 3},\n",
              " (266, 9486): {'left': 2, 'right': 2},\n",
              " (291, 8844): {'left': 1, 'right': 0},\n",
              " (296, 1638): {'left': 0, 'right': 1},\n",
              " (312, 990): {'left': 17, 'right': 7},\n",
              " (312, 1448): {'left': 4, 'right': 17},\n",
              " (312, 2432): {'left': 4, 'right': 4},\n",
              " (324, 990): {'left': 9, 'right': 2},\n",
              " (324, 7533): {'left': 1, 'right': 1},\n",
              " (326, 798): {'left': 15, 'right': 9},\n",
              " (333, 1182): {'left': 7, 'right': 4},\n",
              " (333, 1887): {'left': 8, 'right': 6},\n",
              " (349, 679): {'left': 7, 'right': 7},\n",
              " (371, 676): {'left': 8, 'right': 8},\n",
              " (410, 42): {'left': 1, 'right': 0},\n",
              " (411, 3228): {'left': 0, 'right': 1},\n",
              " (466, 758): {'left': 8, 'right': 11},\n",
              " (467, 29078): {'left': 1, 'right': 0},\n",
              " (579, 20607): {'left': 1, 'right': 0},\n",
              " (585, 1196): {'left': 6, 'right': 5},\n",
              " (601, 1348): {'left': 8, 'right': 8},\n",
              " (602, 10230): {'left': 0, 'right': 3},\n",
              " (603, 764): {'left': 10, 'right': 8},\n",
              " (604, 1454): {'left': 3, 'right': 0},\n",
              " (609, 4129): {'left': 0, 'right': 1},\n",
              " (611, 1476): {'left': 3, 'right': 7},\n",
              " (613, 2774): {'left': 9, 'right': 7},\n",
              " (618, 166): {'left': 2, 'right': 2},\n",
              " (620, 1348): {'left': 18, 'right': 42},\n",
              " (628, 1869): {'left': 0, 'right': 1},\n",
              " (640, 998): {'left': 3, 'right': 1},\n",
              " (649, 26862): {'left': 1, 'right': 0},\n",
              " (651, 1638): {'left': 1, 'right': 1},\n",
              " (688, 1537): {'left': 2, 'right': 0},\n",
              " (689, 602): {'left': 5, 'right': 4},\n",
              " (704, 766): {'left': 2, 'right': 2},\n",
              " (715, 15023): {'left': 2, 'right': 0},\n",
              " (724, 5894): {'left': 3, 'right': 1},\n",
              " (730, 3350): {'left': 0, 'right': 0},\n",
              " (736, 34995): {'left': 1, 'right': 0},\n",
              " (756, 1565): {'left': 5, 'right': 6},\n",
              " (758, 639): {'left': 2, 'right': 0},\n",
              " (764, 13): {'left': 18, 'right': 14},\n",
              " (776, 748): {'left': 0, 'right': 0},\n",
              " (800, 2542): {'left': 2, 'right': 1},\n",
              " (814, 510): {'left': 2, 'right': 4},\n",
              " (817, 16403): {'left': 1, 'right': 1},\n",
              " (820, 3974): {'left': 3, 'right': 3},\n",
              " (826, 6508): {'left': 4, 'right': 0},\n",
              " (826, 23526): {'left': 1, 'right': 0},\n",
              " (840, 85): {'left': 12, 'right': 7},\n",
              " (840, 370): {'left': 1, 'right': 1},\n",
              " (840, 1555): {'left': 2, 'right': 1},\n",
              " (842, 1598): {'left': 0, 'right': 1},\n",
              " (853, 79): {'left': 1, 'right': 0},\n",
              " (856, 2774): {'left': 0, 'right': 1},\n",
              " (865, 1021): {'left': 3, 'right': 1},\n",
              " (872, 707): {'left': 5, 'right': 3},\n",
              " (872, 798): {'left': 17, 'right': 12},\n",
              " (875, 4556): {'left': 1, 'right': 1},\n",
              " (898, 5020): {'left': 0, 'right': 2},\n",
              " (906, 1406): {'left': 7, 'right': 6},\n",
              " (920, 689): {'left': 31, 'right': 20},\n",
              " (936, 1577): {'left': 1, 'right': 1},\n",
              " (938, 397): {'left': 3, 'right': 4},\n",
              " (938, 2596): {'left': 1, 'right': 0},\n",
              " (954, 324): {'left': 12, 'right': 12},\n",
              " (955, 63): {'left': 0, 'right': 2},\n",
              " (955, 3204): {'left': 1, 'right': 1},\n",
              " (960, 504): {'left': 2, 'right': 0},\n",
              " (970, 2100): {'left': 0, 'right': 2},\n",
              " (986, 620): {'left': 2, 'right': 7},\n",
              " (986, 871): {'left': 1, 'right': 0},\n",
              " (986, 979): {'left': 7, 'right': 7},\n",
              " (988, 39): {'left': 6, 'right': 8},\n",
              " (994, 16679): {'left': 2, 'right': 0},\n",
              " (1001, 1215): {'left': 2, 'right': 2},\n",
              " (1002, 460): {'left': 3, 'right': 5},\n",
              " (1002, 55588): {'left': 1, 'right': 2},\n",
              " (1005, 30663): {'left': 1, 'right': 0},\n",
              " (1016, 986): {'left': 8, 'right': 2},\n",
              " (1018, 371): {'left': 3, 'right': 6},\n",
              " (1024, 1004): {'left': 0, 'right': 1},\n",
              " (1024, 13058): {'left': 0, 'right': 1},\n",
              " (1024, 62563): {'left': 0, 'right': 1},\n",
              " (1036, 1189): {'left': 4, 'right': 1},\n",
              " (1042, 2271): {'left': 5, 'right': 0},\n",
              " (1049, 1198): {'left': 2, 'right': 10},\n",
              " (1081, 269): {'left': 1, 'right': 4},\n",
              " (1112, 266): {'left': 2, 'right': 3},\n",
              " (1131, 1004): {'left': 4, 'right': 3},\n",
              " (1136, 1782): {'left': 1, 'right': 0},\n",
              " (1136, 3431): {'left': 0, 'right': 2},\n",
              " (1143, 2103): {'left': 0, 'right': 1},\n",
              " (1160, 19959): {'left': 0, 'right': 1},\n",
              " (1178, 1407): {'left': 3, 'right': 1},\n",
              " (1182, 3286): {'left': 0, 'right': 1},\n",
              " (1188, 767): {'left': 9, 'right': 1},\n",
              " (1201, 4443): {'left': 2, 'right': 0},\n",
              " (1234, 87): {'left': 0, 'right': 0},\n",
              " (1240, 297): {'left': 15, 'right': 9},\n",
              " (1240, 4087): {'left': 1, 'right': 0},\n",
              " (1240, 55588): {'left': 1, 'right': 1},\n",
              " (1304, 1455): {'left': 0, 'right': 1},\n",
              " (1348, 398): {'left': 8, 'right': 2},\n",
              " (1353, 773): {'left': 4, 'right': 0},\n",
              " (1369, 4238): {'left': 1, 'right': 1},\n",
              " (1378, 22316): {'left': 0, 'right': 1},\n",
              " (1380, 15047): {'left': 0, 'right': 1},\n",
              " (1390, 5038): {'left': 1, 'right': 0},\n",
              " (1402, 333): {'left': 18, 'right': 19},\n",
              " (1417, 84): {'left': 1, 'right': 1},\n",
              " (1417, 1445): {'left': 13, 'right': 8},\n",
              " (1417, 1897): {'left': 1, 'right': 3},\n",
              " (1417, 4010): {'left': 1, 'right': 1},\n",
              " (1438, 51511): {'left': 0, 'right': 1},\n",
              " (1440, 266): {'left': 4, 'right': 0},\n",
              " (1441, 15618): {'left': 1, 'right': 0},\n",
              " (1442, 1476): {'left': 4, 'right': 9},\n",
              " (1442, 3412): {'left': 0, 'right': 1},\n",
              " (1450, 917): {'left': 0, 'right': 5},\n",
              " (1450, 3734): {'left': 1, 'right': 2},\n",
              " (1456, 11054): {'left': 1, 'right': 1},\n",
              " (1457, 2178): {'left': 1, 'right': 1},\n",
              " (1474, 85): {'left': 2, 'right': 1},\n",
              " (1537, 1618): {'left': 3, 'right': 1},\n",
              " (1539, 16005): {'left': 0, 'right': 1},\n",
              " (1541, 695): {'left': 1, 'right': 1},\n",
              " (1554, 1476): {'left': 3, 'right': 1},\n",
              " (1571, 333): {'left': 1, 'right': 2},\n",
              " (1581, 1478): {'left': 10, 'right': 9},\n",
              " (1581, 1781): {'left': 1, 'right': 1},\n",
              " (1600, 1289): {'left': 1, 'right': 0},\n",
              " (1608, 1289): {'left': 6, 'right': 5},\n",
              " (1617, 349): {'left': 10, 'right': 8},\n",
              " (1618, 579): {'left': 19, 'right': 12},\n",
              " (1618, 1020): {'left': 13, 'right': 6},\n",
              " (1641, 1905): {'left': 0, 'right': 1},\n",
              " (1716, 798): {'left': 8, 'right': 7},\n",
              " (1716, 1485): {'left': 2, 'right': 0},\n",
              " (1784, 183): {'left': 1, 'right': 0},\n",
              " (1800, 973): {'left': 1, 'right': 1},\n",
              " (1816, 2164): {'left': 1, 'right': 1},\n",
              " (1826, 612): {'left': 6, 'right': 4},\n",
              " (1850, 1406): {'left': 9, 'right': 6},\n",
              " (1850, 2194): {'left': 9, 'right': 3},\n",
              " (1850, 3974): {'left': 2, 'right': 0},\n",
              " (1859, 2148): {'left': 2, 'right': 1},\n",
              " (1867, 11727): {'left': 0, 'right': 1},\n",
              " (1869, 2847): {'left': 8, 'right': 7},\n",
              " (1898, 3229): {'left': 3, 'right': 1},\n",
              " (1901, 4975): {'left': 2, 'right': 1},\n",
              " (1911, 79): {'left': 0, 'right': 1},\n",
              " (1921, 10222): {'left': 1, 'right': 0},\n",
              " (1941, 695): {'left': 0, 'right': 5},\n",
              " (1988, 1095): {'left': 8, 'right': 2},\n",
              " (2008, 10040): {'left': 1, 'right': 1},\n",
              " (2011, 501): {'left': 1, 'right': 1},\n",
              " (2057, 1638): {'left': 2, 'right': 0},\n",
              " (2065, 2883): {'left': 4, 'right': 0},\n",
              " (2128, 4556): {'left': 2, 'right': 7},\n",
              " (2136, 55): {'left': 0, 'right': 2},\n",
              " (2136, 2141): {'left': 0, 'right': 2},\n",
              " (2144, 14185): {'left': 1, 'right': 0},\n",
              " (2144, 21964): {'left': 1, 'right': 0},\n",
              " (2173, 9487): {'left': 0, 'right': 1},\n",
              " (2194, 855): {'left': 2, 'right': 2},\n",
              " (2353, 4746): {'left': 2, 'right': 2},\n",
              " (2373, 6302): {'left': 0, 'right': 0},\n",
              " (2385, 2052): {'left': 1, 'right': 0},\n",
              " (2399, 24207): {'left': 0, 'right': 1},\n",
              " (2450, 2811): {'left': 1, 'right': 1},\n",
              " (2499, 4310): {'left': 1, 'right': 0},\n",
              " (2551, 1247): {'left': 1, 'right': 0},\n",
              " (2637, 862): {'left': 1, 'right': 1},\n",
              " (2656, 817): {'left': 1, 'right': 0},\n",
              " (2680, 15674): {'left': 3, 'right': 3},\n",
              " (2698, 2126): {'left': 0, 'right': 1},\n",
              " (2704, 23540): {'left': 1, 'right': 0},\n",
              " (2721, 783): {'left': 1, 'right': 0},\n",
              " (2744, 2793): {'left': 1, 'right': 0},\n",
              " (2749, 2126): {'left': 2, 'right': 0},\n",
              " (2772, 15839): {'left': 1, 'right': 4},\n",
              " (2804, 6247): {'left': 3, 'right': 3},\n",
              " (2811, 613): {'left': 7, 'right': 13},\n",
              " (2920, 602): {'left': 1, 'right': 1},\n",
              " (3088, 32): {'left': 5, 'right': 2},\n",
              " (3117, 157): {'left': 1, 'right': 0},\n",
              " (3124, 2558): {'left': 2, 'right': 0},\n",
              " (3158, 1310): {'left': 3, 'right': 1},\n",
              " (3195, 2511): {'left': 1, 'right': 0},\n",
              " (3204, 17884): {'left': 0, 'right': 1},\n",
              " (3209, 346): {'left': 0, 'right': 1},\n",
              " (3216, 3204): {'left': 1, 'right': 0},\n",
              " (3227, 1844): {'left': 5, 'right': 5},\n",
              " (3249, 15299): {'left': 0, 'right': 5},\n",
              " (3321, 4034): {'left': 1, 'right': 1},\n",
              " (3385, 6623): {'left': 2, 'right': 1},\n",
              " (3408, 1434): {'left': 1, 'right': 1},\n",
              " (3456, 10099): {'left': 1, 'right': 0},\n",
              " (3461, 327): {'left': 16, 'right': 6},\n",
              " (3673, 3732): {'left': 2, 'right': 0},\n",
              " (3696, 398): {'left': 0, 'right': 1},\n",
              " (3748, 4007): {'left': 0, 'right': 1},\n",
              " (3851, 3710): {'left': 5, 'right': 1},\n",
              " (3896, 4575): {'left': 1, 'right': 0},\n",
              " (4002, 34843): {'left': 0, 'right': 1},\n",
              " (4003, 102): {'left': 0, 'right': 1},\n",
              " (4008, 707): {'left': 10, 'right': 6},\n",
              " (4008, 1348): {'left': 5, 'right': 5},\n",
              " (4010, 767): {'left': 2, 'right': 3},\n",
              " (4067, 3229): {'left': 0, 'right': 1},\n",
              " (4069, 3239): {'left': 1, 'right': 0},\n",
              " (4076, 2127): {'left': 3, 'right': 0},\n",
              " (4085, 11045): {'left': 0, 'right': 1},\n",
              " (4105, 4013): {'left': 0, 'right': 1},\n",
              " (4137, 1454): {'left': 1, 'right': 0},\n",
              " (4137, 2962): {'left': 1, 'right': 0},\n",
              " (4140, 4078): {'left': 2, 'right': 0},\n",
              " (4165, 4229): {'left': 2, 'right': 2},\n",
              " (4178, 103): {'left': 0, 'right': 1},\n",
              " (4194, 148): {'left': 1, 'right': 0},\n",
              " (4194, 1188): {'left': 0, 'right': 1},\n",
              " (4229, 14655): {'left': 6, 'right': 0},\n",
              " (4240, 989): {'left': 3, 'right': 2},\n",
              " (4324, 2558): {'left': 0, 'right': 1},\n",
              " (4427, 14878): {'left': 3, 'right': 6},\n",
              " (4476, 2750): {'left': 1, 'right': 0},\n",
              " (4500, 3180): {'left': 1, 'right': 0},\n",
              " (4786, 11230): {'left': 0, 'right': 1},\n",
              " (4817, 25173): {'left': 1, 'right': 0},\n",
              " (4881, 1911): {'left': 1, 'right': 0},\n",
              " (4968, 2513): {'left': 1, 'right': 0},\n",
              " (5074, 8651): {'left': 6, 'right': 0},\n",
              " (5160, 7713): {'left': 1, 'right': 0},\n",
              " (5208, 1348): {'left': 4, 'right': 3},\n",
              " (5404, 76): {'left': 1, 'right': 0},\n",
              " (5466, 27315): {'left': 0, 'right': 1},\n",
              " (5550, 21391): {'left': 1, 'right': 0},\n",
              " (5659, 4701): {'left': 0, 'right': 1},\n",
              " (5705, 8029): {'left': 1, 'right': 0},\n",
              " (5755, 11149): {'left': 1, 'right': 0},\n",
              " (5780, 3997): {'left': 0, 'right': 1},\n",
              " (5786, 765): {'left': 0, 'right': 1},\n",
              " (5825, 407): {'left': 0, 'right': 1},\n",
              " (5970, 2431): {'left': 0, 'right': 1},\n",
              " (6131, 1805): {'left': 1, 'right': 0},\n",
              " (6138, 11707): {'left': 1, 'right': 0},\n",
              " (6217, 1003): {'left': 10, 'right': 6},\n",
              " (6234, 1236): {'left': 0, 'right': 1},\n",
              " (6242, 333): {'left': 1, 'right': 0},\n",
              " (6243, 4086): {'left': 1, 'right': 0},\n",
              " (6333, 3261): {'left': 0, 'right': 1},\n",
              " (6577, 1476): {'left': 1, 'right': 2},\n",
              " (6626, 694): {'left': 1, 'right': 0},\n",
              " (6634, 2540): {'left': 1, 'right': 0},\n",
              " (6841, 6706): {'left': 1, 'right': 0},\n",
              " (6978, 16262): {'left': 1, 'right': 0},\n",
              " (6993, 4676): {'left': 0, 'right': 1},\n",
              " (7154, 826): {'left': 1, 'right': 2},\n",
              " (7632, 7525): {'left': 0, 'right': 2},\n",
              " (7825, 1437): {'left': 1, 'right': 0},\n",
              " (8005, 71): {'left': 1, 'right': 0},\n",
              " (8073, 76): {'left': 0, 'right': 1},\n",
              " (8192, 1775): {'left': 1, 'right': 1},\n",
              " (8466, 1618): {'left': 1, 'right': 2},\n",
              " (8481, 29364): {'left': 0, 'right': 1},\n",
              " (8738, 11463): {'left': 1, 'right': 0},\n",
              " (9306, 1998): {'left': 0, 'right': 1},\n",
              " (9530, 2270): {'left': 1, 'right': 0},\n",
              " (9531, 219): {'left': 1, 'right': 0},\n",
              " (9705, 17878): {'left': 1, 'right': 0},\n",
              " (9810, 2428): {'left': 0, 'right': 1},\n",
              " (10100, 49204): {'left': 1, 'right': 0},\n",
              " (11133, 3575): {'left': 0, 'right': 1},\n",
              " (11970, 6812): {'left': 0, 'right': 1},\n",
              " (12553, 8951): {'left': 1, 'right': 0},\n",
              " (13553, 31934): {'left': 0, 'right': 1},\n",
              " (13832, 817): {'left': 0, 'right': 3},\n",
              " (13940, 1581): {'left': 2, 'right': 0},\n",
              " (14200, 6243): {'left': 0, 'right': 1},\n",
              " (14499, 37958): {'left': 1, 'right': 0},\n",
              " (14722, 14831): {'left': 1, 'right': 1},\n",
              " (14949, 5903): {'left': 3, 'right': 3},\n",
              " (14986, 955): {'left': 1, 'right': 1},\n",
              " (15296, 15303): {'left': 7, 'right': 0},\n",
              " (15328, 1535): {'left': 1, 'right': 0},\n",
              " (15416, 764): {'left': 0, 'right': 1},\n",
              " (15685, 2543): {'left': 1, 'right': 0},\n",
              " (15713, 12026): {'left': 0, 'right': 2},\n",
              " (15784, 20195): {'left': 1, 'right': 0},\n",
              " (15795, 1708): {'left': 0, 'right': 1},\n",
              " (15805, 16046): {'left': 5, 'right': 0},\n",
              " (15926, 1638): {'left': 2, 'right': 19},\n",
              " (16532, 4428): {'left': 1, 'right': 1},\n",
              " (16562, 3210): {'left': 1, 'right': 0},\n",
              " (16578, 1323): {'left': 1, 'right': 0},\n",
              " (16643, 68767): {'left': 2, 'right': 0},\n",
              " (17000, 57): {'left': 0, 'right': 1},\n",
              " (17824, 219): {'left': 1, 'right': 0},\n",
              " (19378, 826): {'left': 1, 'right': 0},\n",
              " (19381, 3270): {'left': 2, 'right': 3},\n",
              " (19386, 331): {'left': 1, 'right': 0},\n",
              " (20210, 611): {'left': 0, 'right': 1},\n",
              " (22068, 6958): {'left': 1, 'right': 0},\n",
              " (22083, 1483): {'left': 1, 'right': 3},\n",
              " (22852, 917): {'left': 1, 'right': 0},\n",
              " (22952, 715): {'left': 0, 'right': 1},\n",
              " (23057, 612): {'left': 1, 'right': 1},\n",
              " (23082, 29031): {'left': 0, 'right': 1},\n",
              " (23328, 5527): {'left': 1, 'right': 0},\n",
              " (23546, 1574): {'left': 0, 'right': 1},\n",
              " (25462, 25839): {'left': 1, 'right': 0},\n",
              " (27348, 991): {'left': 1, 'right': 0},\n",
              " (27793, 2353): {'left': 1, 'right': 0},\n",
              " (28143, 1151): {'left': 2, 'right': 1},\n",
              " (28474, 5013): {'left': 1, 'right': 0},\n",
              " (32872, 212): {'left': 1, 'right': 0},\n",
              " (33524, 998): {'left': 1, 'right': 0},\n",
              " (34945, 28): {'left': 1, 'right': 0},\n",
              " (35756, 6230): {'left': 0, 'right': 1},\n",
              " (41889, 9438): {'left': 1, 'right': 0},\n",
              " (43794, 509): {'left': 0, 'right': 1},\n",
              " (50691, 2733): {'left': 0, 'right': 0},\n",
              " (51562, 1527): {'left': 0, 'right': 1},\n",
              " (57769, 868): {'left': 7, 'right': 0},\n",
              " (57769, 3845): {'left': 1, 'right': 1},\n",
              " (57798, 3166): {'left': 3, 'right': 2},\n",
              " (58587, 43876): {'left': 0, 'right': 1},\n",
              " (64688, 3166): {'left': 2, 'right': 3},\n",
              " (72520, 72527): {'left': 1, 'right': 1}}"
            ]
          },
          "metadata": {
            "tags": []
          },
          "execution_count": 162
        }
      ]
    },
    {
      "cell_type": "code",
      "metadata": {
        "colab": {
          "base_uri": "https://localhost:8080/"
        },
        "id": "Mfxqghp7yz7E",
        "outputId": "697dde40-1e9c-46aa-bbc0-a5f5918996ef"
      },
      "source": [
        "(np.sum(distrib)/np.sum(f(distrib)))*100"
      ],
      "execution_count": 163,
      "outputs": [
        {
          "output_type": "execute_result",
          "data": {
            "text/plain": [
              "-23.52092352092352"
            ]
          },
          "metadata": {
            "tags": []
          },
          "execution_count": 163
        }
      ]
    },
    {
      "cell_type": "code",
      "metadata": {
        "colab": {
          "base_uri": "https://localhost:8080/",
          "height": 0
        },
        "id": "p5X13meAtrSY",
        "outputId": "f61a0376-536a-4ab3-8b70-ec7bdbb368b8"
      },
      "source": [
        "import matplotlib.pyplot as plt\n",
        "plt.hist(dico_commut_relative.values(),bins=range(-15,+15,1))"
      ],
      "execution_count": 164,
      "outputs": [
        {
          "output_type": "execute_result",
          "data": {
            "text/plain": [
              "(array([  0.,   0.,   0.,   0.,   1.,   4.,   0.,   2.,   6.,   9.,   5.,\n",
              "          8.,   8.,  35., 114.,  63.,  86.,  18.,   9.,   1.,   6.,   2.,\n",
              "          0.,   2.,   0.,   0.,   0.,   0.,   1.]),\n",
              " array([-15, -14, -13, -12, -11, -10,  -9,  -8,  -7,  -6,  -5,  -4,  -3,\n",
              "         -2,  -1,   0,   1,   2,   3,   4,   5,   6,   7,   8,   9,  10,\n",
              "         11,  12,  13,  14]),\n",
              " <a list of 29 Patch objects>)"
            ]
          },
          "metadata": {
            "tags": []
          },
          "execution_count": 164
        },
        {
          "output_type": "display_data",
          "data": {
            "image/png": "[encoded data removed]",
            "text/plain": [
              "<Figure size 432x288 with 1 Axes>"
            ]
          },
          "metadata": {
            "tags": [],
            "needs_background": "light"
          }
        }
      ]
    },
    {
      "cell_type": "code",
      "metadata": {
        "colab": {
          "base_uri": "https://localhost:8080/",
          "height": 0
        },
        "id": "L22IAP5PbTtw",
        "outputId": "3597c810-b2dc-4cc0-a0ac-0b1f31143886"
      },
      "source": [
        "plt.hist(dico_commut_relative_filtered.values(),bins=range(-15,+15,1))"
      ],
      "execution_count": 165,
      "outputs": [
        {
          "output_type": "execute_result",
          "data": {
            "text/plain": [
              "(array([ 0.,  0.,  0.,  0.,  1.,  4.,  0.,  2.,  6.,  9.,  5.,  8.,  8.,\n",
              "        35., 23., 58., 17., 18.,  9.,  1.,  6.,  2.,  0.,  2.,  0.,  0.,\n",
              "         0.,  0.,  1.]),\n",
              " array([-15, -14, -13, -12, -11, -10,  -9,  -8,  -7,  -6,  -5,  -4,  -3,\n",
              "         -2,  -1,   0,   1,   2,   3,   4,   5,   6,   7,   8,   9,  10,\n",
              "         11,  12,  13,  14]),\n",
              " <a list of 29 Patch objects>)"
            ]
          },
          "metadata": {
            "tags": []
          },
          "execution_count": 165
        },
        {
          "output_type": "display_data",
          "data": {
            "image/png": "[encoded data removed]",
            "text/plain": [
              "<Figure size 432x288 with 1 Axes>"
            ]
          },
          "metadata": {
            "tags": [],
            "needs_background": "light"
          }
        }
      ]
    },
    {
      "cell_type": "code",
      "metadata": {
        "colab": {
          "base_uri": "https://localhost:8080/"
        },
        "id": "Y_TYbJIibKGG",
        "outputId": "387ffadd-0aec-4381-d28d-459cad5bc668"
      },
      "source": [
        "sumprod=0\n",
        "for key in distrib:\n",
        "  sumprod+=key*distrib[key]\n",
        "\n",
        "print(sumprod)"
      ],
      "execution_count": 166,
      "outputs": [
        {
          "output_type": "stream",
          "text": [
            "-154\n"
          ],
          "name": "stdout"
        }
      ]
    }
  ]
}