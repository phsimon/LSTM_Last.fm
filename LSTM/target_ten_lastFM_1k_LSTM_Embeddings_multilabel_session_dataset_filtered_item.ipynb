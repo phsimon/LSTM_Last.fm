{
  "nbformat": 4,
  "nbformat_minor": 0,
  "metadata": {
    "accelerator": "GPU",
    "colab": {
      "name": "Copie de target_ten_lastFM_1k_LSTM_Embeddings_multilabel_session_dataset_filtered_item.ipynb",
      "provenance": [],
      "collapsed_sections": [
        "4uAs1hd5_w33",
        "bhH_HmwX5O39",
        "SIRph-xaB1gJ",
        "8xffMBf-Q3Wi",
        "tcLd056SRiXu",
        "9b6X-Jyao_Xi",
        "OXts3PP234uC"
      ],
      "toc_visible": true,
      "machine_shape": "hm",
      "mount_file_id": "1JrcvZqd29bDUnNZub39BzKt3QqwBVGyY",
      "authorship_tag": "ABX9TyNxNXPkgMQLQuGkHIkyTGIx"
    },
    "kernelspec": {
      "display_name": "Python 3",
      "name": "python3"
    }
  },
  "cells": [
    {
      "cell_type": "markdown",
      "metadata": {
        "id": "yDvd3gYerZUY"
      },
      "source": [
        "This notebook provides a recommender engine and use lastFM 1k  dataset (a filtered and sampled one)\n",
        "The Recurrent model is built as follow:\n",
        "\n",
        "\n",
        "*  Input Layer: a sequence (len = max_sequence_train) of songid representing the history of the user\n",
        "\n",
        "*   Embedding Layer: this layer expand each songid in a higher dimension (embedding size) - now each song of the sequence is represented by a vector of floats\n",
        "*   Recurrent Layer: this layer process the embedding layer to product a sequence of vector (size: the number of unit of the recurrent layer). We can stack many reccurent layer. as it is reccurent layer, for one sequence, the \"n\" output take into account the \"n-1\" output. As we want to have only one vector in output, we set \"return_sequence=False.\n",
        "\n",
        "*   (Dense) Layer : this layer outputs a vecteur whom size is the size of the catalog. \"Softmax\" is used to identify the highest value and output the index. so that with Softmax, this layer output a prediction\n",
        "\n",
        "\n"
      ]
    },
    {
      "cell_type": "markdown",
      "metadata": {
        "id": "TJTk-duFnbEI"
      },
      "source": [
        "#Initialization and model definition"
      ]
    },
    {
      "cell_type": "code",
      "metadata": {
        "colab": {
          "base_uri": "https://localhost:8080/"
        },
        "id": "grgOYa6qPAFJ",
        "outputId": "9811318a-1da6-4054-9a7e-4d27f71ee562"
      },
      "source": [
        "#%tensorflow_version 1.x\n",
        "import tensorflow\n",
        "print(tensorflow.__version__)"
      ],
      "execution_count": 1,
      "outputs": [
        {
          "output_type": "stream",
          "text": [
            "2.4.1\n"
          ],
          "name": "stdout"
        }
      ]
    },
    {
      "cell_type": "code",
      "metadata": {
        "colab": {
          "base_uri": "https://localhost:8080/"
        },
        "id": "1PDBW49uu_iN",
        "outputId": "c1e725c9-4867-412f-b86d-80cde79fa324"
      },
      "source": [
        "import keras\n",
        "print(keras.__version__)"
      ],
      "execution_count": 2,
      "outputs": [
        {
          "output_type": "stream",
          "text": [
            "2.4.3\n"
          ],
          "name": "stdout"
        }
      ]
    },
    {
      "cell_type": "code",
      "metadata": {
        "id": "QG5t54cNcwbs"
      },
      "source": [
        "#init dico for saving results\n",
        "average_measure={}\n",
        "average_measure['PREC'],average_measure['MAP'], average_measure['MRR'],average_measure['NDCG'],average_measure['recall'] =[],[],[],[],[]"
      ],
      "execution_count": 3,
      "outputs": []
    },
    {
      "cell_type": "code",
      "metadata": {
        "id": "ASlLPyqjAr39"
      },
      "source": [
        "# paramètres\n",
        "batchsize=64\n",
        "\n",
        "max_sequence_label=10\n",
        "max_sequence_train=10\n",
        "Shift=max_sequence_train\n",
        "num_prediction=10\n",
        "THRESHOLD_HISTORY=2*max_sequence_train-1\n",
        "THRESHOLD_ITEM=19\n",
        "outlier_excluded=0\n",
        "ratio_sampling_top=1"
      ],
      "execution_count": 4,
      "outputs": []
    },
    {
      "cell_type": "code",
      "metadata": {
        "id": "bOnXhcj6XlqC"
      },
      "source": [
        "# function and procedure\n",
        "import datetime\n",
        "from time import time\n",
        "from keras.layers import Input, Dense, Dropout, TimeDistributed, Attention\n",
        "from keras.utils import np_utils, plot_model,Sequence\n",
        "from keras.models import Model\n",
        "from keras.layers import Embedding\n",
        "from keras.layers import Flatten, Reshape, Permute\n",
        "from keras import optimizers\n",
        "from keras.callbacks import EarlyStopping\n",
        "from keras.models import Sequential\n",
        "from keras.layers import Dense, LSTM, GRU,SimpleRNN,ConvLSTM2D\n",
        "from keras.callbacks import EarlyStopping,TensorBoard\n",
        "import tensorflow as tf\n",
        "import keras.backend as K\n",
        "\n",
        "import numpy as np\n",
        " \n",
        "def custom_precision(y_true,y_pred):\n",
        "    z=tf.cast(y_true,tf.int64)\n",
        "    index_prediction=tf.nn.top_k(y_pred,k=num_prediction)\n",
        "    index_target=tf.nn.top_k(z,k=num_prediction)\n",
        "    true_positive=tf.sets.intersection(index_prediction.indices,index_target.indices)\n",
        "    precision=tf.count_nonzero(true_positive.values)\n",
        "    precision_summary=tf.cast(precision,tf.float32)\n",
        "    return precision_summary/(num_prediction*batchsize)\n",
        "\n",
        "def build_model(one_hot_size,sequence_size,k_reg=None,b_reg=None,r_reg=None,o_reg=None):\n",
        "    '''\n",
        "    '''\n",
        "    main_input=Input(shape=(sequence_size,),dtype='float32',name='main_input')\n",
        "    print(main_input.shape)\n",
        "    # This embedding layer will encode the input sequence\n",
        "    b = Embedding(output_dim=embedding_size, input_dim=one_hot_size+1,name='my_embeddings')(main_input)\n",
        "    print(\"embedding shape {} and type {} \".format(b.shape,type(b)))\n",
        "    #b= Attention(name='attention_weight')([b,b])\n",
        "    c=LSTM(LSTM_size,dropout=dropout_lstm_value,name='my_LSTM', kernel_regularizer=None, bias_regularizer=None,activity_regularizer=None, recurrent_regularizer=r_reg, return_sequences=True)(b)\n",
        "    #c=LSTM(LSTM_size,dropout=dropout_lstm_value,name='my_LSTM_2', kernel_regularizer=None, bias_regularizer=None,activity_regularizer=None, recurrent_regularizer=r_reg, return_sequences=True)(c)\n",
        "    #d=Dense(one_hot_size,activation='softmax')(c)\n",
        "    d=TimeDistributed(Dense(one_hot_size,activation='softmax'))(c)\n",
        "   \n",
        "    model=Model(inputs=main_input, outputs=d)\n",
        "    #model.compile(optimizer='rmsprop', loss=\"binary_crossentropy\", metrics=['binary_accuracy',custom_precision])\n",
        "    model.compile(optimizer='rmsprop', loss=\"sparse_categorical_crossentropy\", metrics=['sparse_categorical_accuracy'])\n",
        "    return model\n",
        "\n",
        "\n",
        "def LastFM_vectorize_sequence(sequence,dimension,liste_item_sorted):\n",
        "    '''\n",
        "        :param: sequences : list liste d'ids de films\n",
        "        :param: dimension : int nombre de films possible (taille du vocabulaire)\n",
        "        :param: liste_item_sorted: liste des itemids triés par ordre croissant\n",
        "        :return:results liste de taille dimension (contentant des 1 au rang d'un film vu)\n",
        "    '''\n",
        "    result=np.zeros((dimension,1))\n",
        "    \n",
        "    # on ordonne la sequence\n",
        "    # en fait ce n'est pas utile\n",
        "    # sequence.sort()\n",
        "    for StockCode in sequence:\n",
        "        result[liste_item_sorted.index(StockCode)]=1    \n",
        "    return result   \n",
        "\n",
        "def LastFM_normalize_liste(vector,norme=1.0):\n",
        "    '''\n",
        "        :param: vector : list liste de 0 avec des 1 à chaque fois qu'un film a été vu\n",
        "        :param: norme : int valeur max de la somme des valeurs du vecteur après normalisation\n",
        "        :return:results liste normalisée (avec des quotients à la place des 1 dès qu'il y en a plus de un, de manière à ce que la somme fasse 1 )\n",
        "    '''\n",
        "    len_vector=len(vector)\n",
        "    for i in range(len_vector):\n",
        "        vector[i]/=float(norme)/float(len_vector)    \n",
        "    return vector   \n",
        "\n",
        "class DataGenerator(Sequence):\n",
        "    'Generates data for Keras'\n",
        "    def __init__(self, data_source, list_IDs, labels, batch_size=batchsize, dim_train=(max_sequence_train,), dim_label=(max_sequence_label,),n_channels=1,\n",
        "                 n_classes=0, shuffle=True):\n",
        "        'Initialization'\n",
        "        self.data_source=data_source\n",
        "        self.dim_train = dim_train\n",
        "        self.dim_test=dim_label\n",
        "        self.batch_size = batch_size\n",
        "        self.labels = labels\n",
        "        self.list_IDs = list_IDs\n",
        "        self.n_channels = n_channels\n",
        "        self.n_classes = n_classes\n",
        "        self.shuffle = shuffle\n",
        "        self.on_epoch_end()\n",
        "\n",
        "    def __len__(self):\n",
        "        'Denotes the number of batches per epoch'\n",
        "        #print(\"number of users per epoch \\n\",len(self.list_IDs))\n",
        "        return int(np.floor(len(self.list_IDs) / self.batch_size))\n",
        "\n",
        "    def __getitem__(self, index):\n",
        "        'Generate one batch of data'\n",
        "        # Generate indexes of the batch\n",
        "        indexes = self.indexes[index*self.batch_size:(index+1)*self.batch_size]\n",
        "\n",
        "        # Find list of IDs\n",
        "        list_IDs_temp = [self.list_IDs[k] for k in indexes]\n",
        "\n",
        "        # Generate data\n",
        "        X, y = self.__data_generation(list_IDs_temp)\n",
        "\n",
        "        return X, y\n",
        "\n",
        "    def on_epoch_end(self):\n",
        "        'Updates indexes after each epoch'\n",
        "        self.indexes = np.arange(len(self.list_IDs))\n",
        "        if self.shuffle == True:\n",
        "            np.random.shuffle(self.indexes)\n",
        "\n",
        "    def __data_generation(self, list_IDs_temp):\n",
        "        'Generates data containing batch_size samples' # X : (n_samples, *dim, n_channels)\n",
        "        # Initialization\n",
        "        X = np.zeros((self.batch_size, self.dim_train),dtype=int)\n",
        "        if max_sequence_label>1:\n",
        "          y = np.zeros((self.batch_size, self.dim_test,1), dtype=int)\n",
        "        else:\n",
        "          y = np.zeros((self.batch_size, self.dim_test), dtype=int)  \n",
        "        # Generate data\n",
        "        #print(\"X shape\",X.shape)\n",
        "        for i, ID in enumerate(list_IDs_temp):\n",
        "            # Store sample\n",
        "            X[i,] = self.data_source[ID]\n",
        "            \n",
        "            # Store class\n",
        "            if max_sequence_label > 1:\n",
        "              generated_label=np.reshape(self.labels[ID],(max_sequence_label,1))\n",
        "            else:\n",
        "              generated_label=np.reshape(self.labels[ID],(max_sequence_label,))  \n",
        "            y[i] = generated_label\n",
        " \n",
        "        return X, y\n",
        "\n"
      ],
      "execution_count": 5,
      "outputs": []
    },
    {
      "cell_type": "markdown",
      "metadata": {
        "id": "4uAs1hd5_w33"
      },
      "source": [
        "#Data loading - change the path accordingly"
      ]
    },
    {
      "cell_type": "code",
      "metadata": {
        "id": "wRBWREMPbYKp"
      },
      "source": [
        "import pandas as pd"
      ],
      "execution_count": 6,
      "outputs": []
    },
    {
      "cell_type": "code",
      "metadata": {
        "id": "GO0pMktgb5s4"
      },
      "source": [
        "\n",
        "my_path=\"/content/drive/My Drive/ColabNotebooks/publication/publi_github/\"\n",
        "\n",
        "testfile=\"publi-lastfm-1k_session-based_records_test.csv\"\n",
        "trainfile=\"publi-lastfm-1k_session-based_records_train.csv\"\n",
        "\n"
      ],
      "execution_count": 7,
      "outputs": []
    },
    {
      "cell_type": "code",
      "metadata": {
        "id": "N8-Uhuk6boau"
      },
      "source": [
        "# lecture des fichiers \n",
        "data_train=pd.read_csv(my_path+trainfile,header=0,dtype='int32')\n",
        "data_test=pd.read_csv(my_path+testfile,header=0,dtype='int32')\n"
      ],
      "execution_count": 8,
      "outputs": []
    },
    {
      "cell_type": "code",
      "metadata": {
        "id": "hmuoS7_zmMVl"
      },
      "source": [
        "# echantillonage pour accélerer les test\n",
        "data_train=data_train.sample(frac=ratio_sampling_top, replace=False, random_state=1)"
      ],
      "execution_count": 9,
      "outputs": []
    },
    {
      "cell_type": "code",
      "metadata": {
        "colab": {
          "base_uri": "https://localhost:8080/"
        },
        "id": "a9M-Fv6r5Hj8",
        "outputId": "66823f0f-9812-409f-fe63-5b09da8c115e"
      },
      "source": [
        "len(data_train)"
      ],
      "execution_count": 10,
      "outputs": [
        {
          "output_type": "execute_result",
          "data": {
            "text/plain": [
              "504215"
            ]
          },
          "metadata": {
            "tags": []
          },
          "execution_count": 10
        }
      ]
    },
    {
      "cell_type": "code",
      "metadata": {
        "colab": {
          "base_uri": "https://localhost:8080/"
        },
        "id": "TCjYSzMOcssg",
        "outputId": "78ec1df2-1966-4976-eb5d-a79c4a6680c8"
      },
      "source": [
        "nb_user,nb_ligne=data_test.shape\n",
        "print(nb_user,nb_ligne)"
      ],
      "execution_count": 11,
      "outputs": [
        {
          "output_type": "stream",
          "text": [
            "126559 20\n"
          ],
          "name": "stdout"
        }
      ]
    },
    {
      "cell_type": "markdown",
      "metadata": {
        "id": "YHQKS0CUnisR"
      },
      "source": [
        "#Dataset building\n",
        "\n",
        "To executed only one time (take time...) - see further for restore/save file generated "
      ]
    },
    {
      "cell_type": "markdown",
      "metadata": {
        "id": "2KV5z-TCGS2k"
      },
      "source": [
        "## List of items of the whole dataset"
      ]
    },
    {
      "cell_type": "code",
      "metadata": {
        "colab": {
          "base_uri": "https://localhost:8080/"
        },
        "id": "ZH-Tkrs5hs9O",
        "outputId": "41bce004-aafd-437e-f64b-f6dd46db961e"
      },
      "source": [
        "# Building the item set\n",
        "liste_item_1=[]\n",
        "liste_item_2=[]\n",
        "for user in data_train.index:\n",
        "  liste_item_1.append(data_train.loc[user])\n",
        "for user in data_test.index:\n",
        "  liste_item_1.append(data_test.loc[user])\n",
        "for x in liste_item_1:\n",
        "  for y in x:\n",
        "    liste_item_2.append(y)\n",
        "\n",
        "print(len(liste_item_2))\n"
      ],
      "execution_count": null,
      "outputs": [
        {
          "output_type": "stream",
          "text": [
            "12615480\n"
          ],
          "name": "stdout"
        }
      ]
    },
    {
      "cell_type": "code",
      "metadata": {
        "id": "qGXjnnpx_s-v",
        "colab": {
          "base_uri": "https://localhost:8080/"
        },
        "outputId": "c1d61e3f-a949-4ec8-b05b-022d51cde6ea"
      },
      "source": [
        "len(np.unique(liste_item_2))"
      ],
      "execution_count": null,
      "outputs": [
        {
          "output_type": "execute_result",
          "data": {
            "text/plain": [
              "94285"
            ]
          },
          "metadata": {
            "tags": []
          },
          "execution_count": 32
        }
      ]
    },
    {
      "cell_type": "code",
      "metadata": {
        "id": "24g1U72rtABR",
        "colab": {
          "base_uri": "https://localhost:8080/",
          "height": 478
        },
        "outputId": "bb1f267f-c747-4396-f044-73de83ea00d0"
      },
      "source": [
        "import matplotlib.pyplot as plt\n",
        "#plt.hist(liste_item_2,range=(1,20000),bins=1000)\n",
        "plt.hist(liste_item_2,bins=30)\n"
      ],
      "execution_count": null,
      "outputs": [
        {
          "output_type": "execute_result",
          "data": {
            "text/plain": [
              "(array([10267556.,   682925.,   229990.,   181549.,   191260.,   137814.,\n",
              "          123171.,   118380.,    75371.,    74642.,    51813.,    47540.,\n",
              "           45712.,    45809.,    40736.,    32759.,    28469.,    25459.,\n",
              "           26368.,    21447.,    25705.,    18496.,    17475.,    19698.,\n",
              "           17518.,    15122.,    13369.,    14286.,    13122.,    11919.]),\n",
              " array([    0. ,  3142.8,  6285.6,  9428.4, 12571.2, 15714. , 18856.8,\n",
              "        21999.6, 25142.4, 28285.2, 31428. , 34570.8, 37713.6, 40856.4,\n",
              "        43999.2, 47142. , 50284.8, 53427.6, 56570.4, 59713.2, 62856. ,\n",
              "        65998.8, 69141.6, 72284.4, 75427.2, 78570. , 81712.8, 84855.6,\n",
              "        87998.4, 91141.2, 94284. ]),\n",
              " <a list of 30 Patch objects>)"
            ]
          },
          "metadata": {
            "tags": []
          },
          "execution_count": 33
        },
        {
          "output_type": "display_data",
          "data": {
            "image/png": "[encoded data removed]",
            "text/plain": [
              "<Figure size 432x288 with 1 Axes>"
            ]
          },
          "metadata": {
            "tags": [],
            "needs_background": "light"
          }
        }
      ]
    },
    {
      "cell_type": "markdown",
      "metadata": {
        "id": "2Q_frFjJGdmD"
      },
      "source": [
        "## Filter the dataset by keeping only item viewed at least THRESHOLD_ITEM times"
      ]
    },
    {
      "cell_type": "code",
      "metadata": {
        "id": "9TMuibhuvWs7"
      },
      "source": [
        "from collections import Counter\n",
        "ma_liste=Counter(liste_item_2).most_common()\n",
        "ma_liste=ma_liste[1:] # on ne prend pas zero...\n",
        "topn=[x[0] for x in ma_liste if x[1] > THRESHOLD_ITEM]\n",
        "histo_topn=[x[1] for x in ma_liste]"
      ],
      "execution_count": null,
      "outputs": []
    },
    {
      "cell_type": "code",
      "metadata": {
        "id": "_Tb0K4DsDBIz",
        "colab": {
          "base_uri": "https://localhost:8080/"
        },
        "outputId": "8e907441-8a4a-488d-f7bb-0133a16496cd"
      },
      "source": [
        "len(topn)"
      ],
      "execution_count": null,
      "outputs": [
        {
          "output_type": "execute_result",
          "data": {
            "text/plain": [
              "20362"
            ]
          },
          "metadata": {
            "tags": []
          },
          "execution_count": 35
        }
      ]
    },
    {
      "cell_type": "code",
      "metadata": {
        "id": "ro6tlSuQJMl8",
        "colab": {
          "base_uri": "https://localhost:8080/",
          "height": 285
        },
        "outputId": "dcf02a83-9d88-44a5-936f-21fa1135695c"
      },
      "source": [
        "plt.plot(histo_topn[1:100],'.')\n"
      ],
      "execution_count": null,
      "outputs": [
        {
          "output_type": "execute_result",
          "data": {
            "text/plain": [
              "[<matplotlib.lines.Line2D at 0x7fcb725a4810>]"
            ]
          },
          "metadata": {
            "tags": []
          },
          "execution_count": 36
        },
        {
          "output_type": "display_data",
          "data": {
            "image/png": "[encoded data removed]",
            "text/plain": [
              "<Figure size 432x288 with 1 Axes>"
            ]
          },
          "metadata": {
            "tags": [],
            "needs_background": "light"
          }
        }
      ]
    },
    {
      "cell_type": "code",
      "metadata": {
        "id": "Np8J6YqZoOHl"
      },
      "source": [
        "topn_tri=sorted(list(set(topn)))"
      ],
      "execution_count": null,
      "outputs": []
    },
    {
      "cell_type": "code",
      "metadata": {
        "id": "q8SDLVisD4OK",
        "colab": {
          "base_uri": "https://localhost:8080/"
        },
        "outputId": "3824b1e6-81f6-450c-cd4a-c8822d879a65"
      },
      "source": [
        "ma_liste[:10]"
      ],
      "execution_count": null,
      "outputs": [
        {
          "output_type": "execute_result",
          "data": {
            "text/plain": [
              "[(28, 189666),\n",
              " (13, 24272),\n",
              " (349, 20719),\n",
              " (80, 15798),\n",
              " (602, 14941),\n",
              " (717, 14243),\n",
              " (840, 14060),\n",
              " (77, 13299),\n",
              " (817, 13060),\n",
              " (1814, 12033)]"
            ]
          },
          "metadata": {
            "tags": []
          },
          "execution_count": 38
        }
      ]
    },
    {
      "cell_type": "code",
      "metadata": {
        "id": "lQ1W1Qc9742C",
        "colab": {
          "base_uri": "https://localhost:8080/"
        },
        "outputId": "707cc773-cb89-43f7-ce7a-280c91dd2163"
      },
      "source": [
        "# filter dataset to retain only topn item in data_train\n",
        "data_train_topn=[]\n",
        "only_topn=[]\n",
        "for user in data_train.index:\n",
        "  history=data_train.loc[user]\n",
        "  only_topn=[x for x in history if x in topn_tri[outlier_excluded:]]\n",
        "  while len(only_topn) < len(history):\n",
        "    only_topn+=[0]\n",
        "  data_train_topn.append(only_topn)  \n",
        "data_train_topn=pd.DataFrame(data_train_topn)\n",
        "print(data_train_topn.head())\n",
        "\n"
      ],
      "execution_count": null,
      "outputs": [
        {
          "output_type": "stream",
          "text": [
            "      0      1      2      3      4      5      6   ...  13  14  15  16  17  18  19\n",
            "0   1421   3604   4568  14586   5831   1638   2114  ...   0   0   0   0   0   0   0\n",
            "1  14256    139  23455    104    139      0      0  ...   0   0   0   0   0   0   0\n",
            "2  55952  19241  16421     28  19283  37728  13925  ...   0   0   0   0   0   0   0\n",
            "3   6027  10267   6881   2749   2057  10387  26792  ...   0   0   0   0   0   0   0\n",
            "4    938   2744   3673   2581      0      0      0  ...   0   0   0   0   0   0   0\n",
            "\n",
            "[5 rows x 20 columns]\n"
          ],
          "name": "stdout"
        }
      ]
    },
    {
      "cell_type": "code",
      "metadata": {
        "id": "gc8YYvvyDMNx",
        "colab": {
          "base_uri": "https://localhost:8080/"
        },
        "outputId": "c49fdec0-4efa-4352-efab-567a4dbd737c"
      },
      "source": [
        "# filter dataset to retain only topn item in data_set\n",
        "data_test_topn=[]\n",
        "only_topn=[]\n",
        "for user in data_test.index:\n",
        "  history=data_test.loc[user]\n",
        "  only_topn=[x for x in history if x in topn_tri[outlier_excluded:]]\n",
        "  while len(only_topn) < len(history):\n",
        "    only_topn+=[0]\n",
        "  data_test_topn.append(only_topn)  \n",
        "data_test_topn=pd.DataFrame(data_test_topn)\n",
        "print(data_test_topn.head())"
      ],
      "execution_count": null,
      "outputs": [
        {
          "output_type": "stream",
          "text": [
            "    0    1   2   3    4    5    6    7   ...  12   13  14   15  16   17   18  19\n",
            "0  541   98   0   0    0    0    0    0  ...   0    0   0    0   0    0    0   0\n",
            "1   98  431   0   0    0    0    0    0  ...   0    0   0    0   0    0    0   0\n",
            "2   60  183  60   0    0    0    0    0  ...   0    0   0    0   0    0    0   0\n",
            "3   76  104  27  34  182  232  321  249  ...   4  232  13  232  13  321  232  28\n",
            "4  321   28   0   0    0    0    0    0  ...   0    0   0    0   0    0    0   0\n",
            "\n",
            "[5 rows x 20 columns]\n"
          ],
          "name": "stdout"
        }
      ]
    },
    {
      "cell_type": "code",
      "metadata": {
        "id": "fivoNsairhGJ",
        "colab": {
          "base_uri": "https://localhost:8080/"
        },
        "outputId": "5a0c076e-c28b-49e8-94e1-66e70ac237dd"
      },
      "source": [
        "liste_item_tri=sorted(list(set(liste_item_2)))\n",
        "liste_item_tri.remove(0)\n",
        "print(len(liste_item_tri))"
      ],
      "execution_count": null,
      "outputs": [
        {
          "output_type": "stream",
          "text": [
            "94284\n"
          ],
          "name": "stdout"
        }
      ]
    },
    {
      "cell_type": "markdown",
      "metadata": {
        "id": "OB8BWRSFERcw"
      },
      "source": [
        "## Tranlation of itemid into integer"
      ]
    },
    {
      "cell_type": "code",
      "metadata": {
        "id": "mng2cLwnBw5h"
      },
      "source": [
        "# re_index the content to have the lowest number so that one-hot will be smaller\n",
        "song_2_int={i:j+1 for j,i in enumerate(liste_item_tri)}\n",
        "int_2_song={(i+1):j for i,j in enumerate(liste_item_tri)}\n",
        "liste_item_tri_int=[song_2_int[k] for k in liste_item_tri]"
      ],
      "execution_count": null,
      "outputs": []
    },
    {
      "cell_type": "code",
      "metadata": {
        "id": "O6uU6QD7E0v9",
        "colab": {
          "base_uri": "https://localhost:8080/"
        },
        "outputId": "e85c2c6c-12b8-4a34-d697-d008b3af8b34"
      },
      "source": [
        "song_2_int[1000]\n",
        "int_2_song[992]"
      ],
      "execution_count": null,
      "outputs": [
        {
          "output_type": "execute_result",
          "data": {
            "text/plain": [
              "992"
            ]
          },
          "metadata": {
            "tags": []
          },
          "execution_count": 43
        }
      ]
    },
    {
      "cell_type": "code",
      "metadata": {
        "id": "QCKxFR2CG7aH"
      },
      "source": [
        "# re_index the content to have the lowest number so that one-hot will be smaller\n",
        "song_topn_2_int={i:j+1 for j,i in enumerate(topn_tri)}\n",
        "int_2_song_topn={i+1:j for i,j in enumerate(topn_tri)}\n",
        "topn_tri_int=[song_topn_2_int[k] for k in topn_tri]"
      ],
      "execution_count": null,
      "outputs": []
    },
    {
      "cell_type": "code",
      "metadata": {
        "id": "4xGX0-QFFgfk",
        "colab": {
          "base_uri": "https://localhost:8080/"
        },
        "outputId": "c594c125-1a8b-4bbe-dfec-a6046890de9c"
      },
      "source": [
        "len(song_topn_2_int)"
      ],
      "execution_count": null,
      "outputs": [
        {
          "output_type": "execute_result",
          "data": {
            "text/plain": [
              "20362"
            ]
          },
          "metadata": {
            "tags": []
          },
          "execution_count": 45
        }
      ]
    },
    {
      "cell_type": "code",
      "metadata": {
        "id": "YI6Pc_cPpGMG",
        "colab": {
          "base_uri": "https://localhost:8080/"
        },
        "outputId": "d9a14377-fb36-4c4c-f832-4b852be20723"
      },
      "source": [
        "history_size=[np.count_nonzero(data_train.loc[i]) for i in data_train.index]\n",
        "len(history_size)"
      ],
      "execution_count": null,
      "outputs": [
        {
          "output_type": "execute_result",
          "data": {
            "text/plain": [
              "504215"
            ]
          },
          "metadata": {
            "tags": []
          },
          "execution_count": 46
        }
      ]
    },
    {
      "cell_type": "code",
      "metadata": {
        "id": "hgu0ulQJpxBB",
        "colab": {
          "base_uri": "https://localhost:8080/",
          "height": 375
        },
        "outputId": "15e4f12d-9703-4521-e173-940c62d2b031"
      },
      "source": [
        "import matplotlib.pyplot as plt\n",
        "plt.hist(history_size,range=(0,20),bins=20)"
      ],
      "execution_count": null,
      "outputs": [
        {
          "output_type": "execute_result",
          "data": {
            "text/plain": [
              "(array([    0.,     0., 94334., 63187., 46482., 37160., 30012., 24909.,\n",
              "        21320., 18999., 16377., 14529., 13067., 12150., 11153.,  9873.,\n",
              "         9214.,  8490.,  7928., 65031.]),\n",
              " array([ 0.,  1.,  2.,  3.,  4.,  5.,  6.,  7.,  8.,  9., 10., 11., 12.,\n",
              "        13., 14., 15., 16., 17., 18., 19., 20.]),\n",
              " <a list of 20 Patch objects>)"
            ]
          },
          "metadata": {
            "tags": []
          },
          "execution_count": 47
        },
        {
          "output_type": "display_data",
          "data": {
            "image/png": "[encoded data removed]",
            "text/plain": [
              "<Figure size 432x288 with 1 Axes>"
            ]
          },
          "metadata": {
            "tags": [],
            "needs_background": "light"
          }
        }
      ]
    },
    {
      "cell_type": "markdown",
      "metadata": {
        "id": "NwXFNqd04xJP"
      },
      "source": [
        "## Remove repetition from the sequences, complete with zero if needed"
      ]
    },
    {
      "cell_type": "code",
      "metadata": {
        "id": "MT0G4sFBHfNO",
        "colab": {
          "base_uri": "https://localhost:8080/"
        },
        "outputId": "9ca9a0f4-f481-4f74-a383-7152aaa3395e"
      },
      "source": [
        "history_topn_size=[np.count_nonzero(data_train_topn.loc[i]) for i in data_train_topn.index]\n",
        "len(history_topn_size)"
      ],
      "execution_count": null,
      "outputs": [
        {
          "output_type": "execute_result",
          "data": {
            "text/plain": [
              "504215"
            ]
          },
          "metadata": {
            "tags": []
          },
          "execution_count": 48
        }
      ]
    },
    {
      "cell_type": "code",
      "metadata": {
        "id": "7LK7LVkSL2eB"
      },
      "source": [
        "#compactage historique pour ne pas avoir de doublon dans le train\n",
        "data_train_topn_without_doublon=[]\n",
        "for i in data_train_topn.index:\n",
        "  history_without_doublon=[]\n",
        "  history=data_train_topn.loc[i]\n",
        "  for item in history:\n",
        "    if item not in history_without_doublon:\n",
        "       history_without_doublon.append(int(item))\n",
        "  while len(history_without_doublon) < len(history):\n",
        "    history_without_doublon+=[0]\n",
        "  data_train_topn_without_doublon.append(history_without_doublon) \n",
        "data_train_topn_without_doublon=pd.DataFrame(data_train_topn_without_doublon)    "
      ],
      "execution_count": null,
      "outputs": []
    },
    {
      "cell_type": "code",
      "metadata": {
        "id": "dLayW66PDf2z"
      },
      "source": [
        "#compactage historique pour ne pas avoir de doublon dans le test\n",
        "data_test_topn_without_doublon=[]\n",
        "for i in data_test_topn.index:\n",
        "  history_without_doublon=[]\n",
        "  history=data_test_topn.loc[i]\n",
        "  for item in history:\n",
        "    if item not in history_without_doublon:\n",
        "       history_without_doublon.append(int(item))\n",
        "  while len(history_without_doublon) < len(history):\n",
        "    history_without_doublon+=[0]\n",
        "  data_test_topn_without_doublon.append(history_without_doublon)   \n",
        "data_test_topn_without_doublon=pd.DataFrame(data_test_topn_without_doublon)  "
      ],
      "execution_count": null,
      "outputs": []
    },
    {
      "cell_type": "code",
      "metadata": {
        "id": "6dwHhMWvPB9U",
        "colab": {
          "base_uri": "https://localhost:8080/"
        },
        "outputId": "ce16b8c0-aaea-4236-a39b-6eb2c3f2ecc9"
      },
      "source": [
        "len(data_train_topn_without_doublon)"
      ],
      "execution_count": null,
      "outputs": [
        {
          "output_type": "execute_result",
          "data": {
            "text/plain": [
              "504215"
            ]
          },
          "metadata": {
            "tags": []
          },
          "execution_count": 51
        }
      ]
    },
    {
      "cell_type": "code",
      "metadata": {
        "id": "itZqwAs-VU82",
        "colab": {
          "base_uri": "https://localhost:8080/",
          "height": 206
        },
        "outputId": "3332d044-a9e3-4c4e-fce0-1b8bb8638a1c"
      },
      "source": [
        "data_train_topn_without_doublon.head()"
      ],
      "execution_count": null,
      "outputs": [
        {
          "output_type": "execute_result",
          "data": {
            "text/html": [
              "<div>\n",
              "<style scoped>\n",
              "    .dataframe tbody tr th:only-of-type {\n",
              "        vertical-align: middle;\n",
              "    }\n",
              "\n",
              "    .dataframe tbody tr th {\n",
              "        vertical-align: top;\n",
              "    }\n",
              "\n",
              "    .dataframe thead th {\n",
              "        text-align: right;\n",
              "    }\n",
              "</style>\n",
              "<table border=\"1\" class=\"dataframe\">\n",
              "  <thead>\n",
              "    <tr style=\"text-align: right;\">\n",
              "      <th></th>\n",
              "      <th>0</th>\n",
              "      <th>1</th>\n",
              "      <th>2</th>\n",
              "      <th>3</th>\n",
              "      <th>4</th>\n",
              "      <th>5</th>\n",
              "      <th>6</th>\n",
              "      <th>7</th>\n",
              "      <th>8</th>\n",
              "      <th>9</th>\n",
              "      <th>10</th>\n",
              "      <th>11</th>\n",
              "      <th>12</th>\n",
              "      <th>13</th>\n",
              "      <th>14</th>\n",
              "      <th>15</th>\n",
              "      <th>16</th>\n",
              "      <th>17</th>\n",
              "      <th>18</th>\n",
              "      <th>19</th>\n",
              "    </tr>\n",
              "  </thead>\n",
              "  <tbody>\n",
              "    <tr>\n",
              "      <th>0</th>\n",
              "      <td>1421</td>\n",
              "      <td>3604</td>\n",
              "      <td>4568</td>\n",
              "      <td>14586</td>\n",
              "      <td>5831</td>\n",
              "      <td>1638</td>\n",
              "      <td>2114</td>\n",
              "      <td>0</td>\n",
              "      <td>0</td>\n",
              "      <td>0</td>\n",
              "      <td>0</td>\n",
              "      <td>0</td>\n",
              "      <td>0</td>\n",
              "      <td>0</td>\n",
              "      <td>0</td>\n",
              "      <td>0</td>\n",
              "      <td>0</td>\n",
              "      <td>0</td>\n",
              "      <td>0</td>\n",
              "      <td>0</td>\n",
              "    </tr>\n",
              "    <tr>\n",
              "      <th>1</th>\n",
              "      <td>14256</td>\n",
              "      <td>139</td>\n",
              "      <td>23455</td>\n",
              "      <td>104</td>\n",
              "      <td>0</td>\n",
              "      <td>0</td>\n",
              "      <td>0</td>\n",
              "      <td>0</td>\n",
              "      <td>0</td>\n",
              "      <td>0</td>\n",
              "      <td>0</td>\n",
              "      <td>0</td>\n",
              "      <td>0</td>\n",
              "      <td>0</td>\n",
              "      <td>0</td>\n",
              "      <td>0</td>\n",
              "      <td>0</td>\n",
              "      <td>0</td>\n",
              "      <td>0</td>\n",
              "      <td>0</td>\n",
              "    </tr>\n",
              "    <tr>\n",
              "      <th>2</th>\n",
              "      <td>55952</td>\n",
              "      <td>19241</td>\n",
              "      <td>16421</td>\n",
              "      <td>28</td>\n",
              "      <td>19283</td>\n",
              "      <td>37728</td>\n",
              "      <td>13925</td>\n",
              "      <td>2247</td>\n",
              "      <td>19651</td>\n",
              "      <td>58185</td>\n",
              "      <td>9879</td>\n",
              "      <td>58190</td>\n",
              "      <td>0</td>\n",
              "      <td>0</td>\n",
              "      <td>0</td>\n",
              "      <td>0</td>\n",
              "      <td>0</td>\n",
              "      <td>0</td>\n",
              "      <td>0</td>\n",
              "      <td>0</td>\n",
              "    </tr>\n",
              "    <tr>\n",
              "      <th>3</th>\n",
              "      <td>6027</td>\n",
              "      <td>10267</td>\n",
              "      <td>6881</td>\n",
              "      <td>2749</td>\n",
              "      <td>2057</td>\n",
              "      <td>10387</td>\n",
              "      <td>26792</td>\n",
              "      <td>0</td>\n",
              "      <td>0</td>\n",
              "      <td>0</td>\n",
              "      <td>0</td>\n",
              "      <td>0</td>\n",
              "      <td>0</td>\n",
              "      <td>0</td>\n",
              "      <td>0</td>\n",
              "      <td>0</td>\n",
              "      <td>0</td>\n",
              "      <td>0</td>\n",
              "      <td>0</td>\n",
              "      <td>0</td>\n",
              "    </tr>\n",
              "    <tr>\n",
              "      <th>4</th>\n",
              "      <td>938</td>\n",
              "      <td>2744</td>\n",
              "      <td>3673</td>\n",
              "      <td>2581</td>\n",
              "      <td>0</td>\n",
              "      <td>0</td>\n",
              "      <td>0</td>\n",
              "      <td>0</td>\n",
              "      <td>0</td>\n",
              "      <td>0</td>\n",
              "      <td>0</td>\n",
              "      <td>0</td>\n",
              "      <td>0</td>\n",
              "      <td>0</td>\n",
              "      <td>0</td>\n",
              "      <td>0</td>\n",
              "      <td>0</td>\n",
              "      <td>0</td>\n",
              "      <td>0</td>\n",
              "      <td>0</td>\n",
              "    </tr>\n",
              "  </tbody>\n",
              "</table>\n",
              "</div>"
            ],
            "text/plain": [
              "      0      1      2      3      4      5      6   ...  13  14  15  16  17  18  19\n",
              "0   1421   3604   4568  14586   5831   1638   2114  ...   0   0   0   0   0   0   0\n",
              "1  14256    139  23455    104      0      0      0  ...   0   0   0   0   0   0   0\n",
              "2  55952  19241  16421     28  19283  37728  13925  ...   0   0   0   0   0   0   0\n",
              "3   6027  10267   6881   2749   2057  10387  26792  ...   0   0   0   0   0   0   0\n",
              "4    938   2744   3673   2581      0      0      0  ...   0   0   0   0   0   0   0\n",
              "\n",
              "[5 rows x 20 columns]"
            ]
          },
          "metadata": {
            "tags": []
          },
          "execution_count": 52
        }
      ]
    },
    {
      "cell_type": "code",
      "metadata": {
        "id": "dt0COXOBIFYx",
        "colab": {
          "base_uri": "https://localhost:8080/",
          "height": 375
        },
        "outputId": "035dffe8-0ed4-4018-acec-19175522fea1"
      },
      "source": [
        "plt.hist(history_topn_size,range=(0,20),bins=20)"
      ],
      "execution_count": null,
      "outputs": [
        {
          "output_type": "execute_result",
          "data": {
            "text/plain": [
              "(array([ 1739., 11426., 94334., 63363., 46204., 36914., 29708., 24749.,\n",
              "        20937., 18636., 16181., 14505., 13011., 11972., 11147., 10280.,\n",
              "        10105., 10208., 11537., 47259.]),\n",
              " array([ 0.,  1.,  2.,  3.,  4.,  5.,  6.,  7.,  8.,  9., 10., 11., 12.,\n",
              "        13., 14., 15., 16., 17., 18., 19., 20.]),\n",
              " <a list of 20 Patch objects>)"
            ]
          },
          "metadata": {
            "tags": []
          },
          "execution_count": 53
        },
        {
          "output_type": "display_data",
          "data": {
            "image/png": "[encoded data removed]",
            "text/plain": [
              "<Figure size 432x288 with 1 Axes>"
            ]
          },
          "metadata": {
            "tags": [],
            "needs_background": "light"
          }
        }
      ]
    },
    {
      "cell_type": "code",
      "metadata": {
        "id": "BM1c3BxXUz2M",
        "colab": {
          "base_uri": "https://localhost:8080/"
        },
        "outputId": "966ca6ed-ca4e-4756-bdda-0577e294663b"
      },
      "source": [
        "history_topn_without_doublon_size=[np.count_nonzero(data_train_topn_without_doublon.loc[i]) for i in data_train_topn_without_doublon.index]\n",
        "len(history_topn_without_doublon_size)"
      ],
      "execution_count": null,
      "outputs": [
        {
          "output_type": "execute_result",
          "data": {
            "text/plain": [
              "504215"
            ]
          },
          "metadata": {
            "tags": []
          },
          "execution_count": 54
        }
      ]
    },
    {
      "cell_type": "code",
      "metadata": {
        "id": "dCZLvEq8U7Ll",
        "colab": {
          "base_uri": "https://localhost:8080/",
          "height": 375
        },
        "outputId": "299a250f-0f2e-4dc0-cd10-37d0cec959ca"
      },
      "source": [
        "plt.hist(history_topn_without_doublon_size,range=(0,20),bins=20)"
      ],
      "execution_count": null,
      "outputs": [
        {
          "output_type": "execute_result",
          "data": {
            "text/plain": [
              "(array([  1739.,  12724., 107780.,  68971.,  49695.,  38910.,  30762.,\n",
              "         25816.,  21750.,  18718.,  16476.,  14706.,  13589.,  12465.,\n",
              "         11714.,  11446.,  10976.,  10786.,   9899.,  15293.]),\n",
              " array([ 0.,  1.,  2.,  3.,  4.,  5.,  6.,  7.,  8.,  9., 10., 11., 12.,\n",
              "        13., 14., 15., 16., 17., 18., 19., 20.]),\n",
              " <a list of 20 Patch objects>)"
            ]
          },
          "metadata": {
            "tags": []
          },
          "execution_count": 55
        },
        {
          "output_type": "display_data",
          "data": {
            "image/png": "[encoded data removed]",
            "text/plain": [
              "<Figure size 432x288 with 1 Axes>"
            ]
          },
          "metadata": {
            "tags": [],
            "needs_background": "light"
          }
        }
      ]
    },
    {
      "cell_type": "markdown",
      "metadata": {
        "id": "xXhqfQoOIP8N"
      },
      "source": [
        "##Filter sequences of length THRESHOLD_HISTORY (zero not counted)"
      ]
    },
    {
      "cell_type": "code",
      "metadata": {
        "id": "SBky2IpZ0uyp"
      },
      "source": [
        "data_train_history_20=[data_train.loc[i] for i in data_train.index if np.count_nonzero(data_train.loc[i])>THRESHOLD_HISTORY]\n",
        "data_train_history_20=pd.DataFrame(data_train_history_20)"
      ],
      "execution_count": null,
      "outputs": []
    },
    {
      "cell_type": "code",
      "metadata": {
        "id": "qnYqATzvIjNO"
      },
      "source": [
        "data_train_topn_history_20=[data_train_topn.loc[i] for i in data_train_topn.index if np.count_nonzero(data_train_topn.loc[i])>THRESHOLD_HISTORY]\n",
        "data_train_topn_history_20=pd.DataFrame(data_train_topn_history_20)"
      ],
      "execution_count": null,
      "outputs": []
    },
    {
      "cell_type": "code",
      "metadata": {
        "id": "up-fO9k6ASz7"
      },
      "source": [
        "data_train_topn_without_doublon_history_20=[data_train_topn_without_doublon.loc[i] for i in data_train_topn_without_doublon.index \\\n",
        "                                               if np.count_nonzero(data_train_topn_without_doublon.loc[i])>THRESHOLD_HISTORY]\n",
        "data_train_topn_without_doublon_history_20=pd.DataFrame(data_train_topn_without_doublon_history_20)"
      ],
      "execution_count": null,
      "outputs": []
    },
    {
      "cell_type": "code",
      "metadata": {
        "id": "eJZRQON-nMdU"
      },
      "source": [
        "# sampling\n",
        "ratio_sampling=1\n",
        "data_train_history_20=pd.DataFrame(data_train_history_20)\n",
        "data_train_history_20=data_train_history_20.sample(frac=ratio_sampling, replace=False, random_state=1)\n",
        "# ré-indexation\n",
        "data_train_history_20=data_train_history_20.reset_index(drop = True) "
      ],
      "execution_count": null,
      "outputs": []
    },
    {
      "cell_type": "code",
      "metadata": {
        "id": "B9ioyvHI05av",
        "colab": {
          "base_uri": "https://localhost:8080/"
        },
        "outputId": "b289a496-a390-4665-f9b5-6274434bb5d9"
      },
      "source": [
        "len(data_train_history_20)"
      ],
      "execution_count": null,
      "outputs": [
        {
          "output_type": "execute_result",
          "data": {
            "text/plain": [
              "57820"
            ]
          },
          "metadata": {
            "tags": []
          },
          "execution_count": 60
        }
      ]
    },
    {
      "cell_type": "code",
      "metadata": {
        "id": "LGtTbITSI4w-",
        "colab": {
          "base_uri": "https://localhost:8080/"
        },
        "outputId": "18e2d15e-7871-42d9-ba95-5df32ed8252a"
      },
      "source": [
        "len(data_train_topn_history_20)"
      ],
      "execution_count": null,
      "outputs": [
        {
          "output_type": "execute_result",
          "data": {
            "text/plain": [
              "31905"
            ]
          },
          "metadata": {
            "tags": []
          },
          "execution_count": 61
        }
      ]
    },
    {
      "cell_type": "code",
      "metadata": {
        "id": "WwOwIBjQPsXj",
        "colab": {
          "base_uri": "https://localhost:8080/"
        },
        "outputId": "29bdd430-df81-42f1-a6b4-e1e9a0ed3cdf"
      },
      "source": [
        "len(data_train_topn_without_doublon_history_20)"
      ],
      "execution_count": null,
      "outputs": [
        {
          "output_type": "execute_result",
          "data": {
            "text/plain": [
              "7095"
            ]
          },
          "metadata": {
            "tags": []
          },
          "execution_count": 62
        }
      ]
    },
    {
      "cell_type": "markdown",
      "metadata": {
        "id": "SFRQW73T471K"
      },
      "source": [
        "## Building train and validation set"
      ]
    },
    {
      "cell_type": "code",
      "metadata": {
        "id": "c_uD4-xZYRWi"
      },
      "source": [
        "# definition de data_valid : 10% de l'ensemble de train\n",
        "data_valid=data_train_history_20.sample(frac=0.1, replace=False, random_state=1)\n",
        "data_valid_topn=data_train_topn_history_20.sample(frac=0.1, replace=False, random_state=1)\n",
        "data_valid_topn_without_doublon=data_train_topn_without_doublon_history_20.sample(frac=0.2, replace=False, random_state=1)"
      ],
      "execution_count": null,
      "outputs": []
    },
    {
      "cell_type": "code",
      "metadata": {
        "id": "_AS81b1s7UhT",
        "colab": {
          "base_uri": "https://localhost:8080/"
        },
        "outputId": "dce0eeba-0e4f-48bc-e15b-b4c386fc3a8b"
      },
      "source": [
        "len(data_valid_topn_without_doublon)"
      ],
      "execution_count": null,
      "outputs": [
        {
          "output_type": "execute_result",
          "data": {
            "text/plain": [
              "1419"
            ]
          },
          "metadata": {
            "tags": []
          },
          "execution_count": 64
        }
      ]
    },
    {
      "cell_type": "code",
      "metadata": {
        "id": "u8oZy6MfhHxc"
      },
      "source": [
        "# defintition du complémentaire qui va être le data_train\n",
        "index=[x for x in data_train_history_20.index if x not in data_valid.index]\n",
        "data_train_out_valid=pd.DataFrame([data_train_history_20.loc[x] for x in index])\n"
      ],
      "execution_count": null,
      "outputs": []
    },
    {
      "cell_type": "code",
      "metadata": {
        "id": "2Dy-V8V-JlTA"
      },
      "source": [
        "# defintition du complémentaire qui va être le data_train_topn\n",
        "index_topn=[x for x in data_train_topn_history_20.index if x not in data_valid_topn.index]\n",
        "data_train_out_valid_topn=pd.DataFrame([data_train_topn_history_20.loc[x] for x in index_topn])"
      ],
      "execution_count": null,
      "outputs": []
    },
    {
      "cell_type": "code",
      "metadata": {
        "id": "scmd9nw4BhuI"
      },
      "source": [
        "# defintition du complémentaire qui va être le data_train_topn\n",
        "index_topn_without_doublon=[x for x in data_train_topn_without_doublon_history_20.index if x not in data_valid_topn_without_doublon.index]\n",
        "data_train_out_valid_topn_without_doublon=pd.DataFrame([data_train_topn_without_doublon_history_20.loc[x] for x in index_topn_without_doublon])"
      ],
      "execution_count": null,
      "outputs": []
    },
    {
      "cell_type": "code",
      "metadata": {
        "id": "t8mX4HPHUQe3",
        "colab": {
          "base_uri": "https://localhost:8080/"
        },
        "outputId": "7f7583f4-6bef-4ee9-d7eb-ed1b410a74e6"
      },
      "source": [
        "len(data_train_out_valid_topn_without_doublon)"
      ],
      "execution_count": null,
      "outputs": [
        {
          "output_type": "execute_result",
          "data": {
            "text/plain": [
              "5676"
            ]
          },
          "metadata": {
            "tags": []
          },
          "execution_count": 68
        }
      ]
    },
    {
      "cell_type": "code",
      "metadata": {
        "id": "uDaMeBuMf5LJ",
        "colab": {
          "base_uri": "https://localhost:8080/",
          "height": 206
        },
        "outputId": "23dc1d5f-2dd3-4773-fd50-1dbe196afaa8"
      },
      "source": [
        "data_train_out_valid_topn_without_doublon.head()"
      ],
      "execution_count": null,
      "outputs": [
        {
          "output_type": "execute_result",
          "data": {
            "text/html": [
              "<div>\n",
              "<style scoped>\n",
              "    .dataframe tbody tr th:only-of-type {\n",
              "        vertical-align: middle;\n",
              "    }\n",
              "\n",
              "    .dataframe tbody tr th {\n",
              "        vertical-align: top;\n",
              "    }\n",
              "\n",
              "    .dataframe thead th {\n",
              "        text-align: right;\n",
              "    }\n",
              "</style>\n",
              "<table border=\"1\" class=\"dataframe\">\n",
              "  <thead>\n",
              "    <tr style=\"text-align: right;\">\n",
              "      <th></th>\n",
              "      <th>0</th>\n",
              "      <th>1</th>\n",
              "      <th>2</th>\n",
              "      <th>3</th>\n",
              "      <th>4</th>\n",
              "      <th>5</th>\n",
              "      <th>6</th>\n",
              "      <th>7</th>\n",
              "      <th>8</th>\n",
              "      <th>9</th>\n",
              "      <th>10</th>\n",
              "      <th>11</th>\n",
              "      <th>12</th>\n",
              "      <th>13</th>\n",
              "      <th>14</th>\n",
              "      <th>15</th>\n",
              "      <th>16</th>\n",
              "      <th>17</th>\n",
              "      <th>18</th>\n",
              "      <th>19</th>\n",
              "    </tr>\n",
              "  </thead>\n",
              "  <tbody>\n",
              "    <tr>\n",
              "      <th>26</th>\n",
              "      <td>603</td>\n",
              "      <td>2</td>\n",
              "      <td>265</td>\n",
              "      <td>6</td>\n",
              "      <td>998</td>\n",
              "      <td>13</td>\n",
              "      <td>74</td>\n",
              "      <td>99</td>\n",
              "      <td>958</td>\n",
              "      <td>1565</td>\n",
              "      <td>165</td>\n",
              "      <td>148</td>\n",
              "      <td>312</td>\n",
              "      <td>552</td>\n",
              "      <td>826</td>\n",
              "      <td>183</td>\n",
              "      <td>16446</td>\n",
              "      <td>689</td>\n",
              "      <td>2148</td>\n",
              "      <td>80</td>\n",
              "    </tr>\n",
              "    <tr>\n",
              "      <th>53</th>\n",
              "      <td>30401</td>\n",
              "      <td>511</td>\n",
              "      <td>6</td>\n",
              "      <td>888</td>\n",
              "      <td>4936</td>\n",
              "      <td>265</td>\n",
              "      <td>19227</td>\n",
              "      <td>25702</td>\n",
              "      <td>1047</td>\n",
              "      <td>245</td>\n",
              "      <td>5389</td>\n",
              "      <td>2482</td>\n",
              "      <td>1507</td>\n",
              "      <td>1329</td>\n",
              "      <td>1205</td>\n",
              "      <td>1212</td>\n",
              "      <td>1194</td>\n",
              "      <td>1503</td>\n",
              "      <td>6217</td>\n",
              "      <td>3050</td>\n",
              "    </tr>\n",
              "    <tr>\n",
              "      <th>169</th>\n",
              "      <td>1348</td>\n",
              "      <td>3350</td>\n",
              "      <td>826</td>\n",
              "      <td>808</td>\n",
              "      <td>814</td>\n",
              "      <td>4504</td>\n",
              "      <td>2704</td>\n",
              "      <td>1944</td>\n",
              "      <td>1480</td>\n",
              "      <td>1465</td>\n",
              "      <td>242</td>\n",
              "      <td>6333</td>\n",
              "      <td>1002</td>\n",
              "      <td>707</td>\n",
              "      <td>10122</td>\n",
              "      <td>3373</td>\n",
              "      <td>1937</td>\n",
              "      <td>1454</td>\n",
              "      <td>1862</td>\n",
              "      <td>51604</td>\n",
              "    </tr>\n",
              "    <tr>\n",
              "      <th>309</th>\n",
              "      <td>988</td>\n",
              "      <td>5208</td>\n",
              "      <td>707</td>\n",
              "      <td>5020</td>\n",
              "      <td>1565</td>\n",
              "      <td>1440</td>\n",
              "      <td>953</td>\n",
              "      <td>4777</td>\n",
              "      <td>970</td>\n",
              "      <td>22522</td>\n",
              "      <td>967</td>\n",
              "      <td>1010</td>\n",
              "      <td>1027</td>\n",
              "      <td>5158</td>\n",
              "      <td>1476</td>\n",
              "      <td>799</td>\n",
              "      <td>22569</td>\n",
              "      <td>688</td>\n",
              "      <td>3621</td>\n",
              "      <td>1941</td>\n",
              "    </tr>\n",
              "    <tr>\n",
              "      <th>569</th>\n",
              "      <td>3398</td>\n",
              "      <td>6587</td>\n",
              "      <td>30455</td>\n",
              "      <td>24620</td>\n",
              "      <td>2345</td>\n",
              "      <td>1347</td>\n",
              "      <td>2060</td>\n",
              "      <td>2969</td>\n",
              "      <td>4057</td>\n",
              "      <td>2724</td>\n",
              "      <td>2982</td>\n",
              "      <td>3316</td>\n",
              "      <td>28</td>\n",
              "      <td>19963</td>\n",
              "      <td>2385</td>\n",
              "      <td>3710</td>\n",
              "      <td>13878</td>\n",
              "      <td>16267</td>\n",
              "      <td>30657</td>\n",
              "      <td>14737</td>\n",
              "    </tr>\n",
              "  </tbody>\n",
              "</table>\n",
              "</div>"
            ],
            "text/plain": [
              "        0     1      2      3     4   ...    15     16     17     18     19\n",
              "26     603     2    265      6   998  ...   183  16446    689   2148     80\n",
              "53   30401   511      6    888  4936  ...  1212   1194   1503   6217   3050\n",
              "169   1348  3350    826    808   814  ...  3373   1937   1454   1862  51604\n",
              "309    988  5208    707   5020  1565  ...   799  22569    688   3621   1941\n",
              "569   3398  6587  30455  24620  2345  ...  3710  13878  16267  30657  14737\n",
              "\n",
              "[5 rows x 20 columns]"
            ]
          },
          "metadata": {
            "tags": []
          },
          "execution_count": 69
        }
      ]
    },
    {
      "cell_type": "code",
      "metadata": {
        "id": "y7nO_M8BPfVU",
        "colab": {
          "base_uri": "https://localhost:8080/"
        },
        "outputId": "4e742004-8480-4bf3-c5f2-bc9e2e8ecf53"
      },
      "source": [
        "#recalcul du nombre d'items différents\n",
        "# Building the item set\n",
        "temp_item_1=[]\n",
        "temp_item_2=[]\n",
        "for user in data_train_topn_without_doublon_history_20.index:\n",
        "  temp_item_1.append(data_train_topn_without_doublon_history_20.loc[user])\n",
        "for user in data_test_topn_without_doublon.index:\n",
        "  history=data_test_topn_without_doublon\n",
        "  if np.count_nonzero(history)> THRESHOLD_HISTORY:\n",
        "    temp_item_1.append(data_test_topn_without_doublon.loc[user])\n",
        "for x in temp_item_1:\n",
        "  for y in x:\n",
        "    temp_item_2.append(y)\n",
        "\n",
        "print((len(temp_item_2)))\n"
      ],
      "execution_count": null,
      "outputs": [
        {
          "output_type": "stream",
          "text": [
            "2673080\n"
          ],
          "name": "stdout"
        }
      ]
    },
    {
      "cell_type": "code",
      "metadata": {
        "id": "rs52SOBEXZkZ",
        "colab": {
          "base_uri": "https://localhost:8080/"
        },
        "outputId": "9cb8f78d-4f9d-4318-b063-a673bf8cdc53"
      },
      "source": [
        "len(np.unique(temp_item_2))"
      ],
      "execution_count": null,
      "outputs": [
        {
          "output_type": "execute_result",
          "data": {
            "text/plain": [
              "19659"
            ]
          },
          "metadata": {
            "tags": []
          },
          "execution_count": 71
        }
      ]
    },
    {
      "cell_type": "markdown",
      "metadata": {
        "id": "bhH_HmwX5O39"
      },
      "source": [
        "# Dataset backup/restore/preparation \n",
        "\n",
        "*  DATA_SAVED=False will make the dataset to be saved on the repo.\n",
        "*  DATA_SAVED=True (to be positioned at TRUE after one complete execution of the notebook) the different dataset are retrieved from repository (Dataset Building block above can be skipped) \n",
        "\n",
        "\n"
      ]
    },
    {
      "cell_type": "code",
      "metadata": {
        "id": "9ux0GfEPUazx"
      },
      "source": [
        "def LastFM_prepare_data_set(dataset,max_sequence_label,max_sequence_train, shuffle, shift):\n",
        "\n",
        "  '''\n",
        "      :param: dataset : dataframe : set of user history\n",
        "      :param: max_sequence_lable : int size of the sequence of label for each user\n",
        "      :param: max_sequence_train: int size of the sequence of  history to keep for each user\n",
        "      :param: liste_item_tri: list list of the items within all the dataset (no repetition and sorted by increasing value)\n",
        "      :return: x_train, x_target_train_oh : array: array of data for train and target\n",
        "  '''\n",
        "\n",
        "  # local variables\n",
        "  sequence_dataset=[]\n",
        "  sequence_target_dataset=[]\n",
        "  for user in dataset.index:\n",
        "      # history\n",
        "\n",
        "      history=list(dataset.loc[user]) \n",
        "      #print(\"user\",user)\n",
        "      #print(\"history\",history)\n",
        "      history_int=[song_topn_2_int[songid] for songid in history if songid != 0]\n",
        "      nb_seq=(len(history_int) - (max_sequence_train+max_sequence_label)+1)\n",
        "      for i in range(nb_seq):\n",
        "        history_4_train=history_int[i:i+max_sequence_train]\n",
        "        #print(\"history_4_train\",history_4_train)\n",
        "        history_4_test=history_int[i+shift:i+shift+max_sequence_label]\n",
        "        #history_4_test=history_int[i+max_sequence_train:i+max_sequence_train+max_sequence_label]\n",
        "        if shuffle:\n",
        "          np.random.shuffle(history_4_train)\n",
        "          #np.random.shuffle(history_4_test)\n",
        "\n",
        "        sequence_dataset.append(history_4_train) # sous-seq de longueur max_sequence_train\n",
        "        sequence_target_dataset.append(history_4_test) # item suivant\n",
        "      \n",
        "\n",
        "\n",
        "\n",
        "  # padding if necessary\n",
        "  x_dataset = sequence.pad_sequences(sequence_dataset, maxlen=max_sequence_train)\n",
        "  x_target_dataset = sequence.pad_sequences(sequence_target_dataset, padding='post',maxlen=max_sequence_label)\n",
        "\n",
        "  x_dataset=np.array(x_dataset)\n",
        "  x_target_dataset=np.array(x_target_dataset)\n",
        "    \n",
        "  return x_dataset,x_target_dataset\n",
        "\n"
      ],
      "execution_count": 12,
      "outputs": []
    },
    {
      "cell_type": "code",
      "metadata": {
        "id": "K2HyLkl3XoyU"
      },
      "source": [
        "DATA_SAVED=True"
      ],
      "execution_count": 13,
      "outputs": []
    },
    {
      "cell_type": "code",
      "metadata": {
        "id": "F0AAxf8UNFOl"
      },
      "source": [
        "# sauvegarde dataframe\n",
        "if not DATA_SAVED:\n",
        "  data_train_out_valid.to_csv(my_path+\"target_ten_data_train_out_valid\")\n",
        "  data_train_out_valid_topn.to_csv(my_path+\"target_ten_data_train_out_valid_topn\")\n",
        "  data_train_out_valid_topn_without_doublon.to_csv(my_path+\"target_ten_data_train_out_valid_topn_without_doublon\")\n",
        "  data_valid.to_csv(my_path+\"target_ten_data_valid\")\n",
        "  data_valid_topn.to_csv(my_path+\"target_ten_data_valid_topn\")\n",
        "  data_valid_topn_without_doublon.to_csv(my_path+\"target_ten_data_valid_topn_without_doublon\")\n",
        "  data_train.to_csv(my_path+\"target_ten_data_train\")\n",
        "\n",
        "  data_test.to_csv(my_path+\"target_ten_data_test\")\n",
        "  data_test_topn.to_csv(my_path+\"target_ten_data_test_topn\")\n",
        "  data_test_topn_without_doublon.to_csv(my_path+\"target_ten_data_test_topn_without_doublon\")\n",
        "\n",
        "\n",
        "  # sauvegarde one_hot_size\n",
        "  import json\n",
        "  my_details = {'one_hot_size': len(topn_tri_int)}\n",
        "\n",
        "  with open(my_path+'target_ten_parameter.json', 'w') as json_file:\n",
        "      json.dump(my_details, json_file)\n",
        "\n",
        "  # sauvegarde numérotation \n",
        "  # conversion dico en dataframe\n",
        "  import pandas as pd\n",
        "  df_song_2_int=pd.DataFrame.from_dict(song_2_int,orient='index')\n",
        "  df_int_2_song=pd.DataFrame.from_dict(int_2_song,orient='index')\n",
        "  df_song_topn_2_int=pd.DataFrame.from_dict(song_topn_2_int,orient='index')\n",
        "  df_int_2_song_topn=pd.DataFrame.from_dict(int_2_song_topn,orient='index')\n",
        "\n",
        "  df_song_2_int.to_csv(my_path+\"target_ten_song_2_int\")\n",
        "  df_int_2_song.to_csv(my_path+\"target_ten_int_2_song\")\n",
        "  df_song_topn_2_int.to_csv(my_path+\"target_ten_song_topn_2_int\")\n",
        "  df_int_2_song_topn.to_csv(my_path+\"target_ten_int_2_song_topn\")\n"
      ],
      "execution_count": 14,
      "outputs": []
    },
    {
      "cell_type": "code",
      "metadata": {
        "id": "5BF3s0goQFzH"
      },
      "source": [
        "def convert_df_2_dict(my_dataframe):\n",
        "  '''\n",
        "  '''\n",
        "  my_dico=my_dataframe.to_dict('split')\n",
        "  return dict(my_dico['data'])"
      ],
      "execution_count": 15,
      "outputs": []
    },
    {
      "cell_type": "code",
      "metadata": {
        "id": "hMmx9vnKRur7"
      },
      "source": [
        "import json\n",
        "\n",
        "if DATA_SAVED:\n",
        "  with open(my_path+'target_ten_parameter.json') as file:\n",
        "    parameter_data = json.load(file)\n",
        "  one_hot_space_size=parameter_data['one_hot_size']  \n",
        "  data_train_out_valid= pd.read_csv(my_path+\"target_ten_data_train_out_valid\",index_col=0)\n",
        "  data_train_out_valid_topn=pd.read_csv(my_path+\"target_ten_data_train_out_valid_topn\",index_col=0)\n",
        "  data_train_out_valid_topn_without_doublon=pd.read_csv(my_path+\"target_ten_data_train_out_valid_topn_without_doublon\",index_col=0)\n",
        "  data_valid=pd.read_csv(my_path+\"target_ten_data_valid\",index_col=0)\n",
        "  data_valid_topn=pd.read_csv(my_path+\"target_ten_data_valid_topn\",index_col=0)\n",
        "  data_valid_topn_without_doublon=pd.read_csv(my_path+\"target_ten_data_valid_topn_without_doublon\",index_col=0)\n",
        "  data_train=pd.read_csv(my_path+\"target_ten_data_train\",index_col=0)\n",
        "  data_test=pd.read_csv(my_path+\"target_ten_data_test\",index_col=0)\n",
        "  data_test_topn=pd.read_csv(my_path+\"target_ten_data_test_topn\",index_col=0)\n",
        "  data_test_topn_without_doublon=pd.read_csv(my_path+\"target_ten_data_test_topn_without_doublon\",index_col=0)\n",
        "  # reconstituer les dictionnaire\n",
        "  song_2_int=pd.read_csv(my_path+\"target_ten_song_2_int\")\n",
        "  song_2_int=convert_df_2_dict(song_2_int)\n",
        "  int_2_song=pd.read_csv(my_path+\"target_ten_int_2_song\")\n",
        "  int_2_song=convert_df_2_dict(int_2_song)\n",
        "  song_topn_2_int=pd.read_csv(my_path+\"target_ten_song_topn_2_int\")\n",
        "  song_topn_2_int=convert_df_2_dict(song_topn_2_int)\n",
        "  int_2_song_topn=pd.read_csv(my_path+\"target_ten_int_2_song_topn\")\n",
        "  int_2_song_topn=convert_df_2_dict(int_2_song_topn)\n",
        "    "
      ],
      "execution_count": 16,
      "outputs": []
    },
    {
      "cell_type": "code",
      "metadata": {
        "id": "NKLksSe0GlIH"
      },
      "source": [
        "# select dataset\n",
        "# 1: full 2: threshold history 3: threshold history and item popularity 4: threshold history item popularity and wihout doublon\n",
        "data_select=3\n",
        "if data_select==1:\n",
        "  data_train_in=data_train_out_valid\n",
        "  data_valid_in=data_valid\n",
        "elif data_select==2:\n",
        "  data_train_in=data_train_out_valid\n",
        "  data_valid_in=data_valid\n",
        "elif data_select==3:\n",
        "  data_train_in=data_train_out_valid_topn\n",
        "  data_valid_in=data_valid_topn\n",
        "elif data_select==4:\n",
        "  data_train_in=data_train_out_valid_topn_without_doublon\n",
        "  data_valid_in=data_valid_topn_without_doublon\n",
        "else:\n",
        "  data_train_in=data_train_out_valid\n",
        "  data_valid_in=data_valid    \n",
        "\n"
      ],
      "execution_count": 17,
      "outputs": []
    },
    {
      "cell_type": "markdown",
      "metadata": {
        "id": "alnYNbvsxLRs"
      },
      "source": [
        "## Filter items from validation and test set which are not in the train set"
      ]
    },
    {
      "cell_type": "code",
      "metadata": {
        "id": "DiN3JGadw3gU"
      },
      "source": [
        "set_data_train_out_valid_topn_without_doublon=set({})\n",
        "for index in range(data_train_out_valid_topn_without_doublon.shape[0]):  # index de ligne\n",
        "  set_data_train_out_valid_topn_without_doublon.update(set(list(data_train_out_valid_topn_without_doublon.iloc[index])))"
      ],
      "execution_count": 18,
      "outputs": []
    },
    {
      "cell_type": "markdown",
      "metadata": {
        "id": "Xdl_DJeSlkPd"
      },
      "source": [
        "### validation"
      ]
    },
    {
      "cell_type": "code",
      "metadata": {
        "id": "UP24mDweX5oe"
      },
      "source": [
        "maliste=sorted(list(data_valid_topn_without_doublon.index))\n",
        "for my_index in maliste:\n",
        "  seq=list(data_valid_topn_without_doublon.loc[my_index])\n",
        "  Found=False\n",
        "  i=0\n",
        "  while not Found and i < THRESHOLD_HISTORY+1:\n",
        "    if seq[i] not in set_data_train_out_valid_topn_without_doublon:\n",
        "      Found=True\n",
        "      data_valid_topn_without_doublon=data_valid_topn_without_doublon.drop(my_index)\n",
        "    else:\n",
        "      i+=1  \n",
        "\n"
      ],
      "execution_count": 19,
      "outputs": []
    },
    {
      "cell_type": "code",
      "metadata": {
        "colab": {
          "base_uri": "https://localhost:8080/"
        },
        "id": "kejne59OL5NE",
        "outputId": "7350c712-307e-4dd0-a039-c56847346c74"
      },
      "source": [
        "data_train_out_valid_topn_without_doublon.shape"
      ],
      "execution_count": 20,
      "outputs": [
        {
          "output_type": "execute_result",
          "data": {
            "text/plain": [
              "(5676, 20)"
            ]
          },
          "metadata": {
            "tags": []
          },
          "execution_count": 20
        }
      ]
    },
    {
      "cell_type": "code",
      "metadata": {
        "colab": {
          "base_uri": "https://localhost:8080/"
        },
        "id": "72-aXa9iiedq",
        "outputId": "ba3509bb-cfc6-4907-9456-310b46d91625"
      },
      "source": [
        "data_valid_topn_without_doublon.shape"
      ],
      "execution_count": 21,
      "outputs": [
        {
          "output_type": "execute_result",
          "data": {
            "text/plain": [
              "(932, 20)"
            ]
          },
          "metadata": {
            "tags": []
          },
          "execution_count": 21
        }
      ]
    },
    {
      "cell_type": "markdown",
      "metadata": {
        "id": "UzqpRvtbltZB"
      },
      "source": [
        "### test"
      ]
    },
    {
      "cell_type": "markdown",
      "metadata": {
        "id": "60NnOrWlG1QS"
      },
      "source": [
        "data_test_topn_without doublon may contain 0 - i.e incomplete sequence -. but, thanks to the code below as zero does not belong to set_data_train_out_valid_topn_without_doublon, this sequence will be directly removed...\n",
        "therefor the test beow on the length of the sequence within test data set are not useful."
      ]
    },
    {
      "cell_type": "code",
      "metadata": {
        "colab": {
          "base_uri": "https://localhost:8080/"
        },
        "id": "oWZkrRtfmlT_",
        "outputId": "8643c539-f471-4757-edc2-9c251a2aeedb"
      },
      "source": [
        "data_test_topn_without_doublon.shape"
      ],
      "execution_count": 22,
      "outputs": [
        {
          "output_type": "execute_result",
          "data": {
            "text/plain": [
              "(126559, 20)"
            ]
          },
          "metadata": {
            "tags": []
          },
          "execution_count": 22
        }
      ]
    },
    {
      "cell_type": "code",
      "metadata": {
        "id": "EALYGVq0lzLh"
      },
      "source": [
        "maliste=sorted(list(data_test_topn_without_doublon.index))\n",
        "for my_index in maliste:\n",
        "  seq=list(data_test_topn_without_doublon.loc[my_index])\n",
        "  Found=False\n",
        "  i=0\n",
        "  while not Found and i < THRESHOLD_HISTORY+1:\n",
        "    if seq[i] not in set_data_train_out_valid_topn_without_doublon:\n",
        "      Found=True\n",
        "      data_test_topn_without_doublon=data_test_topn_without_doublon.drop(my_index)\n",
        "    else:\n",
        "      i+=1  "
      ],
      "execution_count": 23,
      "outputs": []
    },
    {
      "cell_type": "markdown",
      "metadata": {
        "id": "RpFh54riwi6B"
      },
      "source": [
        "## Format data for fitting the model"
      ]
    },
    {
      "cell_type": "code",
      "metadata": {
        "id": "F-j4VfvPw-KN"
      },
      "source": [
        "# prepare data\n",
        "##################\n",
        "SHUFFLE=False\n",
        "##################\n",
        "from keras.preprocessing import sequence\n",
        "#x_train, x_target_train=LastFM_prepare_data_set(data_train,max_sequence_label,max_sequence_train)\n",
        "x_train,x_target_train=LastFM_prepare_data_set(data_train_in,max_sequence_label,max_sequence_train,shuffle=SHUFFLE,shift=Shift)\n",
        "x_valid,x_target_valid=LastFM_prepare_data_set(data_valid_in,max_sequence_label,max_sequence_train,shuffle=SHUFFLE, shift=Shift)\n"
      ],
      "execution_count": 24,
      "outputs": []
    },
    {
      "cell_type": "code",
      "metadata": {
        "colab": {
          "base_uri": "https://localhost:8080/"
        },
        "id": "UNApKmdWLJcT",
        "outputId": "5ddc6af3-126c-48dd-a719-405d93122399"
      },
      "source": [
        "x_target_train.shape"
      ],
      "execution_count": 25,
      "outputs": [
        {
          "output_type": "execute_result",
          "data": {
            "text/plain": [
              "(28715, 10)"
            ]
          },
          "metadata": {
            "tags": []
          },
          "execution_count": 25
        }
      ]
    },
    {
      "cell_type": "code",
      "metadata": {
        "colab": {
          "base_uri": "https://localhost:8080/"
        },
        "id": "cjM1NasA9wjg",
        "outputId": "7153f4b6-bfc0-4937-f9d0-82bbb4b2d7d2"
      },
      "source": [
        "\n",
        "diff_zero=0\n",
        "for i in range(x_train.shape[0]):\n",
        "  diff_zero+=np.count_nonzero(x_train[i])\n",
        "\n",
        "diff_zero/(x_train.shape[0]*x_train.shape[1])"
      ],
      "execution_count": 26,
      "outputs": [
        {
          "output_type": "execute_result",
          "data": {
            "text/plain": [
              "1.0"
            ]
          },
          "metadata": {
            "tags": []
          },
          "execution_count": 26
        }
      ]
    },
    {
      "cell_type": "code",
      "metadata": {
        "id": "_H5EETT-ZcCr"
      },
      "source": [
        "for i in range(x_target_train.shape[0]):\n",
        "  if 0 in x_target_train[i]:\n",
        "    print(x_target_train[i])\n"
      ],
      "execution_count": 27,
      "outputs": []
    },
    {
      "cell_type": "code",
      "metadata": {
        "colab": {
          "base_uri": "https://localhost:8080/"
        },
        "id": "9VCmcs9ZRdVF",
        "outputId": "314202a6-ab25-47b9-e13c-b09f692aff38"
      },
      "source": [
        "x_valid.shape"
      ],
      "execution_count": 28,
      "outputs": [
        {
          "output_type": "execute_result",
          "data": {
            "text/plain": [
              "(3190, 10)"
            ]
          },
          "metadata": {
            "tags": []
          },
          "execution_count": 28
        }
      ]
    },
    {
      "cell_type": "code",
      "metadata": {
        "colab": {
          "base_uri": "https://localhost:8080/",
          "height": 0
        },
        "id": "lDz6j2zpHQgs",
        "outputId": "8d005f4b-d064-449b-a1b7-5e783fa5bffe"
      },
      "source": [
        "'''while true:\n",
        "  pass'''"
      ],
      "execution_count": 29,
      "outputs": [
        {
          "output_type": "execute_result",
          "data": {
            "application/vnd.google.colaboratory.intrinsic+json": {
              "type": "string"
            },
            "text/plain": [
              "'while true:\\n  pass'"
            ]
          },
          "metadata": {
            "tags": []
          },
          "execution_count": 29
        }
      ]
    },
    {
      "cell_type": "code",
      "metadata": {
        "id": "co0AgRV2HfFJ"
      },
      "source": [
        "# constitution des dictionnaire selon modélisation https://stanford.edu/~shervine/blog/keras-how-to-generate-data-on-the-fly\n",
        "#batchsize=128\n",
        "partition={}\n",
        "labels={}\n",
        "partition['train']=list(range(x_train.shape[0]))\n",
        "partition['validation']=list(range(x_valid.shape[0]))\n",
        "labels_train={i:j for i,j in enumerate(x_target_train)}\n",
        "labels_valid={i:j for i,j in enumerate(x_target_valid)}\n",
        "\n",
        "\n",
        "# one hot encoding pour l'ensemble des items recommandables\n",
        "if not DATA_SAVED:\n",
        "  one_hot_space_size=len(topn_tri_int)    \n",
        "# sinon déjà défini  \n",
        "\n",
        "#parameter for train data generation\n",
        "# Parameters\n",
        "params = {'dim_train': (max_sequence_train),\n",
        "          'dim_label': (max_sequence_label),\n",
        "          'batch_size': batchsize,\n",
        "          'n_classes': one_hot_space_size,\n",
        "          'n_channels': 1,\n",
        "          'shuffle': True}\n",
        "\n",
        "#ipdb.set_trace()\n",
        "#input(\"wait\")\n",
        "# Generators\n",
        "training_generator = DataGenerator(x_train,partition['train'], labels_train, **params)\n",
        "validation_generator = DataGenerator(x_valid,partition['validation'], labels_valid, **params)"
      ],
      "execution_count": 30,
      "outputs": []
    },
    {
      "cell_type": "code",
      "metadata": {
        "colab": {
          "base_uri": "https://localhost:8080/"
        },
        "id": "ZD_ylg_MFa6v",
        "outputId": "90e1730d-22ee-4d90-862c-ea1af33a3b5f"
      },
      "source": [
        "for row in validation_generator:\n",
        "  print(row)\n",
        "  break"
      ],
      "execution_count": 31,
      "outputs": [
        {
          "output_type": "stream",
          "text": [
            "(array([[  547,  2647,  4830,  3388, 12261,  2647, 14326,  3232,  3227,\n",
            "         2125],\n",
            "       [ 8288,  9044,  8273,  2563,  9065, 18397, 12063,   875,  1427,\n",
            "          718],\n",
            "       [ 7784,   522,  1028,  4669, 18287, 16668,  1724, 11941,  2033,\n",
            "         1473],\n",
            "       [  340,  6411,   307,  2578,  1206,  2974,    82, 14895,    25,\n",
            "           67],\n",
            "       [    5,  1401,  1259,  1683,  1381,  4280,  4109,  1081,   126,\n",
            "         2228],\n",
            "       [  158,    96,     2,  1417,  1904,   222,   293,    67,    35,\n",
            "          126],\n",
            "       [  949,  5552,   801,  3758,  5399,   208,  3742,  5053,  1352,\n",
            "         3544],\n",
            "       [   90,   796,    12,   937,    67,   747,  5108,   286,    78,\n",
            "          993],\n",
            "       [   34,    26,   194,   863,  6280,   222,  1147,   287,    26,\n",
            "           29],\n",
            "       [  619,   821,   703,   544,  1445, 10722, 10555,  8932, 10751,\n",
            "         2178],\n",
            "       [11682,  6031,  2126,  3513,  2358,   705, 14557,  6031,   597,\n",
            "        11341],\n",
            "       [ 2587, 14723,  2064, 14723,  2587, 10401, 14723,  2587, 14723,\n",
            "         2064],\n",
            "       [10258,   829, 10258,   546, 10258,  1286,   546, 10258,   546,\n",
            "        10258],\n",
            "       [ 1375,  2997,  1512,  5910,  2070,  8062,   528,  1303,  3121,\n",
            "          668],\n",
            "       [ 4382,  6333,  1699,  2575,  2229,  3742,  6813,  2634,  8798,\n",
            "         6952],\n",
            "       [  119,   865,   142, 11437,  6985,     2,  6985,  1115,  6985,\n",
            "         1007],\n",
            "       [  667,  1168,  3255,  1168,  3255,   667,  8294,   867,   618,\n",
            "         1168],\n",
            "       [   25,   731, 10166,  8062,  8557,  2155,  3680, 12985,  2165,\n",
            "         2164],\n",
            "       [ 2177,  1563,   626, 12484,  2157,   626, 11310,  4811,  2211,\n",
            "           25],\n",
            "       [  620,  1369,    73,   875,   837,   326,   603,   208,   844,\n",
            "          546],\n",
            "       [ 2602, 10652,   546,   810,   708,    25, 11233,   512,   510,\n",
            "        11233],\n",
            "       [  307,   782,   883,   857,  2301,  5019,   307,   843,   524,\n",
            "         1296],\n",
            "       [  559,  5870,   509,   286,  1115,   620,  1071,  5219,  5088,\n",
            "          275],\n",
            "       [ 2760,  1223,  7623,   598,  3967,  3356,   126,  3948,    99,\n",
            "         1789],\n",
            "       [ 1760, 20058,   286, 19017,   607,  1799,   916,   327,  1799,\n",
            "          916],\n",
            "       [  533, 11097,  3156,   455,  8574,  1312, 10267,  1312,  3574,\n",
            "         1575],\n",
            "       [ 1534,    26, 11564,  1079,  3653,  5238,  4088,  1079,  1064,\n",
            "         2462],\n",
            "       [ 1115,  1529,  1354,   919,  1278,  7372,   747, 10103,  1267,\n",
            "          917],\n",
            "       [  801,   897,  1406,   526,   593,  1406,  1567,  6055,  1244,\n",
            "         1241],\n",
            "       [ 1568,  1612,  1795,  2358,  8419,   707,  4586,  1563,  1795,\n",
            "         1612],\n",
            "       [  793,  3430,  7690,   528,  1407,  1419, 14112,  1239,  1624,\n",
            "          587],\n",
            "       [ 1033,  2207,    12,   348,    29,   847,   864, 10835,   327,\n",
            "         1170],\n",
            "       [ 2012,  2754,    90,  4995,    90,  1251,  4326,  1438,    90,\n",
            "         2012],\n",
            "       [  598,  1789, 14479,     3,  1230,  2113,    49,  1289,   647,\n",
            "          194],\n",
            "       [ 2898, 11844,  2898, 11844,  2920,  3174,  2920,  3174,  3176,\n",
            "         2920],\n",
            "       [  695,   744,   731,  1609,  1988,  3666,   176,  3289,  1208,\n",
            "          694],\n",
            "       [ 8335,  6870,    25,   744,    25,   744, 12857,  4420,  3534,\n",
            "         3466],\n",
            "       [  648,  3350,   897,   648,  1168,  2258,  3032,  1383,  1279,\n",
            "         1383],\n",
            "       [   35,  1986,   711,  1374, 17565,  3283,   708,  1385,  2367,\n",
            "         2195],\n",
            "       [20330,  1554,  1647,  3282,   411,  8128,   931,    25,   906,\n",
            "        12885],\n",
            "       [ 5979,  3327,   519,   713,  1830,    29,    32,  8384, 11316,\n",
            "          868],\n",
            "       [   29,   646,    73,  3356, 13478,  9005,  2820,  1968,   902,\n",
            "         1291],\n",
            "       [ 3939,  2624,  1976,   967,  4978,  1593,   544,  3142,   620,\n",
            "           25],\n",
            "       [ 1436,  7042,  1234,   646,  3629,   456,  4778,   789,  3100,\n",
            "         3349],\n",
            "       [ 4588,    25,  8763,  3148, 18960,  3158,    25,   916,  8763,\n",
            "        10243],\n",
            "       [ 1131,  1134, 13416,  6042, 15545,  1059,  2136,  7165, 11133,\n",
            "         6351],\n",
            "       [   25,  1385,  3234,  1385,  2189,  1385,  2189, 11895,  2189,\n",
            "         1385],\n",
            "       [  505,  2472,   505,  2472,   505,  2472,   505,  2472,   505,\n",
            "        16481],\n",
            "       [  243,   982,  2848,  4073,   219,   246,  2116,  2853,   750,\n",
            "         4276],\n",
            "       [ 3327,  1219,  4856,  1168,  6262,  7982,  4730,   902,  4922,\n",
            "         1255],\n",
            "       [  959,  2446,  2438,   956,  1219,   827,   859,   208,  2438,\n",
            "         1970],\n",
            "       [ 2578,   423,    53,  5800,  5759,  3742,   321,  6516,  1911,\n",
            "         3980],\n",
            "       [10214,  8359,    25,  3239,  7415,    25,  2041, 17206, 12904,\n",
            "          718],\n",
            "       [ 2271, 20336,  1411,  2271,  1411,  2271,   195,  2271, 15199,\n",
            "         1411],\n",
            "       [ 4274,   797,  1237,   307,  1281,  4764,  5643,   307,  1248,\n",
            "          307],\n",
            "       [ 3721,  3307,  3721,  3307,  3721,  3307,  3721,  3307,  3721,\n",
            "         3307],\n",
            "       [18625, 18624, 12476, 18627, 12476,  2028,  2384,  8797,  8752,\n",
            "         3513],\n",
            "       [  618,   510,   275,  1258,   695, 10987,   670, 12878,    25,\n",
            "        13214],\n",
            "       [ 1796,  1261,  3289,   695,   859,   327,   909,  1638,   895,\n",
            "         1582],\n",
            "       [ 1832,  5738,  1052,    91, 13674,  6041,  5177,  3253,  7213,\n",
            "          348],\n",
            "       [   67,  1358,     3,   745,  3388,  4804,  2121,  1025,  3350,\n",
            "         2279],\n",
            "       [ 7254,   972,  1028,  2549,  2136,  2546,  2289,  4340,    51,\n",
            "         9389],\n",
            "       [  943,   517,   943,  1466,  3106,  4223,   347,  4703,  1291,\n",
            "         1292],\n",
            "       [14963, 13667,   546,  7162,   546,  3283,  1817,  2882,  1724,\n",
            "         3283]]), array([[[10825],\n",
            "        [ 1267],\n",
            "        [ 3388],\n",
            "        [ 3350],\n",
            "        [   71],\n",
            "        [  547],\n",
            "        [ 1605],\n",
            "        [ 2125],\n",
            "        [  745],\n",
            "        [ 7881]],\n",
            "\n",
            "       [[18379],\n",
            "        [  902],\n",
            "        [ 3003],\n",
            "        [18406],\n",
            "        [ 5725],\n",
            "        [ 1984],\n",
            "        [ 9696],\n",
            "        [  646],\n",
            "        [ 8910],\n",
            "        [ 3202]],\n",
            "\n",
            "       [[ 9350],\n",
            "        [ 2938],\n",
            "        [12168],\n",
            "        [  528],\n",
            "        [  890],\n",
            "        [  495],\n",
            "        [ 2189],\n",
            "        [  411],\n",
            "        [  982],\n",
            "        [  671]],\n",
            "\n",
            "       [[ 1228],\n",
            "        [   18],\n",
            "        [  153],\n",
            "        [ 3652],\n",
            "        [13730],\n",
            "        [   82],\n",
            "        [   67],\n",
            "        [   82],\n",
            "        [ 2578],\n",
            "        [14903]],\n",
            "\n",
            "       [[ 1261],\n",
            "        [ 1115],\n",
            "        [ 1223],\n",
            "        [ 1168],\n",
            "        [  521],\n",
            "        [ 1262],\n",
            "        [  831],\n",
            "        [  881],\n",
            "        [   70],\n",
            "        [ 2239]],\n",
            "\n",
            "       [[  938],\n",
            "        [  195],\n",
            "        [ 1988],\n",
            "        [  158],\n",
            "        [ 1904],\n",
            "        [  222],\n",
            "        [ 1988],\n",
            "        [   67],\n",
            "        [    2],\n",
            "        [   68]],\n",
            "\n",
            "       [[ 1206],\n",
            "        [11961],\n",
            "        [ 1378],\n",
            "        [  593],\n",
            "        [ 1376],\n",
            "        [ 5271],\n",
            "        [ 1360],\n",
            "        [ 1270],\n",
            "        [ 2249],\n",
            "        [  668]],\n",
            "\n",
            "       [[   67],\n",
            "        [   90],\n",
            "        [   67],\n",
            "        [   96],\n",
            "        [   78],\n",
            "        [   67],\n",
            "        [ 1147],\n",
            "        [  798],\n",
            "        [ 1147],\n",
            "        [  674]],\n",
            "\n",
            "       [[ 1534],\n",
            "        [   68],\n",
            "        [  305],\n",
            "        [   34],\n",
            "        [   12],\n",
            "        [  803],\n",
            "        [ 1147],\n",
            "        [ 1594],\n",
            "        [ 1147],\n",
            "        [ 1417]],\n",
            "\n",
            "       [[10753],\n",
            "        [ 4615],\n",
            "        [ 8316],\n",
            "        [ 8758],\n",
            "        [ 1682],\n",
            "        [ 4615],\n",
            "        [10730],\n",
            "        [ 1608],\n",
            "        [ 1576],\n",
            "        [ 1568]],\n",
            "\n",
            "       [[  709],\n",
            "        [12476],\n",
            "        [ 2195],\n",
            "        [ 2125],\n",
            "        [ 9255],\n",
            "        [ 2050],\n",
            "        [ 1568],\n",
            "        [ 4811],\n",
            "        [ 3513],\n",
            "        [  626]],\n",
            "\n",
            "       [[14723],\n",
            "        [ 2587],\n",
            "        [10401],\n",
            "        [14723],\n",
            "        [ 2587],\n",
            "        [14723],\n",
            "        [ 2064],\n",
            "        [14723],\n",
            "        [ 2587],\n",
            "        [13444]],\n",
            "\n",
            "       [[ 1286],\n",
            "        [10258],\n",
            "        [  829],\n",
            "        [10258],\n",
            "        [ 1286],\n",
            "        [10258],\n",
            "        [  546],\n",
            "        [10258],\n",
            "        [ 1286],\n",
            "        [  546]],\n",
            "\n",
            "       [[ 9406],\n",
            "        [ 2070],\n",
            "        [ 9380],\n",
            "        [ 1115],\n",
            "        [  278],\n",
            "        [ 8191],\n",
            "        [  511],\n",
            "        [  528],\n",
            "        [10124],\n",
            "        [  582]],\n",
            "\n",
            "       [[ 1706],\n",
            "        [  449],\n",
            "        [ 3643],\n",
            "        [ 2606],\n",
            "        [ 2408],\n",
            "        [ 3213],\n",
            "        [ 1988],\n",
            "        [   25],\n",
            "        [ 2329],\n",
            "        [ 4307]],\n",
            "\n",
            "       [[ 6985],\n",
            "        [ 2526],\n",
            "        [   69],\n",
            "        [ 1168],\n",
            "        [  982],\n",
            "        [  947],\n",
            "        [ 2971],\n",
            "        [  348],\n",
            "        [ 2176],\n",
            "        [   70]],\n",
            "\n",
            "       [[  902],\n",
            "        [  917],\n",
            "        [ 1234],\n",
            "        [ 8543],\n",
            "        [ 8294],\n",
            "        [  867],\n",
            "        [  618],\n",
            "        [ 1168],\n",
            "        [  902],\n",
            "        [  667]],\n",
            "\n",
            "       [[ 2163],\n",
            "        [12988],\n",
            "        [14186],\n",
            "        [11691],\n",
            "        [ 2161],\n",
            "        [ 3614],\n",
            "        [  522],\n",
            "        [10147],\n",
            "        [14136],\n",
            "        [ 2158]],\n",
            "\n",
            "       [[ 1986],\n",
            "        [ 2050],\n",
            "        [ 1568],\n",
            "        [ 8740],\n",
            "        [ 2221],\n",
            "        [12770],\n",
            "        [ 2177],\n",
            "        [ 1986],\n",
            "        [ 8757],\n",
            "        [ 1917]],\n",
            "\n",
            "       [[  871],\n",
            "        [  855],\n",
            "        [   29],\n",
            "        [ 3024],\n",
            "        [  718],\n",
            "        [  859],\n",
            "        [ 1192],\n",
            "        [ 1789],\n",
            "        [ 3025],\n",
            "        [  592]],\n",
            "\n",
            "       [[ 1660],\n",
            "        [ 2195],\n",
            "        [  590],\n",
            "        [  547],\n",
            "        [11243],\n",
            "        [ 2654],\n",
            "        [ 3769],\n",
            "        [  999],\n",
            "        [  703],\n",
            "        [ 6478]],\n",
            "\n",
            "       [[ 1251],\n",
            "        [   67],\n",
            "        [15295],\n",
            "        [  592],\n",
            "        [11551],\n",
            "        [15295],\n",
            "        [ 1208],\n",
            "        [  629],\n",
            "        [19822],\n",
            "        [  897]],\n",
            "\n",
            "       [[ 5219],\n",
            "        [   51],\n",
            "        [ 1219],\n",
            "        [ 5681],\n",
            "        [  519],\n",
            "        [ 5681],\n",
            "        [17511],\n",
            "        [ 1791],\n",
            "        [ 5846],\n",
            "        [ 1230]],\n",
            "\n",
            "       [[  843],\n",
            "        [ 9651],\n",
            "        [  214],\n",
            "        [  654],\n",
            "        [ 1369],\n",
            "        [ 2058],\n",
            "        [ 1574],\n",
            "        [ 3410],\n",
            "        [  885],\n",
            "        [    2]],\n",
            "\n",
            "       [[  326],\n",
            "        [  546],\n",
            "        [  347],\n",
            "        [  607],\n",
            "        [ 1512],\n",
            "        [ 1799],\n",
            "        [ 1018],\n",
            "        [  916],\n",
            "        [ 1799],\n",
            "        [ 1760]],\n",
            "\n",
            "       [[  846],\n",
            "        [  997],\n",
            "        [11551],\n",
            "        [  901],\n",
            "        [ 4116],\n",
            "        [   68],\n",
            "        [  836],\n",
            "        [ 1575],\n",
            "        [11551],\n",
            "        [12815]],\n",
            "\n",
            "       [[ 5555],\n",
            "        [ 4089],\n",
            "        [  243],\n",
            "        [ 6197],\n",
            "        [ 1362],\n",
            "        [ 2078],\n",
            "        [ 4147],\n",
            "        [ 4070],\n",
            "        [ 4147],\n",
            "        [   68]],\n",
            "\n",
            "       [[ 1498],\n",
            "        [ 1369],\n",
            "        [  837],\n",
            "        [ 2216],\n",
            "        [ 3984],\n",
            "        [  856],\n",
            "        [ 2228],\n",
            "        [ 2778],\n",
            "        [ 2408],\n",
            "        [ 1582]],\n",
            "\n",
            "       [[ 3566],\n",
            "        [  801],\n",
            "        [   73],\n",
            "        [   31],\n",
            "        [ 1247],\n",
            "        [  593],\n",
            "        [  801],\n",
            "        [ 1332],\n",
            "        [  695],\n",
            "        [   73]],\n",
            "\n",
            "       [[ 3521],\n",
            "        [ 1612],\n",
            "        [  827],\n",
            "        [  345],\n",
            "        [  707],\n",
            "        [ 1607],\n",
            "        [10754],\n",
            "        [ 8419],\n",
            "        [ 8758],\n",
            "        [ 8779]],\n",
            "\n",
            "       [[ 7746],\n",
            "        [10124],\n",
            "        [ 2317],\n",
            "        [  502],\n",
            "        [12508],\n",
            "        [ 7746],\n",
            "        [  528],\n",
            "        [ 1198],\n",
            "        [12508],\n",
            "        [ 1419]],\n",
            "\n",
            "       [[  829],\n",
            "        [12543],\n",
            "        [15122],\n",
            "        [   31],\n",
            "        [  866],\n",
            "        [ 1665],\n",
            "        [19875],\n",
            "        [ 1033],\n",
            "        [  847],\n",
            "        [  873]],\n",
            "\n",
            "       [[ 2754],\n",
            "        [   90],\n",
            "        [  709],\n",
            "        [ 1438],\n",
            "        [   90],\n",
            "        [ 1251],\n",
            "        [ 4326],\n",
            "        [  837],\n",
            "        [   90],\n",
            "        [ 1583]],\n",
            "\n",
            "       [[  538],\n",
            "        [ 1573],\n",
            "        [ 1988],\n",
            "        [  151],\n",
            "        [  232],\n",
            "        [ 8708],\n",
            "        [  208],\n",
            "        [  817],\n",
            "        [ 1115],\n",
            "        [   82]],\n",
            "\n",
            "       [[ 3176],\n",
            "        [11844],\n",
            "        [ 3176],\n",
            "        [11844],\n",
            "        [ 2920],\n",
            "        [ 2810],\n",
            "        [ 3174],\n",
            "        [   25],\n",
            "        [ 2898],\n",
            "        [ 2920]],\n",
            "\n",
            "       [[ 3246],\n",
            "        [  789],\n",
            "        [ 1582],\n",
            "        [ 3914],\n",
            "        [  618],\n",
            "        [  288],\n",
            "        [  208],\n",
            "        [ 1115],\n",
            "        [   44],\n",
            "        [  897]],\n",
            "\n",
            "       [[17777],\n",
            "        [ 1331],\n",
            "        [ 5880],\n",
            "        [ 3273],\n",
            "        [ 3223],\n",
            "        [ 7667],\n",
            "        [  472],\n",
            "        [ 3226],\n",
            "        [  528],\n",
            "        [ 1406]],\n",
            "\n",
            "       [[   12],\n",
            "        [ 1168],\n",
            "        [  967],\n",
            "        [  195],\n",
            "        [ 1403],\n",
            "        [  718],\n",
            "        [ 1383],\n",
            "        [ 3350],\n",
            "        [ 1270],\n",
            "        [ 6409]],\n",
            "\n",
            "       [[11367],\n",
            "        [  288],\n",
            "        [ 8418],\n",
            "        [16596],\n",
            "        [ 1786],\n",
            "        [ 4851],\n",
            "        [ 1268],\n",
            "        [ 1564],\n",
            "        [ 4469],\n",
            "        [ 2195]],\n",
            "\n",
            "       [[15063],\n",
            "        [ 1373],\n",
            "        [  838],\n",
            "        [ 2209],\n",
            "        [ 1006],\n",
            "        [ 1920],\n",
            "        [20330],\n",
            "        [ 1554],\n",
            "        [ 1647],\n",
            "        [ 3282]],\n",
            "\n",
            "       [[ 5963],\n",
            "        [ 2276],\n",
            "        [ 1549],\n",
            "        [ 1025],\n",
            "        [ 1237],\n",
            "        [ 3316],\n",
            "        [ 1067],\n",
            "        [ 1293],\n",
            "        [ 7453],\n",
            "        [ 1406]],\n",
            "\n",
            "       [[ 3223],\n",
            "        [ 3936],\n",
            "        [ 1286],\n",
            "        [ 3356],\n",
            "        [ 7577],\n",
            "        [ 2966],\n",
            "        [ 1436],\n",
            "        [  126],\n",
            "        [ 1760],\n",
            "        [ 1724]],\n",
            "\n",
            "       [[  859],\n",
            "        [ 1428],\n",
            "        [ 1251],\n",
            "        [ 1605],\n",
            "        [ 2714],\n",
            "        [ 5126],\n",
            "        [  949],\n",
            "        [  572],\n",
            "        [  573],\n",
            "        [ 1115]],\n",
            "\n",
            "       [[ 2920],\n",
            "        [ 4015],\n",
            "        [ 7212],\n",
            "        [ 4927],\n",
            "        [ 1233],\n",
            "        [ 3003],\n",
            "        [ 1652],\n",
            "        [ 1692],\n",
            "        [ 4523],\n",
            "        [  650]],\n",
            "\n",
            "       [[14934],\n",
            "        [ 1772],\n",
            "        [10094],\n",
            "        [18956],\n",
            "        [14616],\n",
            "        [18961],\n",
            "        [ 2795],\n",
            "        [18960],\n",
            "        [ 3158],\n",
            "        [ 1735]],\n",
            "\n",
            "       [[  273],\n",
            "        [ 6182],\n",
            "        [ 9772],\n",
            "        [13541],\n",
            "        [ 1870],\n",
            "        [ 2055],\n",
            "        [   76],\n",
            "        [  331],\n",
            "        [ 6650],\n",
            "        [11095]],\n",
            "\n",
            "       [[ 2189],\n",
            "        [ 1385],\n",
            "        [ 2189],\n",
            "        [15581],\n",
            "        [17253],\n",
            "        [ 1386],\n",
            "        [ 3366],\n",
            "        [ 1230],\n",
            "        [ 2966],\n",
            "        [ 1347]],\n",
            "\n",
            "       [[ 2472],\n",
            "        [16481],\n",
            "        [17003],\n",
            "        [  505],\n",
            "        [ 2472],\n",
            "        [16481],\n",
            "        [17003],\n",
            "        [  505],\n",
            "        [ 2472],\n",
            "        [16481]],\n",
            "\n",
            "       [[ 4061],\n",
            "        [ 2610],\n",
            "        [  157],\n",
            "        [  167],\n",
            "        [  393],\n",
            "        [ 2989],\n",
            "        [  245],\n",
            "        [ 2131],\n",
            "        [ 4292],\n",
            "        [ 9532]],\n",
            "\n",
            "       [[ 1400],\n",
            "        [ 7897],\n",
            "        [ 4383],\n",
            "        [   73],\n",
            "        [ 1223],\n",
            "        [ 2497],\n",
            "        [ 3376],\n",
            "        [ 3333],\n",
            "        [  348],\n",
            "        [ 7902]],\n",
            "\n",
            "       [[11649],\n",
            "        [ 4446],\n",
            "        [  158],\n",
            "        [   25],\n",
            "        [ 1192],\n",
            "        [  827],\n",
            "        [ 1905],\n",
            "        [  547],\n",
            "        [ 1905],\n",
            "        [ 1605]],\n",
            "\n",
            "       [[ 2891],\n",
            "        [  413],\n",
            "        [  431],\n",
            "        [  172],\n",
            "        [   16],\n",
            "        [  132],\n",
            "        [ 7638],\n",
            "        [ 3758],\n",
            "        [ 1428],\n",
            "        [   53]],\n",
            "\n",
            "       [[ 5007],\n",
            "        [ 4231],\n",
            "        [ 1237],\n",
            "        [ 4959],\n",
            "        [ 1436],\n",
            "        [  809],\n",
            "        [ 1369],\n",
            "        [ 3239],\n",
            "        [ 1968],\n",
            "        [ 8758]],\n",
            "\n",
            "       [[  234],\n",
            "        [ 7713],\n",
            "        [18129],\n",
            "        [  307],\n",
            "        [ 2176],\n",
            "        [  993],\n",
            "        [ 1187],\n",
            "        [ 1361],\n",
            "        [  234],\n",
            "        [ 3131]],\n",
            "\n",
            "       [[ 3616],\n",
            "        [  307],\n",
            "        [  637],\n",
            "        [ 3396],\n",
            "        [ 4032],\n",
            "        [ 4829],\n",
            "        [ 4764],\n",
            "        [  797],\n",
            "        [ 3236],\n",
            "        [ 4559]],\n",
            "\n",
            "       [[  610],\n",
            "        [ 3307],\n",
            "        [  610],\n",
            "        [ 3307],\n",
            "        [  610],\n",
            "        [ 3307],\n",
            "        [  610],\n",
            "        [ 3307],\n",
            "        [  610],\n",
            "        [ 3307]],\n",
            "\n",
            "       [[ 6031],\n",
            "        [ 8757],\n",
            "        [ 1986],\n",
            "        [ 2384],\n",
            "        [ 2211],\n",
            "        [18627],\n",
            "        [ 1986],\n",
            "        [ 2424],\n",
            "        [  597],\n",
            "        [ 1901]],\n",
            "\n",
            "       [[  718],\n",
            "        [  609],\n",
            "        [  744],\n",
            "        [  850],\n",
            "        [ 3087],\n",
            "        [  618],\n",
            "        [ 7250],\n",
            "        [ 1911],\n",
            "        [  512],\n",
            "        [   25]],\n",
            "\n",
            "       [[ 1375],\n",
            "        [ 3353],\n",
            "        [  856],\n",
            "        [ 5793],\n",
            "        [ 1439],\n",
            "        [ 5177],\n",
            "        [ 1253],\n",
            "        [ 1498],\n",
            "        [  620],\n",
            "        [ 1988]],\n",
            "\n",
            "       [[   17],\n",
            "        [  836],\n",
            "        [ 9970],\n",
            "        [10035],\n",
            "        [   76],\n",
            "        [ 2239],\n",
            "        [ 2704],\n",
            "        [ 5478],\n",
            "        [ 1053],\n",
            "        [  442]],\n",
            "\n",
            "       [[  610],\n",
            "        [ 1941],\n",
            "        [ 8380],\n",
            "        [ 6409],\n",
            "        [  559],\n",
            "        [  345],\n",
            "        [ 5963],\n",
            "        [ 1498],\n",
            "        [ 1168],\n",
            "        [  610]],\n",
            "\n",
            "       [[ 6661],\n",
            "        [ 4411],\n",
            "        [  203],\n",
            "        [   52],\n",
            "        [ 9531],\n",
            "        [   72],\n",
            "        [ 1028],\n",
            "        [ 2543],\n",
            "        [  176],\n",
            "        [ 4340]],\n",
            "\n",
            "       [[ 1688],\n",
            "        [ 4223],\n",
            "        [ 1233],\n",
            "        [ 7552],\n",
            "        [ 3775],\n",
            "        [ 1687],\n",
            "        [ 1369],\n",
            "        [ 1768],\n",
            "        [14850],\n",
            "        [  553]],\n",
            "\n",
            "       [[15781],\n",
            "        [ 1967],\n",
            "        [ 8412],\n",
            "        [10806],\n",
            "        [ 3283],\n",
            "        [ 1986],\n",
            "        [ 3283],\n",
            "        [13587],\n",
            "        [ 1986],\n",
            "        [ 8412]]]))\n"
          ],
          "name": "stdout"
        }
      ]
    },
    {
      "cell_type": "code",
      "metadata": {
        "colab": {
          "base_uri": "https://localhost:8080/"
        },
        "id": "3bbY6uYXkp-K",
        "outputId": "b7ce2734-8c94-4e98-ade8-e85678f437d6"
      },
      "source": [
        "max_sequence_train"
      ],
      "execution_count": 32,
      "outputs": [
        {
          "output_type": "execute_result",
          "data": {
            "text/plain": [
              "10"
            ]
          },
          "metadata": {
            "tags": []
          },
          "execution_count": 32
        }
      ]
    },
    {
      "cell_type": "markdown",
      "metadata": {
        "id": "SIRph-xaB1gJ"
      },
      "source": [
        "#Train/Predict"
      ]
    },
    {
      "cell_type": "markdown",
      "metadata": {
        "id": "z8DuypkTn0yZ"
      },
      "source": [
        "##Training model\n",
        "\n",
        "*   RETRIEVE=True for retrieving an existing model from the repo \n",
        "*   After each execution the model is saved on the repo\n",
        "\n"
      ]
    },
    {
      "cell_type": "code",
      "metadata": {
        "id": "2lP-T0UUyiMt"
      },
      "source": [
        "# paramètres\n",
        "from keras.regularizers import L1L2\n",
        "\n",
        "reco_file=\"LastFM_LSTM_dico_reco.csv\"\n",
        "LSTM_size=200\n",
        "epochs=20\n",
        "embedding_size=100\n",
        "dropout_lstm_value=0.2\n",
        "dropout_layer_value=0.0\n",
        "reg=L1L2(0.01,0.01)\n"
      ],
      "execution_count": 151,
      "outputs": []
    },
    {
      "cell_type": "code",
      "metadata": {
        "colab": {
          "base_uri": "https://localhost:8080/",
          "height": 1000
        },
        "id": "RBdv8lp6vLgD",
        "outputId": "f7f02ffa-9139-4980-9d47-1298da30efe7"
      },
      "source": [
        "import matplotlib.pyplot as plt\n",
        "from keras.models import load_model\n",
        "\n",
        "RETRIEVE=False\n",
        "\n",
        "# construction du modèle RNN\n",
        "\n",
        "if not RETRIEVE:\n",
        "\n",
        "  model=build_model(one_hot_space_size,max_sequence_train,r_reg=reg)\n",
        "  model.summary()\n",
        "\n",
        "  start=datetime.datetime.now()\n",
        "  print(\"start at :{}\".format(str(start)))\n",
        "\n",
        "  '''es=EarlyStopping(monitor='val_loss',mode='min', verbose=1,patience=10)     \n",
        "  plot_model(model, to_file='model_lstm.png')'''\n",
        "\n",
        "  history=model.fit_generator(generator=training_generator,validation_data=validation_generator,epochs=epochs,use_multiprocessing=False,verbose=2)\n",
        "      \n",
        "  stop=datetime.datetime.now()\n",
        "  print(\"elapsed time for training model: {}\".format(str(stop-start)))\n",
        "\n",
        "  # sauvegarde du modèle\n",
        "  model.save(my_path+'model_LSTM_'+str(LSTM_size)+'_shift_'+str(Shift)+'_lastFM_history_user_'+str(max_sequence_train)+'_index_start_1.h5')\n",
        "  print(history.history.keys())\n",
        "  # summarize history of accuracy\n",
        "  plt.plot(history.history['sparse_categorical_accuracy'])\n",
        "  plt.plot(history.history['val_sparse_categorical_accuracy'])\n",
        "  plt.title('model accuracy')\n",
        "  plt.ylabel('accuracy')\n",
        "  plt.xlabel('epoch')\n",
        "  plt.legend(['train', 'validation'], loc='upper left')\n",
        "  plt.show()\n",
        "  # summarize history for loss\n",
        "  plt.plot(history.history['loss'])\n",
        "  plt.plot(history.history['val_loss'])\n",
        "  plt.title('model loss')\n",
        "  plt.ylabel('loss')\n",
        "  plt.xlabel('epoch')\n",
        "  plt.legend(['train', 'validation'], loc='upper left')\n",
        "  plt.show()\n",
        "\n",
        "else:\n",
        "  model=load_model(my_path+'model_LSTM_'+str(LSTM_size)+'_shift_'+str(Shift)+'_lastFM_history_user_'+str(max_sequence_train)+'_index_start_1.h5')\n"
      ],
      "execution_count": 152,
      "outputs": [
        {
          "output_type": "stream",
          "text": [
            "(None, 10)\n",
            "embedding shape (None, 10, 100) and type <class 'tensorflow.python.keras.engine.keras_tensor.KerasTensor'> \n",
            "Model: \"model_3\"\n",
            "_________________________________________________________________\n",
            "Layer (type)                 Output Shape              Param #   \n",
            "=================================================================\n",
            "main_input (InputLayer)      [(None, 10)]              0         \n",
            "_________________________________________________________________\n",
            "my_embeddings (Embedding)    (None, 10, 100)           2036300   \n",
            "_________________________________________________________________\n",
            "my_LSTM (LSTM)               (None, 10, 200)           240800    \n",
            "_________________________________________________________________\n",
            "time_distributed_3 (TimeDist (None, 10, 20362)         4092762   \n",
            "=================================================================\n",
            "Total params: 6,369,862\n",
            "Trainable params: 6,369,862\n",
            "Non-trainable params: 0\n",
            "_________________________________________________________________\n",
            "start at :2021-04-16 08:47:31.598893\n",
            "Epoch 1/20\n"
          ],
          "name": "stdout"
        },
        {
          "output_type": "stream",
          "text": [
            "/usr/local/lib/python3.7/dist-packages/tensorflow/python/keras/engine/training.py:1844: UserWarning: `Model.fit_generator` is deprecated and will be removed in a future version. Please use `Model.fit`, which supports generators.\n",
            "  warnings.warn('`Model.fit_generator` is deprecated and '\n"
          ],
          "name": "stderr"
        },
        {
          "output_type": "stream",
          "text": [
            "448/448 - 21s - loss: 10.7986 - sparse_categorical_accuracy: 0.0221 - val_loss: 8.9149 - val_sparse_categorical_accuracy: 0.0222\n",
            "Epoch 2/20\n",
            "448/448 - 19s - loss: 8.8134 - sparse_categorical_accuracy: 0.0224 - val_loss: 8.7824 - val_sparse_categorical_accuracy: 0.0233\n",
            "Epoch 3/20\n",
            "448/448 - 19s - loss: 8.6837 - sparse_categorical_accuracy: 0.0226 - val_loss: 8.7059 - val_sparse_categorical_accuracy: 0.0228\n",
            "Epoch 4/20\n",
            "448/448 - 19s - loss: 8.5273 - sparse_categorical_accuracy: 0.0236 - val_loss: 8.5418 - val_sparse_categorical_accuracy: 0.0246\n",
            "Epoch 5/20\n",
            "448/448 - 19s - loss: 8.3693 - sparse_categorical_accuracy: 0.0262 - val_loss: 8.4200 - val_sparse_categorical_accuracy: 0.0279\n",
            "Epoch 6/20\n",
            "448/448 - 19s - loss: 8.2392 - sparse_categorical_accuracy: 0.0297 - val_loss: 8.3186 - val_sparse_categorical_accuracy: 0.0295\n",
            "Epoch 7/20\n",
            "448/448 - 19s - loss: 8.1420 - sparse_categorical_accuracy: 0.0320 - val_loss: 8.2705 - val_sparse_categorical_accuracy: 0.0304\n",
            "Epoch 8/20\n",
            "448/448 - 19s - loss: 8.0633 - sparse_categorical_accuracy: 0.0343 - val_loss: 8.2141 - val_sparse_categorical_accuracy: 0.0321\n",
            "Epoch 9/20\n",
            "448/448 - 19s - loss: 7.9950 - sparse_categorical_accuracy: 0.0364 - val_loss: 8.1706 - val_sparse_categorical_accuracy: 0.0341\n",
            "Epoch 10/20\n",
            "448/448 - 19s - loss: 7.9311 - sparse_categorical_accuracy: 0.0383 - val_loss: 8.1361 - val_sparse_categorical_accuracy: 0.0354\n",
            "Epoch 11/20\n",
            "448/448 - 19s - loss: 7.8730 - sparse_categorical_accuracy: 0.0402 - val_loss: 8.1018 - val_sparse_categorical_accuracy: 0.0373\n",
            "Epoch 12/20\n",
            "448/448 - 19s - loss: 7.8154 - sparse_categorical_accuracy: 0.0419 - val_loss: 8.0879 - val_sparse_categorical_accuracy: 0.0386\n",
            "Epoch 13/20\n",
            "448/448 - 19s - loss: 7.7601 - sparse_categorical_accuracy: 0.0440 - val_loss: 8.0767 - val_sparse_categorical_accuracy: 0.0398\n",
            "Epoch 14/20\n",
            "448/448 - 19s - loss: 7.7143 - sparse_categorical_accuracy: 0.0458 - val_loss: 8.0230 - val_sparse_categorical_accuracy: 0.0409\n",
            "Epoch 15/20\n",
            "448/448 - 19s - loss: 7.6676 - sparse_categorical_accuracy: 0.0470 - val_loss: 8.0035 - val_sparse_categorical_accuracy: 0.0408\n",
            "Epoch 16/20\n",
            "448/448 - 19s - loss: 7.6256 - sparse_categorical_accuracy: 0.0489 - val_loss: 7.9977 - val_sparse_categorical_accuracy: 0.0423\n",
            "Epoch 17/20\n",
            "448/448 - 19s - loss: 7.5902 - sparse_categorical_accuracy: 0.0505 - val_loss: 7.9778 - val_sparse_categorical_accuracy: 0.0433\n",
            "Epoch 18/20\n",
            "448/448 - 19s - loss: 7.5541 - sparse_categorical_accuracy: 0.0517 - val_loss: 7.9735 - val_sparse_categorical_accuracy: 0.0432\n",
            "Epoch 19/20\n",
            "448/448 - 19s - loss: 7.5186 - sparse_categorical_accuracy: 0.0537 - val_loss: 7.9692 - val_sparse_categorical_accuracy: 0.0448\n",
            "Epoch 20/20\n",
            "448/448 - 19s - loss: 7.4885 - sparse_categorical_accuracy: 0.0549 - val_loss: 7.9573 - val_sparse_categorical_accuracy: 0.0455\n",
            "elapsed time for training model: 0:06:24.568271\n",
            "dict_keys(['loss', 'sparse_categorical_accuracy', 'val_loss', 'val_sparse_categorical_accuracy'])\n"
          ],
          "name": "stdout"
        },
        {
          "output_type": "display_data",
          "data": {
            "image/png": "[encoded data removed]",
            "text/plain": [
              "<Figure size 432x288 with 1 Axes>"
            ]
          },
          "metadata": {
            "tags": [],
            "needs_background": "light"
          }
        },
        {
          "output_type": "display_data",
          "data": {
            "image/png": "[encoded data removed]",
            "text/plain": [
              "<Figure size 432x288 with 1 Axes>"
            ]
          },
          "metadata": {
            "tags": [],
            "needs_background": "light"
          }
        }
      ]
    },
    {
      "cell_type": "code",
      "metadata": {
        "colab": {
          "base_uri": "https://localhost:8080/",
          "height": 422
        },
        "id": "Qkf_ywoWP2eh",
        "outputId": "b0693002-c5d6-4468-c2a2-0541c664b5db"
      },
      "source": [
        "# affichage model\n",
        "dot_img_file = my_path+'model_LSTM_targetten'+str(LSTM_size)+'_shift_'+str(Shift)+'_lastFM_history_user_'+str(max_sequence_train)+'.png'\n",
        "tf.keras.utils.plot_model(model, to_file=dot_img_file, show_shapes=True)"
      ],
      "execution_count": 153,
      "outputs": [
        {
          "output_type": "execute_result",
          "data": {
            "image/png": "[encoded data removed]",
            "text/plain": [
              "<IPython.core.display.Image object>"
            ]
          },
          "metadata": {
            "tags": []
          },
          "execution_count": 153
        }
      ]
    },
    {
      "cell_type": "markdown",
      "metadata": {
        "id": "gFbiRR9prH9J"
      },
      "source": [
        "## init prediction"
      ]
    },
    {
      "cell_type": "code",
      "metadata": {
        "id": "zBk4XIM-CQXq"
      },
      "source": [
        "# echantillonnage\n",
        "sample_test_0=[user for user in data_test_topn_without_doublon.index if (user%10<10)]"
      ],
      "execution_count": 154,
      "outputs": []
    },
    {
      "cell_type": "markdown",
      "metadata": {
        "id": "YIgH-eI4osQ3"
      },
      "source": [
        "SHUFFLE_TEST allow to shuffle (True) or not (False) the input sequences which will be used for getting prediction"
      ]
    },
    {
      "cell_type": "code",
      "metadata": {
        "id": "kvKxjQH3Zfic"
      },
      "source": [
        "SHUFFLE_TEST=False"
      ],
      "execution_count": 155,
      "outputs": []
    },
    {
      "cell_type": "markdown",
      "metadata": {
        "id": "enA64UgTo46Q"
      },
      "source": [
        "##Prediction"
      ]
    },
    {
      "cell_type": "code",
      "metadata": {
        "colab": {
          "base_uri": "https://localhost:8080/"
        },
        "id": "qhLPSh4txv9A",
        "outputId": "37a9d37c-f929-409b-d14c-8bfce33642ae"
      },
      "source": [
        "len(sample_test_0)"
      ],
      "execution_count": 156,
      "outputs": [
        {
          "output_type": "execute_result",
          "data": {
            "text/plain": [
              "126559"
            ]
          },
          "metadata": {
            "tags": []
          },
          "execution_count": 156
        }
      ]
    },
    {
      "cell_type": "markdown",
      "metadata": {
        "id": "qC2O0ua3NNPt"
      },
      "source": [
        "Méthode itérative: on prend le dernier élément (vecteur) de la sequence de la LSTM (puiqu'on a appris à prédire des séquence avec un décalage de un) puis on l'insére dans une séquence en dernière position (qui a alors une taille de 11) et on en lève le première élemnt à gauche - et on itère jusqu'à obtenir une nouvelle liste de 10 éléments."
      ]
    },
    {
      "cell_type": "code",
      "metadata": {
        "colab": {
          "base_uri": "https://localhost:8080/"
        },
        "id": "dssJg5QI0UZl",
        "outputId": "48fabfeb-e8b9-429e-ef39-c6935a674e71"
      },
      "source": [
        "# prediction sur ensemble de test\n",
        "\n",
        "new_max_sequence_label=10\n",
        "\n",
        "couverture=[]\n",
        "\n",
        "count_user=0\n",
        "count_user_accepted=0\n",
        "dico_reco={}\n",
        "check_user=[]\n",
        "\n",
        "for userid in sample_test_0:\n",
        "  # history\n",
        "  # je ne retiens que les historiques qui ont 20 items\n",
        "  count_user+=1\n",
        "  if np.count_nonzero(data_test_topn_without_doublon.loc[userid])>THRESHOLD_HISTORY:\n",
        "    history_int=[song_topn_2_int[k] for k in data_test_topn_without_doublon.loc[userid]]\n",
        "    count_user_accepted+=1\n",
        "    check_user.append(userid)\n",
        "    seq_in=history_int[-(max_sequence_train+num_prediction):-num_prediction] # sous-seq de longueur max_sequence_train\n",
        "    if SHUFFLE_TEST:\n",
        "      np.random.shuffle(seq_in)\n",
        "    count_reco=0\n",
        "    x = sequence.pad_sequences([seq_in], maxlen=max_sequence_train)\n",
        "    prediction=model.predict(x)\n",
        "    #ipdb.set_trace()\n",
        "    prediction=prediction.reshape(prediction.shape[1],prediction.shape[2])\n",
        "    #take all the values \n",
        "    temp_list=history_int[:max_sequence_train]\n",
        "    for i in range(len(prediction)):\n",
        "      itemid=np.argmax(prediction[i])\n",
        "      while itemid in temp_list:\n",
        "        # find the next one\n",
        "        prediction[i][itemid]=0\n",
        "        itemid=np.argmax(prediction[i])            \n",
        "      temp_list.append(itemid)\n",
        "      couverture.append(itemid)\n",
        "      if userid in dico_reco:\n",
        "        dico_reco[userid].append(itemid)\n",
        "      else:\n",
        "        dico_reco[userid]=[itemid]\n",
        "  if count_user%1000 == 0 :\n",
        "    print(\" user {} traité, nb total de users traité: {}\".format(userid,count_user))\n",
        "couverture=np.unique(couverture)\n",
        "print(\"nb de user ayant une prediction\",len(dico_reco))\n",
        "print(\"nb de user pour lesquels une prediction est calculée\",count_user_accepted)\n",
        "print(\"nb de user pour lesquels on cherche une prediction\",count_user)\n",
        "print(\"nb de reco <>\",len(couverture))"
      ],
      "execution_count": 157,
      "outputs": [
        {
          "output_type": "stream",
          "text": [
            " user 999 traité, nb total de users traité: 1000\n",
            " user 1999 traité, nb total de users traité: 2000\n",
            " user 2999 traité, nb total de users traité: 3000\n",
            " user 3999 traité, nb total de users traité: 4000\n",
            " user 4999 traité, nb total de users traité: 5000\n",
            " user 5999 traité, nb total de users traité: 6000\n",
            " user 6999 traité, nb total de users traité: 7000\n",
            " user 7999 traité, nb total de users traité: 8000\n",
            " user 8999 traité, nb total de users traité: 9000\n",
            " user 9999 traité, nb total de users traité: 10000\n",
            " user 10999 traité, nb total de users traité: 11000\n",
            " user 11999 traité, nb total de users traité: 12000\n",
            " user 12999 traité, nb total de users traité: 13000\n",
            " user 13999 traité, nb total de users traité: 14000\n",
            " user 14999 traité, nb total de users traité: 15000\n",
            " user 15999 traité, nb total de users traité: 16000\n",
            " user 16999 traité, nb total de users traité: 17000\n",
            " user 17999 traité, nb total de users traité: 18000\n",
            " user 18999 traité, nb total de users traité: 19000\n",
            " user 19999 traité, nb total de users traité: 20000\n",
            " user 20999 traité, nb total de users traité: 21000\n",
            " user 21999 traité, nb total de users traité: 22000\n",
            " user 22999 traité, nb total de users traité: 23000\n",
            " user 23999 traité, nb total de users traité: 24000\n",
            " user 24999 traité, nb total de users traité: 25000\n",
            " user 25999 traité, nb total de users traité: 26000\n",
            " user 26999 traité, nb total de users traité: 27000\n",
            " user 27999 traité, nb total de users traité: 28000\n",
            " user 28999 traité, nb total de users traité: 29000\n",
            " user 29999 traité, nb total de users traité: 30000\n",
            " user 30999 traité, nb total de users traité: 31000\n",
            " user 31999 traité, nb total de users traité: 32000\n",
            " user 32999 traité, nb total de users traité: 33000\n",
            " user 33999 traité, nb total de users traité: 34000\n",
            " user 34999 traité, nb total de users traité: 35000\n",
            " user 35999 traité, nb total de users traité: 36000\n",
            " user 36999 traité, nb total de users traité: 37000\n",
            " user 37999 traité, nb total de users traité: 38000\n",
            " user 38999 traité, nb total de users traité: 39000\n",
            " user 39999 traité, nb total de users traité: 40000\n",
            " user 40999 traité, nb total de users traité: 41000\n",
            " user 41999 traité, nb total de users traité: 42000\n",
            " user 42999 traité, nb total de users traité: 43000\n",
            " user 43999 traité, nb total de users traité: 44000\n",
            " user 44999 traité, nb total de users traité: 45000\n",
            " user 45999 traité, nb total de users traité: 46000\n",
            " user 46999 traité, nb total de users traité: 47000\n",
            " user 47999 traité, nb total de users traité: 48000\n",
            " user 48999 traité, nb total de users traité: 49000\n",
            " user 49999 traité, nb total de users traité: 50000\n",
            " user 50999 traité, nb total de users traité: 51000\n",
            " user 51999 traité, nb total de users traité: 52000\n",
            " user 52999 traité, nb total de users traité: 53000\n",
            " user 53999 traité, nb total de users traité: 54000\n",
            " user 54999 traité, nb total de users traité: 55000\n",
            " user 55999 traité, nb total de users traité: 56000\n",
            " user 56999 traité, nb total de users traité: 57000\n",
            " user 57999 traité, nb total de users traité: 58000\n",
            " user 58999 traité, nb total de users traité: 59000\n",
            " user 59999 traité, nb total de users traité: 60000\n",
            " user 60999 traité, nb total de users traité: 61000\n",
            " user 61999 traité, nb total de users traité: 62000\n",
            " user 62999 traité, nb total de users traité: 63000\n",
            " user 63999 traité, nb total de users traité: 64000\n",
            " user 64999 traité, nb total de users traité: 65000\n",
            " user 65999 traité, nb total de users traité: 66000\n",
            " user 66999 traité, nb total de users traité: 67000\n",
            " user 67999 traité, nb total de users traité: 68000\n",
            " user 68999 traité, nb total de users traité: 69000\n",
            " user 69999 traité, nb total de users traité: 70000\n",
            " user 70999 traité, nb total de users traité: 71000\n",
            " user 71999 traité, nb total de users traité: 72000\n",
            " user 72999 traité, nb total de users traité: 73000\n",
            " user 73999 traité, nb total de users traité: 74000\n",
            " user 74999 traité, nb total de users traité: 75000\n",
            " user 75999 traité, nb total de users traité: 76000\n",
            " user 76999 traité, nb total de users traité: 77000\n",
            " user 77999 traité, nb total de users traité: 78000\n",
            " user 78999 traité, nb total de users traité: 79000\n",
            " user 79999 traité, nb total de users traité: 80000\n",
            " user 80999 traité, nb total de users traité: 81000\n",
            " user 81999 traité, nb total de users traité: 82000\n",
            " user 82999 traité, nb total de users traité: 83000\n",
            " user 83999 traité, nb total de users traité: 84000\n",
            " user 84999 traité, nb total de users traité: 85000\n",
            " user 85999 traité, nb total de users traité: 86000\n",
            " user 86999 traité, nb total de users traité: 87000\n",
            " user 87999 traité, nb total de users traité: 88000\n",
            " user 88999 traité, nb total de users traité: 89000\n",
            " user 89999 traité, nb total de users traité: 90000\n",
            " user 90999 traité, nb total de users traité: 91000\n",
            " user 91999 traité, nb total de users traité: 92000\n",
            " user 92999 traité, nb total de users traité: 93000\n",
            " user 93999 traité, nb total de users traité: 94000\n",
            " user 94999 traité, nb total de users traité: 95000\n",
            " user 95999 traité, nb total de users traité: 96000\n",
            " user 96999 traité, nb total de users traité: 97000\n",
            " user 97999 traité, nb total de users traité: 98000\n",
            " user 98999 traité, nb total de users traité: 99000\n",
            " user 99999 traité, nb total de users traité: 100000\n",
            " user 100999 traité, nb total de users traité: 101000\n",
            " user 101999 traité, nb total de users traité: 102000\n",
            " user 102999 traité, nb total de users traité: 103000\n",
            " user 103999 traité, nb total de users traité: 104000\n",
            " user 104999 traité, nb total de users traité: 105000\n",
            " user 105999 traité, nb total de users traité: 106000\n",
            " user 106999 traité, nb total de users traité: 107000\n",
            " user 107999 traité, nb total de users traité: 108000\n",
            " user 108999 traité, nb total de users traité: 109000\n",
            " user 109999 traité, nb total de users traité: 110000\n",
            " user 110999 traité, nb total de users traité: 111000\n",
            " user 111999 traité, nb total de users traité: 112000\n",
            " user 112999 traité, nb total de users traité: 113000\n",
            " user 113999 traité, nb total de users traité: 114000\n",
            " user 114999 traité, nb total de users traité: 115000\n",
            " user 115999 traité, nb total de users traité: 116000\n",
            " user 116999 traité, nb total de users traité: 117000\n",
            " user 117999 traité, nb total de users traité: 118000\n",
            " user 118999 traité, nb total de users traité: 119000\n",
            " user 119999 traité, nb total de users traité: 120000\n",
            " user 120999 traité, nb total de users traité: 121000\n",
            " user 121999 traité, nb total de users traité: 122000\n",
            " user 122999 traité, nb total de users traité: 123000\n",
            " user 123999 traité, nb total de users traité: 124000\n",
            " user 124999 traité, nb total de users traité: 125000\n",
            " user 125999 traité, nb total de users traité: 126000\n",
            "nb de user ayant une prediction 1504\n",
            "nb de user pour lesquels une prediction est calculée 1504\n",
            "nb de user pour lesquels on cherche une prediction 126559\n",
            "nb de reco <> 970\n"
          ],
          "name": "stdout"
        }
      ]
    },
    {
      "cell_type": "code",
      "metadata": {
        "colab": {
          "base_uri": "https://localhost:8080/"
        },
        "id": "qjtPBEUWQAxZ",
        "outputId": "680e83f4-6f3e-40e8-8562-b440e9c4813e"
      },
      "source": [
        "# calcul max_DCG\n",
        "import math\n",
        "def log2(x):\n",
        " return(math.log(x,2))\n",
        "max_DCG=0.\n",
        "for i in range(1,num_prediction+1):\n",
        "    max_DCG+=(2**(num_prediction+1-i)-1)/log2(i+1)\n",
        "print(\"max_DCG\",max_DCG)    "
      ],
      "execution_count": 158,
      "outputs": [
        {
          "output_type": "stream",
          "text": [
            "max_DCG 1571.4155855572703\n"
          ],
          "name": "stdout"
        }
      ]
    },
    {
      "cell_type": "code",
      "metadata": {
        "colab": {
          "base_uri": "https://localhost:8080/"
        },
        "id": "pTMcKC-ZQX75",
        "outputId": "bbfef1ae-e917-4b2c-ff65-74344e1bac19"
      },
      "source": [
        "# calcul de la précision, sur ensemble de test\n",
        "tab_AP=[]\n",
        "precision_at_k=0.\n",
        "MRR=0.\n",
        "DCG=0.\n",
        "max_DCG\n",
        "count=0  \n",
        "count_MRR=0 \n",
        "count_DCG=0\n",
        "average_DCG=0\n",
        "label_set=set({})\n",
        "new_max_sequence_label=10\n",
        "for user in sample_test_0:\n",
        "  if np.count_nonzero(data_test_topn_without_doublon.loc[user])>THRESHOLD_HISTORY:\n",
        "    # initialisation des variables\n",
        "    tab_P=[]\n",
        "    # calcul du nombre délement en commun rapporté à num_prediction (formule peut poser pb avec les répétition)\n",
        "    history_int=[song_topn_2_int[k] for k in data_test_topn_without_doublon.loc[user] if k!=0 ]\n",
        "    #print(\"history_int\",history_int)\n",
        "    label=history_int[-new_max_sequence_label:]  # on prend les max_sequence_label derniers...ceux d'avant ont été entré pour demander une prédiction\n",
        "    #print(label)\n",
        "    label_set.update(set(label))\n",
        "    #input('wait')\n",
        "    #retrieved_song_index=set(label)&set(dico_reco[user])\n",
        "    # car pas de doublon\n",
        "    retrieved_song=[x for x in dico_reco[user] if x in label]\n",
        "    # compactage pour ne pas compter les répétitions\n",
        "    retrieve_out_repet=[]\n",
        "    for x in retrieved_song:\n",
        "      if x not in retrieve_out_repet:\n",
        "        retrieve_out_repet.append(x)\n",
        "      else:\n",
        "        continue \n",
        "    retrieved_song=retrieve_out_repet    \n",
        "    #print(\"retrieved\",retrieved_song)\n",
        "    #ipdb.set_trace()\n",
        "\n",
        "    #precision@(num_prediction) \n",
        "    for song_index in retrieved_song:\n",
        "      precision_at_k+=min(label.count(song_index),dico_reco[user].count(song_index))\n",
        "      #print(\"precision\",precision_at_k)\n",
        "    count+=1\n",
        "    \n",
        "    #AP@k\n",
        "    # d'après https://medium.com/swlh/rank-aware-recsys-evaluation-metrics-5191bba16832\n",
        "    P=0.0\n",
        "    for rank in range(1,min(num_prediction,len(label))+1):\n",
        "        # calcul P@rank\n",
        "        #print(\" prediction for {}:{}\".format(user,dico_reco[user]))\n",
        "        #print(\"label\",label)\n",
        "        if dico_reco[user][rank-1] in label:\n",
        "            P+=1.0\n",
        "            AP_inter=P/rank\n",
        "            tab_P.append(AP_inter)\n",
        "            #print(\"P\",P)\n",
        "        else:\n",
        "            continue\n",
        "\n",
        "    if len(retrieved_song)!=0:\n",
        "        AP=sum(tab_P)/len(retrieved_song)\n",
        "    else:\n",
        "        AP=0\n",
        "    tab_AP.append(AP)  \n",
        "    \n",
        "    #MRR\n",
        "    # see https://medium.com/swlh/rank-aware-recsys-evaluation-metrics-5191bba16832\n",
        "    for song in dico_reco[user]:\n",
        "      if song in label:\n",
        "        MRR+=1.0/(dico_reco[user].index(song)+1)\n",
        "        count_MRR+=1\n",
        "        break\n",
        "      else:\n",
        "        continue  \n",
        "    \n",
        "    #NDCG  \n",
        "    DCG=0\n",
        "    for song in dico_reco[user]:\n",
        "      if song in label:\n",
        "        DCG+=(2**(num_prediction-label.index(song))-1)/log2(dico_reco[user].index(song)+2)\n",
        "      else:\n",
        "        continue\n",
        "    DCG/=max_DCG\n",
        "    average_DCG+=DCG    \n",
        "          \n",
        "    \n",
        "\n",
        "  else:\n",
        "    continue  \n",
        "print(count)\n",
        "print(\"precision\",precision_at_k)\n",
        " \n",
        "precision_at_k=float(precision_at_k)/float(count*num_prediction)\n",
        "MRR=float(MRR)/float(count)\n",
        "MAP=sum(tab_AP)/len(tab_AP)\n",
        "average_DCG=float(average_DCG)/float(count)\n",
        "\n",
        "print(\"nb d'items <> dans le label set : {}\".format(len(label_set)))\n",
        "print(\"precision at {} sur ensemble de train complet égale à {}\".format(num_prediction,precision_at_k))\n",
        "print(\"nommbre de user sur lequel la precision peut être calculé : {}\".format(count))\n",
        "print(\"MRR sur ensemble de train complet égale à {}\".format(MRR))\n",
        "print(\"nombre de user sur lesquel MRR peut être calculé : {}\".format(count_MRR))\n",
        "print(\"MAP sur ensemble de train complet égale à {}\".format(MAP))\n",
        "print(\"nommbre de user sur lequel MAP peut être calculé : {}\".format(len(tab_AP)))\n",
        "print(\"NDCG sur ensemble de train complet égale à {}\".format(average_DCG))\n",
        "print(\"nommbre d'item pour lequel DCG peut être calculé : {}\".format(count))\n",
        "print(\"couverture_ coverage: {}\".format(len(couverture)/len(label_set)))\n",
        "\n",
        "\n",
        "print(\"nombre de user pris en compte : {}\".format(count))"
      ],
      "execution_count": 159,
      "outputs": [
        {
          "output_type": "stream",
          "text": [
            "1504\n",
            "precision 1209.0\n",
            "nb d'items <> dans le label set : 4755\n",
            "precision at 10 sur ensemble de train complet égale à 0.08038563829787235\n",
            "nommbre de user sur lequel la precision peut être calculé : 1504\n",
            "MRR sur ensemble de train complet égale à 0.18845116725768293\n",
            "nombre de user sur lesquel MRR peut être calculé : 787\n",
            "MAP sur ensemble de train complet égale à 0.17740265376984096\n",
            "nommbre de user sur lequel MAP peut être calculé : 1504\n",
            "NDCG sur ensemble de train complet égale à 0.04701249595327905\n",
            "nommbre d'item pour lequel DCG peut être calculé : 1504\n",
            "couverture_ coverage: 0.20399579390115669\n",
            "nombre de user pris en compte : 1504\n"
          ],
          "name": "stdout"
        }
      ]
    },
    {
      "cell_type": "code",
      "metadata": {
        "id": "H1gE0af3cip8"
      },
      "source": [
        "average_measure['PREC'].append([SHUFFLE_TEST,round(precision_at_k,4)])\n",
        "average_measure['MAP'].append([SHUFFLE_TEST,round(MAP,4)])\n",
        "average_measure['MRR'].append([SHUFFLE_TEST,round(MRR,4)])\n",
        "average_measure['NDCG'].append([SHUFFLE_TEST,round(average_DCG,4)])\n",
        "average_measure['recall'].append([SHUFFLE_TEST,round(len(couverture)/len(label_set),4)])"
      ],
      "execution_count": 160,
      "outputs": []
    },
    {
      "cell_type": "code",
      "metadata": {
        "colab": {
          "base_uri": "https://localhost:8080/"
        },
        "id": "Ouw_mkRud1KR",
        "outputId": "fd1727a2-fdc6-42bd-cd94-dcdf7e74ea3c"
      },
      "source": [
        "average_measure"
      ],
      "execution_count": 161,
      "outputs": [
        {
          "output_type": "execute_result",
          "data": {
            "text/plain": [
              "{'MAP': [[False, 0.1874], [False, 0.1874], [True, 0.1284], [False, 0.1774]],\n",
              " 'MRR': [[False, 0.1962], [False, 0.1962], [True, 0.1347], [False, 0.1885]],\n",
              " 'NDCG': [[False, 0.0507], [False, 0.0507], [True, 0.0254], [False, 0.047]],\n",
              " 'PREC': [[False, 0.0814], [False, 0.0814], [True, 0.0349], [False, 0.0804]],\n",
              " 'recall': [[False, 0.2084], [False, 0.2084], [True, 0.028], [False, 0.204]]}"
            ]
          },
          "metadata": {
            "tags": []
          },
          "execution_count": 161
        }
      ]
    },
    {
      "cell_type": "markdown",
      "metadata": {
        "id": "V4voQAucn6qp"
      },
      "source": [
        "#Annexes"
      ]
    },
    {
      "cell_type": "markdown",
      "metadata": {
        "id": "8xffMBf-Q3Wi"
      },
      "source": [
        "##Store dico recommendation\n",
        "To be able to compare later two differents dict of recommendations (for instance shuffle and not shuffle)\n",
        "Hence should be executed one time and skipped the second one\n"
      ]
    },
    {
      "cell_type": "code",
      "metadata": {
        "id": "ctan6-5YsFAf"
      },
      "source": [
        "import copy\n",
        "dico_reco_sav=copy.deepcopy(dico_reco)"
      ],
      "execution_count": 93,
      "outputs": []
    },
    {
      "cell_type": "markdown",
      "metadata": {
        "id": "tcLd056SRiXu"
      },
      "source": [
        "##Overlap between shuffle and not shuffle\n"
      ]
    },
    {
      "cell_type": "code",
      "metadata": {
        "id": "ENSMxrIORzZG"
      },
      "source": [
        "tab_count=[]\n",
        "for user in dico_reco:\n",
        "  # all reco being uniques we can use set without losing information\n",
        "  tab_count.append(len(set(dico_reco[user])&(set(dico_reco_sav[user]))))\n",
        "\n",
        "overlap=np.average(tab_count)/num_prediction\n"
      ],
      "execution_count": 97,
      "outputs": []
    },
    {
      "cell_type": "code",
      "metadata": {
        "colab": {
          "base_uri": "https://localhost:8080/",
          "height": 357
        },
        "id": "0I_kAGZeWHiI",
        "outputId": "73aa1583-dad7-4d21-89af-c9b2cdfe76da"
      },
      "source": [
        "import matplotlib.pyplot as plt\n",
        "plt.hist(tab_count,11)"
      ],
      "execution_count": 98,
      "outputs": [
        {
          "output_type": "execute_result",
          "data": {
            "text/plain": [
              "(array([ 11.,  49., 129.,   0., 281., 366., 331.,   0., 252.,  76.,   9.]),\n",
              " array([ 2.        ,  2.72727273,  3.45454545,  4.18181818,  4.90909091,\n",
              "         5.63636364,  6.36363636,  7.09090909,  7.81818182,  8.54545455,\n",
              "         9.27272727, 10.        ]),\n",
              " <a list of 11 Patch objects>)"
            ]
          },
          "metadata": {
            "tags": []
          },
          "execution_count": 98
        },
        {
          "output_type": "display_data",
          "data": {
            "image/png": "[encoded data removed]",
            "text/plain": [
              "<Figure size 432x288 with 1 Axes>"
            ]
          },
          "metadata": {
            "tags": [],
            "needs_background": "light"
          }
        }
      ]
    },
    {
      "cell_type": "code",
      "metadata": {
        "colab": {
          "base_uri": "https://localhost:8080/"
        },
        "id": "JjhPbisxWkTn",
        "outputId": "90971158-ccf9-46e7-b01a-e2f2a6fd706e"
      },
      "source": [
        "print(\"overlap average\",np.average(tab_count))"
      ],
      "execution_count": 99,
      "outputs": [
        {
          "output_type": "stream",
          "text": [
            "overlap average 6.245345744680851\n"
          ],
          "name": "stdout"
        }
      ]
    },
    {
      "cell_type": "code",
      "metadata": {
        "id": "vUo5cuyKULa_"
      },
      "source": [
        "# True positiv among overlap, is it greater then the average ?\n",
        "tab_nb_TP=[]\n",
        "tab_nb_TP_no_shuffle=[]\n",
        "tab_nb_TP_shuffle=[]\n",
        "tab_nb_common=[]\n",
        "for user in dico_reco:\n",
        "  # all reco being uniques we can use set without losing information\n",
        "  label_test =[song_topn_2_int[k] for k in data_test_topn_without_doublon.loc[user] if k!=0 ][-(num_prediction):]\n",
        "  nb_TP=len(set(dico_reco[user])&set(dico_reco_sav[user])&set(label_test))\n",
        "  nb_TP_no_shuffle=len(set(dico_reco[user])&set(label_test))\n",
        "  nb_TP_shuffle=len(set(dico_reco_sav[user])&set(label_test))\n",
        "  nb_common=len(set(dico_reco_sav[user])&set(dico_reco[user]))\n",
        "  tab_nb_TP_shuffle.append(nb_TP_shuffle)\n",
        "  tab_nb_TP_no_shuffle.append(nb_TP_no_shuffle)\n",
        "  tab_nb_TP.append(nb_TP)\n",
        "  tab_nb_common.append(nb_common)"
      ],
      "execution_count": 100,
      "outputs": []
    },
    {
      "cell_type": "code",
      "metadata": {
        "colab": {
          "base_uri": "https://localhost:8080/"
        },
        "id": "4W2jeDSZVwBS",
        "outputId": "3b08a3b0-02f4-416c-d684-c8768001300a"
      },
      "source": [
        "np.average(tab_nb_TP)/num_prediction"
      ],
      "execution_count": 101,
      "outputs": [
        {
          "output_type": "execute_result",
          "data": {
            "text/plain": [
              "0.06323138297872341"
            ]
          },
          "metadata": {
            "tags": []
          },
          "execution_count": 101
        }
      ]
    },
    {
      "cell_type": "code",
      "metadata": {
        "colab": {
          "base_uri": "https://localhost:8080/"
        },
        "id": "-Yl9PopXn3o5",
        "outputId": "21c3ced4-664c-4263-a27a-9d91bf0bb5fa"
      },
      "source": [
        "print(len(dico_reco)*num_prediction,np.sum(tab_nb_TP), np.sum(tab_nb_TP_no_shuffle), np.sum(tab_nb_TP_shuffle), np.sum(tab_nb_common))"
      ],
      "execution_count": 102,
      "outputs": [
        {
          "output_type": "stream",
          "text": [
            "15040 951 1210 1238 9393\n"
          ],
          "name": "stdout"
        }
      ]
    },
    {
      "cell_type": "code",
      "metadata": {
        "colab": {
          "base_uri": "https://localhost:8080/"
        },
        "id": "dVQuGMn0klX5",
        "outputId": "b8f9c69e-8e8a-4f23-cd70-cd956e375b43"
      },
      "source": [
        "np.average(tab_nb_TP_no_shuffle)/num_prediction"
      ],
      "execution_count": 103,
      "outputs": [
        {
          "output_type": "execute_result",
          "data": {
            "text/plain": [
              "0.08045212765957446"
            ]
          },
          "metadata": {
            "tags": []
          },
          "execution_count": 103
        }
      ]
    },
    {
      "cell_type": "code",
      "metadata": {
        "colab": {
          "base_uri": "https://localhost:8080/"
        },
        "id": "daf_hnYelp1M",
        "outputId": "34a3fafc-9b5a-4ac0-d690-222d99a2e7f4"
      },
      "source": [
        "np.average(tab_nb_TP_shuffle)/num_prediction"
      ],
      "execution_count": 104,
      "outputs": [
        {
          "output_type": "execute_result",
          "data": {
            "text/plain": [
              "0.08231382978723403"
            ]
          },
          "metadata": {
            "tags": []
          },
          "execution_count": 104
        }
      ]
    },
    {
      "cell_type": "code",
      "metadata": {
        "colab": {
          "base_uri": "https://localhost:8080/"
        },
        "id": "O6bNb08flXXA",
        "outputId": "d3afc600-47f4-4537-9365-8a9955d1ab9e"
      },
      "source": [
        "np.average(tab_nb_common)/num_prediction"
      ],
      "execution_count": 105,
      "outputs": [
        {
          "output_type": "execute_result",
          "data": {
            "text/plain": [
              "0.624534574468085"
            ]
          },
          "metadata": {
            "tags": []
          },
          "execution_count": 105
        }
      ]
    },
    {
      "cell_type": "markdown",
      "metadata": {
        "id": "wZP9d_2iL3Ys"
      },
      "source": [
        "##Backup result"
      ]
    },
    {
      "cell_type": "code",
      "metadata": {
        "colab": {
          "base_uri": "https://localhost:8080/"
        },
        "id": "GJW9TLzYcBlf",
        "outputId": "ca3b45a5-077f-4c08-826a-3acc6cb65d24"
      },
      "source": [
        "import datetime\n",
        "str(datetime.datetime.now())\n",
        "print(count_user)"
      ],
      "execution_count": 69,
      "outputs": [
        {
          "output_type": "stream",
          "text": [
            "126559\n"
          ],
          "name": "stdout"
        }
      ]
    },
    {
      "cell_type": "code",
      "metadata": {
        "id": "3MZ4X9StaKPq"
      },
      "source": [
        "#stockage des résultats\n",
        "my_path_publication=\"/content/drive/MyDrive/ColabNotebooks/publication/publi_github/\"\n",
        "\n",
        "outfile=\"results.csv\"\n",
        "with open(my_path_publication+outfile, 'a') as f:\n",
        "  f.write(str(datetime.datetime.now())+'\\t'+str(data_select)+'\\t'+str(round(precision_at_k,5))+'\\t'+str(round(MRR,5))+'\\t'+str(round(MAP,5))+'\\t'+str(round(average_DCG,5))+\\\n",
        "          '\\t'+str(count_user)+'\\t'+str(max_sequence_train)+'\\t'+str(max_sequence_label)+'\\t'+str(THRESHOLD_ITEM)+'\\t'+str(THRESHOLD_HISTORY)+'\\t'+str(SHUFFLE_TEST)+\\\n",
        "          '\\t'+str(LSTM_size)+'\\t'+str(epochs)+'\\t'+str(embedding_size)+'\\t'+str(dropout_lstm_value)+'\\t'+str(dropout_layer_value)+'\\t'+str(reg)+\\\n",
        "          '\\t'+str(ratio_sampling_top)+'\\t'+str(num_prediction)+'\\t'+str(Shift)+'\\t'+str(batchsize)+'\\t'+'target_ten_lastFM_1k_LSTM_Embeddings_multilabel_session_dataset_filtered_item.ipynb'+'\\n')\n",
        "f.close()"
      ],
      "execution_count": 70,
      "outputs": []
    },
    {
      "cell_type": "markdown",
      "metadata": {
        "id": "9b6X-Jyao_Xi"
      },
      "source": [
        "##Inference"
      ]
    },
    {
      "cell_type": "code",
      "metadata": {
        "id": "h6_z_vLOVhNs"
      },
      "source": [
        "# Filtrage test pour les utilisateurs à historique > 20\n",
        "data_test_above_20=[]\n",
        "for i in data_test_topn_without_doublon.index:\n",
        "  #print(data_test.loc[i])\n",
        "  if np.count_nonzero(data_test_topn_without_doublon.loc[i])>THRESHOLD_HISTORY:\n",
        "    data_test_above_20.append(list(data_test_topn_without_doublon.loc[i]))\n",
        "  "
      ],
      "execution_count": 71,
      "outputs": []
    },
    {
      "cell_type": "code",
      "metadata": {
        "colab": {
          "base_uri": "https://localhost:8080/"
        },
        "id": "aHxYg0a7Qljt",
        "outputId": "e9feec19-b325-4a49-c47b-19bcd7a84e95"
      },
      "source": [
        "len(data_test_topn_without_doublon)"
      ],
      "execution_count": 72,
      "outputs": [
        {
          "output_type": "execute_result",
          "data": {
            "text/plain": [
              "126559"
            ]
          },
          "metadata": {
            "tags": []
          },
          "execution_count": 72
        }
      ]
    },
    {
      "cell_type": "code",
      "metadata": {
        "colab": {
          "base_uri": "https://localhost:8080/"
        },
        "id": "hTZpj49uUhAT",
        "outputId": "c5ed77ea-a1ab-4d21-e1e9-6547da0bfcb7"
      },
      "source": [
        "# inférence\n",
        "couverture=[]\n",
        "SHUFFLE_TEST=True\n",
        "dico_inf={}\n",
        "dico_inf_shuffle={}\n",
        "#user=np.random.choice(list(range(len(data_test_above_20))),1)[0]\n",
        "user=1154\n",
        "print(\"user\",user)\n",
        "history_int=[song_topn_2_int[k] for k in data_test_above_20[user] if k!=0]\n",
        "seq_in=history_int[-(max_sequence_train+num_prediction):-num_prediction] # sous-seq de longueur max_sequence_train\n",
        "print(\"seq_in int\", seq_in)\n",
        "if SHUFFLE_TEST:\n",
        "  np.random.shuffle(seq_in)\n",
        "print(\"seq_in int\", seq_in)\n",
        "\n",
        "x = sequence.pad_sequences([seq_in], maxlen=max_sequence_train)\n",
        "prediction=model.predict(x)\n",
        "#ipdb.set_trace()\n",
        "prediction=prediction.reshape(prediction.shape[1],prediction.shape[2])\n",
        "#take all the values \n",
        "temp_list=history_int[:max_sequence_train]\n",
        "for i in range(len(prediction)):\n",
        "  itemid=np.argmax(prediction[i])\n",
        "  while itemid in temp_list:\n",
        "    # find the next one\n",
        "    prediction[i][itemid]=0\n",
        "    itemid=np.argmax(prediction[i])            \n",
        "  temp_list.append(itemid)\n",
        "  couverture.append(itemid)\n",
        "\n",
        "if SHUFFLE:\n",
        "  dico_inf_shuffle[user]=couverture\n",
        "elif not SHUFFLE :\n",
        "  dico_inf[user]=couverture \n",
        "\n",
        "print(\"prediction\",couverture)\n",
        "label=label=history_int[-new_max_sequence_label:]\n",
        "print(\"label\",label)\n",
        "print(\"nb vrais positifs\",len(set(couverture)&set(label)))\n",
        "  "
      ],
      "execution_count": 74,
      "outputs": [
        {
          "output_type": "stream",
          "text": [
            "user 1154\n",
            "seq_in int [597, 13574, 1917, 9060, 20047, 442, 10780, 12476, 5979, 2343]\n",
            "seq_in int [442, 12476, 13574, 10780, 20047, 597, 9060, 5979, 2343, 1917]\n",
            "prediction [25, 524, 510, 3513, 703, 1568, 6031, 1563, 999, 1903]\n",
            "label [2245, 753, 546, 827, 2350, 711, 703, 20048, 1168, 14086]\n",
            "nb vrais positifs 1\n"
          ],
          "name": "stdout"
        }
      ]
    },
    {
      "cell_type": "markdown",
      "metadata": {
        "id": "1RZ31J6eTn5y"
      },
      "source": [
        "## Loss study\n",
        "*   Display Loss for validation\n"
      ]
    },
    {
      "cell_type": "code",
      "metadata": {
        "id": "31-hPrUeT_Ut"
      },
      "source": [
        "# étude du loss sur l'ensemble de validation\n",
        "# les labels sont fournis par le dictionnaire labels_valid\n",
        "# les predictions sont à construire\n",
        "from keras import utils\n",
        "tab_loss=[]\n",
        "tab_yhat=[]\n",
        "tab_ytrue=[]\n",
        "\n",
        "cce = tf.keras.losses.CategoricalCrossentropy()\n",
        "scce = tf.keras.losses.SparseCategoricalCrossentropy()\n",
        "for row in validation_generator:\n",
        "  for i in range(len(row[0])):\n",
        "    seq=sequence.pad_sequences([row[0][i]], maxlen=max_sequence_train)\n",
        "    y_hat=model.predict(seq)\n",
        "    y_true=row[1][i]\n",
        "    loss=scce(tf.convert_to_tensor(y_true),tf.convert_to_tensor(y_hat[0]))\n",
        "    tab_loss.append(keras.backend.eval(loss))\n",
        "    if i == 10:\n",
        "      break\n",
        "  break     \n"
      ],
      "execution_count": 75,
      "outputs": []
    },
    {
      "cell_type": "code",
      "metadata": {
        "id": "aI3MQeoLQZJV",
        "colab": {
          "base_uri": "https://localhost:8080/"
        },
        "outputId": "ac6ad883-0f5c-45e3-91a9-08d3c9ff1263"
      },
      "source": [
        "print(np.mean(tab_loss))"
      ],
      "execution_count": 76,
      "outputs": [
        {
          "output_type": "stream",
          "text": [
            "6.9905987\n"
          ],
          "name": "stdout"
        }
      ]
    },
    {
      "cell_type": "code",
      "metadata": {
        "id": "R-VOx3jm0CRN"
      },
      "source": [
        "# méthode plus rapide...\n",
        "tab_loss_log=[]\n",
        "tab_yhat=[]\n",
        "tab_ytrue=[]\n",
        "real_loss=0\n",
        "\n",
        "count=0\n",
        "for row in validation_generator:\n",
        "  for i in range(len(row[0])):\n",
        "    seq=sequence.pad_sequences([row[0][i]], maxlen=max_sequence_train)\n",
        "    y_hat=model.predict(seq)\n",
        "    y_true=row[1][i]\n",
        "    real_loss=0\n",
        "    for i in range(len(y_hat[0])):\n",
        "      real_loss+=-np.log(y_hat[0][i][y_true[i][0]])\n",
        "    tab_loss_log.append(real_loss/len(y_hat[0]))\n",
        "    count+=1\n",
        "    \n",
        "  if count%1000 == 0:\n",
        "    print(count)  \n",
        "    "
      ],
      "execution_count": 77,
      "outputs": []
    },
    {
      "cell_type": "code",
      "metadata": {
        "id": "4hVGJmQX5ELh",
        "colab": {
          "base_uri": "https://localhost:8080/",
          "height": 375
        },
        "outputId": "2b23b81d-00a2-4b08-b568-a600adcfd481"
      },
      "source": [
        "plt.hist(tab_loss_log)"
      ],
      "execution_count": 78,
      "outputs": [
        {
          "output_type": "execute_result",
          "data": {
            "text/plain": [
              "(array([  11.,   31.,  254.,  744., 1092.,  772.,  197.,   29.,    2.,\n",
              "           4.]),\n",
              " array([ 0.95745713,  2.34456513,  3.73167312,  5.11878112,  6.50588911,\n",
              "         7.89299711,  9.2801051 , 10.6672131 , 12.05432109, 13.44142909,\n",
              "        14.82853708]),\n",
              " <a list of 10 Patch objects>)"
            ]
          },
          "metadata": {
            "tags": []
          },
          "execution_count": 78
        },
        {
          "output_type": "display_data",
          "data": {
            "image/png": "[encoded data removed]",
            "text/plain": [
              "<Figure size 432x288 with 1 Axes>"
            ]
          },
          "metadata": {
            "tags": [],
            "needs_background": "light"
          }
        }
      ]
    },
    {
      "cell_type": "code",
      "metadata": {
        "id": "bcllHAbf6Vd2",
        "colab": {
          "base_uri": "https://localhost:8080/",
          "height": 394
        },
        "outputId": "bc643762-e2fc-4558-d4a8-418d79914b71"
      },
      "source": [
        "plt.hist(tab_loss_log,range=(1,13),bins=30)"
      ],
      "execution_count": 79,
      "outputs": [
        {
          "output_type": "execute_result",
          "data": {
            "text/plain": [
              "(array([  0.,   1.,   5.,   5.,   6.,   6.,  21.,  41.,  73., 105., 133.,\n",
              "        190., 232., 287., 313., 318., 330., 290., 255., 210., 114.,  80.,\n",
              "         55.,  26.,  19.,   8.,   6.,   0.,   1.,   1.]),\n",
              " array([ 1. ,  1.4,  1.8,  2.2,  2.6,  3. ,  3.4,  3.8,  4.2,  4.6,  5. ,\n",
              "         5.4,  5.8,  6.2,  6.6,  7. ,  7.4,  7.8,  8.2,  8.6,  9. ,  9.4,\n",
              "         9.8, 10.2, 10.6, 11. , 11.4, 11.8, 12.2, 12.6, 13. ]),\n",
              " <a list of 30 Patch objects>)"
            ]
          },
          "metadata": {
            "tags": []
          },
          "execution_count": 79
        },
        {
          "output_type": "display_data",
          "data": {
            "image/png": "[encoded data removed]",
            "text/plain": [
              "<Figure size 432x288 with 1 Axes>"
            ]
          },
          "metadata": {
            "tags": [],
            "needs_background": "light"
          }
        }
      ]
    },
    {
      "cell_type": "code",
      "metadata": {
        "id": "8Ou4xJWl5WWC",
        "colab": {
          "base_uri": "https://localhost:8080/"
        },
        "outputId": "b71d79ff-f32c-4036-bc0b-4efb7a1ca175"
      },
      "source": [
        "from scipy import stats\n",
        "stats.describe(tab_loss_log)"
      ],
      "execution_count": 80,
      "outputs": [
        {
          "output_type": "execute_result",
          "data": {
            "text/plain": [
              "DescribeResult(nobs=3136, minmax=(0.9574571311473846, 14.828537082672119), mean=7.154973681615571, variance=2.3768140811043494, skewness=-0.018034870782197756, kurtosis=0.5802364308510333)"
            ]
          },
          "metadata": {
            "tags": []
          },
          "execution_count": 80
        }
      ]
    },
    {
      "cell_type": "code",
      "metadata": {
        "id": "Gccf6fh282FW",
        "colab": {
          "base_uri": "https://localhost:8080/"
        },
        "outputId": "27721172-7cf0-4a26-a057-4a0c1e755b61"
      },
      "source": [
        "# moyenne loss par batch\n",
        "tab_loss_log_mean=[]\n",
        "nb_batch=int(len(tab_loss_log)/batchsize)\n",
        "for i in range(nb_batch):\n",
        "  tab_loss_log_mean.append(np.average(tab_loss_log[i*batchsize:(i+1)*batchsize]))\n",
        "len(tab_loss_log_mean)"
      ],
      "execution_count": 81,
      "outputs": [
        {
          "output_type": "execute_result",
          "data": {
            "text/plain": [
              "49"
            ]
          },
          "metadata": {
            "tags": []
          },
          "execution_count": 81
        }
      ]
    },
    {
      "cell_type": "code",
      "metadata": {
        "id": "1-sjRUecBZ-E",
        "colab": {
          "base_uri": "https://localhost:8080/"
        },
        "outputId": "9aeeab01-8ea1-4f64-8183-a590d9d48bae"
      },
      "source": [
        "stats.describe(tab_loss_log_mean)"
      ],
      "execution_count": 82,
      "outputs": [
        {
          "output_type": "execute_result",
          "data": {
            "text/plain": [
              "DescribeResult(nobs=49, minmax=(6.6582063706591725, 7.563535487093031), mean=7.154973681615569, variance=0.037378812789284906, skewness=-0.1461663464076509, kurtosis=-0.009242836101524876)"
            ]
          },
          "metadata": {
            "tags": []
          },
          "execution_count": 82
        }
      ]
    },
    {
      "cell_type": "code",
      "metadata": {
        "id": "40L0_HimBSl2",
        "colab": {
          "base_uri": "https://localhost:8080/",
          "height": 357
        },
        "outputId": "de22ce8e-8a71-47b3-d0aa-61e2fcdce1e2"
      },
      "source": [
        "plt.hist(tab_loss_log_mean)"
      ],
      "execution_count": 83,
      "outputs": [
        {
          "output_type": "execute_result",
          "data": {
            "text/plain": [
              "(array([ 1.,  2.,  1.,  7., 11.,  7.,  8.,  6.,  3.,  3.]),\n",
              " array([6.65820637, 6.74873928, 6.83927219, 6.92980511, 7.02033802,\n",
              "        7.11087093, 7.20140384, 7.29193675, 7.38246966, 7.47300258,\n",
              "        7.56353549]),\n",
              " <a list of 10 Patch objects>)"
            ]
          },
          "metadata": {
            "tags": []
          },
          "execution_count": 83
        },
        {
          "output_type": "display_data",
          "data": {
            "image/png": "[encoded data removed]",
            "text/plain": [
              "<Figure size 432x288 with 1 Axes>"
            ]
          },
          "metadata": {
            "tags": [],
            "needs_background": "light"
          }
        }
      ]
    },
    {
      "cell_type": "markdown",
      "metadata": {
        "id": "OXts3PP234uC"
      },
      "source": [
        "## sandbox for categorical cross entropy trials"
      ]
    },
    {
      "cell_type": "code",
      "metadata": {
        "id": "-yCs7quwctQr",
        "colab": {
          "base_uri": "https://localhost:8080/"
        },
        "outputId": "478cb604-2ffd-4d09-a62d-ac920d646f72"
      },
      "source": [
        "loss = scce(\n",
        "  tf.convert_to_tensor([0, 1, 2]),\n",
        "  tf.convert_to_tensor([[.9, .05, .05], [.5, .89, .6], [.05, .01, .94]]))\n",
        "print('Loss: ', K.get_value(loss))  # Loss: 0.3239\n",
        "loss = cce(\n",
        "  tf.convert_to_tensor([[1,0,0],[0,1,0],[0,0,1]]),\n",
        "  tf.convert_to_tensor([[.9, .05, .05], [.5, .89, .6], [.05, .01, .94]]))\n",
        "print('Loss: ', K.get_value(loss))  # Loss: 0.3239"
      ],
      "execution_count": 88,
      "outputs": [
        {
          "output_type": "stream",
          "text": [
            "Loss:  0.32396817\n",
            "Loss:  0.32396814\n"
          ],
          "name": "stdout"
        }
      ]
    },
    {
      "cell_type": "code",
      "metadata": {
        "id": "HJA0J28x9R8G",
        "colab": {
          "base_uri": "https://localhost:8080/"
        },
        "outputId": "adc2091d-14ad-434c-b387-f87517720835"
      },
      "source": [
        "import keras.backend as K\n",
        "\n",
        "test_cce = tf.keras.losses.CategoricalCrossentropy()\n",
        "test_scce = tf.keras.losses.SparseCategoricalCrossentropy()\n",
        "tab_labels=[0,1,2,3,4,5,6,7,8,9]\n",
        "y_true=[0,0,0,1,0,0,0,0,0,0]\n",
        "y_true_sparse=[3]\n",
        "\n",
        "y_hat=[0.22,0.01,0.01,0.7,0.01,0.01,0.01,0.01,0.01,0.01]\n",
        "K.eval(test_cce(y_true,y_hat))\n",
        "K.eval(test_scce(tf.convert_to_tensor(y_true_sparse),tf.convert_to_tensor(y_hat)))\n"
      ],
      "execution_count": 89,
      "outputs": [
        {
          "output_type": "execute_result",
          "data": {
            "text/plain": [
              "0.35667497"
            ]
          },
          "metadata": {
            "tags": []
          },
          "execution_count": 89
        }
      ]
    },
    {
      "cell_type": "code",
      "metadata": {
        "id": "NSpxU2hOPEMp",
        "colab": {
          "base_uri": "https://localhost:8080/"
        },
        "outputId": "3b9c32c1-4b39-45b2-a401-ee66f70a6aed"
      },
      "source": [
        "from sklearn.metrics import log_loss\n",
        "log_loss(y_true_sparse,[y_hat], labels=tab_labels)"
      ],
      "execution_count": 90,
      "outputs": [
        {
          "output_type": "execute_result",
          "data": {
            "text/plain": [
              "0.35667494393873245"
            ]
          },
          "metadata": {
            "tags": []
          },
          "execution_count": 90
        }
      ]
    },
    {
      "cell_type": "code",
      "metadata": {
        "id": "6PpWQF-soGph",
        "colab": {
          "base_uri": "https://localhost:8080/",
          "height": 0
        },
        "outputId": "81678177-cfa3-4ab4-996e-ab89d7ff557d"
      },
      "source": [
        "from IPython.display import Javascript\n",
        "Javascript(\"Jupyter.notebook.execute_cells([48])\")"
      ],
      "execution_count": 91,
      "outputs": [
        {
          "output_type": "execute_result",
          "data": {
            "application/javascript": [
              "Jupyter.notebook.execute_cells([48])"
            ],
            "text/plain": [
              "<IPython.core.display.Javascript object>"
            ]
          },
          "metadata": {
            "tags": []
          },
          "execution_count": 91
        }
      ]
    },
    {
      "cell_type": "code",
      "metadata": {
        "id": "hBucjjHDVl81"
      },
      "source": [
        ""
      ],
      "execution_count": 91,
      "outputs": []
    }
  ]
}