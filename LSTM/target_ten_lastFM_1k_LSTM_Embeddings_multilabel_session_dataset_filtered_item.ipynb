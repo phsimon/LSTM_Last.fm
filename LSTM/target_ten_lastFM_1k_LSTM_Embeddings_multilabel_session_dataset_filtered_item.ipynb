{
  "nbformat": 4,
  "nbformat_minor": 0,
  "metadata": {
    "accelerator": "GPU",
    "colab": {
      "name": "Copie de Filtered_target_ten_lastFM_1k_LSTM_Embeddings_multilabel_session_dataset_filtered_item.ipynb",
      "provenance": [],
      "collapsed_sections": [
        "TJTk-duFnbEI",
        "YHQKS0CUnisR",
        "wg10qxmNiEAh",
        "SIRph-xaB1gJ",
        "z8DuypkTn0yZ"
      ],
      "toc_visible": true,
      "machine_shape": "hm",
      "mount_file_id": "1bjSiJaGrN_rmfh8zeRoOaqHGl4OeTOg6",
      "authorship_tag": "ABX9TyOeivNm3lbI7MetzvqdlQkN",
      "include_colab_link": true
    },
    "kernelspec": {
      "display_name": "Python 3",
      "name": "python3"
    }
  },
  "cells": [
    {
      "cell_type": "markdown",
      "metadata": {
        "id": "view-in-github",
        "colab_type": "text"
      },
      "source": [
        "<a href=\"https://colab.research.google.com/github/phsimon/LSTM_Last.fm/blob/main/LSTM/target_ten_lastFM_1k_LSTM_Embeddings_multilabel_session_dataset_filtered_item.ipynb\" target=\"_parent\"><img src=\"https://colab.research.google.com/assets/colab-badge.svg\" alt=\"Open In Colab\"/></a>"
      ]
    },
    {
      "cell_type": "markdown",
      "metadata": {
        "id": "yDvd3gYerZUY"
      },
      "source": [
        "This notebook provides a recommender engine and use lastFM 1k  dataset (a filtered and sampled one)\n",
        "The Recurrent model is built as follow:\n",
        "\n",
        "\n",
        "*  Input Layer: a sequence (len = max_sequence_train) of songid representing the history of the user\n",
        "\n",
        "*   Embedding Layer: this layer expand each songid in a higher dimension (embedding size) - now each song of the sequence is represented by a vector of floats\n",
        "*   Recurrent Layer: this layer process the embedding layer to product a sequence of vector (size: the number of unit of the recurrent layer). We can stack many reccurent layer. as it is reccurent layer, for one sequence, the \"n\" output take into account the \"n-1\" output. As we want to have only one vector in output, we set \"return_sequence=False.\n",
        "\n",
        "*   (Dense) Layer : this layer outputs a vecteur whom size is the size of the catalog. \"Softmax\" is used to identify the highest value and output the index. so that with Softmax, this layer output a prediction\n",
        "\n",
        "\n"
      ]
    },
    {
      "cell_type": "markdown",
      "metadata": {
        "id": "TJTk-duFnbEI"
      },
      "source": [
        "#Initialization and model definition"
      ]
    },
    {
      "cell_type": "code",
      "metadata": {
        "colab": {
          "base_uri": "https://localhost:8080/"
        },
        "id": "grgOYa6qPAFJ",
        "outputId": "8525f722-0a35-4eaf-97ff-19960d1d1362"
      },
      "source": [
        "#%tensorflow_version 1.x\n",
        "import tensorflow\n",
        "print(tensorflow.__version__)"
      ],
      "execution_count": null,
      "outputs": [
        {
          "output_type": "stream",
          "text": [
            "2.4.1\n"
          ],
          "name": "stdout"
        }
      ]
    },
    {
      "cell_type": "code",
      "metadata": {
        "colab": {
          "base_uri": "https://localhost:8080/"
        },
        "id": "1PDBW49uu_iN",
        "outputId": "c376c2d9-de98-4416-e18d-5535113f561d"
      },
      "source": [
        "import keras\n",
        "print(keras.__version__)"
      ],
      "execution_count": null,
      "outputs": [
        {
          "output_type": "stream",
          "text": [
            "2.4.3\n"
          ],
          "name": "stdout"
        }
      ]
    },
    {
      "cell_type": "code",
      "metadata": {
        "id": "QG5t54cNcwbs"
      },
      "source": [
        "#init dico for saving results\n",
        "average_measure={}\n",
        "average_measure['PREC'],average_measure['MAP'], average_measure['MRR'],average_measure['NDCG'],average_measure['recall'] =[],[],[],[],[]"
      ],
      "execution_count": null,
      "outputs": []
    },
    {
      "cell_type": "code",
      "metadata": {
        "id": "ASlLPyqjAr39"
      },
      "source": [
        "# paramètres\n",
        "batchsize=64\n",
        "Shift=10\n",
        "max_sequence_label=10\n",
        "max_sequence_train=10\n",
        "num_prediction=10\n",
        "THRESHOLD_HISTORY=2*max_sequence_train-1\n",
        "THRESHOLD_ITEM=19\n",
        "outlier_excluded=0\n",
        "ratio_sampling_top=1"
      ],
      "execution_count": null,
      "outputs": []
    },
    {
      "cell_type": "code",
      "metadata": {
        "id": "bOnXhcj6XlqC"
      },
      "source": [
        "# function and procedure\n",
        "import datetime\n",
        "from time import time\n",
        "from keras.layers import Input, Dense, Dropout, TimeDistributed, Attention\n",
        "from keras.utils import np_utils, plot_model,Sequence\n",
        "from keras.models import Model\n",
        "from keras.layers import Embedding\n",
        "from keras.layers import Flatten, Reshape, Permute\n",
        "from keras import optimizers\n",
        "from keras.callbacks import EarlyStopping\n",
        "from keras.models import Sequential\n",
        "from keras.layers import Dense, LSTM, GRU,SimpleRNN,ConvLSTM2D\n",
        "from keras.callbacks import EarlyStopping,TensorBoard\n",
        "import tensorflow as tf\n",
        "import keras.backend as K\n",
        "\n",
        "import numpy as np\n",
        " \n",
        "def custom_precision(y_true,y_pred):\n",
        "    z=tf.cast(y_true,tf.int64)\n",
        "    index_prediction=tf.nn.top_k(y_pred,k=num_prediction)\n",
        "    index_target=tf.nn.top_k(z,k=num_prediction)\n",
        "    true_positive=tf.sets.intersection(index_prediction.indices,index_target.indices)\n",
        "    precision=tf.count_nonzero(true_positive.values)\n",
        "    precision_summary=tf.cast(precision,tf.float32)\n",
        "    return precision_summary/(num_prediction*batchsize)\n",
        "\n",
        "def build_model(one_hot_size,sequence_size,k_reg=None,b_reg=None,r_reg=None,o_reg=None):\n",
        "    '''\n",
        "    '''\n",
        "    main_input=Input(shape=(sequence_size,),dtype='float32',name='main_input')\n",
        "    print(main_input.shape)\n",
        "    # This embedding layer will encode the input sequence\n",
        "    b = Embedding(output_dim=embedding_size, input_dim=one_hot_size+1,name='my_embeddings')(main_input)\n",
        "    print(\"embedding shape {} and type {} \".format(b.shape,type(b)))\n",
        "    #b= Attention(name='attention_weight')([b,b])\n",
        "    c=LSTM(LSTM_size,dropout=dropout_lstm_value,name='my_LSTM', kernel_regularizer=None, bias_regularizer=None,activity_regularizer=None, recurrent_regularizer=r_reg, return_sequences=True)(b)\n",
        "    #c=LSTM(LSTM_size,dropout=dropout_lstm_value,name='my_LSTM_2', kernel_regularizer=None, bias_regularizer=None,activity_regularizer=None, recurrent_regularizer=r_reg, return_sequences=True)(c)\n",
        "    #d=Dense(one_hot_size,activation='softmax')(c)\n",
        "    d=TimeDistributed(Dense(one_hot_size,activation='softmax'))(c)\n",
        "   \n",
        "    model=Model(inputs=main_input, outputs=d)\n",
        "    #model.compile(optimizer='rmsprop', loss=\"binary_crossentropy\", metrics=['binary_accuracy',custom_precision])\n",
        "    model.compile(optimizer='rmsprop', loss=\"sparse_categorical_crossentropy\", metrics=['sparse_categorical_accuracy'])\n",
        "    return model\n",
        "\n",
        "\n",
        "def LastFM_vectorize_sequence(sequence,dimension,liste_item_sorted):\n",
        "    '''\n",
        "        :param: sequences : list liste d'ids de films\n",
        "        :param: dimension : int nombre de films possible (taille du vocabulaire)\n",
        "        :param: liste_item_sorted: liste des itemids triés par ordre croissant\n",
        "        :return:results liste de taille dimension (contentant des 1 au rang d'un film vu)\n",
        "    '''\n",
        "    result=np.zeros((dimension,1))\n",
        "    \n",
        "    # on ordonne la sequence\n",
        "    # en fait ce n'est pas utile\n",
        "    # sequence.sort()\n",
        "    for StockCode in sequence:\n",
        "        result[liste_item_sorted.index(StockCode)]=1    \n",
        "    return result   \n",
        "\n",
        "def LastFM_normalize_liste(vector,norme=1.0):\n",
        "    '''\n",
        "        :param: vector : list liste de 0 avec des 1 à chaque fois qu'un film a été vu\n",
        "        :param: norme : int valeur max de la somme des valeurs du vecteur après normalisation\n",
        "        :return:results liste normalisée (avec des quotients à la place des 1 dès qu'il y en a plus de un, de manière à ce que la somme fasse 1 )\n",
        "    '''\n",
        "    len_vector=len(vector)\n",
        "    for i in range(len_vector):\n",
        "        vector[i]/=float(norme)/float(len_vector)    \n",
        "    return vector   \n",
        "\n",
        "class DataGenerator(Sequence):\n",
        "    'Generates data for Keras'\n",
        "    def __init__(self, data_source, list_IDs, labels, batch_size=batchsize, dim_train=(max_sequence_train,), dim_label=(max_sequence_label,),n_channels=1,\n",
        "                 n_classes=0, shuffle=True):\n",
        "        'Initialization'\n",
        "        self.data_source=data_source\n",
        "        self.dim_train = dim_train\n",
        "        self.dim_test=dim_label\n",
        "        self.batch_size = batch_size\n",
        "        self.labels = labels\n",
        "        self.list_IDs = list_IDs\n",
        "        self.n_channels = n_channels\n",
        "        self.n_classes = n_classes\n",
        "        self.shuffle = shuffle\n",
        "        self.on_epoch_end()\n",
        "\n",
        "    def __len__(self):\n",
        "        'Denotes the number of batches per epoch'\n",
        "        #print(\"number of users per epoch \\n\",len(self.list_IDs))\n",
        "        return int(np.floor(len(self.list_IDs) / self.batch_size))\n",
        "\n",
        "    def __getitem__(self, index):\n",
        "        'Generate one batch of data'\n",
        "        # Generate indexes of the batch\n",
        "        indexes = self.indexes[index*self.batch_size:(index+1)*self.batch_size]\n",
        "\n",
        "        # Find list of IDs\n",
        "        list_IDs_temp = [self.list_IDs[k] for k in indexes]\n",
        "\n",
        "        # Generate data\n",
        "        X, y = self.__data_generation(list_IDs_temp)\n",
        "\n",
        "        return X, y\n",
        "\n",
        "    def on_epoch_end(self):\n",
        "        'Updates indexes after each epoch'\n",
        "        self.indexes = np.arange(len(self.list_IDs))\n",
        "        if self.shuffle == True:\n",
        "            np.random.shuffle(self.indexes)\n",
        "\n",
        "    def __data_generation(self, list_IDs_temp):\n",
        "        'Generates data containing batch_size samples' # X : (n_samples, *dim, n_channels)\n",
        "        # Initialization\n",
        "        X = np.zeros((self.batch_size, self.dim_train),dtype=int)\n",
        "        if max_sequence_label>1:\n",
        "          y = np.zeros((self.batch_size, self.dim_test,1), dtype=int)\n",
        "        else:\n",
        "          y = np.zeros((self.batch_size, self.dim_test), dtype=int)  \n",
        "        # Generate data\n",
        "        #print(\"X shape\",X.shape)\n",
        "        for i, ID in enumerate(list_IDs_temp):\n",
        "            # Store sample\n",
        "            X[i,] = self.data_source[ID]\n",
        "            \n",
        "            # Store class\n",
        "            if max_sequence_label > 1:\n",
        "              generated_label=np.reshape(self.labels[ID],(max_sequence_label,1))\n",
        "            else:\n",
        "              generated_label=np.reshape(self.labels[ID],(max_sequence_label,))  \n",
        "            y[i] = generated_label\n",
        " \n",
        "        return X, y\n",
        "\n"
      ],
      "execution_count": null,
      "outputs": []
    },
    {
      "cell_type": "code",
      "metadata": {
        "id": "wRBWREMPbYKp"
      },
      "source": [
        "import pandas as pd"
      ],
      "execution_count": null,
      "outputs": []
    },
    {
      "cell_type": "code",
      "metadata": {
        "id": "mIEqRCHIcPWF"
      },
      "source": [
        ""
      ],
      "execution_count": null,
      "outputs": []
    },
    {
      "cell_type": "code",
      "metadata": {
        "cellView": "form",
        "id": "aniC_KakcQC_"
      },
      "source": [
        "#@title Choose if you want to rely on sampled dataset or no...\n",
        "\n",
        "Sample = \"False\" #@param [\"True\", \"False\"] {allow-input: true}\n"
      ],
      "execution_count": null,
      "outputs": []
    },
    {
      "cell_type": "code",
      "metadata": {
        "id": "b1y4YyvVckTU"
      },
      "source": [
        "SAMPLED=Sample"
      ],
      "execution_count": null,
      "outputs": []
    },
    {
      "cell_type": "code",
      "metadata": {
        "id": "GO0pMktgb5s4"
      },
      "source": [
        "SAMPLED=False\n",
        "'''my_path=\"/content/drive/My Drive/ColabNotebooks/publication/LastFM-1k - Sample - 5.5k Items/\"\n",
        "\n",
        "testfile=\"lfm1k_tracks_sequences_test_sample_0p07.csv\"\n",
        "trainfile=\"lfm1k_tracks_sequences_train_sample_0p07.csv\"\n",
        "validationfile=\"lfm1k_tracks_sequences_valid_sample_0p07.csv\"'''\n",
        "\n",
        "if SAMPLED:\n",
        "  my_path=\"/content/drive/My Drive/ColabNotebooks/publication/Bioman-Paper/LastFM-1k-Session-Based/Sample Data/\"\n",
        "\n",
        "  testfile=\"lastfm-1k_session-based_records_test_sample.csv\"\n",
        "  trainfile=\"lastfm-1k_session-based_records_train_sample.csv\"\n",
        "else:\n",
        "  my_path=\"/content/drive/My Drive/ColabNotebooks/publication/Bioman-Paper/LastFM-1k-Session-Based/Whole Data/\"\n",
        "\n",
        "  testfile=\"lastfm-1k_session-based_records_test.csv\"\n",
        "  trainfile=\"lastfm-1k_session-based_records_train.csv\"\n",
        "\n"
      ],
      "execution_count": null,
      "outputs": []
    },
    {
      "cell_type": "code",
      "metadata": {
        "id": "N8-Uhuk6boau"
      },
      "source": [
        "# lecture des fichiers \n",
        "data_train=pd.read_csv(my_path+trainfile,header=0,dtype='int32')\n",
        "data_test=pd.read_csv(my_path+testfile,header=0,dtype='int32')\n"
      ],
      "execution_count": null,
      "outputs": []
    },
    {
      "cell_type": "code",
      "metadata": {
        "id": "hmuoS7_zmMVl"
      },
      "source": [
        "# echantillonage pour accélerer les test\n",
        "data_train=data_train.sample(frac=ratio_sampling_top, replace=False, random_state=1)"
      ],
      "execution_count": null,
      "outputs": []
    },
    {
      "cell_type": "code",
      "metadata": {
        "colab": {
          "base_uri": "https://localhost:8080/"
        },
        "id": "a9M-Fv6r5Hj8",
        "outputId": "a4053ca9-5a3d-43c9-b954-9b65c1228fbf"
      },
      "source": [
        "len(data_train)"
      ],
      "execution_count": null,
      "outputs": [
        {
          "output_type": "execute_result",
          "data": {
            "text/plain": [
              "504215"
            ]
          },
          "metadata": {
            "tags": []
          },
          "execution_count": 129
        }
      ]
    },
    {
      "cell_type": "code",
      "metadata": {
        "colab": {
          "base_uri": "https://localhost:8080/"
        },
        "id": "TCjYSzMOcssg",
        "outputId": "fb2fa3c0-3ffc-4570-92c6-7dddc31c3ffe"
      },
      "source": [
        "nb_user,nb_ligne=data_test.shape\n",
        "print(nb_user,nb_ligne)"
      ],
      "execution_count": null,
      "outputs": [
        {
          "output_type": "stream",
          "text": [
            "126559 20\n"
          ],
          "name": "stdout"
        }
      ]
    },
    {
      "cell_type": "markdown",
      "metadata": {
        "id": "YHQKS0CUnisR"
      },
      "source": [
        "#Dataset building"
      ]
    },
    {
      "cell_type": "code",
      "metadata": {
        "colab": {
          "base_uri": "https://localhost:8080/",
          "height": 398
        },
        "id": "ZH-Tkrs5hs9O",
        "outputId": "5a64d64e-7988-4bf0-9455-c2bb08d8c491"
      },
      "source": [
        "# Building the item set\n",
        "liste_item_1=[]\n",
        "liste_item_2=[]\n",
        "for user in data_train.index:\n",
        "  liste_item_1.append(data_train.loc[user])\n",
        "for user in data_test.index:\n",
        "  liste_item_1.append(data_test.loc[user])\n",
        "for x in liste_item_1:\n",
        "  for y in x:\n",
        "    liste_item_2.append(y)\n",
        "\n",
        "print(len(liste_item_2))\n"
      ],
      "execution_count": null,
      "outputs": [
        {
          "output_type": "error",
          "ename": "KeyboardInterrupt",
          "evalue": "ignored",
          "traceback": [
            "\u001b[0;31m---------------------------------------------------------------------------\u001b[0m",
            "\u001b[0;31mKeyboardInterrupt\u001b[0m                         Traceback (most recent call last)",
            "\u001b[0;32m<ipython-input-14-fa3c42617e00>\u001b[0m in \u001b[0;36m<module>\u001b[0;34m()\u001b[0m\n\u001b[1;32m      3\u001b[0m \u001b[0mliste_item_2\u001b[0m\u001b[0;34m=\u001b[0m\u001b[0;34m[\u001b[0m\u001b[0;34m]\u001b[0m\u001b[0;34m\u001b[0m\u001b[0;34m\u001b[0m\u001b[0m\n\u001b[1;32m      4\u001b[0m \u001b[0;32mfor\u001b[0m \u001b[0muser\u001b[0m \u001b[0;32min\u001b[0m \u001b[0mdata_train\u001b[0m\u001b[0;34m.\u001b[0m\u001b[0mindex\u001b[0m\u001b[0;34m:\u001b[0m\u001b[0;34m\u001b[0m\u001b[0;34m\u001b[0m\u001b[0m\n\u001b[0;32m----> 5\u001b[0;31m   \u001b[0mliste_item_1\u001b[0m\u001b[0;34m.\u001b[0m\u001b[0mappend\u001b[0m\u001b[0;34m(\u001b[0m\u001b[0mdata_train\u001b[0m\u001b[0;34m.\u001b[0m\u001b[0mloc\u001b[0m\u001b[0;34m[\u001b[0m\u001b[0muser\u001b[0m\u001b[0;34m]\u001b[0m\u001b[0;34m)\u001b[0m\u001b[0;34m\u001b[0m\u001b[0;34m\u001b[0m\u001b[0m\n\u001b[0m\u001b[1;32m      6\u001b[0m \u001b[0;32mfor\u001b[0m \u001b[0muser\u001b[0m \u001b[0;32min\u001b[0m \u001b[0mdata_test\u001b[0m\u001b[0;34m.\u001b[0m\u001b[0mindex\u001b[0m\u001b[0;34m:\u001b[0m\u001b[0;34m\u001b[0m\u001b[0;34m\u001b[0m\u001b[0m\n\u001b[1;32m      7\u001b[0m   \u001b[0mliste_item_1\u001b[0m\u001b[0;34m.\u001b[0m\u001b[0mappend\u001b[0m\u001b[0;34m(\u001b[0m\u001b[0mdata_test\u001b[0m\u001b[0;34m.\u001b[0m\u001b[0mloc\u001b[0m\u001b[0;34m[\u001b[0m\u001b[0muser\u001b[0m\u001b[0;34m]\u001b[0m\u001b[0;34m)\u001b[0m\u001b[0;34m\u001b[0m\u001b[0;34m\u001b[0m\u001b[0m\n",
            "\u001b[0;32m/usr/local/lib/python3.7/dist-packages/pandas/core/indexing.py\u001b[0m in \u001b[0;36m__getitem__\u001b[0;34m(self, key)\u001b[0m\n\u001b[1;32m    877\u001b[0m \u001b[0;34m\u001b[0m\u001b[0m\n\u001b[1;32m    878\u001b[0m             \u001b[0mmaybe_callable\u001b[0m \u001b[0;34m=\u001b[0m \u001b[0mcom\u001b[0m\u001b[0;34m.\u001b[0m\u001b[0mapply_if_callable\u001b[0m\u001b[0;34m(\u001b[0m\u001b[0mkey\u001b[0m\u001b[0;34m,\u001b[0m \u001b[0mself\u001b[0m\u001b[0;34m.\u001b[0m\u001b[0mobj\u001b[0m\u001b[0;34m)\u001b[0m\u001b[0;34m\u001b[0m\u001b[0;34m\u001b[0m\u001b[0m\n\u001b[0;32m--> 879\u001b[0;31m             \u001b[0;32mreturn\u001b[0m \u001b[0mself\u001b[0m\u001b[0;34m.\u001b[0m\u001b[0m_getitem_axis\u001b[0m\u001b[0;34m(\u001b[0m\u001b[0mmaybe_callable\u001b[0m\u001b[0;34m,\u001b[0m \u001b[0maxis\u001b[0m\u001b[0;34m=\u001b[0m\u001b[0maxis\u001b[0m\u001b[0;34m)\u001b[0m\u001b[0;34m\u001b[0m\u001b[0;34m\u001b[0m\u001b[0m\n\u001b[0m\u001b[1;32m    880\u001b[0m \u001b[0;34m\u001b[0m\u001b[0m\n\u001b[1;32m    881\u001b[0m     \u001b[0;32mdef\u001b[0m \u001b[0m_is_scalar_access\u001b[0m\u001b[0;34m(\u001b[0m\u001b[0mself\u001b[0m\u001b[0;34m,\u001b[0m \u001b[0mkey\u001b[0m\u001b[0;34m:\u001b[0m \u001b[0mTuple\u001b[0m\u001b[0;34m)\u001b[0m\u001b[0;34m:\u001b[0m\u001b[0;34m\u001b[0m\u001b[0;34m\u001b[0m\u001b[0m\n",
            "\u001b[0;32m/usr/local/lib/python3.7/dist-packages/pandas/core/indexing.py\u001b[0m in \u001b[0;36m_getitem_axis\u001b[0;34m(self, key, axis)\u001b[0m\n\u001b[1;32m   1108\u001b[0m         \u001b[0;31m# fall thru to straight lookup\u001b[0m\u001b[0;34m\u001b[0m\u001b[0;34m\u001b[0m\u001b[0;34m\u001b[0m\u001b[0m\n\u001b[1;32m   1109\u001b[0m         \u001b[0mself\u001b[0m\u001b[0;34m.\u001b[0m\u001b[0m_validate_key\u001b[0m\u001b[0;34m(\u001b[0m\u001b[0mkey\u001b[0m\u001b[0;34m,\u001b[0m \u001b[0maxis\u001b[0m\u001b[0;34m)\u001b[0m\u001b[0;34m\u001b[0m\u001b[0;34m\u001b[0m\u001b[0m\n\u001b[0;32m-> 1110\u001b[0;31m         \u001b[0;32mreturn\u001b[0m \u001b[0mself\u001b[0m\u001b[0;34m.\u001b[0m\u001b[0m_get_label\u001b[0m\u001b[0;34m(\u001b[0m\u001b[0mkey\u001b[0m\u001b[0;34m,\u001b[0m \u001b[0maxis\u001b[0m\u001b[0;34m=\u001b[0m\u001b[0maxis\u001b[0m\u001b[0;34m)\u001b[0m\u001b[0;34m\u001b[0m\u001b[0;34m\u001b[0m\u001b[0m\n\u001b[0m\u001b[1;32m   1111\u001b[0m \u001b[0;34m\u001b[0m\u001b[0m\n\u001b[1;32m   1112\u001b[0m     \u001b[0;32mdef\u001b[0m \u001b[0m_get_slice_axis\u001b[0m\u001b[0;34m(\u001b[0m\u001b[0mself\u001b[0m\u001b[0;34m,\u001b[0m \u001b[0mslice_obj\u001b[0m\u001b[0;34m:\u001b[0m \u001b[0mslice\u001b[0m\u001b[0;34m,\u001b[0m \u001b[0maxis\u001b[0m\u001b[0;34m:\u001b[0m \u001b[0mint\u001b[0m\u001b[0;34m)\u001b[0m\u001b[0;34m:\u001b[0m\u001b[0;34m\u001b[0m\u001b[0;34m\u001b[0m\u001b[0m\n",
            "\u001b[0;32m/usr/local/lib/python3.7/dist-packages/pandas/core/indexing.py\u001b[0m in \u001b[0;36m_get_label\u001b[0;34m(self, label, axis)\u001b[0m\n\u001b[1;32m   1057\u001b[0m     \u001b[0;32mdef\u001b[0m \u001b[0m_get_label\u001b[0m\u001b[0;34m(\u001b[0m\u001b[0mself\u001b[0m\u001b[0;34m,\u001b[0m \u001b[0mlabel\u001b[0m\u001b[0;34m,\u001b[0m \u001b[0maxis\u001b[0m\u001b[0;34m:\u001b[0m \u001b[0mint\u001b[0m\u001b[0;34m)\u001b[0m\u001b[0;34m:\u001b[0m\u001b[0;34m\u001b[0m\u001b[0;34m\u001b[0m\u001b[0m\n\u001b[1;32m   1058\u001b[0m         \u001b[0;31m# GH#5667 this will fail if the label is not present in the axis.\u001b[0m\u001b[0;34m\u001b[0m\u001b[0;34m\u001b[0m\u001b[0;34m\u001b[0m\u001b[0m\n\u001b[0;32m-> 1059\u001b[0;31m         \u001b[0;32mreturn\u001b[0m \u001b[0mself\u001b[0m\u001b[0;34m.\u001b[0m\u001b[0mobj\u001b[0m\u001b[0;34m.\u001b[0m\u001b[0mxs\u001b[0m\u001b[0;34m(\u001b[0m\u001b[0mlabel\u001b[0m\u001b[0;34m,\u001b[0m \u001b[0maxis\u001b[0m\u001b[0;34m=\u001b[0m\u001b[0maxis\u001b[0m\u001b[0;34m)\u001b[0m\u001b[0;34m\u001b[0m\u001b[0;34m\u001b[0m\u001b[0m\n\u001b[0m\u001b[1;32m   1060\u001b[0m \u001b[0;34m\u001b[0m\u001b[0m\n\u001b[1;32m   1061\u001b[0m     \u001b[0;32mdef\u001b[0m \u001b[0m_handle_lowerdim_multi_index_axis0\u001b[0m\u001b[0;34m(\u001b[0m\u001b[0mself\u001b[0m\u001b[0;34m,\u001b[0m \u001b[0mtup\u001b[0m\u001b[0;34m:\u001b[0m \u001b[0mTuple\u001b[0m\u001b[0;34m)\u001b[0m\u001b[0;34m:\u001b[0m\u001b[0;34m\u001b[0m\u001b[0;34m\u001b[0m\u001b[0m\n",
            "\u001b[0;32m/usr/local/lib/python3.7/dist-packages/pandas/core/generic.py\u001b[0m in \u001b[0;36mxs\u001b[0;34m(self, key, axis, level, drop_level)\u001b[0m\n\u001b[1;32m   3505\u001b[0m         \u001b[0;32mif\u001b[0m \u001b[0mis_scalar\u001b[0m\u001b[0;34m(\u001b[0m\u001b[0mloc\u001b[0m\u001b[0;34m)\u001b[0m\u001b[0;34m:\u001b[0m\u001b[0;34m\u001b[0m\u001b[0;34m\u001b[0m\u001b[0m\n\u001b[1;32m   3506\u001b[0m             \u001b[0;31m# In this case loc should be an integer\u001b[0m\u001b[0;34m\u001b[0m\u001b[0;34m\u001b[0m\u001b[0;34m\u001b[0m\u001b[0m\n\u001b[0;32m-> 3507\u001b[0;31m             \u001b[0;32mif\u001b[0m \u001b[0mself\u001b[0m\u001b[0;34m.\u001b[0m\u001b[0mndim\u001b[0m \u001b[0;34m==\u001b[0m \u001b[0;36m1\u001b[0m\u001b[0;34m:\u001b[0m\u001b[0;34m\u001b[0m\u001b[0;34m\u001b[0m\u001b[0m\n\u001b[0m\u001b[1;32m   3508\u001b[0m                 \u001b[0;31m# if we encounter an array-like and we only have 1 dim\u001b[0m\u001b[0;34m\u001b[0m\u001b[0;34m\u001b[0m\u001b[0;34m\u001b[0m\u001b[0m\n\u001b[1;32m   3509\u001b[0m                 \u001b[0;31m# that means that their are list/ndarrays inside the Series!\u001b[0m\u001b[0;34m\u001b[0m\u001b[0;34m\u001b[0m\u001b[0;34m\u001b[0m\u001b[0m\n",
            "\u001b[0;32m/usr/local/lib/python3.7/dist-packages/pandas/core/generic.py\u001b[0m in \u001b[0;36mndim\u001b[0;34m(self)\u001b[0m\n\u001b[1;32m    490\u001b[0m         \u001b[0;36m2\u001b[0m\u001b[0;34m\u001b[0m\u001b[0;34m\u001b[0m\u001b[0m\n\u001b[1;32m    491\u001b[0m         \"\"\"\n\u001b[0;32m--> 492\u001b[0;31m         \u001b[0;32mreturn\u001b[0m \u001b[0mself\u001b[0m\u001b[0;34m.\u001b[0m\u001b[0m_mgr\u001b[0m\u001b[0;34m.\u001b[0m\u001b[0mndim\u001b[0m\u001b[0;34m\u001b[0m\u001b[0;34m\u001b[0m\u001b[0m\n\u001b[0m\u001b[1;32m    493\u001b[0m \u001b[0;34m\u001b[0m\u001b[0m\n\u001b[1;32m    494\u001b[0m     \u001b[0;34m@\u001b[0m\u001b[0mproperty\u001b[0m\u001b[0;34m\u001b[0m\u001b[0;34m\u001b[0m\u001b[0m\n",
            "\u001b[0;32m/usr/local/lib/python3.7/dist-packages/pandas/core/internals/managers.py\u001b[0m in \u001b[0;36mndim\u001b[0;34m(self)\u001b[0m\n\u001b[1;32m    214\u001b[0m         \u001b[0;32mreturn\u001b[0m \u001b[0mtuple\u001b[0m\u001b[0;34m(\u001b[0m\u001b[0mlen\u001b[0m\u001b[0;34m(\u001b[0m\u001b[0max\u001b[0m\u001b[0;34m)\u001b[0m \u001b[0;32mfor\u001b[0m \u001b[0max\u001b[0m \u001b[0;32min\u001b[0m \u001b[0mself\u001b[0m\u001b[0;34m.\u001b[0m\u001b[0maxes\u001b[0m\u001b[0;34m)\u001b[0m\u001b[0;34m\u001b[0m\u001b[0;34m\u001b[0m\u001b[0m\n\u001b[1;32m    215\u001b[0m \u001b[0;34m\u001b[0m\u001b[0m\n\u001b[0;32m--> 216\u001b[0;31m     \u001b[0;34m@\u001b[0m\u001b[0mproperty\u001b[0m\u001b[0;34m\u001b[0m\u001b[0;34m\u001b[0m\u001b[0m\n\u001b[0m\u001b[1;32m    217\u001b[0m     \u001b[0;32mdef\u001b[0m \u001b[0mndim\u001b[0m\u001b[0;34m(\u001b[0m\u001b[0mself\u001b[0m\u001b[0;34m)\u001b[0m \u001b[0;34m->\u001b[0m \u001b[0mint\u001b[0m\u001b[0;34m:\u001b[0m\u001b[0;34m\u001b[0m\u001b[0;34m\u001b[0m\u001b[0m\n\u001b[1;32m    218\u001b[0m         \u001b[0;32mreturn\u001b[0m \u001b[0mlen\u001b[0m\u001b[0;34m(\u001b[0m\u001b[0mself\u001b[0m\u001b[0;34m.\u001b[0m\u001b[0maxes\u001b[0m\u001b[0;34m)\u001b[0m\u001b[0;34m\u001b[0m\u001b[0;34m\u001b[0m\u001b[0m\n",
            "\u001b[0;31mKeyboardInterrupt\u001b[0m: "
          ]
        }
      ]
    },
    {
      "cell_type": "code",
      "metadata": {
        "id": "qGXjnnpx_s-v"
      },
      "source": [
        "len(np.unique(liste_item_2))"
      ],
      "execution_count": null,
      "outputs": []
    },
    {
      "cell_type": "code",
      "metadata": {
        "id": "24g1U72rtABR"
      },
      "source": [
        "import matplotlib.pyplot as plt\n",
        "#plt.hist(liste_item_2,range=(1,20000),bins=1000)\n",
        "plt.hist(liste_item_2,bins=30)\n"
      ],
      "execution_count": null,
      "outputs": []
    },
    {
      "cell_type": "code",
      "metadata": {
        "id": "9TMuibhuvWs7"
      },
      "source": [
        "from collections import Counter\n",
        "ma_liste=Counter(liste_item_2).most_common()\n",
        "ma_liste=ma_liste[1:] # on ne prend pas zero...\n",
        "top1000=[x[0] for x in ma_liste if x[1] > THRESHOLD_ITEM]\n",
        "histo_top1000=[x[1] for x in ma_liste]"
      ],
      "execution_count": null,
      "outputs": []
    },
    {
      "cell_type": "code",
      "metadata": {
        "id": "_Tb0K4DsDBIz"
      },
      "source": [
        "len(top1000)"
      ],
      "execution_count": null,
      "outputs": []
    },
    {
      "cell_type": "code",
      "metadata": {
        "id": "ro6tlSuQJMl8"
      },
      "source": [
        "plt.plot(histo_top1000[1:100],'.')\n"
      ],
      "execution_count": null,
      "outputs": []
    },
    {
      "cell_type": "code",
      "metadata": {
        "id": "Np8J6YqZoOHl"
      },
      "source": [
        "top1000_tri=sorted(list(set(top1000)))"
      ],
      "execution_count": null,
      "outputs": []
    },
    {
      "cell_type": "code",
      "metadata": {
        "id": "q8SDLVisD4OK"
      },
      "source": [
        "ma_liste[:10]"
      ],
      "execution_count": null,
      "outputs": []
    },
    {
      "cell_type": "code",
      "metadata": {
        "id": "lQ1W1Qc9742C"
      },
      "source": [
        "# filter dataset to retain only top1000 item in data_train\n",
        "data_train_top1000=[]\n",
        "only_top1000=[]\n",
        "for user in data_train.index:\n",
        "  history=data_train.loc[user]\n",
        "  only_top1000=[x for x in history if x in top1000_tri[outlier_excluded:]]\n",
        "  while len(only_top1000) < len(history):\n",
        "    only_top1000+=[0]\n",
        "  data_train_top1000.append(only_top1000)  \n",
        "data_train_top1000=pd.DataFrame(data_train_top1000)\n",
        "print(data_train_top1000.head())\n",
        "\n"
      ],
      "execution_count": null,
      "outputs": []
    },
    {
      "cell_type": "code",
      "metadata": {
        "id": "gc8YYvvyDMNx"
      },
      "source": [
        "# filter dataset to retain only top1000 item in data_set\n",
        "data_test_top1000=[]\n",
        "only_top1000=[]\n",
        "for user in data_test.index:\n",
        "  history=data_test.loc[user]\n",
        "  only_top1000=[x for x in history if x in top1000_tri[outlier_excluded:]]\n",
        "  while len(only_top1000) < len(history):\n",
        "    only_top1000+=[0]\n",
        "  data_test_top1000.append(only_top1000)  \n",
        "data_test_top1000=pd.DataFrame(data_test_top1000)\n",
        "print(data_test_top1000.head())"
      ],
      "execution_count": null,
      "outputs": []
    },
    {
      "cell_type": "code",
      "metadata": {
        "id": "fivoNsairhGJ"
      },
      "source": [
        "liste_item_tri=sorted(list(set(liste_item_2)))\n",
        "liste_item_tri.remove(0)\n",
        "print(len(liste_item_tri))"
      ],
      "execution_count": null,
      "outputs": []
    },
    {
      "cell_type": "code",
      "metadata": {
        "id": "mng2cLwnBw5h"
      },
      "source": [
        "# re_index the content to have the lowest number so that one-hot will be smaller\n",
        "song_2_int={i:j+1 for j,i in enumerate(liste_item_tri)}\n",
        "int_2_song={(i+1):j for i,j in enumerate(liste_item_tri)}\n",
        "liste_item_tri_int=[song_2_int[k] for k in liste_item_tri]"
      ],
      "execution_count": null,
      "outputs": []
    },
    {
      "cell_type": "code",
      "metadata": {
        "id": "O6uU6QD7E0v9"
      },
      "source": [
        "song_2_int[1000]\n",
        "int_2_song[992]"
      ],
      "execution_count": null,
      "outputs": []
    },
    {
      "cell_type": "code",
      "metadata": {
        "id": "QCKxFR2CG7aH"
      },
      "source": [
        "# re_index the content to have the lowest number so that one-hot will be smaller\n",
        "song_top1000_2_int={i:j+1 for j,i in enumerate(top1000_tri)}\n",
        "int_2_song_top1000={i+1:j for i,j in enumerate(top1000_tri)}\n",
        "top1000_tri_int=[song_top1000_2_int[k] for k in top1000_tri]"
      ],
      "execution_count": null,
      "outputs": []
    },
    {
      "cell_type": "code",
      "metadata": {
        "id": "4xGX0-QFFgfk"
      },
      "source": [
        "len(song_top1000_2_int)"
      ],
      "execution_count": null,
      "outputs": []
    },
    {
      "cell_type": "code",
      "metadata": {
        "id": "YI6Pc_cPpGMG"
      },
      "source": [
        "history_size=[np.count_nonzero(data_train.loc[i]) for i in data_train.index]\n",
        "len(history_size)"
      ],
      "execution_count": null,
      "outputs": []
    },
    {
      "cell_type": "code",
      "metadata": {
        "id": "hgu0ulQJpxBB"
      },
      "source": [
        "import matplotlib.pyplot as plt\n",
        "plt.hist(history_size,range=(0,20),bins=20)"
      ],
      "execution_count": null,
      "outputs": []
    },
    {
      "cell_type": "markdown",
      "metadata": {
        "id": "NwXFNqd04xJP"
      },
      "source": [
        "Sélection des user selon la taille de leur historique"
      ]
    },
    {
      "cell_type": "code",
      "metadata": {
        "id": "MT0G4sFBHfNO"
      },
      "source": [
        "history_top1000_size=[np.count_nonzero(data_train_top1000.loc[i]) for i in data_train_top1000.index]\n",
        "len(history_top1000_size)"
      ],
      "execution_count": null,
      "outputs": []
    },
    {
      "cell_type": "code",
      "metadata": {
        "id": "7LK7LVkSL2eB"
      },
      "source": [
        "#compactage historique pour ne pas avoir de doublon dans le train\n",
        "data_train_top1000_without_doublon=[]\n",
        "for i in data_train_top1000.index:\n",
        "  history_without_doublon=[]\n",
        "  history=data_train_top1000.loc[i]\n",
        "  for item in history:\n",
        "    if item not in history_without_doublon:\n",
        "       history_without_doublon.append(int(item))\n",
        "  while len(history_without_doublon) < len(history):\n",
        "    history_without_doublon+=[0]\n",
        "  data_train_top1000_without_doublon.append(history_without_doublon) \n",
        "data_train_top1000_without_doublon=pd.DataFrame(data_train_top1000_without_doublon)    "
      ],
      "execution_count": null,
      "outputs": []
    },
    {
      "cell_type": "code",
      "metadata": {
        "id": "dLayW66PDf2z"
      },
      "source": [
        "#compactage historique pour ne pas avoir de doublon dans le test\n",
        "data_test_top1000_without_doublon=[]\n",
        "for i in data_test_top1000.index:\n",
        "  history_without_doublon=[]\n",
        "  history=data_test_top1000.loc[i]\n",
        "  for item in history:\n",
        "    if item not in history_without_doublon:\n",
        "       history_without_doublon.append(int(item))\n",
        "  while len(history_without_doublon) < len(history):\n",
        "    history_without_doublon+=[0]\n",
        "  data_test_top1000_without_doublon.append(history_without_doublon)   \n",
        "data_test_top1000_without_doublon=pd.DataFrame(data_test_top1000_without_doublon)  "
      ],
      "execution_count": null,
      "outputs": []
    },
    {
      "cell_type": "code",
      "metadata": {
        "id": "6dwHhMWvPB9U"
      },
      "source": [
        "len(data_train_top1000_without_doublon)"
      ],
      "execution_count": null,
      "outputs": []
    },
    {
      "cell_type": "code",
      "metadata": {
        "id": "itZqwAs-VU82"
      },
      "source": [
        "data_train_top1000_without_doublon.head()"
      ],
      "execution_count": null,
      "outputs": []
    },
    {
      "cell_type": "code",
      "metadata": {
        "id": "dt0COXOBIFYx"
      },
      "source": [
        "plt.hist(history_top1000_size,range=(0,20),bins=20)"
      ],
      "execution_count": null,
      "outputs": []
    },
    {
      "cell_type": "code",
      "metadata": {
        "id": "BM1c3BxXUz2M"
      },
      "source": [
        "history_top1000_without_doublon_size=[np.count_nonzero(data_train_top1000_without_doublon.loc[i]) for i in data_train_top1000_without_doublon.index]\n",
        "len(history_top1000_without_doublon_size)"
      ],
      "execution_count": null,
      "outputs": []
    },
    {
      "cell_type": "code",
      "metadata": {
        "id": "dCZLvEq8U7Ll"
      },
      "source": [
        "plt.hist(history_top1000_without_doublon_size,range=(0,20),bins=20)"
      ],
      "execution_count": null,
      "outputs": []
    },
    {
      "cell_type": "code",
      "metadata": {
        "id": "SBky2IpZ0uyp"
      },
      "source": [
        "data_train_history_20=[data_train.loc[i] for i in data_train.index if np.count_nonzero(data_train.loc[i])>THRESHOLD_HISTORY]\n",
        "data_train_history_20=pd.DataFrame(data_train_history_20)"
      ],
      "execution_count": null,
      "outputs": []
    },
    {
      "cell_type": "code",
      "metadata": {
        "id": "qnYqATzvIjNO"
      },
      "source": [
        "data_train_top1000_history_20=[data_train_top1000.loc[i] for i in data_train_top1000.index if np.count_nonzero(data_train_top1000.loc[i])>THRESHOLD_HISTORY]\n",
        "data_train_top1000_history_20=pd.DataFrame(data_train_top1000_history_20)"
      ],
      "execution_count": null,
      "outputs": []
    },
    {
      "cell_type": "code",
      "metadata": {
        "id": "up-fO9k6ASz7"
      },
      "source": [
        "data_train_top1000_without_doublon_history_20=[data_train_top1000_without_doublon.loc[i] for i in data_train_top1000_without_doublon.index \\\n",
        "                                               if np.count_nonzero(data_train_top1000_without_doublon.loc[i])>THRESHOLD_HISTORY]\n",
        "data_train_top1000_without_doublon_history_20=pd.DataFrame(data_train_top1000_without_doublon_history_20)"
      ],
      "execution_count": null,
      "outputs": []
    },
    {
      "cell_type": "code",
      "metadata": {
        "id": "eJZRQON-nMdU"
      },
      "source": [
        "# sampling\n",
        "ratio_sampling=1\n",
        "data_train_history_20=pd.DataFrame(data_train_history_20)\n",
        "data_train_history_20=data_train_history_20.sample(frac=ratio_sampling, replace=False, random_state=1)\n",
        "# ré-indexation\n",
        "data_train_history_20=data_train_history_20.reset_index(drop = True) "
      ],
      "execution_count": null,
      "outputs": []
    },
    {
      "cell_type": "code",
      "metadata": {
        "id": "B9ioyvHI05av"
      },
      "source": [
        "len(data_train_history_20)"
      ],
      "execution_count": null,
      "outputs": []
    },
    {
      "cell_type": "code",
      "metadata": {
        "id": "LGtTbITSI4w-"
      },
      "source": [
        "len(data_train_top1000_history_20)"
      ],
      "execution_count": null,
      "outputs": []
    },
    {
      "cell_type": "code",
      "metadata": {
        "id": "WwOwIBjQPsXj"
      },
      "source": [
        "len(data_train_top1000_without_doublon_history_20)"
      ],
      "execution_count": null,
      "outputs": []
    },
    {
      "cell_type": "code",
      "metadata": {
        "id": "pkjT5WcNK4P1"
      },
      "source": [
        "# stocke dataset dans fichier csv\n"
      ],
      "execution_count": null,
      "outputs": []
    },
    {
      "cell_type": "code",
      "metadata": {
        "id": "OOXhtsuLz2gU"
      },
      "source": [
        "'''# bootstrap\n",
        "for i in range(2):\n",
        "  data_train_history_20=pd.concat([data_train_history_20,data_train_history_20])\n",
        "data_train_history_20=data_train_history_20.reset_index(drop = True) '''"
      ],
      "execution_count": null,
      "outputs": []
    },
    {
      "cell_type": "code",
      "metadata": {
        "id": "8_f6Qww09TBw"
      },
      "source": [
        "'''import sklearn\n",
        "data_train_history_20=sklearn.utils.shuffle(data_train_history_20)'''"
      ],
      "execution_count": null,
      "outputs": []
    },
    {
      "cell_type": "markdown",
      "metadata": {
        "id": "SFRQW73T471K"
      },
      "source": [
        "Constitution ensemble de train et de validation"
      ]
    },
    {
      "cell_type": "code",
      "metadata": {
        "id": "c_uD4-xZYRWi"
      },
      "source": [
        "# definition de data_valid : 10% de l'ensemble de train\n",
        "data_valid=data_train_history_20.sample(frac=0.1, replace=False, random_state=1)\n",
        "data_valid_top1000=data_train_top1000_history_20.sample(frac=0.1, replace=False, random_state=1)\n",
        "data_valid_top1000_without_doublon=data_train_top1000_without_doublon_history_20.sample(frac=0.2, replace=False, random_state=1)"
      ],
      "execution_count": null,
      "outputs": []
    },
    {
      "cell_type": "code",
      "metadata": {
        "id": "_AS81b1s7UhT"
      },
      "source": [
        "len(data_valid_top1000_without_doublon)"
      ],
      "execution_count": null,
      "outputs": []
    },
    {
      "cell_type": "code",
      "metadata": {
        "id": "u8oZy6MfhHxc"
      },
      "source": [
        "# defintition du complémentaire qui va être le data_train\n",
        "index=[x for x in data_train_history_20.index if x not in data_valid.index]\n",
        "data_train_out_valid=pd.DataFrame([data_train_history_20.loc[x] for x in index])\n"
      ],
      "execution_count": null,
      "outputs": []
    },
    {
      "cell_type": "code",
      "metadata": {
        "id": "2Dy-V8V-JlTA"
      },
      "source": [
        "# defintition du complémentaire qui va être le data_train_top1000\n",
        "index_top1000=[x for x in data_train_top1000_history_20.index if x not in data_valid_top1000.index]\n",
        "data_train_out_valid_top1000=pd.DataFrame([data_train_top1000_history_20.loc[x] for x in index_top1000])"
      ],
      "execution_count": null,
      "outputs": []
    },
    {
      "cell_type": "code",
      "metadata": {
        "id": "scmd9nw4BhuI"
      },
      "source": [
        "# defintition du complémentaire qui va être le data_train_top1000\n",
        "index_top1000_without_doublon=[x for x in data_train_top1000_without_doublon_history_20.index if x not in data_valid_top1000_without_doublon.index]\n",
        "data_train_out_valid_top1000_without_doublon=pd.DataFrame([data_train_top1000_without_doublon_history_20.loc[x] for x in index_top1000_without_doublon])"
      ],
      "execution_count": null,
      "outputs": []
    },
    {
      "cell_type": "code",
      "metadata": {
        "id": "t8mX4HPHUQe3"
      },
      "source": [
        "len(data_train_out_valid_top1000_without_doublon)"
      ],
      "execution_count": null,
      "outputs": []
    },
    {
      "cell_type": "code",
      "metadata": {
        "id": "uDaMeBuMf5LJ"
      },
      "source": [
        "data_train_out_valid_top1000_without_doublon.head()"
      ],
      "execution_count": null,
      "outputs": []
    },
    {
      "cell_type": "code",
      "metadata": {
        "id": "y7nO_M8BPfVU"
      },
      "source": [
        "#recalcul du nombre d'items différents\n",
        "# Building the item set\n",
        "temp_item_1=[]\n",
        "temp_item_2=[]\n",
        "for user in data_train_top1000_without_doublon_history_20.index:\n",
        "  temp_item_1.append(data_train_top1000_without_doublon_history_20.loc[user])\n",
        "for user in data_test_top1000_without_doublon.index:\n",
        "  history=data_test_top1000_without_doublon\n",
        "  if np.count_nonzero(history)> THRESHOLD_HISTORY:\n",
        "    temp_item_1.append(data_test_top1000_without_doublon.loc[user])\n",
        "for x in temp_item_1:\n",
        "  for y in x:\n",
        "    temp_item_2.append(y)\n",
        "\n",
        "print((len(temp_item_2)))\n"
      ],
      "execution_count": null,
      "outputs": []
    },
    {
      "cell_type": "code",
      "metadata": {
        "id": "rs52SOBEXZkZ"
      },
      "source": [
        "len(np.unique(temp_item_2))"
      ],
      "execution_count": null,
      "outputs": []
    },
    {
      "cell_type": "markdown",
      "metadata": {
        "id": "bhH_HmwX5O39"
      },
      "source": [
        "# Dataset backup/restore/preparation "
      ]
    },
    {
      "cell_type": "markdown",
      "metadata": {
        "id": "wg10qxmNiEAh"
      },
      "source": [
        "## Dataset backup/restore"
      ]
    },
    {
      "cell_type": "code",
      "metadata": {
        "id": "9ux0GfEPUazx"
      },
      "source": [
        "def LastFM_prepare_data_set(dataset,max_sequence_label,max_sequence_train, shuffle, shift):\n",
        "\n",
        "  '''\n",
        "      :param: dataset : dataframe : set of user history\n",
        "      :param: max_sequence_lable : int size of the sequence of label for each user\n",
        "      :param: max_sequence_train: int size of the sequence of  history to keep for each user\n",
        "      :param: liste_item_tri: list list of the items within all the dataset (no repetition and sorted by increasing value)\n",
        "      :return: x_train, x_target_train_oh : array: array of data for train and target\n",
        "  '''\n",
        "\n",
        "  # local variables\n",
        "  sequence_dataset=[]\n",
        "  sequence_target_dataset=[]\n",
        "  for user in dataset.index:\n",
        "      # history\n",
        "\n",
        "      history=list(dataset.loc[user]) \n",
        "      #print(\"user\",user)\n",
        "      #print(\"history\",history)\n",
        "      history_int=[song_top1000_2_int[songid] for songid in history if songid != 0]\n",
        "      nb_seq=(len(history_int) - (max_sequence_train+max_sequence_label)+1)\n",
        "      for i in range(nb_seq):\n",
        "        history_4_train=history_int[i:i+max_sequence_train]\n",
        "        #print(\"history_4_train\",history_4_train)\n",
        "        history_4_test=history_int[i+shift:i+shift+max_sequence_label]\n",
        "        #history_4_test=history_int[i+max_sequence_train:i+max_sequence_train+max_sequence_label]\n",
        "        if shuffle:\n",
        "          np.random.shuffle(history_4_train)\n",
        "          #np.random.shuffle(history_4_test)\n",
        "\n",
        "        sequence_dataset.append(history_4_train) # sous-seq de longueur max_sequence_train\n",
        "        sequence_target_dataset.append(history_4_test) # item suivant\n",
        "      \n",
        "\n",
        "\n",
        "\n",
        "  # padding if necessary\n",
        "  x_dataset = sequence.pad_sequences(sequence_dataset, maxlen=max_sequence_train)\n",
        "  x_target_dataset = sequence.pad_sequences(sequence_target_dataset, padding='post',maxlen=max_sequence_label)\n",
        "\n",
        "  x_dataset=np.array(x_dataset)\n",
        "  x_target_dataset=np.array(x_target_dataset)\n",
        "    \n",
        "  return x_dataset,x_target_dataset\n",
        "\n"
      ],
      "execution_count": null,
      "outputs": []
    },
    {
      "cell_type": "code",
      "metadata": {
        "id": "K2HyLkl3XoyU"
      },
      "source": [
        "DATA_SAVED=True"
      ],
      "execution_count": null,
      "outputs": []
    },
    {
      "cell_type": "code",
      "metadata": {
        "id": "F0AAxf8UNFOl"
      },
      "source": [
        "# sauvegarde dataframe\n",
        "if not DATA_SAVED:\n",
        "  data_train_out_valid.to_csv(my_path+\"target_ten_data_train_out_valid\")\n",
        "  data_train_out_valid_top1000.to_csv(my_path+\"target_ten_data_train_out_valid_top1000\")\n",
        "  data_train_out_valid_top1000_without_doublon.to_csv(my_path+\"target_ten_data_train_out_valid_top1000_without_doublon\")\n",
        "  data_valid.to_csv(my_path+\"target_ten_data_valid\")\n",
        "  data_valid_top1000.to_csv(my_path+\"target_ten_data_valid_top1000\")\n",
        "  data_valid_top1000_without_doublon.to_csv(my_path+\"target_ten_data_valid_top1000_without_doublon\")\n",
        "  data_train.to_csv(my_path+\"target_ten_data_train\")\n",
        "\n",
        "  data_test.to_csv(my_path+\"target_ten_data_test\")\n",
        "  data_test_top1000.to_csv(my_path+\"target_ten_data_test_top1000\")\n",
        "  data_test_top1000_without_doublon.to_csv(my_path+\"target_ten_data_test_top1000_without_doublon\")\n",
        "\n",
        "\n",
        "  # sauvegarde one_hot_size\n",
        "  import json\n",
        "  my_details = {'one_hot_size': len(top1000_tri_int)}\n",
        "\n",
        "  with open(my_path+'target_ten_parameter.json', 'w') as json_file:\n",
        "      json.dump(my_details, json_file)\n",
        "\n",
        "  # sauvegarde numérotation \n",
        "  # conversion dico en dataframe\n",
        "  import pandas as pd\n",
        "  df_song_2_int=pd.DataFrame.from_dict(song_2_int,orient='index')\n",
        "  df_int_2_song=pd.DataFrame.from_dict(int_2_song,orient='index')\n",
        "  df_song_top1000_2_int=pd.DataFrame.from_dict(song_top1000_2_int,orient='index')\n",
        "  df_int_2_song_top1000=pd.DataFrame.from_dict(int_2_song_top1000,orient='index')\n",
        "\n",
        "  df_song_2_int.to_csv(my_path+\"target_ten_song_2_int\")\n",
        "  df_int_2_song.to_csv(my_path+\"target_ten_int_2_song\")\n",
        "  df_song_top1000_2_int.to_csv(my_path+\"target_ten_song_top1000_2_int\")\n",
        "  df_int_2_song_top1000.to_csv(my_path+\"target_ten_int_2_song_top1000\")\n"
      ],
      "execution_count": null,
      "outputs": []
    },
    {
      "cell_type": "code",
      "metadata": {
        "id": "5BF3s0goQFzH"
      },
      "source": [
        "def convert_df_2_dict(my_dataframe):\n",
        "  '''\n",
        "  '''\n",
        "  my_dico=my_dataframe.to_dict('split')\n",
        "  return dict(my_dico['data'])"
      ],
      "execution_count": null,
      "outputs": []
    },
    {
      "cell_type": "code",
      "metadata": {
        "id": "hMmx9vnKRur7"
      },
      "source": [
        "import json\n",
        "\n",
        "if DATA_SAVED:\n",
        "  with open(my_path+'target_ten_parameter.json') as file:\n",
        "    parameter_data = json.load(file)\n",
        "  one_hot_space_size=parameter_data['one_hot_size']  \n",
        "  data_train_out_valid= pd.read_csv(my_path+\"target_ten_data_train_out_valid\",index_col=0)\n",
        "  data_train_out_valid_top1000=pd.read_csv(my_path+\"target_ten_data_train_out_valid_top1000\",index_col=0)\n",
        "  data_train_out_valid_top1000_without_doublon=pd.read_csv(my_path+\"target_ten_data_train_out_valid_top1000_without_doublon\",index_col=0)\n",
        "  data_valid=pd.read_csv(my_path+\"target_ten_data_valid\",index_col=0)\n",
        "  data_valid_top1000=pd.read_csv(my_path+\"target_ten_data_valid_top1000\",index_col=0)\n",
        "  data_valid_top1000_without_doublon=pd.read_csv(my_path+\"target_ten_data_valid_top1000_without_doublon\",index_col=0)\n",
        "  data_train=pd.read_csv(my_path+\"target_ten_data_train\",index_col=0)\n",
        "  data_test=pd.read_csv(my_path+\"target_ten_data_test\",index_col=0)\n",
        "  data_test_top1000=pd.read_csv(my_path+\"target_ten_data_test_top1000\",index_col=0)\n",
        "  data_test_top1000_without_doublon=pd.read_csv(my_path+\"target_ten_data_test_top1000_without_doublon\",index_col=0)\n",
        "  # reconstituer les dictionnaire\n",
        "  song_2_int=pd.read_csv(my_path+\"target_ten_song_2_int\")\n",
        "  song_2_int=convert_df_2_dict(song_2_int)\n",
        "  int_2_song=pd.read_csv(my_path+\"target_ten_int_2_song\")\n",
        "  int_2_song=convert_df_2_dict(int_2_song)\n",
        "  song_top1000_2_int=pd.read_csv(my_path+\"target_ten_song_top1000_2_int\")\n",
        "  song_top1000_2_int=convert_df_2_dict(song_top1000_2_int)\n",
        "  int_2_song_top1000=pd.read_csv(my_path+\"target_ten_int_2_song_top1000\")\n",
        "  int_2_song_top1000=convert_df_2_dict(int_2_song_top1000)\n",
        "    "
      ],
      "execution_count": null,
      "outputs": []
    },
    {
      "cell_type": "code",
      "metadata": {
        "id": "NKLksSe0GlIH"
      },
      "source": [
        "# select dataset\n",
        "# 1: full 2: threshold history 3: threshold history and item popularity 4: threshold history item popularity and wihout doublon\n",
        "data_select=3\n",
        "if data_select==1:\n",
        "  data_train_in=data_train_out_valid\n",
        "  data_valid_in=data_valid\n",
        "elif data_select==2:\n",
        "  data_train_in=data_train_out_valid\n",
        "  data_valid_in=data_valid\n",
        "elif data_select==3:\n",
        "  data_train_in=data_train_out_valid_top1000\n",
        "  data_valid_in=data_valid_top1000\n",
        "elif data_select==4:\n",
        "  data_train_in=data_train_out_valid_top1000_without_doublon\n",
        "  data_valid_in=data_valid_top1000_without_doublon\n",
        "else:\n",
        "  data_train_in=data_train_out_valid\n",
        "  data_valid_in=data_valid    \n",
        "\n"
      ],
      "execution_count": null,
      "outputs": []
    },
    {
      "cell_type": "markdown",
      "metadata": {
        "id": "qgCYbQ5eW5Oy"
      },
      "source": [
        "## Filter items from validation and test set which are not in the train set"
      ]
    },
    {
      "cell_type": "code",
      "metadata": {
        "id": "V0RIurHgXlW1"
      },
      "source": [
        "set_data_train_out_valid_top1000_without_doublon=set({})\n",
        "for index in range(data_train_out_valid_top1000_without_doublon.shape[0]):  # index de ligne\n",
        "  set_data_train_out_valid_top1000_without_doublon.update(set(list(data_train_out_valid_top1000_without_doublon.iloc[index])))"
      ],
      "execution_count": null,
      "outputs": []
    },
    {
      "cell_type": "markdown",
      "metadata": {
        "id": "Xdl_DJeSlkPd"
      },
      "source": [
        "### validation"
      ]
    },
    {
      "cell_type": "code",
      "metadata": {
        "id": "UP24mDweX5oe"
      },
      "source": [
        "maliste=sorted(list(data_valid_top1000_without_doublon.index))\n",
        "for my_index in maliste:\n",
        "  seq=list(data_valid_top1000_without_doublon.loc[my_index])\n",
        "  Found=False\n",
        "  i=0\n",
        "  while not Found and i < THRESHOLD_HISTORY+1:\n",
        "    if seq[i] not in set_data_train_out_valid_top1000_without_doublon:\n",
        "      Found=True\n",
        "      data_valid_top1000_without_doublon=data_valid_top1000_without_doublon.drop(my_index)\n",
        "    else:\n",
        "      i+=1  \n",
        "\n"
      ],
      "execution_count": null,
      "outputs": []
    },
    {
      "cell_type": "code",
      "metadata": {
        "colab": {
          "base_uri": "https://localhost:8080/"
        },
        "id": "kejne59OL5NE",
        "outputId": "3de377fc-32ab-486b-bfc3-b60712544bfb"
      },
      "source": [
        "data_train_out_valid_top1000_without_doublon.shape"
      ],
      "execution_count": null,
      "outputs": [
        {
          "output_type": "execute_result",
          "data": {
            "text/plain": [
              "(5676, 20)"
            ]
          },
          "metadata": {
            "tags": []
          },
          "execution_count": 22
        }
      ]
    },
    {
      "cell_type": "code",
      "metadata": {
        "colab": {
          "base_uri": "https://localhost:8080/"
        },
        "id": "72-aXa9iiedq",
        "outputId": "d44c421a-df14-4eb1-e66a-4661ad5c5b89"
      },
      "source": [
        "data_valid_top1000_without_doublon.shape"
      ],
      "execution_count": null,
      "outputs": [
        {
          "output_type": "execute_result",
          "data": {
            "text/plain": [
              "(932, 20)"
            ]
          },
          "metadata": {
            "tags": []
          },
          "execution_count": 23
        }
      ]
    },
    {
      "cell_type": "markdown",
      "metadata": {
        "id": "UzqpRvtbltZB"
      },
      "source": [
        "### test"
      ]
    },
    {
      "cell_type": "markdown",
      "metadata": {
        "id": "60NnOrWlG1QS"
      },
      "source": [
        "data_test_top1000_without doublon may contain 0 - i.e incomplete sequence -. but, thanks to the code below as zero does not belong to set_data_train_out_valid_top1000_without_doublon, this sequence will be directly removed...\n",
        "therefor the test beow on the length of the sequence within test data set are not useful."
      ]
    },
    {
      "cell_type": "code",
      "metadata": {
        "colab": {
          "base_uri": "https://localhost:8080/"
        },
        "id": "oWZkrRtfmlT_",
        "outputId": "cc5cf21a-1ae4-42ab-dee2-3a5bf2a60ab5"
      },
      "source": [
        "data_test_top1000_without_doublon.shape"
      ],
      "execution_count": null,
      "outputs": [
        {
          "output_type": "execute_result",
          "data": {
            "text/plain": [
              "(126559, 20)"
            ]
          },
          "metadata": {
            "tags": []
          },
          "execution_count": 24
        }
      ]
    },
    {
      "cell_type": "code",
      "metadata": {
        "id": "EALYGVq0lzLh"
      },
      "source": [
        "maliste=sorted(list(data_test_top1000_without_doublon.index))\n",
        "for my_index in maliste:\n",
        "  seq=list(data_test_top1000_without_doublon.loc[my_index])\n",
        "  Found=False\n",
        "  i=0\n",
        "  while not Found and i < THRESHOLD_HISTORY+1:\n",
        "    if seq[i] not in set_data_train_out_valid_top1000_without_doublon:\n",
        "      Found=True\n",
        "      data_test_top1000_without_doublon=data_test_top1000_without_doublon.drop(my_index)\n",
        "    else:\n",
        "      i+=1  "
      ],
      "execution_count": null,
      "outputs": []
    },
    {
      "cell_type": "markdown",
      "metadata": {
        "id": "5PbP1_LsXbV0"
      },
      "source": [
        "## Format data for fitting the model"
      ]
    },
    {
      "cell_type": "code",
      "metadata": {
        "id": "F-j4VfvPw-KN"
      },
      "source": [
        "# prepare data\n",
        "##################\n",
        "SHUFFLE=False\n",
        "##################\n",
        "from keras.preprocessing import sequence\n",
        "#x_train, x_target_train=LastFM_prepare_data_set(data_train,max_sequence_label,max_sequence_train)\n",
        "x_train,x_target_train=LastFM_prepare_data_set(data_train_in,max_sequence_label,max_sequence_train,shuffle=SHUFFLE,shift=Shift)\n",
        "x_valid,x_target_valid=LastFM_prepare_data_set(data_valid_in,max_sequence_label,max_sequence_train,shuffle=SHUFFLE, shift=Shift)\n"
      ],
      "execution_count": null,
      "outputs": []
    },
    {
      "cell_type": "code",
      "metadata": {
        "colab": {
          "base_uri": "https://localhost:8080/"
        },
        "id": "UNApKmdWLJcT",
        "outputId": "91005663-ad5d-4060-c441-cb0eab06c16b"
      },
      "source": [
        "x_target_train.shape"
      ],
      "execution_count": null,
      "outputs": [
        {
          "output_type": "execute_result",
          "data": {
            "text/plain": [
              "(28715, 10)"
            ]
          },
          "metadata": {
            "tags": []
          },
          "execution_count": 27
        }
      ]
    },
    {
      "cell_type": "code",
      "metadata": {
        "colab": {
          "base_uri": "https://localhost:8080/"
        },
        "id": "cjM1NasA9wjg",
        "outputId": "1bce8115-6faa-46f8-e5e3-f458011baba8"
      },
      "source": [
        "\n",
        "diff_zero=0\n",
        "for i in range(x_train.shape[0]):\n",
        "  diff_zero+=np.count_nonzero(x_train[i])\n",
        "\n",
        "diff_zero/(x_train.shape[0]*x_train.shape[1])"
      ],
      "execution_count": null,
      "outputs": [
        {
          "output_type": "execute_result",
          "data": {
            "text/plain": [
              "1.0"
            ]
          },
          "metadata": {
            "tags": []
          },
          "execution_count": 28
        }
      ]
    },
    {
      "cell_type": "code",
      "metadata": {
        "id": "_H5EETT-ZcCr"
      },
      "source": [
        "for i in range(x_target_train.shape[0]):\n",
        "  if 0 in x_target_train[i]:\n",
        "    print(x_target_train[i])\n"
      ],
      "execution_count": null,
      "outputs": []
    },
    {
      "cell_type": "code",
      "metadata": {
        "colab": {
          "base_uri": "https://localhost:8080/"
        },
        "id": "9VCmcs9ZRdVF",
        "outputId": "baaca476-bed6-43f4-915e-f06f06fd4b55"
      },
      "source": [
        "x_valid.shape"
      ],
      "execution_count": null,
      "outputs": [
        {
          "output_type": "execute_result",
          "data": {
            "text/plain": [
              "(3190, 10)"
            ]
          },
          "metadata": {
            "tags": []
          },
          "execution_count": 30
        }
      ]
    },
    {
      "cell_type": "code",
      "metadata": {
        "colab": {
          "base_uri": "https://localhost:8080/"
        },
        "id": "lDz6j2zpHQgs",
        "outputId": "84a05ec2-517f-4adc-905a-b3e6b18666da"
      },
      "source": [
        "'''while true:\n",
        "  pass'''"
      ],
      "execution_count": null,
      "outputs": [
        {
          "output_type": "execute_result",
          "data": {
            "application/vnd.google.colaboratory.intrinsic+json": {
              "type": "string"
            },
            "text/plain": [
              "'while true:\\n  pass'"
            ]
          },
          "metadata": {
            "tags": []
          },
          "execution_count": 31
        }
      ]
    },
    {
      "cell_type": "code",
      "metadata": {
        "id": "co0AgRV2HfFJ"
      },
      "source": [
        "# constitution des dictionnaire selon modélisation https://stanford.edu/~shervine/blog/keras-how-to-generate-data-on-the-fly\n",
        "#batchsize=128\n",
        "partition={}\n",
        "labels={}\n",
        "partition['train']=list(range(x_train.shape[0]))\n",
        "partition['validation']=list(range(x_valid.shape[0]))\n",
        "labels_train={i:j for i,j in enumerate(x_target_train)}\n",
        "labels_valid={i:j for i,j in enumerate(x_target_valid)}\n",
        "\n",
        "\n",
        "# one hot encoding pour l'ensemble des items recommandables\n",
        "if not DATA_SAVED:\n",
        "  one_hot_space_size=len(top1000_tri_int)    \n",
        "# sinon déjà défini  \n",
        "\n",
        "#parameter for train data generation\n",
        "# Parameters\n",
        "params = {'dim_train': (max_sequence_train),\n",
        "          'dim_label': (max_sequence_label),\n",
        "          'batch_size': batchsize,\n",
        "          'n_classes': one_hot_space_size,\n",
        "          'n_channels': 1,\n",
        "          'shuffle': True}\n",
        "\n",
        "#ipdb.set_trace()\n",
        "#input(\"wait\")\n",
        "# Generators\n",
        "training_generator = DataGenerator(x_train,partition['train'], labels_train, **params)\n",
        "validation_generator = DataGenerator(x_valid,partition['validation'], labels_valid, **params)"
      ],
      "execution_count": null,
      "outputs": []
    },
    {
      "cell_type": "code",
      "metadata": {
        "id": "ZD_ylg_MFa6v"
      },
      "source": [
        "for row in validation_generator:\n",
        "  print(row)\n",
        "  break"
      ],
      "execution_count": null,
      "outputs": []
    },
    {
      "cell_type": "code",
      "metadata": {
        "colab": {
          "base_uri": "https://localhost:8080/"
        },
        "id": "3bbY6uYXkp-K",
        "outputId": "235dff7d-dc0d-4fd1-ad1d-ffd84c6d534e"
      },
      "source": [
        "max_sequence_train"
      ],
      "execution_count": null,
      "outputs": [
        {
          "output_type": "execute_result",
          "data": {
            "text/plain": [
              "10"
            ]
          },
          "metadata": {
            "tags": []
          },
          "execution_count": 34
        }
      ]
    },
    {
      "cell_type": "code",
      "metadata": {
        "id": "uAkvDX2TXFEJ"
      },
      "source": [
        ""
      ],
      "execution_count": null,
      "outputs": []
    },
    {
      "cell_type": "markdown",
      "metadata": {
        "id": "SIRph-xaB1gJ"
      },
      "source": [
        "#Train/Predict"
      ]
    },
    {
      "cell_type": "markdown",
      "metadata": {
        "id": "z8DuypkTn0yZ"
      },
      "source": [
        "##Training model"
      ]
    },
    {
      "cell_type": "code",
      "metadata": {
        "id": "2lP-T0UUyiMt"
      },
      "source": [
        "# paramètres\n",
        "from keras.regularizers import L1L2\n",
        "\n",
        "reco_file=\"LastFM_LSTM_dico_reco.csv\"\n",
        "LSTM_size=200\n",
        "epochs=20\n",
        "embedding_size=100\n",
        "dropout_lstm_value=0.2\n",
        "dropout_layer_value=0.0\n",
        "reg=L1L2(0.01,0.01)\n"
      ],
      "execution_count": null,
      "outputs": []
    },
    {
      "cell_type": "markdown",
      "metadata": {
        "id": "xHQwZIWi5WVl"
      },
      "source": [
        "Apprentissage du modèle"
      ]
    },
    {
      "cell_type": "code",
      "metadata": {
        "colab": {
          "base_uri": "https://localhost:8080/"
        },
        "id": "RBdv8lp6vLgD",
        "outputId": "22e421b9-073a-43b0-b68f-43fe13bc5fa1"
      },
      "source": [
        "import matplotlib.pyplot as plt\n",
        "from keras.models import load_model\n",
        "\n",
        "RETRIEVE=False\n",
        "\n",
        "# construction du modèle RNN\n",
        "\n",
        "if not RETRIEVE:\n",
        "\n",
        "  model=build_model(one_hot_space_size,max_sequence_train,r_reg=reg)\n",
        "  model.summary()\n",
        "\n",
        "  start=datetime.datetime.now()\n",
        "  print(\"start at :{}\".format(str(start)))\n",
        "\n",
        "  '''es=EarlyStopping(monitor='val_loss',mode='min', verbose=1,patience=10)     \n",
        "  plot_model(model, to_file='model_lstm.png')'''\n",
        "\n",
        "  history=model.fit_generator(generator=training_generator,validation_data=validation_generator,epochs=epochs,use_multiprocessing=False,verbose=2)\n",
        "      \n",
        "  stop=datetime.datetime.now()\n",
        "  print(\"elapsed time for training model: {}\".format(str(stop-start)))\n",
        "\n",
        "  # sauvegarde du modèle\n",
        "  model.save(my_path+'model_LSTM_'+str(LSTM_size)+'_shift_'+str(Shift)+'_lastFM_history_user_'+str(max_sequence_train)+'_index_start_1.h5')\n",
        "  print(history.history.keys())\n",
        "  # summarize history of accuracy\n",
        "  plt.plot(history.history['sparse_categorical_accuracy'])\n",
        "  plt.plot(history.history['val_sparse_categorical_accuracy'])\n",
        "  plt.title('model accuracy')\n",
        "  plt.ylabel('accuracy')\n",
        "  plt.xlabel('epoch')\n",
        "  plt.legend(['train', 'validation'], loc='upper left')\n",
        "  plt.show()\n",
        "  # summarize history for loss\n",
        "  plt.plot(history.history['loss'])\n",
        "  plt.plot(history.history['val_loss'])\n",
        "  plt.title('model loss')\n",
        "  plt.ylabel('loss')\n",
        "  plt.xlabel('epoch')\n",
        "  plt.legend(['train', 'validation'], loc='upper left')\n",
        "  plt.show()\n",
        "\n",
        "else:\n",
        "  model=load_model(my_path+'model_LSTM_'+str(LSTM_size)+'_shift_'+str(Shift)+'_lastFM_history_user_'+str(max_sequence_train)+'_index_start_1.h5')\n"
      ],
      "execution_count": null,
      "outputs": [
        {
          "output_type": "stream",
          "text": [
            "(None, 10)\n",
            "embedding shape (None, 10, 100) and type <class 'tensorflow.python.keras.engine.keras_tensor.KerasTensor'> \n",
            "Model: \"model_3\"\n",
            "_________________________________________________________________\n",
            "Layer (type)                 Output Shape              Param #   \n",
            "=================================================================\n",
            "main_input (InputLayer)      [(None, 10)]              0         \n",
            "_________________________________________________________________\n",
            "my_embeddings (Embedding)    (None, 10, 100)           2036300   \n",
            "_________________________________________________________________\n",
            "my_LSTM (LSTM)               (None, 10, 200)           240800    \n",
            "_________________________________________________________________\n",
            "time_distributed_3 (TimeDist (None, 10, 20362)         4092762   \n",
            "=================================================================\n",
            "Total params: 6,369,862\n",
            "Trainable params: 6,369,862\n",
            "Non-trainable params: 0\n",
            "_________________________________________________________________\n",
            "start at :2021-04-12 08:31:34.734773\n",
            "Epoch 1/20\n"
          ],
          "name": "stdout"
        },
        {
          "output_type": "stream",
          "text": [
            "/usr/local/lib/python3.7/dist-packages/tensorflow/python/keras/engine/training.py:1844: UserWarning: `Model.fit_generator` is deprecated and will be removed in a future version. Please use `Model.fit`, which supports generators.\n",
            "  warnings.warn('`Model.fit_generator` is deprecated and '\n"
          ],
          "name": "stderr"
        },
        {
          "output_type": "stream",
          "text": [
            "448/448 - 19s - loss: 10.8007 - sparse_categorical_accuracy: 0.0221 - val_loss: 8.9118 - val_sparse_categorical_accuracy: 0.0222\n",
            "Epoch 2/20\n",
            "448/448 - 17s - loss: 8.8195 - sparse_categorical_accuracy: 0.0224 - val_loss: 8.7886 - val_sparse_categorical_accuracy: 0.0223\n",
            "Epoch 3/20\n",
            "448/448 - 17s - loss: 8.6909 - sparse_categorical_accuracy: 0.0226 - val_loss: 8.7157 - val_sparse_categorical_accuracy: 0.0231\n",
            "Epoch 4/20\n",
            "448/448 - 17s - loss: 8.5311 - sparse_categorical_accuracy: 0.0238 - val_loss: 8.5470 - val_sparse_categorical_accuracy: 0.0240\n",
            "Epoch 5/20\n",
            "448/448 - 17s - loss: 8.3895 - sparse_categorical_accuracy: 0.0257 - val_loss: 8.4438 - val_sparse_categorical_accuracy: 0.0273\n",
            "Epoch 6/20\n",
            "448/448 - 17s - loss: 8.2711 - sparse_categorical_accuracy: 0.0281 - val_loss: 8.3656 - val_sparse_categorical_accuracy: 0.0278\n",
            "Epoch 7/20\n",
            "448/448 - 17s - loss: 8.1668 - sparse_categorical_accuracy: 0.0310 - val_loss: 8.2874 - val_sparse_categorical_accuracy: 0.0317\n",
            "Epoch 8/20\n",
            "448/448 - 17s - loss: 8.0766 - sparse_categorical_accuracy: 0.0335 - val_loss: 8.2498 - val_sparse_categorical_accuracy: 0.0324\n",
            "Epoch 9/20\n",
            "448/448 - 17s - loss: 8.0002 - sparse_categorical_accuracy: 0.0360 - val_loss: 8.1741 - val_sparse_categorical_accuracy: 0.0347\n",
            "Epoch 10/20\n",
            "448/448 - 17s - loss: 7.9357 - sparse_categorical_accuracy: 0.0380 - val_loss: 8.1397 - val_sparse_categorical_accuracy: 0.0356\n",
            "Epoch 11/20\n",
            "448/448 - 17s - loss: 7.8710 - sparse_categorical_accuracy: 0.0399 - val_loss: 8.1190 - val_sparse_categorical_accuracy: 0.0372\n",
            "Epoch 12/20\n",
            "448/448 - 17s - loss: 7.8099 - sparse_categorical_accuracy: 0.0419 - val_loss: 8.0608 - val_sparse_categorical_accuracy: 0.0383\n",
            "Epoch 13/20\n",
            "448/448 - 17s - loss: 7.7583 - sparse_categorical_accuracy: 0.0441 - val_loss: 8.0561 - val_sparse_categorical_accuracy: 0.0387\n",
            "Epoch 14/20\n",
            "448/448 - 17s - loss: 7.7049 - sparse_categorical_accuracy: 0.0462 - val_loss: 8.0094 - val_sparse_categorical_accuracy: 0.0402\n",
            "Epoch 15/20\n",
            "448/448 - 17s - loss: 7.6632 - sparse_categorical_accuracy: 0.0479 - val_loss: 7.9963 - val_sparse_categorical_accuracy: 0.0429\n",
            "Epoch 16/20\n",
            "448/448 - 17s - loss: 7.6250 - sparse_categorical_accuracy: 0.0498 - val_loss: 8.0107 - val_sparse_categorical_accuracy: 0.0418\n",
            "Epoch 17/20\n",
            "448/448 - 17s - loss: 7.5853 - sparse_categorical_accuracy: 0.0516 - val_loss: 8.0004 - val_sparse_categorical_accuracy: 0.0436\n",
            "Epoch 18/20\n",
            "448/448 - 17s - loss: 7.5458 - sparse_categorical_accuracy: 0.0529 - val_loss: 7.9852 - val_sparse_categorical_accuracy: 0.0435\n",
            "Epoch 19/20\n",
            "448/448 - 17s - loss: 7.5054 - sparse_categorical_accuracy: 0.0546 - val_loss: 7.9853 - val_sparse_categorical_accuracy: 0.0443\n",
            "Epoch 20/20\n",
            "448/448 - 17s - loss: 7.4723 - sparse_categorical_accuracy: 0.0562 - val_loss: 7.9735 - val_sparse_categorical_accuracy: 0.0438\n",
            "elapsed time for training model: 0:05:48.587041\n",
            "dict_keys(['loss', 'sparse_categorical_accuracy', 'val_loss', 'val_sparse_categorical_accuracy'])\n"
          ],
          "name": "stdout"
        },
        {
          "output_type": "display_data",
          "data": {
            "image/png": "[encoded data removed]",
            "text/plain": [
              "<Figure size 432x288 with 1 Axes>"
            ]
          },
          "metadata": {
            "tags": [],
            "needs_background": "light"
          }
        },
        {
          "output_type": "display_data",
          "data": {
            "image/png": "[encoded data removed]",
            "text/plain": [
              "<Figure size 432x288 with 1 Axes>"
            ]
          },
          "metadata": {
            "tags": [],
            "needs_background": "light"
          }
        }
      ]
    },
    {
      "cell_type": "code",
      "metadata": {
        "colab": {
          "base_uri": "https://localhost:8080/"
        },
        "id": "Qkf_ywoWP2eh",
        "outputId": "2774204f-b329-43b8-96cc-e428e25841fe"
      },
      "source": [
        "# affichage model\n",
        "dot_img_file = my_path+'model_LSTM_targetten'+str(LSTM_size)+'_shift_'+str(Shift)+'_lastFM_history_user_'+str(max_sequence_train)+'.png'\n",
        "tf.keras.utils.plot_model(model, to_file=dot_img_file, show_shapes=True)"
      ],
      "execution_count": null,
      "outputs": [
        {
          "output_type": "execute_result",
          "data": {
            "image/png": "[encoded data removed]",
            "text/plain": [
              "<IPython.core.display.Image object>"
            ]
          },
          "metadata": {
            "tags": []
          },
          "execution_count": 133
        }
      ]
    },
    {
      "cell_type": "markdown",
      "metadata": {
        "id": "gFbiRR9prH9J"
      },
      "source": [
        "## init prediction"
      ]
    },
    {
      "cell_type": "code",
      "metadata": {
        "id": "zBk4XIM-CQXq"
      },
      "source": [
        "# echantillonnage\n",
        "sample_test_0=[user for user in data_test_top1000_without_doublon.index if (user%10<10)]"
      ],
      "execution_count": null,
      "outputs": []
    },
    {
      "cell_type": "code",
      "metadata": {
        "id": "kvKxjQH3Zfic"
      },
      "source": [
        "SHUFFLE_TEST=True"
      ],
      "execution_count": null,
      "outputs": []
    },
    {
      "cell_type": "markdown",
      "metadata": {
        "id": "enA64UgTo46Q"
      },
      "source": [
        "##Prediction"
      ]
    },
    {
      "cell_type": "markdown",
      "metadata": {
        "id": "_Ad1fetEMhkJ"
      },
      "source": [
        "Méthode non itérative:\n",
        "\n",
        "\n",
        "\n",
        "*   PRED_WITH_REPETITION = True : on prend le score le plus élevé de chaque vecteur de la séquence de la LSTM (10 vecteurs)\n",
        "*   PRED_WITH_REPETITION = False : on prend les 10 score les plus élevés du dernier vecteur de la séquence de la LSTM \n",
        "\n",
        "\n"
      ]
    },
    {
      "cell_type": "code",
      "metadata": {
        "colab": {
          "base_uri": "https://localhost:8080/"
        },
        "id": "qhLPSh4txv9A",
        "outputId": "6593f519-dd70-4065-8c83-c3cfd3f68d08"
      },
      "source": [
        "len(sample_test_0)"
      ],
      "execution_count": null,
      "outputs": [
        {
          "output_type": "execute_result",
          "data": {
            "text/plain": [
              "708"
            ]
          },
          "metadata": {
            "tags": []
          },
          "execution_count": 146
        }
      ]
    },
    {
      "cell_type": "code",
      "metadata": {
        "id": "7GCJYBfsBciT"
      },
      "source": [
        "ITER=True\n",
        "#SHUFFLE_TEST=True\n"
      ],
      "execution_count": null,
      "outputs": []
    },
    {
      "cell_type": "markdown",
      "metadata": {
        "id": "qC2O0ua3NNPt"
      },
      "source": [
        "Méthode itérative: on prend le dernier élément (vecteur) de la sequence de la LSTM (puiqu'on a appris à prédire des séquence avec un décalage de un) puis on l'insére dans une séquence en dernière position (qui a alors une taille de 11) et on en lève le première élemnt à gauche - et on itère jusqu'à obtenir une nouvelle liste de 10 éléments."
      ]
    },
    {
      "cell_type": "code",
      "metadata": {
        "colab": {
          "base_uri": "https://localhost:8080/"
        },
        "id": "dssJg5QI0UZl",
        "outputId": "6cb1b5a3-61fb-4605-ca90-ce45472af6c9"
      },
      "source": [
        "# prediction sur ensemble de test\n",
        "\n",
        "new_max_sequence_label=10\n",
        "\n",
        "if ITER: \n",
        "  couverture=[]\n",
        "\n",
        "  count_user=0\n",
        "  count_user_accepted=0\n",
        "  dico_reco={}\n",
        "  check_user=[]\n",
        "  \n",
        "  for userid in sample_test_0:\n",
        "    # history\n",
        "    # je ne retiens que les historiques qui ont 20 items\n",
        "    count_user+=1\n",
        "    if np.count_nonzero(data_test_top1000_without_doublon.loc[userid])>THRESHOLD_HISTORY:\n",
        "      history_int=[song_top1000_2_int[k] for k in data_test_top1000_without_doublon.loc[userid]]\n",
        "      count_user_accepted+=1\n",
        "      check_user.append(userid)\n",
        "      seq_in=history_int[-(max_sequence_train+num_prediction):-num_prediction] # sous-seq de longueur max_sequence_train\n",
        "      if SHUFFLE_TEST:\n",
        "        np.random.shuffle(seq_in)\n",
        "      count_reco=0\n",
        "      if Shift==1:\n",
        "        save_index=[]\n",
        "        while count_reco < num_prediction:\n",
        "          x = sequence.pad_sequences([seq_in], maxlen=max_sequence_train)\n",
        "          prediction=model.predict(x)\n",
        "          # avoid item repetition\"\n",
        "          print(\"prediction\",prediction)\n",
        "          for index in save_index:\n",
        "            prediction[0][index]=0\n",
        "          index_target=np.argmax(prediction[0])\n",
        "          print(\"index_target\",index_target)\n",
        "          save_index.append(index_target)\n",
        "          couverture.append(index_target)\n",
        "          if userid in dico_reco:\n",
        "            dico_reco[userid].append(index_target)\n",
        "          else:\n",
        "            dico_reco[userid]=[index_target]    \n",
        "          seq_in=seq_in[1:]+[index_target]\n",
        "          count_reco+=1\n",
        "      elif Shift==max_sequence_train:\n",
        "        x = sequence.pad_sequences([seq_in], maxlen=max_sequence_train)\n",
        "        prediction=model.predict(x)\n",
        "        #ipdb.set_trace()\n",
        "        prediction=prediction.reshape(prediction.shape[1],prediction.shape[2])\n",
        "        #take all the values \n",
        "        temp_list=history_int[:max_sequence_train]\n",
        "        for i in range(len(prediction)):\n",
        "          itemid=np.argmax(prediction[i])\n",
        "          while itemid in temp_list:\n",
        "            # find the next one\n",
        "            prediction[i][itemid]=0\n",
        "            itemid=np.argmax(prediction[i])            \n",
        "          temp_list.append(itemid)\n",
        "          couverture.append(itemid)\n",
        "          if userid in dico_reco:\n",
        "            dico_reco[userid].append(itemid)\n",
        "          else:\n",
        "            dico_reco[userid]=[itemid]\n",
        "      else:\n",
        "        print(\"choose another value for {}\".format(Shift)) \n",
        "        exit(-1)       \n",
        "    if count_user%1000 == 0 :\n",
        "      print(\" user {} traité, nb total de users traité: {}\".format(userid,count_user))\n",
        "  couverture=np.unique(couverture)\n",
        "  print(\"nb de user ayant une prediction\",len(dico_reco))\n",
        "  print(\"nb de user pour lesquels une prediction est calculée\",count_user_accepted)\n",
        "  print(\"nb de user pour lesquels on cherche une prediction\",count_user)\n",
        "  print(\"nb de reco <>\",len(couverture))"
      ],
      "execution_count": null,
      "outputs": [
        {
          "output_type": "stream",
          "text": [
            "nb de user ayant une prediction 708\n",
            "nb de user pour lesquels une prediction est calculée 708\n",
            "nb de user pour lesquels on cherche une prediction 708\n",
            "nb de reco <> 723\n"
          ],
          "name": "stdout"
        }
      ]
    },
    {
      "cell_type": "code",
      "metadata": {
        "colab": {
          "base_uri": "https://localhost:8080/"
        },
        "id": "JnDf14GK5x0S",
        "outputId": "0a656100-70b2-46bf-8f8f-359765a59533"
      },
      "source": [
        "check_user[:10]"
      ],
      "execution_count": null,
      "outputs": [
        {
          "output_type": "execute_result",
          "data": {
            "text/plain": [
              "[475, 1452, 2534, 3462, 4059, 5009, 5024, 5179, 5482, 5487]"
            ]
          },
          "metadata": {
            "tags": []
          },
          "execution_count": 149
        }
      ]
    },
    {
      "cell_type": "code",
      "metadata": {
        "colab": {
          "base_uri": "https://localhost:8080/"
        },
        "id": "qjtPBEUWQAxZ",
        "outputId": "34d63a02-db72-4d62-fcb8-26424df48d96"
      },
      "source": [
        "# calcul max_DCG\n",
        "import math\n",
        "def log2(x):\n",
        " return(math.log(x,2))\n",
        "max_DCG=0.\n",
        "for i in range(1,num_prediction+1):\n",
        "    max_DCG+=(2**(num_prediction+1-i)-1)/log2(i+1)\n",
        "print(\"max_DCG\",max_DCG)    "
      ],
      "execution_count": null,
      "outputs": [
        {
          "output_type": "stream",
          "text": [
            "max_DCG 1571.4155855572703\n"
          ],
          "name": "stdout"
        }
      ]
    },
    {
      "cell_type": "code",
      "metadata": {
        "colab": {
          "base_uri": "https://localhost:8080/"
        },
        "id": "pTMcKC-ZQX75",
        "outputId": "2b6bf57f-8f10-4baa-9631-0de0b48db694"
      },
      "source": [
        "# calcul de la précision, sur ensemble de test\n",
        "tab_AP=[]\n",
        "precision_at_k=0.\n",
        "MRR=0.\n",
        "DCG=0.\n",
        "max_DCG\n",
        "count=0  \n",
        "count_MRR=0 \n",
        "count_DCG=0\n",
        "average_DCG=0\n",
        "label_set=set({})\n",
        "new_max_sequence_label=10\n",
        "for user in sample_test_0:\n",
        "  if np.count_nonzero(data_test_top1000_without_doublon.loc[user])>THRESHOLD_HISTORY:\n",
        "    # initialisation des variables\n",
        "    tab_P=[]\n",
        "    # calcul du nombre délement en commun rapporté à num_prediction (formule peut poser pb avec les répétition)\n",
        "    history_int=[song_top1000_2_int[k] for k in data_test_top1000_without_doublon.loc[user] if k!=0 ]\n",
        "    #print(\"history_int\",history_int)\n",
        "    label=history_int[-new_max_sequence_label:]  # on prend les max_sequence_label derniers...ceux d'avant ont été entré pour demander une prédiction\n",
        "    #print(label)\n",
        "    label_set.update(set(label))\n",
        "    #input('wait')\n",
        "    #retrieved_song_index=set(label)&set(dico_reco[user])\n",
        "    # car pas de doublon\n",
        "    retrieved_song=[x for x in dico_reco[user] if x in label]\n",
        "    # compactage pour ne pas compter les répétitions\n",
        "    retrieve_out_repet=[]\n",
        "    for x in retrieved_song:\n",
        "      if x not in retrieve_out_repet:\n",
        "        retrieve_out_repet.append(x)\n",
        "      else:\n",
        "        continue \n",
        "    retrieved_song=retrieve_out_repet    \n",
        "    #print(\"retrieved\",retrieved_song)\n",
        "    #ipdb.set_trace()\n",
        "\n",
        "    #precision@(num_prediction) \n",
        "    for song_index in retrieved_song:\n",
        "      precision_at_k+=min(label.count(song_index),dico_reco[user].count(song_index))\n",
        "      #print(\"precision\",precision_at_k)\n",
        "    count+=1\n",
        "    \n",
        "    #AP@k\n",
        "    # d'après https://medium.com/swlh/rank-aware-recsys-evaluation-metrics-5191bba16832\n",
        "    P=0.0\n",
        "    for rank in range(1,min(num_prediction,len(label))+1):\n",
        "        # calcul P@rank\n",
        "        #print(\" prediction for {}:{}\".format(user,dico_reco[user]))\n",
        "        #print(\"label\",label)\n",
        "        if dico_reco[user][rank-1] in label:\n",
        "            P+=1.0\n",
        "            AP_inter=P/rank\n",
        "            tab_P.append(AP_inter)\n",
        "            #print(\"P\",P)\n",
        "        else:\n",
        "            continue\n",
        "\n",
        "    if len(retrieved_song)!=0:\n",
        "        AP=sum(tab_P)/len(retrieved_song)\n",
        "    else:\n",
        "        AP=0\n",
        "    tab_AP.append(AP)  \n",
        "    \n",
        "    #MRR\n",
        "    # see https://medium.com/swlh/rank-aware-recsys-evaluation-metrics-5191bba16832\n",
        "    for song in dico_reco[user]:\n",
        "      if song in label:\n",
        "        MRR+=1.0/(dico_reco[user].index(song)+1)\n",
        "        count_MRR+=1\n",
        "        break\n",
        "      else:\n",
        "        continue  \n",
        "    \n",
        "    #NDCG  \n",
        "    DCG=0\n",
        "    for song in dico_reco[user]:\n",
        "      if song in label:\n",
        "        DCG+=(2**(num_prediction-label.index(song))-1)/log2(dico_reco[user].index(song)+2)\n",
        "      else:\n",
        "        continue\n",
        "    DCG/=max_DCG\n",
        "    average_DCG+=DCG    \n",
        "          \n",
        "    \n",
        "\n",
        "  else:\n",
        "    continue  \n",
        "print(count)\n",
        "print(\"precision\",precision_at_k)\n",
        " \n",
        "precision_at_k=float(precision_at_k)/float(count*num_prediction)\n",
        "MRR=float(MRR)/float(count)\n",
        "MAP=sum(tab_AP)/len(tab_AP)\n",
        "average_DCG=float(average_DCG)/float(count)\n",
        "\n",
        "print(\"nb d'items <> dans le label set : {}\".format(len(label_set)))\n",
        "print(\"precision at {} sur ensemble de train complet égale à {}\".format(num_prediction,precision_at_k))\n",
        "print(\"nommbre de user sur lequel la precision peut être calculé : {}\".format(count))\n",
        "print(\"MRR sur ensemble de train complet égale à {}\".format(MRR))\n",
        "print(\"nombre de user sur lesquel MRR peut être calculé : {}\".format(count_MRR))\n",
        "print(\"MAP sur ensemble de train complet égale à {}\".format(MAP))\n",
        "print(\"nommbre de user sur lequel MAP peut être calculé : {}\".format(len(tab_AP)))\n",
        "print(\"NDCG sur ensemble de train complet égale à {}\".format(average_DCG))\n",
        "print(\"nommbre d'item pour lequel DCG peut être calculé : {}\".format(count))\n",
        "print(\"couverture_ coverage: {}\".format(len(couverture)/len(label_set)))\n",
        "\n",
        "\n",
        "print(\"nombre de user pris en compte : {}\".format(count))"
      ],
      "execution_count": null,
      "outputs": [
        {
          "output_type": "stream",
          "text": [
            "708\n",
            "precision 713.0\n",
            "nb d'items <> dans le label set : 2541\n",
            "precision at 10 sur ensemble de train complet égale à 0.10070621468926554\n",
            "nommbre de user sur lequel la precision peut être calculé : 708\n",
            "MRR sur ensemble de train complet égale à 0.20703468298807284\n",
            "nombre de user sur lesquel MRR peut être calculé : 420\n",
            "MAP sur ensemble de train complet égale à 0.19862862635638068\n",
            "nommbre de user sur lequel MAP peut être calculé : 708\n",
            "NDCG sur ensemble de train complet égale à 0.056667368540680364\n",
            "nommbre d'item pour lequel DCG peut être calculé : 708\n",
            "couverture_ coverage: 0.2845336481700118\n",
            "nombre de user pris en compte : 708\n"
          ],
          "name": "stdout"
        }
      ]
    },
    {
      "cell_type": "code",
      "metadata": {
        "id": "H1gE0af3cip8"
      },
      "source": [
        "average_measure['PREC'].append([SHUFFLE_TEST,round(precision_at_k,4)])\n",
        "average_measure['MAP'].append([SHUFFLE_TEST,round(MAP,4)])\n",
        "average_measure['MRR'].append([SHUFFLE_TEST,round(MRR,4)])\n",
        "average_measure['NDCG'].append([SHUFFLE_TEST,round(average_DCG,4)])\n",
        "average_measure['recall'].append([SHUFFLE_TEST,round(len(couverture)/len(label_set),4)])"
      ],
      "execution_count": null,
      "outputs": []
    },
    {
      "cell_type": "code",
      "metadata": {
        "colab": {
          "base_uri": "https://localhost:8080/"
        },
        "id": "Ouw_mkRud1KR",
        "outputId": "99e9c95d-e182-44e0-8678-c99e3f626dbf"
      },
      "source": [
        "average_measure"
      ],
      "execution_count": null,
      "outputs": [
        {
          "output_type": "execute_result",
          "data": {
            "text/plain": [
              "{'MAP': [[False, 0.2032], [True, 0.1986]],\n",
              " 'MRR': [[False, 0.215], [True, 0.207]],\n",
              " 'NDCG': [[False, 0.0577], [True, 0.0567]],\n",
              " 'PREC': [[False, 0.1007], [True, 0.1007]],\n",
              " 'recall': [[False, 0.2885], [True, 0.2845]]}"
            ]
          },
          "metadata": {
            "tags": []
          },
          "execution_count": 153
        }
      ]
    },
    {
      "cell_type": "markdown",
      "metadata": {
        "id": "8xffMBf-Q3Wi"
      },
      "source": [
        "#Store dico recommendation\n"
      ]
    },
    {
      "cell_type": "code",
      "metadata": {
        "id": "ctan6-5YsFAf"
      },
      "source": [
        "import copy\n",
        "dico_reco_sav=copy.deepcopy(dico_reco)"
      ],
      "execution_count": null,
      "outputs": []
    },
    {
      "cell_type": "markdown",
      "metadata": {
        "id": "tcLd056SRiXu"
      },
      "source": [
        "#Overlap between shuffle and not shuffle\n"
      ]
    },
    {
      "cell_type": "code",
      "metadata": {
        "id": "ENSMxrIORzZG"
      },
      "source": [
        "tab_count=[]\n",
        "for user in dico_reco:\n",
        "  # all reco being uniques we can use set without losing information\n",
        "  tab_count.append(len(set(dico_reco[user])&(set(dico_reco_sav[user]))))\n",
        "\n",
        "overlap=np.average(tab_count)/num_prediction\n"
      ],
      "execution_count": null,
      "outputs": []
    },
    {
      "cell_type": "code",
      "metadata": {
        "colab": {
          "base_uri": "https://localhost:8080/",
          "height": 358
        },
        "id": "0I_kAGZeWHiI",
        "outputId": "86c0716f-7382-45f9-c77a-07280c14cadd"
      },
      "source": [
        "import matplotlib.pyplot as plt\n",
        "plt.hist(tab_count,11)"
      ],
      "execution_count": null,
      "outputs": [
        {
          "output_type": "execute_result",
          "data": {
            "text/plain": [
              "(array([  3.,  16.,  75., 180., 289.,   0., 327., 339., 203.,  67.,   5.]),\n",
              " array([ 1.        ,  1.81818182,  2.63636364,  3.45454545,  4.27272727,\n",
              "         5.09090909,  5.90909091,  6.72727273,  7.54545455,  8.36363636,\n",
              "         9.18181818, 10.        ]),\n",
              " <a list of 11 Patch objects>)"
            ]
          },
          "metadata": {
            "tags": []
          },
          "execution_count": 140
        },
        {
          "output_type": "display_data",
          "data": {
            "image/png": "[encoded data removed]",
            "text/plain": [
              "<Figure size 432x288 with 1 Axes>"
            ]
          },
          "metadata": {
            "tags": []
          }
        }
      ]
    },
    {
      "cell_type": "code",
      "metadata": {
        "colab": {
          "base_uri": "https://localhost:8080/"
        },
        "id": "JjhPbisxWkTn",
        "outputId": "6ea43b62-3470-4fac-de8c-1c7c996fcce1"
      },
      "source": [
        "print(\"overlap average\",np.average(tab_count))"
      ],
      "execution_count": null,
      "outputs": [
        {
          "output_type": "stream",
          "text": [
            "overlap average 6.008643617021277\n"
          ],
          "name": "stdout"
        }
      ]
    },
    {
      "cell_type": "code",
      "metadata": {
        "id": "vUo5cuyKULa_"
      },
      "source": [
        "# True positiv among overlap, is it greater then the average ?\n",
        "tab_nb_TP=[]\n",
        "tab_nb_TP_no_shuffle=[]\n",
        "tab_nb_TP_shuffle=[]\n",
        "tab_nb_common=[]\n",
        "for user in dico_reco:\n",
        "  # all reco being uniques we can use set without losing information\n",
        "  label_test =[song_top1000_2_int[k] for k in data_test_top1000_without_doublon.loc[user] if k!=0 ][-(num_prediction):]\n",
        "  nb_TP=len(set(dico_reco[user])&set(dico_reco_sav[user])&set(label_test))\n",
        "  nb_TP_no_shuffle=len(set(dico_reco[user])&set(label_test))\n",
        "  nb_TP_shuffle=len(set(dico_reco_sav[user])&set(label_test))\n",
        "  nb_common=len(set(dico_reco_sav[user])&set(dico_reco[user]))\n",
        "  tab_nb_TP_shuffle.append(nb_TP_shuffle)\n",
        "  tab_nb_TP_no_shuffle.append(nb_TP_no_shuffle)\n",
        "  tab_nb_TP.append(nb_TP)\n",
        "  tab_nb_common.append(nb_common)"
      ],
      "execution_count": null,
      "outputs": []
    },
    {
      "cell_type": "code",
      "metadata": {
        "colab": {
          "base_uri": "https://localhost:8080/"
        },
        "id": "4W2jeDSZVwBS",
        "outputId": "e4a69577-a71c-4034-fe02-36135bafe92c"
      },
      "source": [
        "np.average(tab_nb_TP)/num_prediction"
      ],
      "execution_count": null,
      "outputs": [
        {
          "output_type": "execute_result",
          "data": {
            "text/plain": [
              "0.061635638297872344"
            ]
          },
          "metadata": {
            "tags": []
          },
          "execution_count": 155
        }
      ]
    },
    {
      "cell_type": "code",
      "metadata": {
        "colab": {
          "base_uri": "https://localhost:8080/"
        },
        "id": "-Yl9PopXn3o5",
        "outputId": "75fb6726-6aa3-431f-d5b9-dbb375734919"
      },
      "source": [
        "print(len(dico_reco)*num_prediction,np.sum(tab_nb_TP), np.sum(tab_nb_TP_no_shuffle), np.sum(tab_nb_TP_shuffle), np.sum(tab_nb_common))"
      ],
      "execution_count": null,
      "outputs": [
        {
          "output_type": "stream",
          "text": [
            "15040 927 1243 1229 9037\n"
          ],
          "name": "stdout"
        }
      ]
    },
    {
      "cell_type": "code",
      "metadata": {
        "colab": {
          "base_uri": "https://localhost:8080/"
        },
        "id": "dVQuGMn0klX5",
        "outputId": "9303c162-2974-469a-e813-4cd63c9dc12b"
      },
      "source": [
        "np.average(tab_nb_TP_no_shuffle)/num_prediction"
      ],
      "execution_count": null,
      "outputs": [
        {
          "output_type": "execute_result",
          "data": {
            "text/plain": [
              "0.08264627659574468"
            ]
          },
          "metadata": {
            "tags": []
          },
          "execution_count": 156
        }
      ]
    },
    {
      "cell_type": "code",
      "metadata": {
        "colab": {
          "base_uri": "https://localhost:8080/"
        },
        "id": "daf_hnYelp1M",
        "outputId": "3d04bdc9-7bc0-4149-be21-de59627fbc91"
      },
      "source": [
        "np.average(tab_nb_TP_shuffle)/num_prediction"
      ],
      "execution_count": null,
      "outputs": [
        {
          "output_type": "execute_result",
          "data": {
            "text/plain": [
              "0.0817154255319149"
            ]
          },
          "metadata": {
            "tags": []
          },
          "execution_count": 158
        }
      ]
    },
    {
      "cell_type": "code",
      "metadata": {
        "colab": {
          "base_uri": "https://localhost:8080/"
        },
        "id": "O6bNb08flXXA",
        "outputId": "591f8b73-a7a2-48ff-c2cc-ed8fb1261e9c"
      },
      "source": [
        "np.average(tab_nb_common)/num_prediction"
      ],
      "execution_count": null,
      "outputs": [
        {
          "output_type": "execute_result",
          "data": {
            "text/plain": [
              "0.6008643617021276"
            ]
          },
          "metadata": {
            "tags": []
          },
          "execution_count": 163
        }
      ]
    },
    {
      "cell_type": "markdown",
      "metadata": {
        "id": "wZP9d_2iL3Ys"
      },
      "source": [
        "#Backup result"
      ]
    },
    {
      "cell_type": "code",
      "metadata": {
        "colab": {
          "base_uri": "https://localhost:8080/",
          "height": 210
        },
        "id": "GJW9TLzYcBlf",
        "outputId": "9b95a52c-6b54-47af-d03f-0639a35c0442"
      },
      "source": [
        "import datetime\n",
        "str(datetime.datetime.now())\n",
        "print(count_user)"
      ],
      "execution_count": null,
      "outputs": [
        {
          "output_type": "error",
          "ename": "NameError",
          "evalue": "ignored",
          "traceback": [
            "\u001b[0;31m---------------------------------------------------------------------------\u001b[0m",
            "\u001b[0;31mNameError\u001b[0m                                 Traceback (most recent call last)",
            "\u001b[0;32m<ipython-input-4-274fd09a229a>\u001b[0m in \u001b[0;36m<module>\u001b[0;34m()\u001b[0m\n\u001b[1;32m      1\u001b[0m \u001b[0;32mimport\u001b[0m \u001b[0mdatetime\u001b[0m\u001b[0;34m\u001b[0m\u001b[0;34m\u001b[0m\u001b[0m\n\u001b[1;32m      2\u001b[0m \u001b[0mstr\u001b[0m\u001b[0;34m(\u001b[0m\u001b[0mdatetime\u001b[0m\u001b[0;34m.\u001b[0m\u001b[0mdatetime\u001b[0m\u001b[0;34m.\u001b[0m\u001b[0mnow\u001b[0m\u001b[0;34m(\u001b[0m\u001b[0;34m)\u001b[0m\u001b[0;34m)\u001b[0m\u001b[0;34m\u001b[0m\u001b[0;34m\u001b[0m\u001b[0m\n\u001b[0;32m----> 3\u001b[0;31m \u001b[0mprint\u001b[0m\u001b[0;34m(\u001b[0m\u001b[0mcount_user\u001b[0m\u001b[0;34m)\u001b[0m\u001b[0;34m\u001b[0m\u001b[0;34m\u001b[0m\u001b[0m\n\u001b[0m",
            "\u001b[0;31mNameError\u001b[0m: name 'count_user' is not defined"
          ]
        }
      ]
    },
    {
      "cell_type": "code",
      "metadata": {
        "colab": {
          "base_uri": "https://localhost:8080/",
          "height": 247
        },
        "id": "3MZ4X9StaKPq",
        "outputId": "a82d0856-11eb-4f0b-a28a-d7a1cda9267e"
      },
      "source": [
        "#stockage des résultats\n",
        "my_path_publication=\"/content/drive/My Drive/ColabNotebooks/publication/\"\n",
        "\n",
        "outfile=\"results.csv\"\n",
        "with open(my_path_publication+outfile, 'a') as f:\n",
        "  f.write(str(datetime.datetime.now())+'\\t'+str(data_select)+'\\t'+str(round(precision_at_k,5))+'\\t'+str(round(MRR,5))+'\\t'+str(round(MAP,5))+'\\t'+str(round(average_DCG,5))+\\\n",
        "          '\\t'+str(count_user)+'\\t'+str(max_sequence_train)+'\\t'+str(max_sequence_label)+'\\t'+str(THRESHOLD_ITEM)+'\\t'+str(THRESHOLD_HISTORY)+'\\t'+str(SHUFFLE_TEST)+\\\n",
        "          '\\t'+str(LSTM_size)+'\\t'+str(epochs)+'\\t'+str(embedding_size)+'\\t'+str(dropout_lstm_value)+'\\t'+str(dropout_layer_value)+'\\t'+str(reg)+\\\n",
        "          '\\t'+str(ratio_sampling_top)+'\\t'+str(num_prediction)+'\\t'+str(Shift)+'\\t'+str(batchsize)+'\\t'+'target_ten_lastFM_1k_LSTM_Embeddings_multilabel_session_dataset_filtered_item.ipynb'+'\\n')\n",
        "f.close()"
      ],
      "execution_count": null,
      "outputs": [
        {
          "output_type": "error",
          "ename": "NameError",
          "evalue": "ignored",
          "traceback": [
            "\u001b[0;31m---------------------------------------------------------------------------\u001b[0m",
            "\u001b[0;31mNameError\u001b[0m                                 Traceback (most recent call last)",
            "\u001b[0;32m<ipython-input-3-dd49c984ffa9>\u001b[0m in \u001b[0;36m<module>\u001b[0;34m()\u001b[0m\n\u001b[1;32m      4\u001b[0m \u001b[0moutfile\u001b[0m\u001b[0;34m=\u001b[0m\u001b[0;34m\"results.csv\"\u001b[0m\u001b[0;34m\u001b[0m\u001b[0;34m\u001b[0m\u001b[0m\n\u001b[1;32m      5\u001b[0m \u001b[0;32mwith\u001b[0m \u001b[0mopen\u001b[0m\u001b[0;34m(\u001b[0m\u001b[0mmy_path_publication\u001b[0m\u001b[0;34m+\u001b[0m\u001b[0moutfile\u001b[0m\u001b[0;34m,\u001b[0m \u001b[0;34m'a'\u001b[0m\u001b[0;34m)\u001b[0m \u001b[0;32mas\u001b[0m \u001b[0mf\u001b[0m\u001b[0;34m:\u001b[0m\u001b[0;34m\u001b[0m\u001b[0;34m\u001b[0m\u001b[0m\n\u001b[0;32m----> 6\u001b[0;31m   \u001b[0mf\u001b[0m\u001b[0;34m.\u001b[0m\u001b[0mwrite\u001b[0m\u001b[0;34m(\u001b[0m\u001b[0mstr\u001b[0m\u001b[0;34m(\u001b[0m\u001b[0mdatetime\u001b[0m\u001b[0;34m.\u001b[0m\u001b[0mdatetime\u001b[0m\u001b[0;34m.\u001b[0m\u001b[0mnow\u001b[0m\u001b[0;34m(\u001b[0m\u001b[0;34m)\u001b[0m\u001b[0;34m)\u001b[0m\u001b[0;34m+\u001b[0m\u001b[0;34m'\\t'\u001b[0m\u001b[0;34m+\u001b[0m\u001b[0mstr\u001b[0m\u001b[0;34m(\u001b[0m\u001b[0mdata_select\u001b[0m\u001b[0;34m)\u001b[0m\u001b[0;34m+\u001b[0m\u001b[0;34m'\\t'\u001b[0m\u001b[0;34m+\u001b[0m\u001b[0mstr\u001b[0m\u001b[0;34m(\u001b[0m\u001b[0mround\u001b[0m\u001b[0;34m(\u001b[0m\u001b[0mprecision_at_k\u001b[0m\u001b[0;34m,\u001b[0m\u001b[0;36m5\u001b[0m\u001b[0;34m)\u001b[0m\u001b[0;34m)\u001b[0m\u001b[0;34m+\u001b[0m\u001b[0;34m'\\t'\u001b[0m\u001b[0;34m+\u001b[0m\u001b[0mstr\u001b[0m\u001b[0;34m(\u001b[0m\u001b[0mround\u001b[0m\u001b[0;34m(\u001b[0m\u001b[0mMRR\u001b[0m\u001b[0;34m,\u001b[0m\u001b[0;36m5\u001b[0m\u001b[0;34m)\u001b[0m\u001b[0;34m)\u001b[0m\u001b[0;34m+\u001b[0m\u001b[0;34m'\\t'\u001b[0m\u001b[0;34m+\u001b[0m\u001b[0mstr\u001b[0m\u001b[0;34m(\u001b[0m\u001b[0mround\u001b[0m\u001b[0;34m(\u001b[0m\u001b[0mMAP\u001b[0m\u001b[0;34m,\u001b[0m\u001b[0;36m5\u001b[0m\u001b[0;34m)\u001b[0m\u001b[0;34m)\u001b[0m\u001b[0;34m+\u001b[0m\u001b[0;34m'\\t'\u001b[0m\u001b[0;34m+\u001b[0m\u001b[0mstr\u001b[0m\u001b[0;34m(\u001b[0m\u001b[0mround\u001b[0m\u001b[0;34m(\u001b[0m\u001b[0maverage_DCG\u001b[0m\u001b[0;34m,\u001b[0m\u001b[0;36m5\u001b[0m\u001b[0;34m)\u001b[0m\u001b[0;34m)\u001b[0m\u001b[0;34m+\u001b[0m          \u001b[0;34m'\\t'\u001b[0m\u001b[0;34m+\u001b[0m\u001b[0mstr\u001b[0m\u001b[0;34m(\u001b[0m\u001b[0mcount_user\u001b[0m\u001b[0;34m)\u001b[0m\u001b[0;34m+\u001b[0m\u001b[0;34m'\\t'\u001b[0m\u001b[0;34m+\u001b[0m\u001b[0mstr\u001b[0m\u001b[0;34m(\u001b[0m\u001b[0mmax_sequence_train\u001b[0m\u001b[0;34m)\u001b[0m\u001b[0;34m+\u001b[0m\u001b[0;34m'\\t'\u001b[0m\u001b[0;34m+\u001b[0m\u001b[0mstr\u001b[0m\u001b[0;34m(\u001b[0m\u001b[0mmax_sequence_label\u001b[0m\u001b[0;34m)\u001b[0m\u001b[0;34m+\u001b[0m\u001b[0;34m'\\t'\u001b[0m\u001b[0;34m+\u001b[0m\u001b[0mstr\u001b[0m\u001b[0;34m(\u001b[0m\u001b[0mTHRESHOLD_ITEM\u001b[0m\u001b[0;34m)\u001b[0m\u001b[0;34m+\u001b[0m\u001b[0;34m'\\t'\u001b[0m\u001b[0;34m+\u001b[0m\u001b[0mstr\u001b[0m\u001b[0;34m(\u001b[0m\u001b[0mTHRESHOLD_HISTORY\u001b[0m\u001b[0;34m)\u001b[0m\u001b[0;34m+\u001b[0m\u001b[0;34m'\\t'\u001b[0m\u001b[0;34m+\u001b[0m\u001b[0mstr\u001b[0m\u001b[0;34m(\u001b[0m\u001b[0mSHUFFLE_TEST\u001b[0m\u001b[0;34m)\u001b[0m\u001b[0;34m+\u001b[0m  ...\n\u001b[0m\u001b[1;32m      7\u001b[0m \u001b[0mf\u001b[0m\u001b[0;34m.\u001b[0m\u001b[0mclose\u001b[0m\u001b[0;34m(\u001b[0m\u001b[0;34m)\u001b[0m\u001b[0;34m\u001b[0m\u001b[0;34m\u001b[0m\u001b[0m\n",
            "\u001b[0;31mNameError\u001b[0m: name 'data_select' is not defined"
          ]
        }
      ]
    },
    {
      "cell_type": "markdown",
      "metadata": {
        "id": "9b6X-Jyao_Xi"
      },
      "source": [
        "#Inference"
      ]
    },
    {
      "cell_type": "code",
      "metadata": {
        "id": "h6_z_vLOVhNs"
      },
      "source": [
        "# Filtrage test pour les utilisateurs à historique > 20\n",
        "data_test_above_20=[]\n",
        "for i in data_test_top1000_without_doublon.index:\n",
        "  #print(data_test.loc[i])\n",
        "  if np.count_nonzero(data_test_top1000_without_doublon.loc[i])>THRESHOLD_HISTORY:\n",
        "    data_test_above_20.append(list(data_test_top1000_without_doublon.loc[i]))\n",
        "  "
      ],
      "execution_count": null,
      "outputs": []
    },
    {
      "cell_type": "code",
      "metadata": {
        "colab": {
          "base_uri": "https://localhost:8080/"
        },
        "id": "aHxYg0a7Qljt",
        "outputId": "38b4a59f-ebaa-4f5b-bfa0-fa4ed6ee531c"
      },
      "source": [
        "len(data_test_top1000_without_doublon)"
      ],
      "execution_count": null,
      "outputs": [
        {
          "output_type": "execute_result",
          "data": {
            "text/plain": [
              "126559"
            ]
          },
          "metadata": {
            "tags": []
          },
          "execution_count": 87
        }
      ]
    },
    {
      "cell_type": "code",
      "metadata": {
        "colab": {
          "base_uri": "https://localhost:8080/",
          "height": 172
        },
        "id": "yWBCyr0VRCvY",
        "outputId": "468b953f-d3d1-478d-9fea-f492309d605b"
      },
      "source": [
        "[song_top1000_2_int[k] for k in data_test_above_20[1154] if k!=0]"
      ],
      "execution_count": null,
      "outputs": [
        {
          "output_type": "error",
          "ename": "NameError",
          "evalue": "ignored",
          "traceback": [
            "\u001b[0;31m---------------------------------------------------------------------------\u001b[0m",
            "\u001b[0;31mNameError\u001b[0m                                 Traceback (most recent call last)",
            "\u001b[0;32m<ipython-input-134-105061f07784>\u001b[0m in \u001b[0;36m<module>\u001b[0;34m()\u001b[0m\n\u001b[0;32m----> 1\u001b[0;31m \u001b[0;34m[\u001b[0m\u001b[0msong_top1000_2_int\u001b[0m\u001b[0;34m[\u001b[0m\u001b[0mk\u001b[0m\u001b[0;34m]\u001b[0m \u001b[0;32mfor\u001b[0m \u001b[0mk\u001b[0m \u001b[0;32min\u001b[0m \u001b[0mdata_test_above_20\u001b[0m\u001b[0;34m[\u001b[0m\u001b[0;36m1154\u001b[0m\u001b[0;34m]\u001b[0m \u001b[0;32mif\u001b[0m \u001b[0mk\u001b[0m\u001b[0;34m!=\u001b[0m\u001b[0;36m0\u001b[0m\u001b[0;34m]\u001b[0m\u001b[0;34m\u001b[0m\u001b[0;34m\u001b[0m\u001b[0m\n\u001b[0m",
            "\u001b[0;31mNameError\u001b[0m: name 'data_test_above_20' is not defined"
          ]
        }
      ]
    },
    {
      "cell_type": "code",
      "metadata": {
        "colab": {
          "base_uri": "https://localhost:8080/"
        },
        "id": "hTZpj49uUhAT",
        "outputId": "8003fab6-2463-4063-a5dc-3815f9f6e10d"
      },
      "source": [
        "# inférence\n",
        "couverture=[]\n",
        "SHUFFLE_TEST=True\n",
        "dico_inf={}\n",
        "dico_inf_shuffle={}\n",
        "#user=np.random.choice(list(range(len(data_test_above_20))),1)[0]\n",
        "user=1154\n",
        "print(\"user\",user)\n",
        "history_int=[song_top1000_2_int[k] for k in data_test_above_20[user] if k!=0]\n",
        "seq_in=history_int[-(max_sequence_train+num_prediction):-num_prediction] # sous-seq de longueur max_sequence_train\n",
        "print(\"seq_in int\", seq_in)\n",
        "if SHUFFLE_TEST:\n",
        "  np.random.shuffle(seq_in)\n",
        "print(\"seq_in int\", seq_in)\n",
        "if ITER:\n",
        "  if Shift==1:\n",
        "    save_index=history_int[:max_sequence_train]\n",
        "    count_reco=0\n",
        "    while count_reco < num_prediction:\n",
        "      x = sequence.pad_sequences([seq_in], maxlen=max_sequence_train)\n",
        "      prediction=model.predict(x)\n",
        "      for index in save_index:\n",
        "        prediction[0][index]=0 \n",
        "      index_target=np.argmax(prediction[0])\n",
        "      save_index.append(index_target)\n",
        "      #print(\"index_target\",index_target)\n",
        "      couverture.append(index_target)\n",
        "      seq_in=seq_in[1:]+[index_target]\n",
        "      print(\"seq_in\",seq_in)\n",
        "      count_reco+=1\n",
        "  elif Shift==max_sequence_train:\n",
        "    x = sequence.pad_sequences([seq_in], maxlen=max_sequence_train)\n",
        "    prediction=model.predict(x)\n",
        "    #ipdb.set_trace()\n",
        "    prediction=prediction.reshape(prediction.shape[1],prediction.shape[2])\n",
        "    #take all the values \n",
        "    temp_list=history_int[:max_sequence_train]\n",
        "    for i in range(len(prediction)):\n",
        "      itemid=np.argmax(prediction[i])\n",
        "      while itemid in temp_list:\n",
        "        # find the next one\n",
        "        prediction[i][itemid]=0\n",
        "        itemid=np.argmax(prediction[i])            \n",
        "      temp_list.append(itemid)\n",
        "      couverture.append(itemid)\n",
        "  else:\n",
        "    print(\"choose another value for {}\".format(Shift)) \n",
        "    exit(-1)       \n",
        "else:\n",
        "  if Shift==1:\n",
        "    count_reco=0\n",
        "    x = sequence.pad_sequences([seq_in], maxlen=max_sequence_train)\n",
        "    prediction=model.predict(x)\n",
        "    liste_index_target=np.argsort(prediction[0])[::-1][:num_prediction]\n",
        "    for index_target in liste_index_target:\n",
        "      couverture.append(index_target)\n",
        "if SHUFFLE:\n",
        "  dico_inf_shuffle[user]=couverture\n",
        "elif not SHUFFLE :\n",
        "  dico_inf[user]=couverture \n",
        "\n",
        "print(\"prediction\",couverture)\n",
        "label=label=history_int[-new_max_sequence_label:]\n",
        "print(\"label\",label)\n",
        "print(\"nb vrais positifs\",len(set(couverture)&set(label)))\n",
        "  "
      ],
      "execution_count": null,
      "outputs": [
        {
          "output_type": "stream",
          "text": [
            "user 1154\n",
            "seq_in int [597, 13574, 1917, 9060, 20047, 442, 10780, 12476, 5979, 2343]\n",
            "seq_in int [597, 442, 10780, 5979, 12476, 13574, 9060, 2343, 1917, 20047]\n",
            "prediction [25, 203, 999, 510, 524, 547, 6031, 2156, 1568, 3350]\n",
            "label [2245, 753, 546, 827, 2350, 711, 703, 20048, 1168, 14086]\n",
            "nb vrais positifs 0\n"
          ],
          "name": "stdout"
        }
      ]
    },
    {
      "cell_type": "code",
      "metadata": {
        "colab": {
          "base_uri": "https://localhost:8080/"
        },
        "id": "VBf3kRW0Zshp",
        "outputId": "44099bcc-27a7-4043-9623-fea0ecedd9ef"
      },
      "source": [
        "dico_reco"
      ],
      "execution_count": null,
      "outputs": [
        {
          "output_type": "execute_result",
          "data": {
            "text/plain": [
              "{475: [25, 12, 1, 78, 70, 232, 92, 158, 286, 895],\n",
              " 739: [12, 25, 663, 694, 1251, 1261, 1115, 1270, 1223, 1498],\n",
              " 746: [25, 1251, 307, 12, 1904, 1331, 1261, 694, 897, 865],\n",
              " 1302: [25, 982, 49, 440, 620, 67, 411, 82, 1129, 974],\n",
              " 1400: [2074, 155, 1867, 2951, 2824, 1812, 960, 180, 2500, 1588],\n",
              " 1416: [25, 1438, 12, 2578, 3, 1041, 8032, 2174, 6646, 1386],\n",
              " 1427: [25, 2074, 538, 620, 960, 43, 51, 748, 4792, 6843],\n",
              " 1450: [25, 307, 1748, 3291, 3244, 1416, 642, 1694, 1279, 1908],\n",
              " 1452: [25, 1219, 307, 1, 866, 3289, 1983, 1830, 1237, 3246],\n",
              " 1466: [25, 307, 2247, 1168, 1237, 637, 1364, 1263, 1261, 528],\n",
              " 1478: [25, 307, 1289, 637, 3291, 3303, 1033, 3429, 1279, 1248],\n",
              " 1544: [25, 817, 293, 288, 71, 909, 1043, 1209, 2715, 286],\n",
              " 1641: [25, 597, 3350, 2358, 999, 2050, 8316, 1563, 2243, 2245],\n",
              " 1760: [1251, 1079, 1261, 694, 760, 946, 82, 293, 203, 193],\n",
              " 2534: [25, 4383, 1588, 1417, 289, 288, 1291, 40, 909, 203],\n",
              " 2679: [25, 10824, 3260, 101, 1041, 2305, 1985, 4484, 3038, 501],\n",
              " 3462: [151, 1230, 71, 495, 293, 960, 203, 12, 158, 67],\n",
              " 4059: [593, 511, 1251, 1270, 1168, 1263, 1079, 2462, 1398, 1261],\n",
              " 4164: [594, 25, 1724, 1786, 866, 1219, 1289, 307, 12, 947],\n",
              " 4272: [1436, 307, 1770, 5963, 7834, 4383, 3429, 902, 2920, 3631],\n",
              " 4314: [25, 1724, 669, 1436, 536, 279, 1235, 949, 2247, 4383],\n",
              " 4414: [667, 1235, 1436, 1652, 1237, 279, 4856, 1457, 9064, 2810],\n",
              " 4443: [25, 5963, 731, 307, 3356, 536, 1427, 4383, 2247, 3344],\n",
              " 4618: [25, 3085, 1237, 3429, 1385, 40, 1436, 279, 2820, 1649],\n",
              " 4621: [25, 902, 7, 5526, 6654, 1237, 598, 2514, 3289, 1219],\n",
              " 4828: [25, 916, 1495, 70, 949, 3356, 594, 674, 642, 1758],\n",
              " 4998: [1251, 25, 3244, 1347, 3126, 4965, 1259, 7863, 3631, 40],\n",
              " 5009: [25, 1237, 2361, 71, 559, 610, 1331, 126, 1789, 2],\n",
              " 5024: [25, 593, 511, 73, 29, 859, 286, 709, 1789, 1331],\n",
              " 5179: [25, 2163, 2126, 2050, 1568, 1563, 1166, 3532, 345, 307],\n",
              " 5357: [25, 80, 2227, 49, 1588, 151, 921, 71, 213, 1188],\n",
              " 5381: [25, 187, 1183, 610, 666, 285, 3350, 711, 3244, 3226],\n",
              " 5482: [49, 25, 1230, 894, 1385, 1129, 13667, 288, 411, 495],\n",
              " 5487: [25, 71, 1129, 1417, 288, 770, 960, 657, 289, 495],\n",
              " 6529: [71, 620, 293, 956, 495, 25, 909, 902, 73, 629],\n",
              " 6538: [25, 1436, 293, 711, 4383, 4856, 187, 3284, 7863, 3631],\n",
              " 6541: [1417, 293, 868, 348, 865, 657, 956, 960, 288, 289],\n",
              " 6549: [7, 71, 25, 2074, 960, 1230, 956, 289, 73, 657],\n",
              " 6556: [1251, 1724, 1385, 669, 40, 13077, 3344, 1875, 2882, 512],\n",
              " 6559: [25, 49, 1230, 1234, 71, 960, 657, 1417, 1588, 536],\n",
              " 6851: [25, 12, 2542, 960, 49, 73, 847, 718, 956, 919],\n",
              " 6853: [25, 3356, 902, 536, 4383, 1438, 348, 1041, 3146, 1197],\n",
              " 6859: [25, 756, 220, 594, 291, 73, 5088, 70, 5048, 214],\n",
              " 6878: [25, 711, 1436, 1279, 9120, 902, 657, 288, 71, 1230],\n",
              " 6883: [25, 307, 3291, 938, 2050, 1986, 731, 1279, 597, 1436],\n",
              " 6901: [222, 95, 817, 761, 1291, 1219, 1649, 3349, 3356, 902],\n",
              " 7208: [25, 1417, 1298, 753, 13550, 2705, 827, 510, 1168, 1267],\n",
              " 7227: [1168, 1251, 25, 203, 2950, 260, 1000, 1298, 1904, 261],\n",
              " 7397: [25, 528, 946, 1904, 203, 1417, 12, 2950, 260, 51],\n",
              " 7490: [307, 179, 71, 440, 711, 193, 2950, 203, 1000, 3],\n",
              " 7588: [25, 1219, 859, 286, 863, 1369, 850, 853, 73, 1605],\n",
              " 7743: [25, 96, 37, 974, 5, 82, 27, 35, 1158, 51],\n",
              " 7756: [25, 193, 440, 827, 203, 980, 1287, 3017, 1079, 51],\n",
              " 7806: [25, 1129, 1049, 1413, 10013, 3038, 243, 946, 119, 27],\n",
              " 7919: [2195, 1568, 1594, 25, 895, 4586, 1563, 708, 1985, 703],\n",
              " 8052: [25, 3244, 1748, 3532, 711, 709, 8316, 8419, 3521, 4586],\n",
              " 8125: [610, 510, 208, 711, 1563, 3350, 3244, 1748, 3532, 2270],\n",
              " 8127: [25, 1251, 1830, 1748, 817, 307, 1219, 847, 2754, 1258],\n",
              " 8188: [25, 73, 1237, 1830, 1908, 1588, 1654, 3930, 3637, 1597],\n",
              " 8446: [603, 25, 12, 629, 512, 1665, 520, 1574, 610, 740],\n",
              " 8463: [25, 1931, 1251, 307, 1260, 1331, 897, 3341, 293, 8708],\n",
              " 8497: [1230, 3350, 620, 1043, 2092, 4811, 393, 151, 25, 731],\n",
              " 8499: [25, 731, 510, 1786, 546, 561, 603, 1291, 1605, 293],\n",
              " 8501: [80, 151, 167, 495, 2040, 278, 2092, 179, 275, 243],\n",
              " 8515: [25, 2244, 3972, 6182, 817, 3223, 512, 598, 709, 1563],\n",
              " 8531: [25, 1041, 947, 1219, 1168, 531, 731, 1258, 1230, 866],\n",
              " 8533: [866, 25, 3353, 10404, 666, 610, 1289, 1219, 1251, 1340],\n",
              " 8544: [25, 1251, 307, 1115, 909, 663, 1383, 1904, 694, 472],\n",
              " 8551: [25, 1219, 1908, 1748, 709, 866, 898, 73, 525, 7310],\n",
              " 8555: [25, 3357, 1383, 1115, 897, 1251, 619, 194, 1331, 1254],\n",
              " 8557: [1748, 25, 1908, 126, 1247, 744, 12, 1289, 78, 760],\n",
              " 8560: [25, 1383, 3357, 3226, 1251, 1407, 521, 1416, 2247, 1283],\n",
              " 8564: [25, 307, 1251, 472, 1247, 213, 96, 286, 1219, 694],\n",
              " 8861: [817, 1251, 25, 610, 895, 293, 151, 1230, 288, 1417],\n",
              " 8994: [25, 2367, 1986, 8846, 703, 2195, 547, 609, 293, 549],\n",
              " 9379: [295, 1013, 348, 36, 213, 35, 96, 222, 4070, 1041],\n",
              " 9393: [307, 1251, 1343, 65, 40, 3017, 261, 760, 12, 1261],\n",
              " 9397: [12, 592, 531, 1289, 1343, 3291, 1257, 637, 307, 1115],\n",
              " 9416: [1343, 1168, 10642, 2351, 1287, 307, 11761, 1079, 261, 878],\n",
              " 9425: [25, 2894, 1343, 3291, 637, 307, 760, 261, 1079, 1398],\n",
              " 9691: [708, 1724, 2195, 1291, 517, 288, 25, 1385, 12147, 561],\n",
              " 9697: [25, 3356, 73, 70, 68, 620, 1896, 195, 35, 284],\n",
              " 9699: [620, 517, 510, 70, 25, 35, 235, 671, 89, 440],\n",
              " 9705: [12, 1724, 2195, 208, 517, 875, 1786, 70, 620, 73],\n",
              " 9708: [620, 126, 718, 286, 90, 916, 25, 29, 798, 99],\n",
              " 9709: [620, 126, 603, 12, 511, 25, 208, 29, 293, 440],\n",
              " 9712: [25, 307, 3356, 12, 598, 73, 718, 90, 511, 875],\n",
              " 9716: [25, 275, 674, 620, 1649, 509, 718, 982, 594, 73],\n",
              " 9721: [25, 12, 546, 293, 510, 208, 866, 70, 511, 620],\n",
              " 9740: [25, 73, 1206, 744, 151, 593, 293, 909, 288, 495],\n",
              " 9743: [517, 25, 949, 1724, 2195, 875, 70, 561, 1786, 48],\n",
              " 9751: [25, 909, 528, 208, 510, 603, 70, 511, 73, 993],\n",
              " 9920: [25, 695, 1605, 875, 70, 275, 1369, 1219, 73, 208],\n",
              " 9988: [25, 12, 718, 208, 1219, 1230, 1369, 90, 126, 49],\n",
              " 10055: [25, 1563, 817, 1568, 608, 1594, 510, 8797, 626, 850],\n",
              " 10060: [25, 510, 547, 202, 1568, 1563, 2544, 1986, 1817, 553],\n",
              " 10178: [1251, 307, 694, 1079, 1115, 1261, 865, 194, 96, 26],\n",
              " 10265: [25, 620, 916, 126, 546, 307, 40, 897, 222, 798],\n",
              " 10351: [694, 307, 897, 194, 40, 1385, 3284, 36, 658, 89],\n",
              " 10355: [1251, 25, 307, 1385, 510, 142, 956, 194, 658, 99],\n",
              " 10402: [25, 293, 2, 1230, 657, 982, 279, 1588, 2506, 1215],\n",
              " 10405: [2, 307, 1, 5963, 5385, 6654, 158, 85, 367, 5484],\n",
              " 10417: [25, 67, 89, 36, 2, 96, 69, 90, 284, 1385],\n",
              " 10419: [293, 208, 73, 2, 96, 89, 36, 1385, 35, 69],\n",
              " 10455: [25, 1649, 279, 307, 1251, 2247, 1234, 2820, 1770, 49],\n",
              " 10460: [1115, 12, 1251, 36, 49, 1724, 1438, 2066, 3284, 1013],\n",
              " 10472: [1385, 6654, 7310, 1041, 4383, 3631, 7863, 8708, 40, 1049],\n",
              " 10481: [25, 1115, 1436, 1724, 1219, 2506, 36, 3284, 1385, 89],\n",
              " 10491: [25, 96, 40, 694, 1168, 222, 126, 475, 275, 1219],\n",
              " 10518: [25, 1168, 1115, 49, 528, 893, 2066, 1006, 946, 222],\n",
              " 10549: [307, 1251, 25, 711, 203, 510, 12, 208, 511, 546],\n",
              " 10563: [25, 1438, 5963, 3631, 7863, 949, 7387, 1385, 536, 40],\n",
              " 10600: [25, 6654, 89, 4383, 526, 67, 235, 1041, 37, 1259],\n",
              " 10781: [25, 512, 597, 629, 1568, 609, 1667, 1594, 3722, 709],\n",
              " 10837: [70, 509, 2, 69, 82, 1, 215, 78, 6654, 13237],\n",
              " 10851: [25, 517, 12, 3246, 356, 12842, 1, 475, 78, 472],\n",
              " 10871: [25, 12, 619, 610, 3341, 2894, 879, 78, 124, 213],\n",
              " 10877: [25, 2, 68, 67, 232, 307, 663, 216, 1, 26],\n",
              " 11029: [25, 307, 1748, 3372, 1289, 285, 1665, 10404, 3357, 711],\n",
              " 11848: [25, 1724, 89, 1291, 2066, 96, 1985, 5237, 2612, 1438],\n",
              " 11865: [12, 25, 960, 2074, 202, 49, 657, 495, 956, 1215],\n",
              " 12022: [25, 711, 203, 10642, 293, 51, 193, 71, 2653, 1261],\n",
              " 12551: [25, 2074, 956, 2824, 180, 202, 197, 1588, 2951, 289],\n",
              " 12553: [12, 25, 293, 202, 2074, 960, 180, 288, 1043, 495],\n",
              " 12557: [25, 2074, 197, 956, 2500, 2951, 2824, 1812, 1588, 289],\n",
              " 12561: [25, 202, 180, 2824, 657, 1812, 289, 2951, 197, 2500],\n",
              " 12563: [25, 510, 960, 495, 289, 1212, 2824, 180, 1631, 1588],\n",
              " 12856: [25, 667, 1436, 1235, 279, 1668, 949, 70, 73, 3356],\n",
              " 13179: [25, 546, 897, 1331, 1261, 2693, 510, 293, 151, 286],\n",
              " 13237: [25, 695, 172, 151, 179, 29, 12, 326, 696, 279],\n",
              " 13349: [25, 40, 1343, 215, 591, 3478, 1378, 1194, 4812, 1183],\n",
              " 13443: [25, 1563, 2358, 2245, 2050, 2243, 3722, 4811, 2126, 3232],\n",
              " 13895: [25, 1230, 657, 902, 669, 151, 2820, 307, 3, 2715],\n",
              " 13919: [25, 667, 591, 1344, 1339, 307, 40, 3291, 12864, 3478],\n",
              " 13968: [25, 859, 1343, 40, 4455, 878, 3291, 3229, 18165, 1183],\n",
              " 14044: [1251, 1079, 96, 193, 2462, 1270, 663, 3478, 307, 472],\n",
              " 14073: [25, 1251, 40, 3478, 96, 193, 760, 1343, 1270, 1331],\n",
              " 14100: [25, 307, 1251, 40, 472, 1261, 637, 797, 6654, 5329],\n",
              " 14169: [25, 472, 307, 1331, 878, 1251, 1289, 12, 797, 1220],\n",
              " 14335: [2506, 859, 598, 1649, 1279, 817, 512, 5165, 3291, 3244],\n",
              " 14407: [25, 1454, 1563, 578, 817, 1748, 1331, 1033, 1830, 472],\n",
              " 14414: [25, 49, 12, 1760, 1234, 718, 667, 3356, 3530, 73],\n",
              " 14416: [25, 1188, 71, 960, 1724, 1417, 546, 2195, 70, 956],\n",
              " 14429: [594, 642, 347, 674, 647, 1739, 1495, 1600, 25, 2760],\n",
              " 14432: [307, 70, 12, 519, 667, 1495, 916, 36, 982, 753],\n",
              " 14449: [307, 347, 573, 1279, 1649, 847, 1427, 1206, 594, 517],\n",
              " 14951: [151, 2074, 495, 2824, 657, 1609, 293, 51, 1208, 180],\n",
              " 14954: [1230, 25, 293, 657, 495, 894, 1776, 4262, 1436, 982],\n",
              " 15017: [307, 637, 2506, 3356, 1600, 916, 847, 3234, 866, 598],\n",
              " 15053: [25, 1436, 3356, 916, 718, 1234, 1760, 235, 90, 519],\n",
              " 15154: [25, 2506, 12, 1436, 3356, 1234, 2542, 279, 4523, 4035],\n",
              " 15169: [71, 1600, 875, 509, 2760, 70, 3299, 526, 7577, 536],\n",
              " 15333: [593, 12, 235, 938, 798, 286, 1251, 694, 1402, 3283],\n",
              " 15339: [25, 261, 1079, 1287, 1168, 1251, 1398, 1364, 4070, 528],\n",
              " 15385: [25, 511, 99, 1398, 1079, 1385, 1251, 1361, 3283, 1261],\n",
              " 15422: [1251, 1380, 25, 307, 1289, 637, 1237, 1830, 3341, 2247],\n",
              " 15566: [25, 1724, 902, 1385, 2066, 3984, 1183, 3631, 14, 4484],\n",
              " 15680: [25, 215, 847, 99, 13237, 96, 1079, 1168, 6654, 7339],\n",
              " 15721: [307, 25, 1251, 663, 694, 760, 897, 261, 1079, 946],\n",
              " 15793: [546, 25, 49, 657, 1215, 960, 194, 495, 2281, 2066],\n",
              " 16320: [25, 1251, 917, 5177, 5963, 3289, 3226, 666, 1237, 2247],\n",
              " 16322: [73, 1760, 25, 1436, 731, 1251, 893, 1168, 1263, 1364],\n",
              " 16373: [25, 3283, 1967, 510, 1383, 3295, 1251, 2247, 3232, 666],\n",
              " 16485: [25, 307, 1168, 1219, 90, 96, 3289, 1789, 1830, 866],\n",
              " 16492: [25, 7042, 1436, 1649, 1724, 2506, 4523, 3629, 1695, 1654],\n",
              " 16566: [307, 71, 1251, 12, 1498, 2272, 521, 1407, 1375, 1770],\n",
              " 16572: [711, 731, 2247, 1983, 3341, 3226, 1237, 3344, 3289, 3244],\n",
              " 16626: [25, 12, 517, 208, 593, 2, 801, 1248, 10404, 73],\n",
              " 16632: [25, 711, 12, 1168, 1251, 203, 1347, 1079, 610, 897],\n",
              " 16737: [25, 203, 1347, 1115, 1168, 1259, 731, 1770, 528, 521],\n",
              " 16942: [1251, 897, 1261, 760, 25, 1079, 1270, 663, 694, 938],\n",
              " 17086: [49, 731, 1251, 694, 12, 1261, 90, 511, 82, 2],\n",
              " 17122: [25, 1247, 78, 213, 1344, 760, 1, 837, 1253, 2301],\n",
              " 17127: [12, 293, 510, 731, 213, 1208, 126, 528, 837, 2301],\n",
              " 17132: [307, 25, 1251, 40, 1168, 711, 232, 261, 1343, 472],\n",
              " 17136: [307, 509, 126, 82, 305, 5, 511, 231, 67, 96],\n",
              " 17140: [68, 82, 25, 1013, 30, 394, 91, 993, 5, 305],\n",
              " 17143: [25, 663, 1, 694, 307, 231, 760, 35, 12, 194],\n",
              " 17150: [25, 12, 307, 1079, 261, 528, 1115, 213, 618, 203],\n",
              " 17151: [25, 711, 232, 307, 760, 1376, 1378, 261, 3478, 6035],\n",
              " 17162: [663, 261, 4792, 193, 3017, 863, 1254, 1115, 1079, 893],\n",
              " 17164: [12, 261, 1079, 307, 193, 1254, 4792, 232, 1, 760],\n",
              " 17166: [25, 126, 307, 213, 1, 193, 231, 12, 78, 1988],\n",
              " 17178: [25, 78, 1, 193, 232, 694, 231, 528, 307, 760],\n",
              " 17182: [25, 222, 1287, 528, 1254, 193, 213, 12, 4792, 1115],\n",
              " 17188: [25, 1789, 326, 1920, 582, 593, 275, 126, 831, 863],\n",
              " 17191: [25, 695, 863, 854, 851, 830, 179, 845, 831, 874],\n",
              " 17194: [859, 327, 12, 126, 275, 511, 1, 124, 30, 1369],\n",
              " 17204: [25, 1254, 126, 12, 843, 592, 193, 275, 356, 4792],\n",
              " 17206: [25, 307, 895, 510, 1251, 1344, 1270, 1247, 1115, 78],\n",
              " 17208: [232, 356, 850, 475, 78, 126, 854, 986, 883, 788],\n",
              " 17210: [1219, 307, 531, 78, 7339, 5576, 193, 1261, 25, 356],\n",
              " 17420: [1600, 25, 850, 853, 1789, 598, 594, 347, 817, 1219],\n",
              " 17557: [179, 151, 733, 2074, 202, 45, 495, 176, 173, 203],\n",
              " 18108: [25, 982, 1129, 2506, 3285, 3548, 1100, 27, 1043, 748],\n",
              " 18110: [25, 307, 40, 13550, 6843, 1296, 1168, 51, 1028, 2074],\n",
              " 18183: [25, 519, 293, 243, 1043, 440, 220, 946, 65, 509],\n",
              " 18193: [307, 12, 4792, 25, 71, 193, 293, 946, 203, 2653],\n",
              " 18337: [25, 620, 12, 126, 307, 718, 980, 291, 827, 68],\n",
              " 18516: [126, 12, 25, 90, 96, 1049, 394, 3520, 3224, 141],\n",
              " 18520: [126, 12, 593, 591, 25, 831, 70, 986, 295, 291],\n",
              " 18951: [12, 620, 593, 29, 731, 1168, 90, 1789, 863, 876],\n",
              " 18978: [1385, 25, 7863, 1361, 1724, 99, 4383, 7387, 7042, 1041],\n",
              " 19045: [25, 70, 68, 827, 517, 993, 1970, 1192, 509, 67],\n",
              " 19051: [275, 222, 126, 509, 1920, 1206, 89, 760, 35, 82],\n",
              " 19073: [711, 307, 70, 12, 2, 69, 25, 1, 85, 67],\n",
              " 19075: [25, 982, 646, 949, 747, 519, 235, 1401, 594, 509],\n",
              " 19084: [25, 67, 78, 158, 798, 275, 1904, 593, 620, 326],\n",
              " 19113: [25, 12, 78, 193, 879, 36, 67, 868, 305, 1013],\n",
              " 19115: [25, 3232, 817, 1219, 519, 598, 307, 2754, 1789, 347],\n",
              " 19124: [25, 78, 1247, 2, 36, 35, 1417, 946, 82, 73],\n",
              " 19178: [80, 1168, 278, 2040, 179, 157, 393, 25, 167, 2092],\n",
              " 19339: [495, 2040, 982, 2092, 243, 157, 278, 733, 59, 1043],\n",
              " 19396: [25, 618, 126, 1, 96, 232, 158, 35, 195, 68],\n",
              " 19416: [25, 68, 12, 82, 275, 80, 2, 3, 307, 305],\n",
              " 19863: [667, 2568, 307, 3350, 2270, 1251, 1166, 1279, 1904, 528],\n",
              " 19923: [25, 1417, 2050, 1251, 3357, 3350, 2178, 1115, 897, 307],\n",
              " 19937: [25, 711, 187, 8333, 3532, 3518, 307, 1383, 1748, 2247],\n",
              " 20148: [208, 517, 2195, 1192, 1605, 510, 708, 70, 895, 12388],\n",
              " 20403: [703, 208, 517, 1192, 603, 2126, 5109, 1605, 2446, 547],\n",
              " 20555: [610, 1563, 25, 2195, 510, 1786, 1605, 517, 703, 208],\n",
              " 20838: [546, 517, 2195, 827, 703, 1192, 73, 895, 208, 603],\n",
              " 21172: [25, 1495, 875, 73, 853, 29, 873, 863, 854, 695],\n",
              " 21188: [25, 863, 179, 511, 275, 854, 326, 855, 831, 873],\n",
              " 21205: [25, 731, 3350, 2125, 1563, 2050, 3810, 3232, 610, 1814],\n",
              " 21240: [25, 2760, 70, 1986, 1568, 1385, 1817, 8316, 2371, 517],\n",
              " 21256: [25, 293, 597, 999, 1568, 590, 1682, 895, 1563, 1814],\n",
              " 21275: [8316, 1563, 512, 25, 1568, 1436, 8419, 8846, 1986, 1817],\n",
              " 21316: [25, 5937, 1982, 7369, 7323, 2290, 1856, 7447, 780, 3847],\n",
              " 21322: [25, 6466, 2693, 780, 3667, 7369, 7447, 1589, 1592, 1856],\n",
              " 21324: [25, 307, 126, 275, 1789, 863, 876, 286, 853, 859],\n",
              " 21334: [307, 859, 2320, 1289, 1789, 327, 847, 788, 718, 893],\n",
              " 21343: [12, 711, 1331, 859, 1789, 307, 893, 885, 853, 29],\n",
              " 21348: [25, 1789, 2693, 1920, 1982, 7331, 894, 5248, 14311, 2626],\n",
              " 21353: [25, 29, 859, 592, 853, 582, 1253, 829, 1789, 893],\n",
              " 21362: [859, 25, 847, 327, 326, 718, 1789, 863, 2320, 8350],\n",
              " 21375: [25, 837, 528, 1254, 1079, 731, 1260, 893, 531, 1253],\n",
              " 21626: [25, 208, 1115, 866, 73, 12, 843, 327, 285, 559],\n",
              " 21773: [307, 1347, 3126, 528, 731, 1263, 25, 1079, 1260, 1281],\n",
              " 21789: [25, 73, 69, 68, 235, 5109, 35, 993, 67, 1600],\n",
              " 21794: [25, 1287, 1079, 1364, 1347, 1257, 1263, 1168, 1219, 307],\n",
              " 21810: [25, 859, 327, 1251, 511, 528, 837, 863, 876, 1260],\n",
              " 21817: [25, 73, 126, 68, 12, 440, 546, 511, 620, 90],\n",
              " 21820: [25, 831, 1281, 2320, 1789, 307, 637, 1251, 863, 851],\n",
              " 21835: [25, 78, 610, 801, 709, 859, 531, 2894, 208, 285],\n",
              " 21866: [620, 25, 1748, 711, 895, 878, 1908, 3530, 1343, 78],\n",
              " 21874: [592, 25, 1251, 1289, 859, 558, 856, 893, 843, 1162],\n",
              " 22501: [25, 12, 126, 90, 982, 195, 733, 1043, 3, 179],\n",
              " 22569: [25, 307, 591, 560, 179, 11551, 830, 876, 695, 863],\n",
              " 22583: [25, 70, 73, 731, 866, 1219, 367, 1289, 8350, 327],\n",
              " 22630: [307, 29, 593, 511, 179, 946, 275, 1043, 80, 172],\n",
              " 22666: [25, 974, 179, 620, 326, 863, 1789, 876, 307, 1257],\n",
              " 23209: [25, 1568, 616, 1682, 642, 5211, 1801, 729, 1599, 1788],\n",
              " 23668: [25, 3722, 8316, 1682, 2358, 1563, 597, 547, 520, 999],\n",
              " 23712: [25, 711, 703, 8857, 2126, 1814, 1568, 2050, 70, 1817],\n",
              " 23714: [711, 2050, 2126, 25, 999, 1568, 8797, 8316, 1986, 725],\n",
              " 23841: [25, 80, 176, 2544, 203, 2555, 51, 1028, 4221, 45],\n",
              " 23845: [25, 51, 203, 1028, 197, 4221, 176, 2544, 45, 2555],\n",
              " 23849: [51, 1417, 2544, 4221, 510, 960, 982, 176, 45, 52],\n",
              " 23855: [25, 51, 1028, 176, 1417, 4221, 45, 9531, 2555, 3500],\n",
              " 23865: [197, 2074, 202, 25, 1041, 155, 51, 4221, 1677, 194],\n",
              " 23872: [25, 51, 203, 43, 1417, 1028, 4221, 176, 1135, 45],\n",
              " 23884: [1438, 3199, 982, 203, 51, 1028, 4221, 2555, 176, 2544],\n",
              " 23886: [25, 3478, 1028, 51, 1417, 176, 4221, 1135, 2555, 45],\n",
              " 23898: [25, 1028, 1417, 203, 293, 495, 176, 4221, 960, 2074],\n",
              " 23917: [25, 293, 960, 2074, 289, 1588, 202, 657, 288, 43],\n",
              " 23935: [25, 293, 2074, 2824, 180, 956, 202, 657, 495, 1812],\n",
              " 23939: [25, 49, 1230, 960, 1724, 1436, 1385, 982, 12, 1417],\n",
              " 23978: [25, 2074, 202, 180, 2824, 1812, 1588, 657, 43, 197],\n",
              " 23985: [25, 960, 1985, 12, 731, 208, 1230, 1208, 909, 213],\n",
              " 23991: [70, 960, 2074, 69, 1417, 25, 51, 176, 203, 215],\n",
              " 23996: [25, 293, 1230, 288, 2074, 960, 2824, 657, 12, 202],\n",
              " 23999: [593, 194, 2074, 202, 45, 960, 2824, 203, 71, 51],\n",
              " 24009: [293, 510, 1230, 48, 1385, 657, 960, 411, 12, 2281],\n",
              " 24012: [25, 1041, 197, 1867, 2824, 956, 155, 180, 1812, 2500],\n",
              " 24014: [731, 293, 1588, 960, 495, 2074, 2824, 657, 202, 180],\n",
              " 24024: [25, 2578, 16, 82, 12, 307, 70, 3742, 3862, 45],\n",
              " 24630: [25, 866, 307, 1219, 1289, 12, 1908, 1649, 29, 859],\n",
              " 24945: [25, 1168, 2950, 261, 946, 193, 1287, 1000, 1344, 3017],\n",
              " 25269: [10104, 193, 4792, 82, 30, 3492, 2894, 4070, 37, 1079],\n",
              " 25336: [25, 307, 179, 1079, 5, 91, 68, 394, 232, 1006],\n",
              " 25429: [25, 1563, 510, 6031, 546, 1967, 3513, 1568, 8757, 3350],\n",
              " 25535: [25, 1967, 2050, 8316, 2245, 1563, 609, 1817, 1166, 3232],\n",
              " 25541: [25, 629, 517, 510, 827, 1192, 703, 547, 2705, 8796],\n",
              " 26970: [73, 1219, 592, 4792, 1254, 1260, 2272, 1369, 1789, 847],\n",
              " 27054: [307, 279, 1649, 865, 73, 2506, 853, 1014, 885, 847],\n",
              " 27100: [70, 866, 1219, 1, 90, 718, 598, 859, 126, 1920],\n",
              " 27103: [25, 3291, 1748, 1237, 2211, 1407, 1347, 1498, 528, 1251],\n",
              " 27626: [25, 1115, 1347, 1263, 511, 1219, 1283, 866, 1289, 7310],\n",
              " 27999: [25, 1380, 3862, 1467, 1166, 2644, 591, 1748, 10515, 1376],\n",
              " 28041: [25, 307, 4422, 3643, 12697, 8333, 3810, 1563, 5618, 3722],\n",
              " 28053: [1378, 25, 3862, 3478, 11961, 4422, 19095, 3930, 5055, 1467],\n",
              " 28057: [25, 4422, 8796, 711, 1166, 3232, 3810, 8754, 9270, 5618],\n",
              " 28105: [25, 8754, 1563, 3350, 2125, 2178, 703, 711, 285, 559],\n",
              " 28122: [25, 1563, 512, 391, 2350, 4422, 3810, 2125, 1814, 999],\n",
              " 28133: [25, 12, 203, 5715, 8756, 3862, 8857, 2367, 711, 10654],\n",
              " 28219: [25, 1270, 1251, 1344, 1380, 3478, 1378, 517, 208, 703],\n",
              " 28274: [12, 293, 208, 546, 827, 603, 2348, 510, 517, 70],\n",
              " 28290: [25, 1817, 5618, 8333, 3810, 1563, 345, 285, 5055, 4422],\n",
              " 28314: [295, 3478, 1568, 10654, 1467, 4422, 8826, 17459, 3930, 25],\n",
              " 28417: [25, 3478, 12864, 27, 2578, 1748, 1383, 307, 8802, 3810],\n",
              " 28470: [14988, 510, 2578, 5833, 25, 2653, 3478, 711, 285, 4422],\n",
              " 28635: [25, 440, 193, 12, 3478, 40, 4616, 591, 11911, 496],\n",
              " 28669: [1563, 4422, 3810, 9270, 2343, 3722, 517, 703, 2371, 208],\n",
              " 28843: [25, 3357, 1967, 1383, 1331, 6055, 1166, 591, 1778, 897],\n",
              " 29130: [1438, 4383, 7, 3206, 2810, 3, 2920, 8097, 3174, 1689],\n",
              " 29192: [25, 4383, 2920, 1234, 1468, 2810, 8153, 1689, 3206, 3],\n",
              " 29749: [25, 2, 12, 4792, 3673, 40, 11322, 1104, 615, 531],\n",
              " 29754: [25, 293, 71, 12, 946, 203, 974, 951, 54, 3673],\n",
              " 29760: [760, 1251, 1287, 260, 1398, 3126, 1115, 2591, 4070, 1364],\n",
              " 29764: [25, 89, 1417, 99, 2445, 40, 7387, 12, 35, 868],\n",
              " 29785: [307, 519, 284, 12, 67, 99, 2066, 76, 69, 35],\n",
              " 29788: [4523, 25, 2506, 519, 3284, 3631, 1695, 1385, 536, 1237],\n",
              " 29792: [25, 1237, 1436, 3629, 1385, 1724, 1291, 3284, 536, 3234],\n",
              " 29799: [25, 1079, 1251, 2462, 1168, 260, 261, 528, 2950, 1261],\n",
              " 29802: [25, 3283, 510, 1385, 1986, 2882, 1168, 1079, 260, 4851],\n",
              " 29823: [35, 96, 671, 348, 1013, 158, 82, 291, 865, 89],\n",
              " 29852: [25, 235, 982, 671, 36, 68, 2, 509, 35, 89],\n",
              " 29858: [1234, 1436, 25, 949, 1385, 536, 519, 89, 671, 235],\n",
              " 29860: [25, 1385, 89, 519, 919, 7577, 536, 2542, 1299, 279],\n",
              " 30099: [70, 1013, 89, 35, 509, 291, 82, 92, 12, 67],\n",
              " 30311: [25, 12864, 1778, 1344, 946, 1378, 3862, 1166, 11299, 5173],\n",
              " 30319: [307, 788, 1115, 593, 1344, 863, 801, 511, 1378, 1376],\n",
              " 30393: [25, 1251, 897, 1280, 1270, 2462, 1261, 578, 1778, 1166],\n",
              " 30516: [665, 1436, 4588, 2795, 1563, 713, 8259, 629, 1652, 1242],\n",
              " 30841: [1436, 5165, 1234, 665, 771, 1242, 1721, 629, 1427, 1652],\n",
              " 31344: [25, 667, 2795, 1427, 916, 279, 1235, 3, 2608, 1668],\n",
              " 31350: [25, 667, 1234, 1436, 756, 1427, 665, 1984, 5725, 1689],\n",
              " 31401: [293, 25, 203, 51, 1028, 176, 960, 43, 2074, 4221],\n",
              " 31415: [293, 203, 4221, 2555, 2551, 9916, 25, 52, 173, 45],\n",
              " 31423: [25, 2074, 51, 960, 180, 1812, 956, 495, 176, 197],\n",
              " 31431: [25, 293, 960, 2074, 2824, 956, 1812, 51, 202, 657],\n",
              " 31435: [307, 203, 2544, 12, 51, 960, 1028, 4221, 2555, 176],\n",
              " 31441: [25, 1230, 1563, 12, 770, 960, 495, 894, 1588, 956],\n",
              " 31618: [25, 12, 73, 1786, 1568, 14988, 7339, 2760, 2, 850],\n",
              " 32180: [25, 1168, 1, 878, 252, 1343, 1289, 11447, 2785, 96],\n",
              " 32197: [25, 511, 194, 307, 1427, 305, 179, 1043, 876, 883],\n",
              " 32247: [25, 511, 982, 694, 126, 307, 275, 663, 1988, 5],\n",
              " 32338: [25, 1383, 694, 1168, 1920, 863, 831, 30, 5, 803],\n",
              " 32383: [25, 472, 232, 307, 593, 637, 1115, 126, 12, 29],\n",
              " 32407: [25, 1219, 866, 1168, 3246, 6654, 895, 70, 232, 2],\n",
              " 32432: [73, 69, 531, 3229, 1251, 1331, 285, 866, 610, 472],\n",
              " 32442: [25, 1563, 2371, 731, 1436, 8819, 12, 711, 531, 1168],\n",
              " 32471: [25, 1789, 8350, 885, 307, 1253, 859, 29, 1260, 893],\n",
              " 32480: [1251, 1168, 528, 1263, 893, 1223, 1261, 1259, 1498, 1257],\n",
              " 32498: [25, 3520, 6682, 14, 3392, 1041, 7863, 501, 5484, 757],\n",
              " 32512: [25, 1041, 2074, 1431, 3984, 14, 5657, 5668, 664, 2506],\n",
              " 32518: [1251, 307, 1115, 12, 1254, 1223, 1168, 1079, 1263, 1287],\n",
              " 32530: [12, 731, 1251, 1168, 711, 99, 1398, 1287, 10404, 1079],\n",
              " 32534: [866, 25, 1251, 7863, 2462, 1168, 307, 1115, 2395, 3341],\n",
              " 32536: [25, 1331, 3566, 2653, 4221, 1380, 40, 510, 711, 3244],\n",
              " 32974: [25, 909, 618, 894, 203, 3621, 1904, 288, 770, 51],\n",
              " 32976: [293, 12, 495, 770, 1417, 51, 1904, 71, 2065, 151],\n",
              " 32979: [25, 1041, 16, 197, 2074, 202, 155, 1867, 2951, 2824],\n",
              " 32991: [25, 2578, 3253, 3478, 1041, 1183, 3631, 423, 16, 4812],\n",
              " 33000: [25, 2544, 9531, 510, 9916, 1028, 4221, 51, 1904, 176],\n",
              " 33006: [25, 5833, 172, 1911, 2578, 307, 17, 343, 2000, 6125],\n",
              " 33044: [509, 25, 307, 12864, 1436, 1920, 637, 1798, 512, 3930],\n",
              " 33065: [1168, 155, 2162, 293, 960, 197, 2824, 1041, 2074, 956],\n",
              " 33087: [25, 1436, 2074, 3984, 1798, 902, 289, 71, 1588, 960],\n",
              " 33103: [25, 960, 2074, 51, 176, 202, 197, 180, 1091, 956],\n",
              " 33205: [25, 2074, 202, 197, 956, 155, 960, 1588, 180, 657],\n",
              " 33354: [731, 1724, 817, 902, 1986, 626, 3372, 667, 1436, 1721],\n",
              " 33393: [25, 667, 916, 1695, 713, 1689, 2920, 3, 1468, 4383],\n",
              " 33396: [25, 1385, 279, 2820, 917, 1251, 1255, 536, 1436, 521],\n",
              " 33415: [25, 1237, 917, 2247, 7834, 536, 14249, 2754, 1436, 4270],\n",
              " 33760: [25, 1436, 1369, 30, 1013, 12, 895, 36, 142, 1417],\n",
              " 33939: [25, 172, 744, 214, 593, 801, 578, 509, 619, 1360],\n",
              " 34519: [531, 859, 12, 307, 853, 546, 1369, 286, 598, 1789],\n",
              " 34524: [25, 594, 744, 642, 620, 73, 70, 631, 916, 1605],\n",
              " 34606: [25, 307, 1331, 6125, 1911, 172, 2578, 5833, 17, 207],\n",
              " 34821: [817, 1748, 1383, 1251, 619, 946, 1917, 709, 1563, 597],\n",
              " 34828: [517, 708, 73, 742, 2371, 1594, 520, 2195, 603, 703],\n",
              " 34840: [25, 616, 594, 1568, 817, 620, 3232, 517, 619, 8747],\n",
              " 34844: [25, 1600, 70, 850, 10404, 544, 1190, 770, 608, 609],\n",
              " 34849: [25, 89, 1568, 1682, 1967, 616, 1594, 999, 8316, 608],\n",
              " 35201: [25, 286, 2760, 70, 620, 275, 78, 938, 5108, 517],\n",
              " 35557: [1986, 25, 1385, 3283, 2705, 510, 1564, 708, 4616, 1817],\n",
              " 35574: [510, 3283, 1385, 546, 2705, 2445, 1903, 1724, 837, 708],\n",
              " 35607: [510, 708, 3283, 1724, 546, 288, 99, 2195, 1986, 1291],\n",
              " 35624: [1385, 40, 1251, 1259, 1257, 1364, 8616, 3478, 663, 3283],\n",
              " 35900: [151, 25, 1588, 1028, 203, 9768, 796, 9771, 982, 510],\n",
              " 36021: [307, 78, 293, 960, 71, 73, 1043, 618, 1230, 126],\n",
              " 36061: [25, 179, 80, 2040, 393, 3032, 243, 167, 278, 1043],\n",
              " 36112: [25, 151, 80, 2568, 157, 2168, 1438, 2239, 921, 1588],\n",
              " 36216: [25, 1904, 1168, 71, 1208, 203, 194, 213, 894, 1588],\n",
              " 36222: [25, 157, 151, 81, 278, 80, 2040, 2987, 2092, 1832],\n",
              " 36225: [25, 3232, 307, 1289, 878, 1220, 637, 797, 1331, 3272],\n",
              " 36428: [25, 1255, 1257, 731, 511, 1254, 893, 863, 293, 528],\n",
              " 36432: [511, 194, 831, 956, 2074, 868, 288, 909, 151, 1600],\n",
              " 36434: [25, 2126, 960, 197, 2074, 202, 51, 293, 180, 2824],\n",
              " 36436: [25, 847, 718, 1369, 873, 853, 29, 875, 829, 857],\n",
              " 36438: [25, 12, 96, 2074, 960, 202, 197, 770, 180, 158],\n",
              " 36760: [3, 1668, 667, 1436, 650, 279, 1234, 1695, 718, 620],\n",
              " 37337: [12, 1219, 1649, 902, 519, 3344, 3244, 3289, 3272, 1290],\n",
              " 37350: [25, 3244, 1237, 1885, 2247, 307, 1289, 1251, 1694, 3291],\n",
              " 37352: [25, 307, 1251, 1385, 2247, 1237, 3429, 3344, 947, 1183],\n",
              " 37429: [25, 731, 546, 817, 594, 598, 895, 73, 620, 1594],\n",
              " 37469: [73, 3085, 2189, 3284, 7310, 1768, 18165, 7863, 12299, 1237],\n",
              " 37526: [25, 650, 1436, 5237, 2272, 2820, 1237, 917, 279, 1649],\n",
              " 37554: [866, 5329, 69, 3315, 1219, 3530, 12, 293, 859, 307],\n",
              " 37973: [25, 1588, 2074, 960, 495, 202, 657, 71, 956, 197],\n",
              " 37989: [731, 1230, 894, 696, 288, 495, 293, 909, 657, 770],\n",
              " 38041: [25, 208, 1279, 293, 71, 960, 709, 669, 1215, 73],\n",
              " 38046: [25, 307, 1649, 279, 960, 495, 6466, 293, 1417, 510],\n",
              " 38048: [25, 960, 293, 49, 2705, 288, 657, 731, 1385, 1724],\n",
              " 38053: [25, 151, 71, 711, 1025, 293, 1563, 510, 603, 1786],\n",
              " 38055: [25, 2074, 40, 51, 293, 71, 956, 657, 770, 1417],\n",
              " 38061: [960, 495, 71, 288, 1230, 12, 894, 293, 620, 603],\n",
              " 38067: [25, 1563, 1786, 2189, 293, 657, 1564, 902, 666, 1219],\n",
              " 38082: [25, 293, 288, 495, 1436, 1724, 1624, 1385, 1588, 669],\n",
              " 38098: [657, 6466, 960, 25, 99, 5937, 1417, 2506, 2189, 293],\n",
              " 38195: [25, 711, 1563, 285, 3289, 3249, 3350, 610, 1331, 895],\n",
              " 38279: [25, 711, 3244, 3341, 610, 3350, 3289, 285, 1748, 947],\n",
              " 38686: [25, 96, 82, 232, 5, 694, 261, 3520, 1079, 1261],\n",
              " 38890: [25, 3244, 1748, 610, 1237, 2211, 1331, 1920, 1830, 3257],\n",
              " 39042: [3232, 1748, 1383, 3244, 1289, 8333, 3532, 3329, 4455, 2258],\n",
              " 39569: [25, 51, 960, 203, 193, 974, 43, 12, 176, 45],\n",
              " 39640: [25, 307, 1436, 718, 531, 866, 367, 126, 1369, 3229],\n",
              " 39925: [25, 718, 275, 593, 509, 511, 126, 1168, 124, 12],\n",
              " 39935: [67, 68, 82, 235, 291, 305, 35, 158, 69, 868],\n",
              " 39951: [25, 70, 875, 718, 871, 69, 919, 3229, 126, 235],\n",
              " 40016: [603, 14988, 827, 73, 709, 620, 718, 1219, 2, 1230],\n",
              " 40024: [517, 172, 512, 594, 1242, 346, 1786, 665, 709, 293],\n",
              " 40034: [25, 6466, 1786, 510, 1385, 708, 3350, 1168, 895, 1417],\n",
              " 40053: [25, 2050, 770, 2074, 657, 202, 1385, 1564, 2705, 1786],\n",
              " 40104: [73, 1385, 10589, 2367, 1986, 1612, 731, 1817, 2705, 510],\n",
              " 40116: [295, 3283, 1385, 1986, 711, 510, 1724, 731, 1786, 709],\n",
              " 40509: [25, 1, 216, 26, 96, 307, 1361, 194, 1115, 694],\n",
              " 40568: [25, 1436, 1234, 73, 718, 70, 1495, 875, 1600, 3068],\n",
              " 40609: [25, 512, 629, 725, 609, 1563, 743, 3637, 4422, 3810],\n",
              " 40615: [25, 598, 850, 8333, 1166, 1383, 2125, 3722, 512, 3637],\n",
              " 40632: [25, 495, 733, 2092, 2040, 1904, 278, 393, 151, 80],\n",
              " 40643: [2074, 1812, 180, 293, 960, 71, 1588, 11, 956, 423],\n",
              " 40667: [731, 511, 25, 3, 80, 982, 167, 179, 151, 1159],\n",
              " 40669: [25, 1904, 2092, 278, 495, 179, 2987, 1832, 151, 195],\n",
              " 40783: [12, 2578, 307, 40, 3631, 5937, 1588, 43, 1183, 11],\n",
              " 40882: [25, 307, 817, 2578, 207, 80, 3291, 1748, 3353, 1427],\n",
              " 40994: [25, 179, 982, 151, 80, 2040, 157, 278, 3032, 243],\n",
              " 41140: [1724, 25, 12, 85, 843, 208, 193, 610, 681, 11447],\n",
              " 41211: [29, 593, 854, 845, 830, 1920, 873, 874, 179, 910],\n",
              " 41216: [1219, 6055, 509, 25, 895, 12, 73, 610, 30, 546],\n",
              " 41238: [25, 70, 509, 2, 96, 69, 78, 158, 394, 5484],\n",
              " 41649: [1251, 25, 215, 1, 1343, 96, 7310, 3284, 3392, 234],\n",
              " 41773: [12, 96, 951, 509, 215, 5, 69, 36, 142, 1041],\n",
              " 41902: [711, 8032, 345, 293, 1115, 1251, 208, 73, 1253, 1254],\n",
              " 41908: [96, 25, 865, 36, 4383, 307, 1251, 1385, 12, 1168],\n",
              " 41938: [25, 70, 307, 519, 89, 3, 5963, 3289, 878, 5635],\n",
              " 41941: [25, 521, 307, 2693, 29, 1247, 1789, 859, 1253, 327],\n",
              " 41945: [1168, 1417, 3283, 510, 1115, 1385, 1251, 1255, 40, 658],\n",
              " 41954: [25, 637, 3356, 1649, 902, 761, 2227, 99, 286, 1254],\n",
              " 41957: [25, 982, 12, 771, 1832, 1043, 90, 1649, 49, 1299],\n",
              " 42005: [25, 73, 307, 1254, 946, 1006, 99, 440, 620, 293],\n",
              " 42043: [1234, 3356, 29, 1789, 1369, 863, 937, 1254, 916, 757],\n",
              " 42062: [25, 1920, 831, 179, 326, 1832, 876, 851, 1401, 695],\n",
              " 42133: [25, 347, 725, 608, 507, 629, 594, 1781, 742, 1597],\n",
              " 43078: [25, 2074, 51, 197, 960, 202, 2824, 180, 1588, 921],\n",
              " 43834: [25, 517, 327, 594, 895, 561, 510, 507, 1724, 1786],\n",
              " 43970: [25, 19648, 2074, 10470, 1000, 5238, 2981, 440, 4456, 5937],\n",
              " 43973: [25, 3959, 3038, 753, 440, 5237, 183, 1417, 3515, 193],\n",
              " 43988: [25, 753, 1985, 440, 2981, 3038, 1000, 683, 4456, 2414],\n",
              " 44021: [25, 1985, 827, 2343, 683, 4158, 1670, 3030, 2770, 5237],\n",
              " 44550: [25, 1789, 629, 740, 743, 512, 1976, 609, 594, 647],\n",
              " 44571: [25, 2760, 616, 623, 729, 1791, 642, 517, 594, 5058],\n",
              " 44578: [25, 1219, 3356, 4523, 1649, 3349, 2526, 916, 902, 667],\n",
              " 44583: [25, 285, 558, 1331, 1025, 1563, 610, 3232, 709, 703],\n",
              " 44585: [25, 1168, 510, 208, 866, 610, 1219, 3232, 1289, 3298],\n",
              " 44591: [25, 1234, 2693, 3356, 2526, 536, 1219, 1588, 6466, 1369],\n",
              " 44677: [307, 1778, 591, 673, 1380, 2653, 1967, 827, 1166, 510],\n",
              " 44704: [25, 3621, 1609, 4616, 731, 1251, 694, 40, 1259, 1261],\n",
              " 44750: [70, 511, 866, 78, 307, 1289, 837, 472, 1251, 1257],\n",
              " 44799: [25, 510, 1814, 2371, 703, 3283, 827, 1071, 1345, 3478],\n",
              " 45048: [25, 1786, 208, 603, 12, 1605, 70, 519, 850, 817],\n",
              " 45053: [25, 35, 2760, 307, 305, 284, 68, 70, 291, 6233],\n",
              " 45059: [1206, 1251, 1600, 1908, 1219, 817, 598, 1748, 3372, 610],\n",
              " 45064: [897, 25, 817, 594, 674, 509, 1739, 6055, 573, 591],\n",
              " 45109: [25, 760, 1417, 36, 215, 951, 946, 69, 1013, 193],\n",
              " 45126: [25, 70, 68, 35, 82, 12, 54, 215, 951, 194],\n",
              " 45140: [519, 89, 1219, 2733, 3299, 2810, 882, 73, 1801, 2514],\n",
              " 45151: [73, 12, 859, 1908, 293, 894, 71, 279, 902, 1188],\n",
              " 45181: [1183, 25, 1985, 1432, 1237, 307, 2506, 637, 142, 4812],\n",
              " 45232: [25, 546, 510, 593, 29, 73, 12, 286, 275, 629],\n",
              " 45458: [1041, 501, 25, 14, 5657, 1183, 2305, 4484, 3146, 1438],\n",
              " 45544: [1247, 78, 1043, 946, 36, 1049, 25, 275, 193, 4792],\n",
              " 45597: [25, 67, 2, 96, 54, 3038, 1041, 7628, 86, 1049],\n",
              " 45655: [25, 519, 36, 681, 1438, 111, 54, 2281, 1985, 7690],\n",
              " 45714: [25, 202, 960, 1985, 657, 495, 5937, 293, 12, 2],\n",
              " 45729: [25, 73, 158, 2, 718, 1369, 1600, 1647, 847, 367],\n",
              " 45744: [12, 194, 222, 89, 519, 2, 158, 865, 25, 875],\n",
              " 45772: [25, 817, 2754, 367, 956, 1605, 73, 14985, 875, 1970],\n",
              " 45781: [12, 96, 827, 10470, 1000, 183, 753, 2981, 3038, 5237],\n",
              " 45790: [25, 620, 1649, 1436, 2506, 73, 36, 3429, 519, 142],\n",
              " 45841: [25, 12, 956, 1985, 753, 748, 440, 1029, 69, 5484],\n",
              " 45845: [25, 1568, 827, 2, 158, 73, 12, 440, 69, 868],\n",
              " 45851: [25, 70, 96, 1041, 89, 14, 2506, 1183, 5657, 2305],\n",
              " 45853: [1041, 25, 501, 683, 4158, 10013, 6682, 86, 1438, 54],\n",
              " 45863: [510, 1904, 293, 71, 2950, 6843, 11582, 13550, 260, 36],\n",
              " 45876: [70, 2, 509, 827, 12, 291, 348, 1013, 235, 526],\n",
              " 45942: [25, 847, 2483, 2981, 806, 3038, 5237, 2718, 5657, 2305],\n",
              " 45970: [25, 440, 288, 1594, 12, 73, 208, 2497, 1786, 718],\n",
              " 46000: [25, 1049, 235, 70, 993, 36, 96, 215, 3038, 2981],\n",
              " 46377: [25, 307, 3289, 3272, 1885, 559, 1748, 1279, 3341, 558],\n",
              " 46380: [875, 73, 853, 857, 718, 1789, 1369, 1647, 873, 458],\n",
              " 46382: [620, 73, 12, 718, 1789, 70, 847, 1369, 853, 829],\n",
              " 46398: [25, 2074, 960, 293, 288, 657, 51, 770, 495, 1212],\n",
              " 46401: [25, 391, 155, 2074, 202, 1091, 1867, 2193, 2951, 956],\n",
              " 46412: [25, 946, 509, 2, 36, 96, 89, 67, 95, 1013],\n",
              " 46420: [25, 12, 71, 495, 960, 73, 151, 158, 70, 657],\n",
              " 46425: [960, 770, 956, 288, 345, 208, 510, 12, 49, 1417],\n",
              " 46427: [25, 2074, 12, 960, 202, 155, 1867, 1812, 956, 2824],\n",
              " 46430: [25, 960, 2074, 1588, 180, 202, 1867, 1091, 1677, 2951],\n",
              " 46435: [2074, 49, 1212, 73, 956, 1209, 960, 495, 20298, 510],\n",
              " 46438: [25, 155, 197, 2074, 202, 2951, 2193, 1867, 1588, 1677],\n",
              " 46447: [197, 155, 202, 2951, 2193, 1812, 956, 180, 2824, 960],\n",
              " 46451: [2074, 197, 202, 2951, 1867, 1677, 2500, 1091, 960, 2824],\n",
              " 46462: [25, 71, 956, 495, 36, 1417, 657, 748, 440, 1631],\n",
              " 46475: [960, 2074, 2824, 293, 71, 1588, 49, 495, 51, 956],\n",
              " 46672: [25, 894, 1588, 657, 71, 293, 1436, 1258, 1219, 618],\n",
              " 46677: [25, 495, 1904, 618, 1043, 2915, 2239, 1604, 167, 894],\n",
              " 46687: [25, 1427, 80, 667, 982, 281, 1904, 2715, 157, 2915],\n",
              " 46699: [25, 650, 667, 1776, 5165, 1604, 618, 894, 1436, 1588],\n",
              " 46718: [25, 2007, 6466, 2693, 8910, 1776, 167, 151, 495, 2915],\n",
              " 46730: [25, 1776, 667, 2693, 2290, 1634, 1188, 771, 2915, 167],\n",
              " 46736: [25, 817, 151, 620, 894, 1230, 2568, 495, 696, 167],\n",
              " 46744: [25, 1588, 495, 2693, 6466, 51, 1043, 780, 921, 1776],\n",
              " 46749: [25, 982, 2065, 157, 796, 2915, 167, 921, 618, 80],\n",
              " 46751: [25, 1776, 618, 2915, 696, 2987, 894, 495, 1188, 2040],\n",
              " 46773: [25, 179, 12, 667, 1427, 80, 1234, 646, 1904, 618],\n",
              " 46805: [25, 1220, 718, 5738, 29, 593, 1261, 620, 837, 73],\n",
              " 47871: [694, 307, 1168, 1263, 1079, 1296, 528, 658, 1270, 1261],\n",
              " 48019: [11476, 25, 6843, 2414, 443, 1376, 1380, 663, 2653, 510],\n",
              " 48078: [307, 1168, 5868, 1383, 8908, 694, 1967, 591, 1778, 1467],\n",
              " 48080: [2371, 510, 546, 694, 1168, 1261, 938, 711, 1398, 1376],\n",
              " 48099: [25, 1251, 307, 760, 218, 1079, 878, 232, 193, 1343],\n",
              " 48101: [25, 307, 760, 82, 440, 1344, 517, 591, 1778, 1270],\n",
              " 48107: [25, 1398, 1986, 4070, 193, 1380, 1376, 40, 1251, 658],\n",
              " 48556: [25, 1986, 3350, 6031, 2050, 705, 12770, 11682, 1568, 2126],\n",
              " 48769: [597, 3513, 6031, 8747, 2126, 1568, 705, 12476, 2050, 1986],\n",
              " 49052: [25, 3513, 2126, 11682, 4811, 510, 1568, 547, 8747, 3350],\n",
              " 49635: [546, 827, 603, 2195, 5109, 347, 642, 25, 1786, 674],\n",
              " 49892: [25, 1168, 80, 2715, 172, 667, 771, 1436, 3, 1427],\n",
              " 49906: [25, 1135, 203, 2544, 1028, 1168, 9531, 4221, 1904, 1417],\n",
              " 49909: [25, 203, 9531, 1417, 151, 4221, 173, 176, 1247, 12],\n",
              " 49926: [25, 620, 73, 718, 29, 871, 1789, 859, 275, 458],\n",
              " 50049: [25, 307, 5833, 593, 2578, 1920, 73, 771, 1911, 2577],\n",
              " 50057: [25, 3350, 1563, 510, 609, 1564, 725, 3232, 1660, 1594],\n",
              " 50079: [25, 1206, 510, 895, 703, 1168, 1219, 850, 917, 1343],\n",
              " 50136: [25, 2497, 3244, 1574, 647, 1597, 850, 875, 835, 1190],\n",
              " 50147: [25, 594, 642, 674, 616, 1495, 1496, 517, 3673, 861],\n",
              " 50150: [25, 817, 73, 594, 347, 1920, 603, 647, 517, 2760],\n",
              " 50277: [70, 25, 509, 681, 855, 1600, 986, 599, 179, 582],\n",
              " 50366: [25, 1563, 620, 1369, 916, 853, 829, 847, 885, 1789],\n",
              " 50371: [25, 7792, 2272, 1237, 1495, 1748, 3289, 1830, 2320, 845],\n",
              " 50538: [1436, 1267, 70, 1115, 1830, 5080, 7834, 2506, 1237, 536],\n",
              " 50685: [25, 80, 36, 1438, 3629, 1286, 195, 307, 96, 222],\n",
              " 51410: [25, 12, 440, 69, 293, 681, 843, 1289, 1920, 1789],\n",
              " 51550: [25, 440, 718, 29, 831, 546, 275, 855, 327, 511],\n",
              " 51566: [25, 546, 126, 1789, 695, 326, 593, 874, 179, 876],\n",
              " 51657: [25, 307, 817, 1219, 1237, 1830, 3344, 3631, 2578, 67],\n",
              " 51873: [25, 1206, 495, 71, 49, 289, 657, 293, 151, 744],\n",
              " 51875: [25, 71, 82, 1417, 12, 51, 956, 495, 293, 43],\n",
              " 51877: [293, 960, 1212, 1588, 657, 71, 2824, 2074, 1631, 288],\n",
              " 51887: [293, 1417, 289, 1230, 495, 956, 657, 1209, 440, 1212],\n",
              " 51893: [25, 2074, 956, 657, 289, 49, 495, 1588, 1209, 1631],\n",
              " 51902: [25, 960, 744, 293, 288, 71, 956, 2074, 495, 1212],\n",
              " 51906: [877, 1431, 202, 1677, 844, 748, 51, 203, 25, 71],\n",
              " 51908: [25, 1417, 1904, 12, 960, 956, 71, 657, 293, 618],\n",
              " 51911: [25, 960, 293, 1385, 288, 1417, 49, 657, 770, 1215],\n",
              " 51913: [71, 960, 293, 744, 1209, 770, 1230, 49, 894, 1215],\n",
              " 51916: [1168, 1417, 203, 495, 440, 293, 1129, 753, 1230, 71],\n",
              " 51921: [25, 510, 293, 2074, 51, 78, 71, 203, 960, 495],\n",
              " 51923: [25, 1588, 71, 657, 1215, 960, 495, 956, 1209, 36],\n",
              " 51935: [203, 770, 288, 657, 495, 1215, 1209, 289, 2074, 202],\n",
              " 51937: [25, 243, 151, 1417, 495, 440, 82, 288, 946, 36],\n",
              " 51939: [25, 510, 288, 770, 495, 946, 909, 956, 71, 657],\n",
              " 51945: [25, 12, 1417, 54, 82, 960, 956, 827, 348, 1677],\n",
              " 51957: [25, 960, 1417, 12, 1215, 657, 770, 288, 748, 956],\n",
              " 51959: [307, 1115, 70, 69, 35, 222, 215, 158, 25, 305],\n",
              " 51965: [25, 71, 151, 158, 960, 657, 73, 70, 12, 293],\n",
              " 51967: [25, 894, 1188, 657, 960, 2074, 770, 71, 618, 43],\n",
              " 51971: [25, 960, 657, 1209, 956, 2074, 770, 1212, 48, 180],\n",
              " 51986: [293, 2074, 71, 960, 657, 289, 3356, 4383, 1588, 2189],\n",
              " 51992: [25, 1049, 203, 193, 443, 974, 51, 753, 1417, 1904],\n",
              " 51993: [25, 293, 960, 202, 1812, 180, 289, 657, 1212, 1209],\n",
              " 52059: [25, 1251, 1168, 1006, 531, 1417, 2351, 658, 510, 1385],\n",
              " 52062: [1904, 25, 1168, 1079, 1251, 1261, 1398, 1263, 1417, 511],\n",
              " 52065: [879, 78, 151, 1904, 1261, 208, 25, 528, 731, 1168],\n",
              " 52068: [1168, 510, 1385, 731, 3513, 1986, 626, 1115, 1251, 1724],\n",
              " 52289: [956, 960, 293, 202, 657, 2074, 180, 288, 1212, 495],\n",
              " 52300: [25, 67, 213, 78, 194, 193, 215, 951, 12, 54],\n",
              " 52308: [25, 4158, 11, 2578, 6125, 1911, 207, 5833, 2577, 2000],\n",
              " 52313: [25, 949, 1299, 1401, 172, 982, 80, 179, 665, 235],\n",
              " 52327: [25, 711, 12, 669, 859, 1251, 307, 1115, 1253, 286],\n",
              " 52335: [25, 73, 1436, 1649, 2820, 1251, 1291, 536, 6201, 29],\n",
              " 52346: [25, 12, 1219, 1786, 669, 868, 2497, 1258, 718, 519],\n",
              " 52353: [25, 99, 111, 1649, 3344, 1985, 3429, 1000, 5937, 657],\n",
              " 52355: [25, 1436, 1385, 12, 1649, 73, 859, 1230, 865, 274],\n",
              " 52356: [25, 73, 1786, 279, 519, 1188, 868, 657, 1230, 1385],\n",
              " 52358: [25, 817, 718, 275, 744, 620, 288, 1230, 49, 919],\n",
              " 52360: [307, 194, 744, 288, 1417, 657, 1258, 274, 919, 1251],\n",
              " 52371: [3244, 1748, 3232, 1289, 1563, 610, 73, 859, 875, 307],\n",
              " 52380: [25, 73, 1369, 29, 853, 873, 1789, 593, 695, 546],\n",
              " 52381: [307, 25, 859, 711, 208, 29, 1331, 947, 1251, 73],\n",
              " 52396: [307, 29, 293, 36, 194, 2, 868, 172, 919, 593],\n",
              " 52401: [73, 1219, 1789, 859, 3232, 307, 1168, 1289, 593, 695],\n",
              " 52406: [25, 2, 286, 293, 510, 12, 894, 151, 744, 71],\n",
              " 52415: [25, 307, 1219, 3229, 3244, 1025, 1885, 947, 897, 1220],\n",
              " 52428: [909, 151, 868, 71, 194, 657, 1258, 2497, 2754, 959],\n",
              " 52441: [73, 71, 288, 49, 25, 1385, 411, 875, 458, 919],\n",
              " 52444: [25, 671, 73, 519, 817, 1219, 1687, 2754, 1230, 288],\n",
              " 52453: [71, 1417, 293, 868, 669, 865, 919, 89, 2281, 519],\n",
              " 52463: [817, 288, 744, 12, 956, 73, 1230, 875, 681, 657],\n",
              " 52482: [25, 1789, 718, 620, 275, 859, 126, 29, 893, 1219],\n",
              " 52496: [25, 307, 49, 620, 718, 1258, 1789, 1724, 1385, 1251],\n",
              " 52500: [307, 5219, 25, 3246, 7310, 6654, 5329, 893, 847, 293],\n",
              " 52509: [1251, 293, 1417, 1289, 25, 510, 1267, 1115, 895, 1331],\n",
              " 52519: [868, 172, 519, 1385, 293, 671, 73, 718, 510, 1230],\n",
              " 52522: [1385, 25, 89, 919, 1230, 293, 440, 1369, 71, 868],\n",
              " 52526: [25, 1436, 1385, 1230, 274, 859, 711, 669, 709, 1258],\n",
              " 52546: [307, 1251, 12, 919, 1258, 868, 288, 603, 657, 99],\n",
              " 52635: [288, 73, 1385, 1340, 2820, 1588, 279, 1258, 1436, 2526],\n",
              " 52652: [25, 711, 593, 837, 73, 669, 1188, 1385, 865, 1258],\n",
              " 52662: [1385, 279, 25, 1786, 669, 919, 859, 718, 1369, 868],\n",
              " 52664: [25, 71, 1436, 36, 12, 718, 1013, 49, 1258, 495],\n",
              " 52666: [25, 3356, 1385, 274, 1251, 1724, 669, 868, 536, 711],\n",
              " 52668: [12, 293, 1219, 1230, 71, 669, 919, 274, 1188, 789],\n",
              " 52670: [25, 203, 1417, 12, 1219, 866, 2506, 519, 288, 208],\n",
              " 52682: [25, 1385, 1168, 1251, 307, 760, 40, 1724, 99, 1115],\n",
              " 52690: [25, 843, 866, 1219, 12, 73, 1289, 1251, 286, 1230],\n",
              " 52702: [1385, 307, 235, 67, 744, 12, 1247, 1230, 1417, 495],\n",
              " 52709: [25, 279, 1724, 1417, 1251, 35, 12, 669, 1230, 868],\n",
              " 52711: [25, 49, 99, 731, 1385, 919, 798, 1251, 610, 288],\n",
              " 52725: [610, 669, 12, 25, 1724, 3356, 1649, 71, 718, 657],\n",
              " 52806: [25, 1168, 528, 1261, 694, 1115, 760, 1385, 71, 1340],\n",
              " 52906: [620, 70, 674, 544, 642, 598, 616, 573, 943, 647],\n",
              " 52909: [25, 347, 616, 2760, 544, 1600, 1788, 2483, 517, 1801],\n",
              " 53004: [2506, 187, 629, 512, 279, 1436, 172, 1242, 771, 665],\n",
              " 53015: [756, 25, 665, 1652, 1436, 771, 172, 1234, 73, 1242],\n",
              " 54158: [232, 12, 307, 194, 1, 663, 694, 1343, 216, 25],\n",
              " 54207: [25, 12, 51, 878, 307, 40, 1343, 760, 215, 2894],\n",
              " 54457: [25, 35, 1041, 215, 89, 3984, 14, 2305, 1183, 5484],\n",
              " 54485: [25, 817, 603, 827, 517, 681, 1071, 4726, 742, 1666],\n",
              " 54535: [25, 1563, 510, 603, 1291, 546, 517, 1786, 847, 718],\n",
              " 54551: [12, 25, 179, 275, 843, 803, 866, 90, 531, 69],\n",
              " 54559: [12, 510, 703, 293, 827, 208, 288, 233, 610, 895],\n",
              " 54575: [25, 367, 40, 2195, 875, 2, 70, 36, 158, 73],\n",
              " 54578: [546, 12, 25, 509, 895, 208, 510, 619, 286, 708],\n",
              " 54870: [1251, 694, 25, 12, 73, 70, 222, 261, 82, 865],\n",
              " 54919: [25, 1347, 260, 1904, 1000, 80, 6843, 1298, 10471, 1079],\n",
              " 55021: [307, 71, 25, 1289, 1331, 3291, 27, 2894, 261, 637],\n",
              " 55095: [96, 1, 35, 5, 307, 305, 938, 1049, 511, 232],\n",
              " 55119: [25, 4383, 1237, 3631, 536, 519, 7387, 1438, 713, 3146],\n",
              " 55121: [25, 517, 598, 70, 2195, 561, 5109, 14988, 875, 1786],\n",
              " 55123: [25, 629, 510, 347, 594, 2760, 2483, 850, 853, 1605],\n",
              " 55126: [1115, 73, 949, 3234, 14249, 5211, 536, 1647, 1369, 594],\n",
              " 55409: [718, 12, 844, 831, 863, 275, 695, 845, 876, 458],\n",
              " 56524: [25, 1251, 307, 1168, 1778, 1270, 658, 1261, 694, 2462],\n",
              " 56530: [25, 35, 235, 348, 67, 1013, 307, 6055, 78, 519],\n",
              " 56561: [25, 1115, 222, 96, 216, 307, 35, 305, 5, 92],\n",
              " 56770: [25, 695, 620, 326, 1789, 1369, 859, 873, 73, 327],\n",
              " 56881: [25, 67, 12, 2, 1369, 92, 68, 124, 30, 509],\n",
              " 56900: [593, 695, 546, 620, 126, 1789, 326, 594, 172, 665],\n",
              " 56952: [593, 830, 891, 25, 3127, 637, 1789, 642, 544, 674],\n",
              " 56987: [275, 863, 620, 873, 326, 718, 593, 458, 90, 855],\n",
              " 56989: [73, 1369, 718, 873, 29, 326, 875, 885, 857, 854],\n",
              " 56993: [25, 3356, 1760, 1689, 2920, 3936, 1427, 1695, 949, 536],\n",
              " 57257: [1168, 1115, 1251, 1223, 13550, 510, 12, 25, 293, 203],\n",
              " 57267: [126, 531, 895, 866, 12, 1, 1258, 1436, 731, 1289],\n",
              " 57737: [25, 909, 49, 1904, 1588, 894, 1208, 696, 921, 495],\n",
              " 57853: [25, 1417, 1904, 69, 2, 235, 92, 222, 593, 68],\n",
              " 57999: [25, 3520, 573, 307, 1600, 949, 305, 96, 1013, 222],\n",
              " 58527: [1251, 1168, 760, 1385, 897, 1398, 13667, 2361, 1380, 1223],\n",
              " 58762: [96, 509, 519, 307, 3356, 1600, 2760, 875, 25, 70],\n",
              " 58787: [25, 2950, 440, 193, 82, 1417, 511, 208, 68, 980],\n",
              " 58945: [1417, 511, 293, 193, 878, 208, 895, 1079, 694, 69],\n",
              " 59326: [25, 665, 771, 695, 220, 1006, 620, 594, 593, 326],\n",
              " 59559: [25, 519, 73, 1495, 631, 625, 561, 594, 623, 544],\n",
              " 59561: [25, 820, 3299, 616, 827, 625, 70, 544, 73, 2517],\n",
              " 59579: [25, 1599, 616, 1739, 802, 594, 544, 517, 642, 647],\n",
              " 59591: [25, 623, 1600, 526, 625, 3299, 616, 544, 594, 820],\n",
              " 59704: [347, 642, 674, 598, 1789, 623, 544, 1600, 625, 1663],\n",
              " 59722: [70, 1600, 625, 544, 2542, 3299, 1197, 2517, 631, 861],\n",
              " 59893: [347, 674, 25, 642, 510, 1905, 1568, 1967, 3722, 1739],\n",
              " 59909: [25, 1748, 850, 859, 7339, 853, 1378, 510, 1344, 863],\n",
              " 60022: [25, 12, 293, 495, 531, 1219, 711, 1385, 919, 288],\n",
              " 60073: [293, 770, 1588, 495, 71, 960, 73, 289, 43, 894],\n",
              " 60102: [1251, 1168, 528, 1219, 1347, 25, 521, 3126, 1263, 1904],\n",
              " 60122: [25, 2544, 2555, 3643, 1402, 19648, 2043, 1028, 16703, 51],\n",
              " 60195: [25, 1726, 3291, 1237, 2247, 3244, 3289, 1830, 4455, 3353],\n",
              " 60199: [25, 4455, 1885, 3244, 307, 1830, 1237, 761, 4559, 3289],\n",
              " 60209: [25, 8543, 3289, 1566, 5905, 3244, 2258, 1694, 1748, 1830],\n",
              " 60213: [25, 3291, 1219, 3244, 2258, 1748, 3289, 1908, 3372, 1830],\n",
              " 60295: [25, 847, 531, 1789, 593, 637, 126, 1220, 327, 3229],\n",
              " 60301: [12, 275, 286, 126, 29, 307, 593, 694, 831, 327],\n",
              " 60307: [12, 546, 29, 798, 511, 593, 126, 275, 585, 1115],\n",
              " 60309: [859, 12, 327, 25, 275, 3229, 307, 610, 593, 511],\n",
              " 60311: [25, 847, 327, 326, 1920, 12, 695, 855, 986, 937],\n",
              " 60317: [593, 12, 1247, 213, 231, 35, 663, 90, 286, 1115],\n",
              " 60320: [663, 694, 232, 12, 90, 82, 195, 35, 78, 92],\n",
              " 60322: [25, 1168, 1079, 731, 511, 897, 663, 275, 307, 1261],\n",
              " 60326: [25, 126, 511, 12, 124, 305, 195, 291, 231, 91],\n",
              " 60386: [25, 620, 307, 172, 2578, 1242, 214, 1206, 1801, 340],\n",
              " 60431: [25, 718, 73, 78, 694, 593, 1789, 29, 909, 578],\n",
              " 60709: [70, 82, 68, 993, 12, 90, 291, 126, 875, 844],\n",
              " 60731: [25, 546, 509, 620, 70, 291, 68, 93, 69, 92],\n",
              " 60868: [232, 511, 12, 126, 879, 1, 158, 69, 305, 307],\n",
              " 60873: [89, 49, 495, 3420, 528, 1079, 25, 71, 1287, 261],\n",
              " 60877: [25, 96, 663, 3520, 394, 37, 974, 5, 193, 1049],\n",
              " 60899: [307, 1, 216, 232, 82, 35, 5, 305, 92, 67],\n",
              " 60930: [1251, 731, 49, 909, 1230, 1279, 1436, 1649, 25, 1689],\n",
              " 60932: [718, 29, 1219, 885, 458, 1789, 1369, 854, 871, 857],\n",
              " 60972: [960, 25, 293, 158, 73, 67, 2, 2597, 202, 194],\n",
              " 60983: [25, 711, 151, 73, 78, 921, 1254, 49, 1215, 1253],\n",
              " 60992: [307, 760, 694, 96, 472, 231, 194, 216, 35, 1344],\n",
              " 61031: [25, 960, 1417, 1041, 193, 36, 946, 1049, 54, 951],\n",
              " 61040: [25, 279, 151, 1436, 8910, 241, 1984, 1724, 649, 982],\n",
              " 61074: [25, 440, 1129, 546, 12, 511, 982, 1100, 1049, 82],\n",
              " 61076: [25, 1168, 3284, 1438, 36, 2281, 127, 235, 35, 89],\n",
              " 61079: [25, 3224, 96, 1049, 36, 35, 89, 1129, 99, 1385],\n",
              " 61081: [546, 89, 1385, 69, 235, 1129, 411, 35, 946, 127],\n",
              " 61085: [293, 25, 495, 1212, 1215, 411, 711, 2281, 956, 49],\n",
              " 61405: [1206, 517, 1291, 5243, 5211, 5058, 820, 5108, 2760, 861],\n",
              " 61418: [25, 307, 517, 12, 1251, 1168, 3478, 663, 711, 938],\n",
              " 61448: [151, 618, 1188, 2542, 731, 902, 25, 1436, 3420, 646],\n",
              " 61465: [25, 3219, 2966, 1237, 1385, 536, 519, 1291, 235, 875],\n",
              " 61473: [25, 70, 509, 5474, 6055, 517, 95, 291, 616, 1801],\n",
              " 61979: [25, 509, 158, 2, 593, 69, 82, 291, 5108, 801],\n",
              " 61981: [517, 208, 158, 2, 993, 82, 68, 69, 511, 67],\n",
              " 61992: [25, 73, 235, 284, 519, 96, 68, 158, 509, 944],\n",
              " 62038: [25, 11476, 4158, 683, 391, 260, 10013, 2770, 1670, 1985],\n",
              " 62117: [293, 73, 744, 1230, 629, 546, 960, 894, 71, 1896],\n",
              " 62261: [25, 73, 2, 956, 68, 882, 2497, 623, 671, 288],\n",
              " 62268: [25, 1600, 1495, 5211, 70, 347, 674, 3356, 1599, 916],\n",
              " 62281: [25, 1588, 202, 956, 1041, 2506, 3984, 14, 1432, 4484],\n",
              " 62283: [70, 546, 1594, 286, 629, 29, 709, 609, 1605, 916],\n",
              " 62294: [25, 1343, 531, 367, 307, 3229, 847, 36, 69, 509],\n",
              " 62296: [25, 307, 1383, 878, 3244, 637, 1885, 1033, 711, 3341],\n",
              " 62305: [307, 25, 1436, 1724, 620, 546, 49, 1230, 151, 293],\n",
              " 62313: [25, 172, 5165, 1920, 307, 1331, 1289, 797, 3291, 1237],\n",
              " 62323: [25, 1168, 1904, 938, 288, 151, 1008, 733, 80, 982],\n",
              " 62327: [25, 1251, 293, 510, 593, 73, 744, 71, 946, 909],\n",
              " 62365: [25, 12, 82, 291, 70, 509, 875, 215, 2, 519],\n",
              " 62797: [4262, 1786, 866, 620, 1594, 4638, 546, 78, 629, 1234],\n",
              " 63296: [25, 307, 2578, 6125, 71, 172, 207, 1911, 2577, 82],\n",
              " 63432: [25, 667, 1234, 2810, 80, 279, 1436, 1689, 917, 646],\n",
              " 64636: [531, 73, 70, 853, 593, 847, 29, 275, 620, 179],\n",
              " 64637: [25, 3283, 3984, 501, 1438, 2506, 348, 2066, 2189, 202],\n",
              " 64677: [25, 73, 1369, 126, 875, 629, 817, 610, 29, 731],\n",
              " 64917: [1168, 7339, 295, 96, 126, 2, 208, 70, 67, 509],\n",
              " 64930: [25, 30, 1287, 2591, 694, 4070, 1259, 2894, 3017, 3520],\n",
              " 65552: [25, 12, 1043, 695, 2894, 3289, 37, 883, 96, 126],\n",
              " 65566: [731, 1, 307, 1219, 70, 73, 817, 865, 947, 898],\n",
              " 65628: [25, 878, 70, 69, 89, 2, 67, 12, 36, 215],\n",
              " 65675: [25, 307, 12, 73, 2, 367, 69, 865, 235, 142],\n",
              " 65708: [25, 1417, 3018, 37, 5, 1013, 36, 458, 179, 126],\n",
              " 65714: [25, 1219, 817, 801, 2, 172, 593, 194, 70, 949],\n",
              " 65924: [909, 894, 1588, 151, 71, 657, 495, 25, 744, 1208],\n",
              " 65930: [25, 293, 1230, 5915, 51, 1028, 6893, 203, 193, 1766],\n",
              " 65945: [25, 5868, 3492, 13550, 3862, 10, 11698, 1588, 2633, 2074],\n",
              " 65949: [25, 1230, 2074, 151, 71, 203, 1588, 2544, 510, 711],\n",
              " 66020: [25, 1168, 610, 895, 1219, 817, 1289, 850, 2526, 1416],\n",
              " 66550: [25, 307, 1967, 999, 8316, 2050, 2358, 1795, 8796, 10654],\n",
              " 66588: [25, 1568, 2050, 2126, 6031, 1986, 999, 8430, 2195, 2028],\n",
              " 66668: [25, 1568, 999, 2050, 2358, 8316, 8752, 8797, 2126, 4811],\n",
              " 66676: [25, 2126, 3513, 708, 1568, 8316, 1563, 8802, 2367, 4616],\n",
              " 66695: [25, 8316, 8630, 4851, 1568, 1817, 2050, 8802, 999, 9014],\n",
              " 67135: [25, 5799, 51, 1383, 7826, 3631, 501, 71, 1251, 307],\n",
              " 67712: [25, 8419, 1612, 8316, 3521, 4436, 999, 983, 2050, 1766],\n",
              " 67714: [25, 1563, 8754, 3232, 2270, 3722, 1748, 3532, 1766, 8419],\n",
              " 67718: [25, 1563, 999, 8316, 2358, 1564, 2245, 1986, 4811, 711],\n",
              " 67720: [25, 1563, 2358, 8419, 4436, 1612, 3518, 3522, 1766, 1986],\n",
              " 67722: [25, 999, 1568, 1563, 8419, 3350, 4436, 1766, 2178, 4566],\n",
              " 67725: [8333, 1563, 3244, 2367, 711, 10404, 3522, 8845, 2125, 1612],\n",
              " 67730: [2125, 2050, 8316, 1568, 2367, 1564, 3722, 2245, 3810, 1660],\n",
              " 67737: [25, 3521, 1563, 3350, 2125, 1986, 3522, 999, 1564, 1568],\n",
              " 67740: [25, 1563, 3350, 2178, 3521, 1766, 610, 285, 2125, 1612],\n",
              " 67748: [8333, 4566, 8419, 1748, 2050, 8845, 3522, 1986, 1766, 4436],\n",
              " 67750: [25, 1563, 8333, 711, 1766, 1612, 4566, 2125, 3722, 4436],\n",
              " 67752: [25, 1563, 1766, 3244, 1612, 8845, 3522, 2178, 999, 4566],\n",
              " 67754: [25, 1563, 1766, 3350, 1612, 1986, 4436, 983, 3521, 4692],\n",
              " 67758: [25, 524, 1986, 2050, 1563, 1612, 8333, 3232, 1766, 3522],\n",
              " 67762: [25, 1563, 2270, 2178, 1766, 4566, 1612, 4436, 8845, 3518],\n",
              " 67764: [25, 8333, 3232, 3522, 2367, 1986, 1563, 1766, 1612, 8419],\n",
              " 67768: [25, 3232, 1563, 3244, 3350, 4436, 2125, 711, 1612, 1986],\n",
              " 68068: [25, 731, 1168, 753, 307, 3429, 3253, 4812, 3631, 1253],\n",
              " 68255: [25, 286, 73, 594, 90, 1369, 126, 875, 593, 731],\n",
              " 68675: [70, 2, 73, 67, 35, 68, 291, 195, 5, 305],\n",
              " 68693: [1383, 25, 307, 78, 1, 694, 96, 509, 305, 12],\n",
              " 68708: [12, 982, 82, 291, 5, 35, 67, 222, 993, 96],\n",
              " 68740: [25, 744, 78, 71, 1247, 286, 694, 307, 194, 305],\n",
              " 68743: [73, 70, 89, 7339, 7310, 1, 3284, 13237, 509, 222],\n",
              " 68843: [510, 1597, 2195, 549, 547, 1568, 3350, 1986, 562, 703],\n",
              " 68860: [25, 512, 1563, 1568, 1986, 629, 549, 547, 510, 610],\n",
              " 68862: [25, 629, 1563, 512, 725, 549, 609, 895, 703, 562],\n",
              " 68868: [293, 1563, 2351, 8846, 512, 1660, 549, 609, 1568, 629],\n",
              " 68945: [25, 12, 307, 711, 208, 1563, 703, 510, 2351, 590],\n",
              " 69042: [25, 510, 549, 610, 1563, 597, 562, 1568, 11233, 1667],\n",
              " 69073: [25, 597, 3350, 609, 512, 510, 629, 549, 1568, 817],\n",
              " 69074: [25, 510, 547, 1568, 2195, 609, 740, 590, 1563, 512],\n",
              " 69078: [25, 711, 3232, 1748, 817, 285, 1563, 3350, 2361, 703],\n",
              " 69095: [531, 510, 1563, 609, 512, 25, 549, 1568, 610, 1667],\n",
              " 69097: [817, 536, 1597, 25, 549, 610, 510, 562, 11233, 2195],\n",
              " 69587: [11698, 2544, 25, 9771, 10031, 80, 1438, 49, 620, 731],\n",
              " 69681: [25, 625, 1197, 3356, 519, 1597, 850, 2497, 2526, 1908],\n",
              " 69731: [25, 711, 307, 285, 1798, 1431, 40, 1183, 1041, 559],\n",
              " 69781: [25, 1041, 40, 1183, 4484, 501, 1392, 2305, 664, 4498],\n",
              " 70097: [25, 12, 1251, 99, 798, 1417, 951, 868, 1253, 1261],\n",
              " 70123: [25, 73, 2733, 70, 3356, 3299, 1600, 1647, 519, 2497],\n",
              " 70138: [25, 293, 956, 2074, 180, 657, 894, 151, 289, 49],\n",
              " 70215: [25, 307, 275, 214, 1789, 1237, 2244, 874, 167, 585],\n",
              " 70252: [25, 711, 1251, 866, 1219, 1289, 367, 3284, 681, 877],\n",
              " 70792: [25, 12, 951, 1417, 215, 89, 36, 509, 158, 2],\n",
              " 70819: [307, 285, 1219, 1748, 610, 1789, 286, 801, 709, 126],\n",
              " 70926: [25, 620, 92, 1223, 2, 307, 694, 40, 663, 897],\n",
              " 70942: [25, 6055, 5799, 1376, 1166, 510, 45, 1054, 960, 307],\n",
              " 70974: [25, 2, 65, 36, 946, 35, 89, 54, 67, 235],\n",
              " 70979: [307, 222, 1013, 36, 1385, 96, 235, 35, 99, 69],\n",
              " 71018: [25, 1251, 12, 194, 67, 817, 71, 694, 151, 593],\n",
              " 71060: [510, 1251, 1417, 868, 1168, 546, 3283, 286, 65, 293],\n",
              " 71080: [25, 285, 2506, 859, 3253, 307, 1237, 1219, 3229, 367],\n",
              " 71093: [307, 15550, 30, 1, 6654, 978, 54, 234, 40, 25],\n",
              " 71098: [25, 12, 40, 96, 1041, 14, 142, 215, 89, 69],\n",
              " 71119: [7, 731, 1115, 1041, 36, 1385, 71, 1438, 142, 2],\n",
              " 71126: [620, 798, 946, 509, 96, 694, 216, 663, 90, 6055],\n",
              " 71138: [288, 1594, 1766, 553, 2497, 629, 1190, 1781, 709, 817],\n",
              " 71178: [25, 275, 1251, 620, 1649, 1230, 546, 916, 286, 73],\n",
              " 71209: [25, 1041, 14, 1432, 2305, 5657, 1985, 4484, 1438, 1392],\n",
              " 71250: [25, 11476, 3847, 7331, 2693, 5937, 1982, 7369, 6475, 2626],\n",
              " 71297: [25, 1168, 1885, 1334, 2247, 3232, 1416, 1748, 1219, 1237],\n",
              " 71299: [25, 1436, 307, 1168, 1219, 2272, 2247, 1416, 3223, 1334],\n",
              " 71905: [25, 78, 1006, 12, 1904, 195, 1832, 126, 863, 593],\n",
              " 71913: [70, 1, 69, 67, 126, 68, 232, 12, 843, 85],\n",
              " 72786: [1219, 1251, 1115, 7310, 3284, 3289, 3353, 18165, 7863, 18033],\n",
              " 72809: [25, 1343, 96, 1385, 3284, 99, 40, 7310, 1251, 1168],\n",
              " 72821: [25, 594, 73, 919, 99, 1385, 1219, 731, 5963, 7863],\n",
              " 72838: [1251, 1263, 1259, 528, 1168, 1407, 521, 731, 1289, 1340],\n",
              " 72843: [25, 40, 711, 521, 7310, 1219, 866, 1168, 898, 1385],\n",
              " 72864: [25, 559, 1600, 631, 3289, 1375, 521, 1259, 1263, 731],\n",
              " 72869: [25, 1219, 866, 96, 7310, 3284, 472, 919, 307, 3289],\n",
              " 72873: [25, 96, 843, 5905, 1334, 866, 760, 7310, 472, 3284],\n",
              " 72887: [1251, 1385, 1168, 866, 89, 878, 96, 1248, 3246, 1287],\n",
              " 72897: [307, 7310, 1251, 1385, 1168, 1219, 947, 3289, 96, 3284],\n",
              " 72913: [859, 73, 12, 875, 96, 1115, 25, 1289, 194, 1343],\n",
              " 72914: [25, 7310, 96, 1385, 274, 1251, 7863, 1255, 2497, 1416],\n",
              " 72923: [25, 307, 6654, 1343, 3284, 367, 895, 3246, 610, 1251],\n",
              " 72968: [1251, 1385, 658, 694, 947, 878, 25, 1115, 528, 3284],\n",
              " 72976: [731, 307, 1251, 1115, 1289, 1253, 866, 1416, 12, 7310],\n",
              " 72988: [25, 4523, 536, 1724, 1385, 669, 1291, 1251, 274, 1416],\n",
              " 72990: [25, 73, 208, 1251, 1385, 1192, 709, 1219, 866, 1289],\n",
              " 72999: [12, 288, 669, 3127, 1255, 1251, 1385, 1258, 859, 592],\n",
              " 73003: [1498, 1255, 307, 1689, 2247, 866, 731, 7310, 7863, 1237],\n",
              " 73006: [193, 25, 865, 3284, 1255, 1251, 1385, 1770, 7310, 1259],\n",
              " 73045: [25, 3291, 1251, 3244, 843, 3246, 472, 666, 3284, 234],\n",
              " 73052: [25, 12, 293, 288, 1385, 69, 3284, 142, 7310, 1251],\n",
              " 73056: [25, 1251, 1263, 1168, 731, 3284, 3289, 7863, 7310, 1219],\n",
              " 73067: [25, 510, 1665, 610, 3372, 1789, 1726, 1219, 2228, 521],\n",
              " 73085: [1254, 12, 731, 3289, 1219, 610, 7310, 3284, 875, 1605],\n",
              " 73086: [25, 307, 1385, 1219, 866, 4383, 536, 902, 1237, 1724],\n",
              " 73117: [25, 208, 12, 866, 610, 1251, 3246, 1223, 3229, 1168],\n",
              " 73122: [1251, 288, 817, 520, 215, 951, 78, 3478, 7310, 1190],\n",
              " 73143: [1168, 1219, 12, 531, 30, 827, 1343, 218, 1398, 3284],\n",
              " 73146: [25, 1255, 1251, 1347, 1407, 1375, 1436, 2272, 2247, 1340],\n",
              " 73210: [151, 1724, 620, 12, 78, 70, 1206, 594, 509, 92],\n",
              " 73217: [25, 1219, 2497, 12, 208, 895, 70, 620, 73, 1230],\n",
              " 73273: [510, 1748, 3372, 817, 1331, 1383, 3357, 1251, 1665, 850],\n",
              " 73281: [12, 285, 559, 510, 208, 25, 9120, 2414, 2371, 1563],\n",
              " 73309: [25, 711, 3244, 1343, 3291, 2212, 3352, 1383, 3272, 3249],\n",
              " 73312: [593, 1270, 663, 1251, 2462, 1383, 472, 307, 40, 25],\n",
              " 73322: [2, 25, 65, 895, 36, 35, 868, 956, 89, 67],\n",
              " 73329: [517, 25, 1166, 711, 14983, 1267, 1967, 3532, 1383, 1563],\n",
              " 73340: [25, 40, 1251, 1168, 2462, 1079, 1270, 307, 663, 694],\n",
              " 73342: [25, 593, 307, 1344, 663, 694, 897, 1251, 1270, 2462],\n",
              " 73376: [25, 1166, 3357, 3232, 1331, 1251, 1383, 694, 307, 897],\n",
              " 73382: [25, 1251, 1079, 2462, 4070, 1287, 3478, 1398, 1243, 663],\n",
              " 73397: [1347, 1251, 1079, 1168, 731, 260, 1904, 1375, 511, 1259],\n",
              " 73463: [25, 1563, 3232, 1331, 1166, 1383, 2647, 711, 285, 3244],\n",
              " 73482: [25, 12, 1289, 637, 1694, 3291, 3429, 3244, 1290, 1331],\n",
              " 73501: [1168, 3295, 1905, 1166, 1383, 711, 1331, 3232, 897, 1279],\n",
              " 73594: [1417, 293, 151, 770, 982, 495, 946, 195, 25, 12],\n",
              " 73908: [25, 3289, 711, 1563, 1436, 1289, 307, 1168, 1079, 218],\n",
              " 74309: [25, 307, 67, 2578, 10368, 126, 2542, 1904, 80, 91],\n",
              " 75090: [610, 895, 517, 70, 286, 546, 12, 1665, 285, 1331],\n",
              " 75414: [25, 1079, 731, 1259, 2272, 1375, 1498, 14049, 1263, 1407],\n",
              " 75455: [25, 859, 12, 711, 1748, 947, 1649, 1724, 1908, 2247],\n",
              " 75642: [25, 5177, 4383, 2920, 1436, 3255, 1931, 3420, 1724, 649],\n",
              " 75758: [25, 99, 546, 458, 509, 986, 915, 179, 1401, 1043],\n",
              " 75805: [25, 897, 1168, 1665, 863, 1789, 946, 1115, 593, 831],\n",
              " 75838: [25, 179, 980, 27, 232, 974, 5, 78, 3520, 291],\n",
              " 76022: [25, 96, 1049, 222, 5, 90, 509, 982, 195, 620],\n",
              " 76215: [70, 158, 275, 126, 5, 307, 593, 35, 25, 91],\n",
              " 76717: [1168, 1568, 3350, 1563, 2270, 285, 8754, 1219, 2028, 2125],\n",
              " 76726: [25, 2125, 1563, 609, 3232, 1166, 285, 999, 3350, 3810],\n",
              " 76913: [8333, 711, 3244, 285, 559, 3532, 25, 1563, 1748, 3232],\n",
              " 77102: [25, 307, 956, 2074, 391, 5657, 1041, 3984, 2305, 4484],\n",
              " 77139: [25, 960, 12, 49, 51, 293, 5937, 203, 1417, 449],\n",
              " 77149: [1168, 731, 1724, 1417, 528, 49, 1115, 1287, 51, 1028],\n",
              " 77151: [25, 603, 510, 956, 12, 51, 2621, 1331, 197, 4221],\n",
              " 77158: [2074, 25, 1287, 1677, 1412, 40, 71, 1259, 1079, 3126],\n",
              " 77193: [663, 1079, 203, 293, 711, 40, 510, 501, 1812, 71],\n",
              " 77195: [25, 89, 279, 1129, 982, 1417, 667, 2542, 495, 278],\n",
              " 77259: [25, 12, 667, 179, 982, 2040, 157, 2092, 1904, 6182],\n",
              " 77495: [511, 827, 591, 2265, 1344, 1378, 193, 203, 1355, 3862],\n",
              " 77573: [25, 875, 3, 1438, 2542, 176, 982, 1043, 49, 748],\n",
              " 77661: [1251, 25, 1115, 194, 1270, 2462, 1260, 1254, 837, 893],\n",
              " 77735: [96, 25, 27, 1417, 946, 510, 261, 3673, 1398, 99],\n",
              " 77824: [25, 1347, 1251, 1168, 1398, 1079, 1259, 3126, 1261, 1270],\n",
              " 77834: [1251, 25, 663, 288, 203, 946, 1417, 51, 193, 974],\n",
              " 78649: [25, 2578, 1911, 6125, 3253, 307, 1237, 40, 194, 3631],\n",
              " 78664: [70, 12, 440, 2885, 771, 3199, 2066, 67, 3, 1438],\n",
              " 78919: [25, 711, 3244, 1983, 1830, 3246, 3289, 1331, 1454, 3257],\n",
              " 78949: [3350, 3372, 1219, 1289, 3232, 610, 1166, 3244, 285, 1748],\n",
              " 79098: [25, 8333, 3232, 1563, 3532, 2178, 711, 3244, 1830, 3231],\n",
              " 79285: [1331, 3232, 1166, 8333, 345, 3244, 10404, 3530, 3518, 3532],\n",
              " 79295: [8333, 3244, 711, 559, 3532, 1563, 558, 3530, 3722, 3232],\n",
              " 79353: [1748, 3244, 1563, 711, 3350, 559, 2270, 1166, 3232, 1331],\n",
              " 79375: [285, 3244, 8333, 3532, 711, 559, 1563, 558, 3232, 1726],\n",
              " 79468: [307, 25, 285, 3244, 3532, 1563, 711, 1748, 666, 559],\n",
              " 79475: [25, 511, 307, 194, 1251, 1270, 3742, 1260, 1115, 1190],\n",
              " 79541: [25, 11268, 1786, 1563, 629, 3350, 3244, 999, 1731, 3232],\n",
              " 79589: [511, 1168, 593, 70, 2, 96, 7310, 5533, 850, 843],\n",
              " 79613: [179, 80, 982, 59, 1043, 278, 25, 151, 2092, 157],\n",
              " 79654: [25, 80, 179, 157, 1043, 59, 2040, 167, 278, 243],\n",
              " 79803: [179, 243, 982, 80, 2092, 278, 393, 1043, 167, 157],\n",
              " 79981: [718, 1369, 12, 126, 1006, 511, 90, 5, 1401, 593],\n",
              " 79987: [25, 73, 36, 1436, 657, 1230, 293, 71, 288, 1417],\n",
              " 79991: [25, 179, 80, 157, 2040, 2987, 59, 2065, 167, 151],\n",
              " 80006: [70, 29, 73, 12, 293, 879, 1253, 851, 275, 853],\n",
              " 80008: [12, 126, 1254, 29, 851, 620, 286, 582, 863, 853],\n",
              " 80012: [718, 12, 275, 68, 982, 220, 25, 863, 126, 593],\n",
              " 80152: [275, 863, 801, 73, 70, 2, 158, 868, 67, 82],\n",
              " 80217: [25, 1436, 667, 665, 172, 1206, 1242, 1234, 346, 1911],\n",
              " 80243: [172, 510, 293, 593, 1911, 2578, 78, 11, 343, 346],\n",
              " 80248: [25, 2578, 1904, 5811, 5833, 17816, 5772, 2000, 2577, 11],\n",
              " 80265: [25, 1438, 2810, 16, 2578, 1911, 3742, 1206, 593, 172],\n",
              " 80274: [25, 1344, 2578, 3742, 511, 593, 5833, 1911, 17, 172],\n",
              " 80276: [25, 151, 5833, 2578, 207, 6125, 17, 2577, 817, 2000],\n",
              " 80279: [711, 208, 610, 1219, 744, 1574, 594, 742, 73, 603],\n",
              " 80996: [663, 124, 70, 30, 305, 82, 2, 67, 68, 232],\n",
              " 81003: [25, 307, 82, 78, 231, 1, 35, 215, 68, 216],\n",
              " 81005: [25, 307, 232, 663, 760, 222, 261, 878, 35, 938],\n",
              " 81007: [25, 938, 96, 509, 284, 6055, 67, 89, 30, 78],\n",
              " 81009: [25, 288, 798, 78, 90, 92, 938, 868, 286, 231],\n",
              " 81023: [126, 90, 235, 82, 195, 511, 509, 30, 6233, 222],\n",
              " 81040: [25, 96, 222, 1049, 5, 663, 27, 1013, 1401, 1115],\n",
              " 81045: [25, 1013, 222, 235, 82, 70, 993, 5, 919, 348],\n",
              " 81049: [307, 1115, 875, 12, 70, 511, 866, 90, 1253, 222],\n",
              " 81054: [25, 68, 70, 1013, 159, 5, 348, 222, 1115, 1049],\n",
              " 81058: [25, 1013, 1438, 222, 35, 307, 305, 1006, 5, 235],\n",
              " 81061: [25, 235, 67, 68, 90, 96, 232, 222, 5, 291],\n",
              " 81064: [96, 307, 949, 1438, 1013, 25, 695, 89, 5, 35],\n",
              " 81068: [25, 80, 1401, 695, 937, 851, 2608, 49, 949, 1789],\n",
              " 81071: [25, 851, 126, 1401, 1006, 275, 876, 511, 919, 89],\n",
              " 81285: [12, 25, 96, 637, 1115, 49, 1904, 1254, 286, 893],\n",
              " 81566: [307, 744, 1904, 528, 293, 1649, 5165, 711, 1436, 1230],\n",
              " 81776: [25, 512, 1563, 1665, 1667, 647, 895, 1166, 1967, 1905],\n",
              " 81784: [25, 3350, 1563, 3232, 1748, 2125, 2279, 3227, 3388, 3722],\n",
              " 81788: [25, 827, 208, 70, 561, 895, 544, 1665, 507, 647],\n",
              " 81856: [25, 8797, 1568, 3722, 2050, 1166, 1383, 1563, 3357, 2125],\n",
              " 81938: [25, 960, 2555, 2074, 203, 1028, 43, 1417, 173, 4221],\n",
              " 82052: [620, 25, 96, 637, 695, 5, 509, 35, 511, 938],\n",
              " 82099: [25, 12, 817, 1251, 65, 222, 878, 232, 694, 89],\n",
              " 82127: [90, 67, 286, 284, 509, 89, 235, 519, 232, 1040],\n",
              " 82137: [25, 80, 195, 982, 96, 126, 1904, 275, 90, 511],\n",
              " 82710: [25, 35, 69, 85, 2, 65, 27, 38, 5484, 6654],\n",
              " 82762: [25, 215, 878, 6654, 232, 5352, 5329, 85, 11447, 5594],\n",
              " 82766: [25, 1247, 78, 1, 11447, 69, 85, 5329, 5484, 978],\n",
              " 82815: [25, 1251, 6654, 40, 232, 215, 878, 307, 1343, 12],\n",
              " 82855: [25, 6654, 85, 364, 5352, 1, 11447, 215, 1343, 361],\n",
              " 82867: [25, 222, 1343, 1251, 878, 6654, 951, 234, 215, 760],\n",
              " 82920: [12, 1, 70, 216, 30, 878, 6654, 1040, 65, 5352],\n",
              " 82925: [12, 1985, 947, 40, 6654, 1343, 3229, 215, 7310, 5329],\n",
              " 82946: [25, 4158, 12, 30, 6654, 694, 222, 1344, 307, 232],\n",
              " 83084: [285, 560, 25, 1343, 69, 5329, 843, 85, 6654, 610],\n",
              " 83732: [25, 307, 1778, 591, 8894, 3862, 1515, 12864, 40, 142],\n",
              " 84162: [25, 546, 65, 1251, 307, 1331, 1289, 3291, 1726, 1168],\n",
              " 84164: [25, 1168, 1219, 511, 3244, 90, 2987, 293, 2244, 1289],\n",
              " 84172: [25, 307, 1289, 1436, 6466, 6542, 1649, 2820, 279, 902],\n",
              " 84175: [25, 307, 12, 35, 1206, 126, 960, 67, 293, 194],\n",
              " 84429: [25, 519, 73, 279, 1291, 1436, 1649, 902, 2966, 7042],\n",
              " 84453: [25, 1219, 3356, 158, 73, 214, 3936, 1649, 1234, 536],\n",
              " 84469: [25, 718, 279, 1234, 1649, 4523, 902, 3936, 3356, 6542],\n",
              " 84473: [1649, 25, 3936, 279, 916, 3356, 1724, 536, 1436, 519],\n",
              " 84479: [657, 25, 902, 4523, 7577, 4383, 7, 6542, 3936, 3629],\n",
              " 84501: [25, 1649, 4523, 1436, 2820, 3356, 536, 2966, 3936, 902],\n",
              " 84532: [1724, 4523, 73, 902, 279, 25, 7577, 916, 3356, 3936],\n",
              " 84536: [1438, 3, 4383, 5243, 2810, 1668, 3356, 4523, 25, 916],\n",
              " 84554: [25, 1219, 1760, 1436, 10404, 4523, 3223, 3356, 1786, 1649],\n",
              " 84663: [25, 70, 73, 875, 1760, 4523, 1649, 916, 3936, 1234],\n",
              " 84665: [25, 1438, 2506, 916, 2542, 235, 1695, 1299, 7577, 519],\n",
              " 84670: [25, 817, 151, 1649, 73, 1234, 3936, 4523, 902, 6542],\n",
              " 84685: [4523, 3356, 1649, 1760, 6542, 519, 916, 8714, 1234, 949],\n",
              " 84691: [3356, 4523, 1286, 25, 1649, 902, 1695, 536, 4035, 916],\n",
              " 84778: [1649, 25, 667, 3349, 279, 902, 1760, 519, 3936, 3356],\n",
              " 84794: [25, 1436, 1234, 49, 3356, 7577, 916, 4523, 1649, 902],\n",
              " 84802: [25, 307, 3356, 4523, 902, 1234, 3936, 916, 949, 1286],\n",
              " 85175: [25, 694, 1223, 510, 208, 1251, 619, 1331, 194, 593],\n",
              " 85187: [25, 718, 531, 620, 1223, 510, 1920, 509, 594, 1665],\n",
              " 85193: [25, 214, 1183, 3566, 285, 172, 695, 327, 859, 510],\n",
              " 85557: [25, 51, 1289, 618, 213, 857, 1254, 1253, 893, 73],\n",
              " 85580: [25, 1219, 519, 3356, 1427, 847, 1369, 718, 1789, 875],\n",
              " ...}"
            ]
          },
          "metadata": {
            "tags": []
          },
          "execution_count": 90
        }
      ]
    },
    {
      "cell_type": "markdown",
      "metadata": {
        "id": "D40445PTZnYY"
      },
      "source": [
        "Calcul du rappel et du MRR (cf. https://github.com/olesls/master_thesis/blob/master/code/test_util.py)"
      ]
    },
    {
      "cell_type": "markdown",
      "metadata": {
        "id": "1RZ31J6eTn5y"
      },
      "source": [
        "# Etude du loss\n",
        "\n",
        "\n",
        "\n",
        "\n",
        "\n",
        "*   Affichage des valeurs du loss sur l'ensemble de validation\n",
        "\n",
        "*   En effet il peut arriver que celui-ci ne suive pas la mêmetendance que celle du train\n",
        "\n",
        "*   Il s'agit d'identifier d'éventuels irrégularités\n",
        "\n",
        "\n",
        "\n",
        "\n",
        "\n",
        "\n",
        "\n",
        "\n",
        "\n"
      ]
    },
    {
      "cell_type": "markdown",
      "metadata": {
        "id": "5_39yXB2UZgk"
      },
      "source": [
        "Calcul de la cross entropy sur toutes les valeurs du dataset de validation"
      ]
    },
    {
      "cell_type": "code",
      "metadata": {
        "id": "31-hPrUeT_Ut"
      },
      "source": [
        "# étude du loss sur l'ensemble de validation\n",
        "# les labels sont fournis par le dictionnaire labels_valid\n",
        "# les predictions sont à construire\n",
        "from keras import utils\n",
        "tab_loss=[]\n",
        "tab_yhat=[]\n",
        "tab_ytrue=[]\n",
        "\n",
        "cce = tf.keras.losses.CategoricalCrossentropy()\n",
        "scce = tf.keras.losses.SparseCategoricalCrossentropy()\n",
        "for row in validation_generator:\n",
        "  for i in range(len(row[0])):\n",
        "    seq=sequence.pad_sequences([row[0][i]], maxlen=max_sequence_train)\n",
        "    y_hat=model.predict(seq)\n",
        "    y_true=row[1][i]\n",
        "    loss=scce(tf.convert_to_tensor(y_true),tf.convert_to_tensor(y_hat[0]))\n",
        "    tab_loss.append(keras.backend.eval(loss))\n",
        "    if i == 10:\n",
        "      break\n",
        "  break     \n"
      ],
      "execution_count": null,
      "outputs": []
    },
    {
      "cell_type": "code",
      "metadata": {
        "id": "aI3MQeoLQZJV"
      },
      "source": [
        "print(np.mean(tab_loss))"
      ],
      "execution_count": null,
      "outputs": []
    },
    {
      "cell_type": "code",
      "metadata": {
        "id": "R-VOx3jm0CRN"
      },
      "source": [
        "# méthode plus rapide...\n",
        "tab_loss_log=[]\n",
        "tab_yhat=[]\n",
        "tab_ytrue=[]\n",
        "real_loss=0\n",
        "\n",
        "count=0\n",
        "for row in validation_generator:\n",
        "  for i in range(len(row[0])):\n",
        "    seq=sequence.pad_sequences([row[0][i]], maxlen=max_sequence_train)\n",
        "    y_hat=model.predict(seq)\n",
        "    y_true=row[1][i]\n",
        "    real_loss=0\n",
        "    for i in range(len(y_hat[0])):\n",
        "      real_loss+=-np.log(y_hat[0][i][y_true[i][0]])\n",
        "    tab_loss_log.append(real_loss/len(y_hat[0]))\n",
        "    count+=1\n",
        "    \n",
        "  if count%1000 == 0:\n",
        "    print(count)  \n",
        "    "
      ],
      "execution_count": null,
      "outputs": []
    },
    {
      "cell_type": "code",
      "metadata": {
        "id": "4hVGJmQX5ELh"
      },
      "source": [
        "plt.hist(tab_loss_log)"
      ],
      "execution_count": null,
      "outputs": []
    },
    {
      "cell_type": "code",
      "metadata": {
        "id": "bcllHAbf6Vd2"
      },
      "source": [
        "plt.hist(tab_loss_log,range=(1,13),bins=30)"
      ],
      "execution_count": null,
      "outputs": []
    },
    {
      "cell_type": "code",
      "metadata": {
        "id": "8Ou4xJWl5WWC"
      },
      "source": [
        "from scipy import stats\n",
        "stats.describe(tab_loss_log)"
      ],
      "execution_count": null,
      "outputs": []
    },
    {
      "cell_type": "code",
      "metadata": {
        "id": "Gccf6fh282FW"
      },
      "source": [
        "# moyenne loss par batch\n",
        "tab_loss_log_mean=[]\n",
        "nb_batch=int(len(tab_loss_log)/batchsize)\n",
        "for i in range(nb_batch):\n",
        "  tab_loss_log_mean.append(np.average(tab_loss_log[i*batchsize:(i+1)*batchsize]))\n",
        "len(tab_loss_log_mean)"
      ],
      "execution_count": null,
      "outputs": []
    },
    {
      "cell_type": "code",
      "metadata": {
        "id": "1-sjRUecBZ-E"
      },
      "source": [
        "stats.describe(tab_loss_log_mean)"
      ],
      "execution_count": null,
      "outputs": []
    },
    {
      "cell_type": "code",
      "metadata": {
        "id": "40L0_HimBSl2"
      },
      "source": [
        "plt.hist(tab_loss_log_mean)"
      ],
      "execution_count": null,
      "outputs": []
    },
    {
      "cell_type": "markdown",
      "metadata": {
        "id": "OXts3PP234uC"
      },
      "source": [
        "# Petits examples sur la categorical cross entropy"
      ]
    },
    {
      "cell_type": "code",
      "metadata": {
        "id": "-yCs7quwctQr"
      },
      "source": [
        "loss = scce(\n",
        "  tf.convert_to_tensor([0, 1, 2]),\n",
        "  tf.convert_to_tensor([[.9, .05, .05], [.5, .89, .6], [.05, .01, .94]]))\n",
        "print('Loss: ', K.get_value(loss))  # Loss: 0.3239\n",
        "loss = cce(\n",
        "  tf.convert_to_tensor([[1,0,0],[0,1,0],[0,0,1]]),\n",
        "  tf.convert_to_tensor([[.9, .05, .05], [.5, .89, .6], [.05, .01, .94]]))\n",
        "print('Loss: ', K.get_value(loss))  # Loss: 0.3239"
      ],
      "execution_count": null,
      "outputs": []
    },
    {
      "cell_type": "code",
      "metadata": {
        "id": "HJA0J28x9R8G"
      },
      "source": [
        "import keras.backend as K\n",
        "\n",
        "test_cce = tf.keras.losses.CategoricalCrossentropy()\n",
        "test_scce = tf.keras.losses.SparseCategoricalCrossentropy()\n",
        "tab_labels=[0,1,2,3,4,5,6,7,8,9]\n",
        "y_true=[0,0,0,1,0,0,0,0,0,0]\n",
        "y_true_sparse=[3]\n",
        "\n",
        "y_hat=[0.22,0.01,0.01,0.7,0.01,0.01,0.01,0.01,0.01,0.01]\n",
        "K.eval(test_cce(y_true,y_hat))\n",
        "K.eval(test_scce(tf.convert_to_tensor(y_true_sparse),tf.convert_to_tensor(y_hat)))\n"
      ],
      "execution_count": null,
      "outputs": []
    },
    {
      "cell_type": "code",
      "metadata": {
        "id": "NSpxU2hOPEMp"
      },
      "source": [
        "from sklearn.metrics import log_loss\n",
        "log_loss(y_true_sparse,[y_hat], labels=tab_labels)"
      ],
      "execution_count": null,
      "outputs": []
    },
    {
      "cell_type": "code",
      "metadata": {
        "id": "6PpWQF-soGph"
      },
      "source": [
        "from IPython.display import Javascript\n",
        "Javascript(\"Jupyter.notebook.execute_cells([48])\")"
      ],
      "execution_count": null,
      "outputs": []
    },
    {
      "cell_type": "code",
      "metadata": {
        "id": "hBucjjHDVl81"
      },
      "source": [
        ""
      ],
      "execution_count": null,
      "outputs": []
    }
  ]
}