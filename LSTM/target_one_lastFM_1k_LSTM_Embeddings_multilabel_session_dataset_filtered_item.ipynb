{
  "nbformat": 4,
  "nbformat_minor": 0,
  "metadata": {
    "accelerator": "GPU",
    "colab": {
      "name": "Copie de target_one_lastFM_1k_LSTM_Embeddings_multilabel_session_dataset_filtered_item.ipynb",
      "provenance": [],
      "collapsed_sections": [
        "TZ7etMPrJs3_",
        "9Kv9Mh-Hwe7P",
        "TxncQgSMyRw9",
        "xHQwZIWi5WVl",
        "uXt7c4ivXl9s",
        "wsfAtCxVXsWj",
        "kQOmMliLNaJV",
        "1RZ31J6eTn5y"
      ],
      "toc_visible": true,
      "machine_shape": "hm",
      "mount_file_id": "1g593fiPonqDgEMh2gjZ2py09KWAaeD7t",
      "authorship_tag": "ABX9TyOXe8CxYDty+I0f/IHDR1Ar",
      "include_colab_link": true
    },
    "kernelspec": {
      "display_name": "Python 3",
      "name": "python3"
    }
  },
  "cells": [
    {
      "cell_type": "markdown",
      "metadata": {
        "id": "view-in-github",
        "colab_type": "text"
      },
      "source": [
        "<a href=\"https://colab.research.google.com/github/phsimon/LSTM_Last.fm/blob/main/LSTM/target_one_lastFM_1k_LSTM_Embeddings_multilabel_session_dataset_filtered_item.ipynb\" target=\"_parent\"><img src=\"https://colab.research.google.com/assets/colab-badge.svg\" alt=\"Open In Colab\"/></a>"
      ]
    },
    {
      "cell_type": "markdown",
      "metadata": {
        "id": "yDvd3gYerZUY"
      },
      "source": [
        "This notebook provides a recommender engine and use lastFM 1k  dataset (a filtered and sampled one)\n",
        "The Recurrent model is built as follow:\n",
        "\n",
        "\n",
        "*  Input Layer: a sequence (len = max_sequence_train) of songid representing the history of the user\n",
        "\n",
        "*   Embedding Layer: this layer expand each songid in a higher dimension (embedding size) - now each song of the sequence is represented by a vector of floats\n",
        "*   Recurrent Layer: this layer process the embedding layer to product a sequence of vector (size: the number of unit of the recurrent layer). We can stack many reccurent layer. as it is reccurent layer, for one sequence, the \"n\" output take into account the \"n-1\" output. As we want to have only one vector in output, we set \"return_sequence=False.\n",
        "\n",
        "*   (Dense) Layer : this layer outputs a vecteur whom size is the size of the catalog. \"Softmax\" is used to identify the highest value and output the index. so that with Softmax, this layer output a prediction\n",
        "\n",
        "\n"
      ]
    },
    {
      "cell_type": "markdown",
      "metadata": {
        "id": "TZ7etMPrJs3_"
      },
      "source": [
        "# initialization, model definition"
      ]
    },
    {
      "cell_type": "code",
      "metadata": {
        "colab": {
          "base_uri": "https://localhost:8080/"
        },
        "id": "grgOYa6qPAFJ",
        "outputId": "d22397b8-93ac-4d05-f2fb-16cdfbc680d9"
      },
      "source": [
        "%tensorflow_version 1.x\n",
        "import tensorflow\n",
        "print(tensorflow.__version__)"
      ],
      "execution_count": null,
      "outputs": [
        {
          "output_type": "stream",
          "text": [
            "TensorFlow 1.x selected.\n",
            "1.15.2\n"
          ],
          "name": "stdout"
        }
      ]
    },
    {
      "cell_type": "code",
      "metadata": {
        "colab": {
          "base_uri": "https://localhost:8080/"
        },
        "id": "1PDBW49uu_iN",
        "outputId": "4f5ed4ef-5ba6-4d3c-fc8b-9cc235ce4a1b"
      },
      "source": [
        "import keras\n",
        "print(keras.__version__)"
      ],
      "execution_count": null,
      "outputs": [
        {
          "output_type": "stream",
          "text": [
            "2.3.1\n"
          ],
          "name": "stdout"
        },
        {
          "output_type": "stream",
          "text": [
            "Using TensorFlow backend.\n"
          ],
          "name": "stderr"
        }
      ]
    },
    {
      "cell_type": "code",
      "metadata": {
        "id": "JbiGdDDBYoy0"
      },
      "source": [
        "#init dico for saving results\n",
        "average_measure={}\n",
        "average_measure['PREC'],average_measure['MAP'], average_measure['MRR'],average_measure['NDCG'],average_measure['recall'] =[],[],[],[],[]"
      ],
      "execution_count": null,
      "outputs": []
    },
    {
      "cell_type": "code",
      "metadata": {
        "id": "ASlLPyqjAr39"
      },
      "source": [
        "# paramètres\n",
        "batchsize=64\n",
        "Shift=1\n",
        "max_sequence_label=1\n",
        "max_sequence_train=10\n",
        "num_prediction=10\n",
        "THRESHOLD_HISTORY=2*max_sequence_train-1\n",
        "THRESHOLD_ITEM=19\n",
        "outlier_excluded=0\n",
        "ratio_sampling_top=1"
      ],
      "execution_count": null,
      "outputs": []
    },
    {
      "cell_type": "code",
      "metadata": {
        "id": "bOnXhcj6XlqC"
      },
      "source": [
        "# function and procedure\n",
        "import datetime\n",
        "from time import time\n",
        "from keras.layers import Input, Dense, Dropout, TimeDistributed\n",
        "from keras.utils import np_utils, plot_model,Sequence\n",
        "from keras.models import Model\n",
        "from keras.layers import Embedding\n",
        "from keras.layers import Flatten, Reshape, Permute\n",
        "from keras import optimizers\n",
        "from keras.callbacks import EarlyStopping\n",
        "from keras.models import Sequential\n",
        "from keras.layers import Dense, LSTM, GRU,SimpleRNN,ConvLSTM2D\n",
        "from keras.callbacks import EarlyStopping,TensorBoard\n",
        "import tensorflow as tf\n",
        "import keras.backend as K\n",
        "\n",
        "import numpy as np\n",
        " \n",
        "def custom_precision(y_true,y_pred):\n",
        "    z=tf.cast(y_true,tf.int64)\n",
        "    index_prediction=tf.nn.top_k(y_pred,k=num_prediction)\n",
        "    index_target=tf.nn.top_k(z,k=num_prediction)\n",
        "    true_positive=tf.sets.intersection(index_prediction.indices,index_target.indices)\n",
        "    precision=tf.count_nonzero(true_positive.values)\n",
        "    precision_summary=tf.cast(precision,tf.float32)\n",
        "    return precision_summary/(num_prediction*batchsize)\n",
        "\n",
        "def build_model(one_hot_size,sequence_size,k_reg=None,b_reg=None,r_reg=None,o_reg=None):\n",
        "    '''\n",
        "    '''\n",
        "    main_input=Input(shape=(sequence_size,),dtype='float32',name='main_input')\n",
        "    print(main_input.shape)\n",
        "    # This embedding layer will encode the input sequence\n",
        "    b = Embedding(output_dim=embedding_size, input_dim=one_hot_size+1,name='my_embeddings')(main_input)\n",
        "    print(\"embedding shape {} and type {} \".format(b.shape,type(b)))\n",
        "    \n",
        "    c=LSTM(LSTM_size,dropout=dropout_lstm_value,name='my_LSTM', kernel_regularizer=None, bias_regularizer=None,activity_regularizer=None, recurrent_regularizer=r_reg, return_sequences=False)(b)\n",
        "    #c=LSTM(LSTM_size,dropout=dropout_lstm_value,name='my_LSTM_2', kernel_regularizer=None, bias_regularizer=None,activity_regularizer=None, recurrent_regularizer=r_reg, return_sequences=False)(c)\n",
        "    d=Dense(one_hot_size,activation='sigmoid')(c)\n",
        "    #d=TimeDistributed(Dense(one_hot_size,activation='sigmoid'))(c)\n",
        "   \n",
        "    model=Model(inputs=main_input, outputs=d)\n",
        "    #model.compile(optimizer='rmsprop', loss=\"binary_crossentropy\", metrics=['binary_accuracy',custom_precision])\n",
        "    model.compile(optimizer='rmsprop', loss=\"sparse_categorical_crossentropy\", metrics=['sparse_categorical_accuracy'])\n",
        "    return model\n",
        "\n",
        "\n",
        "def LastFM_vectorize_sequence(sequence,dimension,liste_item_sorted):\n",
        "    '''\n",
        "        :param: sequences : list liste d'ids de films\n",
        "        :param: dimension : int nombre de films possible (taille du vocabulaire)\n",
        "        :param: liste_item_sorted: liste des itemids triés par ordre croissant\n",
        "        :return:results liste de taille dimension (contentant des 1 au rang d'un film vu)\n",
        "    '''\n",
        "    result=np.zeros((dimension,1))\n",
        "    \n",
        "    # on ordonne la sequence\n",
        "    # en fait ce n'est pas utile\n",
        "    # sequence.sort()\n",
        "    for StockCode in sequence:\n",
        "        result[liste_item_sorted.index(StockCode)]=1    \n",
        "    return result   \n",
        "\n",
        "def LastFM_normalize_liste(vector,norme=1.0):\n",
        "    '''\n",
        "        :param: vector : list liste de 0 avec des 1 à chaque fois qu'un film a été vu\n",
        "        :param: norme : int valeur max de la somme des valeurs du vecteur après normalisation\n",
        "        :return:results liste normalisée (avec des quotients à la place des 1 dès qu'il y en a plus de un, de manière à ce que la somme fasse 1 )\n",
        "    '''\n",
        "    len_vector=len(vector)\n",
        "    for i in range(len_vector):\n",
        "        vector[i]/=float(norme)/float(len_vector)    \n",
        "    return vector   \n",
        "\n",
        "class DataGenerator(Sequence):\n",
        "    'Generates data for Keras'\n",
        "    def __init__(self, data_source, list_IDs, labels, batch_size=batchsize, dim_train=(max_sequence_train,), dim_label=(max_sequence_label,),n_channels=1,\n",
        "                 n_classes=0, shuffle=True):\n",
        "        'Initialization'\n",
        "        self.data_source=data_source\n",
        "        self.dim_train = dim_train\n",
        "        self.dim_test=dim_label\n",
        "        self.batch_size = batch_size\n",
        "        self.labels = labels\n",
        "        self.list_IDs = list_IDs\n",
        "        self.n_channels = n_channels\n",
        "        self.n_classes = n_classes\n",
        "        self.shuffle = shuffle\n",
        "        self.on_epoch_end()\n",
        "\n",
        "    def __len__(self):\n",
        "        'Denotes the number of batches per epoch'\n",
        "        #print(\"number of users per epoch \\n\",len(self.list_IDs))\n",
        "        return int(np.floor(len(self.list_IDs) / self.batch_size))\n",
        "\n",
        "    def __getitem__(self, index):\n",
        "        'Generate one batch of data'\n",
        "        # Generate indexes of the batch\n",
        "        indexes = self.indexes[index*self.batch_size:(index+1)*self.batch_size]\n",
        "\n",
        "        # Find list of IDs\n",
        "        list_IDs_temp = [self.list_IDs[k] for k in indexes]\n",
        "\n",
        "        # Generate data\n",
        "        X, y = self.__data_generation(list_IDs_temp)\n",
        "\n",
        "        return X, y\n",
        "\n",
        "    def on_epoch_end(self):\n",
        "        'Updates indexes after each epoch'\n",
        "        self.indexes = np.arange(len(self.list_IDs))\n",
        "        if self.shuffle == True:\n",
        "            np.random.shuffle(self.indexes)\n",
        "\n",
        "    def __data_generation(self, list_IDs_temp):\n",
        "        'Generates data containing batch_size samples' # X : (n_samples, *dim, n_channels)\n",
        "        # Initialization\n",
        "        X = np.zeros((self.batch_size, self.dim_train),dtype=int)\n",
        "        if max_sequence_label>1:\n",
        "          y = np.zeros((self.batch_size, self.dim_test,1), dtype=int)\n",
        "        else:\n",
        "          y = np.zeros((self.batch_size, self.dim_test), dtype=int)  \n",
        "        # Generate data\n",
        "        #print(\"X shape\",X.shape)\n",
        "        for i, ID in enumerate(list_IDs_temp):\n",
        "            # Store sample\n",
        "            X[i,] = self.data_source[ID]\n",
        "            \n",
        "            # Store class\n",
        "            if max_sequence_label > 1:\n",
        "              generated_label=np.reshape(self.labels[ID],(max_sequence_label,1))\n",
        "            else:\n",
        "              generated_label=np.reshape(self.labels[ID],(max_sequence_label,))  \n",
        "            y[i] = generated_label\n",
        " \n",
        "        return X, y\n",
        "\n"
      ],
      "execution_count": null,
      "outputs": []
    },
    {
      "cell_type": "markdown",
      "metadata": {
        "id": "9Kv9Mh-Hwe7P"
      },
      "source": [
        "# Data loading - change the path accordingly"
      ]
    },
    {
      "cell_type": "code",
      "metadata": {
        "id": "wRBWREMPbYKp"
      },
      "source": [
        "import pandas as pd"
      ],
      "execution_count": null,
      "outputs": []
    },
    {
      "cell_type": "code",
      "metadata": {
        "id": "GO0pMktgb5s4"
      },
      "source": [
        "my_path=\"/content/drive/My Drive/ColabNotebooks/publication/publi_github/\"\n",
        "\n",
        "testfile=\"publi-lastfm-1k_session-based_records_test.csv\"\n",
        "trainfile=\"publi-lastfm-1k_session-based_records_train.csv\"\n",
        "\n"
      ],
      "execution_count": null,
      "outputs": []
    },
    {
      "cell_type": "code",
      "metadata": {
        "id": "N8-Uhuk6boau"
      },
      "source": [
        "# lecture des fichiers \n",
        "data_train=pd.read_csv(my_path+trainfile,header=0,dtype='int32')\n",
        "data_test=pd.read_csv(my_path+testfile,header=0,dtype='int32')\n"
      ],
      "execution_count": null,
      "outputs": []
    },
    {
      "cell_type": "code",
      "metadata": {
        "id": "hmuoS7_zmMVl"
      },
      "source": [
        "# echantillonage pour accélerer les test\n",
        "data_train=data_train.sample(frac=ratio_sampling_top, replace=False, random_state=1)"
      ],
      "execution_count": null,
      "outputs": []
    },
    {
      "cell_type": "code",
      "metadata": {
        "colab": {
          "base_uri": "https://localhost:8080/"
        },
        "id": "a9M-Fv6r5Hj8",
        "outputId": "2f8237f4-4383-41d4-af49-686a6cf253d9"
      },
      "source": [
        "len(data_train)"
      ],
      "execution_count": null,
      "outputs": [
        {
          "output_type": "execute_result",
          "data": {
            "text/plain": [
              "504215"
            ]
          },
          "metadata": {
            "tags": []
          },
          "execution_count": 10
        }
      ]
    },
    {
      "cell_type": "code",
      "metadata": {
        "colab": {
          "base_uri": "https://localhost:8080/"
        },
        "id": "TCjYSzMOcssg",
        "outputId": "98071254-3135-4a5e-8d18-d011c2ab7b0a"
      },
      "source": [
        "nb_user,nb_ligne=data_train.shape\n",
        "print(nb_user,nb_ligne)"
      ],
      "execution_count": null,
      "outputs": [
        {
          "output_type": "stream",
          "text": [
            "504215 20\n"
          ],
          "name": "stdout"
        }
      ]
    },
    {
      "cell_type": "markdown",
      "metadata": {
        "id": "rpnOhGHoJ5k-"
      },
      "source": [
        "#Dataset building\n",
        "To executed only one time (take time...) - see further for restore/save file \n",
        "\n",
        "*   If intermediate file already generated by a previous execution or another notbook: do not run\n",
        "\n"
      ]
    },
    {
      "cell_type": "markdown",
      "metadata": {
        "id": "TxncQgSMyRw9"
      },
      "source": [
        "## List of items of the whole dataset"
      ]
    },
    {
      "cell_type": "code",
      "metadata": {
        "colab": {
          "base_uri": "https://localhost:8080/"
        },
        "id": "ZH-Tkrs5hs9O",
        "outputId": "119ae45d-060f-4d5a-990f-b3e1e96d3131"
      },
      "source": [
        "# Building the item set\n",
        "liste_item_1=[]\n",
        "liste_item_2=[]\n",
        "for user in data_train.index:\n",
        "  liste_item_1.append(data_train.loc[user])\n",
        "for user in data_test.index:\n",
        "  liste_item_1.append(data_test.loc[user])\n",
        "for x in liste_item_1:\n",
        "  for y in x:\n",
        "    liste_item_2.append(y)\n",
        "\n",
        "print(len(liste_item_2))\n"
      ],
      "execution_count": null,
      "outputs": [
        {
          "output_type": "stream",
          "text": [
            "12615480\n"
          ],
          "name": "stdout"
        }
      ]
    },
    {
      "cell_type": "code",
      "metadata": {
        "colab": {
          "base_uri": "https://localhost:8080/"
        },
        "id": "24g1U72rtABR",
        "outputId": "eb97ef6a-dc36-4f2c-fe8d-5c4a84a86bef"
      },
      "source": [
        "import matplotlib.pyplot as plt\n",
        "#plt.hist(liste_item_2,range=(1,20000),bins=1000)\n",
        "plt.hist(liste_item_2,bins=30)\n"
      ],
      "execution_count": null,
      "outputs": [
        {
          "output_type": "execute_result",
          "data": {
            "text/plain": [
              "(array([10267556.,   682925.,   229990.,   181549.,   191260.,   137814.,\n",
              "          123171.,   118380.,    75371.,    74642.,    51813.,    47540.,\n",
              "           45712.,    45809.,    40736.,    32759.,    28469.,    25459.,\n",
              "           26368.,    21447.,    25705.,    18496.,    17475.,    19698.,\n",
              "           17518.,    15122.,    13369.,    14286.,    13122.,    11919.]),\n",
              " array([    0. ,  3142.8,  6285.6,  9428.4, 12571.2, 15714. , 18856.8,\n",
              "        21999.6, 25142.4, 28285.2, 31428. , 34570.8, 37713.6, 40856.4,\n",
              "        43999.2, 47142. , 50284.8, 53427.6, 56570.4, 59713.2, 62856. ,\n",
              "        65998.8, 69141.6, 72284.4, 75427.2, 78570. , 81712.8, 84855.6,\n",
              "        87998.4, 91141.2, 94284. ]),\n",
              " <a list of 30 Patch objects>)"
            ]
          },
          "metadata": {
            "tags": []
          },
          "execution_count": 23
        },
        {
          "output_type": "display_data",
          "data": {
            "image/png": "[encoded data removed]",
            "text/plain": [
              "<Figure size 432x288 with 1 Axes>"
            ]
          },
          "metadata": {
            "tags": [],
            "needs_background": "light"
          }
        }
      ]
    },
    {
      "cell_type": "markdown",
      "metadata": {
        "id": "3ntwNgaFydSm"
      },
      "source": [
        "## Filter the dataset by keeping only item viewed at least THRESHOLD_ITEM times"
      ]
    },
    {
      "cell_type": "code",
      "metadata": {
        "id": "9TMuibhuvWs7"
      },
      "source": [
        "from collections import Counter\n",
        "ma_liste=Counter(liste_item_2).most_common()\n",
        "ma_liste=ma_liste[1:] # on ne prend pas zero...\n",
        "topn=[x[0] for x in ma_liste if x[1] > THRESHOLD_ITEM]\n",
        "histo_topn=[x[1] for x in ma_liste]"
      ],
      "execution_count": null,
      "outputs": []
    },
    {
      "cell_type": "code",
      "metadata": {
        "colab": {
          "base_uri": "https://localhost:8080/"
        },
        "id": "qC0Db_G9v66s",
        "outputId": "99ffb7b8-03b3-41ed-ad9d-05ea31501e7c"
      },
      "source": [
        "len(topn)"
      ],
      "execution_count": null,
      "outputs": [
        {
          "output_type": "execute_result",
          "data": {
            "text/plain": [
              "20362"
            ]
          },
          "metadata": {
            "tags": []
          },
          "execution_count": 25
        }
      ]
    },
    {
      "cell_type": "code",
      "metadata": {
        "colab": {
          "base_uri": "https://localhost:8080/",
          "height": 283
        },
        "id": "ro6tlSuQJMl8",
        "outputId": "517a0ee3-dc37-4ed6-a575-e5fbb800ef9f"
      },
      "source": [
        "plt.plot(histo_topn[:100])\n"
      ],
      "execution_count": null,
      "outputs": [
        {
          "output_type": "execute_result",
          "data": {
            "text/plain": [
              "[<matplotlib.lines.Line2D at 0x7f3d2c391d90>]"
            ]
          },
          "metadata": {
            "tags": []
          },
          "execution_count": 26
        },
        {
          "output_type": "display_data",
          "data": {
            "image/png": "[encoded data removed]",
            "text/plain": [
              "<Figure size 432x288 with 1 Axes>"
            ]
          },
          "metadata": {
            "tags": [],
            "needs_background": "light"
          }
        }
      ]
    },
    {
      "cell_type": "code",
      "metadata": {
        "id": "Np8J6YqZoOHl"
      },
      "source": [
        "topn_tri=sorted(list(set(topn)))"
      ],
      "execution_count": null,
      "outputs": []
    },
    {
      "cell_type": "code",
      "metadata": {
        "colab": {
          "base_uri": "https://localhost:8080/"
        },
        "id": "OZFU_ij9wwkc",
        "outputId": "54d1e25b-1b2e-42c2-842b-23b2281ce2e7"
      },
      "source": [
        "ma_liste[:10]"
      ],
      "execution_count": null,
      "outputs": [
        {
          "output_type": "execute_result",
          "data": {
            "text/plain": [
              "[(28, 189666),\n",
              " (13, 24272),\n",
              " (349, 20719),\n",
              " (80, 15798),\n",
              " (602, 14941),\n",
              " (717, 14243),\n",
              " (840, 14060),\n",
              " (77, 13299),\n",
              " (817, 13060),\n",
              " (1814, 12033)]"
            ]
          },
          "metadata": {
            "tags": []
          },
          "execution_count": 28
        }
      ]
    },
    {
      "cell_type": "code",
      "metadata": {
        "colab": {
          "base_uri": "https://localhost:8080/"
        },
        "id": "lQ1W1Qc9742C",
        "outputId": "ba9a6d9a-48a7-46eb-e272-e7df5837904c"
      },
      "source": [
        "# filter dataset to retain only topn item in data_train\n",
        "data_train_topn=[]\n",
        "only_topn=[]\n",
        "for user in data_train.index:\n",
        "  history=data_train.loc[user]\n",
        "  only_topn=[x for x in history if x in topn_tri[outlier_excluded:]]\n",
        "  while len(only_topn) < len(history):\n",
        "    only_topn+=[0]\n",
        "  data_train_topn.append(only_topn)  \n",
        "data_train_topn=pd.DataFrame(data_train_topn)\n",
        "print(data_train_topn.head())\n",
        "\n"
      ],
      "execution_count": null,
      "outputs": [
        {
          "output_type": "stream",
          "text": [
            "      0      1      2      3      4      5      6   ...  13  14  15  16  17  18  19\n",
            "0   1421   3604   4568  14586   5831   1638   2114  ...   0   0   0   0   0   0   0\n",
            "1  14256    139  23455    104    139      0      0  ...   0   0   0   0   0   0   0\n",
            "2  55952  19241  16421     28  19283  37728  13925  ...   0   0   0   0   0   0   0\n",
            "3   6027  10267   6881   2749   2057  10387  26792  ...   0   0   0   0   0   0   0\n",
            "4    938   2744   3673   2581      0      0      0  ...   0   0   0   0   0   0   0\n",
            "\n",
            "[5 rows x 20 columns]\n"
          ],
          "name": "stdout"
        }
      ]
    },
    {
      "cell_type": "code",
      "metadata": {
        "colab": {
          "base_uri": "https://localhost:8080/",
          "height": 374
        },
        "id": "gc8YYvvyDMNx",
        "outputId": "9a18f326-a8c7-45e3-ea80-51e09805d87a"
      },
      "source": [
        "# filter dataset to retain only topn item in data_set\n",
        "data_test_topn=[]\n",
        "only_topn=[]\n",
        "for user in data_test.index:\n",
        "  history=data_test.loc[user]\n",
        "  only_topn=[x for x in history if x in topn_tri[outlier_excluded]]\n",
        "  while len(only_topn) < len(history):\n",
        "    only_topn+=[0]\n",
        "  data_test_topn.append(only_topn)  \n",
        "data_test_topn=pd.DataFrame(data_test_topn)\n",
        "print(data_test_topn.head())"
      ],
      "execution_count": null,
      "outputs": [
        {
          "output_type": "error",
          "ename": "TypeError",
          "evalue": "ignored",
          "traceback": [
            "\u001b[0;31m---------------------------------------------------------------------------\u001b[0m",
            "\u001b[0;31mTypeError\u001b[0m                                 Traceback (most recent call last)",
            "\u001b[0;32m<ipython-input-30-e8a4578f2c5a>\u001b[0m in \u001b[0;36m<module>\u001b[0;34m()\u001b[0m\n\u001b[1;32m      4\u001b[0m \u001b[0;32mfor\u001b[0m \u001b[0muser\u001b[0m \u001b[0;32min\u001b[0m \u001b[0mdata_test\u001b[0m\u001b[0;34m.\u001b[0m\u001b[0mindex\u001b[0m\u001b[0;34m:\u001b[0m\u001b[0;34m\u001b[0m\u001b[0;34m\u001b[0m\u001b[0m\n\u001b[1;32m      5\u001b[0m   \u001b[0mhistory\u001b[0m\u001b[0;34m=\u001b[0m\u001b[0mdata_test\u001b[0m\u001b[0;34m.\u001b[0m\u001b[0mloc\u001b[0m\u001b[0;34m[\u001b[0m\u001b[0muser\u001b[0m\u001b[0;34m]\u001b[0m\u001b[0;34m\u001b[0m\u001b[0;34m\u001b[0m\u001b[0m\n\u001b[0;32m----> 6\u001b[0;31m   \u001b[0monly_topn\u001b[0m\u001b[0;34m=\u001b[0m\u001b[0;34m[\u001b[0m\u001b[0mx\u001b[0m \u001b[0;32mfor\u001b[0m \u001b[0mx\u001b[0m \u001b[0;32min\u001b[0m \u001b[0mhistory\u001b[0m \u001b[0;32mif\u001b[0m \u001b[0mx\u001b[0m \u001b[0;32min\u001b[0m \u001b[0mtopn_tri\u001b[0m\u001b[0;34m[\u001b[0m\u001b[0moutlier_excluded\u001b[0m\u001b[0;34m]\u001b[0m\u001b[0;34m]\u001b[0m\u001b[0;34m\u001b[0m\u001b[0;34m\u001b[0m\u001b[0m\n\u001b[0m\u001b[1;32m      7\u001b[0m   \u001b[0;32mwhile\u001b[0m \u001b[0mlen\u001b[0m\u001b[0;34m(\u001b[0m\u001b[0monly_topn\u001b[0m\u001b[0;34m)\u001b[0m \u001b[0;34m<\u001b[0m \u001b[0mlen\u001b[0m\u001b[0;34m(\u001b[0m\u001b[0mhistory\u001b[0m\u001b[0;34m)\u001b[0m\u001b[0;34m:\u001b[0m\u001b[0;34m\u001b[0m\u001b[0;34m\u001b[0m\u001b[0m\n\u001b[1;32m      8\u001b[0m     \u001b[0monly_topn\u001b[0m\u001b[0;34m+=\u001b[0m\u001b[0;34m[\u001b[0m\u001b[0;36m0\u001b[0m\u001b[0;34m]\u001b[0m\u001b[0;34m\u001b[0m\u001b[0;34m\u001b[0m\u001b[0m\n",
            "\u001b[0;32m<ipython-input-30-e8a4578f2c5a>\u001b[0m in \u001b[0;36m<listcomp>\u001b[0;34m(.0)\u001b[0m\n\u001b[1;32m      4\u001b[0m \u001b[0;32mfor\u001b[0m \u001b[0muser\u001b[0m \u001b[0;32min\u001b[0m \u001b[0mdata_test\u001b[0m\u001b[0;34m.\u001b[0m\u001b[0mindex\u001b[0m\u001b[0;34m:\u001b[0m\u001b[0;34m\u001b[0m\u001b[0;34m\u001b[0m\u001b[0m\n\u001b[1;32m      5\u001b[0m   \u001b[0mhistory\u001b[0m\u001b[0;34m=\u001b[0m\u001b[0mdata_test\u001b[0m\u001b[0;34m.\u001b[0m\u001b[0mloc\u001b[0m\u001b[0;34m[\u001b[0m\u001b[0muser\u001b[0m\u001b[0;34m]\u001b[0m\u001b[0;34m\u001b[0m\u001b[0;34m\u001b[0m\u001b[0m\n\u001b[0;32m----> 6\u001b[0;31m   \u001b[0monly_topn\u001b[0m\u001b[0;34m=\u001b[0m\u001b[0;34m[\u001b[0m\u001b[0mx\u001b[0m \u001b[0;32mfor\u001b[0m \u001b[0mx\u001b[0m \u001b[0;32min\u001b[0m \u001b[0mhistory\u001b[0m \u001b[0;32mif\u001b[0m \u001b[0mx\u001b[0m \u001b[0;32min\u001b[0m \u001b[0mtopn_tri\u001b[0m\u001b[0;34m[\u001b[0m\u001b[0moutlier_excluded\u001b[0m\u001b[0;34m]\u001b[0m\u001b[0;34m]\u001b[0m\u001b[0;34m\u001b[0m\u001b[0;34m\u001b[0m\u001b[0m\n\u001b[0m\u001b[1;32m      7\u001b[0m   \u001b[0;32mwhile\u001b[0m \u001b[0mlen\u001b[0m\u001b[0;34m(\u001b[0m\u001b[0monly_topn\u001b[0m\u001b[0;34m)\u001b[0m \u001b[0;34m<\u001b[0m \u001b[0mlen\u001b[0m\u001b[0;34m(\u001b[0m\u001b[0mhistory\u001b[0m\u001b[0;34m)\u001b[0m\u001b[0;34m:\u001b[0m\u001b[0;34m\u001b[0m\u001b[0;34m\u001b[0m\u001b[0m\n\u001b[1;32m      8\u001b[0m     \u001b[0monly_topn\u001b[0m\u001b[0;34m+=\u001b[0m\u001b[0;34m[\u001b[0m\u001b[0;36m0\u001b[0m\u001b[0;34m]\u001b[0m\u001b[0;34m\u001b[0m\u001b[0;34m\u001b[0m\u001b[0m\n",
            "\u001b[0;31mTypeError\u001b[0m: argument of type 'int' is not iterable"
          ]
        }
      ]
    },
    {
      "cell_type": "code",
      "metadata": {
        "id": "fivoNsairhGJ"
      },
      "source": [
        "liste_item_tri=sorted(list(set(liste_item_2)))\n",
        "liste_item_tri.remove(0)\n",
        "print(len(liste_item_tri))"
      ],
      "execution_count": null,
      "outputs": []
    },
    {
      "cell_type": "markdown",
      "metadata": {
        "id": "8m1bwiwxyllW"
      },
      "source": [
        "## Tranlation of itemid into integer"
      ]
    },
    {
      "cell_type": "code",
      "metadata": {
        "id": "mng2cLwnBw5h"
      },
      "source": [
        "# re_index the content to have the lowest number so that one-hot will be smaller\n",
        "song_2_int={i:j+1 for j,i in enumerate(liste_item_tri)}\n",
        "int_2_song={(i+1):j for i,j in enumerate(liste_item_tri)}\n",
        "liste_item_tri_int=[song_2_int[k] for k in liste_item_tri]"
      ],
      "execution_count": null,
      "outputs": []
    },
    {
      "cell_type": "code",
      "metadata": {
        "id": "O6uU6QD7E0v9"
      },
      "source": [
        "song_2_int[1000]\n",
        "int_2_song[992]"
      ],
      "execution_count": null,
      "outputs": []
    },
    {
      "cell_type": "code",
      "metadata": {
        "id": "QCKxFR2CG7aH"
      },
      "source": [
        "# re_index the content to have the lowest number so that one-hot will be smaller\n",
        "song_topn_2_int={i:j+1 for j,i in enumerate(topn_tri)}\n",
        "int_2_song_topn={i+1:j for i,j in enumerate(topn_tri)}\n",
        "topn_tri_int=[song_topn_2_int[k] for k in topn_tri]"
      ],
      "execution_count": null,
      "outputs": []
    },
    {
      "cell_type": "code",
      "metadata": {
        "id": "4xGX0-QFFgfk"
      },
      "source": [
        "len(song_topn_2_int)"
      ],
      "execution_count": null,
      "outputs": []
    },
    {
      "cell_type": "code",
      "metadata": {
        "id": "YI6Pc_cPpGMG"
      },
      "source": [
        "history_size=[np.count_nonzero(data_train.loc[i]) for i in data_train.index]\n",
        "len(history_size)"
      ],
      "execution_count": null,
      "outputs": []
    },
    {
      "cell_type": "code",
      "metadata": {
        "id": "hgu0ulQJpxBB"
      },
      "source": [
        "import matplotlib.pyplot as plt\n",
        "plt.hist(history_size,range=(0,20),bins=20)"
      ],
      "execution_count": null,
      "outputs": []
    },
    {
      "cell_type": "markdown",
      "metadata": {
        "id": "NwXFNqd04xJP"
      },
      "source": [
        "## Remove repetition from the sequences, complete with zero if needed"
      ]
    },
    {
      "cell_type": "code",
      "metadata": {
        "id": "MT0G4sFBHfNO"
      },
      "source": [
        "history_topn_size=[np.count_nonzero(data_train_topn.loc[i]) for i in data_train_topn.index]\n",
        "len(history_topn_size)"
      ],
      "execution_count": null,
      "outputs": []
    },
    {
      "cell_type": "code",
      "metadata": {
        "id": "7LK7LVkSL2eB"
      },
      "source": [
        "#compactage historique pour ne pas avoir de doublon dans le train\n",
        "data_train_topn_without_doublon=[]\n",
        "for i in data_train_topn.index:\n",
        "  history_without_doublon=[]\n",
        "  history=data_train_topn.loc[i]\n",
        "  for item in history:\n",
        "    if item not in history_without_doublon:\n",
        "       history_without_doublon.append(int(item))\n",
        "  while len(history_without_doublon) < len(history):\n",
        "    history_without_doublon+=[0]\n",
        "  data_train_topn_without_doublon.append(history_without_doublon) \n",
        "data_train_topn_without_doublon=pd.DataFrame(data_train_topn_without_doublon)    "
      ],
      "execution_count": null,
      "outputs": []
    },
    {
      "cell_type": "code",
      "metadata": {
        "id": "dLayW66PDf2z"
      },
      "source": [
        "#compactage historique pour ne pas avoir de doublon dans le test\n",
        "data_test_topn_without_doublon=[]\n",
        "for i in data_test_topn.index:\n",
        "  history_without_doublon=[]\n",
        "  history=data_test_topn.loc[i]\n",
        "  for item in history:\n",
        "    if item not in history_without_doublon:\n",
        "       history_without_doublon.append(int(item))\n",
        "  while len(history_without_doublon) < len(history):\n",
        "    history_without_doublon+=[0]\n",
        "  data_test_topn_without_doublon.append(history_without_doublon)   \n",
        "data_test_topn_without_doublon=pd.DataFrame(data_test_topn_without_doublon)  "
      ],
      "execution_count": null,
      "outputs": []
    },
    {
      "cell_type": "code",
      "metadata": {
        "id": "6dwHhMWvPB9U"
      },
      "source": [
        "len(data_train_topn_without_doublon)"
      ],
      "execution_count": null,
      "outputs": []
    },
    {
      "cell_type": "code",
      "metadata": {
        "id": "itZqwAs-VU82"
      },
      "source": [
        "data_train_topn_without_doublon.head()"
      ],
      "execution_count": null,
      "outputs": []
    },
    {
      "cell_type": "code",
      "metadata": {
        "id": "dt0COXOBIFYx"
      },
      "source": [
        "plt.hist(history_topn_size,range=(0,20),bins=20)"
      ],
      "execution_count": null,
      "outputs": []
    },
    {
      "cell_type": "code",
      "metadata": {
        "id": "BM1c3BxXUz2M"
      },
      "source": [
        "history_topn_without_doublon_size=[np.count_nonzero(data_train_topn_without_doublon.loc[i]) for i in data_train_topn_without_doublon.index]\n",
        "len(history_topn_without_doublon_size)"
      ],
      "execution_count": null,
      "outputs": []
    },
    {
      "cell_type": "code",
      "metadata": {
        "id": "dCZLvEq8U7Ll"
      },
      "source": [
        "plt.hist(history_topn_without_doublon_size,range=(0,20),bins=20)"
      ],
      "execution_count": null,
      "outputs": []
    },
    {
      "cell_type": "markdown",
      "metadata": {
        "id": "sSldZtyLzGJI"
      },
      "source": [
        "##Filter sequences of length THRESHOLD_HISTORY (zero not counted)"
      ]
    },
    {
      "cell_type": "code",
      "metadata": {
        "id": "SBky2IpZ0uyp"
      },
      "source": [
        "data_train_history_20=[data_train.loc[i] for i in data_train.index if np.count_nonzero(data_train.loc[i])>THRESHOLD_HISTORY]\n",
        "data_train_history_20=pd.DataFrame(data_train_history_20)"
      ],
      "execution_count": null,
      "outputs": []
    },
    {
      "cell_type": "code",
      "metadata": {
        "id": "qnYqATzvIjNO"
      },
      "source": [
        "data_train_topn_history_20=[data_train_topn.loc[i] for i in data_train_topn.index if np.count_nonzero(data_train_topn.loc[i])>THRESHOLD_HISTORY]\n",
        "data_train_topn_history_20=pd.DataFrame(data_train_topn_history_20)"
      ],
      "execution_count": null,
      "outputs": []
    },
    {
      "cell_type": "code",
      "metadata": {
        "id": "up-fO9k6ASz7"
      },
      "source": [
        "data_train_topn_without_doublon_history_20=[data_train_topn_without_doublon.loc[i] for i in data_train_topn_without_doublon.index \\\n",
        "                                               if np.count_nonzero(data_train_topn_without_doublon.loc[i])>THRESHOLD_HISTORY]\n",
        "data_train_topn_without_doublon_history_20=pd.DataFrame(data_train_topn_without_doublon_history_20)"
      ],
      "execution_count": null,
      "outputs": []
    },
    {
      "cell_type": "code",
      "metadata": {
        "id": "eJZRQON-nMdU"
      },
      "source": [
        "# sampling\n",
        "ratio_sampling=1\n",
        "data_train_history_20=pd.DataFrame(data_train_history_20)\n",
        "data_train_history_20=data_train_history_20.sample(frac=ratio_sampling, replace=False, random_state=1)\n",
        "# ré-indexation\n",
        "data_train_history_20=data_train_history_20.reset_index(drop = True) "
      ],
      "execution_count": null,
      "outputs": []
    },
    {
      "cell_type": "code",
      "metadata": {
        "id": "B9ioyvHI05av"
      },
      "source": [
        "len(data_train_history_20)"
      ],
      "execution_count": null,
      "outputs": []
    },
    {
      "cell_type": "code",
      "metadata": {
        "id": "LGtTbITSI4w-"
      },
      "source": [
        "len(data_train_topn_history_20)"
      ],
      "execution_count": null,
      "outputs": []
    },
    {
      "cell_type": "code",
      "metadata": {
        "id": "WwOwIBjQPsXj"
      },
      "source": [
        "len(data_train_topn_without_doublon_history_20)"
      ],
      "execution_count": null,
      "outputs": []
    },
    {
      "cell_type": "markdown",
      "metadata": {
        "id": "SFRQW73T471K"
      },
      "source": [
        "## Building train and validation set"
      ]
    },
    {
      "cell_type": "code",
      "metadata": {
        "id": "c_uD4-xZYRWi"
      },
      "source": [
        "# definition de data_valid : 10% de l'ensemble de train\n",
        "ration_validation=0.2\n",
        "data_valid=data_train_history_20.sample(frac=0.2, replace=False, random_state=1)\n",
        "data_valid_topn=data_train_topn_history_20.sample(frac=0.2, replace=False, random_state=1)\n",
        "data_valid_topn_without_doublon=data_train_topn_without_doublon_history_20.sample(frac=0.2, replace=False, random_state=1)"
      ],
      "execution_count": null,
      "outputs": []
    },
    {
      "cell_type": "code",
      "metadata": {
        "id": "_AS81b1s7UhT"
      },
      "source": [
        "len(data_valid_topn_without_doublon)"
      ],
      "execution_count": null,
      "outputs": []
    },
    {
      "cell_type": "code",
      "metadata": {
        "id": "u8oZy6MfhHxc"
      },
      "source": [
        "# defintition du complémentaire qui va être le data_train\n",
        "index=[x for x in data_train_history_20.index if x not in data_valid.index]\n",
        "data_train_out_valid=pd.DataFrame([data_train_history_20.loc[x] for x in index])\n"
      ],
      "execution_count": null,
      "outputs": []
    },
    {
      "cell_type": "code",
      "metadata": {
        "id": "2Dy-V8V-JlTA"
      },
      "source": [
        "# defintition du complémentaire qui va être le data_train_topn\n",
        "index_topn=[x for x in data_train_topn_history_20.index if x not in data_valid_topn.index]\n",
        "data_train_out_valid_topn=pd.DataFrame([data_train_topn_history_20.loc[x] for x in index_topn])"
      ],
      "execution_count": null,
      "outputs": []
    },
    {
      "cell_type": "code",
      "metadata": {
        "id": "scmd9nw4BhuI"
      },
      "source": [
        "# defintition du complémentaire qui va être le data_train_topn\n",
        "index_topn_without_doublon=[x for x in data_train_topn_without_doublon_history_20.index if x not in data_valid_topn_without_doublon.index]\n",
        "data_train_out_valid_topn_without_doublon=pd.DataFrame([data_train_topn_without_doublon_history_20.loc[x] for x in index_topn_without_doublon])"
      ],
      "execution_count": null,
      "outputs": []
    },
    {
      "cell_type": "code",
      "metadata": {
        "id": "t8mX4HPHUQe3"
      },
      "source": [
        "len(data_train_out_valid_topn_without_doublon)"
      ],
      "execution_count": null,
      "outputs": []
    },
    {
      "cell_type": "code",
      "metadata": {
        "id": "uDaMeBuMf5LJ"
      },
      "source": [
        "data_train_out_valid_topn_without_doublon.head()"
      ],
      "execution_count": null,
      "outputs": []
    },
    {
      "cell_type": "code",
      "metadata": {
        "id": "y7nO_M8BPfVU"
      },
      "source": [
        "#recalcul du nombre d'items différents\n",
        "# Building the item set\n",
        "temp_item_1=[]\n",
        "temp_item_2=[]\n",
        "for user in data_train_topn_without_doublon_history_20.index:\n",
        "  temp_item_1.append(data_train_topn_without_doublon_history_20.loc[user])\n",
        "for user in data_test_topn_without_doublon.index:\n",
        "  history=data_test_topn_without_doublon\n",
        "  if np.count_nonzero(history)> THRESHOLD_HISTORY:\n",
        "    temp_item_1.append(data_test_topn_without_doublon.loc[user])\n",
        "for x in temp_item_1:\n",
        "  for y in x:\n",
        "    temp_item_2.append(y)\n",
        "\n",
        "print((len(temp_item_2)))\n"
      ],
      "execution_count": null,
      "outputs": []
    },
    {
      "cell_type": "code",
      "metadata": {
        "id": "rs52SOBEXZkZ"
      },
      "source": [
        "len(np.unique(temp_item_2))"
      ],
      "execution_count": null,
      "outputs": []
    },
    {
      "cell_type": "markdown",
      "metadata": {
        "id": "bhH_HmwX5O39"
      },
      "source": [
        "# Dataset backup/restore/preparation \n",
        "\n",
        "*  DATA_SAVED=False will make the dataset to be saved on the repo.\n",
        "*  DATA_SAVED=True (to be positioned at TRUE after one complete execution of the notebook) the different dataset are retrieved from repository (Dataset Building block above can be skipped) \n"
      ]
    },
    {
      "cell_type": "code",
      "metadata": {
        "id": "9ux0GfEPUazx"
      },
      "source": [
        "def LastFM_prepare_data_set(dataset,max_sequence_label,max_sequence_train, shuffle, shift):\n",
        "\n",
        "  '''\n",
        "      :param: dataset : dataframe : set of user history\n",
        "      :param: max_sequence_lable : int size of the sequence of label for each user\n",
        "      :param: max_sequence_train: int size of the sequence of  history to keep for each user\n",
        "      :param: liste_item_tri: list list of the items within all the dataset (no repetition and sorted by increasing value)\n",
        "      :return: x_train, x_target_train_oh : array: array of data for train and target\n",
        "  '''\n",
        "\n",
        "  # local variables\n",
        "  sequence_dataset=[]\n",
        "  sequence_target_dataset=[]\n",
        "  for user in dataset.index:\n",
        "      # history\n",
        "\n",
        "      history=list(dataset.loc[user]) \n",
        "      #print(\"user\",user)\n",
        "      #print(\"history\",history)\n",
        "      history_int=[song_topn_2_int[songid] for songid in history if songid != 0]\n",
        "      nb_seq=len(history_int) - (max_sequence_train+max_sequence_label)+1\n",
        "      for i in range(nb_seq):\n",
        "        history_4_train=history_int[i:i+max_sequence_train]\n",
        "        #print(\"history_4_train\",history_4_train)\n",
        "        #history_4_test=history_int[i+shift:i+shift+max_sequence_label]\n",
        "        history_4_test=history_int[i+max_sequence_train:i+max_sequence_train+max_sequence_label]\n",
        "        if shuffle:\n",
        "          np.random.shuffle(history_4_train)\n",
        "          #np.random.shuffle(history_4_test)\n",
        "\n",
        "        sequence_dataset.append(history_4_train) # sous-seq de longueur max_sequence_train\n",
        "        sequence_target_dataset.append(history_4_test) # item suivant\n",
        "      \n",
        "\n",
        "\n",
        "\n",
        "  # padding if necessary\n",
        "  x_dataset = sequence.pad_sequences(sequence_dataset, maxlen=max_sequence_train)\n",
        "  x_target_dataset = sequence.pad_sequences(sequence_target_dataset, padding='post',maxlen=max_sequence_label)\n",
        "\n",
        "  x_dataset=np.array(x_dataset)\n",
        "  x_target_dataset=np.array(x_target_dataset)\n",
        "    \n",
        "  return x_dataset,x_target_dataset\n",
        "\n"
      ],
      "execution_count": null,
      "outputs": []
    },
    {
      "cell_type": "code",
      "metadata": {
        "id": "K2HyLkl3XoyU"
      },
      "source": [
        "DATA_SAVED=True"
      ],
      "execution_count": null,
      "outputs": []
    },
    {
      "cell_type": "code",
      "metadata": {
        "id": "F0AAxf8UNFOl"
      },
      "source": [
        "# sauvegarde dataframe\n",
        "if not DATA_SAVED:\n",
        "  #data_train_topn_without_doublon.to_csv(my_path+\"target_ten_data_train_topn_without_doublon\")\n",
        "  data_train_out_valid.to_csv(my_path+\"target_ten_data_train_out_valid\")\n",
        "  data_train_out_valid_topn.to_csv(my_path+\"target_ten_data_train_out_valid_topn\")\n",
        "  data_train_out_valid_topn_without_doublon.to_csv(my_path+\"target_ten_data_train_out_valid_topn_without_doublon\")\n",
        "  data_valid.to_csv(my_path+\"target_ten_data_valid\")\n",
        "  data_valid_topn.to_csv(my_path+\"target_ten_data_valid_topn\")\n",
        "  data_valid_topn_without_doublon.to_csv(my_path+\"target_ten_data_valid_topn_without_doublon\")\n",
        "  data_train.to_csv(my_path+\"target_ten_data_train\")\n",
        "\n",
        "  data_test.to_csv(my_path+\"target_ten_data_test\")\n",
        "  data_test_topn.to_csv(my_path+\"target_ten_data_test_topn\")\n",
        "  data_test_topn_without_doublon.to_csv(my_path+\"target_ten_data_test_topn_without_doublon\")\n",
        "\n",
        "\n",
        "  # sauvegarde one_hot_size\n",
        "  import json\n",
        "  my_details = {'one_hot_size': len(topn_tri_int)}\n",
        "\n",
        "  with open(my_path+'target_ten_parameter.json', 'w') as json_file:\n",
        "      json.dump(my_details, json_file)\n",
        "\n",
        "  # sauvegarde numérotation \n",
        "  # conversion dico en dataframe\n",
        "  import pandas as pd\n",
        "  df_song_2_int=pd.DataFrame.from_dict(song_2_int,orient='index')\n",
        "  df_int_2_song=pd.DataFrame.from_dict(int_2_song,orient='index')\n",
        "  df_song_topn_2_int=pd.DataFrame.from_dict(song_topn_2_int,orient='index')\n",
        "  df_int_2_song_topn=pd.DataFrame.from_dict(int_2_song_topn,orient='index')\n",
        "\n",
        "  df_song_2_int.to_csv(my_path+\"target_ten_song_2_int\")\n",
        "  df_int_2_song.to_csv(my_path+\"target_ten_int_2_song\")\n",
        "  df_song_topn_2_int.to_csv(my_path+\"target_ten_song_topn_2_int\")\n",
        "  df_int_2_song_topn.to_csv(my_path+\"target_ten_int_2_song_topn\")\n"
      ],
      "execution_count": null,
      "outputs": []
    },
    {
      "cell_type": "code",
      "metadata": {
        "id": "5BF3s0goQFzH"
      },
      "source": [
        "def convert_df_2_dict(my_dataframe):\n",
        "  '''\n",
        "  '''\n",
        "  my_dico=my_dataframe.to_dict('split')\n",
        "  return dict(my_dico['data'])"
      ],
      "execution_count": null,
      "outputs": []
    },
    {
      "cell_type": "code",
      "metadata": {
        "id": "hMmx9vnKRur7"
      },
      "source": [
        "import json\n",
        "\n",
        "if DATA_SAVED:\n",
        "  with open(my_path+'target_ten_parameter.json') as file:\n",
        "    parameter_data = json.load(file)\n",
        "  one_hot_space_size=parameter_data['one_hot_size']  \n",
        "  #data_train_topn_without_doublon=pd.read_csv(my_path+\"target_ten_data_train_topn_without_doublon\",index_col=0)\n",
        "  data_train_out_valid= pd.read_csv(my_path+\"target_ten_data_train_out_valid\",index_col=0)\n",
        "  data_train_out_valid_topn=pd.read_csv(my_path+\"target_ten_data_train_out_valid_topn\",index_col=0)\n",
        "  data_train_out_valid_topn_without_doublon=pd.read_csv(my_path+\"target_ten_data_train_out_valid_topn_without_doublon\",index_col=0)\n",
        "  data_valid=pd.read_csv(my_path+\"target_ten_data_valid\",index_col=0)\n",
        "  data_valid_topn=pd.read_csv(my_path+\"target_ten_data_valid_topn\",index_col=0)\n",
        "  data_valid_topn_without_doublon=pd.read_csv(my_path+\"target_ten_data_valid_topn_without_doublon\",index_col=0)\n",
        "  data_train=pd.read_csv(my_path+\"target_ten_data_train\",index_col=0)\n",
        "  data_test=pd.read_csv(my_path+\"target_ten_data_test\",index_col=0)\n",
        "  data_test_topn=pd.read_csv(my_path+\"target_ten_data_test_topn\",index_col=0)\n",
        "  data_test_topn_without_doublon=pd.read_csv(my_path+\"target_ten_data_test_topn_without_doublon\",index_col=0)\n",
        "  # reconstituer les dictionnaire\n",
        "  song_2_int=pd.read_csv(my_path+\"target_ten_song_2_int\")\n",
        "  song_2_int=convert_df_2_dict(song_2_int)\n",
        "  int_2_song=pd.read_csv(my_path+\"target_ten_int_2_song\")\n",
        "  int_2_song=convert_df_2_dict(int_2_song)\n",
        "  song_topn_2_int=pd.read_csv(my_path+\"target_ten_song_topn_2_int\")\n",
        "  song_topn_2_int=convert_df_2_dict(song_topn_2_int)\n",
        "  int_2_song_topn=pd.read_csv(my_path+\"target_ten_int_2_song_topn\")\n",
        "  int_2_song_topn=convert_df_2_dict(int_2_song_topn)\n",
        "    "
      ],
      "execution_count": null,
      "outputs": []
    },
    {
      "cell_type": "code",
      "metadata": {
        "id": "NKLksSe0GlIH"
      },
      "source": [
        "# select dataset\n",
        "# 1: full 2: threshold history 3: threshold history and item popularity 4: threshold history item popularity and wihout doublon\n",
        "data_select=4\n",
        "if data_select==1:\n",
        "  data_train_in=data_train_out_valid\n",
        "  data_valid_in=data_valid\n",
        "elif data_select==2:\n",
        "  data_train_in=data_train_out_valid\n",
        "  data_valid_in=data_valid\n",
        "elif data_select==3:\n",
        "  data_train_in=data_train_out_valid_topn\n",
        "  data_valid_in=data_valid_topn\n",
        "elif data_select==4:\n",
        "  data_train_in=data_train_out_valid_topn_without_doublon\n",
        "  data_valid_in=data_valid_topn_without_doublon\n",
        "else:\n",
        "  data_train_in=data_train_out_valid\n",
        "  data_valid_in=data_valid    \n",
        "\n"
      ],
      "execution_count": null,
      "outputs": []
    },
    {
      "cell_type": "markdown",
      "metadata": {
        "id": "mT36Ynsewrdo"
      },
      "source": [
        "## Format data for fitting the model"
      ]
    },
    {
      "cell_type": "code",
      "metadata": {
        "id": "F-j4VfvPw-KN"
      },
      "source": [
        "# prepare data\n",
        "##################\n",
        "SHUFFLE=False\n",
        "##################\n",
        "from keras.preprocessing import sequence\n",
        "#x_train, x_target_train=LastFM_prepare_data_set(data_train,max_sequence_label,max_sequence_train)\n",
        "x_train,x_target_train=LastFM_prepare_data_set(data_train_in,max_sequence_label,max_sequence_train,shuffle=SHUFFLE,shift=Shift)\n",
        "x_valid,x_target_valid=LastFM_prepare_data_set(data_valid_in,max_sequence_label,max_sequence_train,shuffle=SHUFFLE, shift=Shift)\n"
      ],
      "execution_count": null,
      "outputs": []
    },
    {
      "cell_type": "code",
      "metadata": {
        "colab": {
          "base_uri": "https://localhost:8080/"
        },
        "id": "UNApKmdWLJcT",
        "outputId": "f732cc44-36d7-482f-cb74-0b19d326e184"
      },
      "source": [
        "x_target_train.shape"
      ],
      "execution_count": null,
      "outputs": [
        {
          "output_type": "execute_result",
          "data": {
            "text/plain": [
              "(56760, 1)"
            ]
          },
          "metadata": {
            "tags": []
          },
          "execution_count": 19
        }
      ]
    },
    {
      "cell_type": "code",
      "metadata": {
        "colab": {
          "base_uri": "https://localhost:8080/"
        },
        "id": "cjM1NasA9wjg",
        "outputId": "3c88a782-9898-42cf-b97a-c793d212e5b7"
      },
      "source": [
        "\n",
        "diff_zero=0\n",
        "for i in range(x_train.shape[0]):\n",
        "  diff_zero+=np.count_nonzero(x_train[i])\n",
        "\n",
        "diff_zero/(x_train.shape[0]*x_train.shape[1])"
      ],
      "execution_count": null,
      "outputs": [
        {
          "output_type": "execute_result",
          "data": {
            "text/plain": [
              "1.0"
            ]
          },
          "metadata": {
            "tags": []
          },
          "execution_count": 20
        }
      ]
    },
    {
      "cell_type": "code",
      "metadata": {
        "id": "_H5EETT-ZcCr"
      },
      "source": [
        "for i in range(x_target_train.shape[0]):\n",
        "  if 0 in x_target_train[i]:\n",
        "    print(x_target_train[i])\n"
      ],
      "execution_count": null,
      "outputs": []
    },
    {
      "cell_type": "code",
      "metadata": {
        "colab": {
          "base_uri": "https://localhost:8080/"
        },
        "id": "9VCmcs9ZRdVF",
        "outputId": "85afec72-74e8-4159-e62a-e5ffbb2e5540"
      },
      "source": [
        "x_valid.shape"
      ],
      "execution_count": null,
      "outputs": [
        {
          "output_type": "execute_result",
          "data": {
            "text/plain": [
              "(14190, 10)"
            ]
          },
          "metadata": {
            "tags": []
          },
          "execution_count": 22
        }
      ]
    },
    {
      "cell_type": "code",
      "metadata": {
        "colab": {
          "base_uri": "https://localhost:8080/"
        },
        "id": "lDz6j2zpHQgs",
        "outputId": "8b9cdd43-a038-4997-ace0-5d831c169483"
      },
      "source": [
        "'''while true:\n",
        "  pass'''"
      ],
      "execution_count": null,
      "outputs": [
        {
          "output_type": "execute_result",
          "data": {
            "application/vnd.google.colaboratory.intrinsic+json": {
              "type": "string"
            },
            "text/plain": [
              "'while true:\\n  pass'"
            ]
          },
          "metadata": {
            "tags": []
          },
          "execution_count": 23
        }
      ]
    },
    {
      "cell_type": "code",
      "metadata": {
        "id": "co0AgRV2HfFJ"
      },
      "source": [
        "# constitution des dictionnaire selon modélisation https://stanford.edu/~shervine/blog/keras-how-to-generate-data-on-the-fly\n",
        "#batchsize=128\n",
        "partition={}\n",
        "labels={}\n",
        "partition['train']=list(range(x_train.shape[0]))\n",
        "partition['validation']=list(range(x_valid.shape[0]))\n",
        "labels_train={i:j for i,j in enumerate(x_target_train)}\n",
        "labels_valid={i:j for i,j in enumerate(x_target_valid)}\n",
        "\n",
        "\n",
        "# one hot encoding pour l'ensemble des items recommandables\n",
        "if not DATA_SAVED:\n",
        "  one_hot_space_size=len(topn_tri_int)    \n",
        "# sinon déjà défini  \n",
        "\n",
        "#parameter for train data generation\n",
        "# Parameters\n",
        "params = {'dim_train': (max_sequence_train),\n",
        "          'dim_label': (max_sequence_label),\n",
        "          'batch_size': batchsize,\n",
        "          'n_classes': one_hot_space_size,\n",
        "          'n_channels': 1,\n",
        "          'shuffle': True}\n",
        "\n",
        "#ipdb.set_trace()\n",
        "#input(\"wait\")\n",
        "# Generators\n",
        "training_generator = DataGenerator(x_train,partition['train'], labels_train, **params)\n",
        "validation_generator = DataGenerator(x_valid,partition['validation'], labels_valid, **params)"
      ],
      "execution_count": null,
      "outputs": []
    },
    {
      "cell_type": "markdown",
      "metadata": {
        "id": "Y-yEdsiyYLUo"
      },
      "source": [
        "#Training/prediction"
      ]
    },
    {
      "cell_type": "markdown",
      "metadata": {
        "id": "xHQwZIWi5WVl"
      },
      "source": [
        "##Training model\n",
        "\n",
        "*   RETRIEVE=True for retrieving an existing model from the repo \n",
        "*   After each execution the model is saved on the repo\n",
        "\n"
      ]
    },
    {
      "cell_type": "code",
      "metadata": {
        "id": "2lP-T0UUyiMt"
      },
      "source": [
        "# paramètres\n",
        "from keras.regularizers import L1L2\n",
        "\n",
        "reco_file=\"LastFM_LSTM_dico_reco.csv\"\n",
        "LSTM_size=200\n",
        "epochs=10\n",
        "embedding_size=100\n",
        "dropout_lstm_value=0.2\n",
        "dropout_layer_value=0.0\n",
        "reg=L1L2(0.01,0.01)\n"
      ],
      "execution_count": null,
      "outputs": []
    },
    {
      "cell_type": "code",
      "metadata": {
        "colab": {
          "base_uri": "https://localhost:8080/"
        },
        "id": "RBdv8lp6vLgD",
        "outputId": "3b706c05-064d-422f-d8e5-b3aabc37952c"
      },
      "source": [
        "import matplotlib.pyplot as plt\n",
        "from keras.models import load_model\n",
        "\n",
        "RETRIEVE=True\n",
        "# construction du modèle RNN\n",
        "\n",
        "if not RETRIEVE:\n",
        "\n",
        "  model=build_model(one_hot_space_size,max_sequence_train,r_reg=reg)\n",
        "  model.summary()\n",
        "\n",
        "  start=datetime.datetime.now()\n",
        "  print(\"start at :{}\".format(str(start)))\n",
        "\n",
        "  '''es=EarlyStopping(monitor='val_loss',mode='min', verbose=1,patience=10)     \n",
        "  plot_model(model, to_file='model_lstm.png')'''\n",
        "\n",
        "  history=model.fit_generator(generator=training_generator,validation_data=validation_generator,epochs=epochs,use_multiprocessing=False,verbose=2)\n",
        "      \n",
        "  stop=datetime.datetime.now()\n",
        "  print(\"elapsed time for training model: {}\".format(str(stop-start)))\n",
        "\n",
        "  # sauvegarde du modèle\n",
        "  model.save(my_path+'model_LSTM_seq_one'+str(LSTM_size)+'_shift_'+str(Shift)+'_lastFM_history_user_'+str(max_sequence_train)+'_index_start_1.h5')\n",
        "  print(history.history.keys())\n",
        "  # summarize history of accuracy\n",
        "  plt.plot(history.history['sparse_categorical_accuracy'])\n",
        "  plt.plot(history.history['val_sparse_categorical_accuracy'])\n",
        "  plt.title('model accuracy')\n",
        "  plt.ylabel('accuracy')\n",
        "  plt.xlabel('epoch')\n",
        "  plt.legend(['train', 'validation'], loc='upper left')\n",
        "  plt.show()\n",
        "  # summarize history for loss\n",
        "  plt.plot(history.history['loss'])\n",
        "  plt.plot(history.history['val_loss'])\n",
        "  plt.title('model loss')\n",
        "  plt.ylabel('loss')\n",
        "  plt.xlabel('epoch')\n",
        "  plt.legend(['train', 'validation'], loc='upper left')\n",
        "  plt.show()\n",
        "\n",
        "else:\n",
        "  model=load_model(my_path+'model_LSTM_seq_one'+str(LSTM_size)+'_shift_'+str(Shift)+'_lastFM_history_user_'+str(max_sequence_train)+'_index_start_1.h5')\n"
      ],
      "execution_count": null,
      "outputs": [
        {
          "output_type": "stream",
          "text": [
            "WARNING:tensorflow:From /tensorflow-1.15.2/python3.7/tensorflow_core/python/ops/resource_variable_ops.py:1630: calling BaseResourceVariable.__init__ (from tensorflow.python.ops.resource_variable_ops) with constraint is deprecated and will be removed in a future version.\n",
            "Instructions for updating:\n",
            "If using Keras pass *_constraint arguments to layers.\n",
            "WARNING:tensorflow:From /tensorflow-1.15.2/python3.7/tensorflow_core/python/ops/math_grad.py:1424: where (from tensorflow.python.ops.array_ops) is deprecated and will be removed in a future version.\n",
            "Instructions for updating:\n",
            "Use tf.where in 2.0, which has the same broadcast rule as np.where\n",
            "WARNING:tensorflow:From /tensorflow-1.15.2/python3.7/keras/backend/tensorflow_backend.py:422: The name tf.global_variables is deprecated. Please use tf.compat.v1.global_variables instead.\n",
            "\n"
          ],
          "name": "stdout"
        }
      ]
    },
    {
      "cell_type": "markdown",
      "metadata": {
        "id": "_Ad1fetEMhkJ"
      },
      "source": [
        "Méthode non itérative:\n",
        "\n",
        "\n",
        "\n",
        "*   PRED_WITH_REPETITION = True : on prend le score le plus élevé de chaque vecteur de la séquence de la LSTM (10 vecteurs)\n",
        "*   PRED_WITH_REPETITION = False : on prend les 10 score les plus élevés du dernier vecteur de la séquence de la LSTM \n",
        "\n",
        "\n"
      ]
    },
    {
      "cell_type": "code",
      "metadata": {
        "colab": {
          "base_uri": "https://localhost:8080/",
          "height": 422
        },
        "id": "AX38FjtxHraY",
        "outputId": "335c5306-f52f-493c-c347-5edb7b1ead3d"
      },
      "source": [
        "# affichage model\n",
        "dot_img_file = my_path+'model_LSTM_targetone'+str(LSTM_size)+'_shift_'+str(Shift)+'_lastFM_history_user_'+str(max_sequence_train)+'.png'\n",
        "tf.keras.utils.plot_model(model, to_file=dot_img_file, show_shapes=True)"
      ],
      "execution_count": null,
      "outputs": [
        {
          "output_type": "execute_result",
          "data": {
            "image/png": "[encoded data removed]",
            "text/plain": [
              "<IPython.core.display.Image object>"
            ]
          },
          "metadata": {
            "tags": []
          },
          "execution_count": 27
        }
      ]
    },
    {
      "cell_type": "markdown",
      "metadata": {
        "id": "YPoWE9_5tVKV"
      },
      "source": [
        "##init prediction"
      ]
    },
    {
      "cell_type": "markdown",
      "metadata": {
        "id": "Vdj0VDdE0YmU"
      },
      "source": [
        "SHUFFLE_TEST allow to shuffle (True) or not (False) the input sequences which will be used for getting prediction"
      ]
    },
    {
      "cell_type": "code",
      "metadata": {
        "id": "zBk4XIM-CQXq"
      },
      "source": [
        "# echantillonnage\n",
        "sample_test_0=[user for user in data_test_topn_without_doublon.index if (user%10<10)]\n",
        "SHUFFLE_TEST=True"
      ],
      "execution_count": null,
      "outputs": []
    },
    {
      "cell_type": "markdown",
      "metadata": {
        "id": "53aT7lbWNJko"
      },
      "source": [
        "## Predictions"
      ]
    },
    {
      "cell_type": "code",
      "metadata": {
        "id": "qhLPSh4txv9A",
        "colab": {
          "base_uri": "https://localhost:8080/"
        },
        "outputId": "f4f16b01-5362-4f31-90fd-8aaae002cd6f"
      },
      "source": [
        "len(sample_test_0)"
      ],
      "execution_count": null,
      "outputs": [
        {
          "output_type": "execute_result",
          "data": {
            "text/plain": [
              "126559"
            ]
          },
          "metadata": {
            "tags": []
          },
          "execution_count": 42
        }
      ]
    },
    {
      "cell_type": "code",
      "metadata": {
        "id": "dssJg5QI0UZl",
        "colab": {
          "base_uri": "https://localhost:8080/"
        },
        "outputId": "1ba173f9-b240-4fb4-ecce-306ebd8eedb0"
      },
      "source": [
        "# prediction sur ensemble de test\n",
        "\n",
        "couverture=[]\n",
        "\n",
        "count_user=0\n",
        "count_user_accepted=0\n",
        "dico_reco={}\n",
        "check_user=[]\n",
        "test_input_set=set({})\n",
        "\n",
        "for userid in sample_test_0:\n",
        "  # history\n",
        "  # je ne retiens que les historiques qui ont 20 items\n",
        "  count_user+=1\n",
        "  if np.count_nonzero(data_test_topn_without_doublon.loc[userid])>THRESHOLD_HISTORY:\n",
        "    test_input_set.update(set(data_test_topn_without_doublon.loc[userid][:max_sequence_train]))\n",
        "    history_int=[song_topn_2_int[k] for k in data_test_topn_without_doublon.loc[userid]]\n",
        "    count_user_accepted+=1\n",
        "    check_user.append(userid)\n",
        "    seq_in=history_int[-(max_sequence_train+num_prediction):-num_prediction] # sous-seq de longueur max_sequence_train\n",
        "    if SHUFFLE_TEST:\n",
        "      np.random.shuffle(seq_in)\n",
        "    count_reco=0\n",
        "    save_index=history_int[:max_sequence_train]\n",
        "    while count_reco < num_prediction:\n",
        "      x = sequence.pad_sequences([seq_in], maxlen=max_sequence_train)\n",
        "      prediction=model.predict(x)\n",
        "      # avoid item repetition\"\n",
        "      for index in save_index:\n",
        "        prediction[0][index]=0\n",
        "      index_target=np.argmax(prediction[0])\n",
        "      #print(\"index_target\",index_target)\n",
        "      save_index.append(index_target)\n",
        "      couverture.append(index_target)\n",
        "      if userid in dico_reco:\n",
        "        dico_reco[userid].append(index_target)\n",
        "      else:\n",
        "        dico_reco[userid]=[index_target]    \n",
        "      seq_in=seq_in[1:]+[index_target]\n",
        "      count_reco+=1\n",
        "      \n",
        "  if count_user%1000 == 0 :\n",
        "    print(\" user {} traité, nb total de users traité: {}\".format(userid,count_user))\n",
        "couverture=np.unique(couverture)\n",
        "print(\"nb de user ayant une prediction\",len(dico_reco))\n",
        "print(\"nb de user pour lesquels on cherche une prediction\",count_user)\n",
        "print(\"nb de reco <>\",len(couverture))"
      ],
      "execution_count": null,
      "outputs": [
        {
          "output_type": "stream",
          "text": [
            " user 999 traité, nb total de users traité: 1000\n",
            " user 1999 traité, nb total de users traité: 2000\n",
            " user 2999 traité, nb total de users traité: 3000\n",
            " user 3999 traité, nb total de users traité: 4000\n",
            " user 4999 traité, nb total de users traité: 5000\n",
            " user 5999 traité, nb total de users traité: 6000\n",
            " user 6999 traité, nb total de users traité: 7000\n",
            " user 7999 traité, nb total de users traité: 8000\n",
            " user 8999 traité, nb total de users traité: 9000\n",
            " user 9999 traité, nb total de users traité: 10000\n",
            " user 10999 traité, nb total de users traité: 11000\n",
            " user 11999 traité, nb total de users traité: 12000\n",
            " user 12999 traité, nb total de users traité: 13000\n",
            " user 13999 traité, nb total de users traité: 14000\n",
            " user 14999 traité, nb total de users traité: 15000\n",
            " user 15999 traité, nb total de users traité: 16000\n",
            " user 16999 traité, nb total de users traité: 17000\n",
            " user 17999 traité, nb total de users traité: 18000\n",
            " user 18999 traité, nb total de users traité: 19000\n",
            " user 19999 traité, nb total de users traité: 20000\n",
            " user 20999 traité, nb total de users traité: 21000\n",
            " user 21999 traité, nb total de users traité: 22000\n",
            " user 22999 traité, nb total de users traité: 23000\n",
            " user 23999 traité, nb total de users traité: 24000\n",
            " user 24999 traité, nb total de users traité: 25000\n",
            " user 25999 traité, nb total de users traité: 26000\n",
            " user 26999 traité, nb total de users traité: 27000\n",
            " user 27999 traité, nb total de users traité: 28000\n",
            " user 28999 traité, nb total de users traité: 29000\n",
            " user 29999 traité, nb total de users traité: 30000\n",
            " user 30999 traité, nb total de users traité: 31000\n",
            " user 31999 traité, nb total de users traité: 32000\n",
            " user 32999 traité, nb total de users traité: 33000\n",
            " user 33999 traité, nb total de users traité: 34000\n",
            " user 34999 traité, nb total de users traité: 35000\n",
            " user 35999 traité, nb total de users traité: 36000\n",
            " user 36999 traité, nb total de users traité: 37000\n",
            " user 37999 traité, nb total de users traité: 38000\n",
            " user 38999 traité, nb total de users traité: 39000\n",
            " user 39999 traité, nb total de users traité: 40000\n",
            " user 40999 traité, nb total de users traité: 41000\n",
            " user 41999 traité, nb total de users traité: 42000\n",
            " user 42999 traité, nb total de users traité: 43000\n",
            " user 43999 traité, nb total de users traité: 44000\n",
            " user 44999 traité, nb total de users traité: 45000\n",
            " user 45999 traité, nb total de users traité: 46000\n",
            " user 46999 traité, nb total de users traité: 47000\n",
            " user 47999 traité, nb total de users traité: 48000\n",
            " user 48999 traité, nb total de users traité: 49000\n",
            " user 49999 traité, nb total de users traité: 50000\n",
            " user 50999 traité, nb total de users traité: 51000\n",
            " user 51999 traité, nb total de users traité: 52000\n",
            " user 52999 traité, nb total de users traité: 53000\n",
            " user 53999 traité, nb total de users traité: 54000\n",
            " user 54999 traité, nb total de users traité: 55000\n",
            " user 55999 traité, nb total de users traité: 56000\n",
            " user 56999 traité, nb total de users traité: 57000\n",
            " user 57999 traité, nb total de users traité: 58000\n",
            " user 58999 traité, nb total de users traité: 59000\n",
            " user 59999 traité, nb total de users traité: 60000\n",
            " user 60999 traité, nb total de users traité: 61000\n",
            " user 61999 traité, nb total de users traité: 62000\n",
            " user 62999 traité, nb total de users traité: 63000\n",
            " user 63999 traité, nb total de users traité: 64000\n",
            " user 64999 traité, nb total de users traité: 65000\n",
            " user 65999 traité, nb total de users traité: 66000\n",
            " user 66999 traité, nb total de users traité: 67000\n",
            " user 67999 traité, nb total de users traité: 68000\n",
            " user 68999 traité, nb total de users traité: 69000\n",
            " user 69999 traité, nb total de users traité: 70000\n",
            " user 70999 traité, nb total de users traité: 71000\n",
            " user 71999 traité, nb total de users traité: 72000\n",
            " user 72999 traité, nb total de users traité: 73000\n",
            " user 73999 traité, nb total de users traité: 74000\n",
            " user 74999 traité, nb total de users traité: 75000\n",
            " user 75999 traité, nb total de users traité: 76000\n",
            " user 76999 traité, nb total de users traité: 77000\n",
            " user 77999 traité, nb total de users traité: 78000\n",
            " user 78999 traité, nb total de users traité: 79000\n",
            " user 79999 traité, nb total de users traité: 80000\n",
            " user 80999 traité, nb total de users traité: 81000\n",
            " user 81999 traité, nb total de users traité: 82000\n",
            " user 82999 traité, nb total de users traité: 83000\n",
            " user 83999 traité, nb total de users traité: 84000\n",
            " user 84999 traité, nb total de users traité: 85000\n",
            " user 85999 traité, nb total de users traité: 86000\n",
            " user 86999 traité, nb total de users traité: 87000\n",
            " user 87999 traité, nb total de users traité: 88000\n",
            " user 88999 traité, nb total de users traité: 89000\n",
            " user 89999 traité, nb total de users traité: 90000\n",
            " user 90999 traité, nb total de users traité: 91000\n",
            " user 91999 traité, nb total de users traité: 92000\n",
            " user 92999 traité, nb total de users traité: 93000\n",
            " user 93999 traité, nb total de users traité: 94000\n",
            " user 94999 traité, nb total de users traité: 95000\n",
            " user 95999 traité, nb total de users traité: 96000\n",
            " user 96999 traité, nb total de users traité: 97000\n",
            " user 97999 traité, nb total de users traité: 98000\n",
            " user 98999 traité, nb total de users traité: 99000\n",
            " user 99999 traité, nb total de users traité: 100000\n",
            " user 100999 traité, nb total de users traité: 101000\n",
            " user 101999 traité, nb total de users traité: 102000\n",
            " user 102999 traité, nb total de users traité: 103000\n",
            " user 103999 traité, nb total de users traité: 104000\n",
            " user 104999 traité, nb total de users traité: 105000\n",
            " user 105999 traité, nb total de users traité: 106000\n",
            " user 106999 traité, nb total de users traité: 107000\n",
            " user 107999 traité, nb total de users traité: 108000\n",
            " user 108999 traité, nb total de users traité: 109000\n",
            " user 109999 traité, nb total de users traité: 110000\n",
            " user 110999 traité, nb total de users traité: 111000\n",
            " user 111999 traité, nb total de users traité: 112000\n",
            " user 112999 traité, nb total de users traité: 113000\n",
            " user 113999 traité, nb total de users traité: 114000\n",
            " user 114999 traité, nb total de users traité: 115000\n",
            " user 115999 traité, nb total de users traité: 116000\n",
            " user 116999 traité, nb total de users traité: 117000\n",
            " user 117999 traité, nb total de users traité: 118000\n",
            " user 118999 traité, nb total de users traité: 119000\n",
            " user 119999 traité, nb total de users traité: 120000\n",
            " user 120999 traité, nb total de users traité: 121000\n",
            " user 121999 traité, nb total de users traité: 122000\n",
            " user 122999 traité, nb total de users traité: 123000\n",
            " user 123999 traité, nb total de users traité: 124000\n",
            " user 124999 traité, nb total de users traité: 125000\n",
            " user 125999 traité, nb total de users traité: 126000\n",
            "nb de user ayant une prediction 1504\n",
            "nb de user pour lesquels on cherche une prediction 126559\n",
            "nb de reco <> 42\n"
          ],
          "name": "stdout"
        }
      ]
    },
    {
      "cell_type": "code",
      "metadata": {
        "id": "YeezlBRt5-cz",
        "colab": {
          "base_uri": "https://localhost:8080/"
        },
        "outputId": "b78cd2ea-0f9c-4f8b-a3fe-efcf91c5e182"
      },
      "source": [
        "print(count_user_accepted)"
      ],
      "execution_count": null,
      "outputs": [
        {
          "output_type": "stream",
          "text": [
            "1504\n"
          ],
          "name": "stdout"
        }
      ]
    },
    {
      "cell_type": "code",
      "metadata": {
        "id": "qjtPBEUWQAxZ",
        "colab": {
          "base_uri": "https://localhost:8080/"
        },
        "outputId": "4c483898-f6ef-4b1a-f4c3-70947c3baaee"
      },
      "source": [
        "# calcul max_DCG\n",
        "import math\n",
        "def log2(x):\n",
        " return(math.log(x,2))\n",
        "max_DCG=0.\n",
        "for i in range(1,num_prediction+1):\n",
        "    max_DCG+=(2**(num_prediction+1-i)-1)/log2(i+1)\n",
        "print(\"max_DCG\",max_DCG)    "
      ],
      "execution_count": null,
      "outputs": [
        {
          "output_type": "stream",
          "text": [
            "max_DCG 1571.4155855572703\n"
          ],
          "name": "stdout"
        }
      ]
    },
    {
      "cell_type": "code",
      "metadata": {
        "id": "neUfUKVdJlWm"
      },
      "source": [
        "# intermediairy calcul for coverage\n",
        "train_set_list=[x for y in data_train_out_valid_topn_without_doublon.index for x in data_train_out_valid_topn_without_doublon.loc[y]]\n",
        "train_set=set(train_set_list)"
      ],
      "execution_count": null,
      "outputs": []
    },
    {
      "cell_type": "code",
      "metadata": {
        "id": "pTMcKC-ZQX75",
        "colab": {
          "base_uri": "https://localhost:8080/"
        },
        "outputId": "c0a45dd5-d4cf-4f2f-c543-d9e126d195b2"
      },
      "source": [
        "# calcul de la précision, sur ensemble de test\n",
        "tab_AP=[]\n",
        "precision_at_k=0.\n",
        "MRR=0.\n",
        "DCG=0.\n",
        "max_DCG\n",
        "count=0  \n",
        "count_MRR=0 \n",
        "count_DCG=0\n",
        "check_user=[]\n",
        "average_DCG=0\n",
        "label_set=set({})\n",
        "new_max_sequence_label=10\n",
        "for user in sample_test_0:\n",
        "  if np.count_nonzero(data_test_topn_without_doublon.loc[user])>THRESHOLD_HISTORY:\n",
        "    count+=1\n",
        "    check_user.append(user)\n",
        "    # initialisation des variables\n",
        "    tab_P=[]\n",
        "    # calcul du nombre délement en commun rapporté à num_prediction (formule peut poser pb avec les répétition)\n",
        "    history_int=[song_topn_2_int[k] for k in data_test_topn.loc[user] if k!=0 ]\n",
        "    if len(np.unique(history_int)) <= THRESHOLD_HISTORY:\n",
        "      print(\"len history_int\",len(np.unique(history_int)))\n",
        "      print(\"history_int\",history_int)\n",
        "    label=history_int[-new_max_sequence_label:]  # on prend les max_sequence_label derniers...ceux d'avant ont été entré pour demander une prédiction\n",
        "    #print(label)\n",
        "    label_set.update(set(label))\n",
        "    #input('wait')\n",
        "    #retrieved_song_index=set(label)&set(dico_reco[user])\n",
        "    # car pas de doublon\n",
        "    retrieved_song=[x for x in dico_reco[user] if x in label]\n",
        "    #print(\"retrieved\",retrieved_song_index)\n",
        "    #ipdb.set_trace()\n",
        "\n",
        "    #precision@(num_prediction) \n",
        "    for song_index in retrieved_song:\n",
        "      precision_at_k+=min(label.count(song_index),dico_reco[user].count(song_index))\n",
        "    \n",
        "    \n",
        "    #AP@k\n",
        "    # d'après https://medium.com/swlh/rank-aware-recsys-evaluation-metrics-5191bba16832\n",
        "    P=0\n",
        "    for rank in range(1,min(num_prediction,len(label))+1):\n",
        "        # calcul P@rank\n",
        "        if dico_reco[user][rank-1] in label:\n",
        "            P+=1.0\n",
        "            AP_inter=P/rank\n",
        "            tab_P.append(AP_inter)\n",
        "        else:\n",
        "            continue\n",
        "\n",
        "    if len(retrieved_song)!=0:\n",
        "        AP=sum(tab_P)/len(retrieved_song)\n",
        "    else:\n",
        "        AP=0\n",
        "    tab_AP.append(AP)  \n",
        "    \n",
        "    #MRR\n",
        "    # see https://medium.com/swlh/rank-aware-recsys-evaluation-metrics-5191bba16832\n",
        "    for song in dico_reco[user]:\n",
        "      if song in label:\n",
        "        MRR+=1.0/(dico_reco[user].index(song)+1)\n",
        "        count_MRR+=1\n",
        "        break\n",
        "      else:\n",
        "        continue  \n",
        "    \n",
        "    #NDCG  \n",
        "    DCG=0\n",
        "    for song in dico_reco[user]:\n",
        "      if song in label:\n",
        "        DCG+=(2**(num_prediction-label.index(song))-1)/log2(dico_reco[user].index(song)+2)\n",
        "      else:\n",
        "        continue\n",
        "    DCG/=max_DCG\n",
        "    average_DCG+=DCG    \n",
        "          \n",
        "    \n",
        "\n",
        "  else:\n",
        "    continue  \n",
        "\n",
        "print(\"precision\",precision_at_k)\n",
        " \n",
        "precision_at_k=float(precision_at_k)/float(count*num_prediction)\n",
        "MRR=float(MRR)/float(count)\n",
        "MAP=sum(tab_AP)/len(tab_AP)\n",
        "average_DCG=float(average_DCG)/float(count)\n",
        "\n",
        "print(\"nb d'items <> dans le label set : {}\".format(len(label_set)))\n",
        "print(\"precision at {} sur ensemble de train complet égale à {}\".format(num_prediction,precision_at_k))\n",
        "print(\"nommbre de user sur lequel la precision peut être calculé : {}\".format(count))\n",
        "print(\"MRR sur ensemble de train complet égale à {}\".format(MRR))\n",
        "print(\"nombre de user sur lesquel MRR peut être calculé : {}\".format(count_MRR))\n",
        "print(\"MAP sur ensemble de train complet égale à {}\".format(MAP))\n",
        "print(\"nommbre de user sur lequel MAP peut être calculé : {}\".format(len(tab_AP)))\n",
        "print(\"NDCG sur ensemble de train complet égale à {}\".format(average_DCG))\n",
        "print(\"nommbre d'item pour lequel DCG peut être calculé : {}\".format(count))\n",
        "print(\"couverture_ coverage: {}\".format(len(couverture)/len((test_input_set)|(train_set))))\n",
        "\n",
        "\n",
        "print(\"nombre de user pris en compte : {}\".format(count))"
      ],
      "execution_count": null,
      "outputs": [
        {
          "output_type": "stream",
          "text": [
            "precision 546.0\n",
            "nb d'items <> dans le label set : 4755\n",
            "precision at 10 sur ensemble de train complet égale à 0.0363031914893617\n",
            "nommbre de user sur lequel la precision peut être calculé : 1504\n",
            "MRR sur ensemble de train complet égale à 0.1431497488179668\n",
            "nombre de user sur lesquel MRR peut être calculé : 424\n",
            "MAP sur ensemble de train complet égale à 0.13758856453337823\n",
            "nommbre de user sur lequel MAP peut être calculé : 1504\n",
            "NDCG sur ensemble de train complet égale à 0.027766338865505766\n",
            "nommbre d'item pour lequel DCG peut être calculé : 1504\n",
            "couverture_ coverage: 0.0038095238095238095\n",
            "nombre de user pris en compte : 1504\n"
          ],
          "name": "stdout"
        }
      ]
    },
    {
      "cell_type": "code",
      "metadata": {
        "id": "SpW_kD42YZg0"
      },
      "source": [
        "average_measure['PREC'].append([SHUFFLE_TEST,round(precision_at_k,4)])\n",
        "average_measure['MAP'].append([SHUFFLE_TEST,round(MAP,4)])\n",
        "average_measure['MRR'].append([SHUFFLE_TEST,round(MRR,4)])\n",
        "average_measure['NDCG'].append([SHUFFLE_TEST,round(average_DCG,4)])\n",
        "average_measure['recall'].append([SHUFFLE_TEST,round(len(couverture)/len(label_set),4)])"
      ],
      "execution_count": null,
      "outputs": []
    },
    {
      "cell_type": "code",
      "metadata": {
        "id": "x78GgCbIYfz6",
        "colab": {
          "base_uri": "https://localhost:8080/"
        },
        "outputId": "87ca2c96-9a88-4cda-d162-c699742843b3"
      },
      "source": [
        "average_measure"
      ],
      "execution_count": null,
      "outputs": [
        {
          "output_type": "execute_result",
          "data": {
            "text/plain": [
              "{'MAP': [[False, 0.1374], [True, 0.1376]],\n",
              " 'MRR': [[False, 0.1424], [True, 0.1431]],\n",
              " 'NDCG': [[False, 0.0273], [True, 0.0278]],\n",
              " 'PREC': [[False, 0.0375], [True, 0.0363]],\n",
              " 'recall': [[False, 0.008], [True, 0.0088]]}"
            ]
          },
          "metadata": {
            "tags": []
          },
          "execution_count": 49
        }
      ]
    },
    {
      "cell_type": "markdown",
      "metadata": {
        "id": "UAMzQT9K0uZr"
      },
      "source": [
        "#Annexes"
      ]
    },
    {
      "cell_type": "markdown",
      "metadata": {
        "id": "uXt7c4ivXl9s"
      },
      "source": [
        "## Store dico recommendation\n",
        "To be able to compare later two differents dict of recommendations (for instance shuffle and not shuffle)\n",
        "Hence should be executed one time and skipped the second one\n"
      ]
    },
    {
      "cell_type": "code",
      "metadata": {
        "id": "F-kjrFmxXbty"
      },
      "source": [
        "import copy\n",
        "dico_reco_sav=copy.deepcopy(dico_reco)"
      ],
      "execution_count": null,
      "outputs": []
    },
    {
      "cell_type": "markdown",
      "metadata": {
        "id": "wsfAtCxVXsWj"
      },
      "source": [
        "##Overlap between shuffle and not shuffle"
      ]
    },
    {
      "cell_type": "code",
      "metadata": {
        "id": "IvB9BsdBXyx7"
      },
      "source": [
        "tab_count=[]\n",
        "for user in dico_reco:\n",
        "  # all reco being uniques we can use set without losing information\n",
        "  tab_count.append(len(set(dico_reco[user])&(set(dico_reco_sav[user]))))\n",
        "\n",
        "overlap=np.average(tab_count)/num_prediction"
      ],
      "execution_count": null,
      "outputs": []
    },
    {
      "cell_type": "code",
      "metadata": {
        "id": "RDo0a6lWX8b0",
        "colab": {
          "base_uri": "https://localhost:8080/"
        },
        "outputId": "562f2b96-d813-40a1-ca72-59aa5f1ca267"
      },
      "source": [
        "import matplotlib.pyplot as plt\n",
        "plt.hist(tab_count)"
      ],
      "execution_count": null,
      "outputs": [
        {
          "output_type": "execute_result",
          "data": {
            "text/plain": [
              "(array([   0.,    0.,    0.,    0.,    0., 1504.,    0.,    0.,    0.,\n",
              "           0.]),\n",
              " array([ 9.5,  9.6,  9.7,  9.8,  9.9, 10. , 10.1, 10.2, 10.3, 10.4, 10.5]),\n",
              " <a list of 10 Patch objects>)"
            ]
          },
          "metadata": {
            "tags": []
          },
          "execution_count": 69
        },
        {
          "output_type": "display_data",
          "data": {
            "image/png": "[encoded data removed]",
            "text/plain": [
              "<Figure size 432x288 with 1 Axes>"
            ]
          },
          "metadata": {
            "tags": [],
            "needs_background": "light"
          }
        }
      ]
    },
    {
      "cell_type": "code",
      "metadata": {
        "id": "Iin7FVZWX_2u",
        "colab": {
          "base_uri": "https://localhost:8080/"
        },
        "outputId": "a4192783-8ff0-4a19-b3ea-411e9458e3d4"
      },
      "source": [
        "print(\"overlap average\",np.average(tab_count))"
      ],
      "execution_count": null,
      "outputs": [
        {
          "output_type": "stream",
          "text": [
            "overlap average 10.0\n"
          ],
          "name": "stdout"
        }
      ]
    },
    {
      "cell_type": "markdown",
      "metadata": {
        "id": "goSonxM3K6ZJ"
      },
      "source": [
        "## Calculation of common items between datasets..."
      ]
    },
    {
      "cell_type": "code",
      "metadata": {
        "id": "MemlT8WsLCib"
      },
      "source": [
        "set_data_train_out_valid_topn_without_doublon=set({})\n",
        "for index in range(data_train_out_valid_topn_without_doublon.shape[0]):  # index de ligne\n",
        "  set_data_train_out_valid_topn_without_doublon.update(set(list(data_train_out_valid_topn_without_doublon.iloc[index])))"
      ],
      "execution_count": null,
      "outputs": []
    },
    {
      "cell_type": "code",
      "metadata": {
        "colab": {
          "base_uri": "https://localhost:8080/"
        },
        "id": "rM04eu3sMMkY",
        "outputId": "082c298d-b227-4ba8-a78c-9250ca85763a"
      },
      "source": [
        "len(set_data_train_out_valid_topn_without_doublon)"
      ],
      "execution_count": null,
      "outputs": [
        {
          "output_type": "execute_result",
          "data": {
            "text/plain": [
              "10414"
            ]
          },
          "metadata": {
            "tags": []
          },
          "execution_count": 72
        }
      ]
    },
    {
      "cell_type": "code",
      "metadata": {
        "id": "zDoBoJU_MQqe"
      },
      "source": [
        "set_data_valid_topn_without_doublon=set({})\n",
        "for index in range(data_valid_topn_without_doublon.shape[0]):  # index de ligne\n",
        "  set_data_valid_topn_without_doublon.update(set(list(data_valid_topn_without_doublon.iloc[index])))"
      ],
      "execution_count": null,
      "outputs": []
    },
    {
      "cell_type": "code",
      "metadata": {
        "colab": {
          "base_uri": "https://localhost:8080/"
        },
        "id": "7OrmJiUaRPlh",
        "outputId": "a97ae4bd-1184-435e-f18f-320b4c482c46"
      },
      "source": [
        "len(set_data_valid_topn_without_doublon)"
      ],
      "execution_count": null,
      "outputs": [
        {
          "output_type": "execute_result",
          "data": {
            "text/plain": [
              "6039"
            ]
          },
          "metadata": {
            "tags": []
          },
          "execution_count": 74
        }
      ]
    },
    {
      "cell_type": "code",
      "metadata": {
        "colab": {
          "base_uri": "https://localhost:8080/"
        },
        "id": "zmUHq84rMp9Q",
        "outputId": "8db70274-db0c-457c-c4e3-40aab50e23ea"
      },
      "source": [
        "len(set_data_valid_topn_without_doublon&set_data_train_out_valid_topn_without_doublon)"
      ],
      "execution_count": null,
      "outputs": [
        {
          "output_type": "execute_result",
          "data": {
            "text/plain": [
              "5277"
            ]
          },
          "metadata": {
            "tags": []
          },
          "execution_count": 75
        }
      ]
    },
    {
      "cell_type": "code",
      "metadata": {
        "id": "xg8GMVnBMzuf"
      },
      "source": [
        "set_data_test_topn_without_doublon_20=set({})\n",
        "for index in range(data_test_topn_without_doublon.shape[0]):  # index de ligne\n",
        "  if np.count_nonzero(data_test_topn_without_doublon.iloc[index]) > THRESHOLD_HISTORY:\n",
        "    set_data_test_topn_without_doublon_20.update(set(list(data_test_topn_without_doublon.iloc[index])))"
      ],
      "execution_count": null,
      "outputs": []
    },
    {
      "cell_type": "code",
      "metadata": {
        "colab": {
          "base_uri": "https://localhost:8080/"
        },
        "id": "Vd6PHhu7N-rm",
        "outputId": "c2ab4685-5397-41ef-fd32-20c91227961e"
      },
      "source": [
        "len(set_data_test_topn_without_doublon_20)"
      ],
      "execution_count": null,
      "outputs": [
        {
          "output_type": "execute_result",
          "data": {
            "text/plain": [
              "6515"
            ]
          },
          "metadata": {
            "tags": []
          },
          "execution_count": 77
        }
      ]
    },
    {
      "cell_type": "code",
      "metadata": {
        "colab": {
          "base_uri": "https://localhost:8080/"
        },
        "id": "PIDEzcQrOD9W",
        "outputId": "40175c59-e601-48ad-9d30-6b77c11f757b"
      },
      "source": [
        "len(set_data_valid_topn_without_doublon&set_data_test_topn_without_doublon_20)"
      ],
      "execution_count": null,
      "outputs": [
        {
          "output_type": "execute_result",
          "data": {
            "text/plain": [
              "3952"
            ]
          },
          "metadata": {
            "tags": []
          },
          "execution_count": 78
        }
      ]
    },
    {
      "cell_type": "markdown",
      "metadata": {
        "id": "U_aUO_cdOpVd"
      },
      "source": [
        "## Function for counting repetition"
      ]
    },
    {
      "cell_type": "code",
      "metadata": {
        "id": "es2UHKKq7yz5"
      },
      "source": [
        "def count_without_doublon_up_threshold(dataset):\n",
        "  '''\n",
        "  '''\n",
        "  count_short,count_loop=0,0\n",
        "  tab_len=[]\n",
        "  tab_compare=[]\n",
        "  for i in range(len(dataset)):\n",
        "    seq=dataset.iloc[i]\n",
        "    if np.count_nonzero(seq) > THRESHOLD_HISTORY:\n",
        "      count_loop+=1\n",
        "      tab_len.append(len(np.unique(seq)))\n",
        "      if len(np.unique(seq)) <= THRESHOLD_HISTORY:      \n",
        "        count_short+=1\n",
        "      else:\n",
        "        tab_compare.append(seq)  \n",
        "    else:\n",
        "      continue    \n",
        "  \n",
        "  return(count_loop-count_short)    "
      ],
      "execution_count": null,
      "outputs": []
    },
    {
      "cell_type": "code",
      "metadata": {
        "colab": {
          "base_uri": "https://localhost:8080/"
        },
        "id": "UflxYu457jhf",
        "outputId": "80127e00-bf1f-4725-9c50-eb90c8366479"
      },
      "source": [
        "count_without_doublon_up_threshold(data_train_out_valid_topn)"
      ],
      "execution_count": null,
      "outputs": [
        {
          "output_type": "execute_result",
          "data": {
            "text/plain": [
              "6410"
            ]
          },
          "metadata": {
            "tags": []
          },
          "execution_count": 80
        }
      ]
    },
    {
      "cell_type": "code",
      "metadata": {
        "colab": {
          "base_uri": "https://localhost:8080/"
        },
        "id": "hku9WZZc8PDb",
        "outputId": "4e33cc36-c6ef-4b24-a29a-ab56f82d7248"
      },
      "source": [
        "count_without_doublon_up_threshold(data_valid_topn)"
      ],
      "execution_count": null,
      "outputs": [
        {
          "output_type": "execute_result",
          "data": {
            "text/plain": [
              "685"
            ]
          },
          "metadata": {
            "tags": []
          },
          "execution_count": 81
        }
      ]
    },
    {
      "cell_type": "code",
      "metadata": {
        "colab": {
          "base_uri": "https://localhost:8080/"
        },
        "id": "4wQln1eb8ZWh",
        "outputId": "5bcbcac7-a011-4ed8-c053-b964908ad3fd"
      },
      "source": [
        "len(data_train_out_valid_topn_without_doublon)"
      ],
      "execution_count": null,
      "outputs": [
        {
          "output_type": "execute_result",
          "data": {
            "text/plain": [
              "5676"
            ]
          },
          "metadata": {
            "tags": []
          },
          "execution_count": 82
        }
      ]
    },
    {
      "cell_type": "code",
      "metadata": {
        "colab": {
          "base_uri": "https://localhost:8080/"
        },
        "id": "5cJOG-er8fGQ",
        "outputId": "58d2b70b-51bf-4f10-8ede-b859e5350ef3"
      },
      "source": [
        "len(data_valid_topn_without_doublon)"
      ],
      "execution_count": null,
      "outputs": [
        {
          "output_type": "execute_result",
          "data": {
            "text/plain": [
              "1419"
            ]
          },
          "metadata": {
            "tags": []
          },
          "execution_count": 83
        }
      ]
    },
    {
      "cell_type": "markdown",
      "metadata": {
        "id": "m6j341kmMLoa"
      },
      "source": [
        "Histogram"
      ]
    },
    {
      "cell_type": "code",
      "metadata": {
        "id": "7xlXkhG2MCJp"
      },
      "source": [
        "def get_histo(dataset):\n",
        "  '''\n",
        "  '''\n",
        "  tab=[]\n",
        "  for i in range(len(dataset)):\n",
        "    seq=list(dataset.iloc[i])\n",
        "    # on veut le nbre d'items unique sans compter les 0 qui ne repréente pas un item\n",
        "    if 0 in seq:\n",
        "      tab.append(seq.index(0))\n",
        "    else:\n",
        "      tab.append(len(seq))\n",
        "  return tab    "
      ],
      "execution_count": null,
      "outputs": []
    },
    {
      "cell_type": "code",
      "metadata": {
        "id": "3WvGZAY7MmoJ"
      },
      "source": [
        "tab_len_test=get_histo(data_test_topn_without_doublon)"
      ],
      "execution_count": null,
      "outputs": []
    },
    {
      "cell_type": "code",
      "metadata": {
        "colab": {
          "base_uri": "https://localhost:8080/"
        },
        "id": "2koVKVQ2XBgB",
        "outputId": "a8fdbe52-4d7a-4209-f505-6fceaa549d74"
      },
      "source": [
        "0 in list(data_test_topn.iloc[2])"
      ],
      "execution_count": null,
      "outputs": [
        {
          "output_type": "execute_result",
          "data": {
            "text/plain": [
              "True"
            ]
          },
          "metadata": {
            "tags": []
          },
          "execution_count": 86
        }
      ]
    },
    {
      "cell_type": "code",
      "metadata": {
        "colab": {
          "base_uri": "https://localhost:8080/"
        },
        "id": "wTgQ0pOVTE3O",
        "outputId": "7e12c284-5287-4ca0-92d4-a36c98fd72b1"
      },
      "source": [
        "tab_len_test.count(20)"
      ],
      "execution_count": null,
      "outputs": [
        {
          "output_type": "execute_result",
          "data": {
            "text/plain": [
              "1504"
            ]
          },
          "metadata": {
            "tags": []
          },
          "execution_count": 87
        }
      ]
    },
    {
      "cell_type": "code",
      "metadata": {
        "colab": {
          "base_uri": "https://localhost:8080/"
        },
        "id": "uuJ12o5jQ6-j",
        "outputId": "d07c1532-a863-4da3-de96-aca1f7a474ce"
      },
      "source": [
        "plt.figure(figsize=(12,10))\n",
        "plt.hist(tab_len_test,bins=19,range=(2,20),align='right')"
      ],
      "execution_count": null,
      "outputs": [
        {
          "output_type": "execute_result",
          "data": {
            "text/plain": [
              "(array([29879., 17704., 12203.,  9347.,  7359.,  6171.,  5104.,  4326.,\n",
              "         3940.,  3389.,  3102.,  2805.,  2663.,  2609.,  2498.,  2485.,\n",
              "         2379.,  1890.,  1504.]),\n",
              " array([ 2.        ,  2.94736842,  3.89473684,  4.84210526,  5.78947368,\n",
              "         6.73684211,  7.68421053,  8.63157895,  9.57894737, 10.52631579,\n",
              "        11.47368421, 12.42105263, 13.36842105, 14.31578947, 15.26315789,\n",
              "        16.21052632, 17.15789474, 18.10526316, 19.05263158, 20.        ]),\n",
              " <a list of 19 Patch objects>)"
            ]
          },
          "metadata": {
            "tags": []
          },
          "execution_count": 88
        },
        {
          "output_type": "display_data",
          "data": {
            "image/png": "[encoded data removed]",
            "text/plain": [
              "<Figure size 864x720 with 1 Axes>"
            ]
          },
          "metadata": {
            "tags": [],
            "needs_background": "light"
          }
        }
      ]
    },
    {
      "cell_type": "code",
      "metadata": {
        "colab": {
          "base_uri": "https://localhost:8080/"
        },
        "id": "SeuPeHY2_FtH",
        "outputId": "4a48c77b-c7b1-4d32-82cb-bc702cbb9911"
      },
      "source": [
        "tab=list(data_train_out_valid_topn.iloc[0])\n",
        "print(tab)\n",
        "print(list(np.unique(tab)))"
      ],
      "execution_count": null,
      "outputs": [
        {
          "output_type": "stream",
          "text": [
            "[796, 3692, 2060, 14734, 15084, 4030, 80, 4167, 27285, 4812, 4024, 796, 4024, 4056, 61715, 4010, 395, 28554, 395, 796]\n",
            "[80, 395, 796, 2060, 3692, 4010, 4024, 4030, 4056, 4167, 4812, 14734, 15084, 27285, 28554, 61715]\n"
          ],
          "name": "stdout"
        }
      ]
    },
    {
      "cell_type": "code",
      "metadata": {
        "colab": {
          "base_uri": "https://localhost:8080/"
        },
        "id": "XT9WrCL6Kcv7",
        "outputId": "5a978a03-4c44-4bbc-8ab5-138a7375887b"
      },
      "source": [
        "len(list(np.unique(tab)))"
      ],
      "execution_count": null,
      "outputs": [
        {
          "output_type": "execute_result",
          "data": {
            "text/plain": [
              "16"
            ]
          },
          "metadata": {
            "tags": []
          },
          "execution_count": 90
        }
      ]
    },
    {
      "cell_type": "markdown",
      "metadata": {
        "id": "kQOmMliLNaJV"
      },
      "source": [
        "##Backup results"
      ]
    },
    {
      "cell_type": "code",
      "metadata": {
        "id": "3MZ4X9StaKPq"
      },
      "source": [
        "#stockage des résultats\n",
        "my_path_publication=\"/content/drive/My Drive/ColabNotebooks/publication/\"\n",
        "\n",
        "outfile=\"results.csv\"\n",
        "with open(my_path_publication+outfile, 'a') as f:\n",
        "  f.write(str(datetime.datetime.now())+'\\t'+str(data_select)+'\\t'+str(round(precision_at_k,5))+'\\t'+str(round(MRR,5))+'\\t'+str(round(MAP,5))+'\\t'+str(round(average_DCG,5))+\\\n",
        "          '\\t'+str(count_user)+'\\t'+str(max_sequence_train)+'\\t'+str(max_sequence_label)+'\\t'+str(THRESHOLD_ITEM)+'\\t'+str(THRESHOLD_HISTORY)+'\\t'+str(SHUFFLE_TEST)+\\\n",
        "          '\\t'+str(LSTM_size)+'\\t'+str(epochs)+'\\t'+str(embedding_size)+'\\t'+str(dropout_lstm_value)+'\\t'+str(dropout_layer_value)+'\\t'+str(reg)+\\\n",
        "          '\\t'+str(ratio_sampling_top)+'\\t'+str(num_prediction)+'\\t'+str(Shift)+'\\t'+str(batchsize)+'\\t'+'target_one_lastFM_1k_LSTM_Embeddings_multilabel_session_dataset_filtered_item.ipynb'+'\\n')\n",
        "f.close()"
      ],
      "execution_count": null,
      "outputs": []
    },
    {
      "cell_type": "markdown",
      "metadata": {
        "id": "mz2IQNiXNfbN"
      },
      "source": [
        "##Inference"
      ]
    },
    {
      "cell_type": "code",
      "metadata": {
        "id": "h6_z_vLOVhNs"
      },
      "source": [
        "# Filtrage test pour les utilisateurs à historique > 20\n",
        "data_test_above_20=[]\n",
        "for i in data_test_topn_without_doublon.index:\n",
        "  #print(data_test.loc[i])\n",
        "  if np.count_nonzero(data_test_topn_without_doublon.loc[i])>THRESHOLD_HISTORY:\n",
        "    data_test_above_20.append(list(data_test_topn_without_doublon.loc[i]))\n",
        "  "
      ],
      "execution_count": null,
      "outputs": []
    },
    {
      "cell_type": "code",
      "metadata": {
        "colab": {
          "base_uri": "https://localhost:8080/"
        },
        "id": "iE4nuaUKXzPL",
        "outputId": "e8834e89-d0eb-46d8-fe95-afea10cd3a32"
      },
      "source": [
        "len_test=len(data_test_above_20)\n",
        "print(len_test)"
      ],
      "execution_count": null,
      "outputs": [
        {
          "output_type": "stream",
          "text": [
            "1504\n"
          ],
          "name": "stdout"
        }
      ]
    },
    {
      "cell_type": "code",
      "metadata": {
        "colab": {
          "base_uri": "https://localhost:8080/"
        },
        "id": "hTZpj49uUhAT",
        "outputId": "e3370d42-98e6-4b1d-9b39-6ee5ec810b3c"
      },
      "source": [
        "# inférence\n",
        "couverture=[]\n",
        "SHUFFLE_TEST=True\n",
        "dico_inf={}\n",
        "dico_inf_shuffle={}\n",
        "#user=np.random.choice(list(range(len_test)),1)[0]\n",
        "user=1154\n",
        "print(\"user\",user)\n",
        "history_int=[song_topn_2_int[k] for k in data_test_above_20[user] if k!=0]\n",
        "seq_in=history_int[-(max_sequence_train+max_sequence_label):-max_sequence_label] # sous-seq de longueur max_sequence_train\n",
        "print(\"seq_in int\", seq_in)\n",
        "if SHUFFLE_TEST:\n",
        "  np.random.shuffle(seq_in)\n",
        "save_index=history_int[:max_sequence_train]\n",
        "count_reco=0\n",
        "while count_reco < num_prediction:\n",
        "  x = sequence.pad_sequences([seq_in], maxlen=max_sequence_train)\n",
        "  prediction=model.predict(x)\n",
        "  for index in save_index:\n",
        "    prediction[0][index]=0 \n",
        "  index_target=np.argmax(prediction[0])\n",
        "  save_index.append(index_target)\n",
        "  #print(\"index_target\",index_target)\n",
        "  couverture.append(index_target)\n",
        "  if userid in dico_reco:\n",
        "    dico_reco[userid].append(index_target)\n",
        "  else:\n",
        "    dico_reco[userid]=[index_target]    \n",
        "  seq_in=seq_in[1:]+[index_target]\n",
        "  print(\"seq_in\",seq_in)\n",
        "  count_reco+=1\n",
        "\n",
        "if SHUFFLE:\n",
        "  dico_inf_shuffle[user]=couverture\n",
        "elif not SHUFFLE :\n",
        "  dico_inf[user]=couverture \n",
        "\n",
        "print(\"prediction\",couverture)\n",
        "label=label=history_int[-new_max_sequence_label:]\n",
        "print(\"label\",label)\n",
        "print(\"nb vrais positifs\",len(set(couverture)&set(label)))\n",
        "  "
      ],
      "execution_count": null,
      "outputs": [
        {
          "output_type": "stream",
          "text": [
            "user 1154\n",
            "seq_in int [2343, 2245, 753, 546, 827, 2350, 711, 703, 20048, 1168]\n",
            "seq_in [20048, 827, 2245, 711, 2343, 1168, 703, 2350, 753, 25]\n",
            "seq_in [827, 2245, 711, 2343, 1168, 703, 2350, 753, 25, 510]\n",
            "seq_in [2245, 711, 2343, 1168, 703, 2350, 753, 25, 510, 495]\n",
            "seq_in [711, 2343, 1168, 703, 2350, 753, 25, 510, 495, 1588]\n",
            "seq_in [2343, 1168, 703, 2350, 753, 25, 510, 495, 1588, 293]\n",
            "seq_in [1168, 703, 2350, 753, 25, 510, 495, 1588, 293, 71]\n",
            "seq_in [703, 2350, 753, 25, 510, 495, 1588, 293, 71, 744]\n",
            "seq_in [2350, 753, 25, 510, 495, 1588, 293, 71, 744, 49]\n",
            "seq_in [753, 25, 510, 495, 1588, 293, 71, 744, 49, 1436]\n",
            "seq_in [25, 510, 495, 1588, 293, 71, 744, 49, 1436, 1417]\n",
            "prediction [25, 510, 495, 1588, 293, 71, 744, 49, 1436, 1417]\n",
            "label [2245, 753, 546, 827, 2350, 711, 703, 20048, 1168, 14086]\n",
            "nb vrais positifs 0\n"
          ],
          "name": "stdout"
        }
      ]
    },
    {
      "cell_type": "markdown",
      "metadata": {
        "id": "1RZ31J6eTn5y"
      },
      "source": [
        "## Loss study\n",
        "*   Display Loss for validation"
      ]
    },
    {
      "cell_type": "code",
      "metadata": {
        "id": "31-hPrUeT_Ut"
      },
      "source": [
        "# étude du loss sur l'ensemble de validation\n",
        "# les labels sont fournis par le dictionnaire labels_valid\n",
        "# les predictions sont à construire\n",
        "from keras import utils\n",
        "tab_loss=[]\n",
        "tab_yhat=[]\n",
        "tab_ytrue=[]\n",
        "\n",
        "cce = tf.keras.losses.CategoricalCrossentropy()\n",
        "scce = tf.keras.losses.SparseCategoricalCrossentropy()\n",
        "for row in validation_generator:\n",
        "  for i in range(len(row[0])):\n",
        "    seq=sequence.pad_sequences([row[0][i]], maxlen=max_sequence_train)\n",
        "    y_hat=model.predict(seq)\n",
        "    y_true=row[1][i]\n",
        "    loss=scce(tf.convert_to_tensor(y_true),tf.convert_to_tensor(y_hat[0]))\n",
        "    tab_loss.append(keras.backend.eval(loss))\n",
        "    if i == 10:\n",
        "      break\n",
        "  break     \n"
      ],
      "execution_count": null,
      "outputs": []
    },
    {
      "cell_type": "code",
      "metadata": {
        "colab": {
          "base_uri": "https://localhost:8080/"
        },
        "id": "R-VOx3jm0CRN",
        "outputId": "eea1bff4-d20a-426e-a344-a0d6719ca169"
      },
      "source": [
        "# méthode plus rapide...\n",
        "tab_loss_log=[]\n",
        "tab_yhat=[]\n",
        "tab_ytrue=[]\n",
        "\n",
        "count=0\n",
        "for row in validation_generator:\n",
        "  for i in range(len(row[0])):\n",
        "    seq=sequence.pad_sequences([row[0][i]], maxlen=max_sequence_train)\n",
        "    y_hat=model.predict(seq)\n",
        "    y_true=row[1][i]\n",
        "    loss=-np.log(y_hat[0][y_true[0]])\n",
        "    tab_loss_log.append(loss)\n",
        "    count+=1\n",
        "  if count%1000 == 0:\n",
        "    print(count)  \n",
        "    "
      ],
      "execution_count": null,
      "outputs": [
        {
          "output_type": "stream",
          "text": [
            "8000\n"
          ],
          "name": "stdout"
        }
      ]
    },
    {
      "cell_type": "code",
      "metadata": {
        "colab": {
          "base_uri": "https://localhost:8080/"
        },
        "id": "4hVGJmQX5ELh",
        "outputId": "577f6beb-34c3-443a-b02e-d2ffcff33189"
      },
      "source": [
        "plt.hist(tab_loss_log)"
      ],
      "execution_count": null,
      "outputs": [
        {
          "output_type": "execute_result",
          "data": {
            "text/plain": [
              "(array([2547., 3186., 3065., 2338., 1426.,  891.,  437.,  193.,   51.,\n",
              "          10.]),\n",
              " array([1.0334824e-03, 1.1773461e+00, 2.3536587e+00, 3.5299711e+00,\n",
              "        4.7062836e+00, 5.8825965e+00, 7.0589089e+00, 8.2352219e+00,\n",
              "        9.4115343e+00, 1.0587847e+01, 1.1764159e+01], dtype=float32),\n",
              " <a list of 10 Patch objects>)"
            ]
          },
          "metadata": {
            "tags": []
          },
          "execution_count": 97
        },
        {
          "output_type": "display_data",
          "data": {
            "image/png": "[encoded data removed]",
            "text/plain": [
              "<Figure size 432x288 with 1 Axes>"
            ]
          },
          "metadata": {
            "tags": [],
            "needs_background": "light"
          }
        }
      ]
    },
    {
      "cell_type": "code",
      "metadata": {
        "colab": {
          "base_uri": "https://localhost:8080/"
        },
        "id": "bcllHAbf6Vd2",
        "outputId": "5ecc6ea1-14a3-4087-9a42-6d24aff1f4d9"
      },
      "source": [
        "plt.hist(tab_loss_log,range=(0,5e-5),bins=30)"
      ],
      "execution_count": null,
      "outputs": [
        {
          "output_type": "execute_result",
          "data": {
            "text/plain": [
              "(array([0., 0., 0., 0., 0., 0., 0., 0., 0., 0., 0., 0., 0., 0., 0., 0., 0.,\n",
              "        0., 0., 0., 0., 0., 0., 0., 0., 0., 0., 0., 0., 0.]),\n",
              " array([0.0000000e+00, 1.6666667e-06, 3.3333333e-06, 4.9999999e-06,\n",
              "        6.6666666e-06, 8.3333334e-06, 9.9999997e-06, 1.1666667e-05,\n",
              "        1.3333333e-05, 1.5000000e-05, 1.6666667e-05, 1.8333334e-05,\n",
              "        1.9999999e-05, 2.1666667e-05, 2.3333334e-05, 2.4999999e-05,\n",
              "        2.6666667e-05, 2.8333334e-05, 2.9999999e-05, 3.1666666e-05,\n",
              "        3.3333334e-05, 3.5000001e-05, 3.6666668e-05, 3.8333332e-05,\n",
              "        3.9999999e-05, 4.1666666e-05, 4.3333333e-05, 4.5000001e-05,\n",
              "        4.6666668e-05, 4.8333335e-05, 4.9999999e-05], dtype=float32),\n",
              " <a list of 30 Patch objects>)"
            ]
          },
          "metadata": {
            "tags": []
          },
          "execution_count": 98
        },
        {
          "output_type": "display_data",
          "data": {
            "image/png": "[encoded data removed]",
            "text/plain": [
              "<Figure size 432x288 with 1 Axes>"
            ]
          },
          "metadata": {
            "tags": [],
            "needs_background": "light"
          }
        }
      ]
    },
    {
      "cell_type": "code",
      "metadata": {
        "colab": {
          "base_uri": "https://localhost:8080/"
        },
        "id": "puysR0Z48L8I",
        "outputId": "43f5efe7-7a76-4291-e14d-7ab4fa967b73"
      },
      "source": [
        "plt.hist(tab_loss_log,range=(1e-3,16),bins=30)"
      ],
      "execution_count": null,
      "outputs": [
        {
          "output_type": "execute_result",
          "data": {
            "text/plain": [
              "(array([1.025e+03, 1.251e+03, 1.363e+03, 1.444e+03, 1.508e+03, 1.424e+03,\n",
              "        1.290e+03, 1.125e+03, 8.310e+02, 7.290e+02, 5.580e+02, 4.620e+02,\n",
              "        3.660e+02, 2.600e+02, 1.920e+02, 1.360e+02, 8.500e+01, 4.800e+01,\n",
              "        2.700e+01, 1.200e+01, 5.000e+00, 2.000e+00, 1.000e+00, 0.000e+00,\n",
              "        0.000e+00, 0.000e+00, 0.000e+00, 0.000e+00, 0.000e+00, 0.000e+00]),\n",
              " array([1.00000e-03, 5.34300e-01, 1.06760e+00, 1.60090e+00, 2.13420e+00,\n",
              "        2.66750e+00, 3.20080e+00, 3.73410e+00, 4.26740e+00, 4.80070e+00,\n",
              "        5.33400e+00, 5.86730e+00, 6.40060e+00, 6.93390e+00, 7.46720e+00,\n",
              "        8.00050e+00, 8.53380e+00, 9.06710e+00, 9.60040e+00, 1.01337e+01,\n",
              "        1.06670e+01, 1.12003e+01, 1.17336e+01, 1.22669e+01, 1.28002e+01,\n",
              "        1.33335e+01, 1.38668e+01, 1.44001e+01, 1.49334e+01, 1.54667e+01,\n",
              "        1.60000e+01], dtype=float32),\n",
              " <a list of 30 Patch objects>)"
            ]
          },
          "metadata": {
            "tags": []
          },
          "execution_count": 99
        },
        {
          "output_type": "display_data",
          "data": {
            "image/png": "[encoded data removed]",
            "text/plain": [
              "<Figure size 432x288 with 1 Axes>"
            ]
          },
          "metadata": {
            "tags": [],
            "needs_background": "light"
          }
        }
      ]
    },
    {
      "cell_type": "code",
      "metadata": {
        "colab": {
          "base_uri": "https://localhost:8080/"
        },
        "id": "8Ou4xJWl5WWC",
        "outputId": "9a193dcb-b8b0-4354-d681-954df850aea6"
      },
      "source": [
        "from scipy import stats\n",
        "stats.describe(tab_loss_log)"
      ],
      "execution_count": null,
      "outputs": [
        {
          "output_type": "execute_result",
          "data": {
            "text/plain": [
              "DescribeResult(nobs=14144, minmax=(0.0010334824, 11.764159), mean=3.15123, variance=4.1771545, skewness=0.735062837600708, kurtosis=0.15099254393622052)"
            ]
          },
          "metadata": {
            "tags": []
          },
          "execution_count": 100
        }
      ]
    },
    {
      "cell_type": "code",
      "metadata": {
        "colab": {
          "base_uri": "https://localhost:8080/"
        },
        "id": "Gccf6fh282FW",
        "outputId": "0b789370-2019-4f46-dadb-9403371d0997"
      },
      "source": [
        "# moyenne loss par batch\n",
        "tab_loss_log_mean=[]\n",
        "nb_batch=int(len(tab_loss_log)/batchsize)\n",
        "for i in range(nb_batch):\n",
        "  tab_loss_log_mean.append(np.average(tab_loss_log[i*batchsize:(i+1)*batchsize]))\n",
        "len(tab_loss_log_mean)"
      ],
      "execution_count": null,
      "outputs": [
        {
          "output_type": "execute_result",
          "data": {
            "text/plain": [
              "221"
            ]
          },
          "metadata": {
            "tags": []
          },
          "execution_count": 101
        }
      ]
    },
    {
      "cell_type": "code",
      "metadata": {
        "colab": {
          "base_uri": "https://localhost:8080/"
        },
        "id": "1-sjRUecBZ-E",
        "outputId": "414bd595-4da6-4e1b-e88f-36b331f30c77"
      },
      "source": [
        "stats.describe(tab_loss_log_mean)"
      ],
      "execution_count": null,
      "outputs": [
        {
          "output_type": "execute_result",
          "data": {
            "text/plain": [
              "DescribeResult(nobs=221, minmax=(2.4865985, 4.09344), mean=3.15123, variance=0.06413205, skewness=0.36381176114082336, kurtosis=0.4702600111151889)"
            ]
          },
          "metadata": {
            "tags": []
          },
          "execution_count": 102
        }
      ]
    },
    {
      "cell_type": "code",
      "metadata": {
        "colab": {
          "base_uri": "https://localhost:8080/"
        },
        "id": "40L0_HimBSl2",
        "outputId": "04f3de4b-11cc-44b3-bd88-bdd030c1705b"
      },
      "source": [
        "plt.hist(tab_loss_log_mean)"
      ],
      "execution_count": null,
      "outputs": [
        {
          "output_type": "execute_result",
          "data": {
            "text/plain": [
              "(array([ 3., 12., 37., 60., 49., 33., 17.,  7.,  2.,  1.]),\n",
              " array([2.4865985, 2.6472826, 2.8079667, 2.968651 , 3.1293352, 3.2900193,\n",
              "        3.4507034, 3.6113875, 3.7720718, 3.932756 , 4.09344  ],\n",
              "       dtype=float32),\n",
              " <a list of 10 Patch objects>)"
            ]
          },
          "metadata": {
            "tags": []
          },
          "execution_count": 103
        },
        {
          "output_type": "display_data",
          "data": {
            "image/png": "[encoded data removed]",
            "text/plain": [
              "<Figure size 432x288 with 1 Axes>"
            ]
          },
          "metadata": {
            "tags": [],
            "needs_background": "light"
          }
        }
      ]
    },
    {
      "cell_type": "markdown",
      "metadata": {
        "id": "OXts3PP234uC"
      },
      "source": [
        "## Sandbox for calculation on cross entropy"
      ]
    },
    {
      "cell_type": "code",
      "metadata": {
        "colab": {
          "base_uri": "https://localhost:8080/"
        },
        "id": "-yCs7quwctQr",
        "outputId": "c80ad454-8427-4c10-cf97-0367f74164b1"
      },
      "source": [
        "loss = scce(\n",
        "  tf.convert_to_tensor([0, 1, 2]),\n",
        "  tf.convert_to_tensor([[.9, .05, .05], [.5, .89, .6], [.05, .01, .94]]))\n",
        "print('Loss: ', K.get_value(loss))  # Loss: 0.3239\n",
        "loss = cce(\n",
        "  tf.convert_to_tensor([[1,0,0],[0,1,0],[0,0,1]]),\n",
        "  tf.convert_to_tensor([[.9, .05, .05], [.5, .89, .6], [.05, .01, .94]]))\n",
        "print('Loss: ', K.get_value(loss))  # Loss: 0.3239"
      ],
      "execution_count": null,
      "outputs": [
        {
          "output_type": "stream",
          "text": [
            "Loss:  0.32396814\n",
            "Loss:  0.32396814\n"
          ],
          "name": "stdout"
        }
      ]
    },
    {
      "cell_type": "code",
      "metadata": {
        "colab": {
          "base_uri": "https://localhost:8080/"
        },
        "id": "HJA0J28x9R8G",
        "outputId": "3b99c480-fe54-4a0b-afe6-7156910d7c85"
      },
      "source": [
        "import keras.backend as K\n",
        "\n",
        "test_cce = tf.keras.losses.CategoricalCrossentropy()\n",
        "test_scce = tf.keras.losses.SparseCategoricalCrossentropy()\n",
        "tab_labels=[0,1,2,3,4,5,6,7,8,9]\n",
        "y_true=[0,0,0,1,0,0,0,0,0,0]\n",
        "y_true_sparse=[3]\n",
        "\n",
        "y_hat=[[0.22,0.01,0.01,0.7,0.01,0.01,0.01,0.01,0.01,0.01]]\n",
        "K.eval(test_cce(y_true,y_hat))\n",
        "K.eval(test_scce(tf.convert_to_tensor(y_true_sparse),tf.convert_to_tensor(y_hat)))\n"
      ],
      "execution_count": null,
      "outputs": [
        {
          "output_type": "execute_result",
          "data": {
            "text/plain": [
              "0.35667497"
            ]
          },
          "metadata": {
            "tags": []
          },
          "execution_count": 105
        }
      ]
    },
    {
      "cell_type": "code",
      "metadata": {
        "colab": {
          "base_uri": "https://localhost:8080/"
        },
        "id": "NSpxU2hOPEMp",
        "outputId": "08dafa17-d4f9-405d-91b3-267eae4849d3"
      },
      "source": [
        "from sklearn.metrics import log_loss\n",
        "log_loss(y_true_sparse,y_hat, labels=tab_labels)"
      ],
      "execution_count": null,
      "outputs": [
        {
          "output_type": "execute_result",
          "data": {
            "text/plain": [
              "0.35667494393873245"
            ]
          },
          "metadata": {
            "tags": []
          },
          "execution_count": 106
        }
      ]
    },
    {
      "cell_type": "code",
      "metadata": {
        "colab": {
          "base_uri": "https://localhost:8080/"
        },
        "id": "6PpWQF-soGph",
        "outputId": "d53ee685-735c-4a67-f69c-9e59f206ccec"
      },
      "source": [
        "from IPython.display import Javascript\n",
        "Javascript(\"Jupyter.notebook.execute_cells([48])\")"
      ],
      "execution_count": null,
      "outputs": [
        {
          "output_type": "execute_result",
          "data": {
            "application/javascript": [
              "Jupyter.notebook.execute_cells([48])"
            ],
            "text/plain": [
              "<IPython.core.display.Javascript object>"
            ]
          },
          "metadata": {
            "tags": []
          },
          "execution_count": 107
        }
      ]
    },
    {
      "cell_type": "code",
      "metadata": {
        "id": "hBucjjHDVl81"
      },
      "source": [
        ""
      ],
      "execution_count": null,
      "outputs": []
    }
  ]
}